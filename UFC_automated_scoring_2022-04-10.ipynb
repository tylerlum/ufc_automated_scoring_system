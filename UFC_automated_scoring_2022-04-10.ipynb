{
  "nbformat": 4,
  "nbformat_minor": 0,
  "metadata": {
    "kernelspec": {
      "display_name": "Python 3",
      "language": "python",
      "name": "python3"
    },
    "language_info": {
      "codemirror_mode": {
        "name": "ipython",
        "version": 3
      },
      "file_extension": ".py",
      "mimetype": "text/x-python",
      "name": "python",
      "nbconvert_exporter": "python",
      "pygments_lexer": "ipython3",
      "version": "3.6.9"
    },
    "colab": {
      "name": "UFC_automated_scoring.ipynb",
      "provenance": [],
      "collapsed_sections": [],
      "include_colab_link": true
    },
    "accelerator": "GPU"
  },
  "cells": [
    {
      "cell_type": "markdown",
      "metadata": {
        "id": "view-in-github",
        "colab_type": "text"
      },
      "source": [
        "<a href=\"https://colab.research.google.com/github/tylerlum/ufc_automated_scoring_system/blob/main/UFC_automated_scoring_2022-04-10.ipynb\" target=\"_parent\"><img src=\"https://colab.research.google.com/assets/colab-badge.svg\" alt=\"Open In Colab\"/></a>"
      ]
    },
    {
      "cell_type": "markdown",
      "metadata": {
        "id": "q2Ink0cSOSRR"
      },
      "source": [
        "# UFC Automated Scoring\n",
        "\n",
        "The goal of this notebook is to:\n",
        "* Read in stored, scraped UFC data and convert it into a dataset ready for ML models\n",
        "* Train, test, and analyze ML models\n",
        "\n",
        "Functional as of April 2021"
      ]
    },
    {
      "cell_type": "markdown",
      "metadata": {
        "id": "XIv8RUYoOSRW"
      },
      "source": [
        "## Read in stored data"
      ]
    },
    {
      "cell_type": "code",
      "metadata": {
        "id": "Ws0PWbZMOSRX"
      },
      "source": [
        "import numpy as np\n",
        "import pandas as pd"
      ],
      "execution_count": 1,
      "outputs": []
    },
    {
      "cell_type": "code",
      "metadata": {
        "id": "3MgHHwyvOSRX"
      },
      "source": [
        "STORED_FIGHT_TABLE = pd.read_csv('FIGHT_TABLE_NUM_EVENTS_All_DATA_MODE_Summary_22-04-2021_11:08:22.csv')"
      ],
      "execution_count": 2,
      "outputs": []
    },
    {
      "cell_type": "code",
      "metadata": {
        "colab": {
          "base_uri": "https://localhost:8080/",
          "height": 592
        },
        "id": "PlBKZMo0OSRX",
        "outputId": "436b2cca-ae6e-4102-8f31-69ce19be41bc"
      },
      "source": [
        "STORED_FIGHT_TABLE"
      ],
      "execution_count": 3,
      "outputs": [
        {
          "output_type": "execute_result",
          "data": {
            "text/plain": [
              "      Fighter 0 KD  Fighter 1 KD  Fighter 0 Sig. str.  Fighter 1 Sig. str.  \\\n",
              "0                0             0                  150                   62   \n",
              "1                0             0                  105                   88   \n",
              "2                0             0                   21                   27   \n",
              "3                0             1                   66                   55   \n",
              "4                0             0                   90                   80   \n",
              "...            ...           ...                  ...                  ...   \n",
              "5888             2             0                   24                   16   \n",
              "5889             0             0                   19                   24   \n",
              "5890             0             0                   14                   13   \n",
              "5891             0             0                    9                    3   \n",
              "5892             0             0                   31                   11   \n",
              "\n",
              "      Fighter 0 Sig. str. %  Fighter 1 Sig. str. %  Fighter 0 Total str.  \\\n",
              "0                      52.0                   29.0                   169   \n",
              "1                      47.0                   45.0                   109   \n",
              "2                      44.0                   49.0                    32   \n",
              "3                      58.0                   46.0                    84   \n",
              "4                      46.0                   47.0                    90   \n",
              "...                     ...                    ...                   ...   \n",
              "5888                   68.0                   33.0                    49   \n",
              "5889                   55.0                   55.0                    95   \n",
              "5890                   35.0                   19.0                    30   \n",
              "5891                   56.0                   60.0                    17   \n",
              "5892                   70.0                   30.0                    53   \n",
              "\n",
              "      Fighter 1 Total str.  Fighter 0 Td  Fighter 1 Td  ...  Fighter 0 Leg  \\\n",
              "0                       70             4             1  ...             22   \n",
              "1                       99             0             0  ...             25   \n",
              "2                       91             0             8  ...              1   \n",
              "3                       72             3             0  ...              7   \n",
              "4                       82             0             4  ...              4   \n",
              "...                    ...           ...           ...  ...            ...   \n",
              "5888                    31             0             1  ...             12   \n",
              "5889                   145             1             2  ...              5   \n",
              "5890                    15             3             0  ...              3   \n",
              "5891                    11             1             0  ...              2   \n",
              "5892                    21             4             2  ...              4   \n",
              "\n",
              "      Fighter 1 Leg  Fighter 0 Distance  Fighter 1 Distance  Fighter 0 Clinch  \\\n",
              "0                13                 138                  59                 5   \n",
              "1                17                 103                  84                 2   \n",
              "2                 1                  14                  18                 5   \n",
              "3                17                  39                  50                 7   \n",
              "4                20                  88                  77                 2   \n",
              "...             ...                 ...                 ...               ...   \n",
              "5888              0                  17                   7                 4   \n",
              "5889              2                   4                   1                15   \n",
              "5890              0                  11                  12                 0   \n",
              "5891              0                   2                   0                 5   \n",
              "5892              1                  11                   4                 1   \n",
              "\n",
              "      Fighter 1 Clinch  Fighter 0 Ground  Fighter 1 Ground Winner  \\\n",
              "0                    3                 7                 0      0   \n",
              "1                    4                 0                 0      0   \n",
              "2                    3                 2                 6      1   \n",
              "3                    4                20                 1      0   \n",
              "4                    3                 0                 0      0   \n",
              "...                ...               ...               ...    ...   \n",
              "5888                 4                 3                 5      0   \n",
              "5889                23                 0                 0      0   \n",
              "5890                 1                 3                 0      0   \n",
              "5891                 3                 2                 0      0   \n",
              "5892                 0                19                 7      0   \n",
              "\n",
              "                     Method  \n",
              "0                     U-DEC  \n",
              "1                     U-DEC  \n",
              "2                     U-DEC  \n",
              "3                     S-DEC  \n",
              "4                     S-DEC  \n",
              "...                     ...  \n",
              "5888          KO/TKO  Punch  \n",
              "5889                  S-DEC  \n",
              "5890                  U-DEC  \n",
              "5891  SUB  Guillotine Choke  \n",
              "5892        KO/TKO  Punches  \n",
              "\n",
              "[5893 rows x 34 columns]"
            ],
            "text/html": [
              "\n",
              "  <div id=\"df-6dae3bde-1c52-469e-9fc3-b974b57d5805\">\n",
              "    <div class=\"colab-df-container\">\n",
              "      <div>\n",
              "<style scoped>\n",
              "    .dataframe tbody tr th:only-of-type {\n",
              "        vertical-align: middle;\n",
              "    }\n",
              "\n",
              "    .dataframe tbody tr th {\n",
              "        vertical-align: top;\n",
              "    }\n",
              "\n",
              "    .dataframe thead th {\n",
              "        text-align: right;\n",
              "    }\n",
              "</style>\n",
              "<table border=\"1\" class=\"dataframe\">\n",
              "  <thead>\n",
              "    <tr style=\"text-align: right;\">\n",
              "      <th></th>\n",
              "      <th>Fighter 0 KD</th>\n",
              "      <th>Fighter 1 KD</th>\n",
              "      <th>Fighter 0 Sig. str.</th>\n",
              "      <th>Fighter 1 Sig. str.</th>\n",
              "      <th>Fighter 0 Sig. str. %</th>\n",
              "      <th>Fighter 1 Sig. str. %</th>\n",
              "      <th>Fighter 0 Total str.</th>\n",
              "      <th>Fighter 1 Total str.</th>\n",
              "      <th>Fighter 0 Td</th>\n",
              "      <th>Fighter 1 Td</th>\n",
              "      <th>...</th>\n",
              "      <th>Fighter 0 Leg</th>\n",
              "      <th>Fighter 1 Leg</th>\n",
              "      <th>Fighter 0 Distance</th>\n",
              "      <th>Fighter 1 Distance</th>\n",
              "      <th>Fighter 0 Clinch</th>\n",
              "      <th>Fighter 1 Clinch</th>\n",
              "      <th>Fighter 0 Ground</th>\n",
              "      <th>Fighter 1 Ground</th>\n",
              "      <th>Winner</th>\n",
              "      <th>Method</th>\n",
              "    </tr>\n",
              "  </thead>\n",
              "  <tbody>\n",
              "    <tr>\n",
              "      <th>0</th>\n",
              "      <td>0</td>\n",
              "      <td>0</td>\n",
              "      <td>150</td>\n",
              "      <td>62</td>\n",
              "      <td>52.0</td>\n",
              "      <td>29.0</td>\n",
              "      <td>169</td>\n",
              "      <td>70</td>\n",
              "      <td>4</td>\n",
              "      <td>1</td>\n",
              "      <td>...</td>\n",
              "      <td>22</td>\n",
              "      <td>13</td>\n",
              "      <td>138</td>\n",
              "      <td>59</td>\n",
              "      <td>5</td>\n",
              "      <td>3</td>\n",
              "      <td>7</td>\n",
              "      <td>0</td>\n",
              "      <td>0</td>\n",
              "      <td>U-DEC</td>\n",
              "    </tr>\n",
              "    <tr>\n",
              "      <th>1</th>\n",
              "      <td>0</td>\n",
              "      <td>0</td>\n",
              "      <td>105</td>\n",
              "      <td>88</td>\n",
              "      <td>47.0</td>\n",
              "      <td>45.0</td>\n",
              "      <td>109</td>\n",
              "      <td>99</td>\n",
              "      <td>0</td>\n",
              "      <td>0</td>\n",
              "      <td>...</td>\n",
              "      <td>25</td>\n",
              "      <td>17</td>\n",
              "      <td>103</td>\n",
              "      <td>84</td>\n",
              "      <td>2</td>\n",
              "      <td>4</td>\n",
              "      <td>0</td>\n",
              "      <td>0</td>\n",
              "      <td>0</td>\n",
              "      <td>U-DEC</td>\n",
              "    </tr>\n",
              "    <tr>\n",
              "      <th>2</th>\n",
              "      <td>0</td>\n",
              "      <td>0</td>\n",
              "      <td>21</td>\n",
              "      <td>27</td>\n",
              "      <td>44.0</td>\n",
              "      <td>49.0</td>\n",
              "      <td>32</td>\n",
              "      <td>91</td>\n",
              "      <td>0</td>\n",
              "      <td>8</td>\n",
              "      <td>...</td>\n",
              "      <td>1</td>\n",
              "      <td>1</td>\n",
              "      <td>14</td>\n",
              "      <td>18</td>\n",
              "      <td>5</td>\n",
              "      <td>3</td>\n",
              "      <td>2</td>\n",
              "      <td>6</td>\n",
              "      <td>1</td>\n",
              "      <td>U-DEC</td>\n",
              "    </tr>\n",
              "    <tr>\n",
              "      <th>3</th>\n",
              "      <td>0</td>\n",
              "      <td>1</td>\n",
              "      <td>66</td>\n",
              "      <td>55</td>\n",
              "      <td>58.0</td>\n",
              "      <td>46.0</td>\n",
              "      <td>84</td>\n",
              "      <td>72</td>\n",
              "      <td>3</td>\n",
              "      <td>0</td>\n",
              "      <td>...</td>\n",
              "      <td>7</td>\n",
              "      <td>17</td>\n",
              "      <td>39</td>\n",
              "      <td>50</td>\n",
              "      <td>7</td>\n",
              "      <td>4</td>\n",
              "      <td>20</td>\n",
              "      <td>1</td>\n",
              "      <td>0</td>\n",
              "      <td>S-DEC</td>\n",
              "    </tr>\n",
              "    <tr>\n",
              "      <th>4</th>\n",
              "      <td>0</td>\n",
              "      <td>0</td>\n",
              "      <td>90</td>\n",
              "      <td>80</td>\n",
              "      <td>46.0</td>\n",
              "      <td>47.0</td>\n",
              "      <td>90</td>\n",
              "      <td>82</td>\n",
              "      <td>0</td>\n",
              "      <td>4</td>\n",
              "      <td>...</td>\n",
              "      <td>4</td>\n",
              "      <td>20</td>\n",
              "      <td>88</td>\n",
              "      <td>77</td>\n",
              "      <td>2</td>\n",
              "      <td>3</td>\n",
              "      <td>0</td>\n",
              "      <td>0</td>\n",
              "      <td>0</td>\n",
              "      <td>S-DEC</td>\n",
              "    </tr>\n",
              "    <tr>\n",
              "      <th>...</th>\n",
              "      <td>...</td>\n",
              "      <td>...</td>\n",
              "      <td>...</td>\n",
              "      <td>...</td>\n",
              "      <td>...</td>\n",
              "      <td>...</td>\n",
              "      <td>...</td>\n",
              "      <td>...</td>\n",
              "      <td>...</td>\n",
              "      <td>...</td>\n",
              "      <td>...</td>\n",
              "      <td>...</td>\n",
              "      <td>...</td>\n",
              "      <td>...</td>\n",
              "      <td>...</td>\n",
              "      <td>...</td>\n",
              "      <td>...</td>\n",
              "      <td>...</td>\n",
              "      <td>...</td>\n",
              "      <td>...</td>\n",
              "      <td>...</td>\n",
              "    </tr>\n",
              "    <tr>\n",
              "      <th>5888</th>\n",
              "      <td>2</td>\n",
              "      <td>0</td>\n",
              "      <td>24</td>\n",
              "      <td>16</td>\n",
              "      <td>68.0</td>\n",
              "      <td>33.0</td>\n",
              "      <td>49</td>\n",
              "      <td>31</td>\n",
              "      <td>0</td>\n",
              "      <td>1</td>\n",
              "      <td>...</td>\n",
              "      <td>12</td>\n",
              "      <td>0</td>\n",
              "      <td>17</td>\n",
              "      <td>7</td>\n",
              "      <td>4</td>\n",
              "      <td>4</td>\n",
              "      <td>3</td>\n",
              "      <td>5</td>\n",
              "      <td>0</td>\n",
              "      <td>KO/TKO  Punch</td>\n",
              "    </tr>\n",
              "    <tr>\n",
              "      <th>5889</th>\n",
              "      <td>0</td>\n",
              "      <td>0</td>\n",
              "      <td>19</td>\n",
              "      <td>24</td>\n",
              "      <td>55.0</td>\n",
              "      <td>55.0</td>\n",
              "      <td>95</td>\n",
              "      <td>145</td>\n",
              "      <td>1</td>\n",
              "      <td>2</td>\n",
              "      <td>...</td>\n",
              "      <td>5</td>\n",
              "      <td>2</td>\n",
              "      <td>4</td>\n",
              "      <td>1</td>\n",
              "      <td>15</td>\n",
              "      <td>23</td>\n",
              "      <td>0</td>\n",
              "      <td>0</td>\n",
              "      <td>0</td>\n",
              "      <td>S-DEC</td>\n",
              "    </tr>\n",
              "    <tr>\n",
              "      <th>5890</th>\n",
              "      <td>0</td>\n",
              "      <td>0</td>\n",
              "      <td>14</td>\n",
              "      <td>13</td>\n",
              "      <td>35.0</td>\n",
              "      <td>19.0</td>\n",
              "      <td>30</td>\n",
              "      <td>15</td>\n",
              "      <td>3</td>\n",
              "      <td>0</td>\n",
              "      <td>...</td>\n",
              "      <td>3</td>\n",
              "      <td>0</td>\n",
              "      <td>11</td>\n",
              "      <td>12</td>\n",
              "      <td>0</td>\n",
              "      <td>1</td>\n",
              "      <td>3</td>\n",
              "      <td>0</td>\n",
              "      <td>0</td>\n",
              "      <td>U-DEC</td>\n",
              "    </tr>\n",
              "    <tr>\n",
              "      <th>5891</th>\n",
              "      <td>0</td>\n",
              "      <td>0</td>\n",
              "      <td>9</td>\n",
              "      <td>3</td>\n",
              "      <td>56.0</td>\n",
              "      <td>60.0</td>\n",
              "      <td>17</td>\n",
              "      <td>11</td>\n",
              "      <td>1</td>\n",
              "      <td>0</td>\n",
              "      <td>...</td>\n",
              "      <td>2</td>\n",
              "      <td>0</td>\n",
              "      <td>2</td>\n",
              "      <td>0</td>\n",
              "      <td>5</td>\n",
              "      <td>3</td>\n",
              "      <td>2</td>\n",
              "      <td>0</td>\n",
              "      <td>0</td>\n",
              "      <td>SUB  Guillotine Choke</td>\n",
              "    </tr>\n",
              "    <tr>\n",
              "      <th>5892</th>\n",
              "      <td>0</td>\n",
              "      <td>0</td>\n",
              "      <td>31</td>\n",
              "      <td>11</td>\n",
              "      <td>70.0</td>\n",
              "      <td>30.0</td>\n",
              "      <td>53</td>\n",
              "      <td>21</td>\n",
              "      <td>4</td>\n",
              "      <td>2</td>\n",
              "      <td>...</td>\n",
              "      <td>4</td>\n",
              "      <td>1</td>\n",
              "      <td>11</td>\n",
              "      <td>4</td>\n",
              "      <td>1</td>\n",
              "      <td>0</td>\n",
              "      <td>19</td>\n",
              "      <td>7</td>\n",
              "      <td>0</td>\n",
              "      <td>KO/TKO  Punches</td>\n",
              "    </tr>\n",
              "  </tbody>\n",
              "</table>\n",
              "<p>5893 rows × 34 columns</p>\n",
              "</div>\n",
              "      <button class=\"colab-df-convert\" onclick=\"convertToInteractive('df-6dae3bde-1c52-469e-9fc3-b974b57d5805')\"\n",
              "              title=\"Convert this dataframe to an interactive table.\"\n",
              "              style=\"display:none;\">\n",
              "        \n",
              "  <svg xmlns=\"http://www.w3.org/2000/svg\" height=\"24px\"viewBox=\"0 0 24 24\"\n",
              "       width=\"24px\">\n",
              "    <path d=\"M0 0h24v24H0V0z\" fill=\"none\"/>\n",
              "    <path d=\"M18.56 5.44l.94 2.06.94-2.06 2.06-.94-2.06-.94-.94-2.06-.94 2.06-2.06.94zm-11 1L8.5 8.5l.94-2.06 2.06-.94-2.06-.94L8.5 2.5l-.94 2.06-2.06.94zm10 10l.94 2.06.94-2.06 2.06-.94-2.06-.94-.94-2.06-.94 2.06-2.06.94z\"/><path d=\"M17.41 7.96l-1.37-1.37c-.4-.4-.92-.59-1.43-.59-.52 0-1.04.2-1.43.59L10.3 9.45l-7.72 7.72c-.78.78-.78 2.05 0 2.83L4 21.41c.39.39.9.59 1.41.59.51 0 1.02-.2 1.41-.59l7.78-7.78 2.81-2.81c.8-.78.8-2.07 0-2.86zM5.41 20L4 18.59l7.72-7.72 1.47 1.35L5.41 20z\"/>\n",
              "  </svg>\n",
              "      </button>\n",
              "      \n",
              "  <style>\n",
              "    .colab-df-container {\n",
              "      display:flex;\n",
              "      flex-wrap:wrap;\n",
              "      gap: 12px;\n",
              "    }\n",
              "\n",
              "    .colab-df-convert {\n",
              "      background-color: #E8F0FE;\n",
              "      border: none;\n",
              "      border-radius: 50%;\n",
              "      cursor: pointer;\n",
              "      display: none;\n",
              "      fill: #1967D2;\n",
              "      height: 32px;\n",
              "      padding: 0 0 0 0;\n",
              "      width: 32px;\n",
              "    }\n",
              "\n",
              "    .colab-df-convert:hover {\n",
              "      background-color: #E2EBFA;\n",
              "      box-shadow: 0px 1px 2px rgba(60, 64, 67, 0.3), 0px 1px 3px 1px rgba(60, 64, 67, 0.15);\n",
              "      fill: #174EA6;\n",
              "    }\n",
              "\n",
              "    [theme=dark] .colab-df-convert {\n",
              "      background-color: #3B4455;\n",
              "      fill: #D2E3FC;\n",
              "    }\n",
              "\n",
              "    [theme=dark] .colab-df-convert:hover {\n",
              "      background-color: #434B5C;\n",
              "      box-shadow: 0px 1px 3px 1px rgba(0, 0, 0, 0.15);\n",
              "      filter: drop-shadow(0px 1px 2px rgba(0, 0, 0, 0.3));\n",
              "      fill: #FFFFFF;\n",
              "    }\n",
              "  </style>\n",
              "\n",
              "      <script>\n",
              "        const buttonEl =\n",
              "          document.querySelector('#df-6dae3bde-1c52-469e-9fc3-b974b57d5805 button.colab-df-convert');\n",
              "        buttonEl.style.display =\n",
              "          google.colab.kernel.accessAllowed ? 'block' : 'none';\n",
              "\n",
              "        async function convertToInteractive(key) {\n",
              "          const element = document.querySelector('#df-6dae3bde-1c52-469e-9fc3-b974b57d5805');\n",
              "          const dataTable =\n",
              "            await google.colab.kernel.invokeFunction('convertToInteractive',\n",
              "                                                     [key], {});\n",
              "          if (!dataTable) return;\n",
              "\n",
              "          const docLinkHtml = 'Like what you see? Visit the ' +\n",
              "            '<a target=\"_blank\" href=https://colab.research.google.com/notebooks/data_table.ipynb>data table notebook</a>'\n",
              "            + ' to learn more about interactive tables.';\n",
              "          element.innerHTML = '';\n",
              "          dataTable['output_type'] = 'display_data';\n",
              "          await google.colab.output.renderOutput(dataTable, element);\n",
              "          const docLink = document.createElement('div');\n",
              "          docLink.innerHTML = docLinkHtml;\n",
              "          element.appendChild(docLink);\n",
              "        }\n",
              "      </script>\n",
              "    </div>\n",
              "  </div>\n",
              "  "
            ]
          },
          "metadata": {},
          "execution_count": 3
        }
      ]
    },
    {
      "cell_type": "code",
      "metadata": {
        "colab": {
          "base_uri": "https://localhost:8080/",
          "height": 1000
        },
        "id": "7OEfyS34oNMf",
        "outputId": "31a937a6-37a0-45dc-b8d3-d459582c0046"
      },
      "source": [
        "STORED_FIGHT_TABLE[(STORED_FIGHT_TABLE[\"Fighter 0 Total str.\"] == 0) & (STORED_FIGHT_TABLE[\"Winner\"] == 0)]"
      ],
      "execution_count": 4,
      "outputs": [
        {
          "output_type": "execute_result",
          "data": {
            "text/plain": [
              "      Fighter 0 KD  Fighter 1 KD  Fighter 0 Sig. str.  Fighter 1 Sig. str.  \\\n",
              "1727             0             0                    0                    0   \n",
              "2794             0             0                    0                    1   \n",
              "2940             0             0                    0                    0   \n",
              "3629             0             0                    0                    2   \n",
              "3745             0             0                    0                    0   \n",
              "4119             0             0                    0                    4   \n",
              "4465             0             0                    0                    0   \n",
              "4746             0             0                    0                    0   \n",
              "4908             0             0                    0                    1   \n",
              "4984             0             0                    0                    0   \n",
              "5234             0             0                    0                    0   \n",
              "5331             0             0                    0                    1   \n",
              "5665             0             0                    0                    0   \n",
              "5699             0             0                    0                    1   \n",
              "5709             0             0                    0                    1   \n",
              "5804             0             0                    0                    1   \n",
              "\n",
              "      Fighter 0 Sig. str. %  Fighter 1 Sig. str. %  Fighter 0 Total str.  \\\n",
              "1727                    0.0                    NaN                     0   \n",
              "2794                    NaN                  100.0                     0   \n",
              "2940                    NaN                    0.0                     0   \n",
              "3629                    0.0                   40.0                     0   \n",
              "3745                    0.0                    0.0                     0   \n",
              "4119                    NaN                   57.0                     0   \n",
              "4465                    0.0                    0.0                     0   \n",
              "4746                    0.0                    0.0                     0   \n",
              "4908                    0.0                   20.0                     0   \n",
              "4984                    NaN                    0.0                     0   \n",
              "5234                    NaN                    0.0                     0   \n",
              "5331                    0.0                  100.0                     0   \n",
              "5665                    NaN                    0.0                     0   \n",
              "5699                    0.0                   20.0                     0   \n",
              "5709                    NaN                   50.0                     0   \n",
              "5804                    NaN                  100.0                     0   \n",
              "\n",
              "      Fighter 1 Total str.  Fighter 0 Td  Fighter 1 Td  ...  Fighter 0 Leg  \\\n",
              "1727                     0             1             0  ...              0   \n",
              "2794                     1             1             0  ...              0   \n",
              "2940                     0             0             0  ...              0   \n",
              "3629                     2             0             1  ...              0   \n",
              "3745                     0             0             0  ...              0   \n",
              "4119                     7             0             0  ...              0   \n",
              "4465                     6             0             0  ...              0   \n",
              "4746                     0             0             0  ...              0   \n",
              "4908                     4             0             0  ...              0   \n",
              "4984                     2             0             0  ...              0   \n",
              "5234                     0             1             0  ...              0   \n",
              "5331                     1             0             0  ...              0   \n",
              "5665                     1             1             1  ...              0   \n",
              "5699                     2             0             0  ...              0   \n",
              "5709                     3             1             0  ...              0   \n",
              "5804                     1             0             1  ...              0   \n",
              "\n",
              "      Fighter 1 Leg  Fighter 0 Distance  Fighter 1 Distance  Fighter 0 Clinch  \\\n",
              "1727              0                   0                   0                 0   \n",
              "2794              0                   0                   1                 0   \n",
              "2940              0                   0                   0                 0   \n",
              "3629              0                   0                   2                 0   \n",
              "3745              0                   0                   0                 0   \n",
              "4119              0                   0                   4                 0   \n",
              "4465              0                   0                   0                 0   \n",
              "4746              0                   0                   0                 0   \n",
              "4908              0                   0                   1                 0   \n",
              "4984              0                   0                   0                 0   \n",
              "5234              0                   0                   0                 0   \n",
              "5331              0                   0                   0                 0   \n",
              "5665              0                   0                   0                 0   \n",
              "5699              0                   0                   0                 0   \n",
              "5709              1                   0                   1                 0   \n",
              "5804              0                   0                   0                 0   \n",
              "\n",
              "      Fighter 1 Clinch  Fighter 0 Ground  Fighter 1 Ground Winner  \\\n",
              "1727                 0                 0                 0      0   \n",
              "2794                 0                 0                 0      0   \n",
              "2940                 0                 0                 0      0   \n",
              "3629                 0                 0                 0      0   \n",
              "3745                 0                 0                 0      0   \n",
              "4119                 0                 0                 0      0   \n",
              "4465                 0                 0                 0      0   \n",
              "4746                 0                 0                 0      0   \n",
              "4908                 0                 0                 0      0   \n",
              "4984                 0                 0                 0      0   \n",
              "5234                 0                 0                 0      0   \n",
              "5331                 0                 0                 1      0   \n",
              "5665                 0                 0                 0      0   \n",
              "5699                 0                 0                 1      0   \n",
              "5709                 0                 0                 0      0   \n",
              "5804                 0                 0                 1      0   \n",
              "\n",
              "                     Method  \n",
              "1727            SUB  Armbar  \n",
              "2794  SUB  Rear Naked Choke  \n",
              "2940            SUB  Armbar  \n",
              "3629         SUB  Heel Hook  \n",
              "3745            SUB  Armbar  \n",
              "4119            SUB  Armbar  \n",
              "4465    SUB  Triangle Choke  \n",
              "4746         SUB  Heel Hook  \n",
              "4908  SUB  Guillotine Choke  \n",
              "4984         SUB  Heel Hook  \n",
              "5234        SUB  Ankle Lock  \n",
              "5331  SUB  Guillotine Choke  \n",
              "5665  SUB  Rear Naked Choke  \n",
              "5699          SUB  Toe Hold  \n",
              "5709            SUB  Kimura  \n",
              "5804            SUB  Armbar  \n",
              "\n",
              "[16 rows x 34 columns]"
            ],
            "text/html": [
              "\n",
              "  <div id=\"df-d2c00bbe-02ff-4700-ac3e-f71fcd41757f\">\n",
              "    <div class=\"colab-df-container\">\n",
              "      <div>\n",
              "<style scoped>\n",
              "    .dataframe tbody tr th:only-of-type {\n",
              "        vertical-align: middle;\n",
              "    }\n",
              "\n",
              "    .dataframe tbody tr th {\n",
              "        vertical-align: top;\n",
              "    }\n",
              "\n",
              "    .dataframe thead th {\n",
              "        text-align: right;\n",
              "    }\n",
              "</style>\n",
              "<table border=\"1\" class=\"dataframe\">\n",
              "  <thead>\n",
              "    <tr style=\"text-align: right;\">\n",
              "      <th></th>\n",
              "      <th>Fighter 0 KD</th>\n",
              "      <th>Fighter 1 KD</th>\n",
              "      <th>Fighter 0 Sig. str.</th>\n",
              "      <th>Fighter 1 Sig. str.</th>\n",
              "      <th>Fighter 0 Sig. str. %</th>\n",
              "      <th>Fighter 1 Sig. str. %</th>\n",
              "      <th>Fighter 0 Total str.</th>\n",
              "      <th>Fighter 1 Total str.</th>\n",
              "      <th>Fighter 0 Td</th>\n",
              "      <th>Fighter 1 Td</th>\n",
              "      <th>...</th>\n",
              "      <th>Fighter 0 Leg</th>\n",
              "      <th>Fighter 1 Leg</th>\n",
              "      <th>Fighter 0 Distance</th>\n",
              "      <th>Fighter 1 Distance</th>\n",
              "      <th>Fighter 0 Clinch</th>\n",
              "      <th>Fighter 1 Clinch</th>\n",
              "      <th>Fighter 0 Ground</th>\n",
              "      <th>Fighter 1 Ground</th>\n",
              "      <th>Winner</th>\n",
              "      <th>Method</th>\n",
              "    </tr>\n",
              "  </thead>\n",
              "  <tbody>\n",
              "    <tr>\n",
              "      <th>1727</th>\n",
              "      <td>0</td>\n",
              "      <td>0</td>\n",
              "      <td>0</td>\n",
              "      <td>0</td>\n",
              "      <td>0.0</td>\n",
              "      <td>NaN</td>\n",
              "      <td>0</td>\n",
              "      <td>0</td>\n",
              "      <td>1</td>\n",
              "      <td>0</td>\n",
              "      <td>...</td>\n",
              "      <td>0</td>\n",
              "      <td>0</td>\n",
              "      <td>0</td>\n",
              "      <td>0</td>\n",
              "      <td>0</td>\n",
              "      <td>0</td>\n",
              "      <td>0</td>\n",
              "      <td>0</td>\n",
              "      <td>0</td>\n",
              "      <td>SUB  Armbar</td>\n",
              "    </tr>\n",
              "    <tr>\n",
              "      <th>2794</th>\n",
              "      <td>0</td>\n",
              "      <td>0</td>\n",
              "      <td>0</td>\n",
              "      <td>1</td>\n",
              "      <td>NaN</td>\n",
              "      <td>100.0</td>\n",
              "      <td>0</td>\n",
              "      <td>1</td>\n",
              "      <td>1</td>\n",
              "      <td>0</td>\n",
              "      <td>...</td>\n",
              "      <td>0</td>\n",
              "      <td>0</td>\n",
              "      <td>0</td>\n",
              "      <td>1</td>\n",
              "      <td>0</td>\n",
              "      <td>0</td>\n",
              "      <td>0</td>\n",
              "      <td>0</td>\n",
              "      <td>0</td>\n",
              "      <td>SUB  Rear Naked Choke</td>\n",
              "    </tr>\n",
              "    <tr>\n",
              "      <th>2940</th>\n",
              "      <td>0</td>\n",
              "      <td>0</td>\n",
              "      <td>0</td>\n",
              "      <td>0</td>\n",
              "      <td>NaN</td>\n",
              "      <td>0.0</td>\n",
              "      <td>0</td>\n",
              "      <td>0</td>\n",
              "      <td>0</td>\n",
              "      <td>0</td>\n",
              "      <td>...</td>\n",
              "      <td>0</td>\n",
              "      <td>0</td>\n",
              "      <td>0</td>\n",
              "      <td>0</td>\n",
              "      <td>0</td>\n",
              "      <td>0</td>\n",
              "      <td>0</td>\n",
              "      <td>0</td>\n",
              "      <td>0</td>\n",
              "      <td>SUB  Armbar</td>\n",
              "    </tr>\n",
              "    <tr>\n",
              "      <th>3629</th>\n",
              "      <td>0</td>\n",
              "      <td>0</td>\n",
              "      <td>0</td>\n",
              "      <td>2</td>\n",
              "      <td>0.0</td>\n",
              "      <td>40.0</td>\n",
              "      <td>0</td>\n",
              "      <td>2</td>\n",
              "      <td>0</td>\n",
              "      <td>1</td>\n",
              "      <td>...</td>\n",
              "      <td>0</td>\n",
              "      <td>0</td>\n",
              "      <td>0</td>\n",
              "      <td>2</td>\n",
              "      <td>0</td>\n",
              "      <td>0</td>\n",
              "      <td>0</td>\n",
              "      <td>0</td>\n",
              "      <td>0</td>\n",
              "      <td>SUB  Heel Hook</td>\n",
              "    </tr>\n",
              "    <tr>\n",
              "      <th>3745</th>\n",
              "      <td>0</td>\n",
              "      <td>0</td>\n",
              "      <td>0</td>\n",
              "      <td>0</td>\n",
              "      <td>0.0</td>\n",
              "      <td>0.0</td>\n",
              "      <td>0</td>\n",
              "      <td>0</td>\n",
              "      <td>0</td>\n",
              "      <td>0</td>\n",
              "      <td>...</td>\n",
              "      <td>0</td>\n",
              "      <td>0</td>\n",
              "      <td>0</td>\n",
              "      <td>0</td>\n",
              "      <td>0</td>\n",
              "      <td>0</td>\n",
              "      <td>0</td>\n",
              "      <td>0</td>\n",
              "      <td>0</td>\n",
              "      <td>SUB  Armbar</td>\n",
              "    </tr>\n",
              "    <tr>\n",
              "      <th>4119</th>\n",
              "      <td>0</td>\n",
              "      <td>0</td>\n",
              "      <td>0</td>\n",
              "      <td>4</td>\n",
              "      <td>NaN</td>\n",
              "      <td>57.0</td>\n",
              "      <td>0</td>\n",
              "      <td>7</td>\n",
              "      <td>0</td>\n",
              "      <td>0</td>\n",
              "      <td>...</td>\n",
              "      <td>0</td>\n",
              "      <td>0</td>\n",
              "      <td>0</td>\n",
              "      <td>4</td>\n",
              "      <td>0</td>\n",
              "      <td>0</td>\n",
              "      <td>0</td>\n",
              "      <td>0</td>\n",
              "      <td>0</td>\n",
              "      <td>SUB  Armbar</td>\n",
              "    </tr>\n",
              "    <tr>\n",
              "      <th>4465</th>\n",
              "      <td>0</td>\n",
              "      <td>0</td>\n",
              "      <td>0</td>\n",
              "      <td>0</td>\n",
              "      <td>0.0</td>\n",
              "      <td>0.0</td>\n",
              "      <td>0</td>\n",
              "      <td>6</td>\n",
              "      <td>0</td>\n",
              "      <td>0</td>\n",
              "      <td>...</td>\n",
              "      <td>0</td>\n",
              "      <td>0</td>\n",
              "      <td>0</td>\n",
              "      <td>0</td>\n",
              "      <td>0</td>\n",
              "      <td>0</td>\n",
              "      <td>0</td>\n",
              "      <td>0</td>\n",
              "      <td>0</td>\n",
              "      <td>SUB  Triangle Choke</td>\n",
              "    </tr>\n",
              "    <tr>\n",
              "      <th>4746</th>\n",
              "      <td>0</td>\n",
              "      <td>0</td>\n",
              "      <td>0</td>\n",
              "      <td>0</td>\n",
              "      <td>0.0</td>\n",
              "      <td>0.0</td>\n",
              "      <td>0</td>\n",
              "      <td>0</td>\n",
              "      <td>0</td>\n",
              "      <td>0</td>\n",
              "      <td>...</td>\n",
              "      <td>0</td>\n",
              "      <td>0</td>\n",
              "      <td>0</td>\n",
              "      <td>0</td>\n",
              "      <td>0</td>\n",
              "      <td>0</td>\n",
              "      <td>0</td>\n",
              "      <td>0</td>\n",
              "      <td>0</td>\n",
              "      <td>SUB  Heel Hook</td>\n",
              "    </tr>\n",
              "    <tr>\n",
              "      <th>4908</th>\n",
              "      <td>0</td>\n",
              "      <td>0</td>\n",
              "      <td>0</td>\n",
              "      <td>1</td>\n",
              "      <td>0.0</td>\n",
              "      <td>20.0</td>\n",
              "      <td>0</td>\n",
              "      <td>4</td>\n",
              "      <td>0</td>\n",
              "      <td>0</td>\n",
              "      <td>...</td>\n",
              "      <td>0</td>\n",
              "      <td>0</td>\n",
              "      <td>0</td>\n",
              "      <td>1</td>\n",
              "      <td>0</td>\n",
              "      <td>0</td>\n",
              "      <td>0</td>\n",
              "      <td>0</td>\n",
              "      <td>0</td>\n",
              "      <td>SUB  Guillotine Choke</td>\n",
              "    </tr>\n",
              "    <tr>\n",
              "      <th>4984</th>\n",
              "      <td>0</td>\n",
              "      <td>0</td>\n",
              "      <td>0</td>\n",
              "      <td>0</td>\n",
              "      <td>NaN</td>\n",
              "      <td>0.0</td>\n",
              "      <td>0</td>\n",
              "      <td>2</td>\n",
              "      <td>0</td>\n",
              "      <td>0</td>\n",
              "      <td>...</td>\n",
              "      <td>0</td>\n",
              "      <td>0</td>\n",
              "      <td>0</td>\n",
              "      <td>0</td>\n",
              "      <td>0</td>\n",
              "      <td>0</td>\n",
              "      <td>0</td>\n",
              "      <td>0</td>\n",
              "      <td>0</td>\n",
              "      <td>SUB  Heel Hook</td>\n",
              "    </tr>\n",
              "    <tr>\n",
              "      <th>5234</th>\n",
              "      <td>0</td>\n",
              "      <td>0</td>\n",
              "      <td>0</td>\n",
              "      <td>0</td>\n",
              "      <td>NaN</td>\n",
              "      <td>0.0</td>\n",
              "      <td>0</td>\n",
              "      <td>0</td>\n",
              "      <td>1</td>\n",
              "      <td>0</td>\n",
              "      <td>...</td>\n",
              "      <td>0</td>\n",
              "      <td>0</td>\n",
              "      <td>0</td>\n",
              "      <td>0</td>\n",
              "      <td>0</td>\n",
              "      <td>0</td>\n",
              "      <td>0</td>\n",
              "      <td>0</td>\n",
              "      <td>0</td>\n",
              "      <td>SUB  Ankle Lock</td>\n",
              "    </tr>\n",
              "    <tr>\n",
              "      <th>5331</th>\n",
              "      <td>0</td>\n",
              "      <td>0</td>\n",
              "      <td>0</td>\n",
              "      <td>1</td>\n",
              "      <td>0.0</td>\n",
              "      <td>100.0</td>\n",
              "      <td>0</td>\n",
              "      <td>1</td>\n",
              "      <td>0</td>\n",
              "      <td>0</td>\n",
              "      <td>...</td>\n",
              "      <td>0</td>\n",
              "      <td>0</td>\n",
              "      <td>0</td>\n",
              "      <td>0</td>\n",
              "      <td>0</td>\n",
              "      <td>0</td>\n",
              "      <td>0</td>\n",
              "      <td>1</td>\n",
              "      <td>0</td>\n",
              "      <td>SUB  Guillotine Choke</td>\n",
              "    </tr>\n",
              "    <tr>\n",
              "      <th>5665</th>\n",
              "      <td>0</td>\n",
              "      <td>0</td>\n",
              "      <td>0</td>\n",
              "      <td>0</td>\n",
              "      <td>NaN</td>\n",
              "      <td>0.0</td>\n",
              "      <td>0</td>\n",
              "      <td>1</td>\n",
              "      <td>1</td>\n",
              "      <td>1</td>\n",
              "      <td>...</td>\n",
              "      <td>0</td>\n",
              "      <td>0</td>\n",
              "      <td>0</td>\n",
              "      <td>0</td>\n",
              "      <td>0</td>\n",
              "      <td>0</td>\n",
              "      <td>0</td>\n",
              "      <td>0</td>\n",
              "      <td>0</td>\n",
              "      <td>SUB  Rear Naked Choke</td>\n",
              "    </tr>\n",
              "    <tr>\n",
              "      <th>5699</th>\n",
              "      <td>0</td>\n",
              "      <td>0</td>\n",
              "      <td>0</td>\n",
              "      <td>1</td>\n",
              "      <td>0.0</td>\n",
              "      <td>20.0</td>\n",
              "      <td>0</td>\n",
              "      <td>2</td>\n",
              "      <td>0</td>\n",
              "      <td>0</td>\n",
              "      <td>...</td>\n",
              "      <td>0</td>\n",
              "      <td>0</td>\n",
              "      <td>0</td>\n",
              "      <td>0</td>\n",
              "      <td>0</td>\n",
              "      <td>0</td>\n",
              "      <td>0</td>\n",
              "      <td>1</td>\n",
              "      <td>0</td>\n",
              "      <td>SUB  Toe Hold</td>\n",
              "    </tr>\n",
              "    <tr>\n",
              "      <th>5709</th>\n",
              "      <td>0</td>\n",
              "      <td>0</td>\n",
              "      <td>0</td>\n",
              "      <td>1</td>\n",
              "      <td>NaN</td>\n",
              "      <td>50.0</td>\n",
              "      <td>0</td>\n",
              "      <td>3</td>\n",
              "      <td>1</td>\n",
              "      <td>0</td>\n",
              "      <td>...</td>\n",
              "      <td>0</td>\n",
              "      <td>1</td>\n",
              "      <td>0</td>\n",
              "      <td>1</td>\n",
              "      <td>0</td>\n",
              "      <td>0</td>\n",
              "      <td>0</td>\n",
              "      <td>0</td>\n",
              "      <td>0</td>\n",
              "      <td>SUB  Kimura</td>\n",
              "    </tr>\n",
              "    <tr>\n",
              "      <th>5804</th>\n",
              "      <td>0</td>\n",
              "      <td>0</td>\n",
              "      <td>0</td>\n",
              "      <td>1</td>\n",
              "      <td>NaN</td>\n",
              "      <td>100.0</td>\n",
              "      <td>0</td>\n",
              "      <td>1</td>\n",
              "      <td>0</td>\n",
              "      <td>1</td>\n",
              "      <td>...</td>\n",
              "      <td>0</td>\n",
              "      <td>0</td>\n",
              "      <td>0</td>\n",
              "      <td>0</td>\n",
              "      <td>0</td>\n",
              "      <td>0</td>\n",
              "      <td>0</td>\n",
              "      <td>1</td>\n",
              "      <td>0</td>\n",
              "      <td>SUB  Armbar</td>\n",
              "    </tr>\n",
              "  </tbody>\n",
              "</table>\n",
              "<p>16 rows × 34 columns</p>\n",
              "</div>\n",
              "      <button class=\"colab-df-convert\" onclick=\"convertToInteractive('df-d2c00bbe-02ff-4700-ac3e-f71fcd41757f')\"\n",
              "              title=\"Convert this dataframe to an interactive table.\"\n",
              "              style=\"display:none;\">\n",
              "        \n",
              "  <svg xmlns=\"http://www.w3.org/2000/svg\" height=\"24px\"viewBox=\"0 0 24 24\"\n",
              "       width=\"24px\">\n",
              "    <path d=\"M0 0h24v24H0V0z\" fill=\"none\"/>\n",
              "    <path d=\"M18.56 5.44l.94 2.06.94-2.06 2.06-.94-2.06-.94-.94-2.06-.94 2.06-2.06.94zm-11 1L8.5 8.5l.94-2.06 2.06-.94-2.06-.94L8.5 2.5l-.94 2.06-2.06.94zm10 10l.94 2.06.94-2.06 2.06-.94-2.06-.94-.94-2.06-.94 2.06-2.06.94z\"/><path d=\"M17.41 7.96l-1.37-1.37c-.4-.4-.92-.59-1.43-.59-.52 0-1.04.2-1.43.59L10.3 9.45l-7.72 7.72c-.78.78-.78 2.05 0 2.83L4 21.41c.39.39.9.59 1.41.59.51 0 1.02-.2 1.41-.59l7.78-7.78 2.81-2.81c.8-.78.8-2.07 0-2.86zM5.41 20L4 18.59l7.72-7.72 1.47 1.35L5.41 20z\"/>\n",
              "  </svg>\n",
              "      </button>\n",
              "      \n",
              "  <style>\n",
              "    .colab-df-container {\n",
              "      display:flex;\n",
              "      flex-wrap:wrap;\n",
              "      gap: 12px;\n",
              "    }\n",
              "\n",
              "    .colab-df-convert {\n",
              "      background-color: #E8F0FE;\n",
              "      border: none;\n",
              "      border-radius: 50%;\n",
              "      cursor: pointer;\n",
              "      display: none;\n",
              "      fill: #1967D2;\n",
              "      height: 32px;\n",
              "      padding: 0 0 0 0;\n",
              "      width: 32px;\n",
              "    }\n",
              "\n",
              "    .colab-df-convert:hover {\n",
              "      background-color: #E2EBFA;\n",
              "      box-shadow: 0px 1px 2px rgba(60, 64, 67, 0.3), 0px 1px 3px 1px rgba(60, 64, 67, 0.15);\n",
              "      fill: #174EA6;\n",
              "    }\n",
              "\n",
              "    [theme=dark] .colab-df-convert {\n",
              "      background-color: #3B4455;\n",
              "      fill: #D2E3FC;\n",
              "    }\n",
              "\n",
              "    [theme=dark] .colab-df-convert:hover {\n",
              "      background-color: #434B5C;\n",
              "      box-shadow: 0px 1px 3px 1px rgba(0, 0, 0, 0.15);\n",
              "      filter: drop-shadow(0px 1px 2px rgba(0, 0, 0, 0.3));\n",
              "      fill: #FFFFFF;\n",
              "    }\n",
              "  </style>\n",
              "\n",
              "      <script>\n",
              "        const buttonEl =\n",
              "          document.querySelector('#df-d2c00bbe-02ff-4700-ac3e-f71fcd41757f button.colab-df-convert');\n",
              "        buttonEl.style.display =\n",
              "          google.colab.kernel.accessAllowed ? 'block' : 'none';\n",
              "\n",
              "        async function convertToInteractive(key) {\n",
              "          const element = document.querySelector('#df-d2c00bbe-02ff-4700-ac3e-f71fcd41757f');\n",
              "          const dataTable =\n",
              "            await google.colab.kernel.invokeFunction('convertToInteractive',\n",
              "                                                     [key], {});\n",
              "          if (!dataTable) return;\n",
              "\n",
              "          const docLinkHtml = 'Like what you see? Visit the ' +\n",
              "            '<a target=\"_blank\" href=https://colab.research.google.com/notebooks/data_table.ipynb>data table notebook</a>'\n",
              "            + ' to learn more about interactive tables.';\n",
              "          element.innerHTML = '';\n",
              "          dataTable['output_type'] = 'display_data';\n",
              "          await google.colab.output.renderOutput(dataTable, element);\n",
              "          const docLink = document.createElement('div');\n",
              "          docLink.innerHTML = docLinkHtml;\n",
              "          element.appendChild(docLink);\n",
              "        }\n",
              "      </script>\n",
              "    </div>\n",
              "  </div>\n",
              "  "
            ]
          },
          "metadata": {},
          "execution_count": 4
        }
      ]
    },
    {
      "cell_type": "code",
      "metadata": {
        "colab": {
          "base_uri": "https://localhost:8080/",
          "height": 487
        },
        "id": "5VXivOhCoXa9",
        "outputId": "567b14e1-b7ba-4028-cf91-1d1b5da294ad"
      },
      "source": [
        "STORED_FIGHT_TABLE[(STORED_FIGHT_TABLE[\"Fighter 1 Total str.\"] == 0) & (STORED_FIGHT_TABLE[\"Winner\"] == 1)]"
      ],
      "execution_count": 5,
      "outputs": [
        {
          "output_type": "execute_result",
          "data": {
            "text/plain": [
              "      Fighter 0 KD  Fighter 1 KD  Fighter 0 Sig. str.  Fighter 1 Sig. str.  \\\n",
              "2131             0             0                    2                    0   \n",
              "3041             0             0                    4                    0   \n",
              "3695             0             0                    0                    0   \n",
              "4241             0             0                    8                    0   \n",
              "4622             0             0                    2                    0   \n",
              "4755             0             0                    1                    0   \n",
              "\n",
              "      Fighter 0 Sig. str. %  Fighter 1 Sig. str. %  Fighter 0 Total str.  \\\n",
              "2131                   33.0                    0.0                    11   \n",
              "3041                   44.0                    0.0                     5   \n",
              "3695                    0.0                    NaN                     0   \n",
              "4241                   80.0                    NaN                    12   \n",
              "4622                   25.0                    0.0                     3   \n",
              "4755                   20.0                    0.0                     1   \n",
              "\n",
              "      Fighter 1 Total str.  Fighter 0 Td  Fighter 1 Td  ...  Fighter 0 Leg  \\\n",
              "2131                     0             0             1  ...              0   \n",
              "3041                     0             1             0  ...              0   \n",
              "3695                     0             1             0  ...              0   \n",
              "4241                     0             0             0  ...              0   \n",
              "4622                     0             1             0  ...              0   \n",
              "4755                     0             0             1  ...              0   \n",
              "\n",
              "      Fighter 1 Leg  Fighter 0 Distance  Fighter 1 Distance  Fighter 0 Clinch  \\\n",
              "2131              0                   0                   0                 2   \n",
              "3041              0                   0                   0                 0   \n",
              "3695              0                   0                   0                 0   \n",
              "4241              0                   1                   0                 0   \n",
              "4622              0                   1                   0                 0   \n",
              "4755              0                   1                   0                 0   \n",
              "\n",
              "      Fighter 1 Clinch  Fighter 0 Ground  Fighter 1 Ground Winner  \\\n",
              "2131                 0                 0                 0      1   \n",
              "3041                 0                 4                 0      1   \n",
              "3695                 0                 0                 0      1   \n",
              "4241                 0                 7                 0      1   \n",
              "4622                 0                 1                 0      1   \n",
              "4755                 0                 0                 0      1   \n",
              "\n",
              "                     Method  \n",
              "2131  SUB  Guillotine Choke  \n",
              "3041         SUB  Heel Hook  \n",
              "3695  SUB  Guillotine Choke  \n",
              "4241                     DQ  \n",
              "4622            SUB  Armbar  \n",
              "4755                 KO/TKO  \n",
              "\n",
              "[6 rows x 34 columns]"
            ],
            "text/html": [
              "\n",
              "  <div id=\"df-28012b91-38b0-416b-b297-ede02a479f47\">\n",
              "    <div class=\"colab-df-container\">\n",
              "      <div>\n",
              "<style scoped>\n",
              "    .dataframe tbody tr th:only-of-type {\n",
              "        vertical-align: middle;\n",
              "    }\n",
              "\n",
              "    .dataframe tbody tr th {\n",
              "        vertical-align: top;\n",
              "    }\n",
              "\n",
              "    .dataframe thead th {\n",
              "        text-align: right;\n",
              "    }\n",
              "</style>\n",
              "<table border=\"1\" class=\"dataframe\">\n",
              "  <thead>\n",
              "    <tr style=\"text-align: right;\">\n",
              "      <th></th>\n",
              "      <th>Fighter 0 KD</th>\n",
              "      <th>Fighter 1 KD</th>\n",
              "      <th>Fighter 0 Sig. str.</th>\n",
              "      <th>Fighter 1 Sig. str.</th>\n",
              "      <th>Fighter 0 Sig. str. %</th>\n",
              "      <th>Fighter 1 Sig. str. %</th>\n",
              "      <th>Fighter 0 Total str.</th>\n",
              "      <th>Fighter 1 Total str.</th>\n",
              "      <th>Fighter 0 Td</th>\n",
              "      <th>Fighter 1 Td</th>\n",
              "      <th>...</th>\n",
              "      <th>Fighter 0 Leg</th>\n",
              "      <th>Fighter 1 Leg</th>\n",
              "      <th>Fighter 0 Distance</th>\n",
              "      <th>Fighter 1 Distance</th>\n",
              "      <th>Fighter 0 Clinch</th>\n",
              "      <th>Fighter 1 Clinch</th>\n",
              "      <th>Fighter 0 Ground</th>\n",
              "      <th>Fighter 1 Ground</th>\n",
              "      <th>Winner</th>\n",
              "      <th>Method</th>\n",
              "    </tr>\n",
              "  </thead>\n",
              "  <tbody>\n",
              "    <tr>\n",
              "      <th>2131</th>\n",
              "      <td>0</td>\n",
              "      <td>0</td>\n",
              "      <td>2</td>\n",
              "      <td>0</td>\n",
              "      <td>33.0</td>\n",
              "      <td>0.0</td>\n",
              "      <td>11</td>\n",
              "      <td>0</td>\n",
              "      <td>0</td>\n",
              "      <td>1</td>\n",
              "      <td>...</td>\n",
              "      <td>0</td>\n",
              "      <td>0</td>\n",
              "      <td>0</td>\n",
              "      <td>0</td>\n",
              "      <td>2</td>\n",
              "      <td>0</td>\n",
              "      <td>0</td>\n",
              "      <td>0</td>\n",
              "      <td>1</td>\n",
              "      <td>SUB  Guillotine Choke</td>\n",
              "    </tr>\n",
              "    <tr>\n",
              "      <th>3041</th>\n",
              "      <td>0</td>\n",
              "      <td>0</td>\n",
              "      <td>4</td>\n",
              "      <td>0</td>\n",
              "      <td>44.0</td>\n",
              "      <td>0.0</td>\n",
              "      <td>5</td>\n",
              "      <td>0</td>\n",
              "      <td>1</td>\n",
              "      <td>0</td>\n",
              "      <td>...</td>\n",
              "      <td>0</td>\n",
              "      <td>0</td>\n",
              "      <td>0</td>\n",
              "      <td>0</td>\n",
              "      <td>0</td>\n",
              "      <td>0</td>\n",
              "      <td>4</td>\n",
              "      <td>0</td>\n",
              "      <td>1</td>\n",
              "      <td>SUB  Heel Hook</td>\n",
              "    </tr>\n",
              "    <tr>\n",
              "      <th>3695</th>\n",
              "      <td>0</td>\n",
              "      <td>0</td>\n",
              "      <td>0</td>\n",
              "      <td>0</td>\n",
              "      <td>0.0</td>\n",
              "      <td>NaN</td>\n",
              "      <td>0</td>\n",
              "      <td>0</td>\n",
              "      <td>1</td>\n",
              "      <td>0</td>\n",
              "      <td>...</td>\n",
              "      <td>0</td>\n",
              "      <td>0</td>\n",
              "      <td>0</td>\n",
              "      <td>0</td>\n",
              "      <td>0</td>\n",
              "      <td>0</td>\n",
              "      <td>0</td>\n",
              "      <td>0</td>\n",
              "      <td>1</td>\n",
              "      <td>SUB  Guillotine Choke</td>\n",
              "    </tr>\n",
              "    <tr>\n",
              "      <th>4241</th>\n",
              "      <td>0</td>\n",
              "      <td>0</td>\n",
              "      <td>8</td>\n",
              "      <td>0</td>\n",
              "      <td>80.0</td>\n",
              "      <td>NaN</td>\n",
              "      <td>12</td>\n",
              "      <td>0</td>\n",
              "      <td>0</td>\n",
              "      <td>0</td>\n",
              "      <td>...</td>\n",
              "      <td>0</td>\n",
              "      <td>0</td>\n",
              "      <td>1</td>\n",
              "      <td>0</td>\n",
              "      <td>0</td>\n",
              "      <td>0</td>\n",
              "      <td>7</td>\n",
              "      <td>0</td>\n",
              "      <td>1</td>\n",
              "      <td>DQ</td>\n",
              "    </tr>\n",
              "    <tr>\n",
              "      <th>4622</th>\n",
              "      <td>0</td>\n",
              "      <td>0</td>\n",
              "      <td>2</td>\n",
              "      <td>0</td>\n",
              "      <td>25.0</td>\n",
              "      <td>0.0</td>\n",
              "      <td>3</td>\n",
              "      <td>0</td>\n",
              "      <td>1</td>\n",
              "      <td>0</td>\n",
              "      <td>...</td>\n",
              "      <td>0</td>\n",
              "      <td>0</td>\n",
              "      <td>1</td>\n",
              "      <td>0</td>\n",
              "      <td>0</td>\n",
              "      <td>0</td>\n",
              "      <td>1</td>\n",
              "      <td>0</td>\n",
              "      <td>1</td>\n",
              "      <td>SUB  Armbar</td>\n",
              "    </tr>\n",
              "    <tr>\n",
              "      <th>4755</th>\n",
              "      <td>0</td>\n",
              "      <td>0</td>\n",
              "      <td>1</td>\n",
              "      <td>0</td>\n",
              "      <td>20.0</td>\n",
              "      <td>0.0</td>\n",
              "      <td>1</td>\n",
              "      <td>0</td>\n",
              "      <td>0</td>\n",
              "      <td>1</td>\n",
              "      <td>...</td>\n",
              "      <td>0</td>\n",
              "      <td>0</td>\n",
              "      <td>1</td>\n",
              "      <td>0</td>\n",
              "      <td>0</td>\n",
              "      <td>0</td>\n",
              "      <td>0</td>\n",
              "      <td>0</td>\n",
              "      <td>1</td>\n",
              "      <td>KO/TKO</td>\n",
              "    </tr>\n",
              "  </tbody>\n",
              "</table>\n",
              "<p>6 rows × 34 columns</p>\n",
              "</div>\n",
              "      <button class=\"colab-df-convert\" onclick=\"convertToInteractive('df-28012b91-38b0-416b-b297-ede02a479f47')\"\n",
              "              title=\"Convert this dataframe to an interactive table.\"\n",
              "              style=\"display:none;\">\n",
              "        \n",
              "  <svg xmlns=\"http://www.w3.org/2000/svg\" height=\"24px\"viewBox=\"0 0 24 24\"\n",
              "       width=\"24px\">\n",
              "    <path d=\"M0 0h24v24H0V0z\" fill=\"none\"/>\n",
              "    <path d=\"M18.56 5.44l.94 2.06.94-2.06 2.06-.94-2.06-.94-.94-2.06-.94 2.06-2.06.94zm-11 1L8.5 8.5l.94-2.06 2.06-.94-2.06-.94L8.5 2.5l-.94 2.06-2.06.94zm10 10l.94 2.06.94-2.06 2.06-.94-2.06-.94-.94-2.06-.94 2.06-2.06.94z\"/><path d=\"M17.41 7.96l-1.37-1.37c-.4-.4-.92-.59-1.43-.59-.52 0-1.04.2-1.43.59L10.3 9.45l-7.72 7.72c-.78.78-.78 2.05 0 2.83L4 21.41c.39.39.9.59 1.41.59.51 0 1.02-.2 1.41-.59l7.78-7.78 2.81-2.81c.8-.78.8-2.07 0-2.86zM5.41 20L4 18.59l7.72-7.72 1.47 1.35L5.41 20z\"/>\n",
              "  </svg>\n",
              "      </button>\n",
              "      \n",
              "  <style>\n",
              "    .colab-df-container {\n",
              "      display:flex;\n",
              "      flex-wrap:wrap;\n",
              "      gap: 12px;\n",
              "    }\n",
              "\n",
              "    .colab-df-convert {\n",
              "      background-color: #E8F0FE;\n",
              "      border: none;\n",
              "      border-radius: 50%;\n",
              "      cursor: pointer;\n",
              "      display: none;\n",
              "      fill: #1967D2;\n",
              "      height: 32px;\n",
              "      padding: 0 0 0 0;\n",
              "      width: 32px;\n",
              "    }\n",
              "\n",
              "    .colab-df-convert:hover {\n",
              "      background-color: #E2EBFA;\n",
              "      box-shadow: 0px 1px 2px rgba(60, 64, 67, 0.3), 0px 1px 3px 1px rgba(60, 64, 67, 0.15);\n",
              "      fill: #174EA6;\n",
              "    }\n",
              "\n",
              "    [theme=dark] .colab-df-convert {\n",
              "      background-color: #3B4455;\n",
              "      fill: #D2E3FC;\n",
              "    }\n",
              "\n",
              "    [theme=dark] .colab-df-convert:hover {\n",
              "      background-color: #434B5C;\n",
              "      box-shadow: 0px 1px 3px 1px rgba(0, 0, 0, 0.15);\n",
              "      filter: drop-shadow(0px 1px 2px rgba(0, 0, 0, 0.3));\n",
              "      fill: #FFFFFF;\n",
              "    }\n",
              "  </style>\n",
              "\n",
              "      <script>\n",
              "        const buttonEl =\n",
              "          document.querySelector('#df-28012b91-38b0-416b-b297-ede02a479f47 button.colab-df-convert');\n",
              "        buttonEl.style.display =\n",
              "          google.colab.kernel.accessAllowed ? 'block' : 'none';\n",
              "\n",
              "        async function convertToInteractive(key) {\n",
              "          const element = document.querySelector('#df-28012b91-38b0-416b-b297-ede02a479f47');\n",
              "          const dataTable =\n",
              "            await google.colab.kernel.invokeFunction('convertToInteractive',\n",
              "                                                     [key], {});\n",
              "          if (!dataTable) return;\n",
              "\n",
              "          const docLinkHtml = 'Like what you see? Visit the ' +\n",
              "            '<a target=\"_blank\" href=https://colab.research.google.com/notebooks/data_table.ipynb>data table notebook</a>'\n",
              "            + ' to learn more about interactive tables.';\n",
              "          element.innerHTML = '';\n",
              "          dataTable['output_type'] = 'display_data';\n",
              "          await google.colab.output.renderOutput(dataTable, element);\n",
              "          const docLink = document.createElement('div');\n",
              "          docLink.innerHTML = docLinkHtml;\n",
              "          element.appendChild(docLink);\n",
              "        }\n",
              "      </script>\n",
              "    </div>\n",
              "  </div>\n",
              "  "
            ]
          },
          "metadata": {},
          "execution_count": 5
        }
      ]
    },
    {
      "cell_type": "code",
      "metadata": {
        "colab": {
          "base_uri": "https://localhost:8080/",
          "height": 592
        },
        "id": "uF1ya3BLOSRY",
        "outputId": "74075c66-5d69-4ae4-a7ad-279c02c50ea3"
      },
      "source": [
        "# Clean dataset: Only decisions with clear winners\n",
        "# STORED_FIGHT_TABLE = STORED_FIGHT_TABLE[STORED_FIGHT_TABLE[\"Method\"].str.contains(\"DEC\")]\n",
        "# STORED_FIGHT_TABLE = STORED_FIGHT_TABLE[(STORED_FIGHT_TABLE[\"Winner\"] == 1) | (STORED_FIGHT_TABLE[\"Winner\"] == 0)]\n",
        "STORED_FIGHT_TABLE"
      ],
      "execution_count": 6,
      "outputs": [
        {
          "output_type": "execute_result",
          "data": {
            "text/plain": [
              "      Fighter 0 KD  Fighter 1 KD  Fighter 0 Sig. str.  Fighter 1 Sig. str.  \\\n",
              "0                0             0                  150                   62   \n",
              "1                0             0                  105                   88   \n",
              "2                0             0                   21                   27   \n",
              "3                0             1                   66                   55   \n",
              "4                0             0                   90                   80   \n",
              "...            ...           ...                  ...                  ...   \n",
              "5888             2             0                   24                   16   \n",
              "5889             0             0                   19                   24   \n",
              "5890             0             0                   14                   13   \n",
              "5891             0             0                    9                    3   \n",
              "5892             0             0                   31                   11   \n",
              "\n",
              "      Fighter 0 Sig. str. %  Fighter 1 Sig. str. %  Fighter 0 Total str.  \\\n",
              "0                      52.0                   29.0                   169   \n",
              "1                      47.0                   45.0                   109   \n",
              "2                      44.0                   49.0                    32   \n",
              "3                      58.0                   46.0                    84   \n",
              "4                      46.0                   47.0                    90   \n",
              "...                     ...                    ...                   ...   \n",
              "5888                   68.0                   33.0                    49   \n",
              "5889                   55.0                   55.0                    95   \n",
              "5890                   35.0                   19.0                    30   \n",
              "5891                   56.0                   60.0                    17   \n",
              "5892                   70.0                   30.0                    53   \n",
              "\n",
              "      Fighter 1 Total str.  Fighter 0 Td  Fighter 1 Td  ...  Fighter 0 Leg  \\\n",
              "0                       70             4             1  ...             22   \n",
              "1                       99             0             0  ...             25   \n",
              "2                       91             0             8  ...              1   \n",
              "3                       72             3             0  ...              7   \n",
              "4                       82             0             4  ...              4   \n",
              "...                    ...           ...           ...  ...            ...   \n",
              "5888                    31             0             1  ...             12   \n",
              "5889                   145             1             2  ...              5   \n",
              "5890                    15             3             0  ...              3   \n",
              "5891                    11             1             0  ...              2   \n",
              "5892                    21             4             2  ...              4   \n",
              "\n",
              "      Fighter 1 Leg  Fighter 0 Distance  Fighter 1 Distance  Fighter 0 Clinch  \\\n",
              "0                13                 138                  59                 5   \n",
              "1                17                 103                  84                 2   \n",
              "2                 1                  14                  18                 5   \n",
              "3                17                  39                  50                 7   \n",
              "4                20                  88                  77                 2   \n",
              "...             ...                 ...                 ...               ...   \n",
              "5888              0                  17                   7                 4   \n",
              "5889              2                   4                   1                15   \n",
              "5890              0                  11                  12                 0   \n",
              "5891              0                   2                   0                 5   \n",
              "5892              1                  11                   4                 1   \n",
              "\n",
              "      Fighter 1 Clinch  Fighter 0 Ground  Fighter 1 Ground Winner  \\\n",
              "0                    3                 7                 0      0   \n",
              "1                    4                 0                 0      0   \n",
              "2                    3                 2                 6      1   \n",
              "3                    4                20                 1      0   \n",
              "4                    3                 0                 0      0   \n",
              "...                ...               ...               ...    ...   \n",
              "5888                 4                 3                 5      0   \n",
              "5889                23                 0                 0      0   \n",
              "5890                 1                 3                 0      0   \n",
              "5891                 3                 2                 0      0   \n",
              "5892                 0                19                 7      0   \n",
              "\n",
              "                     Method  \n",
              "0                     U-DEC  \n",
              "1                     U-DEC  \n",
              "2                     U-DEC  \n",
              "3                     S-DEC  \n",
              "4                     S-DEC  \n",
              "...                     ...  \n",
              "5888          KO/TKO  Punch  \n",
              "5889                  S-DEC  \n",
              "5890                  U-DEC  \n",
              "5891  SUB  Guillotine Choke  \n",
              "5892        KO/TKO  Punches  \n",
              "\n",
              "[5893 rows x 34 columns]"
            ],
            "text/html": [
              "\n",
              "  <div id=\"df-9540ca83-1312-413e-ae50-4f2807e48165\">\n",
              "    <div class=\"colab-df-container\">\n",
              "      <div>\n",
              "<style scoped>\n",
              "    .dataframe tbody tr th:only-of-type {\n",
              "        vertical-align: middle;\n",
              "    }\n",
              "\n",
              "    .dataframe tbody tr th {\n",
              "        vertical-align: top;\n",
              "    }\n",
              "\n",
              "    .dataframe thead th {\n",
              "        text-align: right;\n",
              "    }\n",
              "</style>\n",
              "<table border=\"1\" class=\"dataframe\">\n",
              "  <thead>\n",
              "    <tr style=\"text-align: right;\">\n",
              "      <th></th>\n",
              "      <th>Fighter 0 KD</th>\n",
              "      <th>Fighter 1 KD</th>\n",
              "      <th>Fighter 0 Sig. str.</th>\n",
              "      <th>Fighter 1 Sig. str.</th>\n",
              "      <th>Fighter 0 Sig. str. %</th>\n",
              "      <th>Fighter 1 Sig. str. %</th>\n",
              "      <th>Fighter 0 Total str.</th>\n",
              "      <th>Fighter 1 Total str.</th>\n",
              "      <th>Fighter 0 Td</th>\n",
              "      <th>Fighter 1 Td</th>\n",
              "      <th>...</th>\n",
              "      <th>Fighter 0 Leg</th>\n",
              "      <th>Fighter 1 Leg</th>\n",
              "      <th>Fighter 0 Distance</th>\n",
              "      <th>Fighter 1 Distance</th>\n",
              "      <th>Fighter 0 Clinch</th>\n",
              "      <th>Fighter 1 Clinch</th>\n",
              "      <th>Fighter 0 Ground</th>\n",
              "      <th>Fighter 1 Ground</th>\n",
              "      <th>Winner</th>\n",
              "      <th>Method</th>\n",
              "    </tr>\n",
              "  </thead>\n",
              "  <tbody>\n",
              "    <tr>\n",
              "      <th>0</th>\n",
              "      <td>0</td>\n",
              "      <td>0</td>\n",
              "      <td>150</td>\n",
              "      <td>62</td>\n",
              "      <td>52.0</td>\n",
              "      <td>29.0</td>\n",
              "      <td>169</td>\n",
              "      <td>70</td>\n",
              "      <td>4</td>\n",
              "      <td>1</td>\n",
              "      <td>...</td>\n",
              "      <td>22</td>\n",
              "      <td>13</td>\n",
              "      <td>138</td>\n",
              "      <td>59</td>\n",
              "      <td>5</td>\n",
              "      <td>3</td>\n",
              "      <td>7</td>\n",
              "      <td>0</td>\n",
              "      <td>0</td>\n",
              "      <td>U-DEC</td>\n",
              "    </tr>\n",
              "    <tr>\n",
              "      <th>1</th>\n",
              "      <td>0</td>\n",
              "      <td>0</td>\n",
              "      <td>105</td>\n",
              "      <td>88</td>\n",
              "      <td>47.0</td>\n",
              "      <td>45.0</td>\n",
              "      <td>109</td>\n",
              "      <td>99</td>\n",
              "      <td>0</td>\n",
              "      <td>0</td>\n",
              "      <td>...</td>\n",
              "      <td>25</td>\n",
              "      <td>17</td>\n",
              "      <td>103</td>\n",
              "      <td>84</td>\n",
              "      <td>2</td>\n",
              "      <td>4</td>\n",
              "      <td>0</td>\n",
              "      <td>0</td>\n",
              "      <td>0</td>\n",
              "      <td>U-DEC</td>\n",
              "    </tr>\n",
              "    <tr>\n",
              "      <th>2</th>\n",
              "      <td>0</td>\n",
              "      <td>0</td>\n",
              "      <td>21</td>\n",
              "      <td>27</td>\n",
              "      <td>44.0</td>\n",
              "      <td>49.0</td>\n",
              "      <td>32</td>\n",
              "      <td>91</td>\n",
              "      <td>0</td>\n",
              "      <td>8</td>\n",
              "      <td>...</td>\n",
              "      <td>1</td>\n",
              "      <td>1</td>\n",
              "      <td>14</td>\n",
              "      <td>18</td>\n",
              "      <td>5</td>\n",
              "      <td>3</td>\n",
              "      <td>2</td>\n",
              "      <td>6</td>\n",
              "      <td>1</td>\n",
              "      <td>U-DEC</td>\n",
              "    </tr>\n",
              "    <tr>\n",
              "      <th>3</th>\n",
              "      <td>0</td>\n",
              "      <td>1</td>\n",
              "      <td>66</td>\n",
              "      <td>55</td>\n",
              "      <td>58.0</td>\n",
              "      <td>46.0</td>\n",
              "      <td>84</td>\n",
              "      <td>72</td>\n",
              "      <td>3</td>\n",
              "      <td>0</td>\n",
              "      <td>...</td>\n",
              "      <td>7</td>\n",
              "      <td>17</td>\n",
              "      <td>39</td>\n",
              "      <td>50</td>\n",
              "      <td>7</td>\n",
              "      <td>4</td>\n",
              "      <td>20</td>\n",
              "      <td>1</td>\n",
              "      <td>0</td>\n",
              "      <td>S-DEC</td>\n",
              "    </tr>\n",
              "    <tr>\n",
              "      <th>4</th>\n",
              "      <td>0</td>\n",
              "      <td>0</td>\n",
              "      <td>90</td>\n",
              "      <td>80</td>\n",
              "      <td>46.0</td>\n",
              "      <td>47.0</td>\n",
              "      <td>90</td>\n",
              "      <td>82</td>\n",
              "      <td>0</td>\n",
              "      <td>4</td>\n",
              "      <td>...</td>\n",
              "      <td>4</td>\n",
              "      <td>20</td>\n",
              "      <td>88</td>\n",
              "      <td>77</td>\n",
              "      <td>2</td>\n",
              "      <td>3</td>\n",
              "      <td>0</td>\n",
              "      <td>0</td>\n",
              "      <td>0</td>\n",
              "      <td>S-DEC</td>\n",
              "    </tr>\n",
              "    <tr>\n",
              "      <th>...</th>\n",
              "      <td>...</td>\n",
              "      <td>...</td>\n",
              "      <td>...</td>\n",
              "      <td>...</td>\n",
              "      <td>...</td>\n",
              "      <td>...</td>\n",
              "      <td>...</td>\n",
              "      <td>...</td>\n",
              "      <td>...</td>\n",
              "      <td>...</td>\n",
              "      <td>...</td>\n",
              "      <td>...</td>\n",
              "      <td>...</td>\n",
              "      <td>...</td>\n",
              "      <td>...</td>\n",
              "      <td>...</td>\n",
              "      <td>...</td>\n",
              "      <td>...</td>\n",
              "      <td>...</td>\n",
              "      <td>...</td>\n",
              "      <td>...</td>\n",
              "    </tr>\n",
              "    <tr>\n",
              "      <th>5888</th>\n",
              "      <td>2</td>\n",
              "      <td>0</td>\n",
              "      <td>24</td>\n",
              "      <td>16</td>\n",
              "      <td>68.0</td>\n",
              "      <td>33.0</td>\n",
              "      <td>49</td>\n",
              "      <td>31</td>\n",
              "      <td>0</td>\n",
              "      <td>1</td>\n",
              "      <td>...</td>\n",
              "      <td>12</td>\n",
              "      <td>0</td>\n",
              "      <td>17</td>\n",
              "      <td>7</td>\n",
              "      <td>4</td>\n",
              "      <td>4</td>\n",
              "      <td>3</td>\n",
              "      <td>5</td>\n",
              "      <td>0</td>\n",
              "      <td>KO/TKO  Punch</td>\n",
              "    </tr>\n",
              "    <tr>\n",
              "      <th>5889</th>\n",
              "      <td>0</td>\n",
              "      <td>0</td>\n",
              "      <td>19</td>\n",
              "      <td>24</td>\n",
              "      <td>55.0</td>\n",
              "      <td>55.0</td>\n",
              "      <td>95</td>\n",
              "      <td>145</td>\n",
              "      <td>1</td>\n",
              "      <td>2</td>\n",
              "      <td>...</td>\n",
              "      <td>5</td>\n",
              "      <td>2</td>\n",
              "      <td>4</td>\n",
              "      <td>1</td>\n",
              "      <td>15</td>\n",
              "      <td>23</td>\n",
              "      <td>0</td>\n",
              "      <td>0</td>\n",
              "      <td>0</td>\n",
              "      <td>S-DEC</td>\n",
              "    </tr>\n",
              "    <tr>\n",
              "      <th>5890</th>\n",
              "      <td>0</td>\n",
              "      <td>0</td>\n",
              "      <td>14</td>\n",
              "      <td>13</td>\n",
              "      <td>35.0</td>\n",
              "      <td>19.0</td>\n",
              "      <td>30</td>\n",
              "      <td>15</td>\n",
              "      <td>3</td>\n",
              "      <td>0</td>\n",
              "      <td>...</td>\n",
              "      <td>3</td>\n",
              "      <td>0</td>\n",
              "      <td>11</td>\n",
              "      <td>12</td>\n",
              "      <td>0</td>\n",
              "      <td>1</td>\n",
              "      <td>3</td>\n",
              "      <td>0</td>\n",
              "      <td>0</td>\n",
              "      <td>U-DEC</td>\n",
              "    </tr>\n",
              "    <tr>\n",
              "      <th>5891</th>\n",
              "      <td>0</td>\n",
              "      <td>0</td>\n",
              "      <td>9</td>\n",
              "      <td>3</td>\n",
              "      <td>56.0</td>\n",
              "      <td>60.0</td>\n",
              "      <td>17</td>\n",
              "      <td>11</td>\n",
              "      <td>1</td>\n",
              "      <td>0</td>\n",
              "      <td>...</td>\n",
              "      <td>2</td>\n",
              "      <td>0</td>\n",
              "      <td>2</td>\n",
              "      <td>0</td>\n",
              "      <td>5</td>\n",
              "      <td>3</td>\n",
              "      <td>2</td>\n",
              "      <td>0</td>\n",
              "      <td>0</td>\n",
              "      <td>SUB  Guillotine Choke</td>\n",
              "    </tr>\n",
              "    <tr>\n",
              "      <th>5892</th>\n",
              "      <td>0</td>\n",
              "      <td>0</td>\n",
              "      <td>31</td>\n",
              "      <td>11</td>\n",
              "      <td>70.0</td>\n",
              "      <td>30.0</td>\n",
              "      <td>53</td>\n",
              "      <td>21</td>\n",
              "      <td>4</td>\n",
              "      <td>2</td>\n",
              "      <td>...</td>\n",
              "      <td>4</td>\n",
              "      <td>1</td>\n",
              "      <td>11</td>\n",
              "      <td>4</td>\n",
              "      <td>1</td>\n",
              "      <td>0</td>\n",
              "      <td>19</td>\n",
              "      <td>7</td>\n",
              "      <td>0</td>\n",
              "      <td>KO/TKO  Punches</td>\n",
              "    </tr>\n",
              "  </tbody>\n",
              "</table>\n",
              "<p>5893 rows × 34 columns</p>\n",
              "</div>\n",
              "      <button class=\"colab-df-convert\" onclick=\"convertToInteractive('df-9540ca83-1312-413e-ae50-4f2807e48165')\"\n",
              "              title=\"Convert this dataframe to an interactive table.\"\n",
              "              style=\"display:none;\">\n",
              "        \n",
              "  <svg xmlns=\"http://www.w3.org/2000/svg\" height=\"24px\"viewBox=\"0 0 24 24\"\n",
              "       width=\"24px\">\n",
              "    <path d=\"M0 0h24v24H0V0z\" fill=\"none\"/>\n",
              "    <path d=\"M18.56 5.44l.94 2.06.94-2.06 2.06-.94-2.06-.94-.94-2.06-.94 2.06-2.06.94zm-11 1L8.5 8.5l.94-2.06 2.06-.94-2.06-.94L8.5 2.5l-.94 2.06-2.06.94zm10 10l.94 2.06.94-2.06 2.06-.94-2.06-.94-.94-2.06-.94 2.06-2.06.94z\"/><path d=\"M17.41 7.96l-1.37-1.37c-.4-.4-.92-.59-1.43-.59-.52 0-1.04.2-1.43.59L10.3 9.45l-7.72 7.72c-.78.78-.78 2.05 0 2.83L4 21.41c.39.39.9.59 1.41.59.51 0 1.02-.2 1.41-.59l7.78-7.78 2.81-2.81c.8-.78.8-2.07 0-2.86zM5.41 20L4 18.59l7.72-7.72 1.47 1.35L5.41 20z\"/>\n",
              "  </svg>\n",
              "      </button>\n",
              "      \n",
              "  <style>\n",
              "    .colab-df-container {\n",
              "      display:flex;\n",
              "      flex-wrap:wrap;\n",
              "      gap: 12px;\n",
              "    }\n",
              "\n",
              "    .colab-df-convert {\n",
              "      background-color: #E8F0FE;\n",
              "      border: none;\n",
              "      border-radius: 50%;\n",
              "      cursor: pointer;\n",
              "      display: none;\n",
              "      fill: #1967D2;\n",
              "      height: 32px;\n",
              "      padding: 0 0 0 0;\n",
              "      width: 32px;\n",
              "    }\n",
              "\n",
              "    .colab-df-convert:hover {\n",
              "      background-color: #E2EBFA;\n",
              "      box-shadow: 0px 1px 2px rgba(60, 64, 67, 0.3), 0px 1px 3px 1px rgba(60, 64, 67, 0.15);\n",
              "      fill: #174EA6;\n",
              "    }\n",
              "\n",
              "    [theme=dark] .colab-df-convert {\n",
              "      background-color: #3B4455;\n",
              "      fill: #D2E3FC;\n",
              "    }\n",
              "\n",
              "    [theme=dark] .colab-df-convert:hover {\n",
              "      background-color: #434B5C;\n",
              "      box-shadow: 0px 1px 3px 1px rgba(0, 0, 0, 0.15);\n",
              "      filter: drop-shadow(0px 1px 2px rgba(0, 0, 0, 0.3));\n",
              "      fill: #FFFFFF;\n",
              "    }\n",
              "  </style>\n",
              "\n",
              "      <script>\n",
              "        const buttonEl =\n",
              "          document.querySelector('#df-9540ca83-1312-413e-ae50-4f2807e48165 button.colab-df-convert');\n",
              "        buttonEl.style.display =\n",
              "          google.colab.kernel.accessAllowed ? 'block' : 'none';\n",
              "\n",
              "        async function convertToInteractive(key) {\n",
              "          const element = document.querySelector('#df-9540ca83-1312-413e-ae50-4f2807e48165');\n",
              "          const dataTable =\n",
              "            await google.colab.kernel.invokeFunction('convertToInteractive',\n",
              "                                                     [key], {});\n",
              "          if (!dataTable) return;\n",
              "\n",
              "          const docLinkHtml = 'Like what you see? Visit the ' +\n",
              "            '<a target=\"_blank\" href=https://colab.research.google.com/notebooks/data_table.ipynb>data table notebook</a>'\n",
              "            + ' to learn more about interactive tables.';\n",
              "          element.innerHTML = '';\n",
              "          dataTable['output_type'] = 'display_data';\n",
              "          await google.colab.output.renderOutput(dataTable, element);\n",
              "          const docLink = document.createElement('div');\n",
              "          docLink.innerHTML = docLinkHtml;\n",
              "          element.appendChild(docLink);\n",
              "        }\n",
              "      </script>\n",
              "    </div>\n",
              "  </div>\n",
              "  "
            ]
          },
          "metadata": {},
          "execution_count": 6
        }
      ]
    },
    {
      "cell_type": "code",
      "metadata": {
        "id": "fHjSOBfobBva"
      },
      "source": [
        "fighter0 = \"Gleison Tibau\"\n",
        "fighter1 = \"Josh Neer\""
      ],
      "execution_count": 7,
      "outputs": []
    },
    {
      "cell_type": "code",
      "metadata": {
        "id": "GmN9zUneP1wI"
      },
      "source": [
        "controversial = STORED_FIGHT_TABLE[(STORED_FIGHT_TABLE[\"Fighter 0 Name\"] == fighter0)]\n",
        "without_controversial = STORED_FIGHT_TABLE.drop(index=controversial.index)"
      ],
      "execution_count": 8,
      "outputs": []
    },
    {
      "cell_type": "code",
      "metadata": {
        "id": "h2OTM47lT6tq"
      },
      "source": [
        "controversial = STORED_FIGHT_TABLE[(STORED_FIGHT_TABLE[\"Fighter 0 Name\"] == fighter0) & (STORED_FIGHT_TABLE[\"Fighter 1 Name\"] == fighter1)]\n",
        "without_controversial = STORED_FIGHT_TABLE.drop(index=controversial.index)"
      ],
      "execution_count": 9,
      "outputs": []
    },
    {
      "cell_type": "code",
      "metadata": {
        "colab": {
          "base_uri": "https://localhost:8080/",
          "height": 177
        },
        "id": "KrwHq6IaUluO",
        "outputId": "a0e2c8e2-bf62-4f9a-a3e7-4f25b9fc84af"
      },
      "source": [
        "without_controversial[(without_controversial[\"Fighter 0 Name\"] == fighter0) & (without_controversial[\"Fighter 1 Name\"] == fighter1)]"
      ],
      "execution_count": 10,
      "outputs": [
        {
          "output_type": "execute_result",
          "data": {
            "text/plain": [
              "Empty DataFrame\n",
              "Columns: [Fighter 0 KD, Fighter 1 KD, Fighter 0 Sig. str., Fighter 1 Sig. str., Fighter 0 Sig. str. %, Fighter 1 Sig. str. %, Fighter 0 Total str., Fighter 1 Total str., Fighter 0 Td, Fighter 1 Td, Fighter 0 Td %, Fighter 1 Td %, Fighter 0 Sub. att, Fighter 1 Sub. att, Fighter 0 Rev., Fighter 1 Rev., Fighter 0 Ctrl, Fighter 1 Ctrl, Fighter 0 Name, Fighter 1 Name, Fighter 0 Head, Fighter 1 Head, Fighter 0 Body, Fighter 1 Body, Fighter 0 Leg, Fighter 1 Leg, Fighter 0 Distance, Fighter 1 Distance, Fighter 0 Clinch, Fighter 1 Clinch, Fighter 0 Ground, Fighter 1 Ground, Winner, Method]\n",
              "Index: []\n",
              "\n",
              "[0 rows x 34 columns]"
            ],
            "text/html": [
              "\n",
              "  <div id=\"df-dbede0f3-588c-412f-87ef-4e5ab45ec5de\">\n",
              "    <div class=\"colab-df-container\">\n",
              "      <div>\n",
              "<style scoped>\n",
              "    .dataframe tbody tr th:only-of-type {\n",
              "        vertical-align: middle;\n",
              "    }\n",
              "\n",
              "    .dataframe tbody tr th {\n",
              "        vertical-align: top;\n",
              "    }\n",
              "\n",
              "    .dataframe thead th {\n",
              "        text-align: right;\n",
              "    }\n",
              "</style>\n",
              "<table border=\"1\" class=\"dataframe\">\n",
              "  <thead>\n",
              "    <tr style=\"text-align: right;\">\n",
              "      <th></th>\n",
              "      <th>Fighter 0 KD</th>\n",
              "      <th>Fighter 1 KD</th>\n",
              "      <th>Fighter 0 Sig. str.</th>\n",
              "      <th>Fighter 1 Sig. str.</th>\n",
              "      <th>Fighter 0 Sig. str. %</th>\n",
              "      <th>Fighter 1 Sig. str. %</th>\n",
              "      <th>Fighter 0 Total str.</th>\n",
              "      <th>Fighter 1 Total str.</th>\n",
              "      <th>Fighter 0 Td</th>\n",
              "      <th>Fighter 1 Td</th>\n",
              "      <th>...</th>\n",
              "      <th>Fighter 0 Leg</th>\n",
              "      <th>Fighter 1 Leg</th>\n",
              "      <th>Fighter 0 Distance</th>\n",
              "      <th>Fighter 1 Distance</th>\n",
              "      <th>Fighter 0 Clinch</th>\n",
              "      <th>Fighter 1 Clinch</th>\n",
              "      <th>Fighter 0 Ground</th>\n",
              "      <th>Fighter 1 Ground</th>\n",
              "      <th>Winner</th>\n",
              "      <th>Method</th>\n",
              "    </tr>\n",
              "  </thead>\n",
              "  <tbody>\n",
              "  </tbody>\n",
              "</table>\n",
              "<p>0 rows × 34 columns</p>\n",
              "</div>\n",
              "      <button class=\"colab-df-convert\" onclick=\"convertToInteractive('df-dbede0f3-588c-412f-87ef-4e5ab45ec5de')\"\n",
              "              title=\"Convert this dataframe to an interactive table.\"\n",
              "              style=\"display:none;\">\n",
              "        \n",
              "  <svg xmlns=\"http://www.w3.org/2000/svg\" height=\"24px\"viewBox=\"0 0 24 24\"\n",
              "       width=\"24px\">\n",
              "    <path d=\"M0 0h24v24H0V0z\" fill=\"none\"/>\n",
              "    <path d=\"M18.56 5.44l.94 2.06.94-2.06 2.06-.94-2.06-.94-.94-2.06-.94 2.06-2.06.94zm-11 1L8.5 8.5l.94-2.06 2.06-.94-2.06-.94L8.5 2.5l-.94 2.06-2.06.94zm10 10l.94 2.06.94-2.06 2.06-.94-2.06-.94-.94-2.06-.94 2.06-2.06.94z\"/><path d=\"M17.41 7.96l-1.37-1.37c-.4-.4-.92-.59-1.43-.59-.52 0-1.04.2-1.43.59L10.3 9.45l-7.72 7.72c-.78.78-.78 2.05 0 2.83L4 21.41c.39.39.9.59 1.41.59.51 0 1.02-.2 1.41-.59l7.78-7.78 2.81-2.81c.8-.78.8-2.07 0-2.86zM5.41 20L4 18.59l7.72-7.72 1.47 1.35L5.41 20z\"/>\n",
              "  </svg>\n",
              "      </button>\n",
              "      \n",
              "  <style>\n",
              "    .colab-df-container {\n",
              "      display:flex;\n",
              "      flex-wrap:wrap;\n",
              "      gap: 12px;\n",
              "    }\n",
              "\n",
              "    .colab-df-convert {\n",
              "      background-color: #E8F0FE;\n",
              "      border: none;\n",
              "      border-radius: 50%;\n",
              "      cursor: pointer;\n",
              "      display: none;\n",
              "      fill: #1967D2;\n",
              "      height: 32px;\n",
              "      padding: 0 0 0 0;\n",
              "      width: 32px;\n",
              "    }\n",
              "\n",
              "    .colab-df-convert:hover {\n",
              "      background-color: #E2EBFA;\n",
              "      box-shadow: 0px 1px 2px rgba(60, 64, 67, 0.3), 0px 1px 3px 1px rgba(60, 64, 67, 0.15);\n",
              "      fill: #174EA6;\n",
              "    }\n",
              "\n",
              "    [theme=dark] .colab-df-convert {\n",
              "      background-color: #3B4455;\n",
              "      fill: #D2E3FC;\n",
              "    }\n",
              "\n",
              "    [theme=dark] .colab-df-convert:hover {\n",
              "      background-color: #434B5C;\n",
              "      box-shadow: 0px 1px 3px 1px rgba(0, 0, 0, 0.15);\n",
              "      filter: drop-shadow(0px 1px 2px rgba(0, 0, 0, 0.3));\n",
              "      fill: #FFFFFF;\n",
              "    }\n",
              "  </style>\n",
              "\n",
              "      <script>\n",
              "        const buttonEl =\n",
              "          document.querySelector('#df-dbede0f3-588c-412f-87ef-4e5ab45ec5de button.colab-df-convert');\n",
              "        buttonEl.style.display =\n",
              "          google.colab.kernel.accessAllowed ? 'block' : 'none';\n",
              "\n",
              "        async function convertToInteractive(key) {\n",
              "          const element = document.querySelector('#df-dbede0f3-588c-412f-87ef-4e5ab45ec5de');\n",
              "          const dataTable =\n",
              "            await google.colab.kernel.invokeFunction('convertToInteractive',\n",
              "                                                     [key], {});\n",
              "          if (!dataTable) return;\n",
              "\n",
              "          const docLinkHtml = 'Like what you see? Visit the ' +\n",
              "            '<a target=\"_blank\" href=https://colab.research.google.com/notebooks/data_table.ipynb>data table notebook</a>'\n",
              "            + ' to learn more about interactive tables.';\n",
              "          element.innerHTML = '';\n",
              "          dataTable['output_type'] = 'display_data';\n",
              "          await google.colab.output.renderOutput(dataTable, element);\n",
              "          const docLink = document.createElement('div');\n",
              "          docLink.innerHTML = docLinkHtml;\n",
              "          element.appendChild(docLink);\n",
              "        }\n",
              "      </script>\n",
              "    </div>\n",
              "  </div>\n",
              "  "
            ]
          },
          "metadata": {},
          "execution_count": 10
        }
      ]
    },
    {
      "cell_type": "code",
      "source": [
        "controversial"
      ],
      "metadata": {
        "colab": {
          "base_uri": "https://localhost:8080/",
          "height": 208
        },
        "id": "95GixeC6spKm",
        "outputId": "53b27e7e-5e45-4a0d-890b-a00386e50ae6"
      },
      "execution_count": 11,
      "outputs": [
        {
          "output_type": "execute_result",
          "data": {
            "text/plain": [
              "      Fighter 0 KD  Fighter 1 KD  Fighter 0 Sig. str.  Fighter 1 Sig. str.  \\\n",
              "4845             0             0                   22                   24   \n",
              "\n",
              "      Fighter 0 Sig. str. %  Fighter 1 Sig. str. %  Fighter 0 Total str.  \\\n",
              "4845                   18.0                   24.0                    35   \n",
              "\n",
              "      Fighter 1 Total str.  Fighter 0 Td  Fighter 1 Td  ...  Fighter 0 Leg  \\\n",
              "4845                    47            11             0  ...              0   \n",
              "\n",
              "      Fighter 1 Leg  Fighter 0 Distance  Fighter 1 Distance  Fighter 0 Clinch  \\\n",
              "4845              7                  19                  22                 2   \n",
              "\n",
              "      Fighter 1 Clinch  Fighter 0 Ground  Fighter 1 Ground Winner Method  \n",
              "4845                 1                 1                 1      0  U-DEC  \n",
              "\n",
              "[1 rows x 34 columns]"
            ],
            "text/html": [
              "\n",
              "  <div id=\"df-1e9f07bf-87e0-415f-9fc4-b8ce682ce866\">\n",
              "    <div class=\"colab-df-container\">\n",
              "      <div>\n",
              "<style scoped>\n",
              "    .dataframe tbody tr th:only-of-type {\n",
              "        vertical-align: middle;\n",
              "    }\n",
              "\n",
              "    .dataframe tbody tr th {\n",
              "        vertical-align: top;\n",
              "    }\n",
              "\n",
              "    .dataframe thead th {\n",
              "        text-align: right;\n",
              "    }\n",
              "</style>\n",
              "<table border=\"1\" class=\"dataframe\">\n",
              "  <thead>\n",
              "    <tr style=\"text-align: right;\">\n",
              "      <th></th>\n",
              "      <th>Fighter 0 KD</th>\n",
              "      <th>Fighter 1 KD</th>\n",
              "      <th>Fighter 0 Sig. str.</th>\n",
              "      <th>Fighter 1 Sig. str.</th>\n",
              "      <th>Fighter 0 Sig. str. %</th>\n",
              "      <th>Fighter 1 Sig. str. %</th>\n",
              "      <th>Fighter 0 Total str.</th>\n",
              "      <th>Fighter 1 Total str.</th>\n",
              "      <th>Fighter 0 Td</th>\n",
              "      <th>Fighter 1 Td</th>\n",
              "      <th>...</th>\n",
              "      <th>Fighter 0 Leg</th>\n",
              "      <th>Fighter 1 Leg</th>\n",
              "      <th>Fighter 0 Distance</th>\n",
              "      <th>Fighter 1 Distance</th>\n",
              "      <th>Fighter 0 Clinch</th>\n",
              "      <th>Fighter 1 Clinch</th>\n",
              "      <th>Fighter 0 Ground</th>\n",
              "      <th>Fighter 1 Ground</th>\n",
              "      <th>Winner</th>\n",
              "      <th>Method</th>\n",
              "    </tr>\n",
              "  </thead>\n",
              "  <tbody>\n",
              "    <tr>\n",
              "      <th>4845</th>\n",
              "      <td>0</td>\n",
              "      <td>0</td>\n",
              "      <td>22</td>\n",
              "      <td>24</td>\n",
              "      <td>18.0</td>\n",
              "      <td>24.0</td>\n",
              "      <td>35</td>\n",
              "      <td>47</td>\n",
              "      <td>11</td>\n",
              "      <td>0</td>\n",
              "      <td>...</td>\n",
              "      <td>0</td>\n",
              "      <td>7</td>\n",
              "      <td>19</td>\n",
              "      <td>22</td>\n",
              "      <td>2</td>\n",
              "      <td>1</td>\n",
              "      <td>1</td>\n",
              "      <td>1</td>\n",
              "      <td>0</td>\n",
              "      <td>U-DEC</td>\n",
              "    </tr>\n",
              "  </tbody>\n",
              "</table>\n",
              "<p>1 rows × 34 columns</p>\n",
              "</div>\n",
              "      <button class=\"colab-df-convert\" onclick=\"convertToInteractive('df-1e9f07bf-87e0-415f-9fc4-b8ce682ce866')\"\n",
              "              title=\"Convert this dataframe to an interactive table.\"\n",
              "              style=\"display:none;\">\n",
              "        \n",
              "  <svg xmlns=\"http://www.w3.org/2000/svg\" height=\"24px\"viewBox=\"0 0 24 24\"\n",
              "       width=\"24px\">\n",
              "    <path d=\"M0 0h24v24H0V0z\" fill=\"none\"/>\n",
              "    <path d=\"M18.56 5.44l.94 2.06.94-2.06 2.06-.94-2.06-.94-.94-2.06-.94 2.06-2.06.94zm-11 1L8.5 8.5l.94-2.06 2.06-.94-2.06-.94L8.5 2.5l-.94 2.06-2.06.94zm10 10l.94 2.06.94-2.06 2.06-.94-2.06-.94-.94-2.06-.94 2.06-2.06.94z\"/><path d=\"M17.41 7.96l-1.37-1.37c-.4-.4-.92-.59-1.43-.59-.52 0-1.04.2-1.43.59L10.3 9.45l-7.72 7.72c-.78.78-.78 2.05 0 2.83L4 21.41c.39.39.9.59 1.41.59.51 0 1.02-.2 1.41-.59l7.78-7.78 2.81-2.81c.8-.78.8-2.07 0-2.86zM5.41 20L4 18.59l7.72-7.72 1.47 1.35L5.41 20z\"/>\n",
              "  </svg>\n",
              "      </button>\n",
              "      \n",
              "  <style>\n",
              "    .colab-df-container {\n",
              "      display:flex;\n",
              "      flex-wrap:wrap;\n",
              "      gap: 12px;\n",
              "    }\n",
              "\n",
              "    .colab-df-convert {\n",
              "      background-color: #E8F0FE;\n",
              "      border: none;\n",
              "      border-radius: 50%;\n",
              "      cursor: pointer;\n",
              "      display: none;\n",
              "      fill: #1967D2;\n",
              "      height: 32px;\n",
              "      padding: 0 0 0 0;\n",
              "      width: 32px;\n",
              "    }\n",
              "\n",
              "    .colab-df-convert:hover {\n",
              "      background-color: #E2EBFA;\n",
              "      box-shadow: 0px 1px 2px rgba(60, 64, 67, 0.3), 0px 1px 3px 1px rgba(60, 64, 67, 0.15);\n",
              "      fill: #174EA6;\n",
              "    }\n",
              "\n",
              "    [theme=dark] .colab-df-convert {\n",
              "      background-color: #3B4455;\n",
              "      fill: #D2E3FC;\n",
              "    }\n",
              "\n",
              "    [theme=dark] .colab-df-convert:hover {\n",
              "      background-color: #434B5C;\n",
              "      box-shadow: 0px 1px 3px 1px rgba(0, 0, 0, 0.15);\n",
              "      filter: drop-shadow(0px 1px 2px rgba(0, 0, 0, 0.3));\n",
              "      fill: #FFFFFF;\n",
              "    }\n",
              "  </style>\n",
              "\n",
              "      <script>\n",
              "        const buttonEl =\n",
              "          document.querySelector('#df-1e9f07bf-87e0-415f-9fc4-b8ce682ce866 button.colab-df-convert');\n",
              "        buttonEl.style.display =\n",
              "          google.colab.kernel.accessAllowed ? 'block' : 'none';\n",
              "\n",
              "        async function convertToInteractive(key) {\n",
              "          const element = document.querySelector('#df-1e9f07bf-87e0-415f-9fc4-b8ce682ce866');\n",
              "          const dataTable =\n",
              "            await google.colab.kernel.invokeFunction('convertToInteractive',\n",
              "                                                     [key], {});\n",
              "          if (!dataTable) return;\n",
              "\n",
              "          const docLinkHtml = 'Like what you see? Visit the ' +\n",
              "            '<a target=\"_blank\" href=https://colab.research.google.com/notebooks/data_table.ipynb>data table notebook</a>'\n",
              "            + ' to learn more about interactive tables.';\n",
              "          element.innerHTML = '';\n",
              "          dataTable['output_type'] = 'display_data';\n",
              "          await google.colab.output.renderOutput(dataTable, element);\n",
              "          const docLink = document.createElement('div');\n",
              "          docLink.innerHTML = docLinkHtml;\n",
              "          element.appendChild(docLink);\n",
              "        }\n",
              "      </script>\n",
              "    </div>\n",
              "  </div>\n",
              "  "
            ]
          },
          "metadata": {},
          "execution_count": 11
        }
      ]
    },
    {
      "cell_type": "code",
      "metadata": {
        "id": "SivCNBMTOSRZ"
      },
      "source": [
        "X_train = without_controversial.drop(['Winner', 'Fighter 0 Name', 'Fighter 1 Name', 'Method'], axis=1).fillna(0)\n",
        "y_train = without_controversial[['Winner']]"
      ],
      "execution_count": 12,
      "outputs": []
    },
    {
      "cell_type": "code",
      "metadata": {
        "id": "YRx9XQSrU8k_"
      },
      "source": [
        "X_valid = controversial.drop(['Winner', 'Fighter 0 Name', 'Fighter 1 Name', 'Method'], axis=1).fillna(0)\n",
        "y_valid = controversial[['Winner']]"
      ],
      "execution_count": 13,
      "outputs": []
    },
    {
      "cell_type": "code",
      "metadata": {
        "colab": {
          "base_uri": "https://localhost:8080/",
          "height": 334
        },
        "id": "hPjeCwkvVAMU",
        "outputId": "52865943-be4d-4d24-accc-3b2ca703bfa8"
      },
      "source": [
        "X_train.head()"
      ],
      "execution_count": 14,
      "outputs": [
        {
          "output_type": "execute_result",
          "data": {
            "text/plain": [
              "   Fighter 0 KD  Fighter 1 KD  Fighter 0 Sig. str.  Fighter 1 Sig. str.  \\\n",
              "0             0             0                  150                   62   \n",
              "1             0             0                  105                   88   \n",
              "2             0             0                   21                   27   \n",
              "3             0             1                   66                   55   \n",
              "4             0             0                   90                   80   \n",
              "\n",
              "   Fighter 0 Sig. str. %  Fighter 1 Sig. str. %  Fighter 0 Total str.  \\\n",
              "0                   52.0                   29.0                   169   \n",
              "1                   47.0                   45.0                   109   \n",
              "2                   44.0                   49.0                    32   \n",
              "3                   58.0                   46.0                    84   \n",
              "4                   46.0                   47.0                    90   \n",
              "\n",
              "   Fighter 1 Total str.  Fighter 0 Td  Fighter 1 Td  ...  Fighter 0 Body  \\\n",
              "0                    70             4             1  ...              13   \n",
              "1                    99             0             0  ...              26   \n",
              "2                    91             0             8  ...               9   \n",
              "3                    72             3             0  ...              19   \n",
              "4                    82             0             4  ...              12   \n",
              "\n",
              "   Fighter 1 Body  Fighter 0 Leg  Fighter 1 Leg  Fighter 0 Distance  \\\n",
              "0               7             22             13                 138   \n",
              "1              16             25             17                 103   \n",
              "2               2              1              1                  14   \n",
              "3               8              7             17                  39   \n",
              "4              20              4             20                  88   \n",
              "\n",
              "   Fighter 1 Distance  Fighter 0 Clinch  Fighter 1 Clinch  Fighter 0 Ground  \\\n",
              "0                  59                 5                 3                 7   \n",
              "1                  84                 2                 4                 0   \n",
              "2                  18                 5                 3                 2   \n",
              "3                  50                 7                 4                20   \n",
              "4                  77                 2                 3                 0   \n",
              "\n",
              "   Fighter 1 Ground  \n",
              "0                 0  \n",
              "1                 0  \n",
              "2                 6  \n",
              "3                 1  \n",
              "4                 0  \n",
              "\n",
              "[5 rows x 30 columns]"
            ],
            "text/html": [
              "\n",
              "  <div id=\"df-6514782d-dcf2-4708-8a02-5a91997bc44a\">\n",
              "    <div class=\"colab-df-container\">\n",
              "      <div>\n",
              "<style scoped>\n",
              "    .dataframe tbody tr th:only-of-type {\n",
              "        vertical-align: middle;\n",
              "    }\n",
              "\n",
              "    .dataframe tbody tr th {\n",
              "        vertical-align: top;\n",
              "    }\n",
              "\n",
              "    .dataframe thead th {\n",
              "        text-align: right;\n",
              "    }\n",
              "</style>\n",
              "<table border=\"1\" class=\"dataframe\">\n",
              "  <thead>\n",
              "    <tr style=\"text-align: right;\">\n",
              "      <th></th>\n",
              "      <th>Fighter 0 KD</th>\n",
              "      <th>Fighter 1 KD</th>\n",
              "      <th>Fighter 0 Sig. str.</th>\n",
              "      <th>Fighter 1 Sig. str.</th>\n",
              "      <th>Fighter 0 Sig. str. %</th>\n",
              "      <th>Fighter 1 Sig. str. %</th>\n",
              "      <th>Fighter 0 Total str.</th>\n",
              "      <th>Fighter 1 Total str.</th>\n",
              "      <th>Fighter 0 Td</th>\n",
              "      <th>Fighter 1 Td</th>\n",
              "      <th>...</th>\n",
              "      <th>Fighter 0 Body</th>\n",
              "      <th>Fighter 1 Body</th>\n",
              "      <th>Fighter 0 Leg</th>\n",
              "      <th>Fighter 1 Leg</th>\n",
              "      <th>Fighter 0 Distance</th>\n",
              "      <th>Fighter 1 Distance</th>\n",
              "      <th>Fighter 0 Clinch</th>\n",
              "      <th>Fighter 1 Clinch</th>\n",
              "      <th>Fighter 0 Ground</th>\n",
              "      <th>Fighter 1 Ground</th>\n",
              "    </tr>\n",
              "  </thead>\n",
              "  <tbody>\n",
              "    <tr>\n",
              "      <th>0</th>\n",
              "      <td>0</td>\n",
              "      <td>0</td>\n",
              "      <td>150</td>\n",
              "      <td>62</td>\n",
              "      <td>52.0</td>\n",
              "      <td>29.0</td>\n",
              "      <td>169</td>\n",
              "      <td>70</td>\n",
              "      <td>4</td>\n",
              "      <td>1</td>\n",
              "      <td>...</td>\n",
              "      <td>13</td>\n",
              "      <td>7</td>\n",
              "      <td>22</td>\n",
              "      <td>13</td>\n",
              "      <td>138</td>\n",
              "      <td>59</td>\n",
              "      <td>5</td>\n",
              "      <td>3</td>\n",
              "      <td>7</td>\n",
              "      <td>0</td>\n",
              "    </tr>\n",
              "    <tr>\n",
              "      <th>1</th>\n",
              "      <td>0</td>\n",
              "      <td>0</td>\n",
              "      <td>105</td>\n",
              "      <td>88</td>\n",
              "      <td>47.0</td>\n",
              "      <td>45.0</td>\n",
              "      <td>109</td>\n",
              "      <td>99</td>\n",
              "      <td>0</td>\n",
              "      <td>0</td>\n",
              "      <td>...</td>\n",
              "      <td>26</td>\n",
              "      <td>16</td>\n",
              "      <td>25</td>\n",
              "      <td>17</td>\n",
              "      <td>103</td>\n",
              "      <td>84</td>\n",
              "      <td>2</td>\n",
              "      <td>4</td>\n",
              "      <td>0</td>\n",
              "      <td>0</td>\n",
              "    </tr>\n",
              "    <tr>\n",
              "      <th>2</th>\n",
              "      <td>0</td>\n",
              "      <td>0</td>\n",
              "      <td>21</td>\n",
              "      <td>27</td>\n",
              "      <td>44.0</td>\n",
              "      <td>49.0</td>\n",
              "      <td>32</td>\n",
              "      <td>91</td>\n",
              "      <td>0</td>\n",
              "      <td>8</td>\n",
              "      <td>...</td>\n",
              "      <td>9</td>\n",
              "      <td>2</td>\n",
              "      <td>1</td>\n",
              "      <td>1</td>\n",
              "      <td>14</td>\n",
              "      <td>18</td>\n",
              "      <td>5</td>\n",
              "      <td>3</td>\n",
              "      <td>2</td>\n",
              "      <td>6</td>\n",
              "    </tr>\n",
              "    <tr>\n",
              "      <th>3</th>\n",
              "      <td>0</td>\n",
              "      <td>1</td>\n",
              "      <td>66</td>\n",
              "      <td>55</td>\n",
              "      <td>58.0</td>\n",
              "      <td>46.0</td>\n",
              "      <td>84</td>\n",
              "      <td>72</td>\n",
              "      <td>3</td>\n",
              "      <td>0</td>\n",
              "      <td>...</td>\n",
              "      <td>19</td>\n",
              "      <td>8</td>\n",
              "      <td>7</td>\n",
              "      <td>17</td>\n",
              "      <td>39</td>\n",
              "      <td>50</td>\n",
              "      <td>7</td>\n",
              "      <td>4</td>\n",
              "      <td>20</td>\n",
              "      <td>1</td>\n",
              "    </tr>\n",
              "    <tr>\n",
              "      <th>4</th>\n",
              "      <td>0</td>\n",
              "      <td>0</td>\n",
              "      <td>90</td>\n",
              "      <td>80</td>\n",
              "      <td>46.0</td>\n",
              "      <td>47.0</td>\n",
              "      <td>90</td>\n",
              "      <td>82</td>\n",
              "      <td>0</td>\n",
              "      <td>4</td>\n",
              "      <td>...</td>\n",
              "      <td>12</td>\n",
              "      <td>20</td>\n",
              "      <td>4</td>\n",
              "      <td>20</td>\n",
              "      <td>88</td>\n",
              "      <td>77</td>\n",
              "      <td>2</td>\n",
              "      <td>3</td>\n",
              "      <td>0</td>\n",
              "      <td>0</td>\n",
              "    </tr>\n",
              "  </tbody>\n",
              "</table>\n",
              "<p>5 rows × 30 columns</p>\n",
              "</div>\n",
              "      <button class=\"colab-df-convert\" onclick=\"convertToInteractive('df-6514782d-dcf2-4708-8a02-5a91997bc44a')\"\n",
              "              title=\"Convert this dataframe to an interactive table.\"\n",
              "              style=\"display:none;\">\n",
              "        \n",
              "  <svg xmlns=\"http://www.w3.org/2000/svg\" height=\"24px\"viewBox=\"0 0 24 24\"\n",
              "       width=\"24px\">\n",
              "    <path d=\"M0 0h24v24H0V0z\" fill=\"none\"/>\n",
              "    <path d=\"M18.56 5.44l.94 2.06.94-2.06 2.06-.94-2.06-.94-.94-2.06-.94 2.06-2.06.94zm-11 1L8.5 8.5l.94-2.06 2.06-.94-2.06-.94L8.5 2.5l-.94 2.06-2.06.94zm10 10l.94 2.06.94-2.06 2.06-.94-2.06-.94-.94-2.06-.94 2.06-2.06.94z\"/><path d=\"M17.41 7.96l-1.37-1.37c-.4-.4-.92-.59-1.43-.59-.52 0-1.04.2-1.43.59L10.3 9.45l-7.72 7.72c-.78.78-.78 2.05 0 2.83L4 21.41c.39.39.9.59 1.41.59.51 0 1.02-.2 1.41-.59l7.78-7.78 2.81-2.81c.8-.78.8-2.07 0-2.86zM5.41 20L4 18.59l7.72-7.72 1.47 1.35L5.41 20z\"/>\n",
              "  </svg>\n",
              "      </button>\n",
              "      \n",
              "  <style>\n",
              "    .colab-df-container {\n",
              "      display:flex;\n",
              "      flex-wrap:wrap;\n",
              "      gap: 12px;\n",
              "    }\n",
              "\n",
              "    .colab-df-convert {\n",
              "      background-color: #E8F0FE;\n",
              "      border: none;\n",
              "      border-radius: 50%;\n",
              "      cursor: pointer;\n",
              "      display: none;\n",
              "      fill: #1967D2;\n",
              "      height: 32px;\n",
              "      padding: 0 0 0 0;\n",
              "      width: 32px;\n",
              "    }\n",
              "\n",
              "    .colab-df-convert:hover {\n",
              "      background-color: #E2EBFA;\n",
              "      box-shadow: 0px 1px 2px rgba(60, 64, 67, 0.3), 0px 1px 3px 1px rgba(60, 64, 67, 0.15);\n",
              "      fill: #174EA6;\n",
              "    }\n",
              "\n",
              "    [theme=dark] .colab-df-convert {\n",
              "      background-color: #3B4455;\n",
              "      fill: #D2E3FC;\n",
              "    }\n",
              "\n",
              "    [theme=dark] .colab-df-convert:hover {\n",
              "      background-color: #434B5C;\n",
              "      box-shadow: 0px 1px 3px 1px rgba(0, 0, 0, 0.15);\n",
              "      filter: drop-shadow(0px 1px 2px rgba(0, 0, 0, 0.3));\n",
              "      fill: #FFFFFF;\n",
              "    }\n",
              "  </style>\n",
              "\n",
              "      <script>\n",
              "        const buttonEl =\n",
              "          document.querySelector('#df-6514782d-dcf2-4708-8a02-5a91997bc44a button.colab-df-convert');\n",
              "        buttonEl.style.display =\n",
              "          google.colab.kernel.accessAllowed ? 'block' : 'none';\n",
              "\n",
              "        async function convertToInteractive(key) {\n",
              "          const element = document.querySelector('#df-6514782d-dcf2-4708-8a02-5a91997bc44a');\n",
              "          const dataTable =\n",
              "            await google.colab.kernel.invokeFunction('convertToInteractive',\n",
              "                                                     [key], {});\n",
              "          if (!dataTable) return;\n",
              "\n",
              "          const docLinkHtml = 'Like what you see? Visit the ' +\n",
              "            '<a target=\"_blank\" href=https://colab.research.google.com/notebooks/data_table.ipynb>data table notebook</a>'\n",
              "            + ' to learn more about interactive tables.';\n",
              "          element.innerHTML = '';\n",
              "          dataTable['output_type'] = 'display_data';\n",
              "          await google.colab.output.renderOutput(dataTable, element);\n",
              "          const docLink = document.createElement('div');\n",
              "          docLink.innerHTML = docLinkHtml;\n",
              "          element.appendChild(docLink);\n",
              "        }\n",
              "      </script>\n",
              "    </div>\n",
              "  </div>\n",
              "  "
            ]
          },
          "metadata": {},
          "execution_count": 14
        }
      ]
    },
    {
      "cell_type": "code",
      "metadata": {
        "colab": {
          "base_uri": "https://localhost:8080/",
          "height": 206
        },
        "id": "jDjTAPh3VDV7",
        "outputId": "dc5f037c-3b57-4cae-914c-83d06deba2d9"
      },
      "source": [
        "y_train.head()"
      ],
      "execution_count": 15,
      "outputs": [
        {
          "output_type": "execute_result",
          "data": {
            "text/plain": [
              "   Winner\n",
              "0       0\n",
              "1       0\n",
              "2       1\n",
              "3       0\n",
              "4       0"
            ],
            "text/html": [
              "\n",
              "  <div id=\"df-cd7b3c5f-2f03-4d85-85a5-389b40310be4\">\n",
              "    <div class=\"colab-df-container\">\n",
              "      <div>\n",
              "<style scoped>\n",
              "    .dataframe tbody tr th:only-of-type {\n",
              "        vertical-align: middle;\n",
              "    }\n",
              "\n",
              "    .dataframe tbody tr th {\n",
              "        vertical-align: top;\n",
              "    }\n",
              "\n",
              "    .dataframe thead th {\n",
              "        text-align: right;\n",
              "    }\n",
              "</style>\n",
              "<table border=\"1\" class=\"dataframe\">\n",
              "  <thead>\n",
              "    <tr style=\"text-align: right;\">\n",
              "      <th></th>\n",
              "      <th>Winner</th>\n",
              "    </tr>\n",
              "  </thead>\n",
              "  <tbody>\n",
              "    <tr>\n",
              "      <th>0</th>\n",
              "      <td>0</td>\n",
              "    </tr>\n",
              "    <tr>\n",
              "      <th>1</th>\n",
              "      <td>0</td>\n",
              "    </tr>\n",
              "    <tr>\n",
              "      <th>2</th>\n",
              "      <td>1</td>\n",
              "    </tr>\n",
              "    <tr>\n",
              "      <th>3</th>\n",
              "      <td>0</td>\n",
              "    </tr>\n",
              "    <tr>\n",
              "      <th>4</th>\n",
              "      <td>0</td>\n",
              "    </tr>\n",
              "  </tbody>\n",
              "</table>\n",
              "</div>\n",
              "      <button class=\"colab-df-convert\" onclick=\"convertToInteractive('df-cd7b3c5f-2f03-4d85-85a5-389b40310be4')\"\n",
              "              title=\"Convert this dataframe to an interactive table.\"\n",
              "              style=\"display:none;\">\n",
              "        \n",
              "  <svg xmlns=\"http://www.w3.org/2000/svg\" height=\"24px\"viewBox=\"0 0 24 24\"\n",
              "       width=\"24px\">\n",
              "    <path d=\"M0 0h24v24H0V0z\" fill=\"none\"/>\n",
              "    <path d=\"M18.56 5.44l.94 2.06.94-2.06 2.06-.94-2.06-.94-.94-2.06-.94 2.06-2.06.94zm-11 1L8.5 8.5l.94-2.06 2.06-.94-2.06-.94L8.5 2.5l-.94 2.06-2.06.94zm10 10l.94 2.06.94-2.06 2.06-.94-2.06-.94-.94-2.06-.94 2.06-2.06.94z\"/><path d=\"M17.41 7.96l-1.37-1.37c-.4-.4-.92-.59-1.43-.59-.52 0-1.04.2-1.43.59L10.3 9.45l-7.72 7.72c-.78.78-.78 2.05 0 2.83L4 21.41c.39.39.9.59 1.41.59.51 0 1.02-.2 1.41-.59l7.78-7.78 2.81-2.81c.8-.78.8-2.07 0-2.86zM5.41 20L4 18.59l7.72-7.72 1.47 1.35L5.41 20z\"/>\n",
              "  </svg>\n",
              "      </button>\n",
              "      \n",
              "  <style>\n",
              "    .colab-df-container {\n",
              "      display:flex;\n",
              "      flex-wrap:wrap;\n",
              "      gap: 12px;\n",
              "    }\n",
              "\n",
              "    .colab-df-convert {\n",
              "      background-color: #E8F0FE;\n",
              "      border: none;\n",
              "      border-radius: 50%;\n",
              "      cursor: pointer;\n",
              "      display: none;\n",
              "      fill: #1967D2;\n",
              "      height: 32px;\n",
              "      padding: 0 0 0 0;\n",
              "      width: 32px;\n",
              "    }\n",
              "\n",
              "    .colab-df-convert:hover {\n",
              "      background-color: #E2EBFA;\n",
              "      box-shadow: 0px 1px 2px rgba(60, 64, 67, 0.3), 0px 1px 3px 1px rgba(60, 64, 67, 0.15);\n",
              "      fill: #174EA6;\n",
              "    }\n",
              "\n",
              "    [theme=dark] .colab-df-convert {\n",
              "      background-color: #3B4455;\n",
              "      fill: #D2E3FC;\n",
              "    }\n",
              "\n",
              "    [theme=dark] .colab-df-convert:hover {\n",
              "      background-color: #434B5C;\n",
              "      box-shadow: 0px 1px 3px 1px rgba(0, 0, 0, 0.15);\n",
              "      filter: drop-shadow(0px 1px 2px rgba(0, 0, 0, 0.3));\n",
              "      fill: #FFFFFF;\n",
              "    }\n",
              "  </style>\n",
              "\n",
              "      <script>\n",
              "        const buttonEl =\n",
              "          document.querySelector('#df-cd7b3c5f-2f03-4d85-85a5-389b40310be4 button.colab-df-convert');\n",
              "        buttonEl.style.display =\n",
              "          google.colab.kernel.accessAllowed ? 'block' : 'none';\n",
              "\n",
              "        async function convertToInteractive(key) {\n",
              "          const element = document.querySelector('#df-cd7b3c5f-2f03-4d85-85a5-389b40310be4');\n",
              "          const dataTable =\n",
              "            await google.colab.kernel.invokeFunction('convertToInteractive',\n",
              "                                                     [key], {});\n",
              "          if (!dataTable) return;\n",
              "\n",
              "          const docLinkHtml = 'Like what you see? Visit the ' +\n",
              "            '<a target=\"_blank\" href=https://colab.research.google.com/notebooks/data_table.ipynb>data table notebook</a>'\n",
              "            + ' to learn more about interactive tables.';\n",
              "          element.innerHTML = '';\n",
              "          dataTable['output_type'] = 'display_data';\n",
              "          await google.colab.output.renderOutput(dataTable, element);\n",
              "          const docLink = document.createElement('div');\n",
              "          docLink.innerHTML = docLinkHtml;\n",
              "          element.appendChild(docLink);\n",
              "        }\n",
              "      </script>\n",
              "    </div>\n",
              "  </div>\n",
              "  "
            ]
          },
          "metadata": {},
          "execution_count": 15
        }
      ]
    },
    {
      "cell_type": "code",
      "metadata": {
        "colab": {
          "base_uri": "https://localhost:8080/",
          "height": 208
        },
        "id": "ZXIKtExwVE1K",
        "outputId": "f33e2726-8884-43c6-9608-6a966c2cd2e9"
      },
      "source": [
        "X_valid.head()"
      ],
      "execution_count": 16,
      "outputs": [
        {
          "output_type": "execute_result",
          "data": {
            "text/plain": [
              "      Fighter 0 KD  Fighter 1 KD  Fighter 0 Sig. str.  Fighter 1 Sig. str.  \\\n",
              "4845             0             0                   22                   24   \n",
              "\n",
              "      Fighter 0 Sig. str. %  Fighter 1 Sig. str. %  Fighter 0 Total str.  \\\n",
              "4845                   18.0                   24.0                    35   \n",
              "\n",
              "      Fighter 1 Total str.  Fighter 0 Td  Fighter 1 Td  ...  Fighter 0 Body  \\\n",
              "4845                    47            11             0  ...               1   \n",
              "\n",
              "      Fighter 1 Body  Fighter 0 Leg  Fighter 1 Leg  Fighter 0 Distance  \\\n",
              "4845               5              0              7                  19   \n",
              "\n",
              "      Fighter 1 Distance  Fighter 0 Clinch  Fighter 1 Clinch  \\\n",
              "4845                  22                 2                 1   \n",
              "\n",
              "      Fighter 0 Ground  Fighter 1 Ground  \n",
              "4845                 1                 1  \n",
              "\n",
              "[1 rows x 30 columns]"
            ],
            "text/html": [
              "\n",
              "  <div id=\"df-e5b4b5e7-f021-4f86-bd02-4eeedd2eaaf2\">\n",
              "    <div class=\"colab-df-container\">\n",
              "      <div>\n",
              "<style scoped>\n",
              "    .dataframe tbody tr th:only-of-type {\n",
              "        vertical-align: middle;\n",
              "    }\n",
              "\n",
              "    .dataframe tbody tr th {\n",
              "        vertical-align: top;\n",
              "    }\n",
              "\n",
              "    .dataframe thead th {\n",
              "        text-align: right;\n",
              "    }\n",
              "</style>\n",
              "<table border=\"1\" class=\"dataframe\">\n",
              "  <thead>\n",
              "    <tr style=\"text-align: right;\">\n",
              "      <th></th>\n",
              "      <th>Fighter 0 KD</th>\n",
              "      <th>Fighter 1 KD</th>\n",
              "      <th>Fighter 0 Sig. str.</th>\n",
              "      <th>Fighter 1 Sig. str.</th>\n",
              "      <th>Fighter 0 Sig. str. %</th>\n",
              "      <th>Fighter 1 Sig. str. %</th>\n",
              "      <th>Fighter 0 Total str.</th>\n",
              "      <th>Fighter 1 Total str.</th>\n",
              "      <th>Fighter 0 Td</th>\n",
              "      <th>Fighter 1 Td</th>\n",
              "      <th>...</th>\n",
              "      <th>Fighter 0 Body</th>\n",
              "      <th>Fighter 1 Body</th>\n",
              "      <th>Fighter 0 Leg</th>\n",
              "      <th>Fighter 1 Leg</th>\n",
              "      <th>Fighter 0 Distance</th>\n",
              "      <th>Fighter 1 Distance</th>\n",
              "      <th>Fighter 0 Clinch</th>\n",
              "      <th>Fighter 1 Clinch</th>\n",
              "      <th>Fighter 0 Ground</th>\n",
              "      <th>Fighter 1 Ground</th>\n",
              "    </tr>\n",
              "  </thead>\n",
              "  <tbody>\n",
              "    <tr>\n",
              "      <th>4845</th>\n",
              "      <td>0</td>\n",
              "      <td>0</td>\n",
              "      <td>22</td>\n",
              "      <td>24</td>\n",
              "      <td>18.0</td>\n",
              "      <td>24.0</td>\n",
              "      <td>35</td>\n",
              "      <td>47</td>\n",
              "      <td>11</td>\n",
              "      <td>0</td>\n",
              "      <td>...</td>\n",
              "      <td>1</td>\n",
              "      <td>5</td>\n",
              "      <td>0</td>\n",
              "      <td>7</td>\n",
              "      <td>19</td>\n",
              "      <td>22</td>\n",
              "      <td>2</td>\n",
              "      <td>1</td>\n",
              "      <td>1</td>\n",
              "      <td>1</td>\n",
              "    </tr>\n",
              "  </tbody>\n",
              "</table>\n",
              "<p>1 rows × 30 columns</p>\n",
              "</div>\n",
              "      <button class=\"colab-df-convert\" onclick=\"convertToInteractive('df-e5b4b5e7-f021-4f86-bd02-4eeedd2eaaf2')\"\n",
              "              title=\"Convert this dataframe to an interactive table.\"\n",
              "              style=\"display:none;\">\n",
              "        \n",
              "  <svg xmlns=\"http://www.w3.org/2000/svg\" height=\"24px\"viewBox=\"0 0 24 24\"\n",
              "       width=\"24px\">\n",
              "    <path d=\"M0 0h24v24H0V0z\" fill=\"none\"/>\n",
              "    <path d=\"M18.56 5.44l.94 2.06.94-2.06 2.06-.94-2.06-.94-.94-2.06-.94 2.06-2.06.94zm-11 1L8.5 8.5l.94-2.06 2.06-.94-2.06-.94L8.5 2.5l-.94 2.06-2.06.94zm10 10l.94 2.06.94-2.06 2.06-.94-2.06-.94-.94-2.06-.94 2.06-2.06.94z\"/><path d=\"M17.41 7.96l-1.37-1.37c-.4-.4-.92-.59-1.43-.59-.52 0-1.04.2-1.43.59L10.3 9.45l-7.72 7.72c-.78.78-.78 2.05 0 2.83L4 21.41c.39.39.9.59 1.41.59.51 0 1.02-.2 1.41-.59l7.78-7.78 2.81-2.81c.8-.78.8-2.07 0-2.86zM5.41 20L4 18.59l7.72-7.72 1.47 1.35L5.41 20z\"/>\n",
              "  </svg>\n",
              "      </button>\n",
              "      \n",
              "  <style>\n",
              "    .colab-df-container {\n",
              "      display:flex;\n",
              "      flex-wrap:wrap;\n",
              "      gap: 12px;\n",
              "    }\n",
              "\n",
              "    .colab-df-convert {\n",
              "      background-color: #E8F0FE;\n",
              "      border: none;\n",
              "      border-radius: 50%;\n",
              "      cursor: pointer;\n",
              "      display: none;\n",
              "      fill: #1967D2;\n",
              "      height: 32px;\n",
              "      padding: 0 0 0 0;\n",
              "      width: 32px;\n",
              "    }\n",
              "\n",
              "    .colab-df-convert:hover {\n",
              "      background-color: #E2EBFA;\n",
              "      box-shadow: 0px 1px 2px rgba(60, 64, 67, 0.3), 0px 1px 3px 1px rgba(60, 64, 67, 0.15);\n",
              "      fill: #174EA6;\n",
              "    }\n",
              "\n",
              "    [theme=dark] .colab-df-convert {\n",
              "      background-color: #3B4455;\n",
              "      fill: #D2E3FC;\n",
              "    }\n",
              "\n",
              "    [theme=dark] .colab-df-convert:hover {\n",
              "      background-color: #434B5C;\n",
              "      box-shadow: 0px 1px 3px 1px rgba(0, 0, 0, 0.15);\n",
              "      filter: drop-shadow(0px 1px 2px rgba(0, 0, 0, 0.3));\n",
              "      fill: #FFFFFF;\n",
              "    }\n",
              "  </style>\n",
              "\n",
              "      <script>\n",
              "        const buttonEl =\n",
              "          document.querySelector('#df-e5b4b5e7-f021-4f86-bd02-4eeedd2eaaf2 button.colab-df-convert');\n",
              "        buttonEl.style.display =\n",
              "          google.colab.kernel.accessAllowed ? 'block' : 'none';\n",
              "\n",
              "        async function convertToInteractive(key) {\n",
              "          const element = document.querySelector('#df-e5b4b5e7-f021-4f86-bd02-4eeedd2eaaf2');\n",
              "          const dataTable =\n",
              "            await google.colab.kernel.invokeFunction('convertToInteractive',\n",
              "                                                     [key], {});\n",
              "          if (!dataTable) return;\n",
              "\n",
              "          const docLinkHtml = 'Like what you see? Visit the ' +\n",
              "            '<a target=\"_blank\" href=https://colab.research.google.com/notebooks/data_table.ipynb>data table notebook</a>'\n",
              "            + ' to learn more about interactive tables.';\n",
              "          element.innerHTML = '';\n",
              "          dataTable['output_type'] = 'display_data';\n",
              "          await google.colab.output.renderOutput(dataTable, element);\n",
              "          const docLink = document.createElement('div');\n",
              "          docLink.innerHTML = docLinkHtml;\n",
              "          element.appendChild(docLink);\n",
              "        }\n",
              "      </script>\n",
              "    </div>\n",
              "  </div>\n",
              "  "
            ]
          },
          "metadata": {},
          "execution_count": 16
        }
      ]
    },
    {
      "cell_type": "code",
      "metadata": {
        "colab": {
          "base_uri": "https://localhost:8080/",
          "height": 81
        },
        "id": "CcWxQryeVGST",
        "outputId": "48083bdb-c038-4cc7-86b4-7f86ad983fca"
      },
      "source": [
        "y_valid.head()"
      ],
      "execution_count": 17,
      "outputs": [
        {
          "output_type": "execute_result",
          "data": {
            "text/plain": [
              "      Winner\n",
              "4845       0"
            ],
            "text/html": [
              "\n",
              "  <div id=\"df-ee674702-57ac-4e1d-8fca-51d1c0d363b7\">\n",
              "    <div class=\"colab-df-container\">\n",
              "      <div>\n",
              "<style scoped>\n",
              "    .dataframe tbody tr th:only-of-type {\n",
              "        vertical-align: middle;\n",
              "    }\n",
              "\n",
              "    .dataframe tbody tr th {\n",
              "        vertical-align: top;\n",
              "    }\n",
              "\n",
              "    .dataframe thead th {\n",
              "        text-align: right;\n",
              "    }\n",
              "</style>\n",
              "<table border=\"1\" class=\"dataframe\">\n",
              "  <thead>\n",
              "    <tr style=\"text-align: right;\">\n",
              "      <th></th>\n",
              "      <th>Winner</th>\n",
              "    </tr>\n",
              "  </thead>\n",
              "  <tbody>\n",
              "    <tr>\n",
              "      <th>4845</th>\n",
              "      <td>0</td>\n",
              "    </tr>\n",
              "  </tbody>\n",
              "</table>\n",
              "</div>\n",
              "      <button class=\"colab-df-convert\" onclick=\"convertToInteractive('df-ee674702-57ac-4e1d-8fca-51d1c0d363b7')\"\n",
              "              title=\"Convert this dataframe to an interactive table.\"\n",
              "              style=\"display:none;\">\n",
              "        \n",
              "  <svg xmlns=\"http://www.w3.org/2000/svg\" height=\"24px\"viewBox=\"0 0 24 24\"\n",
              "       width=\"24px\">\n",
              "    <path d=\"M0 0h24v24H0V0z\" fill=\"none\"/>\n",
              "    <path d=\"M18.56 5.44l.94 2.06.94-2.06 2.06-.94-2.06-.94-.94-2.06-.94 2.06-2.06.94zm-11 1L8.5 8.5l.94-2.06 2.06-.94-2.06-.94L8.5 2.5l-.94 2.06-2.06.94zm10 10l.94 2.06.94-2.06 2.06-.94-2.06-.94-.94-2.06-.94 2.06-2.06.94z\"/><path d=\"M17.41 7.96l-1.37-1.37c-.4-.4-.92-.59-1.43-.59-.52 0-1.04.2-1.43.59L10.3 9.45l-7.72 7.72c-.78.78-.78 2.05 0 2.83L4 21.41c.39.39.9.59 1.41.59.51 0 1.02-.2 1.41-.59l7.78-7.78 2.81-2.81c.8-.78.8-2.07 0-2.86zM5.41 20L4 18.59l7.72-7.72 1.47 1.35L5.41 20z\"/>\n",
              "  </svg>\n",
              "      </button>\n",
              "      \n",
              "  <style>\n",
              "    .colab-df-container {\n",
              "      display:flex;\n",
              "      flex-wrap:wrap;\n",
              "      gap: 12px;\n",
              "    }\n",
              "\n",
              "    .colab-df-convert {\n",
              "      background-color: #E8F0FE;\n",
              "      border: none;\n",
              "      border-radius: 50%;\n",
              "      cursor: pointer;\n",
              "      display: none;\n",
              "      fill: #1967D2;\n",
              "      height: 32px;\n",
              "      padding: 0 0 0 0;\n",
              "      width: 32px;\n",
              "    }\n",
              "\n",
              "    .colab-df-convert:hover {\n",
              "      background-color: #E2EBFA;\n",
              "      box-shadow: 0px 1px 2px rgba(60, 64, 67, 0.3), 0px 1px 3px 1px rgba(60, 64, 67, 0.15);\n",
              "      fill: #174EA6;\n",
              "    }\n",
              "\n",
              "    [theme=dark] .colab-df-convert {\n",
              "      background-color: #3B4455;\n",
              "      fill: #D2E3FC;\n",
              "    }\n",
              "\n",
              "    [theme=dark] .colab-df-convert:hover {\n",
              "      background-color: #434B5C;\n",
              "      box-shadow: 0px 1px 3px 1px rgba(0, 0, 0, 0.15);\n",
              "      filter: drop-shadow(0px 1px 2px rgba(0, 0, 0, 0.3));\n",
              "      fill: #FFFFFF;\n",
              "    }\n",
              "  </style>\n",
              "\n",
              "      <script>\n",
              "        const buttonEl =\n",
              "          document.querySelector('#df-ee674702-57ac-4e1d-8fca-51d1c0d363b7 button.colab-df-convert');\n",
              "        buttonEl.style.display =\n",
              "          google.colab.kernel.accessAllowed ? 'block' : 'none';\n",
              "\n",
              "        async function convertToInteractive(key) {\n",
              "          const element = document.querySelector('#df-ee674702-57ac-4e1d-8fca-51d1c0d363b7');\n",
              "          const dataTable =\n",
              "            await google.colab.kernel.invokeFunction('convertToInteractive',\n",
              "                                                     [key], {});\n",
              "          if (!dataTable) return;\n",
              "\n",
              "          const docLinkHtml = 'Like what you see? Visit the ' +\n",
              "            '<a target=\"_blank\" href=https://colab.research.google.com/notebooks/data_table.ipynb>data table notebook</a>'\n",
              "            + ' to learn more about interactive tables.';\n",
              "          element.innerHTML = '';\n",
              "          dataTable['output_type'] = 'display_data';\n",
              "          await google.colab.output.renderOutput(dataTable, element);\n",
              "          const docLink = document.createElement('div');\n",
              "          docLink.innerHTML = docLinkHtml;\n",
              "          element.appendChild(docLink);\n",
              "        }\n",
              "      </script>\n",
              "    </div>\n",
              "  </div>\n",
              "  "
            ]
          },
          "metadata": {},
          "execution_count": 17
        }
      ]
    },
    {
      "cell_type": "markdown",
      "metadata": {
        "id": "Jd2Ifk5uOSRa"
      },
      "source": [
        "## Setup train/validate/test split with data augmentation\n",
        "\n",
        "TODO: Add in smarter data augmentation that create new datapoints nearby."
      ]
    },
    {
      "cell_type": "code",
      "metadata": {
        "id": "I6c8hDK7OSRa"
      },
      "source": [
        "def create_flipped_table(table):\n",
        "    '''Rearranges columns of table so that each fight has two rows. Let fighters be A and B.\n",
        "       One row has (Fighter 0 = A, Fighter 1 = B). One row has (Fighter 0 = B, Fighter 1 = A)\n",
        "       Ensure same column order, as column names not looked at when passed to ML model'''\n",
        "\n",
        "    # Get columns in flipped order, which moves the columns around, but changes column name order too\n",
        "    flipped_columns = []\n",
        "    for column in table.columns:\n",
        "        if \"Fighter 0\" in column:\n",
        "            flipped_columns.append(column.replace(\"Fighter 0\", \"Fighter 1\"))\n",
        "        elif \"Fighter 1\" in column:\n",
        "            flipped_columns.append(column.replace(\"Fighter 1\", \"Fighter 0\"))\n",
        "        else:\n",
        "            flipped_columns.append(column)\n",
        "    flipped_table = table[flipped_columns]\n",
        "\n",
        "    # Flips winners around\n",
        "    if 'Winner' in flipped_table.columns:\n",
        "         flipped_table['Winner'] = flipped_table['Winner'].replace([0, 1], [1, 0])\n",
        "\n",
        "    # Change column names back to normal\n",
        "    flipped_table.columns = table.columns\n",
        "    return flipped_table\n",
        "\n",
        "\n",
        "def add_rows_of_flipped_columns(table):\n",
        "    flipped_table = create_flipped_table(table)\n",
        "    new_table = pd.concat([table, flipped_table])\n",
        "    return new_table"
      ],
      "execution_count": 18,
      "outputs": []
    },
    {
      "cell_type": "code",
      "metadata": {
        "id": "0iGtsWJVOSRa"
      },
      "source": [
        "# Add flipped rows so fighter 0 and 1 are treated same\n",
        "X_train, y_train = add_rows_of_flipped_columns(X_train), add_rows_of_flipped_columns(y_train)\n",
        "X_valid, y_valid = add_rows_of_flipped_columns(X_valid), add_rows_of_flipped_columns(y_valid)"
      ],
      "execution_count": 19,
      "outputs": []
    },
    {
      "cell_type": "code",
      "metadata": {
        "id": "oRU788hJOSRb"
      },
      "source": [
        "# Expect equal number of examples in Fighter 0 as Fighter 1 from data augmentation\n",
        "assert(len(y_train[y_train['Winner'] == 0]) == len(y_train[y_train['Winner'] == 1]))\n",
        "assert(len(y_valid[y_valid['Winner'] == 0]) == len(y_valid[y_valid['Winner'] == 1]))\n"
      ],
      "execution_count": 20,
      "outputs": []
    },
    {
      "cell_type": "code",
      "metadata": {
        "colab": {
          "base_uri": "https://localhost:8080/",
          "height": 522
        },
        "id": "g208MGkGOSRb",
        "outputId": "4161a1a7-4868-4ab5-8888-365cc9f7b8b3"
      },
      "source": [
        "X_train"
      ],
      "execution_count": 21,
      "outputs": [
        {
          "output_type": "execute_result",
          "data": {
            "text/plain": [
              "      Fighter 0 KD  Fighter 1 KD  Fighter 0 Sig. str.  Fighter 1 Sig. str.  \\\n",
              "0                0             0                  150                   62   \n",
              "1                0             0                  105                   88   \n",
              "2                0             0                   21                   27   \n",
              "3                0             1                   66                   55   \n",
              "4                0             0                   90                   80   \n",
              "...            ...           ...                  ...                  ...   \n",
              "5888             0             2                   16                   24   \n",
              "5889             0             0                   24                   19   \n",
              "5890             0             0                   13                   14   \n",
              "5891             0             0                    3                    9   \n",
              "5892             0             0                   11                   31   \n",
              "\n",
              "      Fighter 0 Sig. str. %  Fighter 1 Sig. str. %  Fighter 0 Total str.  \\\n",
              "0                      52.0                   29.0                   169   \n",
              "1                      47.0                   45.0                   109   \n",
              "2                      44.0                   49.0                    32   \n",
              "3                      58.0                   46.0                    84   \n",
              "4                      46.0                   47.0                    90   \n",
              "...                     ...                    ...                   ...   \n",
              "5888                   33.0                   68.0                    31   \n",
              "5889                   55.0                   55.0                   145   \n",
              "5890                   19.0                   35.0                    15   \n",
              "5891                   60.0                   56.0                    11   \n",
              "5892                   30.0                   70.0                    21   \n",
              "\n",
              "      Fighter 1 Total str.  Fighter 0 Td  Fighter 1 Td  ...  Fighter 0 Body  \\\n",
              "0                       70             4             1  ...              13   \n",
              "1                       99             0             0  ...              26   \n",
              "2                       91             0             8  ...               9   \n",
              "3                       72             3             0  ...              19   \n",
              "4                       82             0             4  ...              12   \n",
              "...                    ...           ...           ...  ...             ...   \n",
              "5888                    49             1             0  ...               0   \n",
              "5889                    95             2             1  ...              20   \n",
              "5890                    30             0             3  ...               7   \n",
              "5891                    17             0             1  ...               3   \n",
              "5892                    53             2             4  ...               2   \n",
              "\n",
              "      Fighter 1 Body  Fighter 0 Leg  Fighter 1 Leg  Fighter 0 Distance  \\\n",
              "0                  7             22             13                 138   \n",
              "1                 16             25             17                 103   \n",
              "2                  2              1              1                  14   \n",
              "3                  8              7             17                  39   \n",
              "4                 20              4             20                  88   \n",
              "...              ...            ...            ...                 ...   \n",
              "5888               0              0             12                   7   \n",
              "5889              12              2              5                   1   \n",
              "5890               4              0              3                  12   \n",
              "5891               1              0              2                   0   \n",
              "5892               1              1              4                   4   \n",
              "\n",
              "      Fighter 1 Distance  Fighter 0 Clinch  Fighter 1 Clinch  \\\n",
              "0                     59                 5                 3   \n",
              "1                     84                 2                 4   \n",
              "2                     18                 5                 3   \n",
              "3                     50                 7                 4   \n",
              "4                     77                 2                 3   \n",
              "...                  ...               ...               ...   \n",
              "5888                  17                 4                 4   \n",
              "5889                   4                23                15   \n",
              "5890                  11                 1                 0   \n",
              "5891                   2                 3                 5   \n",
              "5892                  11                 0                 1   \n",
              "\n",
              "      Fighter 0 Ground  Fighter 1 Ground  \n",
              "0                    7                 0  \n",
              "1                    0                 0  \n",
              "2                    2                 6  \n",
              "3                   20                 1  \n",
              "4                    0                 0  \n",
              "...                ...               ...  \n",
              "5888                 5                 3  \n",
              "5889                 0                 0  \n",
              "5890                 0                 3  \n",
              "5891                 0                 2  \n",
              "5892                 7                19  \n",
              "\n",
              "[11784 rows x 30 columns]"
            ],
            "text/html": [
              "\n",
              "  <div id=\"df-322ffbcf-c782-4ac7-83aa-2d4fb9e4aac4\">\n",
              "    <div class=\"colab-df-container\">\n",
              "      <div>\n",
              "<style scoped>\n",
              "    .dataframe tbody tr th:only-of-type {\n",
              "        vertical-align: middle;\n",
              "    }\n",
              "\n",
              "    .dataframe tbody tr th {\n",
              "        vertical-align: top;\n",
              "    }\n",
              "\n",
              "    .dataframe thead th {\n",
              "        text-align: right;\n",
              "    }\n",
              "</style>\n",
              "<table border=\"1\" class=\"dataframe\">\n",
              "  <thead>\n",
              "    <tr style=\"text-align: right;\">\n",
              "      <th></th>\n",
              "      <th>Fighter 0 KD</th>\n",
              "      <th>Fighter 1 KD</th>\n",
              "      <th>Fighter 0 Sig. str.</th>\n",
              "      <th>Fighter 1 Sig. str.</th>\n",
              "      <th>Fighter 0 Sig. str. %</th>\n",
              "      <th>Fighter 1 Sig. str. %</th>\n",
              "      <th>Fighter 0 Total str.</th>\n",
              "      <th>Fighter 1 Total str.</th>\n",
              "      <th>Fighter 0 Td</th>\n",
              "      <th>Fighter 1 Td</th>\n",
              "      <th>...</th>\n",
              "      <th>Fighter 0 Body</th>\n",
              "      <th>Fighter 1 Body</th>\n",
              "      <th>Fighter 0 Leg</th>\n",
              "      <th>Fighter 1 Leg</th>\n",
              "      <th>Fighter 0 Distance</th>\n",
              "      <th>Fighter 1 Distance</th>\n",
              "      <th>Fighter 0 Clinch</th>\n",
              "      <th>Fighter 1 Clinch</th>\n",
              "      <th>Fighter 0 Ground</th>\n",
              "      <th>Fighter 1 Ground</th>\n",
              "    </tr>\n",
              "  </thead>\n",
              "  <tbody>\n",
              "    <tr>\n",
              "      <th>0</th>\n",
              "      <td>0</td>\n",
              "      <td>0</td>\n",
              "      <td>150</td>\n",
              "      <td>62</td>\n",
              "      <td>52.0</td>\n",
              "      <td>29.0</td>\n",
              "      <td>169</td>\n",
              "      <td>70</td>\n",
              "      <td>4</td>\n",
              "      <td>1</td>\n",
              "      <td>...</td>\n",
              "      <td>13</td>\n",
              "      <td>7</td>\n",
              "      <td>22</td>\n",
              "      <td>13</td>\n",
              "      <td>138</td>\n",
              "      <td>59</td>\n",
              "      <td>5</td>\n",
              "      <td>3</td>\n",
              "      <td>7</td>\n",
              "      <td>0</td>\n",
              "    </tr>\n",
              "    <tr>\n",
              "      <th>1</th>\n",
              "      <td>0</td>\n",
              "      <td>0</td>\n",
              "      <td>105</td>\n",
              "      <td>88</td>\n",
              "      <td>47.0</td>\n",
              "      <td>45.0</td>\n",
              "      <td>109</td>\n",
              "      <td>99</td>\n",
              "      <td>0</td>\n",
              "      <td>0</td>\n",
              "      <td>...</td>\n",
              "      <td>26</td>\n",
              "      <td>16</td>\n",
              "      <td>25</td>\n",
              "      <td>17</td>\n",
              "      <td>103</td>\n",
              "      <td>84</td>\n",
              "      <td>2</td>\n",
              "      <td>4</td>\n",
              "      <td>0</td>\n",
              "      <td>0</td>\n",
              "    </tr>\n",
              "    <tr>\n",
              "      <th>2</th>\n",
              "      <td>0</td>\n",
              "      <td>0</td>\n",
              "      <td>21</td>\n",
              "      <td>27</td>\n",
              "      <td>44.0</td>\n",
              "      <td>49.0</td>\n",
              "      <td>32</td>\n",
              "      <td>91</td>\n",
              "      <td>0</td>\n",
              "      <td>8</td>\n",
              "      <td>...</td>\n",
              "      <td>9</td>\n",
              "      <td>2</td>\n",
              "      <td>1</td>\n",
              "      <td>1</td>\n",
              "      <td>14</td>\n",
              "      <td>18</td>\n",
              "      <td>5</td>\n",
              "      <td>3</td>\n",
              "      <td>2</td>\n",
              "      <td>6</td>\n",
              "    </tr>\n",
              "    <tr>\n",
              "      <th>3</th>\n",
              "      <td>0</td>\n",
              "      <td>1</td>\n",
              "      <td>66</td>\n",
              "      <td>55</td>\n",
              "      <td>58.0</td>\n",
              "      <td>46.0</td>\n",
              "      <td>84</td>\n",
              "      <td>72</td>\n",
              "      <td>3</td>\n",
              "      <td>0</td>\n",
              "      <td>...</td>\n",
              "      <td>19</td>\n",
              "      <td>8</td>\n",
              "      <td>7</td>\n",
              "      <td>17</td>\n",
              "      <td>39</td>\n",
              "      <td>50</td>\n",
              "      <td>7</td>\n",
              "      <td>4</td>\n",
              "      <td>20</td>\n",
              "      <td>1</td>\n",
              "    </tr>\n",
              "    <tr>\n",
              "      <th>4</th>\n",
              "      <td>0</td>\n",
              "      <td>0</td>\n",
              "      <td>90</td>\n",
              "      <td>80</td>\n",
              "      <td>46.0</td>\n",
              "      <td>47.0</td>\n",
              "      <td>90</td>\n",
              "      <td>82</td>\n",
              "      <td>0</td>\n",
              "      <td>4</td>\n",
              "      <td>...</td>\n",
              "      <td>12</td>\n",
              "      <td>20</td>\n",
              "      <td>4</td>\n",
              "      <td>20</td>\n",
              "      <td>88</td>\n",
              "      <td>77</td>\n",
              "      <td>2</td>\n",
              "      <td>3</td>\n",
              "      <td>0</td>\n",
              "      <td>0</td>\n",
              "    </tr>\n",
              "    <tr>\n",
              "      <th>...</th>\n",
              "      <td>...</td>\n",
              "      <td>...</td>\n",
              "      <td>...</td>\n",
              "      <td>...</td>\n",
              "      <td>...</td>\n",
              "      <td>...</td>\n",
              "      <td>...</td>\n",
              "      <td>...</td>\n",
              "      <td>...</td>\n",
              "      <td>...</td>\n",
              "      <td>...</td>\n",
              "      <td>...</td>\n",
              "      <td>...</td>\n",
              "      <td>...</td>\n",
              "      <td>...</td>\n",
              "      <td>...</td>\n",
              "      <td>...</td>\n",
              "      <td>...</td>\n",
              "      <td>...</td>\n",
              "      <td>...</td>\n",
              "      <td>...</td>\n",
              "    </tr>\n",
              "    <tr>\n",
              "      <th>5888</th>\n",
              "      <td>0</td>\n",
              "      <td>2</td>\n",
              "      <td>16</td>\n",
              "      <td>24</td>\n",
              "      <td>33.0</td>\n",
              "      <td>68.0</td>\n",
              "      <td>31</td>\n",
              "      <td>49</td>\n",
              "      <td>1</td>\n",
              "      <td>0</td>\n",
              "      <td>...</td>\n",
              "      <td>0</td>\n",
              "      <td>0</td>\n",
              "      <td>0</td>\n",
              "      <td>12</td>\n",
              "      <td>7</td>\n",
              "      <td>17</td>\n",
              "      <td>4</td>\n",
              "      <td>4</td>\n",
              "      <td>5</td>\n",
              "      <td>3</td>\n",
              "    </tr>\n",
              "    <tr>\n",
              "      <th>5889</th>\n",
              "      <td>0</td>\n",
              "      <td>0</td>\n",
              "      <td>24</td>\n",
              "      <td>19</td>\n",
              "      <td>55.0</td>\n",
              "      <td>55.0</td>\n",
              "      <td>145</td>\n",
              "      <td>95</td>\n",
              "      <td>2</td>\n",
              "      <td>1</td>\n",
              "      <td>...</td>\n",
              "      <td>20</td>\n",
              "      <td>12</td>\n",
              "      <td>2</td>\n",
              "      <td>5</td>\n",
              "      <td>1</td>\n",
              "      <td>4</td>\n",
              "      <td>23</td>\n",
              "      <td>15</td>\n",
              "      <td>0</td>\n",
              "      <td>0</td>\n",
              "    </tr>\n",
              "    <tr>\n",
              "      <th>5890</th>\n",
              "      <td>0</td>\n",
              "      <td>0</td>\n",
              "      <td>13</td>\n",
              "      <td>14</td>\n",
              "      <td>19.0</td>\n",
              "      <td>35.0</td>\n",
              "      <td>15</td>\n",
              "      <td>30</td>\n",
              "      <td>0</td>\n",
              "      <td>3</td>\n",
              "      <td>...</td>\n",
              "      <td>7</td>\n",
              "      <td>4</td>\n",
              "      <td>0</td>\n",
              "      <td>3</td>\n",
              "      <td>12</td>\n",
              "      <td>11</td>\n",
              "      <td>1</td>\n",
              "      <td>0</td>\n",
              "      <td>0</td>\n",
              "      <td>3</td>\n",
              "    </tr>\n",
              "    <tr>\n",
              "      <th>5891</th>\n",
              "      <td>0</td>\n",
              "      <td>0</td>\n",
              "      <td>3</td>\n",
              "      <td>9</td>\n",
              "      <td>60.0</td>\n",
              "      <td>56.0</td>\n",
              "      <td>11</td>\n",
              "      <td>17</td>\n",
              "      <td>0</td>\n",
              "      <td>1</td>\n",
              "      <td>...</td>\n",
              "      <td>3</td>\n",
              "      <td>1</td>\n",
              "      <td>0</td>\n",
              "      <td>2</td>\n",
              "      <td>0</td>\n",
              "      <td>2</td>\n",
              "      <td>3</td>\n",
              "      <td>5</td>\n",
              "      <td>0</td>\n",
              "      <td>2</td>\n",
              "    </tr>\n",
              "    <tr>\n",
              "      <th>5892</th>\n",
              "      <td>0</td>\n",
              "      <td>0</td>\n",
              "      <td>11</td>\n",
              "      <td>31</td>\n",
              "      <td>30.0</td>\n",
              "      <td>70.0</td>\n",
              "      <td>21</td>\n",
              "      <td>53</td>\n",
              "      <td>2</td>\n",
              "      <td>4</td>\n",
              "      <td>...</td>\n",
              "      <td>2</td>\n",
              "      <td>1</td>\n",
              "      <td>1</td>\n",
              "      <td>4</td>\n",
              "      <td>4</td>\n",
              "      <td>11</td>\n",
              "      <td>0</td>\n",
              "      <td>1</td>\n",
              "      <td>7</td>\n",
              "      <td>19</td>\n",
              "    </tr>\n",
              "  </tbody>\n",
              "</table>\n",
              "<p>11784 rows × 30 columns</p>\n",
              "</div>\n",
              "      <button class=\"colab-df-convert\" onclick=\"convertToInteractive('df-322ffbcf-c782-4ac7-83aa-2d4fb9e4aac4')\"\n",
              "              title=\"Convert this dataframe to an interactive table.\"\n",
              "              style=\"display:none;\">\n",
              "        \n",
              "  <svg xmlns=\"http://www.w3.org/2000/svg\" height=\"24px\"viewBox=\"0 0 24 24\"\n",
              "       width=\"24px\">\n",
              "    <path d=\"M0 0h24v24H0V0z\" fill=\"none\"/>\n",
              "    <path d=\"M18.56 5.44l.94 2.06.94-2.06 2.06-.94-2.06-.94-.94-2.06-.94 2.06-2.06.94zm-11 1L8.5 8.5l.94-2.06 2.06-.94-2.06-.94L8.5 2.5l-.94 2.06-2.06.94zm10 10l.94 2.06.94-2.06 2.06-.94-2.06-.94-.94-2.06-.94 2.06-2.06.94z\"/><path d=\"M17.41 7.96l-1.37-1.37c-.4-.4-.92-.59-1.43-.59-.52 0-1.04.2-1.43.59L10.3 9.45l-7.72 7.72c-.78.78-.78 2.05 0 2.83L4 21.41c.39.39.9.59 1.41.59.51 0 1.02-.2 1.41-.59l7.78-7.78 2.81-2.81c.8-.78.8-2.07 0-2.86zM5.41 20L4 18.59l7.72-7.72 1.47 1.35L5.41 20z\"/>\n",
              "  </svg>\n",
              "      </button>\n",
              "      \n",
              "  <style>\n",
              "    .colab-df-container {\n",
              "      display:flex;\n",
              "      flex-wrap:wrap;\n",
              "      gap: 12px;\n",
              "    }\n",
              "\n",
              "    .colab-df-convert {\n",
              "      background-color: #E8F0FE;\n",
              "      border: none;\n",
              "      border-radius: 50%;\n",
              "      cursor: pointer;\n",
              "      display: none;\n",
              "      fill: #1967D2;\n",
              "      height: 32px;\n",
              "      padding: 0 0 0 0;\n",
              "      width: 32px;\n",
              "    }\n",
              "\n",
              "    .colab-df-convert:hover {\n",
              "      background-color: #E2EBFA;\n",
              "      box-shadow: 0px 1px 2px rgba(60, 64, 67, 0.3), 0px 1px 3px 1px rgba(60, 64, 67, 0.15);\n",
              "      fill: #174EA6;\n",
              "    }\n",
              "\n",
              "    [theme=dark] .colab-df-convert {\n",
              "      background-color: #3B4455;\n",
              "      fill: #D2E3FC;\n",
              "    }\n",
              "\n",
              "    [theme=dark] .colab-df-convert:hover {\n",
              "      background-color: #434B5C;\n",
              "      box-shadow: 0px 1px 3px 1px rgba(0, 0, 0, 0.15);\n",
              "      filter: drop-shadow(0px 1px 2px rgba(0, 0, 0, 0.3));\n",
              "      fill: #FFFFFF;\n",
              "    }\n",
              "  </style>\n",
              "\n",
              "      <script>\n",
              "        const buttonEl =\n",
              "          document.querySelector('#df-322ffbcf-c782-4ac7-83aa-2d4fb9e4aac4 button.colab-df-convert');\n",
              "        buttonEl.style.display =\n",
              "          google.colab.kernel.accessAllowed ? 'block' : 'none';\n",
              "\n",
              "        async function convertToInteractive(key) {\n",
              "          const element = document.querySelector('#df-322ffbcf-c782-4ac7-83aa-2d4fb9e4aac4');\n",
              "          const dataTable =\n",
              "            await google.colab.kernel.invokeFunction('convertToInteractive',\n",
              "                                                     [key], {});\n",
              "          if (!dataTable) return;\n",
              "\n",
              "          const docLinkHtml = 'Like what you see? Visit the ' +\n",
              "            '<a target=\"_blank\" href=https://colab.research.google.com/notebooks/data_table.ipynb>data table notebook</a>'\n",
              "            + ' to learn more about interactive tables.';\n",
              "          element.innerHTML = '';\n",
              "          dataTable['output_type'] = 'display_data';\n",
              "          await google.colab.output.renderOutput(dataTable, element);\n",
              "          const docLink = document.createElement('div');\n",
              "          docLink.innerHTML = docLinkHtml;\n",
              "          element.appendChild(docLink);\n",
              "        }\n",
              "      </script>\n",
              "    </div>\n",
              "  </div>\n",
              "  "
            ]
          },
          "metadata": {},
          "execution_count": 21
        }
      ]
    },
    {
      "cell_type": "code",
      "metadata": {
        "colab": {
          "base_uri": "https://localhost:8080/",
          "height": 423
        },
        "id": "wojL_I-7OSRb",
        "outputId": "7fc237de-7c95-481d-b781-5312fae86a71"
      },
      "source": [
        "y_train"
      ],
      "execution_count": 22,
      "outputs": [
        {
          "output_type": "execute_result",
          "data": {
            "text/plain": [
              "      Winner\n",
              "0          0\n",
              "1          0\n",
              "2          1\n",
              "3          0\n",
              "4          0\n",
              "...      ...\n",
              "5888       1\n",
              "5889       1\n",
              "5890       1\n",
              "5891       1\n",
              "5892       1\n",
              "\n",
              "[11784 rows x 1 columns]"
            ],
            "text/html": [
              "\n",
              "  <div id=\"df-72d11859-1690-4769-a481-b2f563e6551e\">\n",
              "    <div class=\"colab-df-container\">\n",
              "      <div>\n",
              "<style scoped>\n",
              "    .dataframe tbody tr th:only-of-type {\n",
              "        vertical-align: middle;\n",
              "    }\n",
              "\n",
              "    .dataframe tbody tr th {\n",
              "        vertical-align: top;\n",
              "    }\n",
              "\n",
              "    .dataframe thead th {\n",
              "        text-align: right;\n",
              "    }\n",
              "</style>\n",
              "<table border=\"1\" class=\"dataframe\">\n",
              "  <thead>\n",
              "    <tr style=\"text-align: right;\">\n",
              "      <th></th>\n",
              "      <th>Winner</th>\n",
              "    </tr>\n",
              "  </thead>\n",
              "  <tbody>\n",
              "    <tr>\n",
              "      <th>0</th>\n",
              "      <td>0</td>\n",
              "    </tr>\n",
              "    <tr>\n",
              "      <th>1</th>\n",
              "      <td>0</td>\n",
              "    </tr>\n",
              "    <tr>\n",
              "      <th>2</th>\n",
              "      <td>1</td>\n",
              "    </tr>\n",
              "    <tr>\n",
              "      <th>3</th>\n",
              "      <td>0</td>\n",
              "    </tr>\n",
              "    <tr>\n",
              "      <th>4</th>\n",
              "      <td>0</td>\n",
              "    </tr>\n",
              "    <tr>\n",
              "      <th>...</th>\n",
              "      <td>...</td>\n",
              "    </tr>\n",
              "    <tr>\n",
              "      <th>5888</th>\n",
              "      <td>1</td>\n",
              "    </tr>\n",
              "    <tr>\n",
              "      <th>5889</th>\n",
              "      <td>1</td>\n",
              "    </tr>\n",
              "    <tr>\n",
              "      <th>5890</th>\n",
              "      <td>1</td>\n",
              "    </tr>\n",
              "    <tr>\n",
              "      <th>5891</th>\n",
              "      <td>1</td>\n",
              "    </tr>\n",
              "    <tr>\n",
              "      <th>5892</th>\n",
              "      <td>1</td>\n",
              "    </tr>\n",
              "  </tbody>\n",
              "</table>\n",
              "<p>11784 rows × 1 columns</p>\n",
              "</div>\n",
              "      <button class=\"colab-df-convert\" onclick=\"convertToInteractive('df-72d11859-1690-4769-a481-b2f563e6551e')\"\n",
              "              title=\"Convert this dataframe to an interactive table.\"\n",
              "              style=\"display:none;\">\n",
              "        \n",
              "  <svg xmlns=\"http://www.w3.org/2000/svg\" height=\"24px\"viewBox=\"0 0 24 24\"\n",
              "       width=\"24px\">\n",
              "    <path d=\"M0 0h24v24H0V0z\" fill=\"none\"/>\n",
              "    <path d=\"M18.56 5.44l.94 2.06.94-2.06 2.06-.94-2.06-.94-.94-2.06-.94 2.06-2.06.94zm-11 1L8.5 8.5l.94-2.06 2.06-.94-2.06-.94L8.5 2.5l-.94 2.06-2.06.94zm10 10l.94 2.06.94-2.06 2.06-.94-2.06-.94-.94-2.06-.94 2.06-2.06.94z\"/><path d=\"M17.41 7.96l-1.37-1.37c-.4-.4-.92-.59-1.43-.59-.52 0-1.04.2-1.43.59L10.3 9.45l-7.72 7.72c-.78.78-.78 2.05 0 2.83L4 21.41c.39.39.9.59 1.41.59.51 0 1.02-.2 1.41-.59l7.78-7.78 2.81-2.81c.8-.78.8-2.07 0-2.86zM5.41 20L4 18.59l7.72-7.72 1.47 1.35L5.41 20z\"/>\n",
              "  </svg>\n",
              "      </button>\n",
              "      \n",
              "  <style>\n",
              "    .colab-df-container {\n",
              "      display:flex;\n",
              "      flex-wrap:wrap;\n",
              "      gap: 12px;\n",
              "    }\n",
              "\n",
              "    .colab-df-convert {\n",
              "      background-color: #E8F0FE;\n",
              "      border: none;\n",
              "      border-radius: 50%;\n",
              "      cursor: pointer;\n",
              "      display: none;\n",
              "      fill: #1967D2;\n",
              "      height: 32px;\n",
              "      padding: 0 0 0 0;\n",
              "      width: 32px;\n",
              "    }\n",
              "\n",
              "    .colab-df-convert:hover {\n",
              "      background-color: #E2EBFA;\n",
              "      box-shadow: 0px 1px 2px rgba(60, 64, 67, 0.3), 0px 1px 3px 1px rgba(60, 64, 67, 0.15);\n",
              "      fill: #174EA6;\n",
              "    }\n",
              "\n",
              "    [theme=dark] .colab-df-convert {\n",
              "      background-color: #3B4455;\n",
              "      fill: #D2E3FC;\n",
              "    }\n",
              "\n",
              "    [theme=dark] .colab-df-convert:hover {\n",
              "      background-color: #434B5C;\n",
              "      box-shadow: 0px 1px 3px 1px rgba(0, 0, 0, 0.15);\n",
              "      filter: drop-shadow(0px 1px 2px rgba(0, 0, 0, 0.3));\n",
              "      fill: #FFFFFF;\n",
              "    }\n",
              "  </style>\n",
              "\n",
              "      <script>\n",
              "        const buttonEl =\n",
              "          document.querySelector('#df-72d11859-1690-4769-a481-b2f563e6551e button.colab-df-convert');\n",
              "        buttonEl.style.display =\n",
              "          google.colab.kernel.accessAllowed ? 'block' : 'none';\n",
              "\n",
              "        async function convertToInteractive(key) {\n",
              "          const element = document.querySelector('#df-72d11859-1690-4769-a481-b2f563e6551e');\n",
              "          const dataTable =\n",
              "            await google.colab.kernel.invokeFunction('convertToInteractive',\n",
              "                                                     [key], {});\n",
              "          if (!dataTable) return;\n",
              "\n",
              "          const docLinkHtml = 'Like what you see? Visit the ' +\n",
              "            '<a target=\"_blank\" href=https://colab.research.google.com/notebooks/data_table.ipynb>data table notebook</a>'\n",
              "            + ' to learn more about interactive tables.';\n",
              "          element.innerHTML = '';\n",
              "          dataTable['output_type'] = 'display_data';\n",
              "          await google.colab.output.renderOutput(dataTable, element);\n",
              "          const docLink = document.createElement('div');\n",
              "          docLink.innerHTML = docLinkHtml;\n",
              "          element.appendChild(docLink);\n",
              "        }\n",
              "      </script>\n",
              "    </div>\n",
              "  </div>\n",
              "  "
            ]
          },
          "metadata": {},
          "execution_count": 22
        }
      ]
    },
    {
      "cell_type": "code",
      "metadata": {
        "colab": {
          "base_uri": "https://localhost:8080/"
        },
        "id": "DndW0X9aOSRc",
        "outputId": "301cdf46-5560-4914-d968-0a253a6b1d50"
      },
      "source": [
        "print(f\"X_train.shape = {X_train.shape}\")\n",
        "print(f\"X_valid.shape = {X_valid.shape}\")\n",
        "print(f\"y_train.shape = {y_train.shape}\")\n",
        "print(f\"y_valid.shape = {y_valid.shape}\")\n"
      ],
      "execution_count": 23,
      "outputs": [
        {
          "output_type": "stream",
          "name": "stdout",
          "text": [
            "X_train.shape = (11784, 30)\n",
            "X_valid.shape = (2, 30)\n",
            "y_train.shape = (11784, 1)\n",
            "y_valid.shape = (2, 1)\n"
          ]
        }
      ]
    },
    {
      "cell_type": "markdown",
      "metadata": {
        "id": "xNEsuXzFOSRf"
      },
      "source": [
        "### Standardize features and break into fighter 0 and 1"
      ]
    },
    {
      "cell_type": "code",
      "metadata": {
        "id": "sKWmgHtTdXLr"
      },
      "source": [
        "fighter0_columns = [col for col in X_train.columns if \"Fighter 0\" in col]\n",
        "fighter1_columns = [col for col in X_train.columns if \"Fighter 1\" in col]\n",
        "\n",
        "X0_train = X_train[fighter0_columns]\n",
        "X1_train = X_train[fighter1_columns]\n",
        "X0_valid = X_valid[fighter0_columns]\n",
        "X1_valid = X_valid[fighter1_columns]\n",
        "\n",
        "X_train_new = pd.concat([X0_train, X1_train], axis=1)\n",
        "X_valid_new = pd.concat([X0_valid, X1_valid], axis=1) \n",
        "\n",
        "means, stds = X_train_new.mean(), X_train_new.std()\n",
        "X_train_new_normal = (X_train_new - means) / stds\n",
        "X_valid_new_normal = (X_valid_new - means) / stds"
      ],
      "execution_count": 24,
      "outputs": []
    },
    {
      "cell_type": "markdown",
      "metadata": {
        "id": "f-sFWdcdiDD1"
      },
      "source": [
        "## Define inputs to future training"
      ]
    },
    {
      "cell_type": "code",
      "metadata": {
        "id": "UlvV28UhiAtC"
      },
      "source": [
        "# X_train, y_train = X_train_new_normal_aug, y_train_aug\n",
        "X_train = X_train_new_normal\n",
        "X_valid = X_valid_new_normal"
      ],
      "execution_count": 25,
      "outputs": []
    },
    {
      "cell_type": "markdown",
      "metadata": {
        "id": "stOorO7tOSRc"
      },
      "source": [
        "## Train and test ML models\n",
        "\n",
        "TODO: Play around with PyTorch, add in data augmentation like SMOTE, see if normalizing, standardizing, extracting difference features helps. Must be done for deep models. Try out PCA or MDS to visualize."
      ]
    },
    {
      "cell_type": "code",
      "metadata": {
        "id": "1ZgNyaLvVV3G"
      },
      "source": [
        "import matplotlib.pyplot as plt\n"
      ],
      "execution_count": 26,
      "outputs": []
    },
    {
      "cell_type": "code",
      "metadata": {
        "id": "RwGbAJvaOSRc"
      },
      "source": [
        "from sklearn.metrics import classification_report, confusion_matrix, ConfusionMatrixDisplay\n",
        "\n",
        "def get_predIdxs_and_trueIdxs(classifier, X, y):\n",
        "    predIdxs = np.where(classifier.predict(X) > 0.5, 1, 0)\n",
        "    trueIdxs = y\n",
        "    return predIdxs, trueIdxs\n",
        "\n",
        "def plot_confusion_matrix(classifier, X, y):\n",
        "    predIdxs, trueIdxs = get_predIdxs_and_trueIdxs(classifier, X, y)\n",
        "    cm = confusion_matrix(trueIdxs, predIdxs)\n",
        "    cmDisplay = ConfusionMatrixDisplay(confusion_matrix=cm, display_labels=[\"Fighter 0 Win\", \"Fighter 1 Win\"])\n",
        "    cmDisplay.plot()\n",
        "    \n",
        "def print_classification_report(classifier, X, y):\n",
        "    predIdxs, trueIdxs = get_predIdxs_and_trueIdxs(classifier, X, y)\n",
        "    print(classification_report(trueIdxs, predIdxs, target_names=[\"Fighter 0 Win\", \"Fighter 1 Win\"]))"
      ],
      "execution_count": 27,
      "outputs": []
    },
    {
      "cell_type": "markdown",
      "metadata": {
        "id": "d3v7metxjRlr"
      },
      "source": [
        "### Decision Tree"
      ]
    },
    {
      "cell_type": "code",
      "metadata": {
        "colab": {
          "base_uri": "https://localhost:8080/",
          "height": 316
        },
        "id": "X0TNR6wajTSX",
        "outputId": "e2a17a92-708b-45f6-877f-15371a908559"
      },
      "source": [
        "from sklearn.tree import DecisionTreeClassifier\n",
        "# Train\n",
        "decision_tree_clf = DecisionTreeClassifier(random_state=0)\n",
        "decision_tree_clf.fit(X_train, y_train)\n",
        "\n",
        "# Validate\n",
        "accuracy_train = decision_tree_clf.score(X_train, y_train)\n",
        "accuracy_valid = decision_tree_clf.score(X_valid, y_valid)\n",
        "print(f\"accuracy_train = {accuracy_train}\")\n",
        "print(f\"accuracy_valid = {accuracy_valid}\")\n",
        "\n",
        "# Visualize importances\n",
        "import matplotlib.pyplot as plt\n",
        "plt.rcParams.update({'font.size': 8})\n",
        "plt.barh(X_train.columns, decision_tree_clf.feature_importances_)"
      ],
      "execution_count": 28,
      "outputs": [
        {
          "output_type": "stream",
          "name": "stdout",
          "text": [
            "accuracy_train = 1.0\n",
            "accuracy_valid = 1.0\n"
          ]
        },
        {
          "output_type": "execute_result",
          "data": {
            "text/plain": [
              "<BarContainer object of 30 artists>"
            ]
          },
          "metadata": {},
          "execution_count": 28
        },
        {
          "output_type": "display_data",
          "data": {
            "text/plain": [
              "<Figure size 432x288 with 1 Axes>"
            ],
            "image/png": "[encoded data removed]"
          },
          "metadata": {
            "needs_background": "light"
          }
        }
      ]
    },
    {
      "cell_type": "code",
      "metadata": {
        "colab": {
          "base_uri": "https://localhost:8080/",
          "height": 437
        },
        "id": "0NLVskN4jVqU",
        "outputId": "d7e3d9b4-5414-4548-d8a0-152ccefe52c1"
      },
      "source": [
        "plot_confusion_matrix(decision_tree_clf, X_valid, y_valid)\n",
        "print_classification_report(decision_tree_clf, X_valid, y_valid)"
      ],
      "execution_count": 29,
      "outputs": [
        {
          "output_type": "stream",
          "name": "stdout",
          "text": [
            "               precision    recall  f1-score   support\n",
            "\n",
            "Fighter 0 Win       1.00      1.00      1.00         1\n",
            "Fighter 1 Win       1.00      1.00      1.00         1\n",
            "\n",
            "     accuracy                           1.00         2\n",
            "    macro avg       1.00      1.00      1.00         2\n",
            " weighted avg       1.00      1.00      1.00         2\n",
            "\n"
          ]
        },
        {
          "output_type": "display_data",
          "data": {
            "text/plain": [
              "<Figure size 432x288 with 2 Axes>"
            ],
            "image/png": "[encoded data removed]"
          },
          "metadata": {
            "needs_background": "light"
          }
        }
      ]
    },
    {
      "cell_type": "markdown",
      "metadata": {
        "id": "5jUUa7-6OSRd"
      },
      "source": [
        "### Random forest"
      ]
    },
    {
      "cell_type": "code",
      "metadata": {
        "id": "B8ly4Z3TOSRd",
        "colab": {
          "base_uri": "https://localhost:8080/",
          "height": 371
        },
        "outputId": "62ecc07a-8265-4944-dc9f-63a49b652dd1"
      },
      "source": [
        "from sklearn.ensemble import RandomForestClassifier\n",
        "\n",
        "# Train\n",
        "random_forest_clf = RandomForestClassifier(max_depth=5, random_state=0)\n",
        "random_forest_clf.fit(X_train, y_train)\n",
        "\n",
        "# Validate\n",
        "accuracy_train = random_forest_clf.score(X_train, y_train)\n",
        "accuracy_valid = random_forest_clf.score(X_valid, y_valid)\n",
        "print(f\"accuracy_train = {accuracy_train}\")\n",
        "print(f\"accuracy_valid = {accuracy_valid}\")\n",
        "\n",
        "# Visualize importances\n",
        "import matplotlib.pyplot as plt\n",
        "plt.rcParams.update({'font.size': 8})\n",
        "plt.barh(X_train.columns, random_forest_clf.feature_importances_)"
      ],
      "execution_count": 30,
      "outputs": [
        {
          "output_type": "stream",
          "name": "stderr",
          "text": [
            "/usr/local/lib/python3.7/dist-packages/ipykernel_launcher.py:5: DataConversionWarning: A column-vector y was passed when a 1d array was expected. Please change the shape of y to (n_samples,), for example using ravel().\n",
            "  \"\"\"\n"
          ]
        },
        {
          "output_type": "stream",
          "name": "stdout",
          "text": [
            "accuracy_train = 0.8593007467752886\n",
            "accuracy_valid = 1.0\n"
          ]
        },
        {
          "output_type": "execute_result",
          "data": {
            "text/plain": [
              "<BarContainer object of 30 artists>"
            ]
          },
          "metadata": {},
          "execution_count": 30
        },
        {
          "output_type": "display_data",
          "data": {
            "text/plain": [
              "<Figure size 432x288 with 1 Axes>"
            ],
            "image/png": "[encoded data removed]"
          },
          "metadata": {
            "needs_background": "light"
          }
        }
      ]
    },
    {
      "cell_type": "code",
      "metadata": {
        "id": "Zo9BGeJoOSRd",
        "colab": {
          "base_uri": "https://localhost:8080/",
          "height": 437
        },
        "outputId": "4c50a848-4fbe-4bc5-b451-099ba05a1c33"
      },
      "source": [
        "plot_confusion_matrix(random_forest_clf, X_valid, y_valid)\n",
        "print_classification_report(random_forest_clf, X_valid, y_valid)"
      ],
      "execution_count": 31,
      "outputs": [
        {
          "output_type": "stream",
          "name": "stdout",
          "text": [
            "               precision    recall  f1-score   support\n",
            "\n",
            "Fighter 0 Win       1.00      1.00      1.00         1\n",
            "Fighter 1 Win       1.00      1.00      1.00         1\n",
            "\n",
            "     accuracy                           1.00         2\n",
            "    macro avg       1.00      1.00      1.00         2\n",
            " weighted avg       1.00      1.00      1.00         2\n",
            "\n"
          ]
        },
        {
          "output_type": "display_data",
          "data": {
            "text/plain": [
              "<Figure size 432x288 with 2 Axes>"
            ],
            "image/png": "[encoded data removed]"
          },
          "metadata": {
            "needs_background": "light"
          }
        }
      ]
    },
    {
      "cell_type": "markdown",
      "metadata": {
        "id": "0613aZAmbHdw"
      },
      "source": [
        "### Extra trees"
      ]
    },
    {
      "cell_type": "code",
      "metadata": {
        "id": "RTCgZ7rIbHEb",
        "colab": {
          "base_uri": "https://localhost:8080/",
          "height": 371
        },
        "outputId": "9f635049-fab1-4efe-819a-58229dab2f57"
      },
      "source": [
        "from sklearn.ensemble import ExtraTreesClassifier\n",
        "\n",
        "# Train\n",
        "extra_trees_clf = ExtraTreesClassifier(n_estimators=100, random_state=0)\n",
        "extra_trees_clf.fit(X_train, y_train)\n",
        "\n",
        "# Validate\n",
        "accuracy_train = extra_trees_clf.score(X_train, y_train)\n",
        "accuracy_valid = extra_trees_clf.score(X_valid, y_valid)\n",
        "print(f\"accuracy_train = {accuracy_train}\")\n",
        "print(f\"accuracy_valid = {accuracy_valid}\")\n",
        "\n",
        "# Visualize importances\n",
        "import matplotlib.pyplot as plt\n",
        "plt.rcParams.update({'font.size': 8})\n",
        "plt.barh(X_train.columns, extra_trees_clf.feature_importances_)"
      ],
      "execution_count": 32,
      "outputs": [
        {
          "output_type": "stream",
          "name": "stderr",
          "text": [
            "/usr/local/lib/python3.7/dist-packages/ipykernel_launcher.py:5: DataConversionWarning: A column-vector y was passed when a 1d array was expected. Please change the shape of y to (n_samples,), for example using ravel().\n",
            "  \"\"\"\n"
          ]
        },
        {
          "output_type": "stream",
          "name": "stdout",
          "text": [
            "accuracy_train = 1.0\n",
            "accuracy_valid = 1.0\n"
          ]
        },
        {
          "output_type": "execute_result",
          "data": {
            "text/plain": [
              "<BarContainer object of 30 artists>"
            ]
          },
          "metadata": {},
          "execution_count": 32
        },
        {
          "output_type": "display_data",
          "data": {
            "text/plain": [
              "<Figure size 432x288 with 1 Axes>"
            ],
            "image/png": "[encoded data removed]"
          },
          "metadata": {
            "needs_background": "light"
          }
        }
      ]
    },
    {
      "cell_type": "code",
      "metadata": {
        "id": "CRY3quOebU7n",
        "colab": {
          "base_uri": "https://localhost:8080/",
          "height": 437
        },
        "outputId": "c9004904-9adf-41e2-e610-9c1efa1c258a"
      },
      "source": [
        "plot_confusion_matrix(extra_trees_clf, X_valid, y_valid)\n",
        "print_classification_report(extra_trees_clf, X_valid, y_valid)"
      ],
      "execution_count": 33,
      "outputs": [
        {
          "output_type": "stream",
          "name": "stdout",
          "text": [
            "               precision    recall  f1-score   support\n",
            "\n",
            "Fighter 0 Win       1.00      1.00      1.00         1\n",
            "Fighter 1 Win       1.00      1.00      1.00         1\n",
            "\n",
            "     accuracy                           1.00         2\n",
            "    macro avg       1.00      1.00      1.00         2\n",
            " weighted avg       1.00      1.00      1.00         2\n",
            "\n"
          ]
        },
        {
          "output_type": "display_data",
          "data": {
            "text/plain": [
              "<Figure size 432x288 with 2 Axes>"
            ],
            "image/png": "[encoded data removed]"
          },
          "metadata": {
            "needs_background": "light"
          }
        }
      ]
    },
    {
      "cell_type": "markdown",
      "metadata": {
        "id": "CXx4w0bQOSRe"
      },
      "source": [
        "### MLP"
      ]
    },
    {
      "cell_type": "code",
      "metadata": {
        "id": "cF3J4g8HOSRe",
        "colab": {
          "base_uri": "https://localhost:8080/"
        },
        "outputId": "994a16fe-198e-43fb-efb7-1f1ca42868e1"
      },
      "source": [
        "# MLP\n",
        "from sklearn.neural_network import MLPClassifier\n",
        "\n",
        "mlp_clf = MLPClassifier(random_state=1, max_iter=300).fit(X_train, y_train)\n",
        "accuracy_train = mlp_clf.score(X_train, y_train)\n",
        "accuracy_valid = mlp_clf.score(X_valid, y_valid)\n",
        "print(f\"accuracy_train = {accuracy_train}\")\n",
        "print(f\"accuracy_valid = {accuracy_valid}\")"
      ],
      "execution_count": 34,
      "outputs": [
        {
          "output_type": "stream",
          "name": "stderr",
          "text": [
            "/usr/local/lib/python3.7/dist-packages/sklearn/neural_network/_multilayer_perceptron.py:1109: DataConversionWarning: A column-vector y was passed when a 1d array was expected. Please change the shape of y to (n_samples, ), for example using ravel().\n",
            "  y = column_or_1d(y, warn=True)\n"
          ]
        },
        {
          "output_type": "stream",
          "name": "stdout",
          "text": [
            "accuracy_train = 0.9335539714867617\n",
            "accuracy_valid = 1.0\n"
          ]
        },
        {
          "output_type": "stream",
          "name": "stderr",
          "text": [
            "/usr/local/lib/python3.7/dist-packages/sklearn/neural_network/_multilayer_perceptron.py:696: ConvergenceWarning: Stochastic Optimizer: Maximum iterations (300) reached and the optimization hasn't converged yet.\n",
            "  ConvergenceWarning,\n"
          ]
        }
      ]
    },
    {
      "cell_type": "code",
      "metadata": {
        "id": "xsBZgc7wOSRe",
        "colab": {
          "base_uri": "https://localhost:8080/",
          "height": 437
        },
        "outputId": "4f8c138b-b9ae-4756-bd80-b42b5c672895"
      },
      "source": [
        "plot_confusion_matrix(mlp_clf, X_valid, y_valid)\n",
        "print_classification_report(mlp_clf, X_valid, y_valid)"
      ],
      "execution_count": 35,
      "outputs": [
        {
          "output_type": "stream",
          "name": "stdout",
          "text": [
            "               precision    recall  f1-score   support\n",
            "\n",
            "Fighter 0 Win       1.00      1.00      1.00         1\n",
            "Fighter 1 Win       1.00      1.00      1.00         1\n",
            "\n",
            "     accuracy                           1.00         2\n",
            "    macro avg       1.00      1.00      1.00         2\n",
            " weighted avg       1.00      1.00      1.00         2\n",
            "\n"
          ]
        },
        {
          "output_type": "display_data",
          "data": {
            "text/plain": [
              "<Figure size 432x288 with 2 Axes>"
            ],
            "image/png": "[encoded data removed]"
          },
          "metadata": {
            "needs_background": "light"
          }
        }
      ]
    },
    {
      "cell_type": "markdown",
      "metadata": {
        "id": "YaDADd0nOSRe"
      },
      "source": [
        "### SVM"
      ]
    },
    {
      "cell_type": "code",
      "metadata": {
        "id": "Lid4_UcGOSRe",
        "colab": {
          "base_uri": "https://localhost:8080/"
        },
        "outputId": "fce0aefa-0012-48c7-9799-a931826dbcd8"
      },
      "source": [
        "# SVM\n",
        "from sklearn.svm import SVC\n",
        "\n",
        "svm_clf = SVC(random_state=1, probability=True).fit(X_train, y_train)\n",
        "accuracy_train = svm_clf.score(X_train, y_train)\n",
        "accuracy_valid = svm_clf.score(X_valid, y_valid)\n",
        "print(f\"accuracy_train = {accuracy_train}\")\n",
        "print(f\"accuracy_valid = {accuracy_valid}\")"
      ],
      "execution_count": 36,
      "outputs": [
        {
          "output_type": "stream",
          "name": "stderr",
          "text": [
            "/usr/local/lib/python3.7/dist-packages/sklearn/utils/validation.py:993: DataConversionWarning: A column-vector y was passed when a 1d array was expected. Please change the shape of y to (n_samples, ), for example using ravel().\n",
            "  y = column_or_1d(y, warn=True)\n"
          ]
        },
        {
          "output_type": "stream",
          "name": "stdout",
          "text": [
            "accuracy_train = 0.8908689748811949\n",
            "accuracy_valid = 1.0\n"
          ]
        }
      ]
    },
    {
      "cell_type": "code",
      "metadata": {
        "id": "9PUOxo-MOSRf",
        "colab": {
          "base_uri": "https://localhost:8080/",
          "height": 437
        },
        "outputId": "d0587232-9fec-4a04-9c75-226d9dd456f5"
      },
      "source": [
        "plot_confusion_matrix(svm_clf, X_valid, y_valid)\n",
        "print_classification_report(svm_clf, X_valid, y_valid)"
      ],
      "execution_count": 37,
      "outputs": [
        {
          "output_type": "stream",
          "name": "stdout",
          "text": [
            "               precision    recall  f1-score   support\n",
            "\n",
            "Fighter 0 Win       1.00      1.00      1.00         1\n",
            "Fighter 1 Win       1.00      1.00      1.00         1\n",
            "\n",
            "     accuracy                           1.00         2\n",
            "    macro avg       1.00      1.00      1.00         2\n",
            " weighted avg       1.00      1.00      1.00         2\n",
            "\n"
          ]
        },
        {
          "output_type": "display_data",
          "data": {
            "text/plain": [
              "<Figure size 432x288 with 2 Axes>"
            ],
            "image/png": "[encoded data removed]"
          },
          "metadata": {
            "needs_background": "light"
          }
        }
      ]
    },
    {
      "cell_type": "code",
      "metadata": {
        "id": "LzZIqs1OWiXt",
        "colab": {
          "base_uri": "https://localhost:8080/"
        },
        "outputId": "9a67d067-5448-4b08-ff27-6472190098f7"
      },
      "source": [
        "# SVM linear kernel\n",
        "svm_linear_clf = SVC(kernel='linear', random_state=1, probability=True).fit(X_train, y_train)\n",
        "accuracy_train = svm_linear_clf.score(X_train, y_train)\n",
        "accuracy_valid = svm_linear_clf.score(X_valid, y_valid)\n",
        "print(f\"accuracy_train = {accuracy_train}\")\n",
        "print(f\"accuracy_valid = {accuracy_valid}\")"
      ],
      "execution_count": 38,
      "outputs": [
        {
          "output_type": "stream",
          "name": "stderr",
          "text": [
            "/usr/local/lib/python3.7/dist-packages/sklearn/utils/validation.py:993: DataConversionWarning: A column-vector y was passed when a 1d array was expected. Please change the shape of y to (n_samples, ), for example using ravel().\n",
            "  y = column_or_1d(y, warn=True)\n"
          ]
        },
        {
          "output_type": "stream",
          "name": "stdout",
          "text": [
            "accuracy_train = 0.8671079429735234\n",
            "accuracy_valid = 1.0\n"
          ]
        }
      ]
    },
    {
      "cell_type": "code",
      "metadata": {
        "id": "ckmE9q0vXnqs",
        "colab": {
          "base_uri": "https://localhost:8080/",
          "height": 293
        },
        "outputId": "47cd76ac-e4e3-49b1-8671-7ffc41312fb3"
      },
      "source": [
        "# Visualize importances\n",
        "import matplotlib.pyplot as plt\n",
        "plt.rcParams.update({'font.size': 8})\n",
        "plt.barh(X_train.columns, svm_linear_clf.coef_[0])"
      ],
      "execution_count": 39,
      "outputs": [
        {
          "output_type": "execute_result",
          "data": {
            "text/plain": [
              "<BarContainer object of 30 artists>"
            ]
          },
          "metadata": {},
          "execution_count": 39
        },
        {
          "output_type": "display_data",
          "data": {
            "text/plain": [
              "<Figure size 432x288 with 1 Axes>"
            ],
            "image/png": "[encoded data removed]"
          },
          "metadata": {
            "needs_background": "light"
          }
        }
      ]
    },
    {
      "cell_type": "code",
      "metadata": {
        "id": "4iMx96BTWwAY",
        "colab": {
          "base_uri": "https://localhost:8080/",
          "height": 437
        },
        "outputId": "dadb14cc-d5bb-4d63-fde4-8fba5034068b"
      },
      "source": [
        "plot_confusion_matrix(svm_linear_clf, X_valid, y_valid)\n",
        "print_classification_report(svm_linear_clf, X_valid, y_valid)"
      ],
      "execution_count": 40,
      "outputs": [
        {
          "output_type": "stream",
          "name": "stdout",
          "text": [
            "               precision    recall  f1-score   support\n",
            "\n",
            "Fighter 0 Win       1.00      1.00      1.00         1\n",
            "Fighter 1 Win       1.00      1.00      1.00         1\n",
            "\n",
            "     accuracy                           1.00         2\n",
            "    macro avg       1.00      1.00      1.00         2\n",
            " weighted avg       1.00      1.00      1.00         2\n",
            "\n"
          ]
        },
        {
          "output_type": "display_data",
          "data": {
            "text/plain": [
              "<Figure size 432x288 with 2 Axes>"
            ],
            "image/png": "[encoded data removed]"
          },
          "metadata": {
            "needs_background": "light"
          }
        }
      ]
    },
    {
      "cell_type": "code",
      "metadata": {
        "id": "7L3PLSKsV-O_",
        "colab": {
          "base_uri": "https://localhost:8080/"
        },
        "outputId": "b3fd9af6-4625-4b5b-8161-fc5e846aba69"
      },
      "source": [
        "probability0 = svm_linear_clf.predict_proba(X_valid)[0][0]\n",
        "probability1 = svm_linear_clf.predict_proba(X_valid)[0][1]\n",
        "print(f\"Probability that {fighter0} won: {probability0}\")\n",
        "print(f\"Probability that {fighter1} won: {probability1}\")\n",
        "print(f\"Actual winner: {fighter0 if y_valid.iloc[0][0] == 0 else fighter1}\")"
      ],
      "execution_count": 41,
      "outputs": [
        {
          "output_type": "stream",
          "name": "stdout",
          "text": [
            "Probability that Gleison Tibau won: 0.005950826667561731\n",
            "Probability that Josh Neer won: 0.9806024512692794\n",
            "Actual winner: Gleison Tibau\n"
          ]
        }
      ]
    },
    {
      "cell_type": "markdown",
      "metadata": {
        "id": "3itzucb_OSRf"
      },
      "source": [
        "### XGBoost"
      ]
    },
    {
      "cell_type": "code",
      "metadata": {
        "id": "H_WSt6GkOSRf",
        "colab": {
          "base_uri": "https://localhost:8080/"
        },
        "outputId": "e430acdd-a881-4900-b9d5-20414b40c262"
      },
      "source": [
        "from xgboost import XGBClassifier\n",
        "xgb_clf = XGBClassifier()\n",
        "xgb_clf.fit(X_train, y_train)\n",
        "\n",
        "accuracy_train = xgb_clf.score(X_train, y_train)\n",
        "accuracy_valid = xgb_clf.score(X_valid, y_valid)\n",
        "print(f\"accuracy_train = {accuracy_train}\")\n",
        "print(f\"accuracy_valid = {accuracy_valid}\")"
      ],
      "execution_count": 42,
      "outputs": [
        {
          "output_type": "stream",
          "name": "stderr",
          "text": [
            "/usr/local/lib/python3.7/dist-packages/sklearn/preprocessing/_label.py:98: DataConversionWarning: A column-vector y was passed when a 1d array was expected. Please change the shape of y to (n_samples, ), for example using ravel().\n",
            "  y = column_or_1d(y, warn=True)\n",
            "/usr/local/lib/python3.7/dist-packages/sklearn/preprocessing/_label.py:133: DataConversionWarning: A column-vector y was passed when a 1d array was expected. Please change the shape of y to (n_samples, ), for example using ravel().\n",
            "  y = column_or_1d(y, warn=True)\n"
          ]
        },
        {
          "output_type": "stream",
          "name": "stdout",
          "text": [
            "accuracy_train = 0.8772912423625254\n",
            "accuracy_valid = 1.0\n"
          ]
        }
      ]
    },
    {
      "cell_type": "code",
      "metadata": {
        "id": "KVnq88q6O1Fq",
        "colab": {
          "base_uri": "https://localhost:8080/",
          "height": 437
        },
        "outputId": "2abe7c69-04db-4381-dde9-5ab2559456f8"
      },
      "source": [
        "plot_confusion_matrix(xgb_clf, X_valid, y_valid)\n",
        "print_classification_report(xgb_clf, X_valid, y_valid)"
      ],
      "execution_count": 43,
      "outputs": [
        {
          "output_type": "stream",
          "name": "stdout",
          "text": [
            "               precision    recall  f1-score   support\n",
            "\n",
            "Fighter 0 Win       1.00      1.00      1.00         1\n",
            "Fighter 1 Win       1.00      1.00      1.00         1\n",
            "\n",
            "     accuracy                           1.00         2\n",
            "    macro avg       1.00      1.00      1.00         2\n",
            " weighted avg       1.00      1.00      1.00         2\n",
            "\n"
          ]
        },
        {
          "output_type": "display_data",
          "data": {
            "text/plain": [
              "<Figure size 432x288 with 2 Axes>"
            ],
            "image/png": "[encoded data removed]"
          },
          "metadata": {
            "needs_background": "light"
          }
        }
      ]
    },
    {
      "cell_type": "markdown",
      "metadata": {
        "id": "6wP0UzhhVG4M"
      },
      "source": [
        "### Logistic regression"
      ]
    },
    {
      "cell_type": "code",
      "metadata": {
        "id": "LbmiFpfCVGgu",
        "colab": {
          "base_uri": "https://localhost:8080/",
          "height": 371
        },
        "outputId": "bae16a53-9b04-4fde-e582-f7da4b754364"
      },
      "source": [
        "from sklearn.linear_model import LogisticRegression\n",
        "logistic_regression_clf = LogisticRegression(random_state=0).fit(X_train, y_train)\n",
        "\n",
        "accuracy_train = logistic_regression_clf.score(X_train, y_train)\n",
        "accuracy_valid = logistic_regression_clf.score(X_valid, y_valid)\n",
        "print(f\"accuracy_train = {accuracy_train}\")\n",
        "print(f\"accuracy_valid = {accuracy_valid}\")\n",
        "\n",
        "# Visualize importances\n",
        "import matplotlib.pyplot as plt\n",
        "plt.rcParams.update({'font.size': 8})\n",
        "plt.barh(X_train.columns, logistic_regression_clf.coef_[0])"
      ],
      "execution_count": 44,
      "outputs": [
        {
          "output_type": "stream",
          "name": "stderr",
          "text": [
            "/usr/local/lib/python3.7/dist-packages/sklearn/utils/validation.py:993: DataConversionWarning: A column-vector y was passed when a 1d array was expected. Please change the shape of y to (n_samples, ), for example using ravel().\n",
            "  y = column_or_1d(y, warn=True)\n"
          ]
        },
        {
          "output_type": "stream",
          "name": "stdout",
          "text": [
            "accuracy_train = 0.8628649015614392\n",
            "accuracy_valid = 1.0\n"
          ]
        },
        {
          "output_type": "execute_result",
          "data": {
            "text/plain": [
              "<BarContainer object of 30 artists>"
            ]
          },
          "metadata": {},
          "execution_count": 44
        },
        {
          "output_type": "display_data",
          "data": {
            "text/plain": [
              "<Figure size 432x288 with 1 Axes>"
            ],
            "image/png": "[encoded data removed]"
          },
          "metadata": {
            "needs_background": "light"
          }
        }
      ]
    },
    {
      "cell_type": "code",
      "metadata": {
        "id": "bYiaJ4WKVN0v",
        "colab": {
          "base_uri": "https://localhost:8080/",
          "height": 437
        },
        "outputId": "17ba9483-7117-42c3-a134-b9a6b228b431"
      },
      "source": [
        "plot_confusion_matrix(logistic_regression_clf, X_valid, y_valid)\n",
        "print_classification_report(logistic_regression_clf, X_valid, y_valid)"
      ],
      "execution_count": 45,
      "outputs": [
        {
          "output_type": "stream",
          "name": "stdout",
          "text": [
            "               precision    recall  f1-score   support\n",
            "\n",
            "Fighter 0 Win       1.00      1.00      1.00         1\n",
            "Fighter 1 Win       1.00      1.00      1.00         1\n",
            "\n",
            "     accuracy                           1.00         2\n",
            "    macro avg       1.00      1.00      1.00         2\n",
            " weighted avg       1.00      1.00      1.00         2\n",
            "\n"
          ]
        },
        {
          "output_type": "display_data",
          "data": {
            "text/plain": [
              "<Figure size 432x288 with 2 Axes>"
            ],
            "image/png": "[encoded data removed]"
          },
          "metadata": {
            "needs_background": "light"
          }
        }
      ]
    },
    {
      "cell_type": "code",
      "metadata": {
        "id": "cDxUH57MV3CA",
        "colab": {
          "base_uri": "https://localhost:8080/",
          "height": 371
        },
        "outputId": "e7ffeb7f-3bba-4b19-ae00-a5d94a32de51"
      },
      "source": [
        "logistic_regression_l1_clf = LogisticRegression(penalty='l1', solver='liblinear', random_state=0).fit(X_train, y_train)\n",
        "\n",
        "accuracy_train = logistic_regression_l1_clf.score(X_train, y_train)\n",
        "accuracy_valid = logistic_regression_l1_clf.score(X_valid, y_valid)\n",
        "print(f\"accuracy_train = {accuracy_train}\")\n",
        "print(f\"accuracy_valid = {accuracy_valid}\")\n",
        "\n",
        "# Visualize importances\n",
        "import matplotlib.pyplot as plt\n",
        "plt.rcParams.update({'font.size': 8})\n",
        "plt.barh(X_train.columns, logistic_regression_l1_clf.coef_[0])"
      ],
      "execution_count": 46,
      "outputs": [
        {
          "output_type": "stream",
          "name": "stderr",
          "text": [
            "/usr/local/lib/python3.7/dist-packages/sklearn/utils/validation.py:993: DataConversionWarning: A column-vector y was passed when a 1d array was expected. Please change the shape of y to (n_samples, ), for example using ravel().\n",
            "  y = column_or_1d(y, warn=True)\n"
          ]
        },
        {
          "output_type": "stream",
          "name": "stdout",
          "text": [
            "accuracy_train = 0.8638832315003394\n",
            "accuracy_valid = 1.0\n"
          ]
        },
        {
          "output_type": "execute_result",
          "data": {
            "text/plain": [
              "<BarContainer object of 30 artists>"
            ]
          },
          "metadata": {},
          "execution_count": 46
        },
        {
          "output_type": "display_data",
          "data": {
            "text/plain": [
              "<Figure size 432x288 with 1 Axes>"
            ],
            "image/png": "[encoded data removed]"
          },
          "metadata": {
            "needs_background": "light"
          }
        }
      ]
    },
    {
      "cell_type": "code",
      "metadata": {
        "id": "zWOjdd_QV6We",
        "colab": {
          "base_uri": "https://localhost:8080/",
          "height": 437
        },
        "outputId": "6c736a0d-f0a0-47a8-9d51-6c81a2e3fe7b"
      },
      "source": [
        "plot_confusion_matrix(logistic_regression_l1_clf, X_valid, y_valid)\n",
        "print_classification_report(logistic_regression_l1_clf, X_valid, y_valid)"
      ],
      "execution_count": 47,
      "outputs": [
        {
          "output_type": "stream",
          "name": "stdout",
          "text": [
            "               precision    recall  f1-score   support\n",
            "\n",
            "Fighter 0 Win       1.00      1.00      1.00         1\n",
            "Fighter 1 Win       1.00      1.00      1.00         1\n",
            "\n",
            "     accuracy                           1.00         2\n",
            "    macro avg       1.00      1.00      1.00         2\n",
            " weighted avg       1.00      1.00      1.00         2\n",
            "\n"
          ]
        },
        {
          "output_type": "display_data",
          "data": {
            "text/plain": [
              "<Figure size 432x288 with 2 Axes>"
            ],
            "image/png": "[encoded data removed]"
          },
          "metadata": {
            "needs_background": "light"
          }
        }
      ]
    },
    {
      "cell_type": "markdown",
      "metadata": {
        "id": "gzj5WaU_YRsQ"
      },
      "source": [
        "### KNN classifier"
      ]
    },
    {
      "cell_type": "code",
      "metadata": {
        "id": "Y5ujO215YRFX",
        "colab": {
          "base_uri": "https://localhost:8080/"
        },
        "outputId": "e9b3fff9-0abc-44a5-ac5d-a009a826f53b"
      },
      "source": [
        "from sklearn.neighbors import KNeighborsClassifier\n",
        "knn_clf = KNeighborsClassifier(n_neighbors=10).fit(X_train, y_train)\n",
        "\n",
        "accuracy_train = knn_clf.score(X_train, y_train)\n",
        "accuracy_valid = knn_clf.score(X_valid, y_valid)\n",
        "print(f\"accuracy_train = {accuracy_train}\")\n",
        "print(f\"accuracy_valid = {accuracy_valid}\")"
      ],
      "execution_count": 48,
      "outputs": [
        {
          "output_type": "stream",
          "name": "stderr",
          "text": [
            "/usr/local/lib/python3.7/dist-packages/sklearn/neighbors/_classification.py:198: DataConversionWarning: A column-vector y was passed when a 1d array was expected. Please change the shape of y to (n_samples,), for example using ravel().\n",
            "  return self._fit(X, y)\n"
          ]
        },
        {
          "output_type": "stream",
          "name": "stdout",
          "text": [
            "accuracy_train = 0.8668533604887984\n",
            "accuracy_valid = 1.0\n"
          ]
        }
      ]
    },
    {
      "cell_type": "code",
      "metadata": {
        "id": "aMgQlf5rYfSU",
        "colab": {
          "base_uri": "https://localhost:8080/",
          "height": 437
        },
        "outputId": "786e0f7c-87e3-4a5b-8886-bdaa14a18cdf"
      },
      "source": [
        "plot_confusion_matrix(knn_clf, X_valid, y_valid)\n",
        "print_classification_report(knn_clf, X_valid, y_valid)"
      ],
      "execution_count": 49,
      "outputs": [
        {
          "output_type": "stream",
          "name": "stdout",
          "text": [
            "               precision    recall  f1-score   support\n",
            "\n",
            "Fighter 0 Win       1.00      1.00      1.00         1\n",
            "Fighter 1 Win       1.00      1.00      1.00         1\n",
            "\n",
            "     accuracy                           1.00         2\n",
            "    macro avg       1.00      1.00      1.00         2\n",
            " weighted avg       1.00      1.00      1.00         2\n",
            "\n"
          ]
        },
        {
          "output_type": "display_data",
          "data": {
            "text/plain": [
              "<Figure size 432x288 with 2 Axes>"
            ],
            "image/png": "[encoded data removed]"
          },
          "metadata": {
            "needs_background": "light"
          }
        }
      ]
    },
    {
      "cell_type": "markdown",
      "metadata": {
        "id": "nbCFcybKZgYI"
      },
      "source": [
        "### Gradient boosting"
      ]
    },
    {
      "cell_type": "code",
      "metadata": {
        "id": "RQcxuC6PZjMw",
        "colab": {
          "base_uri": "https://localhost:8080/"
        },
        "outputId": "28e2c62d-16c5-4444-d307-c729f1c22e94"
      },
      "source": [
        "from sklearn.ensemble import GradientBoostingClassifier\n",
        "gradient_boosting_clf = GradientBoostingClassifier(n_estimators=100, learning_rate=1.0, max_depth=1, random_state=0).fit(X_train, y_train)\n",
        "\n",
        "accuracy_train = gradient_boosting_clf.score(X_train, y_train)\n",
        "accuracy_valid = gradient_boosting_clf.score(X_valid, y_valid)\n",
        "print(f\"accuracy_train = {accuracy_train}\")\n",
        "print(f\"accuracy_valid = {accuracy_valid}\")"
      ],
      "execution_count": 50,
      "outputs": [
        {
          "output_type": "stream",
          "name": "stderr",
          "text": [
            "/usr/local/lib/python3.7/dist-packages/sklearn/ensemble/_gb.py:494: DataConversionWarning: A column-vector y was passed when a 1d array was expected. Please change the shape of y to (n_samples, ), for example using ravel().\n",
            "  y = column_or_1d(y, warn=True)\n"
          ]
        },
        {
          "output_type": "stream",
          "name": "stdout",
          "text": [
            "accuracy_train = 0.8727087576374746\n",
            "accuracy_valid = 1.0\n"
          ]
        }
      ]
    },
    {
      "cell_type": "code",
      "metadata": {
        "id": "uHZNLkgUZo3I",
        "colab": {
          "base_uri": "https://localhost:8080/",
          "height": 437
        },
        "outputId": "925aaab4-5455-44a3-bcb6-9313f9767c07"
      },
      "source": [
        "plot_confusion_matrix(gradient_boosting_clf, X_valid, y_valid)\n",
        "print_classification_report(gradient_boosting_clf, X_valid, y_valid)"
      ],
      "execution_count": 51,
      "outputs": [
        {
          "output_type": "stream",
          "name": "stdout",
          "text": [
            "               precision    recall  f1-score   support\n",
            "\n",
            "Fighter 0 Win       1.00      1.00      1.00         1\n",
            "Fighter 1 Win       1.00      1.00      1.00         1\n",
            "\n",
            "     accuracy                           1.00         2\n",
            "    macro avg       1.00      1.00      1.00         2\n",
            " weighted avg       1.00      1.00      1.00         2\n",
            "\n"
          ]
        },
        {
          "output_type": "display_data",
          "data": {
            "text/plain": [
              "<Figure size 432x288 with 2 Axes>"
            ],
            "image/png": "[encoded data removed]"
          },
          "metadata": {
            "needs_background": "light"
          }
        }
      ]
    },
    {
      "cell_type": "markdown",
      "metadata": {
        "id": "FQK1JgIgYwUN"
      },
      "source": [
        "### Adaboost"
      ]
    },
    {
      "cell_type": "code",
      "metadata": {
        "id": "8zpZrIACYx0H",
        "colab": {
          "base_uri": "https://localhost:8080/"
        },
        "outputId": "f270e0a7-a98a-42d3-eb29-647777b458b8"
      },
      "source": [
        "from sklearn.ensemble import AdaBoostClassifier\n",
        "adaboost_clf = AdaBoostClassifier(n_estimators=100, random_state=0).fit(X_train, y_train)\n",
        "\n",
        "accuracy_train = adaboost_clf.score(X_train, y_train)\n",
        "accuracy_valid = adaboost_clf.score(X_valid, y_valid)\n",
        "print(f\"accuracy_train = {accuracy_train}\")\n",
        "print(f\"accuracy_valid = {accuracy_valid}\")"
      ],
      "execution_count": 52,
      "outputs": [
        {
          "output_type": "stream",
          "name": "stderr",
          "text": [
            "/usr/local/lib/python3.7/dist-packages/sklearn/utils/validation.py:993: DataConversionWarning: A column-vector y was passed when a 1d array was expected. Please change the shape of y to (n_samples, ), for example using ravel().\n",
            "  y = column_or_1d(y, warn=True)\n"
          ]
        },
        {
          "output_type": "stream",
          "name": "stdout",
          "text": [
            "accuracy_train = 0.8558214528173795\n",
            "accuracy_valid = 1.0\n"
          ]
        }
      ]
    },
    {
      "cell_type": "code",
      "metadata": {
        "id": "S04qiBcYYzl2",
        "colab": {
          "base_uri": "https://localhost:8080/",
          "height": 437
        },
        "outputId": "2861de8e-635f-4b59-d0f1-929ede2241ad"
      },
      "source": [
        "plot_confusion_matrix(adaboost_clf, X_valid, y_valid)\n",
        "print_classification_report(adaboost_clf, X_valid, y_valid)"
      ],
      "execution_count": 53,
      "outputs": [
        {
          "output_type": "stream",
          "name": "stdout",
          "text": [
            "               precision    recall  f1-score   support\n",
            "\n",
            "Fighter 0 Win       1.00      1.00      1.00         1\n",
            "Fighter 1 Win       1.00      1.00      1.00         1\n",
            "\n",
            "     accuracy                           1.00         2\n",
            "    macro avg       1.00      1.00      1.00         2\n",
            " weighted avg       1.00      1.00      1.00         2\n",
            "\n"
          ]
        },
        {
          "output_type": "display_data",
          "data": {
            "text/plain": [
              "<Figure size 432x288 with 2 Axes>"
            ],
            "image/png": "[encoded data removed]"
          },
          "metadata": {
            "needs_background": "light"
          }
        }
      ]
    },
    {
      "cell_type": "markdown",
      "metadata": {
        "id": "0MTgv_KmOSRj"
      },
      "source": [
        "### Comparison Model"
      ]
    },
    {
      "cell_type": "code",
      "metadata": {
        "id": "CNAmHJFKOSRj"
      },
      "source": [
        "import tensorflow as tf\n",
        "from tensorflow.keras.layers import Input, Lambda, Subtract, Activation\n",
        "from tensorflow.keras.models import Model\n",
        "def create_comparison_model(input_shape):\n",
        "    num_features_per_fighter = input_shape[0] // 2\n",
        "\n",
        "    model_ = tf.keras.models.Sequential(name=\"scoring_deep_model\")\n",
        "    model_.add(tf.keras.Input(shape=num_features_per_fighter))\n",
        "    model_.add(tf.keras.layers.Dense(32, activation='relu'))\n",
        "    model_.add(tf.keras.layers.Dropout(0.5))\n",
        "    model_.add(tf.keras.layers.Dense(16, activation='relu'))\n",
        "    model_.add(tf.keras.layers.Dropout(0.5))\n",
        "\n",
        "    model_.add(tf.keras.layers.Dense(1, activation='relu'))\n",
        "    \n",
        "    # Run cnn model on each frame\n",
        "    input_tensor = Input(shape=input_shape, name=\"input\")\n",
        "    fighter0_state = Lambda(lambda x: x[:, :num_features_per_fighter], name='fighter0_state')(input_tensor)\n",
        "    fighter1_state = Lambda(lambda x: x[:, num_features_per_fighter:], name='fighter1_state')(input_tensor)\n",
        "\n",
        "    fighter0_score = model_(fighter0_state)\n",
        "    fighter1_score = model_(fighter1_state)\n",
        "    fighter0_score = Lambda(lambda x: x, name='fighter0_score')(fighter0_score)\n",
        "    fighter1_score = Lambda(lambda x: x, name='fighter1_score')(fighter1_score)\n",
        "    \n",
        "    difference_score = Subtract(name='subtracter')([fighter1_score, fighter0_score])\n",
        "    prediction = Activation('sigmoid', name='sigmoid')(difference_score)\n",
        "    return Model(inputs=input_tensor, outputs=prediction)"
      ],
      "execution_count": 56,
      "outputs": []
    },
    {
      "cell_type": "code",
      "metadata": {
        "colab": {
          "base_uri": "https://localhost:8080/"
        },
        "id": "JVyaVIkzOSRj",
        "outputId": "85f4b486-25d9-4378-e844-2c17cd4eeb93"
      },
      "source": [
        "comparison_model = create_comparison_model(X_train.shape[1:])\n",
        "optimizer = tf.keras.optimizers.Adam(lr=0.001)\n",
        "comparison_model.compile(optimizer=optimizer, loss='binary_crossentropy', metrics=['accuracy'])\n",
        "comparison_model.summary()"
      ],
      "execution_count": 57,
      "outputs": [
        {
          "output_type": "stream",
          "name": "stdout",
          "text": [
            "Model: \"model\"\n",
            "__________________________________________________________________________________________________\n",
            " Layer (type)                   Output Shape         Param #     Connected to                     \n",
            "==================================================================================================\n",
            " input (InputLayer)             [(None, 30)]         0           []                               \n",
            "                                                                                                  \n",
            " fighter1_state (Lambda)        (None, 15)           0           ['input[0][0]']                  \n",
            "                                                                                                  \n",
            " fighter0_state (Lambda)        (None, 15)           0           ['input[0][0]']                  \n",
            "                                                                                                  \n",
            " scoring_deep_model (Sequential  (None, 1)           1057        ['fighter0_state[0][0]',         \n",
            " )                                                                'fighter1_state[0][0]']         \n",
            "                                                                                                  \n",
            " fighter1_score (Lambda)        (None, 1)            0           ['scoring_deep_model[1][0]']     \n",
            "                                                                                                  \n",
            " fighter0_score (Lambda)        (None, 1)            0           ['scoring_deep_model[0][0]']     \n",
            "                                                                                                  \n",
            " subtracter (Subtract)          (None, 1)            0           ['fighter1_score[0][0]',         \n",
            "                                                                  'fighter0_score[0][0]']         \n",
            "                                                                                                  \n",
            " sigmoid (Activation)           (None, 1)            0           ['subtracter[0][0]']             \n",
            "                                                                                                  \n",
            "==================================================================================================\n",
            "Total params: 1,057\n",
            "Trainable params: 1,057\n",
            "Non-trainable params: 0\n",
            "__________________________________________________________________________________________________\n"
          ]
        },
        {
          "output_type": "stream",
          "name": "stderr",
          "text": [
            "/usr/local/lib/python3.7/dist-packages/keras/optimizer_v2/adam.py:105: UserWarning: The `lr` argument is deprecated, use `learning_rate` instead.\n",
            "  super(Adam, self).__init__(name, **kwargs)\n"
          ]
        }
      ]
    },
    {
      "cell_type": "code",
      "metadata": {
        "id": "teRgJBKjy6wm",
        "colab": {
          "base_uri": "https://localhost:8080/",
          "height": 564
        },
        "outputId": "4145bc56-48c9-4c07-d6ff-b3b825f63305"
      },
      "source": [
        "tf.keras.utils.plot_model(comparison_model)"
      ],
      "execution_count": 58,
      "outputs": [
        {
          "output_type": "execute_result",
          "data": {
            "text/plain": [
              "<IPython.core.display.Image object>"
            ],
            "image/png": "[encoded data removed]"
          },
          "metadata": {},
          "execution_count": 58
        }
      ]
    },
    {
      "cell_type": "code",
      "metadata": {
        "id": "Drp0QsEtOSRk",
        "colab": {
          "base_uri": "https://localhost:8080/"
        },
        "outputId": "b8815921-73ab-43f7-b0a5-2cd81a36fa55"
      },
      "source": [
        "H = comparison_model.fit(X_train, y_train, epochs=60, validation_data=(X_valid_new_normal, y_valid))"
      ],
      "execution_count": 59,
      "outputs": [
        {
          "output_type": "stream",
          "name": "stdout",
          "text": [
            "Epoch 1/60\n",
            "369/369 [==============================] - 6s 5ms/step - loss: 0.5825 - accuracy: 0.6899 - val_loss: 0.1163 - val_accuracy: 1.0000\n",
            "Epoch 2/60\n",
            "369/369 [==============================] - 2s 4ms/step - loss: 0.4846 - accuracy: 0.7834 - val_loss: 0.1013 - val_accuracy: 1.0000\n",
            "Epoch 3/60\n",
            "369/369 [==============================] - 2s 4ms/step - loss: 0.4495 - accuracy: 0.8044 - val_loss: 0.0889 - val_accuracy: 1.0000\n",
            "Epoch 4/60\n",
            "369/369 [==============================] - 2s 4ms/step - loss: 0.4275 - accuracy: 0.8103 - val_loss: 0.0902 - val_accuracy: 1.0000\n",
            "Epoch 5/60\n",
            "369/369 [==============================] - 2s 4ms/step - loss: 0.4026 - accuracy: 0.8184 - val_loss: 0.0843 - val_accuracy: 1.0000\n",
            "Epoch 6/60\n",
            "369/369 [==============================] - 2s 4ms/step - loss: 0.3908 - accuracy: 0.8290 - val_loss: 0.0694 - val_accuracy: 1.0000\n",
            "Epoch 7/60\n",
            "369/369 [==============================] - 2s 4ms/step - loss: 0.3714 - accuracy: 0.8312 - val_loss: 0.0587 - val_accuracy: 1.0000\n",
            "Epoch 8/60\n",
            "369/369 [==============================] - 2s 4ms/step - loss: 0.3559 - accuracy: 0.8365 - val_loss: 0.0559 - val_accuracy: 1.0000\n",
            "Epoch 9/60\n",
            "369/369 [==============================] - 2s 4ms/step - loss: 0.3562 - accuracy: 0.8369 - val_loss: 0.0588 - val_accuracy: 1.0000\n",
            "Epoch 10/60\n",
            "369/369 [==============================] - 2s 4ms/step - loss: 0.3486 - accuracy: 0.8381 - val_loss: 0.0553 - val_accuracy: 1.0000\n",
            "Epoch 11/60\n",
            "369/369 [==============================] - 2s 4ms/step - loss: 0.3512 - accuracy: 0.8412 - val_loss: 0.0523 - val_accuracy: 1.0000\n",
            "Epoch 12/60\n",
            "369/369 [==============================] - 2s 4ms/step - loss: 0.3446 - accuracy: 0.8402 - val_loss: 0.0484 - val_accuracy: 1.0000\n",
            "Epoch 13/60\n",
            "369/369 [==============================] - 2s 4ms/step - loss: 0.3425 - accuracy: 0.8390 - val_loss: 0.0498 - val_accuracy: 1.0000\n",
            "Epoch 14/60\n",
            "369/369 [==============================] - 2s 4ms/step - loss: 0.3347 - accuracy: 0.8450 - val_loss: 0.0443 - val_accuracy: 1.0000\n",
            "Epoch 15/60\n",
            "369/369 [==============================] - 2s 4ms/step - loss: 0.3321 - accuracy: 0.8467 - val_loss: 0.0381 - val_accuracy: 1.0000\n",
            "Epoch 16/60\n",
            "369/369 [==============================] - 2s 4ms/step - loss: 0.3353 - accuracy: 0.8434 - val_loss: 0.0380 - val_accuracy: 1.0000\n",
            "Epoch 17/60\n",
            "369/369 [==============================] - 2s 4ms/step - loss: 0.3332 - accuracy: 0.8467 - val_loss: 0.0293 - val_accuracy: 1.0000\n",
            "Epoch 18/60\n",
            "369/369 [==============================] - 2s 4ms/step - loss: 0.3312 - accuracy: 0.8467 - val_loss: 0.0307 - val_accuracy: 1.0000\n",
            "Epoch 19/60\n",
            "369/369 [==============================] - 2s 4ms/step - loss: 0.3291 - accuracy: 0.8499 - val_loss: 0.0315 - val_accuracy: 1.0000\n",
            "Epoch 20/60\n",
            "369/369 [==============================] - 3s 7ms/step - loss: 0.3287 - accuracy: 0.8489 - val_loss: 0.0334 - val_accuracy: 1.0000\n",
            "Epoch 21/60\n",
            "369/369 [==============================] - 2s 5ms/step - loss: 0.3276 - accuracy: 0.8487 - val_loss: 0.0308 - val_accuracy: 1.0000\n",
            "Epoch 22/60\n",
            "369/369 [==============================] - 2s 4ms/step - loss: 0.3256 - accuracy: 0.8507 - val_loss: 0.0253 - val_accuracy: 1.0000\n",
            "Epoch 23/60\n",
            "369/369 [==============================] - 2s 4ms/step - loss: 0.3230 - accuracy: 0.8504 - val_loss: 0.0313 - val_accuracy: 1.0000\n",
            "Epoch 24/60\n",
            "369/369 [==============================] - 2s 4ms/step - loss: 0.3259 - accuracy: 0.8507 - val_loss: 0.0278 - val_accuracy: 1.0000\n",
            "Epoch 25/60\n",
            "369/369 [==============================] - 2s 4ms/step - loss: 0.3208 - accuracy: 0.8513 - val_loss: 0.0295 - val_accuracy: 1.0000\n",
            "Epoch 26/60\n",
            "369/369 [==============================] - 2s 4ms/step - loss: 0.3230 - accuracy: 0.8539 - val_loss: 0.0282 - val_accuracy: 1.0000\n",
            "Epoch 27/60\n",
            "369/369 [==============================] - 2s 4ms/step - loss: 0.3214 - accuracy: 0.8527 - val_loss: 0.0265 - val_accuracy: 1.0000\n",
            "Epoch 28/60\n",
            "369/369 [==============================] - 2s 4ms/step - loss: 0.3192 - accuracy: 0.8540 - val_loss: 0.0263 - val_accuracy: 1.0000\n",
            "Epoch 29/60\n",
            "369/369 [==============================] - 2s 4ms/step - loss: 0.3207 - accuracy: 0.8521 - val_loss: 0.0276 - val_accuracy: 1.0000\n",
            "Epoch 30/60\n",
            "369/369 [==============================] - 2s 4ms/step - loss: 0.3192 - accuracy: 0.8529 - val_loss: 0.0239 - val_accuracy: 1.0000\n",
            "Epoch 31/60\n",
            "369/369 [==============================] - 2s 4ms/step - loss: 0.3195 - accuracy: 0.8540 - val_loss: 0.0266 - val_accuracy: 1.0000\n",
            "Epoch 32/60\n",
            "369/369 [==============================] - 2s 4ms/step - loss: 0.3140 - accuracy: 0.8537 - val_loss: 0.0272 - val_accuracy: 1.0000\n",
            "Epoch 33/60\n",
            "369/369 [==============================] - 2s 4ms/step - loss: 0.3167 - accuracy: 0.8561 - val_loss: 0.0296 - val_accuracy: 1.0000\n",
            "Epoch 34/60\n",
            "369/369 [==============================] - 2s 4ms/step - loss: 0.3241 - accuracy: 0.8534 - val_loss: 0.0284 - val_accuracy: 1.0000\n",
            "Epoch 35/60\n",
            "369/369 [==============================] - 2s 4ms/step - loss: 0.3152 - accuracy: 0.8586 - val_loss: 0.0266 - val_accuracy: 1.0000\n",
            "Epoch 36/60\n",
            "369/369 [==============================] - 2s 4ms/step - loss: 0.3166 - accuracy: 0.8537 - val_loss: 0.0284 - val_accuracy: 1.0000\n",
            "Epoch 37/60\n",
            "369/369 [==============================] - 2s 4ms/step - loss: 0.3220 - accuracy: 0.8545 - val_loss: 0.0286 - val_accuracy: 1.0000\n",
            "Epoch 38/60\n",
            "369/369 [==============================] - 2s 4ms/step - loss: 0.3154 - accuracy: 0.8522 - val_loss: 0.0282 - val_accuracy: 1.0000\n",
            "Epoch 39/60\n",
            "369/369 [==============================] - 2s 4ms/step - loss: 0.3171 - accuracy: 0.8548 - val_loss: 0.0291 - val_accuracy: 1.0000\n",
            "Epoch 40/60\n",
            "369/369 [==============================] - 2s 4ms/step - loss: 0.3154 - accuracy: 0.8553 - val_loss: 0.0278 - val_accuracy: 1.0000\n",
            "Epoch 41/60\n",
            "369/369 [==============================] - 2s 4ms/step - loss: 0.3187 - accuracy: 0.8555 - val_loss: 0.0297 - val_accuracy: 1.0000\n",
            "Epoch 42/60\n",
            "369/369 [==============================] - 2s 4ms/step - loss: 0.3138 - accuracy: 0.8571 - val_loss: 0.0309 - val_accuracy: 1.0000\n",
            "Epoch 43/60\n",
            "369/369 [==============================] - 2s 4ms/step - loss: 0.3154 - accuracy: 0.8543 - val_loss: 0.0283 - val_accuracy: 1.0000\n",
            "Epoch 44/60\n",
            "369/369 [==============================] - 2s 4ms/step - loss: 0.3174 - accuracy: 0.8565 - val_loss: 0.0269 - val_accuracy: 1.0000\n",
            "Epoch 45/60\n",
            "369/369 [==============================] - 2s 4ms/step - loss: 0.3150 - accuracy: 0.8590 - val_loss: 0.0263 - val_accuracy: 1.0000\n",
            "Epoch 46/60\n",
            "369/369 [==============================] - 2s 4ms/step - loss: 0.3157 - accuracy: 0.8575 - val_loss: 0.0289 - val_accuracy: 1.0000\n",
            "Epoch 47/60\n",
            "369/369 [==============================] - 2s 4ms/step - loss: 0.3151 - accuracy: 0.8557 - val_loss: 0.0289 - val_accuracy: 1.0000\n",
            "Epoch 48/60\n",
            "369/369 [==============================] - 2s 4ms/step - loss: 0.3120 - accuracy: 0.8587 - val_loss: 0.0287 - val_accuracy: 1.0000\n",
            "Epoch 49/60\n",
            "369/369 [==============================] - 2s 4ms/step - loss: 0.3176 - accuracy: 0.8563 - val_loss: 0.0272 - val_accuracy: 1.0000\n",
            "Epoch 50/60\n",
            "369/369 [==============================] - 2s 4ms/step - loss: 0.3164 - accuracy: 0.8551 - val_loss: 0.0256 - val_accuracy: 1.0000\n",
            "Epoch 51/60\n",
            "369/369 [==============================] - 2s 4ms/step - loss: 0.3143 - accuracy: 0.8562 - val_loss: 0.0259 - val_accuracy: 1.0000\n",
            "Epoch 52/60\n",
            "369/369 [==============================] - 2s 4ms/step - loss: 0.3183 - accuracy: 0.8564 - val_loss: 0.0219 - val_accuracy: 1.0000\n",
            "Epoch 53/60\n",
            "369/369 [==============================] - 2s 4ms/step - loss: 0.3170 - accuracy: 0.8555 - val_loss: 0.0267 - val_accuracy: 1.0000\n",
            "Epoch 54/60\n",
            "369/369 [==============================] - 2s 4ms/step - loss: 0.3165 - accuracy: 0.8558 - val_loss: 0.0305 - val_accuracy: 1.0000\n",
            "Epoch 55/60\n",
            "369/369 [==============================] - 2s 4ms/step - loss: 0.3191 - accuracy: 0.8580 - val_loss: 0.0271 - val_accuracy: 1.0000\n",
            "Epoch 56/60\n",
            "369/369 [==============================] - 2s 4ms/step - loss: 0.3142 - accuracy: 0.8588 - val_loss: 0.0267 - val_accuracy: 1.0000\n",
            "Epoch 57/60\n",
            "369/369 [==============================] - 2s 4ms/step - loss: 0.3202 - accuracy: 0.8534 - val_loss: 0.0285 - val_accuracy: 1.0000\n",
            "Epoch 58/60\n",
            "369/369 [==============================] - 2s 4ms/step - loss: 0.3155 - accuracy: 0.8566 - val_loss: 0.0292 - val_accuracy: 1.0000\n",
            "Epoch 59/60\n",
            "369/369 [==============================] - 2s 4ms/step - loss: 0.3120 - accuracy: 0.8580 - val_loss: 0.0295 - val_accuracy: 1.0000\n",
            "Epoch 60/60\n",
            "369/369 [==============================] - 2s 4ms/step - loss: 0.3146 - accuracy: 0.8562 - val_loss: 0.0296 - val_accuracy: 1.0000\n"
          ]
        }
      ]
    },
    {
      "cell_type": "code",
      "metadata": {
        "colab": {
          "base_uri": "https://localhost:8080/",
          "height": 277
        },
        "id": "Pc-Uvs2yOSRk",
        "outputId": "df1bb0a6-c7f8-4aef-c882-8b3969f4ed78"
      },
      "source": [
        "from matplotlib import pyplot as plt\n",
        "plt.plot(H.history['accuracy'])\n",
        "plt.plot(H.history['val_accuracy'])\n",
        "plt.plot(H.history['loss'])\n",
        "plt.plot(H.history['val_loss'])\n",
        "plt.xlabel('epoch')\n",
        "plt.legend(['accuracy', 'val_accuracy', 'loss', 'val_loss'], loc='upper left')\n",
        "plt.show()"
      ],
      "execution_count": 60,
      "outputs": [
        {
          "output_type": "display_data",
          "data": {
            "text/plain": [
              "<Figure size 432x288 with 1 Axes>"
            ],
            "image/png": "[encoded data removed]"
          },
          "metadata": {
            "needs_background": "light"
          }
        }
      ]
    },
    {
      "cell_type": "code",
      "metadata": {
        "colab": {
          "base_uri": "https://localhost:8080/",
          "height": 437
        },
        "id": "AtM9mTwoOSRk",
        "outputId": "336e0c66-b70b-4450-fad3-d6b9dcce6a28"
      },
      "source": [
        "plot_confusion_matrix(comparison_model, X_valid_new_normal, y_valid)\n",
        "print_classification_report(comparison_model, X_valid_new_normal, y_valid)"
      ],
      "execution_count": 61,
      "outputs": [
        {
          "output_type": "stream",
          "name": "stdout",
          "text": [
            "               precision    recall  f1-score   support\n",
            "\n",
            "Fighter 0 Win       1.00      1.00      1.00         1\n",
            "Fighter 1 Win       1.00      1.00      1.00         1\n",
            "\n",
            "     accuracy                           1.00         2\n",
            "    macro avg       1.00      1.00      1.00         2\n",
            " weighted avg       1.00      1.00      1.00         2\n",
            "\n"
          ]
        },
        {
          "output_type": "display_data",
          "data": {
            "text/plain": [
              "<Figure size 432x288 with 2 Axes>"
            ],
            "image/png": "[encoded data removed]"
          },
          "metadata": {
            "needs_background": "light"
          }
        }
      ]
    },
    {
      "cell_type": "code",
      "metadata": {
        "id": "tmXQhcXzOSRl"
      },
      "source": [
        "lo, hi = 0, 1"
      ],
      "execution_count": 62,
      "outputs": []
    },
    {
      "cell_type": "code",
      "metadata": {
        "id": "B8yB1b1rWAyJ"
      },
      "source": [
        "X_test_new_normal = X_valid_new_normal"
      ],
      "execution_count": 63,
      "outputs": []
    },
    {
      "cell_type": "code",
      "metadata": {
        "id": "oZjY_QbBWL6U"
      },
      "source": [
        "y_test = y_valid"
      ],
      "execution_count": null,
      "outputs": []
    },
    {
      "cell_type": "code",
      "metadata": {
        "id": "TjyT8mTpThMP"
      },
      "source": [
        "X_test_new_normal[lo:hi]"
      ],
      "execution_count": null,
      "outputs": []
    },
    {
      "cell_type": "code",
      "metadata": {
        "id": "VA9DyuVbcHGg"
      },
      "source": [
        "probability = comparison_model.predict(X_test_new_normal[lo:hi])[0]"
      ],
      "execution_count": null,
      "outputs": []
    },
    {
      "cell_type": "code",
      "metadata": {
        "id": "D24siDVIOSRl"
      },
      "source": [
        "comparison_model.predict(X_test_new_normal[lo:hi])"
      ],
      "execution_count": null,
      "outputs": []
    },
    {
      "cell_type": "code",
      "metadata": {
        "id": "MK6NhCojOSRl"
      },
      "source": [
        "y_test[lo:hi]"
      ],
      "execution_count": null,
      "outputs": []
    },
    {
      "cell_type": "code",
      "metadata": {
        "id": "icRxd_bKOSRm"
      },
      "source": [
        "subtracter = comparison_model.get_layer('subtracter').output\n",
        "subtracter = Model(comparison_model.input, subtracter)\n",
        "subtracter.predict(X_test_new_normal[lo:hi])"
      ],
      "execution_count": null,
      "outputs": []
    },
    {
      "cell_type": "code",
      "metadata": {
        "id": "pp_GHFfGOSRm"
      },
      "source": [
        "fighter0_score = comparison_model.get_layer('fighter0_score').output\n",
        "fighter0_score = Model(comparison_model.input, fighter0_score)\n",
        "fighter0_score.predict(X_test_new_normal[lo:hi])"
      ],
      "execution_count": null,
      "outputs": []
    },
    {
      "cell_type": "code",
      "metadata": {
        "id": "sRbpamFhOSRm"
      },
      "source": [
        "fighter1_score = comparison_model.get_layer('fighter1_score').output\n",
        "fighter1_score = Model(comparison_model.input, fighter1_score)\n",
        "fighter1_score.predict(X_test_new_normal[lo:hi])"
      ],
      "execution_count": null,
      "outputs": []
    },
    {
      "cell_type": "code",
      "metadata": {
        "id": "bOrJ8nxvcddj"
      },
      "source": [
        "score0 = fighter0_score.predict(X_test_new_normal[lo:hi])[0][0]\n",
        "score1 = fighter1_score.predict(X_test_new_normal[lo:hi])[0][0]\n",
        "prediction = comparison_model.predict(X_test_new_normal[lo:hi])[0][0]\n",
        "print(f\"{fighter0} score: {score0}\")\n",
        "print(f\"{fighter1} score: {score1}\")\n",
        "print(f\"Probability that {fighter1} won: {prediction}\")\n",
        "print(f\"Actual winner: {fighter0 if y_test.iloc[0][0] == 0 else fighter1}\")"
      ],
      "execution_count": null,
      "outputs": []
    },
    {
      "cell_type": "code",
      "metadata": {
        "id": "75PEDBGhRpo1"
      },
      "source": [
        "controversial"
      ],
      "execution_count": null,
      "outputs": []
    },
    {
      "cell_type": "code",
      "metadata": {
        "id": "c4g8g3OFRxWe"
      },
      "source": [
        "X_test_new_normal"
      ],
      "execution_count": null,
      "outputs": []
    },
    {
      "cell_type": "code",
      "metadata": {
        "id": "zHa31HYgOSRn"
      },
      "source": [
        "# \n",
        "columns = list(X_test_new_normal.columns)\n",
        "new_columns = columns[len(columns)//2:] + columns[:len(columns)//2]\n",
        "switcheroo = X_test_new_normal[new_columns]\n",
        "fighter1_score.predict(switcheroo[lo:hi])"
      ],
      "execution_count": null,
      "outputs": []
    },
    {
      "cell_type": "code",
      "metadata": {
        "id": "_OvDdtBjOSRn"
      },
      "source": [
        "fighter0_score.predict(switcheroo[lo:hi])"
      ],
      "execution_count": null,
      "outputs": []
    },
    {
      "cell_type": "code",
      "metadata": {
        "id": "975q2avhOSRn"
      },
      "source": [
        "subtracter.predict(switcheroo[lo:hi])"
      ],
      "execution_count": null,
      "outputs": []
    },
    {
      "cell_type": "code",
      "metadata": {
        "id": "uci1y0klSyUk"
      },
      "source": [
        "comparison_model.predict(switcheroo[lo:hi])"
      ],
      "execution_count": null,
      "outputs": []
    },
    {
      "cell_type": "code",
      "metadata": {
        "id": "_daq4cdDS2Fw"
      },
      "source": [
        "deep_model.predict(X_test_new_normal[1:10])"
      ],
      "execution_count": null,
      "outputs": []
    },
    {
      "cell_type": "code",
      "metadata": {
        "id": "QjNmdPPhS-TB"
      },
      "source": [
        "deep_model.predict(switcheroo[1:10])"
      ],
      "execution_count": null,
      "outputs": []
    },
    {
      "cell_type": "code",
      "metadata": {
        "id": "SI88RDxQS_7I"
      },
      "source": [
        ""
      ],
      "execution_count": null,
      "outputs": []
    }
  ]
}