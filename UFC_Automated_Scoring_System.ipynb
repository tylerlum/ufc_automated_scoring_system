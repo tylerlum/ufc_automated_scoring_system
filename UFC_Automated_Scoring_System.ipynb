{
 "cells": [
  {
   "cell_type": "markdown",
   "metadata": {
    "colab_type": "text",
    "id": "view-in-github"
   },
   "source": [
    "<a href=\"https://colab.research.google.com/github/tylerlum/ufc_automated_scoring_system/blob/main/UFC_Automated_Scoring_System.ipynb\" target=\"_parent\"><img src=\"https://colab.research.google.com/assets/colab-badge.svg\" alt=\"Open In Colab\"/></a>"
   ]
  },
  {
   "cell_type": "markdown",
   "metadata": {
    "id": "TPiJGcdUYaoU"
   },
   "source": [
    "# UFC Automated Scoring System\n",
    "\n",
    "The goal of this notebook is to:\n",
    "* Explore the FightMetrics webpage to scrape the fight and fighter information we need\n",
    "* Store the fight and fighter data into csv files\n",
    "* Preprocess the data\n",
    "* Train and evaluate a neural network to predict fight outcomes\n",
    "\n",
    "Still functional as of April 2021"
   ]
  },
  {
   "cell_type": "markdown",
   "metadata": {
    "id": "Qx-IhTkrwliQ"
   },
   "source": [
    "## Set parameters for dataset creation\n",
    "\n",
    "NUM_EVENTS: Integer number of UFC events to get fights from or \"All\" for all events. There are about 10 fights per event.\n",
    "\n",
    "DATA_MODE: Either \"Summary\" or \"Round by Round\". Either get data with columns that are summaries of the whole fight, or summaries round-by-round (more columns)."
   ]
  },
  {
   "cell_type": "code",
   "execution_count": 1,
   "metadata": {
    "cellView": "form",
    "id": "tYkaAlJNfhul"
   },
   "outputs": [],
   "source": [
    "NUM_EVENTS_INPUT = \"All\"  #@param {type:\"string\"}\n",
    "DATA_MODE_INPUT = \"Summary\"  #@param {type:\"string\"}"
   ]
  },
  {
   "cell_type": "code",
   "execution_count": 2,
   "metadata": {},
   "outputs": [],
   "source": [
    "NUM_EVENTS = None if NUM_EVENTS_INPUT == \"All\" else int(NUM_EVENTS_INPUT)\n",
    "ROUND_BY_ROUND = (DATA_MODE_INPUT == \"Round by Round\")"
   ]
  },
  {
   "cell_type": "markdown",
   "metadata": {
    "id": "7897ryXiaoCv"
   },
   "source": [
    "## Get information about all fighters"
   ]
  },
  {
   "cell_type": "code",
   "execution_count": 3,
   "metadata": {
    "id": "ioQESt2oZPXz"
   },
   "outputs": [],
   "source": [
    "import pandas as pd\n",
    "from tqdm import tqdm\n",
    "import numpy as np\n",
    "import re"
   ]
  },
  {
   "cell_type": "code",
   "execution_count": 4,
   "metadata": {
    "id": "0WtkXEs0LNry"
   },
   "outputs": [],
   "source": [
    "def get_all_fighters():\n",
    "    '''Get pandas table of all UFC fighters (Name, Height, Weight, Reach, Record, etc.)'''\n",
    "    from string import ascii_lowercase\n",
    "\n",
    "    all_fighters_tables = []\n",
    "    for c in tqdm(ascii_lowercase):\n",
    "        all_fighters_url = f\"http://ufcstats.com/statistics/fighters?char={c}&page=all\"\n",
    "        all_fighters_table = pd.read_html(all_fighters_url)[0]\n",
    "        all_fighters_tables.append(all_fighters_table)\n",
    "\n",
    "    all_fighters = pd.concat(all_fighters_tables)\n",
    "    return all_fighters"
   ]
  },
  {
   "cell_type": "code",
   "execution_count": null,
   "metadata": {
    "colab": {
     "base_uri": "https://localhost:8080/",
     "height": 216
    },
    "id": "AkCCSiuUa4lu",
    "outputId": "de1fcb58-1d27-4f12-8dd7-5644ddfb2ec6"
   },
   "outputs": [
    {
     "name": "stderr",
     "output_type": "stream",
     "text": [
      "  4%|▍         | 1/26 [00:02<01:08,  2.75s/it]"
     ]
    }
   ],
   "source": [
    "ALL_FIGHTERS = get_all_fighters()\n",
    "ALL_FIGHTERS.head()"
   ]
  },
  {
   "cell_type": "code",
   "execution_count": null,
   "metadata": {
    "colab": {
     "base_uri": "https://localhost:8080/"
    },
    "id": "Zoayc5Ad3tKm",
    "outputId": "629230e2-28a8-4ff8-d72f-1fa366f4f2fb"
   },
   "outputs": [],
   "source": [
    "ALL_FIGHTERS.dtypes"
   ]
  },
  {
   "cell_type": "markdown",
   "metadata": {
    "id": "bIDzcIHz3mpC"
   },
   "source": [
    "## Clean fighter data\n",
    "\n",
    "TODO: Convert height, weight, reach to floats."
   ]
  },
  {
   "cell_type": "code",
   "execution_count": null,
   "metadata": {
    "colab": {
     "base_uri": "https://localhost:8080/",
     "height": 198
    },
    "id": "gdNWtyaB5cTi",
    "outputId": "db88f028-18b9-460d-e998-3a4c887c085f"
   },
   "outputs": [],
   "source": [
    "ALL_FIGHTERS = ALL_FIGHTERS.replace(\"^-+\", np.nan, regex=True)  # Replace -- and --- with nan\n",
    "ALL_FIGHTERS.head()"
   ]
  },
  {
   "cell_type": "markdown",
   "metadata": {
    "id": "HBvmzviJ625s"
   },
   "source": [
    "## Helper functions"
   ]
  },
  {
   "cell_type": "code",
   "execution_count": null,
   "metadata": {
    "id": "_KC8TRhZSW58"
   },
   "outputs": [],
   "source": [
    "def get_fighters(fighters_string):\n",
    "    '''Parses string containing two fighter names. Uses ALL_FIGHTERS global to remove ambiguity in parsing. Returns each fighter name\n",
    "       Eg. \"Robert Whittaker Kelvin Gastelum\" => (\"Robert Whittaker\", \"Kelvin Gastelum\")'''\n",
    "    for i, row in ALL_FIGHTERS.iterrows():\n",
    "        fighter_name = f'{row[\"First\"]} {row[\"Last\"]}'\n",
    "        if fighters_string.startswith(fighter_name):\n",
    "            first_fighter = fighter_name\n",
    "            second_fighter = fighters_string[len(fighter_name)+1:]\n",
    "            break\n",
    "    return first_fighter, second_fighter\n",
    "\n",
    "def remove_duplicates_keep_order(list_):\n",
    "    '''Removes duplicates while keeping same order'''\n",
    "    return list(dict.fromkeys(list_))"
   ]
  },
  {
   "cell_type": "markdown",
   "metadata": {
    "id": "hYGOutwI-g9H"
   },
   "source": [
    "## Get a list of all UFC events"
   ]
  },
  {
   "cell_type": "code",
   "execution_count": null,
   "metadata": {
    "id": "UqZSSQ8r-rMm"
   },
   "outputs": [],
   "source": [
    "from urllib.request import urlopen\n",
    "from string import ascii_uppercase\n",
    "from dateutil import parser\n",
    "from datetime import datetime"
   ]
  },
  {
   "cell_type": "code",
   "execution_count": null,
   "metadata": {
    "id": "t-X7tWV_NiBo"
   },
   "outputs": [],
   "source": [
    "ALL_PAST_EVENTS_URL = \"http://ufcstats.com/statistics/events/completed?page=all\""
   ]
  },
  {
   "cell_type": "code",
   "execution_count": null,
   "metadata": {
    "id": "JOvgx_9Z1SOv"
   },
   "outputs": [],
   "source": [
    "def get_all_events(all_past_events_url):\n",
    "    '''Takes in URL to all past events. Returns list of urls, each one representing a UFC event'''\n",
    "    all_past_events_html = urlopen(all_past_events_url).read().decode(\"utf-8\")\n",
    "    \n",
    "    # Regex for \"http://ufcstats.com/events-details/<alphanumeric>\"\n",
    "    # Eg. \"http://ufcstats.com/event-details/27541033b97c076d\"\n",
    "    pattern = \"\\\"http://ufcstats.com/event-details/[a-zA-Z0-9_]+\\\"\"\n",
    "    all_urls = re.findall(pattern, all_past_events_html)\n",
    "\n",
    "    # Remove quotes and duplicates\n",
    "    all_urls = [url.strip(\"\\\"\") for url in all_urls]\n",
    "    all_urls = remove_duplicates_keep_order(all_urls)\n",
    "    return all_urls"
   ]
  },
  {
   "cell_type": "code",
   "execution_count": null,
   "metadata": {
    "colab": {
     "base_uri": "https://localhost:8080/"
    },
    "id": "zzxASuh8_Vnh",
    "outputId": "74c88906-ed19-4754-9b28-dde55d6bba45"
   },
   "outputs": [],
   "source": [
    "# Events\n",
    "ALL_EVENT_URLS = get_all_events(ALL_PAST_EVENTS_URL)\n",
    "print(f\"Got {len(ALL_EVENT_URLS)} events\")\n",
    "print()\n",
    "\n",
    "print(\"Removing the most recent event, since it might not have happened yet\")\n",
    "ALL_EVENT_URLS = ALL_EVENT_URLS[1:]\n",
    "print(f\"Now got {len(ALL_EVENT_URLS)} events\")\n",
    "print(ALL_EVENT_URLS)"
   ]
  },
  {
   "cell_type": "markdown",
   "metadata": {
    "id": "QoU8LAPK_dbQ"
   },
   "source": [
    "## Get a list of UFC fights\n",
    "\n",
    "TODO: Right now only sees if result is win. Else sets winner to None. See if this can be improved."
   ]
  },
  {
   "cell_type": "code",
   "execution_count": null,
   "metadata": {
    "id": "2nDi4mo6CLn_"
   },
   "outputs": [],
   "source": [
    "def get_all_fights_in_event(past_event_url, get_results=False):\n",
    "    '''Takes in a single URL to a past event.\n",
    "       If get_results=True, returns fight_urls, winners, methods\n",
    "       else, return fight_urls'''\n",
    "    # Regex for \"http://ufcstats.com/events-details/<alphanumeric>\"\n",
    "    # Eg. \"http://ufcstats.com/fight-details/f67aa0b16e16a9ea\"\n",
    "    past_event_html = urlopen(past_event_url).read().decode(\"utf-8\")\n",
    "    pattern = \"\\\"http://ufcstats.com/fight-details/[a-zA-Z0-9_]+\\\"\"\n",
    "    fight_urls = re.findall(pattern, past_event_html)\n",
    "\n",
    "    # Remove quotes and duplicates\n",
    "    fight_urls = [url.strip(\"\\\"\") for url in fight_urls]\n",
    "    fight_urls = remove_duplicates_keep_order(fight_urls)\n",
    "\n",
    "    # Get the winner and method (dec or KO or sub) of each fight\n",
    "    past_event_table = pd.read_html(past_event_url)[0]  # Will be length 1 list\n",
    "    winners, methods = [], []\n",
    "    for _, row in past_event_table.iterrows():\n",
    "        # TODO: Improve this processing of result\n",
    "        result = row[\"W/L\"].split(' ')[0]\n",
    "        if result == \"win\":\n",
    "            winner, _ = get_fighters(row[\"Fighter\"])\n",
    "        else:\n",
    "            winner = None\n",
    "        winners.append(winner)\n",
    "        methods.append(row[\"Method\"])\n",
    "\n",
    "    if get_results:\n",
    "        return fight_urls, winners, methods\n",
    "    else:\n",
    "        return fight_urls"
   ]
  },
  {
   "cell_type": "code",
   "execution_count": null,
   "metadata": {
    "id": "7_pNUnyMPxkM"
   },
   "outputs": [],
   "source": [
    "def get_all_fights(all_event_urls, num_events=None):\n",
    "    '''Takes in list of URLs to past events. Returns 3 lists: urls, winners, methods, each representing a UFC fight.\n",
    "       Set num_events to be the number of events to get fights from. Set to None if want all.'''\n",
    "    if num_events is None:\n",
    "        num_events = len(all_event_urls)\n",
    "    \n",
    "    all_fight_urls, all_winners, all_methods = [], [], []\n",
    "    for i, event_url in enumerate(tqdm(all_event_urls[:num_events])):\n",
    "        # For each event, get the fight urls and winners\n",
    "        fight_urls, winners, methods = get_all_fights_in_event(event_url, get_results=True)\n",
    "        all_fight_urls.extend(fight_urls)\n",
    "        all_winners.extend(winners)\n",
    "        all_methods.extend(methods)\n",
    "    return all_fight_urls, all_winners, all_methods"
   ]
  },
  {
   "cell_type": "code",
   "execution_count": null,
   "metadata": {
    "colab": {
     "base_uri": "https://localhost:8080/"
    },
    "id": "Q66lyNtAF-Vo",
    "outputId": "c7eb935e-443a-4498-8690-f09c8e8be3ab"
   },
   "outputs": [],
   "source": [
    "FIGHT_URLS, WINNERS, METHODS = get_all_fights(ALL_EVENT_URLS, num_events=NUM_EVENTS)\n",
    "print(f\"Got {len(FIGHT_URLS)} fights\")\n",
    "print(FIGHT_URLS)\n",
    "print(WINNERS)\n",
    "print(METHODS)\n",
    "\n",
    "assert(len(FIGHT_URLS) == len(WINNERS))\n",
    "assert(len(FIGHT_URLS) == len(METHODS))"
   ]
  },
  {
   "cell_type": "markdown",
   "metadata": {
    "id": "CzlsyBU6DdRE"
   },
   "source": [
    "## Get fight tables\n"
   ]
  },
  {
   "cell_type": "code",
   "execution_count": null,
   "metadata": {
    "id": "zJjLUhEyDcSs"
   },
   "outputs": [],
   "source": [
    "def get_labeled_fight_tables(fight_url):\n",
    "    '''Convert fight url to dictionary of pandas tables of information.\n",
    "       Before, gave a list of tables that was hard to understand.\n",
    "       Now have Totals, Per Round Totals, Significant Strikes, Per Round Significant Strikes'''\n",
    "    fight_tables = pd.read_html(fight_url)\n",
    "    \n",
    "    labeled_fight_tables = {}\n",
    "    labeled_fight_tables['Totals'] = fight_tables[0]\n",
    "    labeled_fight_tables['Per Round Totals'] = fight_tables[1]\n",
    "    labeled_fight_tables['Significant Strikes'] = fight_tables[2]\n",
    "    labeled_fight_tables['Per Round Significant Strikes'] = fight_tables[3]\n",
    "    return labeled_fight_tables"
   ]
  },
  {
   "cell_type": "code",
   "execution_count": null,
   "metadata": {
    "id": "08jcNbZaDlBE"
   },
   "outputs": [],
   "source": [
    "RAW_FIGHT_TABLES_LIST = []\n",
    "for url in tqdm(FIGHT_URLS):\n",
    "    RAW_FIGHT_TABLES_LIST.append(get_labeled_fight_tables(url))"
   ]
  },
  {
   "cell_type": "code",
   "execution_count": null,
   "metadata": {
    "id": "c9msProI12dH"
   },
   "outputs": [],
   "source": [
    "RAW_FIGHT_TABLES_LIST[0]['Totals'].head()"
   ]
  },
  {
   "cell_type": "code",
   "execution_count": null,
   "metadata": {
    "id": "5_IIeQRx13WJ"
   },
   "outputs": [],
   "source": [
    "RAW_FIGHT_TABLES_LIST[0]['Per Round Totals'].head()"
   ]
  },
  {
   "cell_type": "code",
   "execution_count": null,
   "metadata": {
    "id": "b8vW4zw818TK"
   },
   "outputs": [],
   "source": [
    "RAW_FIGHT_TABLES_LIST[0]['Significant Strikes'].head()"
   ]
  },
  {
   "cell_type": "code",
   "execution_count": null,
   "metadata": {
    "id": "LtCciS5g16MB"
   },
   "outputs": [],
   "source": [
    "RAW_FIGHT_TABLES_LIST[0]['Per Round Significant Strikes'].head()"
   ]
  },
  {
   "cell_type": "markdown",
   "metadata": {
    "id": "r6YwJd-fAOwd"
   },
   "source": [
    "## Clean fight information\n",
    "\n",
    "Separate each fighter's information into a different column\n",
    "\n",
    "TODO: Lots of stuff to improve. Smarter use of Totals, round by round, and significant strikes. Can also use non integer information, total attempted strikes (not just landed), fighter information, etc. All of those being ignored right now. Find nice way to parse new information round by round. Handle no winner case better. May need to add ignore_index=True for pd.concat"
   ]
  },
  {
   "cell_type": "code",
   "execution_count": null,
   "metadata": {
    "id": "-PfTg13LB3ck"
   },
   "outputs": [],
   "source": [
    "def parse_string(row_string):\n",
    "    '''Break string into two parts: one for fighter 0 and one for fighter 1\n",
    "       Eg. 150 of 284  62 of 209 => (150 of 284, 62 of 209)'''\n",
    "    if not isinstance(row_string, str):\n",
    "        print(f\"row_string = {row_string} is not a string\")\n",
    "        return \"0\", \"0\"\n",
    "    string_split = row_string.split(\" \")\n",
    "    first_fighter_stat = \" \".join(string_split[:len(string_split)//2])\n",
    "    second_fighter_stat = \" \".join(string_split[len(string_split)//2+1:])\n",
    "    return first_fighter_stat, second_fighter_stat"
   ]
  },
  {
   "cell_type": "code",
   "execution_count": null,
   "metadata": {
    "id": "dqnRE1IfMY9k"
   },
   "outputs": [],
   "source": [
    "def convert_to_int_or_double_if_possible(string):\n",
    "    '''Convert string to int or double if possible\n",
    "       If has a percent sign, tries to remove it and continue.'''\n",
    "    def isfloat(value):\n",
    "        try:\n",
    "            float(value)\n",
    "            return True\n",
    "        except ValueError:\n",
    "            return False\n",
    "\n",
    "    # If input is not string, then return it unchanged\n",
    "    if not isinstance(string, str):\n",
    "        return string\n",
    "\n",
    "    # Remove %\n",
    "    if \"%\" in string:\n",
    "        string = string.strip(\"%\")\n",
    "\n",
    "    # Convert to int or float\n",
    "    if isfloat(string) and float(string).is_integer():\n",
    "        return int(string)\n",
    "    if isfloat(string):\n",
    "        return float(string)\n",
    "    return string"
   ]
  },
  {
   "cell_type": "code",
   "execution_count": null,
   "metadata": {
    "id": "ORlZYocyRO4M"
   },
   "outputs": [],
   "source": [
    "def process_fight(raw_fight_table):\n",
    "    '''Takes in a raw, one-row pandas fight table. Returns a pandas dataframe representing the fight statistics'''    \n",
    "    # Break up columns.\n",
    "    # Eg. \"Name\" => \"Fighter 0 Name\", \"Fighter 1 Name\"\n",
    "    # \"KD\" => \"Fighter 0 KD\", \"Fighter 1 KD\"\n",
    "    new_columns = []\n",
    "    for column in raw_fight_table.columns:\n",
    "        new_columns.append(f\"Fighter 0 {column}\")\n",
    "        new_columns.append(f\"Fighter 1 {column}\")\n",
    "\n",
    "    # Go through each row and break up the data into the columns\n",
    "    new_rows = []\n",
    "    for i, row in raw_fight_table.iterrows():\n",
    "        new_row = []\n",
    "        for column in raw_fight_table.columns:\n",
    "            # Split string at the center space\n",
    "            stat1, stat2 = parse_string(row[column])\n",
    "\n",
    "            # TODO: Update this to capture more information\n",
    "\n",
    "            # Has \"100 of 120\" type stat. Just store first number\n",
    "            if \"of\" in stat1:\n",
    "                stat1 = stat1.split(\" of \")[0]\n",
    "                stat2 = stat2.split(\" of \")[0]\n",
    "\n",
    "            # Has \"2:32\" type stat (min:sec). Convert to sec.\n",
    "            elif \":\" in stat1:\n",
    "                min1, sec1 = stat1.split(\":\")[0], stat1.split(\":\")[1]\n",
    "                min2, sec2 = stat2.split(\":\")[0], stat2.split(\":\")[1]\n",
    "                stat1 = convert_to_int_or_double_if_possible(min1)*60 + convert_to_int_or_double_if_possible(sec1)\n",
    "                stat2 = convert_to_int_or_double_if_possible(min2)*60 + convert_to_int_or_double_if_possible(sec2)\n",
    "            \n",
    "            # Convert string to float or int if possible\n",
    "            stat1 = convert_to_int_or_double_if_possible(stat1)\n",
    "            stat2 = convert_to_int_or_double_if_possible(stat2)\n",
    "\n",
    "            # Add to row\n",
    "            new_row.append(stat1)\n",
    "            new_row.append(stat2)\n",
    "        new_rows.append(new_row)\n",
    "\n",
    "    # Bring together into new dataframe, then only store the numerical values\n",
    "    # TODO: Process better to keep more info, not throw so much away\n",
    "    df = pd.DataFrame(new_rows, columns=new_columns)\n",
    "\n",
    "    # Add in names, using smarter parsing\n",
    "    df = df.drop(columns=['Fighter 0 Fighter', 'Fighter 1 Fighter'])\n",
    "    fighters_string = raw_fight_table[\"Fighter\"][0]  # Only 1 row table\n",
    "    fighter0, fighter1 = get_fighters(fighters_string)\n",
    "    df['Fighter 0 Name'] = fighter0\n",
    "    df['Fighter 1 Name'] = fighter1\n",
    "    return df"
   ]
  },
  {
   "cell_type": "code",
   "execution_count": null,
   "metadata": {
    "id": "5oIdF2niZpag"
   },
   "outputs": [],
   "source": [
    "def process_raw_fight_tables(raw_fight_tables, winner, method, round_by_round=False):\n",
    "    '''Takes in set of raw fight table (one fight), the name of the fight winner, and the method of winning. Returns a cleaned pandas table.\n",
    "       Set round_by_round=True to use the round-by-round data. Otherwise, uses full fight stats.'''\n",
    "    def create_aggregated_fight_table(raw_fight_tables):\n",
    "        # Aggregate data from multiple tables\n",
    "        fight_table = process_fight(raw_fight_tables[\"Totals\"])\n",
    "        fight_table2 = process_fight(raw_fight_tables[\"Significant Strikes\"])\n",
    "        \n",
    "        # Rename column names with identical data to match\n",
    "        fight_table2 = fight_table2.rename(columns={\"Fighter 0 Sig. str\": \"Fighter 0 Sig. str.\", \"Fighter 1 Sig. str\": \"Fighter 1 Sig. str.\"})\n",
    "\n",
    "        # Bring tables together, then remove duplicates\n",
    "        fight_table = pd.concat([fight_table, fight_table2], axis=1)\n",
    "        fight_table = fight_table.loc[:,~fight_table.columns.duplicated()]\n",
    "        return fight_table\n",
    "\n",
    "    def create_aggregated_round_by_round_fight_table(raw_fight_tables):\n",
    "        ##### Aggregate data totals table\n",
    "        tables = []\n",
    "        for i, row in raw_fight_tables[\"Per Round Totals\"].iterrows():\n",
    "            # Get df of one round\n",
    "            df = pd.DataFrame(row)\n",
    "            values = list(df[i].to_dict().values())\n",
    "            cols = list(raw_fight_tables[\"Totals\"].columns)\n",
    "            df = pd.DataFrame([values], columns=cols)\n",
    "\n",
    "            # Update columns with round number\n",
    "            new_cols = [f\"Round {i+1} {c}\" if c != \"Fighter\" else c for c in cols]\n",
    "            df.columns = new_cols\n",
    "            tables.append(process_fight(df))\n",
    "        # Concatenate round-by-round horizontally, so each row is for 1 fight.\n",
    "        # Then remove duplicates\n",
    "        totals_df = pd.concat(tables, axis=1)\n",
    "        totals_df = totals_df.loc[:,~totals_df.columns.duplicated()]\n",
    "\n",
    "        ##### Aggregate data significant strikes table\n",
    "        tables = []\n",
    "        for i, row in raw_fight_tables[\"Per Round Significant Strikes\"].iterrows():\n",
    "            # Get df of one round\n",
    "            df = pd.DataFrame(row)\n",
    "            values = list(df[i].to_dict().values())\n",
    "            cols = list(raw_fight_tables[\"Significant Strikes\"].columns)\n",
    "            if len(values) != len(cols):\n",
    "                values = values[:-1]  # Remove last column values, as shown above, has extra column for no reason\n",
    "            df = pd.DataFrame([values], columns=cols)\n",
    "\n",
    "            # Update columns with round number\n",
    "            new_cols = [f\"Round {i+1} {c}\" if c != \"Fighter\" else c for c in cols]\n",
    "            df.columns = new_cols\n",
    "            tables.append(process_fight(df))\n",
    "        # Concatenate round-by-round horizontally, so each row is for 1 fight\n",
    "        # Then remove duplicates\n",
    "        sig_strikes_df = pd.concat(tables, axis=1)\n",
    "        sig_strikes_df = sig_strikes_df.loc[:,~sig_strikes_df.columns.duplicated()]\n",
    "        \n",
    "        ##### Bring tables together, then remove duplicates\n",
    "        fight_table = pd.concat([totals_df, sig_strikes_df], axis=1)\n",
    "        fight_table = fight_table.loc[:,~fight_table.columns.duplicated()]\n",
    "        return fight_table\n",
    "\n",
    "\n",
    "    if round_by_round:\n",
    "        fight_table = create_aggregated_round_by_round_fight_table(raw_fight_tables)\n",
    "    else:\n",
    "        fight_table = create_aggregated_fight_table(raw_fight_tables)\n",
    "\n",
    "    if fight_table[\"Fighter 0 Name\"][0] == winner:\n",
    "        label = 0\n",
    "    elif fight_table[\"Fighter 1 Name\"][0] == winner:\n",
    "        label = 1\n",
    "    else:\n",
    "        print(f'ERROR: fight_table[\"Fighter 0 Name\"]={fight_table[\"Fighter 0 Name\"]}, fight_table[\"Fighter 1 Name\"]={fight_table[\"Fighter 1 Name\"]}, winner={winner}')\n",
    "        label = -1\n",
    "    fight_table['Winner'] = label\n",
    "    fight_table['Method'] = method\n",
    "    return fight_table"
   ]
  },
  {
   "cell_type": "code",
   "execution_count": null,
   "metadata": {
    "id": "BUyy5MUhNTkJ"
   },
   "outputs": [],
   "source": [
    "FIGHT_TABLE = []\n",
    "for i in tqdm(range(len(RAW_FIGHT_TABLES_LIST))):\n",
    "    FIGHT_TABLE.append(process_raw_fight_tables(RAW_FIGHT_TABLES_LIST[i], WINNERS[i], METHODS[i], round_by_round=ROUND_BY_ROUND)) \n",
    "FIGHT_TABLE = pd.concat(FIGHT_TABLE, ignore_index=True)\n",
    "FIGHT_TABLE = FIGHT_TABLE.replace(\"^-+\", np.nan, regex=True)  # Replace -- and --- with nan"
   ]
  },
  {
   "cell_type": "code",
   "execution_count": null,
   "metadata": {
    "id": "G9EhqLLcAWs-"
   },
   "outputs": [],
   "source": [
    "FIGHT_TABLE.head()"
   ]
  },
  {
   "cell_type": "code",
   "execution_count": null,
   "metadata": {
    "id": "7hQjO9B2RDoZ"
   },
   "outputs": [],
   "source": [
    "FIGHT_TABLE.tail()"
   ]
  },
  {
   "cell_type": "markdown",
   "metadata": {
    "id": "pCMOvzM0efI4"
   },
   "source": [
    "## Augment dataset by flipping around columns\n",
    "\n",
    "The system should work the same no matter what order we pass in the fighters. Let fighters be A and B. We want\n",
    "\n",
    "winner(fighter0=A, fighter1=B) = winner(fighter0=B, fighter1=A)"
   ]
  },
  {
   "cell_type": "code",
   "execution_count": null,
   "metadata": {
    "id": "kM2b_cAif7rM"
   },
   "outputs": [],
   "source": [
    "def create_flipped_table(table):\n",
    "    '''Rearranges columns of table so that each fight has two rows. Let fighters be A and B.\n",
    "       One row has (Fighter 0 = A, Fighter 1 = B). One row has (Fighter 0 = B, Fighter 1 = A)\n",
    "       Ensure same column order, as column names not looked at when passed to ML model'''\n",
    "\n",
    "    # Get columns in flipped order, which moves the columns around, but changes column name order too\n",
    "    flipped_columns = []\n",
    "    for column in table.columns:\n",
    "        if \"Fighter 0\" in column:\n",
    "            flipped_columns.append(column.replace(\"Fighter 0\", \"Fighter 1\"))\n",
    "        elif \"Fighter 1\" in column:\n",
    "            flipped_columns.append(column.replace(\"Fighter 1\", \"Fighter 0\"))\n",
    "        else:\n",
    "            flipped_columns.append(column)\n",
    "    flipped_table = table[flipped_columns]\n",
    "\n",
    "    # Flips winners around\n",
    "    if 'Winner' in flipped_table.columns:\n",
    "         flipped_table['Winner'] = flipped_table['Winner'].replace([0, 1], [1, 0])\n",
    "\n",
    "    # Change column names back to normal\n",
    "    flipped_table.columns = table.columns\n",
    "    return flipped_table"
   ]
  },
  {
   "cell_type": "code",
   "execution_count": null,
   "metadata": {
    "id": "KQcGgKW6k-ba"
   },
   "outputs": [],
   "source": [
    "def add_rows_of_flipped_columns(table):\n",
    "    flipped_table = create_flipped_table(table)\n",
    "    new_table = pd.concat([table, flipped_table])\n",
    "    return new_table"
   ]
  },
  {
   "cell_type": "code",
   "execution_count": null,
   "metadata": {
    "id": "HnwZdNiplLF3"
   },
   "outputs": [],
   "source": [
    "FULL_FIGHT_TABLE = add_rows_of_flipped_columns(FIGHT_TABLE)"
   ]
  },
  {
   "cell_type": "code",
   "execution_count": null,
   "metadata": {
    "id": "PlnOp-fbjknE"
   },
   "outputs": [],
   "source": [
    "FULL_FIGHT_TABLE.head()"
   ]
  },
  {
   "cell_type": "markdown",
   "metadata": {
    "id": "gu7-RmZOkP68"
   },
   "source": [
    "## Example of augmented data"
   ]
  },
  {
   "cell_type": "code",
   "execution_count": null,
   "metadata": {
    "id": "PHsGqr0_joHn"
   },
   "outputs": [],
   "source": [
    "FULL_FIGHT_TABLE[(FULL_FIGHT_TABLE['Fighter 0 Name'] == \"Robert Whittaker\") & (FULL_FIGHT_TABLE['Fighter 1 Name'] == \"Kelvin Gastelum\")]"
   ]
  },
  {
   "cell_type": "code",
   "execution_count": null,
   "metadata": {
    "id": "samSx7Olj3vQ"
   },
   "outputs": [],
   "source": [
    "FULL_FIGHT_TABLE[(FULL_FIGHT_TABLE['Fighter 1 Name'] == \"Robert Whittaker\") & (FULL_FIGHT_TABLE['Fighter 0 Name'] == \"Kelvin Gastelum\")]"
   ]
  },
  {
   "cell_type": "markdown",
   "metadata": {
    "id": "3OOgguk84RJl"
   },
   "source": [
    "## Additional data cleaning\n",
    "\n",
    "TODO: See if something better than replacing nan with 0. See if something better for labels than 0 and 1. Could remove fights with no winner, or handle them differently. Could remove fights that don't go to decision by removing based on Method."
   ]
  },
  {
   "cell_type": "code",
   "execution_count": null,
   "metadata": {
    "id": "RIS0yarnbTmj"
   },
   "outputs": [],
   "source": [
    "X = FIGHT_TABLE.drop(['Winner', 'Fighter 0 Name', 'Fighter 1 Name', 'Method'], axis=1).fillna(0)\n",
    "y = FIGHT_TABLE[['Winner']]"
   ]
  },
  {
   "cell_type": "code",
   "execution_count": null,
   "metadata": {
    "id": "QxOiDLXHfgDx"
   },
   "outputs": [],
   "source": [
    "X.head()"
   ]
  },
  {
   "cell_type": "code",
   "execution_count": null,
   "metadata": {
    "id": "N5qqnw6Efh8K"
   },
   "outputs": [],
   "source": [
    "y.head()"
   ]
  },
  {
   "cell_type": "markdown",
   "metadata": {
    "id": "JwvrHfOCf1mh"
   },
   "source": [
    "## Setup train/validate/test split\n",
    "Can't blindly use full fight table train/validate/test split, because the augmented data must stay together. If in train we know winner(A, B) = A, then we don't want to have winner(B, A) in the validation/test set."
   ]
  },
  {
   "cell_type": "code",
   "execution_count": null,
   "metadata": {
    "id": "CwlwAWNRcwJ1"
   },
   "outputs": [],
   "source": [
    "from sklearn.model_selection import train_test_split\n",
    "X_train, X_test, y_train, y_test = train_test_split(X, y, test_size=0.33, random_state=0)\n",
    "X_train, X_valid, y_train, y_valid = train_test_split(X_train, y_train, test_size=0.33, random_state=0)\n",
    "X_train, y_train = add_rows_of_flipped_columns(X_train), add_rows_of_flipped_columns(y_train)\n",
    "X_valid, y_valid = add_rows_of_flipped_columns(X_valid), add_rows_of_flipped_columns(y_valid)\n",
    "X_test, y_test = add_rows_of_flipped_columns(X_test), add_rows_of_flipped_columns(y_test)"
   ]
  },
  {
   "cell_type": "code",
   "execution_count": null,
   "metadata": {
    "id": "aFmWIOydoJXd"
   },
   "outputs": [],
   "source": [
    "# Expect equal number of examples in Fighter 0 as Fighter 1\n",
    "assert(len(y_train[y_train['Winner'] == 0]) == len(y_train[y_train['Winner'] == 1]))\n",
    "assert(len(y_valid[y_valid['Winner'] == 0]) == len(y_valid[y_valid['Winner'] == 1]))\n",
    "assert(len(y_test[y_test['Winner'] == 0]) == len(y_test[y_test['Winner'] == 1]))"
   ]
  },
  {
   "cell_type": "code",
   "execution_count": null,
   "metadata": {
    "id": "jekwTdNAk3rE"
   },
   "outputs": [],
   "source": [
    "X_train.head()"
   ]
  },
  {
   "cell_type": "code",
   "execution_count": null,
   "metadata": {
    "id": "BUeeqFtHpZQw"
   },
   "outputs": [],
   "source": [
    "y_train.head()"
   ]
  },
  {
   "cell_type": "code",
   "execution_count": null,
   "metadata": {
    "id": "75PnIBkYpabr"
   },
   "outputs": [],
   "source": [
    "print(f\"X_train.shape = {X_train.shape}\")\n",
    "print(f\"X_valid.shape = {X_valid.shape}\")\n",
    "print(f\"X_test.shape = {X_test.shape}\")\n",
    "print(f\"y_train.shape = {y_train.shape}\")\n",
    "print(f\"y_valid.shape = {y_valid.shape}\")\n",
    "print(f\"y_test.shape = {y_test.shape}\")"
   ]
  },
  {
   "cell_type": "markdown",
   "metadata": {
    "id": "ARUH8kxCbJpG"
   },
   "source": [
    "## ML Models"
   ]
  },
  {
   "cell_type": "code",
   "execution_count": null,
   "metadata": {
    "id": "0_v4cnEFbKp3"
   },
   "outputs": [],
   "source": [
    "from sklearn.ensemble import RandomForestClassifier"
   ]
  },
  {
   "cell_type": "code",
   "execution_count": null,
   "metadata": {
    "id": "6gOrDS8AbPqM"
   },
   "outputs": [],
   "source": [
    "# Train\n",
    "clf = RandomForestClassifier(max_depth=5, random_state=0)\n",
    "clf.fit(X_train, y_train)\n",
    "\n",
    "# Validate\n",
    "accuracy_train = clf.score(X_train, y_train)\n",
    "accuracy_valid = clf.score(X_valid, y_valid)\n",
    "print(f\"accuracy_train = {accuracy_train}\")\n",
    "print(f\"accuracy_valid = {accuracy_valid}\")"
   ]
  },
  {
   "cell_type": "code",
   "execution_count": null,
   "metadata": {
    "id": "dn1Njq7ecfAT"
   },
   "outputs": [],
   "source": [
    "import matplotlib.pyplot as plt\n",
    "\n",
    "# Visualize importances\n",
    "plt.rcParams.update({'font.size': 8})\n",
    "plt.barh(X_train.columns, clf.feature_importances_)"
   ]
  },
  {
   "cell_type": "code",
   "execution_count": null,
   "metadata": {
    "id": "GifEEZiTq2yL"
   },
   "outputs": [],
   "source": [
    "# MLP\n",
    "from sklearn.neural_network import MLPClassifier\n",
    "\n",
    "clf = MLPClassifier(random_state=1, max_iter=300).fit(X_train, y_train)\n",
    "accuracy_train = clf.score(X_train, y_train)\n",
    "accuracy_valid = clf.score(X_valid, y_valid)\n",
    "print(f\"accuracy_train = {accuracy_train}\")\n",
    "print(f\"accuracy_valid = {accuracy_valid}\")"
   ]
  },
  {
   "cell_type": "code",
   "execution_count": null,
   "metadata": {
    "id": "r6tiCNo3rEE0"
   },
   "outputs": [],
   "source": [
    "# SVM\n",
    "from sklearn.svm import SVC\n",
    "\n",
    "clf = SVC(random_state=1).fit(X_train, y_train)\n",
    "accuracy_train = clf.score(X_train, y_train)\n",
    "accuracy_valid = clf.score(X_valid, y_valid)\n",
    "print(f\"accuracy_train = {accuracy_train}\")\n",
    "print(f\"accuracy_valid = {accuracy_valid}\")"
   ]
  },
  {
   "cell_type": "code",
   "execution_count": null,
   "metadata": {
    "id": "KNxPPw2DrbpW"
   },
   "outputs": [],
   "source": [
    "# FFN\n",
    "import tensorflow as tf\n",
    "\n",
    "model = tf.keras.models.Sequential()\n",
    "model.add(tf.keras.Input(shape=X_train.shape[1:]))\n",
    "model.add(tf.keras.layers.Dense(32, activation='relu'))\n",
    "model.add(tf.keras.layers.Dense(32, activation='relu'))\n",
    "model.add(tf.keras.layers.Dense(1, activation='sigmoid'))\n",
    "\n",
    "model.compile(optimizer='adam', loss='binary_crossentropy', metrics=['accuracy'])\n",
    "tf.keras.utils.plot_model(model, show_shapes=True, rankdir=\"LR\")"
   ]
  },
  {
   "cell_type": "code",
   "execution_count": null,
   "metadata": {
    "id": "agRwGSv2IEKa"
   },
   "outputs": [],
   "source": [
    "model.summary()"
   ]
  },
  {
   "cell_type": "code",
   "execution_count": null,
   "metadata": {
    "id": "Wo9gE7_HtQhl"
   },
   "outputs": [],
   "source": [
    "model.fit(X_train, y_train, epochs=100, validation_data=(X_valid, y_valid))"
   ]
  },
  {
   "cell_type": "code",
   "execution_count": null,
   "metadata": {
    "id": "RWTGwJUVtalk"
   },
   "outputs": [],
   "source": [
    "model.evaluate(X_train, y_train)\n",
    "model.evaluate(X_valid, y_valid)"
   ]
  },
  {
   "cell_type": "markdown",
   "metadata": {
    "id": "ZOwm0hZTxZyr"
   },
   "source": [
    "## Test out model manually"
   ]
  },
  {
   "cell_type": "code",
   "execution_count": null,
   "metadata": {
    "id": "OWIypYX-uryi"
   },
   "outputs": [],
   "source": [
    "idx = 6"
   ]
  },
  {
   "cell_type": "code",
   "execution_count": null,
   "metadata": {
    "id": "ofKgNtPPuC0V"
   },
   "outputs": [],
   "source": [
    "X_test.iloc[idx]"
   ]
  },
  {
   "cell_type": "code",
   "execution_count": null,
   "metadata": {
    "id": "4tEAEW59ulsz"
   },
   "outputs": [],
   "source": [
    "# 0 means fighter 0 won. 1 means fighter 1 won.\n",
    "y_test.iloc[idx]"
   ]
  },
  {
   "cell_type": "code",
   "execution_count": null,
   "metadata": {
    "id": "67EbW0E1uXGi"
   },
   "outputs": [],
   "source": [
    "X_test.shape"
   ]
  },
  {
   "cell_type": "code",
   "execution_count": null,
   "metadata": {
    "id": "3FWZP5LfuYYJ"
   },
   "outputs": [],
   "source": [
    "X_test.iloc[idx].shape"
   ]
  },
  {
   "cell_type": "code",
   "execution_count": null,
   "metadata": {
    "id": "W19rlXXouGfs"
   },
   "outputs": [],
   "source": [
    "model.predict(np.expand_dims(X_test.iloc[idx], 0))"
   ]
  },
  {
   "cell_type": "markdown",
   "metadata": {
    "id": "ZOwm0hZTxZyr"
   },
   "source": [
    "## Save data\n",
    "\n",
    "Store beginning file parameters.\n",
    "Use current date and time to save files uniquely."
   ]
  },
  {
   "cell_type": "code",
   "execution_count": null,
   "metadata": {},
   "outputs": [],
   "source": [
    "from datetime import datetime\n",
    "\n",
    "now = datetime.now()\n",
    "dt_string = now.strftime(\"%d-%m-%Y_%H:%M:%S\")\n",
    "print(\"dt_string =\", dt_string)\t"
   ]
  },
  {
   "cell_type": "code",
   "execution_count": null,
   "metadata": {},
   "outputs": [],
   "source": [
    "parameters_string = f\"NUM_EVENTS_{NUM_EVENTS_INPUT}_DATA_MODE_{DATA_MODE_INPUT}\"\n",
    "print(\"parameters_string =\", parameters_string)\t"
   ]
  },
  {
   "cell_type": "code",
   "execution_count": null,
   "metadata": {},
   "outputs": [],
   "source": [
    "filename1 = f\"FULL_FIGHT_TABLE_{parameters_string}_{dt_string}.csv\"\n",
    "filename2 = f\"FIGHT_TABLE_{parameters_string}_{dt_string}.csv\"\n",
    "print(f\"Saving to {filename1} and {filename2}\")\n",
    "FULL_FIGHT_TABLE.to_csv(filename1, index=False)\n",
    "FIGHT_TABLE.to_csv(filename2, index=False)"
   ]
  },
  {
   "cell_type": "code",
   "execution_count": null,
   "metadata": {},
   "outputs": [],
   "source": [
    "new = pd.read_csv(filename1)"
   ]
  },
  {
   "cell_type": "code",
   "execution_count": null,
   "metadata": {
    "scrolled": true
   },
   "outputs": [],
   "source": [
    "new"
   ]
  },
  {
   "cell_type": "code",
   "execution_count": null,
   "metadata": {},
   "outputs": [],
   "source": []
  }
 ],
 "metadata": {
  "colab": {
   "authorship_tag": "ABX9TyMUi3PtHrSjj2l2tGBVDOOr",
   "collapsed_sections": [],
   "include_colab_link": true,
   "name": "UFC_Automated_Scoring_System.ipynb",
   "provenance": []
  },
  "kernelspec": {
   "display_name": "Python 3",
   "language": "python",
   "name": "python3"
  },
  "language_info": {
   "codemirror_mode": {
    "name": "ipython",
    "version": 3
   },
   "file_extension": ".py",
   "mimetype": "text/x-python",
   "name": "python",
   "nbconvert_exporter": "python",
   "pygments_lexer": "ipython3",
   "version": "3.6.9"
  }
 },
 "nbformat": 4,
 "nbformat_minor": 1
}
