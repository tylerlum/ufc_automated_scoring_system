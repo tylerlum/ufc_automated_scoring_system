{
  "nbformat": 4,
  "nbformat_minor": 0,
  "metadata": {
    "colab": {
      "name": "UFC_Automated_Scoring_System.ipynb",
      "provenance": [],
      "collapsed_sections": [],
      "authorship_tag": "ABX9TyNxj3vNsmL/gV77sfypNXD4",
      "include_colab_link": true
    },
    "kernelspec": {
      "name": "python3",
      "display_name": "Python 3"
    }
  },
  "cells": [
    {
      "cell_type": "markdown",
      "metadata": {
        "id": "view-in-github",
        "colab_type": "text"
      },
      "source": [
        "<a href=\"https://colab.research.google.com/github/tylerlum/ufc_automated_scoring_system/blob/main/UFC_Automated_Scoring_System.ipynb\" target=\"_parent\"><img src=\"https://colab.research.google.com/assets/colab-badge.svg\" alt=\"Open In Colab\"/></a>"
      ]
    },
    {
      "cell_type": "markdown",
      "metadata": {
        "id": "TPiJGcdUYaoU"
      },
      "source": [
        "# UFC Automated Scoring System\n",
        "\n",
        "The goal of this notebook is to:\n",
        "* Explore the FightMetrics webpage to scrape the fight and fighter information we need\n",
        "* Store the fight and fighter data into csv files\n",
        "* Preprocess the data\n",
        "* Train and evaluate a neural network to predict fight outcomes"
      ]
    },
    {
      "cell_type": "markdown",
      "metadata": {
        "id": "7897ryXiaoCv"
      },
      "source": [
        "## All bouts and all fighters"
      ]
    },
    {
      "cell_type": "code",
      "metadata": {
        "id": "ioQESt2oZPXz"
      },
      "source": [
        "import pandas as pd"
      ],
      "execution_count": 2,
      "outputs": []
    },
    {
      "cell_type": "code",
      "metadata": {
        "id": "1_P-WlauY2x0"
      },
      "source": [
        "all_past_events_url = \"http://ufcstats.com/statistics/events/completed?page=all\"\n",
        "all_past_events_tables = pd.read_html(all_past_events_url)[0] # Returns list of all tables on page"
      ],
      "execution_count": 3,
      "outputs": []
    },
    {
      "cell_type": "code",
      "metadata": {
        "id": "mLWIWwJCaux6",
        "outputId": "2162d3dd-90a6-4b93-f6f9-45407a0dc234",
        "colab": {
          "base_uri": "https://localhost:8080/",
          "height": 194
        }
      },
      "source": [
        "all_past_events_tables.head()"
      ],
      "execution_count": 4,
      "outputs": [
        {
          "output_type": "execute_result",
          "data": {
            "text/html": [
              "<div>\n",
              "<style scoped>\n",
              "    .dataframe tbody tr th:only-of-type {\n",
              "        vertical-align: middle;\n",
              "    }\n",
              "\n",
              "    .dataframe tbody tr th {\n",
              "        vertical-align: top;\n",
              "    }\n",
              "\n",
              "    .dataframe thead th {\n",
              "        text-align: right;\n",
              "    }\n",
              "</style>\n",
              "<table border=\"1\" class=\"dataframe\">\n",
              "  <thead>\n",
              "    <tr style=\"text-align: right;\">\n",
              "      <th></th>\n",
              "      <th>Name/date</th>\n",
              "      <th>Location</th>\n",
              "    </tr>\n",
              "  </thead>\n",
              "  <tbody>\n",
              "    <tr>\n",
              "      <th>0</th>\n",
              "      <td>NaN</td>\n",
              "      <td>NaN</td>\n",
              "    </tr>\n",
              "    <tr>\n",
              "      <th>1</th>\n",
              "      <td>UFC Fight Night: Hall vs. Silva  October 31, 2020</td>\n",
              "      <td>Las Vegas, Nevada, USA</td>\n",
              "    </tr>\n",
              "    <tr>\n",
              "      <th>2</th>\n",
              "      <td>UFC 254: Khabib vs. Gaethje  October 24, 2020</td>\n",
              "      <td>Abu Dhabi, Abu Dhabi, United Arab Emirates</td>\n",
              "    </tr>\n",
              "    <tr>\n",
              "      <th>3</th>\n",
              "      <td>UFC Fight Night: Ortega vs. The Korean Zombie ...</td>\n",
              "      <td>Abu Dhabi, Abu Dhabi, United Arab Emirates</td>\n",
              "    </tr>\n",
              "    <tr>\n",
              "      <th>4</th>\n",
              "      <td>UFC Fight Night: Moraes vs. Sandhagen  October...</td>\n",
              "      <td>Abu Dhabi, Abu Dhabi, United Arab Emirates</td>\n",
              "    </tr>\n",
              "  </tbody>\n",
              "</table>\n",
              "</div>"
            ],
            "text/plain": [
              "                                           Name/date                                    Location\n",
              "0                                                NaN                                         NaN\n",
              "1  UFC Fight Night: Hall vs. Silva  October 31, 2020                      Las Vegas, Nevada, USA\n",
              "2      UFC 254: Khabib vs. Gaethje  October 24, 2020  Abu Dhabi, Abu Dhabi, United Arab Emirates\n",
              "3  UFC Fight Night: Ortega vs. The Korean Zombie ...  Abu Dhabi, Abu Dhabi, United Arab Emirates\n",
              "4  UFC Fight Night: Moraes vs. Sandhagen  October...  Abu Dhabi, Abu Dhabi, United Arab Emirates"
            ]
          },
          "metadata": {
            "tags": []
          },
          "execution_count": 4
        }
      ]
    },
    {
      "cell_type": "code",
      "metadata": {
        "id": "k1eiSIjca2qr"
      },
      "source": [
        "from string import ascii_lowercase\n",
        "\n",
        "all_fighters_tables = []\n",
        "for c in ascii_lowercase:\n",
        "  all_fighters_url = f\"http://ufcstats.com/statistics/fighters?char={c}&page=all\"\n",
        "  all_fighters_table = pd.read_html(all_fighters_url)[0]\n",
        "  all_fighters_tables.append(all_fighters_table)\n",
        "\n",
        "all_fighters_tables = pd.concat(all_fighters_tables)"
      ],
      "execution_count": 5,
      "outputs": []
    },
    {
      "cell_type": "code",
      "metadata": {
        "id": "AkCCSiuUa4lu",
        "outputId": "2a477955-fa0a-475a-c451-3d253cc471f5",
        "colab": {
          "base_uri": "https://localhost:8080/",
          "height": 194
        }
      },
      "source": [
        "all_fighters_tables.head()"
      ],
      "execution_count": 6,
      "outputs": [
        {
          "output_type": "execute_result",
          "data": {
            "text/html": [
              "<div>\n",
              "<style scoped>\n",
              "    .dataframe tbody tr th:only-of-type {\n",
              "        vertical-align: middle;\n",
              "    }\n",
              "\n",
              "    .dataframe tbody tr th {\n",
              "        vertical-align: top;\n",
              "    }\n",
              "\n",
              "    .dataframe thead th {\n",
              "        text-align: right;\n",
              "    }\n",
              "</style>\n",
              "<table border=\"1\" class=\"dataframe\">\n",
              "  <thead>\n",
              "    <tr style=\"text-align: right;\">\n",
              "      <th></th>\n",
              "      <th>First</th>\n",
              "      <th>Last</th>\n",
              "      <th>Nickname</th>\n",
              "      <th>Ht.</th>\n",
              "      <th>Wt.</th>\n",
              "      <th>Reach</th>\n",
              "      <th>Stance</th>\n",
              "      <th>W</th>\n",
              "      <th>L</th>\n",
              "      <th>D</th>\n",
              "      <th>Belt</th>\n",
              "    </tr>\n",
              "  </thead>\n",
              "  <tbody>\n",
              "    <tr>\n",
              "      <th>0</th>\n",
              "      <td>NaN</td>\n",
              "      <td>NaN</td>\n",
              "      <td>NaN</td>\n",
              "      <td>NaN</td>\n",
              "      <td>NaN</td>\n",
              "      <td>NaN</td>\n",
              "      <td>NaN</td>\n",
              "      <td>NaN</td>\n",
              "      <td>NaN</td>\n",
              "      <td>NaN</td>\n",
              "      <td>NaN</td>\n",
              "    </tr>\n",
              "    <tr>\n",
              "      <th>1</th>\n",
              "      <td>Tom</td>\n",
              "      <td>Aaron</td>\n",
              "      <td>NaN</td>\n",
              "      <td>--</td>\n",
              "      <td>155 lbs.</td>\n",
              "      <td>--</td>\n",
              "      <td>NaN</td>\n",
              "      <td>5.0</td>\n",
              "      <td>3.0</td>\n",
              "      <td>0.0</td>\n",
              "      <td>NaN</td>\n",
              "    </tr>\n",
              "    <tr>\n",
              "      <th>2</th>\n",
              "      <td>Danny</td>\n",
              "      <td>Abbadi</td>\n",
              "      <td>The Assassin</td>\n",
              "      <td>5' 11\"</td>\n",
              "      <td>155 lbs.</td>\n",
              "      <td>--</td>\n",
              "      <td>Orthodox</td>\n",
              "      <td>4.0</td>\n",
              "      <td>6.0</td>\n",
              "      <td>0.0</td>\n",
              "      <td>NaN</td>\n",
              "    </tr>\n",
              "    <tr>\n",
              "      <th>3</th>\n",
              "      <td>David</td>\n",
              "      <td>Abbott</td>\n",
              "      <td>Tank</td>\n",
              "      <td>6' 0\"</td>\n",
              "      <td>265 lbs.</td>\n",
              "      <td>--</td>\n",
              "      <td>Switch</td>\n",
              "      <td>10.0</td>\n",
              "      <td>15.0</td>\n",
              "      <td>0.0</td>\n",
              "      <td>NaN</td>\n",
              "    </tr>\n",
              "    <tr>\n",
              "      <th>4</th>\n",
              "      <td>Shamil</td>\n",
              "      <td>Abdurakhimov</td>\n",
              "      <td>Abrek</td>\n",
              "      <td>6' 3\"</td>\n",
              "      <td>235 lbs.</td>\n",
              "      <td>76.0\"</td>\n",
              "      <td>Orthodox</td>\n",
              "      <td>20.0</td>\n",
              "      <td>5.0</td>\n",
              "      <td>0.0</td>\n",
              "      <td>NaN</td>\n",
              "    </tr>\n",
              "  </tbody>\n",
              "</table>\n",
              "</div>"
            ],
            "text/plain": [
              "    First          Last      Nickname     Ht.  ...     W     L    D  Belt\n",
              "0     NaN           NaN           NaN     NaN  ...   NaN   NaN  NaN   NaN\n",
              "1     Tom         Aaron           NaN      --  ...   5.0   3.0  0.0   NaN\n",
              "2   Danny        Abbadi  The Assassin  5' 11\"  ...   4.0   6.0  0.0   NaN\n",
              "3   David        Abbott          Tank   6' 0\"  ...  10.0  15.0  0.0   NaN\n",
              "4  Shamil  Abdurakhimov         Abrek   6' 3\"  ...  20.0   5.0  0.0   NaN\n",
              "\n",
              "[5 rows x 11 columns]"
            ]
          },
          "metadata": {
            "tags": []
          },
          "execution_count": 6
        }
      ]
    },
    {
      "cell_type": "markdown",
      "metadata": {
        "id": "7SkAtOIMY28U"
      },
      "source": [
        "## Getting the data for one fight\n",
        "\n",
        "This will look at Brian Ortega vs. Chan Sung Jung.\n",
        "\n",
        "UFC Fight Night: Ortega vs. The Korean Zombie\n",
        "\n",
        "http://ufcstats.com/fight-details/5a440bdee19efaab"
      ]
    },
    {
      "cell_type": "code",
      "metadata": {
        "id": "rklpCA47YxWW",
        "outputId": "6eed70d3-603c-4917-ed0d-09314bdae8e3",
        "colab": {
          "base_uri": "https://localhost:8080/",
          "height": 35
        }
      },
      "source": [
        "ortega_vs_jung_url = \"http://ufcstats.com/fight-details/5a440bdee19efaab\"\n",
        "ortega_vs_jung_tables = pd.read_html(ortega_vs_jung_url)\n",
        "print(f\"This URL has {len(ortega_vs_jung_tables)} tables\")"
      ],
      "execution_count": 7,
      "outputs": [
        {
          "output_type": "stream",
          "text": [
            "This URL has 4 tables\n"
          ],
          "name": "stdout"
        }
      ]
    },
    {
      "cell_type": "code",
      "metadata": {
        "id": "VzaBkvTjZe-W",
        "outputId": "ab9daaf8-7a8b-4617-8979-2e07bf2c27a2",
        "colab": {
          "base_uri": "https://localhost:8080/",
          "height": 76
        }
      },
      "source": [
        "ortega_vs_jung_tables[0].head()"
      ],
      "execution_count": 8,
      "outputs": [
        {
          "output_type": "execute_result",
          "data": {
            "text/html": [
              "<div>\n",
              "<style scoped>\n",
              "    .dataframe tbody tr th:only-of-type {\n",
              "        vertical-align: middle;\n",
              "    }\n",
              "\n",
              "    .dataframe tbody tr th {\n",
              "        vertical-align: top;\n",
              "    }\n",
              "\n",
              "    .dataframe thead th {\n",
              "        text-align: right;\n",
              "    }\n",
              "</style>\n",
              "<table border=\"1\" class=\"dataframe\">\n",
              "  <thead>\n",
              "    <tr style=\"text-align: right;\">\n",
              "      <th></th>\n",
              "      <th>Fighter</th>\n",
              "      <th>KD</th>\n",
              "      <th>Sig. str.</th>\n",
              "      <th>Sig. str. %</th>\n",
              "      <th>Total str.</th>\n",
              "      <th>Td</th>\n",
              "      <th>Td %</th>\n",
              "      <th>Sub. att</th>\n",
              "      <th>Rev.</th>\n",
              "      <th>Ctrl</th>\n",
              "    </tr>\n",
              "  </thead>\n",
              "  <tbody>\n",
              "    <tr>\n",
              "      <th>0</th>\n",
              "      <td>Brian Ortega Chan Sung Jung</td>\n",
              "      <td>2  0</td>\n",
              "      <td>127 of 212  62 of 163</td>\n",
              "      <td>59%  38%</td>\n",
              "      <td>129 of 214  64 of 166</td>\n",
              "      <td>3 of 10  0 of 0</td>\n",
              "      <td>30%  ---</td>\n",
              "      <td>0  0</td>\n",
              "      <td>0  0</td>\n",
              "      <td>0:57  0:00</td>\n",
              "    </tr>\n",
              "  </tbody>\n",
              "</table>\n",
              "</div>"
            ],
            "text/plain": [
              "                       Fighter    KD  ...  Rev.        Ctrl\n",
              "0  Brian Ortega Chan Sung Jung  2  0  ...  0  0  0:57  0:00\n",
              "\n",
              "[1 rows x 10 columns]"
            ]
          },
          "metadata": {
            "tags": []
          },
          "execution_count": 8
        }
      ]
    },
    {
      "cell_type": "code",
      "metadata": {
        "id": "Qfm2wkG3Yxbe",
        "outputId": "2d4b8cdf-a370-45fc-e8c1-5f372f8ee43d",
        "colab": {
          "base_uri": "https://localhost:8080/",
          "height": 340
        }
      },
      "source": [
        "ortega_vs_jung_tables[1].head()"
      ],
      "execution_count": 9,
      "outputs": [
        {
          "output_type": "execute_result",
          "data": {
            "text/html": [
              "<div>\n",
              "<style scoped>\n",
              "    .dataframe tbody tr th:only-of-type {\n",
              "        vertical-align: middle;\n",
              "    }\n",
              "\n",
              "    .dataframe tbody tr th {\n",
              "        vertical-align: top;\n",
              "    }\n",
              "\n",
              "    .dataframe thead tr th {\n",
              "        text-align: left;\n",
              "    }\n",
              "</style>\n",
              "<table border=\"1\" class=\"dataframe\">\n",
              "  <thead>\n",
              "    <tr>\n",
              "      <th></th>\n",
              "      <th>Fighter</th>\n",
              "      <th>KD</th>\n",
              "      <th>Sig. str.</th>\n",
              "      <th>Sig. str. %</th>\n",
              "      <th>Total str.</th>\n",
              "      <th colspan=\"2\" halign=\"left\">Td %</th>\n",
              "      <th>Sub. att</th>\n",
              "      <th>Rev.</th>\n",
              "      <th>Ctrl</th>\n",
              "    </tr>\n",
              "    <tr>\n",
              "      <th></th>\n",
              "      <th>Round 1</th>\n",
              "      <th>Round 1</th>\n",
              "      <th>Round 1</th>\n",
              "      <th>Round 1</th>\n",
              "      <th>Round 1</th>\n",
              "      <th colspan=\"2\" halign=\"left\">Round 1</th>\n",
              "      <th>Round 1</th>\n",
              "      <th>Round 1</th>\n",
              "      <th>Round 1</th>\n",
              "    </tr>\n",
              "    <tr>\n",
              "      <th></th>\n",
              "      <th>Round 2</th>\n",
              "      <th>Round 2</th>\n",
              "      <th>Round 2</th>\n",
              "      <th>Round 2</th>\n",
              "      <th>Round 2</th>\n",
              "      <th colspan=\"2\" halign=\"left\">Round 2</th>\n",
              "      <th>Round 2</th>\n",
              "      <th>Round 2</th>\n",
              "      <th>Round 2</th>\n",
              "    </tr>\n",
              "    <tr>\n",
              "      <th></th>\n",
              "      <th>Round 3</th>\n",
              "      <th>Round 3</th>\n",
              "      <th>Round 3</th>\n",
              "      <th>Round 3</th>\n",
              "      <th>Round 3</th>\n",
              "      <th colspan=\"2\" halign=\"left\">Round 3</th>\n",
              "      <th>Round 3</th>\n",
              "      <th>Round 3</th>\n",
              "      <th>Round 3</th>\n",
              "    </tr>\n",
              "    <tr>\n",
              "      <th></th>\n",
              "      <th>Round 4</th>\n",
              "      <th>Round 4</th>\n",
              "      <th>Round 4</th>\n",
              "      <th>Round 4</th>\n",
              "      <th>Round 4</th>\n",
              "      <th colspan=\"2\" halign=\"left\">Round 4</th>\n",
              "      <th>Round 4</th>\n",
              "      <th>Round 4</th>\n",
              "      <th>Round 4</th>\n",
              "    </tr>\n",
              "    <tr>\n",
              "      <th></th>\n",
              "      <th>Round 5</th>\n",
              "      <th>Round 5</th>\n",
              "      <th>Round 5</th>\n",
              "      <th>Round 5</th>\n",
              "      <th>Round 5</th>\n",
              "      <th>Round 5</th>\n",
              "      <th>Round 5.1</th>\n",
              "      <th>Round 5</th>\n",
              "      <th>Round 5</th>\n",
              "      <th>Round 5</th>\n",
              "    </tr>\n",
              "  </thead>\n",
              "  <tbody>\n",
              "    <tr>\n",
              "      <th>0</th>\n",
              "      <td>Brian Ortega Chan Sung Jung</td>\n",
              "      <td>1  0</td>\n",
              "      <td>24 of 39  14 of 26</td>\n",
              "      <td>61%  53%</td>\n",
              "      <td>24 of 39  14 of 26</td>\n",
              "      <td>0 of 0  0 of 0</td>\n",
              "      <td>---  ---</td>\n",
              "      <td>0  0</td>\n",
              "      <td>0  0</td>\n",
              "      <td>0:00  0:00</td>\n",
              "    </tr>\n",
              "    <tr>\n",
              "      <th>1</th>\n",
              "      <td>Brian Ortega Chan Sung Jung</td>\n",
              "      <td>1  0</td>\n",
              "      <td>23 of 37  14 of 34</td>\n",
              "      <td>62%  41%</td>\n",
              "      <td>24 of 38  14 of 34</td>\n",
              "      <td>2 of 3  0 of 0</td>\n",
              "      <td>66%  ---</td>\n",
              "      <td>0  0</td>\n",
              "      <td>0  0</td>\n",
              "      <td>0:35  0:00</td>\n",
              "    </tr>\n",
              "    <tr>\n",
              "      <th>2</th>\n",
              "      <td>Brian Ortega Chan Sung Jung</td>\n",
              "      <td>0  0</td>\n",
              "      <td>28 of 42  7 of 32</td>\n",
              "      <td>66%  21%</td>\n",
              "      <td>28 of 42  7 of 32</td>\n",
              "      <td>0 of 1  0 of 0</td>\n",
              "      <td>0%  ---</td>\n",
              "      <td>0  0</td>\n",
              "      <td>0  0</td>\n",
              "      <td>0:00  0:00</td>\n",
              "    </tr>\n",
              "    <tr>\n",
              "      <th>3</th>\n",
              "      <td>Brian Ortega Chan Sung Jung</td>\n",
              "      <td>0  0</td>\n",
              "      <td>17 of 35  8 of 26</td>\n",
              "      <td>48%  30%</td>\n",
              "      <td>18 of 36  10 of 29</td>\n",
              "      <td>1 of 4  0 of 0</td>\n",
              "      <td>25%  ---</td>\n",
              "      <td>0  0</td>\n",
              "      <td>0  0</td>\n",
              "      <td>0:22  0:00</td>\n",
              "    </tr>\n",
              "    <tr>\n",
              "      <th>4</th>\n",
              "      <td>Brian Ortega Chan Sung Jung</td>\n",
              "      <td>0  0</td>\n",
              "      <td>35 of 59  19 of 45</td>\n",
              "      <td>59%  42%</td>\n",
              "      <td>35 of 59  19 of 45</td>\n",
              "      <td>0 of 2  0 of 0</td>\n",
              "      <td>0%  ---</td>\n",
              "      <td>0  0</td>\n",
              "      <td>0  0</td>\n",
              "      <td>0:00  0:00</td>\n",
              "    </tr>\n",
              "  </tbody>\n",
              "</table>\n",
              "</div>"
            ],
            "text/plain": [
              "                       Fighter      KD  ...    Rev.        Ctrl\n",
              "                       Round 1 Round 1  ... Round 1     Round 1\n",
              "                       Round 2 Round 2  ... Round 2     Round 2\n",
              "                       Round 3 Round 3  ... Round 3     Round 3\n",
              "                       Round 4 Round 4  ... Round 4     Round 4\n",
              "                       Round 5 Round 5  ... Round 5     Round 5\n",
              "0  Brian Ortega Chan Sung Jung    1  0  ...    0  0  0:00  0:00\n",
              "1  Brian Ortega Chan Sung Jung    1  0  ...    0  0  0:35  0:00\n",
              "2  Brian Ortega Chan Sung Jung    0  0  ...    0  0  0:00  0:00\n",
              "3  Brian Ortega Chan Sung Jung    0  0  ...    0  0  0:22  0:00\n",
              "4  Brian Ortega Chan Sung Jung    0  0  ...    0  0  0:00  0:00\n",
              "\n",
              "[5 rows x 10 columns]"
            ]
          },
          "metadata": {
            "tags": []
          },
          "execution_count": 9
        }
      ]
    },
    {
      "cell_type": "code",
      "metadata": {
        "id": "qvL0IxZuYxf8",
        "outputId": "7d02ef5b-5a03-415b-f2c4-d30520519c95",
        "colab": {
          "base_uri": "https://localhost:8080/",
          "height": 76
        }
      },
      "source": [
        "ortega_vs_jung_tables[2].head()"
      ],
      "execution_count": 10,
      "outputs": [
        {
          "output_type": "execute_result",
          "data": {
            "text/html": [
              "<div>\n",
              "<style scoped>\n",
              "    .dataframe tbody tr th:only-of-type {\n",
              "        vertical-align: middle;\n",
              "    }\n",
              "\n",
              "    .dataframe tbody tr th {\n",
              "        vertical-align: top;\n",
              "    }\n",
              "\n",
              "    .dataframe thead th {\n",
              "        text-align: right;\n",
              "    }\n",
              "</style>\n",
              "<table border=\"1\" class=\"dataframe\">\n",
              "  <thead>\n",
              "    <tr style=\"text-align: right;\">\n",
              "      <th></th>\n",
              "      <th>Fighter</th>\n",
              "      <th>Sig. str</th>\n",
              "      <th>Sig. str. %</th>\n",
              "      <th>Head</th>\n",
              "      <th>Body</th>\n",
              "      <th>Leg</th>\n",
              "      <th>Distance</th>\n",
              "      <th>Clinch</th>\n",
              "      <th>Ground</th>\n",
              "    </tr>\n",
              "  </thead>\n",
              "  <tbody>\n",
              "    <tr>\n",
              "      <th>0</th>\n",
              "      <td>Brian Ortega Chan Sung Jung</td>\n",
              "      <td>127 of 212  62 of 163</td>\n",
              "      <td>59%  38%</td>\n",
              "      <td>64 of 135  35 of 127</td>\n",
              "      <td>22 of 28  14 of 21</td>\n",
              "      <td>41 of 49  13 of 15</td>\n",
              "      <td>118 of 199  62 of 162</td>\n",
              "      <td>5 of 7  0 of 1</td>\n",
              "      <td>4 of 6  0 of 0</td>\n",
              "    </tr>\n",
              "  </tbody>\n",
              "</table>\n",
              "</div>"
            ],
            "text/plain": [
              "                       Fighter  ...          Ground\n",
              "0  Brian Ortega Chan Sung Jung  ...  4 of 6  0 of 0\n",
              "\n",
              "[1 rows x 9 columns]"
            ]
          },
          "metadata": {
            "tags": []
          },
          "execution_count": 10
        }
      ]
    },
    {
      "cell_type": "code",
      "metadata": {
        "id": "Iq8cHa1bZukK",
        "outputId": "7676ce92-0e30-4fc8-f315-14fe128021fc",
        "colab": {
          "base_uri": "https://localhost:8080/",
          "height": 340
        }
      },
      "source": [
        "ortega_vs_jung_tables[3].head()"
      ],
      "execution_count": 11,
      "outputs": [
        {
          "output_type": "execute_result",
          "data": {
            "text/html": [
              "<div>\n",
              "<style scoped>\n",
              "    .dataframe tbody tr th:only-of-type {\n",
              "        vertical-align: middle;\n",
              "    }\n",
              "\n",
              "    .dataframe tbody tr th {\n",
              "        vertical-align: top;\n",
              "    }\n",
              "\n",
              "    .dataframe thead tr th {\n",
              "        text-align: left;\n",
              "    }\n",
              "</style>\n",
              "<table border=\"1\" class=\"dataframe\">\n",
              "  <thead>\n",
              "    <tr>\n",
              "      <th></th>\n",
              "      <th>Fighter</th>\n",
              "      <th>Sig. str</th>\n",
              "      <th>Sig. str. %</th>\n",
              "      <th>Head</th>\n",
              "      <th>Body</th>\n",
              "      <th>Leg</th>\n",
              "      <th>Distance</th>\n",
              "      <th>Clinch</th>\n",
              "      <th>Ground</th>\n",
              "      <th>Unnamed: 9_level_0</th>\n",
              "    </tr>\n",
              "    <tr>\n",
              "      <th></th>\n",
              "      <th>Round 1</th>\n",
              "      <th>Round 1</th>\n",
              "      <th>Round 1</th>\n",
              "      <th>Round 1</th>\n",
              "      <th>Round 1</th>\n",
              "      <th>Round 1</th>\n",
              "      <th>Round 1</th>\n",
              "      <th>Round 1</th>\n",
              "      <th>Round 1</th>\n",
              "      <th>Round 1</th>\n",
              "    </tr>\n",
              "    <tr>\n",
              "      <th></th>\n",
              "      <th>Round 2</th>\n",
              "      <th>Round 2</th>\n",
              "      <th>Round 2</th>\n",
              "      <th>Round 2</th>\n",
              "      <th>Round 2</th>\n",
              "      <th>Round 2</th>\n",
              "      <th>Round 2</th>\n",
              "      <th>Round 2</th>\n",
              "      <th>Round 2</th>\n",
              "      <th>Round 2</th>\n",
              "    </tr>\n",
              "    <tr>\n",
              "      <th></th>\n",
              "      <th>Round 3</th>\n",
              "      <th>Round 3</th>\n",
              "      <th>Round 3</th>\n",
              "      <th>Round 3</th>\n",
              "      <th>Round 3</th>\n",
              "      <th>Round 3</th>\n",
              "      <th>Round 3</th>\n",
              "      <th>Round 3</th>\n",
              "      <th>Round 3</th>\n",
              "      <th>Round 3</th>\n",
              "    </tr>\n",
              "    <tr>\n",
              "      <th></th>\n",
              "      <th>Round 4</th>\n",
              "      <th>Round 4</th>\n",
              "      <th>Round 4</th>\n",
              "      <th>Round 4</th>\n",
              "      <th>Round 4</th>\n",
              "      <th>Round 4</th>\n",
              "      <th>Round 4</th>\n",
              "      <th>Round 4</th>\n",
              "      <th>Round 4</th>\n",
              "      <th>Round 4</th>\n",
              "    </tr>\n",
              "    <tr>\n",
              "      <th></th>\n",
              "      <th>Round 5</th>\n",
              "      <th>Round 5</th>\n",
              "      <th>Round 5</th>\n",
              "      <th>Round 5</th>\n",
              "      <th>Round 5</th>\n",
              "      <th>Round 5</th>\n",
              "      <th>Round 5</th>\n",
              "      <th>Round 5</th>\n",
              "      <th>Round 5</th>\n",
              "      <th>Round 5</th>\n",
              "    </tr>\n",
              "  </thead>\n",
              "  <tbody>\n",
              "    <tr>\n",
              "      <th>0</th>\n",
              "      <td>Brian Ortega Chan Sung Jung</td>\n",
              "      <td>24 of 39  14 of 26</td>\n",
              "      <td>61%  53%</td>\n",
              "      <td>11 of 24  4 of 15</td>\n",
              "      <td>5 of 6  4 of 5</td>\n",
              "      <td>8 of 9  6 of 6</td>\n",
              "      <td>24 of 39  14 of 26</td>\n",
              "      <td>0 of 0  0 of 0</td>\n",
              "      <td>0 of 0  0 of 0</td>\n",
              "      <td>NaN</td>\n",
              "    </tr>\n",
              "    <tr>\n",
              "      <th>1</th>\n",
              "      <td>Brian Ortega Chan Sung Jung</td>\n",
              "      <td>23 of 37  14 of 34</td>\n",
              "      <td>62%  41%</td>\n",
              "      <td>14 of 25  12 of 31</td>\n",
              "      <td>2 of 4  0 of 1</td>\n",
              "      <td>7 of 8  2 of 2</td>\n",
              "      <td>17 of 29  14 of 34</td>\n",
              "      <td>2 of 2  0 of 0</td>\n",
              "      <td>4 of 6  0 of 0</td>\n",
              "      <td>NaN</td>\n",
              "    </tr>\n",
              "    <tr>\n",
              "      <th>2</th>\n",
              "      <td>Brian Ortega Chan Sung Jung</td>\n",
              "      <td>28 of 42  7 of 32</td>\n",
              "      <td>66%  21%</td>\n",
              "      <td>13 of 25  2 of 23</td>\n",
              "      <td>4 of 4  1 of 3</td>\n",
              "      <td>11 of 13  4 of 6</td>\n",
              "      <td>27 of 41  7 of 32</td>\n",
              "      <td>1 of 1  0 of 0</td>\n",
              "      <td>0 of 0  0 of 0</td>\n",
              "      <td>NaN</td>\n",
              "    </tr>\n",
              "    <tr>\n",
              "      <th>3</th>\n",
              "      <td>Brian Ortega Chan Sung Jung</td>\n",
              "      <td>17 of 35  8 of 26</td>\n",
              "      <td>48%  30%</td>\n",
              "      <td>5 of 18  1 of 18</td>\n",
              "      <td>5 of 6  6 of 7</td>\n",
              "      <td>7 of 11  1 of 1</td>\n",
              "      <td>15 of 33  8 of 26</td>\n",
              "      <td>2 of 2  0 of 0</td>\n",
              "      <td>0 of 0  0 of 0</td>\n",
              "      <td>NaN</td>\n",
              "    </tr>\n",
              "    <tr>\n",
              "      <th>4</th>\n",
              "      <td>Brian Ortega Chan Sung Jung</td>\n",
              "      <td>35 of 59  19 of 45</td>\n",
              "      <td>59%  42%</td>\n",
              "      <td>21 of 43  16 of 40</td>\n",
              "      <td>6 of 8  3 of 5</td>\n",
              "      <td>8 of 8  0 of 0</td>\n",
              "      <td>35 of 57  19 of 44</td>\n",
              "      <td>0 of 2  0 of 1</td>\n",
              "      <td>0 of 0  0 of 0</td>\n",
              "      <td>NaN</td>\n",
              "    </tr>\n",
              "  </tbody>\n",
              "</table>\n",
              "</div>"
            ],
            "text/plain": [
              "                       Fighter  ... Unnamed: 9_level_0\n",
              "                       Round 1  ...            Round 1\n",
              "                       Round 2  ...            Round 2\n",
              "                       Round 3  ...            Round 3\n",
              "                       Round 4  ...            Round 4\n",
              "                       Round 5  ...            Round 5\n",
              "0  Brian Ortega Chan Sung Jung  ...                NaN\n",
              "1  Brian Ortega Chan Sung Jung  ...                NaN\n",
              "2  Brian Ortega Chan Sung Jung  ...                NaN\n",
              "3  Brian Ortega Chan Sung Jung  ...                NaN\n",
              "4  Brian Ortega Chan Sung Jung  ...                NaN\n",
              "\n",
              "[5 rows x 10 columns]"
            ]
          },
          "metadata": {
            "tags": []
          },
          "execution_count": 11
        }
      ]
    },
    {
      "cell_type": "markdown",
      "metadata": {
        "id": "-1zMottZZ0eX"
      },
      "source": [
        "Note how each cell actually has two datapoints, which is a bit frustrating. We need to break them up into different cells."
      ]
    },
    {
      "cell_type": "code",
      "metadata": {
        "id": "aHmcqvqLZzLc",
        "outputId": "dde2110e-f15d-470e-903f-8b8e56bb2e88",
        "colab": {
          "base_uri": "https://localhost:8080/",
          "height": 76
        }
      },
      "source": [
        "ortega_vs_jung_tables[0].head()"
      ],
      "execution_count": 12,
      "outputs": [
        {
          "output_type": "execute_result",
          "data": {
            "text/html": [
              "<div>\n",
              "<style scoped>\n",
              "    .dataframe tbody tr th:only-of-type {\n",
              "        vertical-align: middle;\n",
              "    }\n",
              "\n",
              "    .dataframe tbody tr th {\n",
              "        vertical-align: top;\n",
              "    }\n",
              "\n",
              "    .dataframe thead th {\n",
              "        text-align: right;\n",
              "    }\n",
              "</style>\n",
              "<table border=\"1\" class=\"dataframe\">\n",
              "  <thead>\n",
              "    <tr style=\"text-align: right;\">\n",
              "      <th></th>\n",
              "      <th>Fighter</th>\n",
              "      <th>KD</th>\n",
              "      <th>Sig. str.</th>\n",
              "      <th>Sig. str. %</th>\n",
              "      <th>Total str.</th>\n",
              "      <th>Td</th>\n",
              "      <th>Td %</th>\n",
              "      <th>Sub. att</th>\n",
              "      <th>Rev.</th>\n",
              "      <th>Ctrl</th>\n",
              "    </tr>\n",
              "  </thead>\n",
              "  <tbody>\n",
              "    <tr>\n",
              "      <th>0</th>\n",
              "      <td>Brian Ortega Chan Sung Jung</td>\n",
              "      <td>2  0</td>\n",
              "      <td>127 of 212  62 of 163</td>\n",
              "      <td>59%  38%</td>\n",
              "      <td>129 of 214  64 of 166</td>\n",
              "      <td>3 of 10  0 of 0</td>\n",
              "      <td>30%  ---</td>\n",
              "      <td>0  0</td>\n",
              "      <td>0  0</td>\n",
              "      <td>0:57  0:00</td>\n",
              "    </tr>\n",
              "  </tbody>\n",
              "</table>\n",
              "</div>"
            ],
            "text/plain": [
              "                       Fighter    KD  ...  Rev.        Ctrl\n",
              "0  Brian Ortega Chan Sung Jung  2  0  ...  0  0  0:57  0:00\n",
              "\n",
              "[1 rows x 10 columns]"
            ]
          },
          "metadata": {
            "tags": []
          },
          "execution_count": 12
        }
      ]
    },
    {
      "cell_type": "code",
      "metadata": {
        "id": "cp_MiPr7eovl",
        "outputId": "91fef1ef-eb5e-4cb0-84ec-a8c230485c50",
        "colab": {
          "base_uri": "https://localhost:8080/",
          "height": 36
        }
      },
      "source": [
        "ortega_vs_jung_tables[0][\"Fighter\"][0]"
      ],
      "execution_count": 13,
      "outputs": [
        {
          "output_type": "execute_result",
          "data": {
            "application/vnd.google.colaboratory.intrinsic+json": {
              "type": "string"
            },
            "text/plain": [
              "'Brian Ortega Chan Sung Jung'"
            ]
          },
          "metadata": {
            "tags": []
          },
          "execution_count": 13
        }
      ]
    },
    {
      "cell_type": "code",
      "metadata": {
        "id": "SyY3C2JNZzSq",
        "outputId": "b8cfb182-c8b5-49ef-e679-72a015bc6b85",
        "colab": {
          "base_uri": "https://localhost:8080/",
          "height": 52
        }
      },
      "source": [
        "for i, row in all_fighters_tables.iterrows():\n",
        "    fighter_name = f'{row[\"First\"]} {row[\"Last\"]}'\n",
        "    if ortega_vs_jung_tables[0][\"Fighter\"][0].startswith(fighter_name):\n",
        "        first_fighter = fighter_name\n",
        "        second_fighter = ortega_vs_jung_tables[0][\"Fighter\"][0][len(fighter_name)+1:]\n",
        "        print(f\"First fighter is {first_fighter}\")\n",
        "        print(f'Second fighter is {second_fighter}')\n",
        "        break"
      ],
      "execution_count": 14,
      "outputs": [
        {
          "output_type": "stream",
          "text": [
            "First fighter is Brian Ortega\n",
            "Second fighter is Chan Sung Jung\n"
          ],
          "name": "stdout"
        }
      ]
    },
    {
      "cell_type": "code",
      "metadata": {
        "id": "x67iqVTdgiY6"
      },
      "source": [
        "def parse_two_fighter_stats(fight_table, column):\n",
        "    string_split = fight_table[column][0].split(\" \")\n",
        "    first_fighter_stat = \" \".join(string_split[:len(string_split)//2])\n",
        "    second_fighter_stat = \" \".join(string_split[len(string_split)//2+1:])\n",
        "    return first_fighter_stat, second_fighter_stat"
      ],
      "execution_count": 17,
      "outputs": []
    },
    {
      "cell_type": "code",
      "metadata": {
        "id": "qs7LTJ7NhERA",
        "outputId": "da7e8a5a-4208-4a40-b663-631c6098041e",
        "colab": {
          "base_uri": "https://localhost:8080/",
          "height": 497
        }
      },
      "source": [
        "for column in ortega_vs_jung_tables[0].columns:\n",
        "    if column == \"Fighter\":\n",
        "        continue\n",
        "    fighter_1_stat, fighter_2_stat = parse_two_fighter_stats(ortega_vs_jung_tables[0], column)\n",
        "    print(f\"{column} 1: {fighter_1_stat}\")\n",
        "    print(f\"{column} 2: {fighter_2_stat}\")\n",
        "    print()"
      ],
      "execution_count": 18,
      "outputs": [
        {
          "output_type": "stream",
          "text": [
            "KD 1: 2\n",
            "KD 2: 0\n",
            "\n",
            "Sig. str. 1: 127 of 212\n",
            "Sig. str. 2: 62 of 163\n",
            "\n",
            "Sig. str. % 1: 59%\n",
            "Sig. str. % 2: 38%\n",
            "\n",
            "Total str. 1: 129 of 214\n",
            "Total str. 2: 64 of 166\n",
            "\n",
            "Td 1: 3 of 10\n",
            "Td 2: 0 of 0\n",
            "\n",
            "Td % 1: 30%\n",
            "Td % 2: ---\n",
            "\n",
            "Sub. att 1: 0\n",
            "Sub. att 2: 0\n",
            "\n",
            "Rev. 1: 0\n",
            "Rev. 2: 0\n",
            "\n",
            "Ctrl 1: 0:57\n",
            "Ctrl 2: 0:00\n",
            "\n"
          ],
          "name": "stdout"
        }
      ]
    },
    {
      "cell_type": "markdown",
      "metadata": {
        "id": "gB8pfDh5iQVd"
      },
      "source": [
        "Now do the same for other tables"
      ]
    },
    {
      "cell_type": "code",
      "metadata": {
        "id": "CaSqL5xRZzON",
        "outputId": "470a6cad-2a99-4ed2-b16c-20d20d6a8d1f",
        "colab": {
          "base_uri": "https://localhost:8080/",
          "height": 340
        }
      },
      "source": [
        "ortega_vs_jung_tables[1]"
      ],
      "execution_count": 19,
      "outputs": [
        {
          "output_type": "execute_result",
          "data": {
            "text/html": [
              "<div>\n",
              "<style scoped>\n",
              "    .dataframe tbody tr th:only-of-type {\n",
              "        vertical-align: middle;\n",
              "    }\n",
              "\n",
              "    .dataframe tbody tr th {\n",
              "        vertical-align: top;\n",
              "    }\n",
              "\n",
              "    .dataframe thead tr th {\n",
              "        text-align: left;\n",
              "    }\n",
              "</style>\n",
              "<table border=\"1\" class=\"dataframe\">\n",
              "  <thead>\n",
              "    <tr>\n",
              "      <th></th>\n",
              "      <th>Fighter</th>\n",
              "      <th>KD</th>\n",
              "      <th>Sig. str.</th>\n",
              "      <th>Sig. str. %</th>\n",
              "      <th>Total str.</th>\n",
              "      <th colspan=\"2\" halign=\"left\">Td %</th>\n",
              "      <th>Sub. att</th>\n",
              "      <th>Rev.</th>\n",
              "      <th>Ctrl</th>\n",
              "    </tr>\n",
              "    <tr>\n",
              "      <th></th>\n",
              "      <th>Round 1</th>\n",
              "      <th>Round 1</th>\n",
              "      <th>Round 1</th>\n",
              "      <th>Round 1</th>\n",
              "      <th>Round 1</th>\n",
              "      <th colspan=\"2\" halign=\"left\">Round 1</th>\n",
              "      <th>Round 1</th>\n",
              "      <th>Round 1</th>\n",
              "      <th>Round 1</th>\n",
              "    </tr>\n",
              "    <tr>\n",
              "      <th></th>\n",
              "      <th>Round 2</th>\n",
              "      <th>Round 2</th>\n",
              "      <th>Round 2</th>\n",
              "      <th>Round 2</th>\n",
              "      <th>Round 2</th>\n",
              "      <th colspan=\"2\" halign=\"left\">Round 2</th>\n",
              "      <th>Round 2</th>\n",
              "      <th>Round 2</th>\n",
              "      <th>Round 2</th>\n",
              "    </tr>\n",
              "    <tr>\n",
              "      <th></th>\n",
              "      <th>Round 3</th>\n",
              "      <th>Round 3</th>\n",
              "      <th>Round 3</th>\n",
              "      <th>Round 3</th>\n",
              "      <th>Round 3</th>\n",
              "      <th colspan=\"2\" halign=\"left\">Round 3</th>\n",
              "      <th>Round 3</th>\n",
              "      <th>Round 3</th>\n",
              "      <th>Round 3</th>\n",
              "    </tr>\n",
              "    <tr>\n",
              "      <th></th>\n",
              "      <th>Round 4</th>\n",
              "      <th>Round 4</th>\n",
              "      <th>Round 4</th>\n",
              "      <th>Round 4</th>\n",
              "      <th>Round 4</th>\n",
              "      <th colspan=\"2\" halign=\"left\">Round 4</th>\n",
              "      <th>Round 4</th>\n",
              "      <th>Round 4</th>\n",
              "      <th>Round 4</th>\n",
              "    </tr>\n",
              "    <tr>\n",
              "      <th></th>\n",
              "      <th>Round 5</th>\n",
              "      <th>Round 5</th>\n",
              "      <th>Round 5</th>\n",
              "      <th>Round 5</th>\n",
              "      <th>Round 5</th>\n",
              "      <th>Round 5</th>\n",
              "      <th>Round 5.1</th>\n",
              "      <th>Round 5</th>\n",
              "      <th>Round 5</th>\n",
              "      <th>Round 5</th>\n",
              "    </tr>\n",
              "  </thead>\n",
              "  <tbody>\n",
              "    <tr>\n",
              "      <th>0</th>\n",
              "      <td>Brian Ortega Chan Sung Jung</td>\n",
              "      <td>1  0</td>\n",
              "      <td>24 of 39  14 of 26</td>\n",
              "      <td>61%  53%</td>\n",
              "      <td>24 of 39  14 of 26</td>\n",
              "      <td>0 of 0  0 of 0</td>\n",
              "      <td>---  ---</td>\n",
              "      <td>0  0</td>\n",
              "      <td>0  0</td>\n",
              "      <td>0:00  0:00</td>\n",
              "    </tr>\n",
              "    <tr>\n",
              "      <th>1</th>\n",
              "      <td>Brian Ortega Chan Sung Jung</td>\n",
              "      <td>1  0</td>\n",
              "      <td>23 of 37  14 of 34</td>\n",
              "      <td>62%  41%</td>\n",
              "      <td>24 of 38  14 of 34</td>\n",
              "      <td>2 of 3  0 of 0</td>\n",
              "      <td>66%  ---</td>\n",
              "      <td>0  0</td>\n",
              "      <td>0  0</td>\n",
              "      <td>0:35  0:00</td>\n",
              "    </tr>\n",
              "    <tr>\n",
              "      <th>2</th>\n",
              "      <td>Brian Ortega Chan Sung Jung</td>\n",
              "      <td>0  0</td>\n",
              "      <td>28 of 42  7 of 32</td>\n",
              "      <td>66%  21%</td>\n",
              "      <td>28 of 42  7 of 32</td>\n",
              "      <td>0 of 1  0 of 0</td>\n",
              "      <td>0%  ---</td>\n",
              "      <td>0  0</td>\n",
              "      <td>0  0</td>\n",
              "      <td>0:00  0:00</td>\n",
              "    </tr>\n",
              "    <tr>\n",
              "      <th>3</th>\n",
              "      <td>Brian Ortega Chan Sung Jung</td>\n",
              "      <td>0  0</td>\n",
              "      <td>17 of 35  8 of 26</td>\n",
              "      <td>48%  30%</td>\n",
              "      <td>18 of 36  10 of 29</td>\n",
              "      <td>1 of 4  0 of 0</td>\n",
              "      <td>25%  ---</td>\n",
              "      <td>0  0</td>\n",
              "      <td>0  0</td>\n",
              "      <td>0:22  0:00</td>\n",
              "    </tr>\n",
              "    <tr>\n",
              "      <th>4</th>\n",
              "      <td>Brian Ortega Chan Sung Jung</td>\n",
              "      <td>0  0</td>\n",
              "      <td>35 of 59  19 of 45</td>\n",
              "      <td>59%  42%</td>\n",
              "      <td>35 of 59  19 of 45</td>\n",
              "      <td>0 of 2  0 of 0</td>\n",
              "      <td>0%  ---</td>\n",
              "      <td>0  0</td>\n",
              "      <td>0  0</td>\n",
              "      <td>0:00  0:00</td>\n",
              "    </tr>\n",
              "  </tbody>\n",
              "</table>\n",
              "</div>"
            ],
            "text/plain": [
              "                       Fighter      KD  ...    Rev.        Ctrl\n",
              "                       Round 1 Round 1  ... Round 1     Round 1\n",
              "                       Round 2 Round 2  ... Round 2     Round 2\n",
              "                       Round 3 Round 3  ... Round 3     Round 3\n",
              "                       Round 4 Round 4  ... Round 4     Round 4\n",
              "                       Round 5 Round 5  ... Round 5     Round 5\n",
              "0  Brian Ortega Chan Sung Jung    1  0  ...    0  0  0:00  0:00\n",
              "1  Brian Ortega Chan Sung Jung    1  0  ...    0  0  0:35  0:00\n",
              "2  Brian Ortega Chan Sung Jung    0  0  ...    0  0  0:00  0:00\n",
              "3  Brian Ortega Chan Sung Jung    0  0  ...    0  0  0:22  0:00\n",
              "4  Brian Ortega Chan Sung Jung    0  0  ...    0  0  0:00  0:00\n",
              "\n",
              "[5 rows x 10 columns]"
            ]
          },
          "metadata": {
            "tags": []
          },
          "execution_count": 19
        }
      ]
    },
    {
      "cell_type": "code",
      "metadata": {
        "id": "3dLSUQDeZzJR",
        "outputId": "cf687a77-8daa-481b-c827-cf6239a9902a",
        "colab": {
          "base_uri": "https://localhost:8080/",
          "height": 55
        }
      },
      "source": [
        "new_columns = [\"Fighter 1\", \"Fighter 2\"]\n",
        "for i, column in enumerate(ortega_vs_jung_tables[1]):\n",
        "    if column[0] == \"Fighter\":\n",
        "        continue\n",
        "    new_columns.append(f\"Fighter 1 {column[0]}\")\n",
        "    new_columns.append(f\"Fighter 2 {column[0]}\")\n",
        "print(new_columns)"
      ],
      "execution_count": 78,
      "outputs": [
        {
          "output_type": "stream",
          "text": [
            "['Fighter 1', 'Fighter 2', 'Fighter 1 KD', 'Fighter 2 KD', 'Fighter 1 Sig. str.', 'Fighter 2 Sig. str.', 'Fighter 1 Sig. str. %', 'Fighter 2 Sig. str. %', 'Fighter 1 Total str.', 'Fighter 2 Total str.', 'Fighter 1 Td %', 'Fighter 2 Td %', 'Fighter 1 Td %', 'Fighter 2 Td %', 'Fighter 1 Sub. att', 'Fighter 2 Sub. att', 'Fighter 1 Rev.', 'Fighter 2 Rev.', 'Fighter 1 Ctrl', 'Fighter 2 Ctrl']\n"
          ],
          "name": "stdout"
        }
      ]
    },
    {
      "cell_type": "code",
      "metadata": {
        "id": "2XEqvl8l64rX"
      },
      "source": [
        "def parse_string(row_string):\n",
        "    string_split = row_string.split(\" \")\n",
        "    first_fighter_stat = \" \".join(string_split[:len(string_split)//2])\n",
        "    second_fighter_stat = \" \".join(string_split[len(string_split)//2+1:])\n",
        "    return first_fighter_stat, second_fighter_stat"
      ],
      "execution_count": 21,
      "outputs": []
    },
    {
      "cell_type": "code",
      "metadata": {
        "id": "qNgaydzJ9JPK"
      },
      "source": [
        "new_rows = []\n",
        "for i, row in ortega_vs_jung_tables[1].iterrows():\n",
        "    new_row = []\n",
        "    new_row.append(first_fighter)\n",
        "    new_row.append(second_fighter)\n",
        "    for column in ortega_vs_jung_tables[1]:\n",
        "        if column[0] == \"Fighter\":\n",
        "            continue\n",
        "        stat1, stat2 = parse_string(row[column[0]][0])\n",
        "        new_row.append(stat1)\n",
        "        new_row.append(stat2)\n",
        "    new_rows.append(new_row)"
      ],
      "execution_count": 24,
      "outputs": []
    },
    {
      "cell_type": "code",
      "metadata": {
        "id": "_qh77mX79e60",
        "outputId": "491bd522-884a-4c3e-f930-d60a0c75e77f",
        "colab": {
          "base_uri": "https://localhost:8080/",
          "height": 55
        }
      },
      "source": [
        "print(new_rows)"
      ],
      "execution_count": 25,
      "outputs": [
        {
          "output_type": "stream",
          "text": [
            "[['Brian Ortega', 'Chan Sung Jung', '1', '0', '24 of 39', '14 of 26', '61%', '53%', '24 of 39', '14 of 26', '0 of 0', '0 of 0', '0 of 0', '0 of 0', '0', '0', '0', '0', '0:00', '0:00'], ['Brian Ortega', 'Chan Sung Jung', '1', '0', '23 of 37', '14 of 34', '62%', '41%', '24 of 38', '14 of 34', '2 of 3', '0 of 0', '2 of 3', '0 of 0', '0', '0', '0', '0', '0:35', '0:00'], ['Brian Ortega', 'Chan Sung Jung', '0', '0', '28 of 42', '7 of 32', '66%', '21%', '28 of 42', '7 of 32', '0 of 1', '0 of 0', '0 of 1', '0 of 0', '0', '0', '0', '0', '0:00', '0:00'], ['Brian Ortega', 'Chan Sung Jung', '0', '0', '17 of 35', '8 of 26', '48%', '30%', '18 of 36', '10 of 29', '1 of 4', '0 of 0', '1 of 4', '0 of 0', '0', '0', '0', '0', '0:22', '0:00'], ['Brian Ortega', 'Chan Sung Jung', '0', '0', '35 of 59', '19 of 45', '59%', '42%', '35 of 59', '19 of 45', '0 of 2', '0 of 0', '0 of 2', '0 of 0', '0', '0', '0', '0', '0:00', '0:00']]\n"
          ],
          "name": "stdout"
        }
      ]
    },
    {
      "cell_type": "code",
      "metadata": {
        "id": "C4EedxAZiamS"
      },
      "source": [
        "df = pd.DataFrame(new_rows, columns=new_columns) "
      ],
      "execution_count": 26,
      "outputs": []
    },
    {
      "cell_type": "code",
      "metadata": {
        "id": "2UONeYy3iag7",
        "outputId": "f567a02e-b024-453f-ee55-dbaefe615766",
        "colab": {
          "base_uri": "https://localhost:8080/",
          "height": 396
        }
      },
      "source": [
        "df.head()"
      ],
      "execution_count": 27,
      "outputs": [
        {
          "output_type": "execute_result",
          "data": {
            "text/html": [
              "<div>\n",
              "<style scoped>\n",
              "    .dataframe tbody tr th:only-of-type {\n",
              "        vertical-align: middle;\n",
              "    }\n",
              "\n",
              "    .dataframe tbody tr th {\n",
              "        vertical-align: top;\n",
              "    }\n",
              "\n",
              "    .dataframe thead th {\n",
              "        text-align: right;\n",
              "    }\n",
              "</style>\n",
              "<table border=\"1\" class=\"dataframe\">\n",
              "  <thead>\n",
              "    <tr style=\"text-align: right;\">\n",
              "      <th></th>\n",
              "      <th>Fighter 1</th>\n",
              "      <th>Fighter 2</th>\n",
              "      <th>Fighter 1 KD</th>\n",
              "      <th>Fighter 2 KD</th>\n",
              "      <th>Fighter 1 Sig. str.</th>\n",
              "      <th>Fighter 2 Sig. str.</th>\n",
              "      <th>Fighter 1 Sig. str. %</th>\n",
              "      <th>Fighter 2 Sig. str. %</th>\n",
              "      <th>Fighter 1 Total str.</th>\n",
              "      <th>Fighter 2 Total str.</th>\n",
              "      <th>Fighter 1 Td %</th>\n",
              "      <th>Fighter 2 Td %</th>\n",
              "      <th>Fighter 1 Td %</th>\n",
              "      <th>Fighter 2 Td %</th>\n",
              "      <th>Fighter 1 Sub. att</th>\n",
              "      <th>Fighter 2 Sub. att</th>\n",
              "      <th>Fighter 1 Rev.</th>\n",
              "      <th>Fighter 2 Rev.</th>\n",
              "      <th>Fighter 1 Ctrl</th>\n",
              "      <th>Fighter 2 Ctrl</th>\n",
              "    </tr>\n",
              "  </thead>\n",
              "  <tbody>\n",
              "    <tr>\n",
              "      <th>0</th>\n",
              "      <td>Brian Ortega</td>\n",
              "      <td>Chan Sung Jung</td>\n",
              "      <td>1</td>\n",
              "      <td>0</td>\n",
              "      <td>24 of 39</td>\n",
              "      <td>14 of 26</td>\n",
              "      <td>61%</td>\n",
              "      <td>53%</td>\n",
              "      <td>24 of 39</td>\n",
              "      <td>14 of 26</td>\n",
              "      <td>0 of 0</td>\n",
              "      <td>0 of 0</td>\n",
              "      <td>0 of 0</td>\n",
              "      <td>0 of 0</td>\n",
              "      <td>0</td>\n",
              "      <td>0</td>\n",
              "      <td>0</td>\n",
              "      <td>0</td>\n",
              "      <td>0:00</td>\n",
              "      <td>0:00</td>\n",
              "    </tr>\n",
              "    <tr>\n",
              "      <th>1</th>\n",
              "      <td>Brian Ortega</td>\n",
              "      <td>Chan Sung Jung</td>\n",
              "      <td>1</td>\n",
              "      <td>0</td>\n",
              "      <td>23 of 37</td>\n",
              "      <td>14 of 34</td>\n",
              "      <td>62%</td>\n",
              "      <td>41%</td>\n",
              "      <td>24 of 38</td>\n",
              "      <td>14 of 34</td>\n",
              "      <td>2 of 3</td>\n",
              "      <td>0 of 0</td>\n",
              "      <td>2 of 3</td>\n",
              "      <td>0 of 0</td>\n",
              "      <td>0</td>\n",
              "      <td>0</td>\n",
              "      <td>0</td>\n",
              "      <td>0</td>\n",
              "      <td>0:35</td>\n",
              "      <td>0:00</td>\n",
              "    </tr>\n",
              "    <tr>\n",
              "      <th>2</th>\n",
              "      <td>Brian Ortega</td>\n",
              "      <td>Chan Sung Jung</td>\n",
              "      <td>0</td>\n",
              "      <td>0</td>\n",
              "      <td>28 of 42</td>\n",
              "      <td>7 of 32</td>\n",
              "      <td>66%</td>\n",
              "      <td>21%</td>\n",
              "      <td>28 of 42</td>\n",
              "      <td>7 of 32</td>\n",
              "      <td>0 of 1</td>\n",
              "      <td>0 of 0</td>\n",
              "      <td>0 of 1</td>\n",
              "      <td>0 of 0</td>\n",
              "      <td>0</td>\n",
              "      <td>0</td>\n",
              "      <td>0</td>\n",
              "      <td>0</td>\n",
              "      <td>0:00</td>\n",
              "      <td>0:00</td>\n",
              "    </tr>\n",
              "    <tr>\n",
              "      <th>3</th>\n",
              "      <td>Brian Ortega</td>\n",
              "      <td>Chan Sung Jung</td>\n",
              "      <td>0</td>\n",
              "      <td>0</td>\n",
              "      <td>17 of 35</td>\n",
              "      <td>8 of 26</td>\n",
              "      <td>48%</td>\n",
              "      <td>30%</td>\n",
              "      <td>18 of 36</td>\n",
              "      <td>10 of 29</td>\n",
              "      <td>1 of 4</td>\n",
              "      <td>0 of 0</td>\n",
              "      <td>1 of 4</td>\n",
              "      <td>0 of 0</td>\n",
              "      <td>0</td>\n",
              "      <td>0</td>\n",
              "      <td>0</td>\n",
              "      <td>0</td>\n",
              "      <td>0:22</td>\n",
              "      <td>0:00</td>\n",
              "    </tr>\n",
              "    <tr>\n",
              "      <th>4</th>\n",
              "      <td>Brian Ortega</td>\n",
              "      <td>Chan Sung Jung</td>\n",
              "      <td>0</td>\n",
              "      <td>0</td>\n",
              "      <td>35 of 59</td>\n",
              "      <td>19 of 45</td>\n",
              "      <td>59%</td>\n",
              "      <td>42%</td>\n",
              "      <td>35 of 59</td>\n",
              "      <td>19 of 45</td>\n",
              "      <td>0 of 2</td>\n",
              "      <td>0 of 0</td>\n",
              "      <td>0 of 2</td>\n",
              "      <td>0 of 0</td>\n",
              "      <td>0</td>\n",
              "      <td>0</td>\n",
              "      <td>0</td>\n",
              "      <td>0</td>\n",
              "      <td>0:00</td>\n",
              "      <td>0:00</td>\n",
              "    </tr>\n",
              "  </tbody>\n",
              "</table>\n",
              "</div>"
            ],
            "text/plain": [
              "      Fighter 1       Fighter 2  ... Fighter 1 Ctrl Fighter 2 Ctrl\n",
              "0  Brian Ortega  Chan Sung Jung  ...           0:00           0:00\n",
              "1  Brian Ortega  Chan Sung Jung  ...           0:35           0:00\n",
              "2  Brian Ortega  Chan Sung Jung  ...           0:00           0:00\n",
              "3  Brian Ortega  Chan Sung Jung  ...           0:22           0:00\n",
              "4  Brian Ortega  Chan Sung Jung  ...           0:00           0:00\n",
              "\n",
              "[5 rows x 20 columns]"
            ]
          },
          "metadata": {
            "tags": []
          },
          "execution_count": 27
        }
      ]
    },
    {
      "cell_type": "markdown",
      "metadata": {
        "id": "VLUx5-Cx_ywK"
      },
      "source": [
        "Do the same for the other table"
      ]
    },
    {
      "cell_type": "code",
      "metadata": {
        "id": "QzKIOA129kZ2",
        "outputId": "917bab03-42fc-4566-9b32-e2f6ea73d3ac",
        "colab": {
          "base_uri": "https://localhost:8080/",
          "height": 55
        }
      },
      "source": [
        "new_columns = [\"Fighter 1\", \"Fighter 2\"]\n",
        "for i, column in enumerate(ortega_vs_jung_tables[3]):\n",
        "    if column[0] == \"Fighter\" or column[0] == \"Unnamed: 9_level_0\":\n",
        "        continue\n",
        "    new_columns.append(f\"Fighter 1 {column[0]}\")\n",
        "    new_columns.append(f\"Fighter 2 {column[0]}\")\n",
        "print(new_columns)"
      ],
      "execution_count": 80,
      "outputs": [
        {
          "output_type": "stream",
          "text": [
            "['Fighter 1', 'Fighter 2', 'Fighter 1 Sig. str', 'Fighter 2 Sig. str', 'Fighter 1 Sig. str. %', 'Fighter 2 Sig. str. %', 'Fighter 1 Head', 'Fighter 2 Head', 'Fighter 1 Body', 'Fighter 2 Body', 'Fighter 1 Leg', 'Fighter 2 Leg', 'Fighter 1 Distance', 'Fighter 2 Distance', 'Fighter 1 Clinch', 'Fighter 2 Clinch', 'Fighter 1 Ground', 'Fighter 2 Ground']\n"
          ],
          "name": "stdout"
        }
      ]
    },
    {
      "cell_type": "code",
      "metadata": {
        "id": "pAUKZJHN9kW-"
      },
      "source": [
        "new_rows = []\n",
        "for i, row in ortega_vs_jung_tables[3].iterrows():\n",
        "    new_row = []\n",
        "    new_row.append(first_fighter)\n",
        "    new_row.append(second_fighter)\n",
        "    for column in ortega_vs_jung_tables[3]:\n",
        "        if column[0] == \"Fighter\" or column[0] == \"Unnamed: 9_level_0\":\n",
        "            continue\n",
        "        stat1, stat2 = parse_string(row[column[0]][0])\n",
        "        new_row.append(stat1)\n",
        "        new_row.append(stat2)\n",
        "    new_rows.append(new_row)"
      ],
      "execution_count": 81,
      "outputs": []
    },
    {
      "cell_type": "code",
      "metadata": {
        "id": "rWmFUqmr9kU0"
      },
      "source": [
        "df2 = pd.DataFrame(new_rows, columns=new_columns) "
      ],
      "execution_count": 82,
      "outputs": []
    },
    {
      "cell_type": "code",
      "metadata": {
        "id": "4ZpFfhGo9kSY",
        "outputId": "7d8f0161-5b82-469d-ff76-7d9764ba69a9",
        "colab": {
          "base_uri": "https://localhost:8080/",
          "height": 380
        }
      },
      "source": [
        "df2.head()"
      ],
      "execution_count": 83,
      "outputs": [
        {
          "output_type": "execute_result",
          "data": {
            "text/html": [
              "<div>\n",
              "<style scoped>\n",
              "    .dataframe tbody tr th:only-of-type {\n",
              "        vertical-align: middle;\n",
              "    }\n",
              "\n",
              "    .dataframe tbody tr th {\n",
              "        vertical-align: top;\n",
              "    }\n",
              "\n",
              "    .dataframe thead th {\n",
              "        text-align: right;\n",
              "    }\n",
              "</style>\n",
              "<table border=\"1\" class=\"dataframe\">\n",
              "  <thead>\n",
              "    <tr style=\"text-align: right;\">\n",
              "      <th></th>\n",
              "      <th>Fighter 1</th>\n",
              "      <th>Fighter 2</th>\n",
              "      <th>Fighter 1 Sig. str</th>\n",
              "      <th>Fighter 2 Sig. str</th>\n",
              "      <th>Fighter 1 Sig. str. %</th>\n",
              "      <th>Fighter 2 Sig. str. %</th>\n",
              "      <th>Fighter 1 Head</th>\n",
              "      <th>Fighter 2 Head</th>\n",
              "      <th>Fighter 1 Body</th>\n",
              "      <th>Fighter 2 Body</th>\n",
              "      <th>Fighter 1 Leg</th>\n",
              "      <th>Fighter 2 Leg</th>\n",
              "      <th>Fighter 1 Distance</th>\n",
              "      <th>Fighter 2 Distance</th>\n",
              "      <th>Fighter 1 Clinch</th>\n",
              "      <th>Fighter 2 Clinch</th>\n",
              "      <th>Fighter 1 Ground</th>\n",
              "      <th>Fighter 2 Ground</th>\n",
              "    </tr>\n",
              "  </thead>\n",
              "  <tbody>\n",
              "    <tr>\n",
              "      <th>0</th>\n",
              "      <td>Brian Ortega</td>\n",
              "      <td>Chan Sung Jung</td>\n",
              "      <td>24 of 39</td>\n",
              "      <td>14 of 26</td>\n",
              "      <td>61%</td>\n",
              "      <td>53%</td>\n",
              "      <td>11 of 24</td>\n",
              "      <td>4 of 15</td>\n",
              "      <td>5 of 6</td>\n",
              "      <td>4 of 5</td>\n",
              "      <td>8 of 9</td>\n",
              "      <td>6 of 6</td>\n",
              "      <td>24 of 39</td>\n",
              "      <td>14 of 26</td>\n",
              "      <td>0 of 0</td>\n",
              "      <td>0 of 0</td>\n",
              "      <td>0 of 0</td>\n",
              "      <td>0 of 0</td>\n",
              "    </tr>\n",
              "    <tr>\n",
              "      <th>1</th>\n",
              "      <td>Brian Ortega</td>\n",
              "      <td>Chan Sung Jung</td>\n",
              "      <td>23 of 37</td>\n",
              "      <td>14 of 34</td>\n",
              "      <td>62%</td>\n",
              "      <td>41%</td>\n",
              "      <td>14 of 25</td>\n",
              "      <td>12 of 31</td>\n",
              "      <td>2 of 4</td>\n",
              "      <td>0 of 1</td>\n",
              "      <td>7 of 8</td>\n",
              "      <td>2 of 2</td>\n",
              "      <td>17 of 29</td>\n",
              "      <td>14 of 34</td>\n",
              "      <td>2 of 2</td>\n",
              "      <td>0 of 0</td>\n",
              "      <td>4 of 6</td>\n",
              "      <td>0 of 0</td>\n",
              "    </tr>\n",
              "    <tr>\n",
              "      <th>2</th>\n",
              "      <td>Brian Ortega</td>\n",
              "      <td>Chan Sung Jung</td>\n",
              "      <td>28 of 42</td>\n",
              "      <td>7 of 32</td>\n",
              "      <td>66%</td>\n",
              "      <td>21%</td>\n",
              "      <td>13 of 25</td>\n",
              "      <td>2 of 23</td>\n",
              "      <td>4 of 4</td>\n",
              "      <td>1 of 3</td>\n",
              "      <td>11 of 13</td>\n",
              "      <td>4 of 6</td>\n",
              "      <td>27 of 41</td>\n",
              "      <td>7 of 32</td>\n",
              "      <td>1 of 1</td>\n",
              "      <td>0 of 0</td>\n",
              "      <td>0 of 0</td>\n",
              "      <td>0 of 0</td>\n",
              "    </tr>\n",
              "    <tr>\n",
              "      <th>3</th>\n",
              "      <td>Brian Ortega</td>\n",
              "      <td>Chan Sung Jung</td>\n",
              "      <td>17 of 35</td>\n",
              "      <td>8 of 26</td>\n",
              "      <td>48%</td>\n",
              "      <td>30%</td>\n",
              "      <td>5 of 18</td>\n",
              "      <td>1 of 18</td>\n",
              "      <td>5 of 6</td>\n",
              "      <td>6 of 7</td>\n",
              "      <td>7 of 11</td>\n",
              "      <td>1 of 1</td>\n",
              "      <td>15 of 33</td>\n",
              "      <td>8 of 26</td>\n",
              "      <td>2 of 2</td>\n",
              "      <td>0 of 0</td>\n",
              "      <td>0 of 0</td>\n",
              "      <td>0 of 0</td>\n",
              "    </tr>\n",
              "    <tr>\n",
              "      <th>4</th>\n",
              "      <td>Brian Ortega</td>\n",
              "      <td>Chan Sung Jung</td>\n",
              "      <td>35 of 59</td>\n",
              "      <td>19 of 45</td>\n",
              "      <td>59%</td>\n",
              "      <td>42%</td>\n",
              "      <td>21 of 43</td>\n",
              "      <td>16 of 40</td>\n",
              "      <td>6 of 8</td>\n",
              "      <td>3 of 5</td>\n",
              "      <td>8 of 8</td>\n",
              "      <td>0 of 0</td>\n",
              "      <td>35 of 57</td>\n",
              "      <td>19 of 44</td>\n",
              "      <td>0 of 2</td>\n",
              "      <td>0 of 1</td>\n",
              "      <td>0 of 0</td>\n",
              "      <td>0 of 0</td>\n",
              "    </tr>\n",
              "  </tbody>\n",
              "</table>\n",
              "</div>"
            ],
            "text/plain": [
              "      Fighter 1       Fighter 2  ... Fighter 1 Ground Fighter 2 Ground\n",
              "0  Brian Ortega  Chan Sung Jung  ...           0 of 0           0 of 0\n",
              "1  Brian Ortega  Chan Sung Jung  ...           4 of 6           0 of 0\n",
              "2  Brian Ortega  Chan Sung Jung  ...           0 of 0           0 of 0\n",
              "3  Brian Ortega  Chan Sung Jung  ...           0 of 0           0 of 0\n",
              "4  Brian Ortega  Chan Sung Jung  ...           0 of 0           0 of 0\n",
              "\n",
              "[5 rows x 18 columns]"
            ]
          },
          "metadata": {
            "tags": []
          },
          "execution_count": 83
        }
      ]
    },
    {
      "cell_type": "code",
      "metadata": {
        "id": "YJ9tbMGa9kQS"
      },
      "source": [
        ""
      ],
      "execution_count": null,
      "outputs": []
    },
    {
      "cell_type": "markdown",
      "metadata": {
        "id": "hYGOutwI-g9H"
      },
      "source": [
        "## Going to future pages"
      ]
    },
    {
      "cell_type": "code",
      "metadata": {
        "id": "UqZSSQ8r-rMm"
      },
      "source": [
        "from urllib.request import urlopen\n",
        "import numpy as np\n",
        "from string import ascii_uppercase\n",
        "from dateutil import parser\n",
        "from datetime import datetime"
      ],
      "execution_count": 140,
      "outputs": []
    },
    {
      "cell_type": "code",
      "metadata": {
        "id": "JOvgx_9Z1SOv"
      },
      "source": [
        "def find_latest_index_with_char(string, chars):\n",
        "    for i in reversed(range(len(string))):\n",
        "        if string[i] in chars:\n",
        "            return i\n",
        "    return -1\n",
        "\n",
        "def get_all_events(all_past_events_url):\n",
        "    all_past_events_page = urlopen(all_past_events_url)\n",
        "    all_past_events_html_bytes = all_past_events_page.read()\n",
        "    all_past_events_html = all_past_events_html_bytes.decode(\"utf-8\")\n",
        "    all_past_events_tables = pd.read_html(all_past_events_url)[0]\n",
        "    all_past_events_tables = all_past_events_tables[all_past_events_tables[\"Name/date\"].notna()]\n",
        "\n",
        "    event_names = []\n",
        "    for i, row in all_past_events_tables.iterrows():\n",
        "        date_index = find_latest_index_with_char(row[\"Name/date\"], ascii_uppercase)\n",
        "        event_name = row[\"Name/date\"][:date_index-1].strip()\n",
        "        date = parser.parse(row[\"Name/date\"][date_index:])\n",
        "        if date < datetime.now():\n",
        "            event_names.append(event_name)\n",
        "\n",
        "    all_http_strings = []\n",
        "    for event_name in event_names:\n",
        "        new_substring = all_past_events_html[:all_past_events_html.index(event_name)]\n",
        "        http_index = new_substring.rfind(\"http://\")\n",
        "        http_string = new_substring[http_index:]\n",
        "        http_string = http_string[:http_string.find(\"\\\"\")]\n",
        "        all_http_strings.append(http_string)\n",
        "    return all_http_strings\n",
        "\n",
        "all_event_http_strings = get_all_events(all_past_events_url)"
      ],
      "execution_count": 142,
      "outputs": []
    },
    {
      "cell_type": "code",
      "metadata": {
        "id": "Q66lyNtAF-Vo",
        "outputId": "4d3affe0-7beb-4361-b888-70d1b8d9c5fa",
        "colab": {
          "base_uri": "https://localhost:8080/",
          "height": 35
        }
      },
      "source": [
        "print(len(all_event_http_strings))"
      ],
      "execution_count": 143,
      "outputs": [
        {
          "output_type": "stream",
          "text": [
            "537\n"
          ],
          "name": "stdout"
        }
      ]
    },
    {
      "cell_type": "code",
      "metadata": {
        "id": "2nDi4mo6CLn_"
      },
      "source": [
        "def get_all_fights(past_event_url):\n",
        "    past_event_page = urlopen(past_event_url)\n",
        "    past_event_html_bytes = past_event_page.read()\n",
        "    past_event_html = past_event_html_bytes.decode(\"utf-8\")\n",
        "    past_event_tables = pd.read_html(past_event_url)[0]\n",
        "\n",
        "    body = past_event_html[past_event_html.index(\"<body \"):]\n",
        "    results = [row[\"W/L\"] for i, row in past_event_tables.iterrows()]\n",
        "    fight_http_strings = []\n",
        "    for result in results:\n",
        "        result = result.split(' ')[0]\n",
        "        before_result = body[:body.index(result)]\n",
        "        begin = before_result[before_result.rfind(\"http://\"):]\n",
        "        http = begin[:begin.find(\"\\\"\")]\n",
        "        fight_http_strings.append(http)\n",
        "        body = body[body.index(result)+len(result):]\n",
        "    return fight_http_strings\n",
        "\n",
        "fight_http_strings = get_all_fights(all_event_http_strings[0])"
      ],
      "execution_count": 155,
      "outputs": []
    },
    {
      "cell_type": "code",
      "metadata": {
        "id": "CyqDscIJCzuV",
        "outputId": "80ee245e-e7ad-4cdd-a9e3-9f2423db2a15",
        "colab": {
          "base_uri": "https://localhost:8080/",
          "height": 35
        }
      },
      "source": [
        "print(len(fight_http_strings))"
      ],
      "execution_count": 156,
      "outputs": [
        {
          "output_type": "stream",
          "text": [
            "12\n"
          ],
          "name": "stdout"
        }
      ]
    },
    {
      "cell_type": "code",
      "metadata": {
        "id": "DHK3VsS0RWXT"
      },
      "source": [
        "from tqdm import tqdm"
      ],
      "execution_count": 159,
      "outputs": []
    },
    {
      "cell_type": "code",
      "metadata": {
        "id": "qb03QO4iQyS3",
        "outputId": "c17c8ab5-5ed6-4687-fdb1-c59d1df894d5",
        "colab": {
          "base_uri": "https://localhost:8080/",
          "height": 35
        }
      },
      "source": [
        "all_fight_http_strings = []\n",
        "for event_http_string in tqdm(all_event_http_strings):\n",
        "    fight_http_strings = get_all_fights(event_http_string)\n",
        "    all_fight_http_strings.extend(fight_http_strings)"
      ],
      "execution_count": 160,
      "outputs": [
        {
          "output_type": "stream",
          "text": [
            "100%|██████████| 537/537 [04:15<00:00,  2.10it/s]\n"
          ],
          "name": "stderr"
        }
      ]
    },
    {
      "cell_type": "code",
      "metadata": {
        "id": "XmMqaZYvRM6y",
        "outputId": "8af61602-4f7c-415b-c891-04a3e1710593",
        "colab": {
          "base_uri": "https://localhost:8080/",
          "height": 35
        }
      },
      "source": [
        "print(len(all_fight_http_strings))"
      ],
      "execution_count": 161,
      "outputs": [
        {
          "output_type": "stream",
          "text": [
            "5839\n"
          ],
          "name": "stdout"
        }
      ]
    },
    {
      "cell_type": "code",
      "metadata": {
        "id": "_KC8TRhZSW58"
      },
      "source": [
        "def get_fighters(fight_table, all_fighters_table):\n",
        "    for i, row in all_fighters_tables.iterrows():\n",
        "        fighter_name = f'{row[\"First\"]} {row[\"Last\"]}'\n",
        "        if fight_table[\"Fighter\"][0].startswith(fighter_name):\n",
        "            first_fighter = fighter_name\n",
        "            second_fighter = fight_table[\"Fighter\"][0][len(fighter_name)+1:]\n",
        "            print(f\"First fighter is {first_fighter}\")\n",
        "            print(f'Second fighter is {second_fighter}')\n",
        "            break\n",
        "    return first_fighter, second_fighter"
      ],
      "execution_count": 181,
      "outputs": []
    },
    {
      "cell_type": "code",
      "metadata": {
        "id": "ORlZYocyRO4M"
      },
      "source": [
        "def process_fight(fight_url):\n",
        "    fight_tables = pd.read_html(fight_url)\n",
        "    fight_table = fight_tables[1]\n",
        "    fighter1, fighter2 = get_fighters(fight_tables[0], all_fighters_table)\n",
        "    \n",
        "    new_columns = [\"Fighter 1\", \"Fighter 2\"]\n",
        "    for i, column in enumerate(fight_table):\n",
        "        if column[0] == \"Fighter\":\n",
        "            continue\n",
        "        new_columns.append(f\"Fighter 1 {column[0]}\")\n",
        "        new_columns.append(f\"Fighter 2 {column[0]}\")\n",
        "\n",
        "    new_rows = []\n",
        "    for i, row in fight_table.iterrows():\n",
        "        new_row = []\n",
        "        new_row.append(fighter1)\n",
        "        new_row.append(fighter2)\n",
        "        for column in fight_table:\n",
        "            if column[0] == \"Fighter\":\n",
        "                continue\n",
        "            stat1, stat2 = parse_string(row[column[0]][0])\n",
        "            new_row.append(stat1)\n",
        "            new_row.append(stat2)\n",
        "        new_rows.append(new_row)\n",
        "\n",
        "    df = pd.DataFrame(new_rows, columns=new_columns)\n",
        "    return df "
      ],
      "execution_count": 184,
      "outputs": []
    },
    {
      "cell_type": "code",
      "metadata": {
        "id": "VvvTiy7ZTJLr",
        "outputId": "2788d830-f270-4519-926f-e58cf75862ff",
        "colab": {
          "base_uri": "https://localhost:8080/",
          "height": 163
        }
      },
      "source": [
        "process_fight(all_fight_http_strings[8])"
      ],
      "execution_count": 188,
      "outputs": [
        {
          "output_type": "stream",
          "text": [
            "First fighter is Alex Oliveira\n",
            "Second fighter is Shavkat Rakhmonov\n"
          ],
          "name": "stdout"
        },
        {
          "output_type": "execute_result",
          "data": {
            "text/html": [
              "<div>\n",
              "<style scoped>\n",
              "    .dataframe tbody tr th:only-of-type {\n",
              "        vertical-align: middle;\n",
              "    }\n",
              "\n",
              "    .dataframe tbody tr th {\n",
              "        vertical-align: top;\n",
              "    }\n",
              "\n",
              "    .dataframe thead th {\n",
              "        text-align: right;\n",
              "    }\n",
              "</style>\n",
              "<table border=\"1\" class=\"dataframe\">\n",
              "  <thead>\n",
              "    <tr style=\"text-align: right;\">\n",
              "      <th></th>\n",
              "      <th>Fighter 1</th>\n",
              "      <th>Fighter 2</th>\n",
              "      <th>Fighter 1 KD</th>\n",
              "      <th>Fighter 2 KD</th>\n",
              "      <th>Fighter 1 Sig. str.</th>\n",
              "      <th>Fighter 2 Sig. str.</th>\n",
              "      <th>Fighter 1 Sig. str. %</th>\n",
              "      <th>Fighter 2 Sig. str. %</th>\n",
              "      <th>Fighter 1 Total str.</th>\n",
              "      <th>Fighter 2 Total str.</th>\n",
              "      <th>Fighter 1 Td %</th>\n",
              "      <th>Fighter 2 Td %</th>\n",
              "      <th>Fighter 1 Td %</th>\n",
              "      <th>Fighter 2 Td %</th>\n",
              "      <th>Fighter 1 Sub. att</th>\n",
              "      <th>Fighter 2 Sub. att</th>\n",
              "      <th>Fighter 1 Rev.</th>\n",
              "      <th>Fighter 2 Rev.</th>\n",
              "      <th>Fighter 1 Ctrl</th>\n",
              "      <th>Fighter 2 Ctrl</th>\n",
              "    </tr>\n",
              "  </thead>\n",
              "  <tbody>\n",
              "    <tr>\n",
              "      <th>0</th>\n",
              "      <td>Alex Oliveira</td>\n",
              "      <td>Shavkat Rakhmonov</td>\n",
              "      <td>0</td>\n",
              "      <td>0</td>\n",
              "      <td>9 of 18</td>\n",
              "      <td>13 of 25</td>\n",
              "      <td>50%</td>\n",
              "      <td>52%</td>\n",
              "      <td>16 of 26</td>\n",
              "      <td>32 of 44</td>\n",
              "      <td>0 of 2</td>\n",
              "      <td>0 of 2</td>\n",
              "      <td>0 of 2</td>\n",
              "      <td>0 of 2</td>\n",
              "      <td>0</td>\n",
              "      <td>1</td>\n",
              "      <td>0</td>\n",
              "      <td>0</td>\n",
              "      <td>2:04</td>\n",
              "      <td>0:44</td>\n",
              "    </tr>\n",
              "  </tbody>\n",
              "</table>\n",
              "</div>"
            ],
            "text/plain": [
              "       Fighter 1          Fighter 2  ... Fighter 1 Ctrl Fighter 2 Ctrl\n",
              "0  Alex Oliveira  Shavkat Rakhmonov  ...           2:04           0:44\n",
              "\n",
              "[1 rows x 20 columns]"
            ]
          },
          "metadata": {
            "tags": []
          },
          "execution_count": 188
        }
      ]
    },
    {
      "cell_type": "code",
      "metadata": {
        "id": "oywK53ERTaMz"
      },
      "source": [
        ""
      ],
      "execution_count": null,
      "outputs": []
    }
  ]
}