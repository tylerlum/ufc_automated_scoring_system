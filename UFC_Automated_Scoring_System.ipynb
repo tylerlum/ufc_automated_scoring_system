{
  "nbformat": 4,
  "nbformat_minor": 0,
  "metadata": {
    "colab": {
      "name": "UFC_Automated_Scoring_System.ipynb",
      "provenance": [],
      "collapsed_sections": [],
      "authorship_tag": "ABX9TyMguYjICxP3wPoBlBP4rEWt",
      "include_colab_link": true
    },
    "kernelspec": {
      "name": "python3",
      "display_name": "Python 3"
    }
  },
  "cells": [
    {
      "cell_type": "markdown",
      "metadata": {
        "id": "view-in-github",
        "colab_type": "text"
      },
      "source": [
        "<a href=\"https://colab.research.google.com/github/tylerlum/ufc_automated_scoring_system/blob/main/UFC_Automated_Scoring_System.ipynb\" target=\"_parent\"><img src=\"https://colab.research.google.com/assets/colab-badge.svg\" alt=\"Open In Colab\"/></a>"
      ]
    },
    {
      "cell_type": "markdown",
      "metadata": {
        "id": "TPiJGcdUYaoU"
      },
      "source": [
        "# UFC Automated Scoring System\n",
        "\n",
        "The goal of this notebook is to:\n",
        "* Explore the FightMetrics webpage to scrape the fight and fighter information we need\n",
        "* Store the fight and fighter data into csv files\n",
        "* Preprocess the data\n",
        "* Train and evaluate a neural network to predict fight outcomes"
      ]
    },
    {
      "cell_type": "markdown",
      "metadata": {
        "id": "7897ryXiaoCv"
      },
      "source": [
        "## All bouts and all fighters"
      ]
    },
    {
      "cell_type": "code",
      "metadata": {
        "id": "ioQESt2oZPXz"
      },
      "source": [
        "import pandas as pd\n",
        "from tqdm import tqdm"
      ],
      "execution_count": null,
      "outputs": []
    },
    {
      "cell_type": "code",
      "metadata": {
        "id": "0WtkXEs0LNry"
      },
      "source": [
        "def get_all_fighter_tables():\n",
        "  '''Get pandas table of all UFC fighters'''\n",
        "  from string import ascii_lowercase\n",
        "\n",
        "  all_fighters_tables = []\n",
        "  for c in tqdm(ascii_lowercase):\n",
        "    all_fighters_url = f\"http://ufcstats.com/statistics/fighters?char={c}&page=all\"\n",
        "    all_fighters_table = pd.read_html(all_fighters_url)[0]\n",
        "    all_fighters_tables.append(all_fighters_table)\n",
        "\n",
        "  all_fighters_tables = pd.concat(all_fighters_tables)\n",
        "  return all_fighters_tables"
      ],
      "execution_count": null,
      "outputs": []
    },
    {
      "cell_type": "code",
      "metadata": {
        "id": "AkCCSiuUa4lu",
        "colab": {
          "base_uri": "https://localhost:8080/"
        },
        "outputId": "55d33e1f-c988-489d-a74f-218b4831f9ce"
      },
      "source": [
        "ALL_FIGHTER_TABLES = get_all_fighter_tables()"
      ],
      "execution_count": null,
      "outputs": [
        {
          "output_type": "stream",
          "text": [
            "100%|██████████| 26/26 [00:18<00:00,  1.41it/s]\n"
          ],
          "name": "stderr"
        }
      ]
    },
    {
      "cell_type": "code",
      "metadata": {
        "colab": {
          "base_uri": "https://localhost:8080/",
          "height": 195
        },
        "id": "jgTD66DJNV41",
        "outputId": "375eddd1-d158-42cd-a26a-fa8397db7638"
      },
      "source": [
        "ALL_FIGHTER_TABLES.head()"
      ],
      "execution_count": null,
      "outputs": [
        {
          "output_type": "execute_result",
          "data": {
            "text/html": [
              "<div>\n",
              "<style scoped>\n",
              "    .dataframe tbody tr th:only-of-type {\n",
              "        vertical-align: middle;\n",
              "    }\n",
              "\n",
              "    .dataframe tbody tr th {\n",
              "        vertical-align: top;\n",
              "    }\n",
              "\n",
              "    .dataframe thead th {\n",
              "        text-align: right;\n",
              "    }\n",
              "</style>\n",
              "<table border=\"1\" class=\"dataframe\">\n",
              "  <thead>\n",
              "    <tr style=\"text-align: right;\">\n",
              "      <th></th>\n",
              "      <th>First</th>\n",
              "      <th>Last</th>\n",
              "      <th>Nickname</th>\n",
              "      <th>Ht.</th>\n",
              "      <th>Wt.</th>\n",
              "      <th>Reach</th>\n",
              "      <th>Stance</th>\n",
              "      <th>W</th>\n",
              "      <th>L</th>\n",
              "      <th>D</th>\n",
              "      <th>Belt</th>\n",
              "    </tr>\n",
              "  </thead>\n",
              "  <tbody>\n",
              "    <tr>\n",
              "      <th>0</th>\n",
              "      <td>NaN</td>\n",
              "      <td>NaN</td>\n",
              "      <td>NaN</td>\n",
              "      <td>NaN</td>\n",
              "      <td>NaN</td>\n",
              "      <td>NaN</td>\n",
              "      <td>NaN</td>\n",
              "      <td>NaN</td>\n",
              "      <td>NaN</td>\n",
              "      <td>NaN</td>\n",
              "      <td>NaN</td>\n",
              "    </tr>\n",
              "    <tr>\n",
              "      <th>1</th>\n",
              "      <td>Tom</td>\n",
              "      <td>Aaron</td>\n",
              "      <td>NaN</td>\n",
              "      <td>--</td>\n",
              "      <td>155 lbs.</td>\n",
              "      <td>--</td>\n",
              "      <td>NaN</td>\n",
              "      <td>5.0</td>\n",
              "      <td>3.0</td>\n",
              "      <td>0.0</td>\n",
              "      <td>NaN</td>\n",
              "    </tr>\n",
              "    <tr>\n",
              "      <th>2</th>\n",
              "      <td>Danny</td>\n",
              "      <td>Abbadi</td>\n",
              "      <td>The Assassin</td>\n",
              "      <td>5' 11\"</td>\n",
              "      <td>155 lbs.</td>\n",
              "      <td>--</td>\n",
              "      <td>Orthodox</td>\n",
              "      <td>4.0</td>\n",
              "      <td>6.0</td>\n",
              "      <td>0.0</td>\n",
              "      <td>NaN</td>\n",
              "    </tr>\n",
              "    <tr>\n",
              "      <th>3</th>\n",
              "      <td>David</td>\n",
              "      <td>Abbott</td>\n",
              "      <td>Tank</td>\n",
              "      <td>6' 0\"</td>\n",
              "      <td>265 lbs.</td>\n",
              "      <td>--</td>\n",
              "      <td>Switch</td>\n",
              "      <td>10.0</td>\n",
              "      <td>15.0</td>\n",
              "      <td>0.0</td>\n",
              "      <td>NaN</td>\n",
              "    </tr>\n",
              "    <tr>\n",
              "      <th>4</th>\n",
              "      <td>Shamil</td>\n",
              "      <td>Abdurakhimov</td>\n",
              "      <td>Abrek</td>\n",
              "      <td>6' 3\"</td>\n",
              "      <td>235 lbs.</td>\n",
              "      <td>76.0\"</td>\n",
              "      <td>Orthodox</td>\n",
              "      <td>20.0</td>\n",
              "      <td>5.0</td>\n",
              "      <td>0.0</td>\n",
              "      <td>NaN</td>\n",
              "    </tr>\n",
              "  </tbody>\n",
              "</table>\n",
              "</div>"
            ],
            "text/plain": [
              "    First          Last      Nickname     Ht.  ...     W     L    D  Belt\n",
              "0     NaN           NaN           NaN     NaN  ...   NaN   NaN  NaN   NaN\n",
              "1     Tom         Aaron           NaN      --  ...   5.0   3.0  0.0   NaN\n",
              "2   Danny        Abbadi  The Assassin  5' 11\"  ...   4.0   6.0  0.0   NaN\n",
              "3   David        Abbott          Tank   6' 0\"  ...  10.0  15.0  0.0   NaN\n",
              "4  Shamil  Abdurakhimov         Abrek   6' 3\"  ...  20.0   5.0  0.0   NaN\n",
              "\n",
              "[5 rows x 11 columns]"
            ]
          },
          "metadata": {
            "tags": []
          },
          "execution_count": 4
        }
      ]
    },
    {
      "cell_type": "markdown",
      "metadata": {
        "id": "hYGOutwI-g9H"
      },
      "source": [
        "## Going to future pages"
      ]
    },
    {
      "cell_type": "code",
      "metadata": {
        "id": "UqZSSQ8r-rMm"
      },
      "source": [
        "from urllib.request import urlopen\n",
        "import numpy as np\n",
        "from string import ascii_uppercase\n",
        "from dateutil import parser\n",
        "from datetime import datetime\n",
        "import pandas as pd\n",
        "from tqdm import tqdm"
      ],
      "execution_count": null,
      "outputs": []
    },
    {
      "cell_type": "code",
      "metadata": {
        "id": "t-X7tWV_NiBo"
      },
      "source": [
        "ALL_PAST_EVENTS_URL = \"http://ufcstats.com/statistics/events/completed?page=all\""
      ],
      "execution_count": null,
      "outputs": []
    },
    {
      "cell_type": "code",
      "metadata": {
        "id": "JOvgx_9Z1SOv"
      },
      "source": [
        "def get_all_events(all_past_events_url):\n",
        "    '''Takes in URL to all past events. Returns list of http strings, each one representing a UFC event'''\n",
        "    def find_latest_index_with_char(string, chars):\n",
        "        for i in reversed(range(len(string))):\n",
        "            if string[i] in chars:\n",
        "                return i\n",
        "        return -1\n",
        "\n",
        "    all_past_events_page = urlopen(all_past_events_url)\n",
        "    all_past_events_html_bytes = all_past_events_page.read()\n",
        "    all_past_events_html = all_past_events_html_bytes.decode(\"utf-8\")\n",
        "    all_past_events_tables = pd.read_html(all_past_events_url)[0]\n",
        "    all_past_events_tables = all_past_events_tables[all_past_events_tables[\"Name/date\"].notna()]\n",
        "\n",
        "    event_names = []\n",
        "    for i, row in all_past_events_tables.iterrows():\n",
        "        date_index = find_latest_index_with_char(row[\"Name/date\"], ascii_uppercase)\n",
        "        event_name = row[\"Name/date\"][:date_index-1].strip()\n",
        "        date = parser.parse(row[\"Name/date\"][date_index:])\n",
        "        if date < datetime.now():\n",
        "            event_names.append(event_name)\n",
        "\n",
        "    all_http_strings = []\n",
        "    for event_name in event_names:\n",
        "        new_substring = all_past_events_html[:all_past_events_html.index(event_name)]\n",
        "        http_index = new_substring.rfind(\"http://\")\n",
        "        http_string = new_substring[http_index:]\n",
        "        http_string = http_string[:http_string.find(\"\\\"\")]\n",
        "        all_http_strings.append(http_string)\n",
        "    return all_http_strings"
      ],
      "execution_count": null,
      "outputs": []
    },
    {
      "cell_type": "code",
      "metadata": {
        "id": "_KC8TRhZSW58"
      },
      "source": [
        "def get_fighters(fighters_string, all_fighter_tables):\n",
        "    '''Parses string containing two fighter names. Uses all_fighter_tables to remove ambiguity in parsing. Returns each fighter name'''\n",
        "    for i, row in all_fighter_tables.iterrows():\n",
        "        fighter_name = f'{row[\"First\"]} {row[\"Last\"]}'\n",
        "        if fighters_string.startswith(fighter_name):\n",
        "            first_fighter = fighter_name\n",
        "            second_fighter = fighters_string[len(fighter_name)+1:]\n",
        "            break\n",
        "    return first_fighter, second_fighter"
      ],
      "execution_count": null,
      "outputs": []
    },
    {
      "cell_type": "code",
      "metadata": {
        "id": "2nDi4mo6CLn_"
      },
      "source": [
        "def get_all_fights_in_event(past_event_url, get_results=False):\n",
        "    '''Takes in a single URL to a past event. Returns list of http strings, each one representing a UFC fight'''\n",
        "    past_event_page = urlopen(past_event_url)\n",
        "    past_event_html_bytes = past_event_page.read()\n",
        "    past_event_html = past_event_html_bytes.decode(\"utf-8\")\n",
        "    past_event_tables = pd.read_html(past_event_url)[0]\n",
        "\n",
        "    body = past_event_html[past_event_html.index(\"<body \"):]\n",
        "    fight_http_strings = []\n",
        "    for i, row in past_event_tables.iterrows():\n",
        "        result = row[\"W/L\"].split(' ')[0]\n",
        "        before_result = body[:body.index(result)]\n",
        "        begin = before_result[before_result.rfind(\"http://\"):]\n",
        "        http = begin[:begin.find(\"\\\"\")]\n",
        "        if get_results:\n",
        "            if result != \"win\": \n",
        "                fight_http_strings.append((http, None))\n",
        "            else:\n",
        "                winner, loser = get_fighters(row[\"Fighter\"], ALL_FIGHTER_TABLES)\n",
        "                fight_http_strings.append((http, winner))\n",
        "        else:\n",
        "            fight_http_strings.append(http)\n",
        "        body = body[body.index(result)+len(result):]\n",
        "    return fight_http_strings"
      ],
      "execution_count": null,
      "outputs": []
    },
    {
      "cell_type": "code",
      "metadata": {
        "id": "7_pNUnyMPxkM"
      },
      "source": [
        "def get_all_fights(all_event_http_strings, num_events=10):\n",
        "    '''Takes in list of URLs to past events. Returns list of http strings, each one representing a UFC fight'''\n",
        "    all_fight_http_strings = []\n",
        "    for i, event_http_string in enumerate(tqdm(all_event_http_strings)):\n",
        "        if i == num_events:\n",
        "            break\n",
        "        fight_http_strings = get_all_fights_in_event(event_http_string, get_results=True)\n",
        "        all_fight_http_strings.extend(fight_http_strings)\n",
        "    return all_fight_http_strings"
      ],
      "execution_count": null,
      "outputs": []
    },
    {
      "cell_type": "code",
      "metadata": {
        "id": "ORlZYocyRO4M"
      },
      "source": [
        "def process_fight(fight_url):\n",
        "    '''Takes in a URL to a fight. Returns a pandas dataframe representing the fight statistics'''\n",
        "    def parse_string(row_string):\n",
        "        string_split = row_string.split(\" \")\n",
        "        first_fighter_stat = \" \".join(string_split[:len(string_split)//2])\n",
        "        second_fighter_stat = \" \".join(string_split[len(string_split)//2+1:])\n",
        "        return first_fighter_stat, second_fighter_stat\n",
        "\n",
        "    # Read in stat tables\n",
        "    fight_tables = pd.read_html(fight_url)\n",
        "\n",
        "    # There are multiple tables of data\n",
        "    # rbr = round by round\n",
        "    summary_table, rbr_summary_table, strike_location_table, rbr_strike_location_table = fight_tables\n",
        "\n",
        "    fighters_string = summary_table[\"Fighter\"][0]\n",
        "    print(fighters_string)\n",
        "    fighter1, fighter2 = get_fighters(fighters_string, ALL_FIGHTER_TABLES)\n",
        "    \n",
        "    new_columns = [\"Fighter 1 Name\", \"Fighter 2 Name\"]\n",
        "    for column in summary_table.columns:\n",
        "        if column == \"Fighter\":\n",
        "            continue\n",
        "        new_columns.append(f\"Fighter 1 {column}\")\n",
        "        new_columns.append(f\"Fighter 2 {column}\")\n",
        "    print(new_columns)\n",
        "\n",
        "    new_rows = []\n",
        "    for i, row in summary_table.iterrows():\n",
        "        new_row = []\n",
        "        new_row.append(fighter1)\n",
        "        new_row.append(fighter2)\n",
        "        for column in summary_table.columns:\n",
        "            if column == \"Fighter\":\n",
        "                continue\n",
        "            stat1, stat2 = parse_string(row[column])\n",
        "            stat1Space = stat1.index(' ') if ' ' in stat1 else -1\n",
        "            stat2Space = stat2.index(' ') if ' ' in stat2 else -1\n",
        "            if stat1Space != -1:\n",
        "                stat1 = stat1[:stat1Space]\n",
        "            if stat2Space != -1:\n",
        "                stat2 = stat2[:stat2Space]\n",
        "            new_row.append(stat1)\n",
        "            new_row.append(stat2)\n",
        "\n",
        "        new_rows.append(new_row)\n",
        "\n",
        "    df = pd.DataFrame(new_rows, columns=new_columns)\n",
        "    new_df = df.select_dtypes([np.number])\n",
        "    new_df['Fighter 1 Name'] = df['Fighter 1 Name']\n",
        "    new_df['Fighter 2 Name'] = df['Fighter 2 Name']\n",
        "    print(new_df.head())\n",
        "    return df "
      ],
      "execution_count": null,
      "outputs": []
    },
    {
      "cell_type": "code",
      "metadata": {
        "id": "5oIdF2niZpag"
      },
      "source": [
        "def convert_fight_url_to_datapoint(fight_urls):\n",
        "    '''Takes in list of URLS, each representing a fight. Returns datapoints'''\n",
        "    fight_http_string, winner = FIGHT_HTTP_STRINGS[0]\n",
        "    fight_table = process_fight(fight_http_string)\n",
        "    if winner is None:\n",
        "        label = 0\n",
        "    elif fight_table[\"Fighter 1 Name\"] == winner:\n",
        "        label = 1\n",
        "    elif fight_table[\"Fighter 2 Name\"] == winner:\n",
        "        label = -1\n",
        "    else:\n",
        "        print(f'ERROR: fight_table[\"Fighter 1 Name\"]={fight_table[\"Fighter 1 Name\"]}, fight_table[\"Fighter 2 Name\"]={fight_table[\"Fighter 2 Name\"]}, winner={winner}')\n",
        "    # fight_table['Result'] = label\n",
        "    return fight_table"
      ],
      "execution_count": null,
      "outputs": []
    },
    {
      "cell_type": "code",
      "metadata": {
        "id": "Q66lyNtAF-Vo",
        "colab": {
          "base_uri": "https://localhost:8080/"
        },
        "outputId": "fa6c4807-85b8-49c7-cdc9-bc535128dca4"
      },
      "source": [
        "# Events\n",
        "ALL_EVENT_HTTP_STRINGS = get_all_events(ALL_PAST_EVENTS_URL)\n",
        "print(f\"Got {len(ALL_EVENT_HTTP_STRINGS)} events\")\n",
        "\n",
        "# Fights\n",
        "FIGHT_HTTP_STRINGS = get_all_fights(ALL_EVENT_HTTP_STRINGS, num_events=5)\n",
        "print(f\"Got {len(FIGHT_HTTP_STRINGS)} fights\")"
      ],
      "execution_count": null,
      "outputs": [
        {
          "output_type": "stream",
          "text": [
            "\r  0%|          | 0/558 [00:00<?, ?it/s]"
          ],
          "name": "stderr"
        },
        {
          "output_type": "stream",
          "text": [
            "Got 558 events\n"
          ],
          "name": "stdout"
        },
        {
          "output_type": "stream",
          "text": [
            "  1%|          | 5/558 [00:10<18:17,  1.98s/it]"
          ],
          "name": "stderr"
        },
        {
          "output_type": "stream",
          "text": [
            "Got 56 fights\n"
          ],
          "name": "stdout"
        }
      ]
    },
    {
      "cell_type": "code",
      "metadata": {
        "colab": {
          "base_uri": "https://localhost:8080/",
          "height": 394
        },
        "id": "fGFPbHAeaPXi",
        "outputId": "16ae1d0b-5704-4d5a-d482-e8d7f8bbb0f3"
      },
      "source": [
        "x = convert_fight_url_to_datapoint(FIGHT_HTTP_STRINGS)\n",
        "x.head()"
      ],
      "execution_count": null,
      "outputs": [
        {
          "output_type": "stream",
          "text": [
            "Robert Whittaker Kelvin Gastelum\n",
            "['Fighter 1 Name', 'Fighter 2 Name', 'Fighter 1 KD', 'Fighter 2 KD', 'Fighter 1 Sig. str.', 'Fighter 2 Sig. str.', 'Fighter 1 Sig. str. %', 'Fighter 2 Sig. str. %', 'Fighter 1 Total str.', 'Fighter 2 Total str.', 'Fighter 1 Td', 'Fighter 2 Td', 'Fighter 1 Td %', 'Fighter 2 Td %', 'Fighter 1 Sub. att', 'Fighter 2 Sub. att', 'Fighter 1 Rev.', 'Fighter 2 Rev.', 'Fighter 1 Ctrl', 'Fighter 2 Ctrl']\n",
            "     Fighter 1 Name   Fighter 2 Name\n",
            "0  Robert Whittaker  Kelvin Gastelum\n"
          ],
          "name": "stdout"
        },
        {
          "output_type": "stream",
          "text": [
            "/usr/local/lib/python3.7/dist-packages/ipykernel_launcher.py:50: SettingWithCopyWarning: \n",
            "A value is trying to be set on a copy of a slice from a DataFrame.\n",
            "Try using .loc[row_indexer,col_indexer] = value instead\n",
            "\n",
            "See the caveats in the documentation: https://pandas.pydata.org/pandas-docs/stable/user_guide/indexing.html#returning-a-view-versus-a-copy\n",
            "/usr/local/lib/python3.7/dist-packages/ipykernel_launcher.py:51: SettingWithCopyWarning: \n",
            "A value is trying to be set on a copy of a slice from a DataFrame.\n",
            "Try using .loc[row_indexer,col_indexer] = value instead\n",
            "\n",
            "See the caveats in the documentation: https://pandas.pydata.org/pandas-docs/stable/user_guide/indexing.html#returning-a-view-versus-a-copy\n"
          ],
          "name": "stderr"
        },
        {
          "output_type": "execute_result",
          "data": {
            "text/html": [
              "<div>\n",
              "<style scoped>\n",
              "    .dataframe tbody tr th:only-of-type {\n",
              "        vertical-align: middle;\n",
              "    }\n",
              "\n",
              "    .dataframe tbody tr th {\n",
              "        vertical-align: top;\n",
              "    }\n",
              "\n",
              "    .dataframe thead th {\n",
              "        text-align: right;\n",
              "    }\n",
              "</style>\n",
              "<table border=\"1\" class=\"dataframe\">\n",
              "  <thead>\n",
              "    <tr style=\"text-align: right;\">\n",
              "      <th></th>\n",
              "      <th>Fighter 1 Name</th>\n",
              "      <th>Fighter 2 Name</th>\n",
              "      <th>Fighter 1 KD</th>\n",
              "      <th>Fighter 2 KD</th>\n",
              "      <th>Fighter 1 Sig. str.</th>\n",
              "      <th>Fighter 2 Sig. str.</th>\n",
              "      <th>Fighter 1 Sig. str. %</th>\n",
              "      <th>Fighter 2 Sig. str. %</th>\n",
              "      <th>Fighter 1 Total str.</th>\n",
              "      <th>Fighter 2 Total str.</th>\n",
              "      <th>Fighter 1 Td</th>\n",
              "      <th>Fighter 2 Td</th>\n",
              "      <th>Fighter 1 Td %</th>\n",
              "      <th>Fighter 2 Td %</th>\n",
              "      <th>Fighter 1 Sub. att</th>\n",
              "      <th>Fighter 2 Sub. att</th>\n",
              "      <th>Fighter 1 Rev.</th>\n",
              "      <th>Fighter 2 Rev.</th>\n",
              "      <th>Fighter 1 Ctrl</th>\n",
              "      <th>Fighter 2 Ctrl</th>\n",
              "    </tr>\n",
              "  </thead>\n",
              "  <tbody>\n",
              "    <tr>\n",
              "      <th>0</th>\n",
              "      <td>Robert Whittaker</td>\n",
              "      <td>Kelvin Gastelum</td>\n",
              "      <td>0</td>\n",
              "      <td>0</td>\n",
              "      <td>150</td>\n",
              "      <td>62</td>\n",
              "      <td>52%</td>\n",
              "      <td>29%</td>\n",
              "      <td>169</td>\n",
              "      <td>70</td>\n",
              "      <td>4</td>\n",
              "      <td>1</td>\n",
              "      <td>57%</td>\n",
              "      <td>20%</td>\n",
              "      <td>0</td>\n",
              "      <td>0</td>\n",
              "      <td>0</td>\n",
              "      <td>0</td>\n",
              "      <td>4:19</td>\n",
              "      <td>0:26</td>\n",
              "    </tr>\n",
              "  </tbody>\n",
              "</table>\n",
              "</div>"
            ],
            "text/plain": [
              "     Fighter 1 Name   Fighter 2 Name  ... Fighter 1 Ctrl Fighter 2 Ctrl\n",
              "0  Robert Whittaker  Kelvin Gastelum  ...           4:19           0:26\n",
              "\n",
              "[1 rows x 20 columns]"
            ]
          },
          "metadata": {
            "tags": []
          },
          "execution_count": 28
        }
      ]
    }
  ]
}