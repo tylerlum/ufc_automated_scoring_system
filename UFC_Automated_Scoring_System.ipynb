{
  "nbformat": 4,
  "nbformat_minor": 0,
  "metadata": {
    "colab": {
      "name": "UFC_Automated_Scoring_System.ipynb",
      "provenance": [],
      "collapsed_sections": [],
      "authorship_tag": "ABX9TyMUi3PtHrSjj2l2tGBVDOOr",
      "include_colab_link": true
    },
    "kernelspec": {
      "name": "python3",
      "display_name": "Python 3"
    }
  },
  "cells": [
    {
      "cell_type": "markdown",
      "metadata": {
        "id": "view-in-github",
        "colab_type": "text"
      },
      "source": [
        "<a href=\"https://colab.research.google.com/github/tylerlum/ufc_automated_scoring_system/blob/main/UFC_Automated_Scoring_System.ipynb\" target=\"_parent\"><img src=\"https://colab.research.google.com/assets/colab-badge.svg\" alt=\"Open In Colab\"/></a>"
      ]
    },
    {
      "cell_type": "markdown",
      "metadata": {
        "id": "TPiJGcdUYaoU"
      },
      "source": [
        "# UFC Automated Scoring System\n",
        "\n",
        "The goal of this notebook is to:\n",
        "* Explore the FightMetrics webpage to scrape the fight and fighter information we need\n",
        "* Store the fight and fighter data into csv files\n",
        "* Preprocess the data\n",
        "* Train and evaluate a neural network to predict fight outcomes\n",
        "\n",
        "Still functional as of April 2021"
      ]
    },
    {
      "cell_type": "markdown",
      "metadata": {
        "id": "Qx-IhTkrwliQ"
      },
      "source": [
        "## Set parameters for dataset creation\n",
        "\n",
        "NUM_EVENTS: Integer number of UFC events to get fights from or \"All\" for all events. There are about 10 fights per event.\n",
        "\n",
        "DATA_MODE: Either \"Summary\" or \"Round by Round\". Either get data with columns that are summaries of the whole fight, or summaries round-by-round (more columns)."
      ]
    },
    {
      "cell_type": "code",
      "metadata": {
        "id": "tYkaAlJNfhul",
        "cellView": "form"
      },
      "source": [
        "NUM_EVENTS = \"All\"  #@param {type:\"string\"}\n",
        "DATA_MODE = \"Summary\"  #@param {type:\"string\"}\n",
        "NUM_EVENTS = None if NUM_EVENTS == \"All\" else int(NUM_EVENTS)\n",
        "ROUND_BY_ROUND = (DATA_MODE == \"Round by Round\")"
      ],
      "execution_count": 1,
      "outputs": []
    },
    {
      "cell_type": "markdown",
      "metadata": {
        "id": "7897ryXiaoCv"
      },
      "source": [
        "## Get information about all fighters"
      ]
    },
    {
      "cell_type": "code",
      "metadata": {
        "id": "ioQESt2oZPXz"
      },
      "source": [
        "import pandas as pd\n",
        "from tqdm import tqdm\n",
        "import numpy as np\n",
        "import re"
      ],
      "execution_count": 2,
      "outputs": []
    },
    {
      "cell_type": "code",
      "metadata": {
        "id": "0WtkXEs0LNry"
      },
      "source": [
        "def get_all_fighters():\n",
        "  '''Get pandas table of all UFC fighters (Name, Height, Weight, Reach, Record, etc.)'''\n",
        "  from string import ascii_lowercase\n",
        "\n",
        "  all_fighters_tables = []\n",
        "  for c in tqdm(ascii_lowercase):\n",
        "    all_fighters_url = f\"http://ufcstats.com/statistics/fighters?char={c}&page=all\"\n",
        "    all_fighters_table = pd.read_html(all_fighters_url)[0]\n",
        "    all_fighters_tables.append(all_fighters_table)\n",
        "\n",
        "  all_fighters = pd.concat(all_fighters_tables)\n",
        "  return all_fighters"
      ],
      "execution_count": 3,
      "outputs": []
    },
    {
      "cell_type": "code",
      "metadata": {
        "id": "AkCCSiuUa4lu",
        "colab": {
          "base_uri": "https://localhost:8080/",
          "height": 216
        },
        "outputId": "de1fcb58-1d27-4f12-8dd7-5644ddfb2ec6"
      },
      "source": [
        "ALL_FIGHTERS = get_all_fighters()\n",
        "ALL_FIGHTERS.head()"
      ],
      "execution_count": 4,
      "outputs": [
        {
          "output_type": "stream",
          "text": [
            "100%|██████████| 26/26 [00:16<00:00,  1.61it/s]\n"
          ],
          "name": "stderr"
        },
        {
          "output_type": "execute_result",
          "data": {
            "text/html": [
              "<div>\n",
              "<style scoped>\n",
              "    .dataframe tbody tr th:only-of-type {\n",
              "        vertical-align: middle;\n",
              "    }\n",
              "\n",
              "    .dataframe tbody tr th {\n",
              "        vertical-align: top;\n",
              "    }\n",
              "\n",
              "    .dataframe thead th {\n",
              "        text-align: right;\n",
              "    }\n",
              "</style>\n",
              "<table border=\"1\" class=\"dataframe\">\n",
              "  <thead>\n",
              "    <tr style=\"text-align: right;\">\n",
              "      <th></th>\n",
              "      <th>First</th>\n",
              "      <th>Last</th>\n",
              "      <th>Nickname</th>\n",
              "      <th>Ht.</th>\n",
              "      <th>Wt.</th>\n",
              "      <th>Reach</th>\n",
              "      <th>Stance</th>\n",
              "      <th>W</th>\n",
              "      <th>L</th>\n",
              "      <th>D</th>\n",
              "      <th>Belt</th>\n",
              "    </tr>\n",
              "  </thead>\n",
              "  <tbody>\n",
              "    <tr>\n",
              "      <th>0</th>\n",
              "      <td>NaN</td>\n",
              "      <td>NaN</td>\n",
              "      <td>NaN</td>\n",
              "      <td>NaN</td>\n",
              "      <td>NaN</td>\n",
              "      <td>NaN</td>\n",
              "      <td>NaN</td>\n",
              "      <td>NaN</td>\n",
              "      <td>NaN</td>\n",
              "      <td>NaN</td>\n",
              "      <td>NaN</td>\n",
              "    </tr>\n",
              "    <tr>\n",
              "      <th>1</th>\n",
              "      <td>Tom</td>\n",
              "      <td>Aaron</td>\n",
              "      <td>NaN</td>\n",
              "      <td>--</td>\n",
              "      <td>155 lbs.</td>\n",
              "      <td>--</td>\n",
              "      <td>NaN</td>\n",
              "      <td>5.0</td>\n",
              "      <td>3.0</td>\n",
              "      <td>0.0</td>\n",
              "      <td>NaN</td>\n",
              "    </tr>\n",
              "    <tr>\n",
              "      <th>2</th>\n",
              "      <td>Danny</td>\n",
              "      <td>Abbadi</td>\n",
              "      <td>The Assassin</td>\n",
              "      <td>5' 11\"</td>\n",
              "      <td>155 lbs.</td>\n",
              "      <td>--</td>\n",
              "      <td>Orthodox</td>\n",
              "      <td>4.0</td>\n",
              "      <td>6.0</td>\n",
              "      <td>0.0</td>\n",
              "      <td>NaN</td>\n",
              "    </tr>\n",
              "    <tr>\n",
              "      <th>3</th>\n",
              "      <td>David</td>\n",
              "      <td>Abbott</td>\n",
              "      <td>Tank</td>\n",
              "      <td>6' 0\"</td>\n",
              "      <td>265 lbs.</td>\n",
              "      <td>--</td>\n",
              "      <td>Switch</td>\n",
              "      <td>10.0</td>\n",
              "      <td>15.0</td>\n",
              "      <td>0.0</td>\n",
              "      <td>NaN</td>\n",
              "    </tr>\n",
              "    <tr>\n",
              "      <th>4</th>\n",
              "      <td>Shamil</td>\n",
              "      <td>Abdurakhimov</td>\n",
              "      <td>Abrek</td>\n",
              "      <td>6' 3\"</td>\n",
              "      <td>235 lbs.</td>\n",
              "      <td>76.0\"</td>\n",
              "      <td>Orthodox</td>\n",
              "      <td>20.0</td>\n",
              "      <td>5.0</td>\n",
              "      <td>0.0</td>\n",
              "      <td>NaN</td>\n",
              "    </tr>\n",
              "  </tbody>\n",
              "</table>\n",
              "</div>"
            ],
            "text/plain": [
              "    First          Last      Nickname     Ht.  ...     W     L    D  Belt\n",
              "0     NaN           NaN           NaN     NaN  ...   NaN   NaN  NaN   NaN\n",
              "1     Tom         Aaron           NaN      --  ...   5.0   3.0  0.0   NaN\n",
              "2   Danny        Abbadi  The Assassin  5' 11\"  ...   4.0   6.0  0.0   NaN\n",
              "3   David        Abbott          Tank   6' 0\"  ...  10.0  15.0  0.0   NaN\n",
              "4  Shamil  Abdurakhimov         Abrek   6' 3\"  ...  20.0   5.0  0.0   NaN\n",
              "\n",
              "[5 rows x 11 columns]"
            ]
          },
          "metadata": {
            "tags": []
          },
          "execution_count": 4
        }
      ]
    },
    {
      "cell_type": "code",
      "metadata": {
        "colab": {
          "base_uri": "https://localhost:8080/"
        },
        "id": "Zoayc5Ad3tKm",
        "outputId": "629230e2-28a8-4ff8-d72f-1fa366f4f2fb"
      },
      "source": [
        "ALL_FIGHTERS.dtypes"
      ],
      "execution_count": 5,
      "outputs": [
        {
          "output_type": "execute_result",
          "data": {
            "text/plain": [
              "First        object\n",
              "Last         object\n",
              "Nickname     object\n",
              "Ht.          object\n",
              "Wt.          object\n",
              "Reach        object\n",
              "Stance       object\n",
              "W           float64\n",
              "L           float64\n",
              "D           float64\n",
              "Belt        float64\n",
              "dtype: object"
            ]
          },
          "metadata": {
            "tags": []
          },
          "execution_count": 5
        }
      ]
    },
    {
      "cell_type": "markdown",
      "metadata": {
        "id": "bIDzcIHz3mpC"
      },
      "source": [
        "## Clean fighter data\n",
        "\n",
        "TODO: Convert height, weight, reach to floats."
      ]
    },
    {
      "cell_type": "code",
      "metadata": {
        "colab": {
          "base_uri": "https://localhost:8080/",
          "height": 198
        },
        "id": "gdNWtyaB5cTi",
        "outputId": "db88f028-18b9-460d-e998-3a4c887c085f"
      },
      "source": [
        "ALL_FIGHTERS = ALL_FIGHTERS.replace(\"^-+\", np.nan, regex=True)  # Replace -- and --- with nan\n",
        "ALL_FIGHTERS.head()"
      ],
      "execution_count": 6,
      "outputs": [
        {
          "output_type": "execute_result",
          "data": {
            "text/html": [
              "<div>\n",
              "<style scoped>\n",
              "    .dataframe tbody tr th:only-of-type {\n",
              "        vertical-align: middle;\n",
              "    }\n",
              "\n",
              "    .dataframe tbody tr th {\n",
              "        vertical-align: top;\n",
              "    }\n",
              "\n",
              "    .dataframe thead th {\n",
              "        text-align: right;\n",
              "    }\n",
              "</style>\n",
              "<table border=\"1\" class=\"dataframe\">\n",
              "  <thead>\n",
              "    <tr style=\"text-align: right;\">\n",
              "      <th></th>\n",
              "      <th>First</th>\n",
              "      <th>Last</th>\n",
              "      <th>Nickname</th>\n",
              "      <th>Ht.</th>\n",
              "      <th>Wt.</th>\n",
              "      <th>Reach</th>\n",
              "      <th>Stance</th>\n",
              "      <th>W</th>\n",
              "      <th>L</th>\n",
              "      <th>D</th>\n",
              "      <th>Belt</th>\n",
              "    </tr>\n",
              "  </thead>\n",
              "  <tbody>\n",
              "    <tr>\n",
              "      <th>0</th>\n",
              "      <td>NaN</td>\n",
              "      <td>NaN</td>\n",
              "      <td>NaN</td>\n",
              "      <td>NaN</td>\n",
              "      <td>NaN</td>\n",
              "      <td>NaN</td>\n",
              "      <td>NaN</td>\n",
              "      <td>NaN</td>\n",
              "      <td>NaN</td>\n",
              "      <td>NaN</td>\n",
              "      <td>NaN</td>\n",
              "    </tr>\n",
              "    <tr>\n",
              "      <th>1</th>\n",
              "      <td>Tom</td>\n",
              "      <td>Aaron</td>\n",
              "      <td>NaN</td>\n",
              "      <td>NaN</td>\n",
              "      <td>155 lbs.</td>\n",
              "      <td>NaN</td>\n",
              "      <td>NaN</td>\n",
              "      <td>5.0</td>\n",
              "      <td>3.0</td>\n",
              "      <td>0.0</td>\n",
              "      <td>NaN</td>\n",
              "    </tr>\n",
              "    <tr>\n",
              "      <th>2</th>\n",
              "      <td>Danny</td>\n",
              "      <td>Abbadi</td>\n",
              "      <td>The Assassin</td>\n",
              "      <td>5' 11\"</td>\n",
              "      <td>155 lbs.</td>\n",
              "      <td>NaN</td>\n",
              "      <td>Orthodox</td>\n",
              "      <td>4.0</td>\n",
              "      <td>6.0</td>\n",
              "      <td>0.0</td>\n",
              "      <td>NaN</td>\n",
              "    </tr>\n",
              "    <tr>\n",
              "      <th>3</th>\n",
              "      <td>David</td>\n",
              "      <td>Abbott</td>\n",
              "      <td>Tank</td>\n",
              "      <td>6' 0\"</td>\n",
              "      <td>265 lbs.</td>\n",
              "      <td>NaN</td>\n",
              "      <td>Switch</td>\n",
              "      <td>10.0</td>\n",
              "      <td>15.0</td>\n",
              "      <td>0.0</td>\n",
              "      <td>NaN</td>\n",
              "    </tr>\n",
              "    <tr>\n",
              "      <th>4</th>\n",
              "      <td>Shamil</td>\n",
              "      <td>Abdurakhimov</td>\n",
              "      <td>Abrek</td>\n",
              "      <td>6' 3\"</td>\n",
              "      <td>235 lbs.</td>\n",
              "      <td>76.0\"</td>\n",
              "      <td>Orthodox</td>\n",
              "      <td>20.0</td>\n",
              "      <td>5.0</td>\n",
              "      <td>0.0</td>\n",
              "      <td>NaN</td>\n",
              "    </tr>\n",
              "  </tbody>\n",
              "</table>\n",
              "</div>"
            ],
            "text/plain": [
              "    First          Last      Nickname     Ht.  ...     W     L    D  Belt\n",
              "0     NaN           NaN           NaN     NaN  ...   NaN   NaN  NaN   NaN\n",
              "1     Tom         Aaron           NaN     NaN  ...   5.0   3.0  0.0   NaN\n",
              "2   Danny        Abbadi  The Assassin  5' 11\"  ...   4.0   6.0  0.0   NaN\n",
              "3   David        Abbott          Tank   6' 0\"  ...  10.0  15.0  0.0   NaN\n",
              "4  Shamil  Abdurakhimov         Abrek   6' 3\"  ...  20.0   5.0  0.0   NaN\n",
              "\n",
              "[5 rows x 11 columns]"
            ]
          },
          "metadata": {
            "tags": []
          },
          "execution_count": 6
        }
      ]
    },
    {
      "cell_type": "markdown",
      "metadata": {
        "id": "HBvmzviJ625s"
      },
      "source": [
        "## Helper functions"
      ]
    },
    {
      "cell_type": "code",
      "metadata": {
        "id": "_KC8TRhZSW58"
      },
      "source": [
        "def get_fighters(fighters_string):\n",
        "    '''Parses string containing two fighter names. Uses ALL_FIGHTERS global to remove ambiguity in parsing. Returns each fighter name\n",
        "       Eg. \"Robert Whittaker Kelvin Gastelum\" => (\"Robert Whittaker\", \"Kelvin Gastelum\")'''\n",
        "    for i, row in ALL_FIGHTERS.iterrows():\n",
        "        fighter_name = f'{row[\"First\"]} {row[\"Last\"]}'\n",
        "        if fighters_string.startswith(fighter_name):\n",
        "            first_fighter = fighter_name\n",
        "            second_fighter = fighters_string[len(fighter_name)+1:]\n",
        "            break\n",
        "    return first_fighter, second_fighter\n",
        "\n",
        "def remove_duplicates_keep_order(list_):\n",
        "    '''Removes duplicates while keeping same order'''\n",
        "    return list(dict.fromkeys(list_))"
      ],
      "execution_count": 7,
      "outputs": []
    },
    {
      "cell_type": "markdown",
      "metadata": {
        "id": "hYGOutwI-g9H"
      },
      "source": [
        "## Get a list of all UFC events"
      ]
    },
    {
      "cell_type": "code",
      "metadata": {
        "id": "UqZSSQ8r-rMm"
      },
      "source": [
        "from urllib.request import urlopen\n",
        "from string import ascii_uppercase\n",
        "from dateutil import parser\n",
        "from datetime import datetime"
      ],
      "execution_count": 8,
      "outputs": []
    },
    {
      "cell_type": "code",
      "metadata": {
        "id": "t-X7tWV_NiBo"
      },
      "source": [
        "ALL_PAST_EVENTS_URL = \"http://ufcstats.com/statistics/events/completed?page=all\""
      ],
      "execution_count": 9,
      "outputs": []
    },
    {
      "cell_type": "code",
      "metadata": {
        "id": "JOvgx_9Z1SOv"
      },
      "source": [
        "def get_all_events(all_past_events_url):\n",
        "    '''Takes in URL to all past events. Returns list of urls, each one representing a UFC event'''\n",
        "    all_past_events_html = urlopen(all_past_events_url).read().decode(\"utf-8\")\n",
        "    \n",
        "    # Regex for \"http://ufcstats.com/events-details/<alphanumeric>\"\n",
        "    # Eg. \"http://ufcstats.com/event-details/27541033b97c076d\"\n",
        "    pattern = \"\\\"http://ufcstats.com/event-details/[a-zA-Z0-9_]+\\\"\"\n",
        "    all_urls = re.findall(pattern, all_past_events_html)\n",
        "\n",
        "    # Remove quotes and duplicates\n",
        "    all_urls = [url.strip(\"\\\"\") for url in all_urls]\n",
        "    all_urls = remove_duplicates_keep_order(all_urls)\n",
        "    return all_urls"
      ],
      "execution_count": 10,
      "outputs": []
    },
    {
      "cell_type": "code",
      "metadata": {
        "colab": {
          "base_uri": "https://localhost:8080/"
        },
        "id": "zzxASuh8_Vnh",
        "outputId": "74c88906-ed19-4754-9b28-dde55d6bba45"
      },
      "source": [
        "# Events\n",
        "ALL_EVENT_URLS = get_all_events(ALL_PAST_EVENTS_URL)\n",
        "print(f\"Got {len(ALL_EVENT_URLS)} events\")\n",
        "print()\n",
        "\n",
        "print(\"Removing the most recent event, since it might not have happened yet\")\n",
        "ALL_EVENT_URLS = ALL_EVENT_URLS[1:]\n",
        "print(f\"Now got {len(ALL_EVENT_URLS)} events\")\n",
        "print(ALL_EVENT_URLS)"
      ],
      "execution_count": 11,
      "outputs": [
        {
          "output_type": "stream",
          "text": [
            "Got 559 events\n",
            "\n",
            "Removing the most recent event, since it might not have happened yet\n",
            "Now got 558 events\n",
            "['http://ufcstats.com/event-details/4a35913bd9aa4161', 'http://ufcstats.com/event-details/9114c8ded5ccd71d', 'http://ufcstats.com/event-details/6597b611f1c32555', 'http://ufcstats.com/event-details/c36e1f4fa755ffb4', 'http://ufcstats.com/event-details/8c90c1563972e44d', 'http://ufcstats.com/event-details/6e2b1d631832921d', 'http://ufcstats.com/event-details/81b57acd6975ac06', 'http://ufcstats.com/event-details/bfe95ec546692b13', 'http://ufcstats.com/event-details/3f7c14c7eca7195d', 'http://ufcstats.com/event-details/a1153013cb5f628f', 'http://ufcstats.com/event-details/4304992c2acc187b', 'http://ufcstats.com/event-details/56116537d71a578c', 'http://ufcstats.com/event-details/307064d3e0f036c2', 'http://ufcstats.com/event-details/e49c2db95e572dc8', 'http://ufcstats.com/event-details/d0d43cb9b14f231c', 'http://ufcstats.com/event-details/398b440e73d55b8b', 'http://ufcstats.com/event-details/992c82450d96f726', 'http://ufcstats.com/event-details/bbb15f301e4a490a', 'http://ufcstats.com/event-details/3bc27ec15facbcf3', 'http://ufcstats.com/event-details/41dca66f9dadfc86', 'http://ufcstats.com/event-details/ad044be25c94dcfd', 'http://ufcstats.com/event-details/c3c38c86f5ab9b5c', 'http://ufcstats.com/event-details/d4f364dd076bb0e2', 'http://ufcstats.com/event-details/fd4578cac86d75ca', 'http://ufcstats.com/event-details/805ad1801eb26abb', 'http://ufcstats.com/event-details/e69c5ce12f4e762b', 'http://ufcstats.com/event-details/831b937811804dad', 'http://ufcstats.com/event-details/9c37681096c6f3a9', 'http://ufcstats.com/event-details/542db012217ecb83', 'http://ufcstats.com/event-details/e29cf523ebd155c5', 'http://ufcstats.com/event-details/af1e5c64b8663aa0', 'http://ufcstats.com/event-details/bda04c573563cc2e', 'http://ufcstats.com/event-details/7a82635ffa9b59fe', 'http://ufcstats.com/event-details/3746e21bb508391a', 'http://ufcstats.com/event-details/dde70a112e053a6c', 'http://ufcstats.com/event-details/ddbd0d6259ce57cc', 'http://ufcstats.com/event-details/18f5669a92e99d92', 'http://ufcstats.com/event-details/dbd198f780286aca', 'http://ufcstats.com/event-details/c32eab6c2119e989', 'http://ufcstats.com/event-details/2eab7a6c8b0ed8cc', 'http://ufcstats.com/event-details/1e13936d708bcff7', 'http://ufcstats.com/event-details/4c12aa7ca246e7a4', 'http://ufcstats.com/event-details/14b9e0f2679a2205', 'http://ufcstats.com/event-details/dfb965c9824425db', 'http://ufcstats.com/event-details/5f8e00c27b7e7410', 'http://ufcstats.com/event-details/898337ef520fe4d3', 'http://ufcstats.com/event-details/53278852bcd91e11', 'http://ufcstats.com/event-details/0b5b6876c2a4723f', 'http://ufcstats.com/event-details/fc9a9559a05f2704', 'http://ufcstats.com/event-details/33b2f68ef95252e0', 'http://ufcstats.com/event-details/5df17b3620145578', 'http://ufcstats.com/event-details/b26d3e3746fb4024', 'http://ufcstats.com/event-details/44aa652b181bcf68', 'http://ufcstats.com/event-details/0c1773639c795466', 'http://ufcstats.com/event-details/74fefd43f073cd2f', 'http://ufcstats.com/event-details/4565d435005319c0', 'http://ufcstats.com/event-details/b09890ba7ce1d1e2', 'http://ufcstats.com/event-details/81ca2c245b19b3c5', 'http://ufcstats.com/event-details/8d5daf67983b65ba', 'http://ufcstats.com/event-details/fd87b1bbfcde9d5e', 'http://ufcstats.com/event-details/df05aa15b2d66f57', 'http://ufcstats.com/event-details/3ae10ac4df3df05c', 'http://ufcstats.com/event-details/0941df56f6ac954b', 'http://ufcstats.com/event-details/3cf68c1d17f66af7', 'http://ufcstats.com/event-details/1bf49bf829964144', 'http://ufcstats.com/event-details/94a5aaf573f780ad', 'http://ufcstats.com/event-details/4834ff149dc9542a', 'http://ufcstats.com/event-details/a79bfbc01b2264d6', 'http://ufcstats.com/event-details/2c104b7e59a72629', 'http://ufcstats.com/event-details/70167689d6a01793', 'http://ufcstats.com/event-details/e5d03e4d966126bd', 'http://ufcstats.com/event-details/03da33a102d9a45f', 'http://ufcstats.com/event-details/abcf7e55a0a9ed89', 'http://ufcstats.com/event-details/9e0f28d1f639ad73', 'http://ufcstats.com/event-details/2f8f3c69522db931', 'http://ufcstats.com/event-details/6c9383ffab2725a5', 'http://ufcstats.com/event-details/c0c1bc0766df4c00', 'http://ufcstats.com/event-details/b16a7e6a627e9789', 'http://ufcstats.com/event-details/e31502e3f79d00c5', 'http://ufcstats.com/event-details/cbc071cb20ea59c7', 'http://ufcstats.com/event-details/6b8f28da9a483049', 'http://ufcstats.com/event-details/9de7c97e1c0d7927', 'http://ufcstats.com/event-details/351264d11286d09a', 'http://ufcstats.com/event-details/c912f676692c353a', 'http://ufcstats.com/event-details/7dcf06c1967801c1', 'http://ufcstats.com/event-details/b0550072e5f0afa7', 'http://ufcstats.com/event-details/9649d75defe0dedb', 'http://ufcstats.com/event-details/487c170da059857d', 'http://ufcstats.com/event-details/80eacd4da0617c57', 'http://ufcstats.com/event-details/e96d8538d3f9d0ed', 'http://ufcstats.com/event-details/2d5fbe2103f97053', 'http://ufcstats.com/event-details/6546af7ab545b90c', 'http://ufcstats.com/event-details/a7a79b8efbceaaac', 'http://ufcstats.com/event-details/b5882371e2a3900d', 'http://ufcstats.com/event-details/84283233ec42be5f', 'http://ufcstats.com/event-details/d4da8995fc91e7ef', 'http://ufcstats.com/event-details/c046100aea0dba9a', 'http://ufcstats.com/event-details/7a703c565ccaa18f', 'http://ufcstats.com/event-details/2a74bbba57058f12', 'http://ufcstats.com/event-details/d1d20e651e6cbc02', 'http://ufcstats.com/event-details/c7ac79839e86ce33', 'http://ufcstats.com/event-details/de25520d54eab12d', 'http://ufcstats.com/event-details/aa3153a9941b4d44', 'http://ufcstats.com/event-details/42c96a9c4802e2e1', 'http://ufcstats.com/event-details/20821819c401ced8', 'http://ufcstats.com/event-details/33a331684283900f', 'http://ufcstats.com/event-details/1ef0eae31904e534', 'http://ufcstats.com/event-details/852454c572675334', 'http://ufcstats.com/event-details/8d49545dadf9b919', 'http://ufcstats.com/event-details/d5ae8074631762fc', 'http://ufcstats.com/event-details/c0342805a1948cbb', 'http://ufcstats.com/event-details/03b1e846b09f721d', 'http://ufcstats.com/event-details/322a56923b396b4d', 'http://ufcstats.com/event-details/4f732e58ed907eff', 'http://ufcstats.com/event-details/b45d6b73f4ca4467', 'http://ufcstats.com/event-details/35585d970300d45a', 'http://ufcstats.com/event-details/8215e4fe24e8e81b', 'http://ufcstats.com/event-details/ac5f67109accb482', 'http://ufcstats.com/event-details/2eae41f61776c60f', 'http://ufcstats.com/event-details/d29b5c4f22c6357d', 'http://ufcstats.com/event-details/f5990c11974d8e9c', 'http://ufcstats.com/event-details/3144121470023e9a', 'http://ufcstats.com/event-details/67ec58d7cf599835', 'http://ufcstats.com/event-details/ad99fa5325519169', 'http://ufcstats.com/event-details/620be7e0712d431b', 'http://ufcstats.com/event-details/49e7e05f902479ca', 'http://ufcstats.com/event-details/eed2b71d77d95416', 'http://ufcstats.com/event-details/7929be8290289a47', 'http://ufcstats.com/event-details/daa89f01e1c0f42a', 'http://ufcstats.com/event-details/d181689653115b6a', 'http://ufcstats.com/event-details/15515e797aedc137', 'http://ufcstats.com/event-details/7cf20446453f852b', 'http://ufcstats.com/event-details/602bb270f2bdbf02', 'http://ufcstats.com/event-details/02177caefe7c07d4', 'http://ufcstats.com/event-details/fc1868f56d3036eb', 'http://ufcstats.com/event-details/04076783ca83d6ae', 'http://ufcstats.com/event-details/eaa0a728cc91ef60', 'http://ufcstats.com/event-details/bcd124bcd3d5be46', 'http://ufcstats.com/event-details/9e30f69cc0869301', 'http://ufcstats.com/event-details/30e8b4505f5ccf92', 'http://ufcstats.com/event-details/e7bc606d269896aa', 'http://ufcstats.com/event-details/caced97768818230', 'http://ufcstats.com/event-details/d856a0080ac09ed7', 'http://ufcstats.com/event-details/a25b71fe5e31fa97', 'http://ufcstats.com/event-details/a7724f51e32e763e', 'http://ufcstats.com/event-details/d6b68eaf4b68b160', 'http://ufcstats.com/event-details/cc5834a495d1ea08', 'http://ufcstats.com/event-details/9211aae062b799d6', 'http://ufcstats.com/event-details/1979c80150f630c4', 'http://ufcstats.com/event-details/d86e913c548c07c2', 'http://ufcstats.com/event-details/a3244e3238541482', 'http://ufcstats.com/event-details/f4a031ac205ac580', 'http://ufcstats.com/event-details/ff9578cdbfabd323', 'http://ufcstats.com/event-details/9f3d6ddef3d3cccc', 'http://ufcstats.com/event-details/d7907a9a968e4d29', 'http://ufcstats.com/event-details/686cccbf1a4de453', 'http://ufcstats.com/event-details/23bd78c3f89bdb54', 'http://ufcstats.com/event-details/99bf06f20491cb54', 'http://ufcstats.com/event-details/353de740bb6c7e75', 'http://ufcstats.com/event-details/90e7447d8b7f3f35', 'http://ufcstats.com/event-details/1507214bbc7a79e2', 'http://ufcstats.com/event-details/1c7cce2f5c17160d', 'http://ufcstats.com/event-details/5df10509264586e5', 'http://ufcstats.com/event-details/bc7f7f0ba3db74d2', 'http://ufcstats.com/event-details/ed069a95aaaf4f56', 'http://ufcstats.com/event-details/e7bfdb5e0112891e', 'http://ufcstats.com/event-details/c0231720fe516994', 'http://ufcstats.com/event-details/47b7e4e60813b7b2', 'http://ufcstats.com/event-details/20e403a1acfef130', 'http://ufcstats.com/event-details/b4ad3a06ee4d660c', 'http://ufcstats.com/event-details/865aa315ea62c511', 'http://ufcstats.com/event-details/6a8a06b542e1516d', 'http://ufcstats.com/event-details/4512e46543b960ad', 'http://ufcstats.com/event-details/46effbd1135423c5', 'http://ufcstats.com/event-details/4b2390cfaceb91d8', 'http://ufcstats.com/event-details/32541eb5d12668b4', 'http://ufcstats.com/event-details/6e3282d57d2467a0', 'http://ufcstats.com/event-details/7139cd2ae4bf6a29', 'http://ufcstats.com/event-details/bd4389b71fdc0ce2', 'http://ufcstats.com/event-details/73e09f837f3b5ecc', 'http://ufcstats.com/event-details/5cde96e0a1a1fffe', 'http://ufcstats.com/event-details/6810d8d2dd557cf9', 'http://ufcstats.com/event-details/4956f60b7fa57c1a', 'http://ufcstats.com/event-details/6083f497c22cc075', 'http://ufcstats.com/event-details/154a6b3ffae264cd', 'http://ufcstats.com/event-details/a196332ee4aa8a82', 'http://ufcstats.com/event-details/e18012194473e8b0', 'http://ufcstats.com/event-details/d6455cb4bee503ce', 'http://ufcstats.com/event-details/2dc7f1762dc0a7ef', 'http://ufcstats.com/event-details/2b4faacc16d66898', 'http://ufcstats.com/event-details/cfbccfed4e4796fe', 'http://ufcstats.com/event-details/5da4e8dc02e50ac0', 'http://ufcstats.com/event-details/232c582f29f8f65e', 'http://ufcstats.com/event-details/72cbe507644a587c', 'http://ufcstats.com/event-details/8a028648f3f0761d', 'http://ufcstats.com/event-details/5e7a28f20927d64a', 'http://ufcstats.com/event-details/aa5b4eff51bdc7d1', 'http://ufcstats.com/event-details/cd42bbe8887bba90', 'http://ufcstats.com/event-details/45a2ba3ef82b9700', 'http://ufcstats.com/event-details/563d051c9e769b24', 'http://ufcstats.com/event-details/ff4c3ab594c7fac3', 'http://ufcstats.com/event-details/990060b2a68a7b82', 'http://ufcstats.com/event-details/a4bf17bd3ba3423b', 'http://ufcstats.com/event-details/a314687f372b2cec', 'http://ufcstats.com/event-details/3d481aa374c954a1', 'http://ufcstats.com/event-details/e7e970d508529bf3', 'http://ufcstats.com/event-details/4887e5bc4dbb73ff', 'http://ufcstats.com/event-details/e60201cfab7d656d', 'http://ufcstats.com/event-details/db1f2ed63b54b9a7', 'http://ufcstats.com/event-details/39c568f8c579913e', 'http://ufcstats.com/event-details/d56bb6dff2ae77eb', 'http://ufcstats.com/event-details/de99da2c0d18d34a', 'http://ufcstats.com/event-details/b3fb8d2293e17a59', 'http://ufcstats.com/event-details/c6becb722706c7d8', 'http://ufcstats.com/event-details/380e8b023290d091', 'http://ufcstats.com/event-details/80d918336163b80c', 'http://ufcstats.com/event-details/354808cf38d9d73c', 'http://ufcstats.com/event-details/20fbff570c678e1c', 'http://ufcstats.com/event-details/dd39f1ca787a3d9d', 'http://ufcstats.com/event-details/4d636c3aa1105950', 'http://ufcstats.com/event-details/243b07fc65ccbb16', 'http://ufcstats.com/event-details/8d04923f2db59b7f', 'http://ufcstats.com/event-details/5345f86680378fc1', 'http://ufcstats.com/event-details/f3155a94ca420126', 'http://ufcstats.com/event-details/119ebea97e914dcf', 'http://ufcstats.com/event-details/a4dd5c9a75763295', 'http://ufcstats.com/event-details/82f5c81f4e3c3eb5', 'http://ufcstats.com/event-details/2ce6541127b0e232', 'http://ufcstats.com/event-details/b71667c778b6d9e5', 'http://ufcstats.com/event-details/a9c45a8b21eabadc', 'http://ufcstats.com/event-details/0c3838c8f7c620c2', 'http://ufcstats.com/event-details/ef7fa30364cbe7f2', 'http://ufcstats.com/event-details/36877f0e62b25b96', 'http://ufcstats.com/event-details/a890f9a791ed615d', 'http://ufcstats.com/event-details/3be081c29bf734d9', 'http://ufcstats.com/event-details/86e388ed20761ad9', 'http://ufcstats.com/event-details/194fc025f9355db6', 'http://ufcstats.com/event-details/a58114c6dd0add64', 'http://ufcstats.com/event-details/06dc1a58663579d2', 'http://ufcstats.com/event-details/aae0897825336b1a', 'http://ufcstats.com/event-details/4f7e290e71d60f87', 'http://ufcstats.com/event-details/b1605ea39fba6af6', 'http://ufcstats.com/event-details/8a1b4330c7957961', 'http://ufcstats.com/event-details/997b4f52f76a0b53', 'http://ufcstats.com/event-details/bc7cf284c1c2f16e', 'http://ufcstats.com/event-details/5de61b03868035ff', 'http://ufcstats.com/event-details/16d09e800ad7ec79', 'http://ufcstats.com/event-details/fa534853eb195270', 'http://ufcstats.com/event-details/f54200f1dfb9b5d4', 'http://ufcstats.com/event-details/ad4e9055bf8cd04d', 'http://ufcstats.com/event-details/0577808d22dfe79c', 'http://ufcstats.com/event-details/f9c7fe2682af3802', 'http://ufcstats.com/event-details/43563a32c3f10e95', 'http://ufcstats.com/event-details/706404da0775dcbc', 'http://ufcstats.com/event-details/f9aa6376ae16bfb4', 'http://ufcstats.com/event-details/a72d260b436924c4', 'http://ufcstats.com/event-details/4e5bbc4566049cbf', 'http://ufcstats.com/event-details/d4a12dfa4067742f', 'http://ufcstats.com/event-details/222d6b547de2e035', 'http://ufcstats.com/event-details/dfdd0c5dd0d4bc23', 'http://ufcstats.com/event-details/155a02a8b4311057', 'http://ufcstats.com/event-details/59851163aaf1aed8', 'http://ufcstats.com/event-details/6ca68b636fbc1f18', 'http://ufcstats.com/event-details/371a1c91b24dec2b', 'http://ufcstats.com/event-details/53f02bbc41d99432', 'http://ufcstats.com/event-details/0313bf497de9c470', 'http://ufcstats.com/event-details/8dc4f34c1f50d00d', 'http://ufcstats.com/event-details/3bb030257966b022', 'http://ufcstats.com/event-details/2dea80c069847321', 'http://ufcstats.com/event-details/a71feb7ea7592a71', 'http://ufcstats.com/event-details/9bcfb40dbcd50568', 'http://ufcstats.com/event-details/269d103c96a4c3a5', 'http://ufcstats.com/event-details/063649e21bc9d6d5', 'http://ufcstats.com/event-details/770b9d4813c25902', 'http://ufcstats.com/event-details/fd7acf42bd6e7e95', 'http://ufcstats.com/event-details/05fbfe628658c538', 'http://ufcstats.com/event-details/073eee4e62f0d988', 'http://ufcstats.com/event-details/79ded75550efc139', 'http://ufcstats.com/event-details/1c5879330d42255f', 'http://ufcstats.com/event-details/53adf5b845d91e4a', 'http://ufcstats.com/event-details/c0ed7b208197e8de', 'http://ufcstats.com/event-details/ac9521250dc1a14c', 'http://ufcstats.com/event-details/5b5307450405abf0', 'http://ufcstats.com/event-details/1fcfc3709fe58151', 'http://ufcstats.com/event-details/59aaf2730b84698a', 'http://ufcstats.com/event-details/b757c73f443d4fca', 'http://ufcstats.com/event-details/9ca265dfe8323db3', 'http://ufcstats.com/event-details/579fcdfcabd23a7b', 'http://ufcstats.com/event-details/4f2fcbefb668689d', 'http://ufcstats.com/event-details/a421465acbe59c77', 'http://ufcstats.com/event-details/f9f07bb5a43535ed', 'http://ufcstats.com/event-details/d632d156c0549e07', 'http://ufcstats.com/event-details/d5f820c11a121050', 'http://ufcstats.com/event-details/179f1948dc234f1f', 'http://ufcstats.com/event-details/ebc1f40e00e0c481', 'http://ufcstats.com/event-details/a26198ba5093147e', 'http://ufcstats.com/event-details/3138fab619faf4d1', 'http://ufcstats.com/event-details/51b0bb73a1da34bc', 'http://ufcstats.com/event-details/fc31f896cde2bc2e', 'http://ufcstats.com/event-details/a8d521d913df4e31', 'http://ufcstats.com/event-details/30a09e43f15f1d75', 'http://ufcstats.com/event-details/e5c9de15bb58b1c6', 'http://ufcstats.com/event-details/83d0de122f2f9664', 'http://ufcstats.com/event-details/480b702debcb5433', 'http://ufcstats.com/event-details/ee457ef1e1c326c1', 'http://ufcstats.com/event-details/9a967e8e43dcef63', 'http://ufcstats.com/event-details/28f3c2258a1d8874', 'http://ufcstats.com/event-details/5d7c18191b8aa432', 'http://ufcstats.com/event-details/35dc6220b113b7ec', 'http://ufcstats.com/event-details/60884f31ead1609c', 'http://ufcstats.com/event-details/eae4aec1a5a8ff01', 'http://ufcstats.com/event-details/43612456979e5d5e', 'http://ufcstats.com/event-details/df5a77121ba84a5d', 'http://ufcstats.com/event-details/b23fca14c7b79935', 'http://ufcstats.com/event-details/980b4e712489098e', 'http://ufcstats.com/event-details/e5c38954c006f15c', 'http://ufcstats.com/event-details/cf1a88371c8cb690', 'http://ufcstats.com/event-details/ebc5af72ad5a28cb', 'http://ufcstats.com/event-details/5330fe7e4c3af81c', 'http://ufcstats.com/event-details/e0b74df14f52cd15', 'http://ufcstats.com/event-details/8fd1f27e86661ede', 'http://ufcstats.com/event-details/7865707fd684d77b', 'http://ufcstats.com/event-details/3c241737a6069b9f', 'http://ufcstats.com/event-details/030f08370fd1c2bb', 'http://ufcstats.com/event-details/ea0ad155451ed1f5', 'http://ufcstats.com/event-details/aa79d5399571068e', 'http://ufcstats.com/event-details/ce47f49e5c386a9c', 'http://ufcstats.com/event-details/6291ac0a3726732f', 'http://ufcstats.com/event-details/f1b2a4365799c48b', 'http://ufcstats.com/event-details/83c6c3e0f8bde8ee', 'http://ufcstats.com/event-details/09c44b317c98bf96', 'http://ufcstats.com/event-details/4679a38cced7c64a', 'http://ufcstats.com/event-details/601cf40c09090853', 'http://ufcstats.com/event-details/738acab0c6934dd8', 'http://ufcstats.com/event-details/56f4b81ec4db61af', 'http://ufcstats.com/event-details/c6e6926a81adcd00', 'http://ufcstats.com/event-details/c6da1c24fe473418', 'http://ufcstats.com/event-details/e8c170a64dc920ac', 'http://ufcstats.com/event-details/d1e6a6536ee62517', 'http://ufcstats.com/event-details/d41937647eae9a34', 'http://ufcstats.com/event-details/319fa1bd3176bded', 'http://ufcstats.com/event-details/96d173b7f92aa520', 'http://ufcstats.com/event-details/6a0b80a24f22e152', 'http://ufcstats.com/event-details/6cbb7661c3258617', 'http://ufcstats.com/event-details/53e533db1b8e9712', 'http://ufcstats.com/event-details/3c48019bc387b80c', 'http://ufcstats.com/event-details/f62850b3c7480db9', 'http://ufcstats.com/event-details/abbc4fc02e0d84b3', 'http://ufcstats.com/event-details/d3b5ad3b15a64a18', 'http://ufcstats.com/event-details/e8efeb9cf33b1941', 'http://ufcstats.com/event-details/3da19339ee7051d5', 'http://ufcstats.com/event-details/505934897b8b4824', 'http://ufcstats.com/event-details/49590e0508b2c19f', 'http://ufcstats.com/event-details/96087e90d900f0ef', 'http://ufcstats.com/event-details/4985113c0928aa62', 'http://ufcstats.com/event-details/8caca5857ce0e30b', 'http://ufcstats.com/event-details/5898357a45a73674', 'http://ufcstats.com/event-details/155bfc7ed36622df', 'http://ufcstats.com/event-details/21f2974fd08085e3', 'http://ufcstats.com/event-details/b5ea750025697880', 'http://ufcstats.com/event-details/8377c5572cb356f3', 'http://ufcstats.com/event-details/0a97691039c4bbfb', 'http://ufcstats.com/event-details/df2cf66d8c0123db', 'http://ufcstats.com/event-details/c3c23c99477c041b', 'http://ufcstats.com/event-details/4d74641fac830182', 'http://ufcstats.com/event-details/18524b46c570730b', 'http://ufcstats.com/event-details/91720876db0ee468', 'http://ufcstats.com/event-details/6d7886b094b471ac', 'http://ufcstats.com/event-details/1f5f75658551f2d3', 'http://ufcstats.com/event-details/0ec821423baa26bd', 'http://ufcstats.com/event-details/1c061eb6e29eaa0a', 'http://ufcstats.com/event-details/e780ccc79a209985', 'http://ufcstats.com/event-details/8788beb528894f33', 'http://ufcstats.com/event-details/7d5b12de1625984e', 'http://ufcstats.com/event-details/44f9c777fed7ca03', 'http://ufcstats.com/event-details/73ef22f25d0f70e2', 'http://ufcstats.com/event-details/1ffc38f67785797b', 'http://ufcstats.com/event-details/18968f97ad34f15c', 'http://ufcstats.com/event-details/4c8d6fde2dde07c4', 'http://ufcstats.com/event-details/f1f9e48a0d150757', 'http://ufcstats.com/event-details/83fd97284f4bb4a4', 'http://ufcstats.com/event-details/d023ae89a2a4a41e', 'http://ufcstats.com/event-details/aac5ac38148f0528', 'http://ufcstats.com/event-details/3ba3b5cc94498437', 'http://ufcstats.com/event-details/b732b326c362fb62', 'http://ufcstats.com/event-details/2db7fa8db6bc9632', 'http://ufcstats.com/event-details/8a59d346dc976a10', 'http://ufcstats.com/event-details/1411c630ba711b64', 'http://ufcstats.com/event-details/a54fc2d6fc224dc3', 'http://ufcstats.com/event-details/88a9bc81271ccd89', 'http://ufcstats.com/event-details/65ddc8a9ac4e8531', 'http://ufcstats.com/event-details/282fa667ff9c51ed', 'http://ufcstats.com/event-details/d1152823307d7e7c', 'http://ufcstats.com/event-details/132f860d02953f4c', 'http://ufcstats.com/event-details/5d7bdab5e03e3216', 'http://ufcstats.com/event-details/dd992d569aaebee6', 'http://ufcstats.com/event-details/0ff11cc094e887bc', 'http://ufcstats.com/event-details/afdb76fbd86f6d11', 'http://ufcstats.com/event-details/d512d9f204059f57', 'http://ufcstats.com/event-details/ad32471f01e7b1a5', 'http://ufcstats.com/event-details/acff437707625fc7', 'http://ufcstats.com/event-details/054defd5420a551f', 'http://ufcstats.com/event-details/2f3f12002564bb55', 'http://ufcstats.com/event-details/f12f979b657ab876', 'http://ufcstats.com/event-details/140745cbbcb023ac', 'http://ufcstats.com/event-details/9bcf8603ceb25680', 'http://ufcstats.com/event-details/cfb65863d5099327', 'http://ufcstats.com/event-details/bfc2fc38a0e20211', 'http://ufcstats.com/event-details/d0c29452d3272603', 'http://ufcstats.com/event-details/24b033b3daf1c9df', 'http://ufcstats.com/event-details/3ed134d85dfbd7b4', 'http://ufcstats.com/event-details/c80095f6092271a7', 'http://ufcstats.com/event-details/3795fca327cbcf23', 'http://ufcstats.com/event-details/49efbdc6c9f650c4', 'http://ufcstats.com/event-details/15edcf67ccf5be84', 'http://ufcstats.com/event-details/58bc81376286b3d3', 'http://ufcstats.com/event-details/a6d8bfe9e0c8153b', 'http://ufcstats.com/event-details/821cd80aab70d5f9', 'http://ufcstats.com/event-details/91d73ee59347ac16', 'http://ufcstats.com/event-details/84a067c46306a737', 'http://ufcstats.com/event-details/fa8b9e6b0c2269f8', 'http://ufcstats.com/event-details/7c0847d3854a95f2', 'http://ufcstats.com/event-details/896c322f56b8be5a', 'http://ufcstats.com/event-details/a8ea84cbe1655f0a', 'http://ufcstats.com/event-details/c6a33ff198aaaeeb', 'http://ufcstats.com/event-details/48d1f690b763934c', 'http://ufcstats.com/event-details/0ee783aa00e468f0', 'http://ufcstats.com/event-details/4908c5ee68a50ee5', 'http://ufcstats.com/event-details/cb6783c39c01d896', 'http://ufcstats.com/event-details/c4b6099f0d25f75e', 'http://ufcstats.com/event-details/1652f3213655b935', 'http://ufcstats.com/event-details/04d5718ed2661e8c', 'http://ufcstats.com/event-details/29b5791e51e7e832', 'http://ufcstats.com/event-details/7d21de9c6d7c98b2', 'http://ufcstats.com/event-details/d1759b2b7be9be56', 'http://ufcstats.com/event-details/2a542ee8a8b83559', 'http://ufcstats.com/event-details/68c6cd5287b473a7', 'http://ufcstats.com/event-details/23ab42947c1990e3', 'http://ufcstats.com/event-details/ea398c802d9998ee', 'http://ufcstats.com/event-details/30cd319d39ee689b', 'http://ufcstats.com/event-details/a2b06ca02bca14c0', 'http://ufcstats.com/event-details/c670aa48827d6be6', 'http://ufcstats.com/event-details/312f47c3d2f83ffa', 'http://ufcstats.com/event-details/279093302a6f44b3', 'http://ufcstats.com/event-details/0db70ca89e1c7374', 'http://ufcstats.com/event-details/19ffeb5e3fffd6d5', 'http://ufcstats.com/event-details/46f11d15c0134fe3', 'http://ufcstats.com/event-details/bf12aca029bfcc47', 'http://ufcstats.com/event-details/2299605af59fd309', 'http://ufcstats.com/event-details/2efbc83a6b9b7f86', 'http://ufcstats.com/event-details/2549d63da9c456cb', 'http://ufcstats.com/event-details/ad047e3073a775f3', 'http://ufcstats.com/event-details/b9e871af730f826c', 'http://ufcstats.com/event-details/598a58db87b890ee', 'http://ufcstats.com/event-details/597db668b01c442c', 'http://ufcstats.com/event-details/33e33d51f289d2a1', 'http://ufcstats.com/event-details/a24e080000fa7a35', 'http://ufcstats.com/event-details/7269329bd87eb479', 'http://ufcstats.com/event-details/df85d6ec3493d120', 'http://ufcstats.com/event-details/1d147d4163a6989b', 'http://ufcstats.com/event-details/91181b29be041f1c', 'http://ufcstats.com/event-details/bad28b7b34f334de', 'http://ufcstats.com/event-details/f341f9551ba744e2', 'http://ufcstats.com/event-details/0aa92558424ced9e', 'http://ufcstats.com/event-details/a5c53b3ddb31cc7d', 'http://ufcstats.com/event-details/2a6f8136da1e52c0', 'http://ufcstats.com/event-details/e7ec11096eac0282', 'http://ufcstats.com/event-details/5ca158b1cc9cb242', 'http://ufcstats.com/event-details/304fcd812f12c589', 'http://ufcstats.com/event-details/2e04a3b4a2011b97', 'http://ufcstats.com/event-details/4604ab1de9058474', 'http://ufcstats.com/event-details/c1684f00c626f4c0', 'http://ufcstats.com/event-details/a6c2f5381d575920', 'http://ufcstats.com/event-details/de3ed2e152520c8d', 'http://ufcstats.com/event-details/63b65af1c5cb02cb', 'http://ufcstats.com/event-details/13c4313ed0f744f3', 'http://ufcstats.com/event-details/ee5df903f80c6816', 'http://ufcstats.com/event-details/21b8a0f5c231096f', 'http://ufcstats.com/event-details/3fed746acfd026dd', 'http://ufcstats.com/event-details/baf942f4bcb09894', 'http://ufcstats.com/event-details/13b2f59210dda9cc', 'http://ufcstats.com/event-details/577ec7e108b94be3', 'http://ufcstats.com/event-details/13e62d766b709aa6', 'http://ufcstats.com/event-details/f717b6002486f73f', 'http://ufcstats.com/event-details/46c8ec317aff28ac', 'http://ufcstats.com/event-details/f70144caea5c4c80', 'http://ufcstats.com/event-details/445a98acb8985970', 'http://ufcstats.com/event-details/1dab0d1d81dd06db', 'http://ufcstats.com/event-details/a54a35a670d8e852', 'http://ufcstats.com/event-details/03688dc3c3af3ac1', 'http://ufcstats.com/event-details/b361180739bed4b0', 'http://ufcstats.com/event-details/0e9869d712e81f8f', 'http://ufcstats.com/event-details/977081bc01197656', 'http://ufcstats.com/event-details/2ee09ec2a0695eb9', 'http://ufcstats.com/event-details/c7e9d15cfce52f1d', 'http://ufcstats.com/event-details/31ceaf0e670c1578', 'http://ufcstats.com/event-details/271fe91f4ba9d2c5', 'http://ufcstats.com/event-details/efaf544314bb5c2e', 'http://ufcstats.com/event-details/669a3cb6e394f515', 'http://ufcstats.com/event-details/3f24c96753dbd9f9', 'http://ufcstats.com/event-details/d3711d3784b76255', 'http://ufcstats.com/event-details/c933d423ebdbbbdb', 'http://ufcstats.com/event-details/fbbde91f7bc2d3c5', 'http://ufcstats.com/event-details/85d905f7c4f5a1af', 'http://ufcstats.com/event-details/ce783bf73b5131f9', 'http://ufcstats.com/event-details/b4bc2e3353a770b5', 'http://ufcstats.com/event-details/429e7d3725852ce9', 'http://ufcstats.com/event-details/e8fb8e53bc2e29d6', 'http://ufcstats.com/event-details/94609dd91731d428', 'http://ufcstats.com/event-details/e670f8cc2969a789', 'http://ufcstats.com/event-details/c61f66d8c3fd5f07', 'http://ufcstats.com/event-details/108afe61a26bcbf4', 'http://ufcstats.com/event-details/ae58685caf8e4a0d', 'http://ufcstats.com/event-details/bba678d312590087', 'http://ufcstats.com/event-details/e06fd1260ac865a7', 'http://ufcstats.com/event-details/0cf935519d439ba6', 'http://ufcstats.com/event-details/1dc56b59cb28425d', 'http://ufcstats.com/event-details/9ccdd2ce45903f34', 'http://ufcstats.com/event-details/9fd1f08dd4aec14a', 'http://ufcstats.com/event-details/02fc8f50f56eb307', 'http://ufcstats.com/event-details/946f341df6472ee0', 'http://ufcstats.com/event-details/4dc496aa0cfc0d95', 'http://ufcstats.com/event-details/c75b99887c8c3f5a', 'http://ufcstats.com/event-details/7b9aa973e5c04624', 'http://ufcstats.com/event-details/20bd6c3e03c46ee6', 'http://ufcstats.com/event-details/2b1587a3376ab743', 'http://ufcstats.com/event-details/08ae5cd9aef7ddd3', 'http://ufcstats.com/event-details/da6dfd09cca1d705', 'http://ufcstats.com/event-details/31652c9267606d54', 'http://ufcstats.com/event-details/cedfdf8d423d500c', 'http://ufcstats.com/event-details/d2b1c1317a39f6c6', 'http://ufcstats.com/event-details/20ec0061400178ca', 'http://ufcstats.com/event-details/a8fa0c4e95512806', 'http://ufcstats.com/event-details/afaad7d6a581e307', 'http://ufcstats.com/event-details/1a1a4d7a29041d77', 'http://ufcstats.com/event-details/a7b48e18ca27795d', 'http://ufcstats.com/event-details/a220be6d41d6f97d', 'http://ufcstats.com/event-details/c9bbf1a0285a8076', 'http://ufcstats.com/event-details/32a3025d5db456ae', 'http://ufcstats.com/event-details/4a01dc8376736ef5', 'http://ufcstats.com/event-details/749685d24e2cac50', 'http://ufcstats.com/event-details/29f935654825331b', 'http://ufcstats.com/event-details/07a18ae55dfc3cd9', 'http://ufcstats.com/event-details/dc950d59dc590aca', 'http://ufcstats.com/event-details/5bd533d50c8e7b8a', 'http://ufcstats.com/event-details/96eff1a628adcc7f', 'http://ufcstats.com/event-details/9b5b5a75523728f3', 'http://ufcstats.com/event-details/6ceff86fae4f6b3b', 'http://ufcstats.com/event-details/aee8eecfc4bfb1e7', 'http://ufcstats.com/event-details/a390eb8a9b2df298', 'http://ufcstats.com/event-details/b63e800c18e011b5', 'http://ufcstats.com/event-details/31bbd46d57dfbcb7', 'http://ufcstats.com/event-details/5af480a3b2e1726b', 'http://ufcstats.com/event-details/1c3f5e85b59ec710', 'http://ufcstats.com/event-details/dedc3bb440d09554', 'http://ufcstats.com/event-details/b60391da771deefe', 'http://ufcstats.com/event-details/1a49e0670dfaca31', 'http://ufcstats.com/event-details/a6a9ab5a824e8f66']\n"
          ],
          "name": "stdout"
        }
      ]
    },
    {
      "cell_type": "markdown",
      "metadata": {
        "id": "QoU8LAPK_dbQ"
      },
      "source": [
        "## Get a list of UFC fights\n",
        "\n",
        "TODO: Right now only sees if result is win. Else sets winner to None. See if this can be improved."
      ]
    },
    {
      "cell_type": "code",
      "metadata": {
        "id": "2nDi4mo6CLn_"
      },
      "source": [
        "def get_all_fights_in_event(past_event_url, get_results=False):\n",
        "    '''Takes in a single URL to a past event.\n",
        "       If get_results=True, returns fight_urls, winners, methods\n",
        "       else, return fight_urls'''\n",
        "    # Regex for \"http://ufcstats.com/events-details/<alphanumeric>\"\n",
        "    # Eg. \"http://ufcstats.com/fight-details/f67aa0b16e16a9ea\"\n",
        "    past_event_html = urlopen(past_event_url).read().decode(\"utf-8\")\n",
        "    pattern = \"\\\"http://ufcstats.com/fight-details/[a-zA-Z0-9_]+\\\"\"\n",
        "    fight_urls = re.findall(pattern, past_event_html)\n",
        "\n",
        "    # Remove quotes and duplicates\n",
        "    fight_urls = [url.strip(\"\\\"\") for url in fight_urls]\n",
        "    fight_urls = remove_duplicates_keep_order(fight_urls)\n",
        "\n",
        "    # Get the winner and method (dec or KO or sub) of each fight\n",
        "    past_event_table = pd.read_html(past_event_url)[0]  # Will be length 1 list\n",
        "    winners, methods = [], []\n",
        "    for _, row in past_event_table.iterrows():\n",
        "        # TODO: Improve this processing of result\n",
        "        result = row[\"W/L\"].split(' ')[0]\n",
        "        if result == \"win\":\n",
        "            winner, _ = get_fighters(row[\"Fighter\"])\n",
        "        else:\n",
        "            winner = None\n",
        "        winners.append(winner)\n",
        "        methods.append(row[\"Method\"])\n",
        "\n",
        "    if get_results:\n",
        "        return fight_urls, winners, methods\n",
        "    else:\n",
        "        return fight_urls"
      ],
      "execution_count": 12,
      "outputs": []
    },
    {
      "cell_type": "code",
      "metadata": {
        "id": "7_pNUnyMPxkM"
      },
      "source": [
        "def get_all_fights(all_event_urls, num_events=None):\n",
        "    '''Takes in list of URLs to past events. Returns 3 lists: urls, winners, methods, each representing a UFC fight.\n",
        "       Set num_events to be the number of events to get fights from. Set to None if want all.'''\n",
        "    if num_events is None:\n",
        "        num_events = len(all_event_urls)\n",
        "    \n",
        "    all_fight_urls, all_winners, all_methods = [], [], []\n",
        "    for i, event_url in enumerate(tqdm(all_event_urls[:num_events])):\n",
        "        # For each event, get the fight urls and winners\n",
        "        fight_urls, winners, methods = get_all_fights_in_event(event_url, get_results=True)\n",
        "        all_fight_urls.extend(fight_urls)\n",
        "        all_winners.extend(winners)\n",
        "        all_methods.extend(methods)\n",
        "    return all_fight_urls, all_winners, all_methods"
      ],
      "execution_count": 13,
      "outputs": []
    },
    {
      "cell_type": "code",
      "metadata": {
        "id": "Q66lyNtAF-Vo",
        "colab": {
          "base_uri": "https://localhost:8080/"
        },
        "outputId": "c7eb935e-443a-4498-8690-f09c8e8be3ab"
      },
      "source": [
        "FIGHT_URLS, WINNERS, METHODS = get_all_fights(ALL_EVENT_URLS, num_events=NUM_EVENTS)\n",
        "print(f\"Got {len(FIGHT_URLS)} fights\")\n",
        "print(FIGHT_URLS)\n",
        "print(WINNERS)\n",
        "print(METHODS)\n",
        "\n",
        "assert(len(FIGHT_URLS) == len(WINNERS))\n",
        "assert(len(FIGHT_URLS) == len(METHODS))"
      ],
      "execution_count": null,
      "outputs": [
        {
          "output_type": "stream",
          "text": [
            "  4%|▍         | 23/558 [01:01<24:29,  2.75s/it]"
          ],
          "name": "stderr"
        }
      ]
    },
    {
      "cell_type": "markdown",
      "metadata": {
        "id": "CzlsyBU6DdRE"
      },
      "source": [
        "## Get fight tables\n"
      ]
    },
    {
      "cell_type": "code",
      "metadata": {
        "id": "zJjLUhEyDcSs"
      },
      "source": [
        "def get_labeled_fight_tables(fight_url):\n",
        "    '''Convert fight url to dictionary of pandas tables of information.\n",
        "       Before, gave a list of tables that was hard to understand.\n",
        "       Now have Totals, Per Round Totals, Significant Strikes, Per Round Significant Strikes'''\n",
        "    fight_tables = pd.read_html(fight_url)\n",
        "    \n",
        "    labeled_fight_tables = {}\n",
        "    labeled_fight_tables['Totals'] = fight_tables[0]\n",
        "    labeled_fight_tables['Per Round Totals'] = fight_tables[1]\n",
        "    labeled_fight_tables['Significant Strikes'] = fight_tables[2]\n",
        "    labeled_fight_tables['Per Round Significant Strikes'] = fight_tables[3]\n",
        "    return labeled_fight_tables"
      ],
      "execution_count": null,
      "outputs": []
    },
    {
      "cell_type": "code",
      "metadata": {
        "id": "08jcNbZaDlBE"
      },
      "source": [
        "RAW_FIGHT_TABLES_LIST = []\n",
        "for url in tqdm(FIGHT_URLS):\n",
        "    RAW_FIGHT_TABLES_LIST.append(get_labeled_fight_tables(url))"
      ],
      "execution_count": null,
      "outputs": []
    },
    {
      "cell_type": "code",
      "metadata": {
        "id": "c9msProI12dH"
      },
      "source": [
        "RAW_FIGHT_TABLES_LIST[0]['Totals'].head()"
      ],
      "execution_count": null,
      "outputs": []
    },
    {
      "cell_type": "code",
      "metadata": {
        "id": "5_IIeQRx13WJ"
      },
      "source": [
        "RAW_FIGHT_TABLES_LIST[0]['Per Round Totals'].head()"
      ],
      "execution_count": null,
      "outputs": []
    },
    {
      "cell_type": "code",
      "metadata": {
        "id": "b8vW4zw818TK"
      },
      "source": [
        "RAW_FIGHT_TABLES_LIST[0]['Significant Strikes'].head()"
      ],
      "execution_count": null,
      "outputs": []
    },
    {
      "cell_type": "code",
      "metadata": {
        "id": "LtCciS5g16MB"
      },
      "source": [
        "RAW_FIGHT_TABLES_LIST[0]['Per Round Significant Strikes'].head()"
      ],
      "execution_count": null,
      "outputs": []
    },
    {
      "cell_type": "markdown",
      "metadata": {
        "id": "r6YwJd-fAOwd"
      },
      "source": [
        "## Clean fight information\n",
        "\n",
        "Separate each fighter's information into a different column\n",
        "\n",
        "TODO: Lots of stuff to improve. Smarter use of Totals, round by round, and significant strikes. Can also use non integer information, total attempted strikes (not just landed), fighter information, etc. All of those being ignored right now. Find nice way to parse new information round by round. Handle no winner case better. May need to add ignore_index=True for pd.concat"
      ]
    },
    {
      "cell_type": "code",
      "metadata": {
        "id": "-PfTg13LB3ck"
      },
      "source": [
        "def parse_string(row_string):\n",
        "    '''Break string into two parts: one for fighter 0 and one for fighter 1\n",
        "       Eg. 150 of 284  62 of 209 => (150 of 284, 62 of 209)'''\n",
        "    if not isinstance(row_string, str):\n",
        "        print(f\"row_string = {row_string} is not a string\")\n",
        "        return \"0\", \"0\"\n",
        "    string_split = row_string.split(\" \")\n",
        "    first_fighter_stat = \" \".join(string_split[:len(string_split)//2])\n",
        "    second_fighter_stat = \" \".join(string_split[len(string_split)//2+1:])\n",
        "    return first_fighter_stat, second_fighter_stat"
      ],
      "execution_count": null,
      "outputs": []
    },
    {
      "cell_type": "code",
      "metadata": {
        "id": "dqnRE1IfMY9k"
      },
      "source": [
        "def convert_to_int_or_double_if_possible(string):\n",
        "    '''Convert string to int or double if possible\n",
        "       If has a percent sign, tries to remove it and continue.'''\n",
        "    def isfloat(value):\n",
        "        try:\n",
        "            float(value)\n",
        "            return True\n",
        "        except ValueError:\n",
        "            return False\n",
        "\n",
        "    # If input is not string, then return it unchanged\n",
        "    if not isinstance(string, str):\n",
        "        return string\n",
        "\n",
        "    # Remove %\n",
        "    if \"%\" in string:\n",
        "        string = string.strip(\"%\")\n",
        "\n",
        "    # Convert to int or float\n",
        "    if isfloat(string) and float(string).is_integer():\n",
        "        return int(string)\n",
        "    if isfloat(string):\n",
        "        return float(string)\n",
        "    return string"
      ],
      "execution_count": null,
      "outputs": []
    },
    {
      "cell_type": "code",
      "metadata": {
        "id": "ORlZYocyRO4M"
      },
      "source": [
        "def process_fight(raw_fight_table):\n",
        "    '''Takes in a raw, one-row pandas fight table. Returns a pandas dataframe representing the fight statistics'''    \n",
        "    # Break up columns.\n",
        "    # Eg. \"Name\" => \"Fighter 0 Name\", \"Fighter 1 Name\"\n",
        "    # \"KD\" => \"Fighter 0 KD\", \"Fighter 1 KD\"\n",
        "    new_columns = []\n",
        "    for column in raw_fight_table.columns:\n",
        "        new_columns.append(f\"Fighter 0 {column}\")\n",
        "        new_columns.append(f\"Fighter 1 {column}\")\n",
        "\n",
        "    # Go through each row and break up the data into the columns\n",
        "    new_rows = []\n",
        "    for i, row in raw_fight_table.iterrows():\n",
        "        new_row = []\n",
        "        for column in raw_fight_table.columns:\n",
        "            # Split string at the center space\n",
        "            stat1, stat2 = parse_string(row[column])\n",
        "\n",
        "            # TODO: Update this to capture more information\n",
        "\n",
        "            # Has \"100 of 120\" type stat. Just store first number\n",
        "            if \"of\" in stat1:\n",
        "                stat1 = stat1.split(\" of \")[0]\n",
        "                stat2 = stat2.split(\" of \")[0]\n",
        "\n",
        "            # Has \"2:32\" type stat (min:sec). Convert to sec.\n",
        "            elif \":\" in stat1:\n",
        "                min1, sec1 = stat1.split(\":\")[0], stat1.split(\":\")[1]\n",
        "                min2, sec2 = stat2.split(\":\")[0], stat2.split(\":\")[1]\n",
        "                stat1 = convert_to_int_or_double_if_possible(min1)*60 + convert_to_int_or_double_if_possible(sec1)\n",
        "                stat2 = convert_to_int_or_double_if_possible(min2)*60 + convert_to_int_or_double_if_possible(sec2)\n",
        "            \n",
        "            # Convert string to float or int if possible\n",
        "            stat1 = convert_to_int_or_double_if_possible(stat1)\n",
        "            stat2 = convert_to_int_or_double_if_possible(stat2)\n",
        "\n",
        "            # Add to row\n",
        "            new_row.append(stat1)\n",
        "            new_row.append(stat2)\n",
        "        new_rows.append(new_row)\n",
        "\n",
        "    # Bring together into new dataframe, then only store the numerical values\n",
        "    # TODO: Process better to keep more info, not throw so much away\n",
        "    df = pd.DataFrame(new_rows, columns=new_columns)\n",
        "\n",
        "    # Add in names, using smarter parsing\n",
        "    df = df.drop(columns=['Fighter 0 Fighter', 'Fighter 1 Fighter'])\n",
        "    fighters_string = raw_fight_table[\"Fighter\"][0]  # Only 1 row table\n",
        "    fighter0, fighter1 = get_fighters(fighters_string)\n",
        "    df['Fighter 0 Name'] = fighter0\n",
        "    df['Fighter 1 Name'] = fighter1\n",
        "    return df"
      ],
      "execution_count": null,
      "outputs": []
    },
    {
      "cell_type": "code",
      "metadata": {
        "id": "5oIdF2niZpag"
      },
      "source": [
        "def process_raw_fight_tables(raw_fight_tables, winner, method, round_by_round=False):\n",
        "    '''Takes in set of raw fight table (one fight), the name of the fight winner, and the method of winning. Returns a cleaned pandas table.\n",
        "       Set round_by_round=True to use the round-by-round data. Otherwise, uses full fight stats.'''\n",
        "    def create_aggregated_fight_table(raw_fight_tables):\n",
        "        # Aggregate data from multiple tables\n",
        "        fight_table = process_fight(raw_fight_tables[\"Totals\"])\n",
        "        fight_table2 = process_fight(raw_fight_tables[\"Significant Strikes\"])\n",
        "        \n",
        "        # Rename column names with identical data to match\n",
        "        fight_table2 = fight_table2.rename(columns={\"Fighter 0 Sig. str\": \"Fighter 0 Sig. str.\", \"Fighter 1 Sig. str\": \"Fighter 1 Sig. str.\"})\n",
        "\n",
        "        # Bring tables together, then remove duplicates\n",
        "        fight_table = pd.concat([fight_table, fight_table2], axis=1)\n",
        "        fight_table = fight_table.loc[:,~fight_table.columns.duplicated()]\n",
        "        return fight_table\n",
        "\n",
        "    def create_aggregated_round_by_round_fight_table(raw_fight_tables):\n",
        "        ##### Aggregate data totals table\n",
        "        tables = []\n",
        "        for i, row in raw_fight_tables[\"Per Round Totals\"].iterrows():\n",
        "            # Get df of one round\n",
        "            df = pd.DataFrame(row)\n",
        "            values = list(df[i].to_dict().values())\n",
        "            cols = list(raw_fight_tables[\"Totals\"].columns)\n",
        "            df = pd.DataFrame([values], columns=cols)\n",
        "\n",
        "            # Update columns with round number\n",
        "            new_cols = [f\"Round {i+1} {c}\" if c != \"Fighter\" else c for c in cols]\n",
        "            df.columns = new_cols\n",
        "            tables.append(process_fight(df))\n",
        "        # Concatenate round-by-round horizontally, so each row is for 1 fight.\n",
        "        # Then remove duplicates\n",
        "        totals_df = pd.concat(tables, axis=1)\n",
        "        totals_df = totals_df.loc[:,~totals_df.columns.duplicated()]\n",
        "\n",
        "        ##### Aggregate data significant strikes table\n",
        "        tables = []\n",
        "        for i, row in raw_fight_tables[\"Per Round Significant Strikes\"].iterrows():\n",
        "            # Get df of one round\n",
        "            df = pd.DataFrame(row)\n",
        "            values = list(df[i].to_dict().values())\n",
        "            cols = list(raw_fight_tables[\"Significant Strikes\"].columns)\n",
        "            if len(values) != len(cols):\n",
        "                values = values[:-1]  # Remove last column values, as shown above, has extra column for no reason\n",
        "            df = pd.DataFrame([values], columns=cols)\n",
        "\n",
        "            # Update columns with round number\n",
        "            new_cols = [f\"Round {i+1} {c}\" if c != \"Fighter\" else c for c in cols]\n",
        "            df.columns = new_cols\n",
        "            tables.append(process_fight(df))\n",
        "        # Concatenate round-by-round horizontally, so each row is for 1 fight\n",
        "        # Then remove duplicates\n",
        "        sig_strikes_df = pd.concat(tables, axis=1)\n",
        "        sig_strikes_df = sig_strikes_df.loc[:,~sig_strikes_df.columns.duplicated()]\n",
        "        \n",
        "        ##### Bring tables together, then remove duplicates\n",
        "        fight_table = pd.concat([totals_df, sig_strikes_df], axis=1)\n",
        "        fight_table = fight_table.loc[:,~fight_table.columns.duplicated()]\n",
        "        return fight_table\n",
        "\n",
        "\n",
        "    if round_by_round:\n",
        "        fight_table = create_aggregated_round_by_round_fight_table(raw_fight_tables)\n",
        "    else:\n",
        "        fight_table = create_aggregated_fight_table(raw_fight_tables)\n",
        "\n",
        "    if fight_table[\"Fighter 0 Name\"][0] == winner:\n",
        "        label = 0\n",
        "    elif fight_table[\"Fighter 1 Name\"][0] == winner:\n",
        "        label = 1\n",
        "    else:\n",
        "        print(f'ERROR: fight_table[\"Fighter 0 Name\"]={fight_table[\"Fighter 0 Name\"]}, fight_table[\"Fighter 1 Name\"]={fight_table[\"Fighter 1 Name\"]}, winner={winner}')\n",
        "        label = -1\n",
        "    fight_table['Winner'] = label\n",
        "    fight_table['Method'] = method\n",
        "    return fight_table"
      ],
      "execution_count": null,
      "outputs": []
    },
    {
      "cell_type": "code",
      "metadata": {
        "id": "BUyy5MUhNTkJ"
      },
      "source": [
        "FIGHT_TABLE = []\n",
        "for i in tqdm(range(len(RAW_FIGHT_TABLES_LIST))):\n",
        "    FIGHT_TABLE.append(process_raw_fight_tables(RAW_FIGHT_TABLES_LIST[i], WINNERS[i], METHODS[i], round_by_round=ROUND_BY_ROUND)) \n",
        "FIGHT_TABLE = pd.concat(FIGHT_TABLE, ignore_index=True)\n",
        "FIGHT_TABLE = FIGHT_TABLE.replace(\"^-+\", np.nan, regex=True)  # Replace -- and --- with nan"
      ],
      "execution_count": null,
      "outputs": []
    },
    {
      "cell_type": "code",
      "metadata": {
        "id": "G9EhqLLcAWs-"
      },
      "source": [
        "FIGHT_TABLE.head()"
      ],
      "execution_count": null,
      "outputs": []
    },
    {
      "cell_type": "code",
      "metadata": {
        "id": "7hQjO9B2RDoZ"
      },
      "source": [
        "FIGHT_TABLE.tail()"
      ],
      "execution_count": null,
      "outputs": []
    },
    {
      "cell_type": "markdown",
      "metadata": {
        "id": "pCMOvzM0efI4"
      },
      "source": [
        "## Augment dataset by flipping around columns\n",
        "\n",
        "The system should work the same no matter what order we pass in the fighters. Let fighters be A and B. We want\n",
        "\n",
        "winner(fighter0=A, fighter1=B) = winner(fighter0=B, fighter1=A)"
      ]
    },
    {
      "cell_type": "code",
      "metadata": {
        "id": "kM2b_cAif7rM"
      },
      "source": [
        "def create_flipped_table(table):\n",
        "    '''Rearranges columns of table so that each fight has two rows. Let fighters be A and B.\n",
        "       One row has (Fighter 0 = A, Fighter 1 = B). One row has (Fighter 0 = B, Fighter 1 = A)\n",
        "       Ensure same column order, as column names not looked at when passed to ML model'''\n",
        "\n",
        "    # Get columns in flipped order, which moves the columns around, but changes column name order too\n",
        "    flipped_columns = []\n",
        "    for column in table.columns:\n",
        "        if \"Fighter 0\" in column:\n",
        "          flipped_columns.append(column.replace(\"Fighter 0\", \"Fighter 1\"))\n",
        "        elif \"Fighter 1\" in column:\n",
        "          flipped_columns.append(column.replace(\"Fighter 1\", \"Fighter 0\"))\n",
        "        else:\n",
        "          flipped_columns.append(column)\n",
        "    flipped_table = table[flipped_columns]\n",
        "\n",
        "    # Flips winners around\n",
        "    if 'Winner' in flipped_table.columns:\n",
        "       flipped_table['Winner'] = flipped_table['Winner'].replace([0, 1], [1, 0])\n",
        "\n",
        "    # Change column names back to normal\n",
        "    flipped_table.columns = table.columns\n",
        "    return flipped_table"
      ],
      "execution_count": null,
      "outputs": []
    },
    {
      "cell_type": "code",
      "metadata": {
        "id": "KQcGgKW6k-ba"
      },
      "source": [
        "def add_rows_of_flipped_columns(table):\n",
        "    flipped_table = create_flipped_table(table)\n",
        "    new_table = pd.concat([table, flipped_table])\n",
        "    return new_table"
      ],
      "execution_count": null,
      "outputs": []
    },
    {
      "cell_type": "code",
      "metadata": {
        "id": "HnwZdNiplLF3"
      },
      "source": [
        "FULL_FIGHT_TABLE = add_rows_of_flipped_columns(FIGHT_TABLE)"
      ],
      "execution_count": null,
      "outputs": []
    },
    {
      "cell_type": "code",
      "metadata": {
        "id": "PlnOp-fbjknE"
      },
      "source": [
        "FULL_FIGHT_TABLE.head()"
      ],
      "execution_count": null,
      "outputs": []
    },
    {
      "cell_type": "markdown",
      "metadata": {
        "id": "gu7-RmZOkP68"
      },
      "source": [
        "## Example of augmented data"
      ]
    },
    {
      "cell_type": "code",
      "metadata": {
        "id": "PHsGqr0_joHn"
      },
      "source": [
        "FULL_FIGHT_TABLE[(FULL_FIGHT_TABLE['Fighter 0 Name'] == \"Robert Whittaker\") & (FULL_FIGHT_TABLE['Fighter 1 Name'] == \"Kelvin Gastelum\")]"
      ],
      "execution_count": null,
      "outputs": []
    },
    {
      "cell_type": "code",
      "metadata": {
        "id": "samSx7Olj3vQ"
      },
      "source": [
        "FULL_FIGHT_TABLE[(FULL_FIGHT_TABLE['Fighter 1 Name'] == \"Robert Whittaker\") & (FULL_FIGHT_TABLE['Fighter 0 Name'] == \"Kelvin Gastelum\")]"
      ],
      "execution_count": null,
      "outputs": []
    },
    {
      "cell_type": "markdown",
      "metadata": {
        "id": "3OOgguk84RJl"
      },
      "source": [
        "## Additional data cleaning\n",
        "\n",
        "TODO: See if something better than replacing nan with 0. See if something better for labels than 0 and 1. Could remove fights with no winner, or handle them differently. Could remove fights that don't go to decision by removing based on Method."
      ]
    },
    {
      "cell_type": "code",
      "metadata": {
        "id": "RIS0yarnbTmj"
      },
      "source": [
        "X = FIGHT_TABLE.drop(['Winner', 'Fighter 0 Name', 'Fighter 1 Name', 'Method'], axis=1).fillna(0)\n",
        "y = FIGHT_TABLE[['Winner']]"
      ],
      "execution_count": null,
      "outputs": []
    },
    {
      "cell_type": "code",
      "metadata": {
        "id": "QxOiDLXHfgDx"
      },
      "source": [
        "X.head()"
      ],
      "execution_count": null,
      "outputs": []
    },
    {
      "cell_type": "code",
      "metadata": {
        "id": "N5qqnw6Efh8K"
      },
      "source": [
        "y.head()"
      ],
      "execution_count": null,
      "outputs": []
    },
    {
      "cell_type": "markdown",
      "metadata": {
        "id": "JwvrHfOCf1mh"
      },
      "source": [
        "## Setup train/validate/test split\n",
        "Can't blindly use full fight table train/validate/test split, because the augmented data must stay together. If in train we know winner(A, B) = A, then we don't want to have winner(B, A) in the validation/test set."
      ]
    },
    {
      "cell_type": "code",
      "metadata": {
        "id": "CwlwAWNRcwJ1"
      },
      "source": [
        "from sklearn.model_selection import train_test_split\n",
        "X_train, X_test, y_train, y_test = train_test_split(X, y, test_size=0.33, random_state=0)\n",
        "X_train, X_valid, y_train, y_valid = train_test_split(X_train, y_train, test_size=0.33, random_state=0)\n",
        "X_train, y_train = add_rows_of_flipped_columns(X_train), add_rows_of_flipped_columns(y_train)\n",
        "X_valid, y_valid = add_rows_of_flipped_columns(X_valid), add_rows_of_flipped_columns(y_valid)\n",
        "X_test, y_test = add_rows_of_flipped_columns(X_test), add_rows_of_flipped_columns(y_test)"
      ],
      "execution_count": null,
      "outputs": []
    },
    {
      "cell_type": "code",
      "metadata": {
        "id": "aFmWIOydoJXd"
      },
      "source": [
        "# Expect equal number of examples in Fighter 0 as Fighter 1\n",
        "assert(len(y_train[y_train['Winner'] == 0]) == len(y_train[y_train['Winner'] == 1]))\n",
        "assert(len(y_valid[y_valid['Winner'] == 0]) == len(y_valid[y_valid['Winner'] == 1]))\n",
        "assert(len(y_test[y_test['Winner'] == 0]) == len(y_test[y_test['Winner'] == 1]))"
      ],
      "execution_count": null,
      "outputs": []
    },
    {
      "cell_type": "code",
      "metadata": {
        "id": "jekwTdNAk3rE"
      },
      "source": [
        "X_train.head()"
      ],
      "execution_count": null,
      "outputs": []
    },
    {
      "cell_type": "code",
      "metadata": {
        "id": "BUeeqFtHpZQw"
      },
      "source": [
        "y_train.head()"
      ],
      "execution_count": null,
      "outputs": []
    },
    {
      "cell_type": "code",
      "metadata": {
        "id": "75PnIBkYpabr"
      },
      "source": [
        "print(f\"X_train.shape = {X_train.shape}\")\n",
        "print(f\"X_valid.shape = {X_valid.shape}\")\n",
        "print(f\"X_test.shape = {X_test.shape}\")\n",
        "print(f\"y_train.shape = {y_train.shape}\")\n",
        "print(f\"y_valid.shape = {y_valid.shape}\")\n",
        "print(f\"y_test.shape = {y_test.shape}\")"
      ],
      "execution_count": null,
      "outputs": []
    },
    {
      "cell_type": "markdown",
      "metadata": {
        "id": "ARUH8kxCbJpG"
      },
      "source": [
        "## ML Models"
      ]
    },
    {
      "cell_type": "code",
      "metadata": {
        "id": "0_v4cnEFbKp3"
      },
      "source": [
        "from sklearn.ensemble import RandomForestClassifier"
      ],
      "execution_count": null,
      "outputs": []
    },
    {
      "cell_type": "code",
      "metadata": {
        "id": "6gOrDS8AbPqM"
      },
      "source": [
        "# Train\n",
        "clf = RandomForestClassifier(max_depth=5, random_state=0)\n",
        "clf.fit(X_train, y_train)\n",
        "\n",
        "# Validate\n",
        "accuracy_train = clf.score(X_train, y_train)\n",
        "accuracy_valid = clf.score(X_valid, y_valid)\n",
        "print(f\"accuracy_train = {accuracy_train}\")\n",
        "print(f\"accuracy_valid = {accuracy_valid}\")"
      ],
      "execution_count": null,
      "outputs": []
    },
    {
      "cell_type": "code",
      "metadata": {
        "id": "dn1Njq7ecfAT"
      },
      "source": [
        "import matplotlib.pyplot as plt\n",
        "\n",
        "# Visualize importances\n",
        "plt.rcParams.update({'font.size': 8})\n",
        "plt.barh(X_train.columns, clf.feature_importances_)"
      ],
      "execution_count": null,
      "outputs": []
    },
    {
      "cell_type": "code",
      "metadata": {
        "id": "GifEEZiTq2yL"
      },
      "source": [
        "# MLP\n",
        "from sklearn.neural_network import MLPClassifier\n",
        "\n",
        "clf = MLPClassifier(random_state=1, max_iter=300).fit(X_train, y_train)\n",
        "accuracy_train = clf.score(X_train, y_train)\n",
        "accuracy_valid = clf.score(X_valid, y_valid)\n",
        "print(f\"accuracy_train = {accuracy_train}\")\n",
        "print(f\"accuracy_valid = {accuracy_valid}\")"
      ],
      "execution_count": null,
      "outputs": []
    },
    {
      "cell_type": "code",
      "metadata": {
        "id": "r6tiCNo3rEE0"
      },
      "source": [
        "# SVM\n",
        "from sklearn.svm import SVC\n",
        "\n",
        "clf = SVC(random_state=1).fit(X_train, y_train)\n",
        "accuracy_train = clf.score(X_train, y_train)\n",
        "accuracy_valid = clf.score(X_valid, y_valid)\n",
        "print(f\"accuracy_train = {accuracy_train}\")\n",
        "print(f\"accuracy_valid = {accuracy_valid}\")"
      ],
      "execution_count": null,
      "outputs": []
    },
    {
      "cell_type": "code",
      "metadata": {
        "id": "KNxPPw2DrbpW"
      },
      "source": [
        "# FFN\n",
        "import tensorflow as tf\n",
        "\n",
        "model = tf.keras.models.Sequential()\n",
        "model.add(tf.keras.Input(shape=X_train.shape[1:]))\n",
        "model.add(tf.keras.layers.Dense(32, activation='relu'))\n",
        "model.add(tf.keras.layers.Dense(32, activation='relu'))\n",
        "model.add(tf.keras.layers.Dense(1, activation='sigmoid'))\n",
        "\n",
        "model.compile(optimizer='adam', loss='binary_crossentropy', metrics=['accuracy'])\n",
        "tf.keras.utils.plot_model(model, show_shapes=True, rankdir=\"LR\")"
      ],
      "execution_count": null,
      "outputs": []
    },
    {
      "cell_type": "code",
      "metadata": {
        "id": "agRwGSv2IEKa"
      },
      "source": [
        "model.summary()"
      ],
      "execution_count": null,
      "outputs": []
    },
    {
      "cell_type": "code",
      "metadata": {
        "id": "Wo9gE7_HtQhl"
      },
      "source": [
        "model.fit(X_train, y_train, epochs=100, validation_data=(X_valid, y_valid))"
      ],
      "execution_count": null,
      "outputs": []
    },
    {
      "cell_type": "code",
      "metadata": {
        "id": "RWTGwJUVtalk"
      },
      "source": [
        "model.evaluate(X_train, y_train)\n",
        "model.evaluate(X_valid, y_valid)"
      ],
      "execution_count": null,
      "outputs": []
    },
    {
      "cell_type": "markdown",
      "metadata": {
        "id": "ZOwm0hZTxZyr"
      },
      "source": [
        "## Test out model manually"
      ]
    },
    {
      "cell_type": "code",
      "metadata": {
        "id": "OWIypYX-uryi"
      },
      "source": [
        "idx = 6"
      ],
      "execution_count": null,
      "outputs": []
    },
    {
      "cell_type": "code",
      "metadata": {
        "id": "ofKgNtPPuC0V"
      },
      "source": [
        "X_test.iloc[idx]"
      ],
      "execution_count": null,
      "outputs": []
    },
    {
      "cell_type": "code",
      "metadata": {
        "id": "4tEAEW59ulsz"
      },
      "source": [
        "# 0 means fighter 0 won. 1 means fighter 1 won.\n",
        "y_test.iloc[idx]"
      ],
      "execution_count": null,
      "outputs": []
    },
    {
      "cell_type": "code",
      "metadata": {
        "id": "67EbW0E1uXGi"
      },
      "source": [
        "X_test.shape"
      ],
      "execution_count": null,
      "outputs": []
    },
    {
      "cell_type": "code",
      "metadata": {
        "id": "3FWZP5LfuYYJ"
      },
      "source": [
        "X_test.iloc[idx].shape"
      ],
      "execution_count": null,
      "outputs": []
    },
    {
      "cell_type": "code",
      "metadata": {
        "id": "W19rlXXouGfs"
      },
      "source": [
        "model.predict(np.expand_dims(X_test.iloc[idx], 0))"
      ],
      "execution_count": null,
      "outputs": []
    },
    {
      "cell_type": "code",
      "metadata": {
        "id": "VkKNI-x1uTe8"
      },
      "source": [
        ""
      ],
      "execution_count": null,
      "outputs": []
    }
  ]
}