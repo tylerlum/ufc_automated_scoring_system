{
  "nbformat": 4,
  "nbformat_minor": 0,
  "metadata": {
    "colab": {
      "name": "UFC_Automated_Scoring_System.ipynb",
      "provenance": [],
      "collapsed_sections": [],
      "authorship_tag": "ABX9TyMxT6kk514lFCsQCnxNQ/xR",
      "include_colab_link": true
    },
    "kernelspec": {
      "name": "python3",
      "display_name": "Python 3"
    }
  },
  "cells": [
    {
      "cell_type": "markdown",
      "metadata": {
        "id": "view-in-github",
        "colab_type": "text"
      },
      "source": [
        "<a href=\"https://colab.research.google.com/github/tylerlum/ufc_automated_scoring_system/blob/main/UFC_Automated_Scoring_System.ipynb\" target=\"_parent\"><img src=\"https://colab.research.google.com/assets/colab-badge.svg\" alt=\"Open In Colab\"/></a>"
      ]
    },
    {
      "cell_type": "markdown",
      "metadata": {
        "id": "TPiJGcdUYaoU"
      },
      "source": [
        "# UFC Automated Scoring System\n",
        "\n",
        "The goal of this notebook is to:\n",
        "* Explore the FightMetrics webpage to scrape the fight and fighter information we need\n",
        "* Store the fight and fighter data into csv files\n",
        "* Preprocess the data\n",
        "* Train and evaluate a neural network to predict fight outcomes\n",
        "\n",
        "Still functional as of April 2021"
      ]
    },
    {
      "cell_type": "markdown",
      "metadata": {
        "id": "7897ryXiaoCv"
      },
      "source": [
        "## Get information about all fighters"
      ]
    },
    {
      "cell_type": "code",
      "metadata": {
        "id": "ioQESt2oZPXz"
      },
      "source": [
        "import pandas as pd\n",
        "from tqdm import tqdm\n",
        "import numpy as np"
      ],
      "execution_count": null,
      "outputs": []
    },
    {
      "cell_type": "code",
      "metadata": {
        "id": "0WtkXEs0LNry"
      },
      "source": [
        "def get_all_fighters():\n",
        "  '''Get pandas table of all UFC fighters (Name, Height, Weight, Reach, Record, etc.)'''\n",
        "  from string import ascii_lowercase\n",
        "\n",
        "  all_fighters_tables = []\n",
        "  for c in tqdm(ascii_lowercase):\n",
        "    all_fighters_url = f\"http://ufcstats.com/statistics/fighters?char={c}&page=all\"\n",
        "    all_fighters_table = pd.read_html(all_fighters_url)[0]\n",
        "    all_fighters_tables.append(all_fighters_table)\n",
        "\n",
        "  all_fighters = pd.concat(all_fighters_tables)\n",
        "  return all_fighters"
      ],
      "execution_count": null,
      "outputs": []
    },
    {
      "cell_type": "code",
      "metadata": {
        "id": "AkCCSiuUa4lu",
        "colab": {
          "base_uri": "https://localhost:8080/",
          "height": 688
        },
        "outputId": "adffa9a7-502f-4526-8db7-75d762ca239f"
      },
      "source": [
        "ALL_FIGHTERS = get_all_fighters()\n",
        "ALL_FIGHTERS.head()"
      ],
      "execution_count": null,
      "outputs": [
        {
          "output_type": "stream",
          "text": [
            "\n",
            "  0%|          | 0/26 [00:00<?, ?it/s]\u001b[A\n",
            "  4%|▍         | 1/26 [00:00<00:15,  1.58it/s]\u001b[A\n",
            "  8%|▊         | 2/26 [00:01<00:15,  1.51it/s]\u001b[A\n",
            " 12%|█▏        | 3/26 [00:02<00:16,  1.42it/s]\u001b[A\n",
            " 15%|█▌        | 4/26 [00:02<00:15,  1.44it/s]\u001b[A\n",
            " 19%|█▉        | 5/26 [00:03<00:13,  1.56it/s]\u001b[A\n",
            " 23%|██▎       | 6/26 [00:03<00:12,  1.62it/s]\u001b[A\n",
            " 27%|██▋       | 7/26 [00:04<00:11,  1.60it/s]\u001b[A\n",
            " 31%|███       | 8/26 [00:05<00:11,  1.60it/s]\u001b[A\n",
            " 35%|███▍      | 9/26 [00:05<00:09,  1.74it/s]\u001b[A\n",
            " 38%|███▊      | 10/26 [00:06<00:09,  1.73it/s]\u001b[A\n",
            " 42%|████▏     | 11/26 [00:06<00:08,  1.71it/s]\u001b[A\n",
            " 46%|████▌     | 12/26 [00:07<00:08,  1.72it/s]\u001b[A\n",
            " 50%|█████     | 13/26 [00:08<00:09,  1.39it/s]\u001b[A\n",
            " 54%|█████▍    | 14/26 [00:08<00:07,  1.51it/s]\u001b[A\n",
            " 58%|█████▊    | 15/26 [00:09<00:06,  1.66it/s]\u001b[A\n",
            " 62%|██████▏   | 16/26 [00:10<00:06,  1.66it/s]\u001b[A\n",
            " 65%|██████▌   | 17/26 [00:10<00:04,  1.83it/s]\u001b[A\n",
            " 69%|██████▉   | 18/26 [00:11<00:04,  1.77it/s]\u001b[A\n",
            " 73%|███████▎  | 19/26 [00:11<00:04,  1.56it/s]\u001b[A\n",
            " 77%|███████▋  | 20/26 [00:12<00:03,  1.59it/s]\u001b[A\n",
            " 81%|████████  | 21/26 [00:12<00:02,  1.84it/s]\u001b[A\n",
            " 85%|████████▍ | 22/26 [00:13<00:01,  2.00it/s]\u001b[A\n",
            " 88%|████████▊ | 23/26 [00:13<00:01,  1.91it/s]\u001b[A\n",
            " 92%|█████████▏| 24/26 [00:14<00:00,  2.09it/s]\u001b[A\n",
            " 96%|█████████▌| 25/26 [00:14<00:00,  2.16it/s]\u001b[A\n",
            "100%|██████████| 26/26 [00:14<00:00,  1.74it/s]\n"
          ],
          "name": "stderr"
        },
        {
          "output_type": "execute_result",
          "data": {
            "text/html": [
              "<div>\n",
              "<style scoped>\n",
              "    .dataframe tbody tr th:only-of-type {\n",
              "        vertical-align: middle;\n",
              "    }\n",
              "\n",
              "    .dataframe tbody tr th {\n",
              "        vertical-align: top;\n",
              "    }\n",
              "\n",
              "    .dataframe thead th {\n",
              "        text-align: right;\n",
              "    }\n",
              "</style>\n",
              "<table border=\"1\" class=\"dataframe\">\n",
              "  <thead>\n",
              "    <tr style=\"text-align: right;\">\n",
              "      <th></th>\n",
              "      <th>First</th>\n",
              "      <th>Last</th>\n",
              "      <th>Nickname</th>\n",
              "      <th>Ht.</th>\n",
              "      <th>Wt.</th>\n",
              "      <th>Reach</th>\n",
              "      <th>Stance</th>\n",
              "      <th>W</th>\n",
              "      <th>L</th>\n",
              "      <th>D</th>\n",
              "      <th>Belt</th>\n",
              "    </tr>\n",
              "  </thead>\n",
              "  <tbody>\n",
              "    <tr>\n",
              "      <th>0</th>\n",
              "      <td>NaN</td>\n",
              "      <td>NaN</td>\n",
              "      <td>NaN</td>\n",
              "      <td>NaN</td>\n",
              "      <td>NaN</td>\n",
              "      <td>NaN</td>\n",
              "      <td>NaN</td>\n",
              "      <td>NaN</td>\n",
              "      <td>NaN</td>\n",
              "      <td>NaN</td>\n",
              "      <td>NaN</td>\n",
              "    </tr>\n",
              "    <tr>\n",
              "      <th>1</th>\n",
              "      <td>Tom</td>\n",
              "      <td>Aaron</td>\n",
              "      <td>NaN</td>\n",
              "      <td>--</td>\n",
              "      <td>155 lbs.</td>\n",
              "      <td>--</td>\n",
              "      <td>NaN</td>\n",
              "      <td>5.0</td>\n",
              "      <td>3.0</td>\n",
              "      <td>0.0</td>\n",
              "      <td>NaN</td>\n",
              "    </tr>\n",
              "    <tr>\n",
              "      <th>2</th>\n",
              "      <td>Danny</td>\n",
              "      <td>Abbadi</td>\n",
              "      <td>The Assassin</td>\n",
              "      <td>5' 11\"</td>\n",
              "      <td>155 lbs.</td>\n",
              "      <td>--</td>\n",
              "      <td>Orthodox</td>\n",
              "      <td>4.0</td>\n",
              "      <td>6.0</td>\n",
              "      <td>0.0</td>\n",
              "      <td>NaN</td>\n",
              "    </tr>\n",
              "    <tr>\n",
              "      <th>3</th>\n",
              "      <td>David</td>\n",
              "      <td>Abbott</td>\n",
              "      <td>Tank</td>\n",
              "      <td>6' 0\"</td>\n",
              "      <td>265 lbs.</td>\n",
              "      <td>--</td>\n",
              "      <td>Switch</td>\n",
              "      <td>10.0</td>\n",
              "      <td>15.0</td>\n",
              "      <td>0.0</td>\n",
              "      <td>NaN</td>\n",
              "    </tr>\n",
              "    <tr>\n",
              "      <th>4</th>\n",
              "      <td>Shamil</td>\n",
              "      <td>Abdurakhimov</td>\n",
              "      <td>Abrek</td>\n",
              "      <td>6' 3\"</td>\n",
              "      <td>235 lbs.</td>\n",
              "      <td>76.0\"</td>\n",
              "      <td>Orthodox</td>\n",
              "      <td>20.0</td>\n",
              "      <td>5.0</td>\n",
              "      <td>0.0</td>\n",
              "      <td>NaN</td>\n",
              "    </tr>\n",
              "  </tbody>\n",
              "</table>\n",
              "</div>"
            ],
            "text/plain": [
              "    First          Last      Nickname     Ht.  ...     W     L    D  Belt\n",
              "0     NaN           NaN           NaN     NaN  ...   NaN   NaN  NaN   NaN\n",
              "1     Tom         Aaron           NaN      --  ...   5.0   3.0  0.0   NaN\n",
              "2   Danny        Abbadi  The Assassin  5' 11\"  ...   4.0   6.0  0.0   NaN\n",
              "3   David        Abbott          Tank   6' 0\"  ...  10.0  15.0  0.0   NaN\n",
              "4  Shamil  Abdurakhimov         Abrek   6' 3\"  ...  20.0   5.0  0.0   NaN\n",
              "\n",
              "[5 rows x 11 columns]"
            ]
          },
          "metadata": {
            "tags": []
          },
          "execution_count": 78
        }
      ]
    },
    {
      "cell_type": "code",
      "metadata": {
        "colab": {
          "base_uri": "https://localhost:8080/"
        },
        "id": "Zoayc5Ad3tKm",
        "outputId": "727e4c7b-4711-4bdf-e108-3630a639479d"
      },
      "source": [
        "ALL_FIGHTERS.dtypes"
      ],
      "execution_count": null,
      "outputs": [
        {
          "output_type": "execute_result",
          "data": {
            "text/plain": [
              "First        object\n",
              "Last         object\n",
              "Nickname     object\n",
              "Ht.          object\n",
              "Wt.          object\n",
              "Reach        object\n",
              "Stance       object\n",
              "W           float64\n",
              "L           float64\n",
              "D           float64\n",
              "Belt        float64\n",
              "dtype: object"
            ]
          },
          "metadata": {
            "tags": []
          },
          "execution_count": 79
        }
      ]
    },
    {
      "cell_type": "markdown",
      "metadata": {
        "id": "bIDzcIHz3mpC"
      },
      "source": [
        "## Clean fighter data\n",
        "\n",
        "TODO: Convert height, weight, reach to floats."
      ]
    },
    {
      "cell_type": "code",
      "metadata": {
        "colab": {
          "base_uri": "https://localhost:8080/",
          "height": 195
        },
        "id": "gdNWtyaB5cTi",
        "outputId": "58597b1a-d8e7-42a9-dd21-14d1da6bb3ff"
      },
      "source": [
        "ALL_FIGHTERS = ALL_FIGHTERS.replace('--', np.NaN)\n",
        "ALL_FIGHTERS.head()"
      ],
      "execution_count": null,
      "outputs": [
        {
          "output_type": "execute_result",
          "data": {
            "text/html": [
              "<div>\n",
              "<style scoped>\n",
              "    .dataframe tbody tr th:only-of-type {\n",
              "        vertical-align: middle;\n",
              "    }\n",
              "\n",
              "    .dataframe tbody tr th {\n",
              "        vertical-align: top;\n",
              "    }\n",
              "\n",
              "    .dataframe thead th {\n",
              "        text-align: right;\n",
              "    }\n",
              "</style>\n",
              "<table border=\"1\" class=\"dataframe\">\n",
              "  <thead>\n",
              "    <tr style=\"text-align: right;\">\n",
              "      <th></th>\n",
              "      <th>First</th>\n",
              "      <th>Last</th>\n",
              "      <th>Nickname</th>\n",
              "      <th>Ht.</th>\n",
              "      <th>Wt.</th>\n",
              "      <th>Reach</th>\n",
              "      <th>Stance</th>\n",
              "      <th>W</th>\n",
              "      <th>L</th>\n",
              "      <th>D</th>\n",
              "      <th>Belt</th>\n",
              "    </tr>\n",
              "  </thead>\n",
              "  <tbody>\n",
              "    <tr>\n",
              "      <th>0</th>\n",
              "      <td>NaN</td>\n",
              "      <td>NaN</td>\n",
              "      <td>NaN</td>\n",
              "      <td>NaN</td>\n",
              "      <td>NaN</td>\n",
              "      <td>NaN</td>\n",
              "      <td>NaN</td>\n",
              "      <td>NaN</td>\n",
              "      <td>NaN</td>\n",
              "      <td>NaN</td>\n",
              "      <td>NaN</td>\n",
              "    </tr>\n",
              "    <tr>\n",
              "      <th>1</th>\n",
              "      <td>Tom</td>\n",
              "      <td>Aaron</td>\n",
              "      <td>NaN</td>\n",
              "      <td>NaN</td>\n",
              "      <td>155 lbs.</td>\n",
              "      <td>NaN</td>\n",
              "      <td>NaN</td>\n",
              "      <td>5.0</td>\n",
              "      <td>3.0</td>\n",
              "      <td>0.0</td>\n",
              "      <td>NaN</td>\n",
              "    </tr>\n",
              "    <tr>\n",
              "      <th>2</th>\n",
              "      <td>Danny</td>\n",
              "      <td>Abbadi</td>\n",
              "      <td>The Assassin</td>\n",
              "      <td>5' 11\"</td>\n",
              "      <td>155 lbs.</td>\n",
              "      <td>NaN</td>\n",
              "      <td>Orthodox</td>\n",
              "      <td>4.0</td>\n",
              "      <td>6.0</td>\n",
              "      <td>0.0</td>\n",
              "      <td>NaN</td>\n",
              "    </tr>\n",
              "    <tr>\n",
              "      <th>3</th>\n",
              "      <td>David</td>\n",
              "      <td>Abbott</td>\n",
              "      <td>Tank</td>\n",
              "      <td>6' 0\"</td>\n",
              "      <td>265 lbs.</td>\n",
              "      <td>NaN</td>\n",
              "      <td>Switch</td>\n",
              "      <td>10.0</td>\n",
              "      <td>15.0</td>\n",
              "      <td>0.0</td>\n",
              "      <td>NaN</td>\n",
              "    </tr>\n",
              "    <tr>\n",
              "      <th>4</th>\n",
              "      <td>Shamil</td>\n",
              "      <td>Abdurakhimov</td>\n",
              "      <td>Abrek</td>\n",
              "      <td>6' 3\"</td>\n",
              "      <td>235 lbs.</td>\n",
              "      <td>76.0\"</td>\n",
              "      <td>Orthodox</td>\n",
              "      <td>20.0</td>\n",
              "      <td>5.0</td>\n",
              "      <td>0.0</td>\n",
              "      <td>NaN</td>\n",
              "    </tr>\n",
              "  </tbody>\n",
              "</table>\n",
              "</div>"
            ],
            "text/plain": [
              "    First          Last      Nickname     Ht.  ...     W     L    D  Belt\n",
              "0     NaN           NaN           NaN     NaN  ...   NaN   NaN  NaN   NaN\n",
              "1     Tom         Aaron           NaN     NaN  ...   5.0   3.0  0.0   NaN\n",
              "2   Danny        Abbadi  The Assassin  5' 11\"  ...   4.0   6.0  0.0   NaN\n",
              "3   David        Abbott          Tank   6' 0\"  ...  10.0  15.0  0.0   NaN\n",
              "4  Shamil  Abdurakhimov         Abrek   6' 3\"  ...  20.0   5.0  0.0   NaN\n",
              "\n",
              "[5 rows x 11 columns]"
            ]
          },
          "metadata": {
            "tags": []
          },
          "execution_count": 80
        }
      ]
    },
    {
      "cell_type": "markdown",
      "metadata": {
        "id": "HBvmzviJ625s"
      },
      "source": [
        "## Helper functions"
      ]
    },
    {
      "cell_type": "code",
      "metadata": {
        "id": "_KC8TRhZSW58"
      },
      "source": [
        "def get_fighters(fighters_string, all_fighter_tables):\n",
        "    '''Parses string containing two fighter names. Uses all_fighter_tables to remove ambiguity in parsing. Returns each fighter name'''\n",
        "    for i, row in all_fighter_tables.iterrows():\n",
        "        fighter_name = f'{row[\"First\"]} {row[\"Last\"]}'\n",
        "        if fighters_string.startswith(fighter_name):\n",
        "            first_fighter = fighter_name\n",
        "            second_fighter = fighters_string[len(fighter_name)+1:]\n",
        "            break\n",
        "    return first_fighter, second_fighter"
      ],
      "execution_count": null,
      "outputs": []
    },
    {
      "cell_type": "markdown",
      "metadata": {
        "id": "hYGOutwI-g9H"
      },
      "source": [
        "## Get a list of all UFC events"
      ]
    },
    {
      "cell_type": "code",
      "metadata": {
        "id": "UqZSSQ8r-rMm"
      },
      "source": [
        "from urllib.request import urlopen\n",
        "from string import ascii_uppercase\n",
        "from dateutil import parser\n",
        "from datetime import datetime"
      ],
      "execution_count": null,
      "outputs": []
    },
    {
      "cell_type": "code",
      "metadata": {
        "id": "t-X7tWV_NiBo"
      },
      "source": [
        "ALL_PAST_EVENTS_URL = \"http://ufcstats.com/statistics/events/completed?page=all\""
      ],
      "execution_count": null,
      "outputs": []
    },
    {
      "cell_type": "code",
      "metadata": {
        "id": "JOvgx_9Z1SOv"
      },
      "source": [
        "def get_all_events(all_past_events_url):\n",
        "    '''Takes in URL to all past events. Returns list of urls, each one representing a UFC event'''\n",
        "    def find_latest_index_with_char(string, chars):\n",
        "        for i in reversed(range(len(string))):\n",
        "            if string[i] in chars:\n",
        "                return i\n",
        "        return -1\n",
        "\n",
        "    # Get all event names\n",
        "    all_past_events_tables = pd.read_html(all_past_events_url)[0]\n",
        "    all_past_events_tables = all_past_events_tables[all_past_events_tables[\"Name/date\"].notna()]\n",
        "\n",
        "    event_names = []\n",
        "    for i, row in all_past_events_tables.iterrows():\n",
        "        date_index = find_latest_index_with_char(row[\"Name/date\"], ascii_uppercase)\n",
        "        event_name = row[\"Name/date\"][:date_index-1].strip()\n",
        "        date = parser.parse(row[\"Name/date\"][date_index:])\n",
        "        if date < datetime.now():\n",
        "            event_names.append(event_name)\n",
        "\n",
        "    # Hacky way to get urls for all events\n",
        "    all_past_events_html = urlopen(all_past_events_url).read().decode(\"utf-8\")\n",
        "    all_urls = []\n",
        "    for event_name in event_names:\n",
        "        new_substring = all_past_events_html[:all_past_events_html.index(event_name)]\n",
        "        url_index = new_substring.rfind(\"http://ufcstats.com/event-details/\")\n",
        "        url_string = new_substring[url_index:]\n",
        "        url_string = url_string[:url_string.find(\"\\\"\")]\n",
        "        all_urls.append(url_string)\n",
        "    return all_urls"
      ],
      "execution_count": null,
      "outputs": []
    },
    {
      "cell_type": "code",
      "metadata": {
        "colab": {
          "base_uri": "https://localhost:8080/"
        },
        "id": "zzxASuh8_Vnh",
        "outputId": "67eb3bf3-a7a5-474d-d723-57fa69b284fd"
      },
      "source": [
        "# Events\n",
        "ALL_EVENT_URLS = get_all_events(ALL_PAST_EVENTS_URL)\n",
        "print(f\"Got {len(ALL_EVENT_URLS)} events\")\n",
        "print(ALL_EVENT_URLS)"
      ],
      "execution_count": null,
      "outputs": [
        {
          "output_type": "stream",
          "text": [
            "Got 558 events\n",
            "['http://ufcstats.com/event-details/4a35913bd9aa4161', 'http://ufcstats.com/event-details/9114c8ded5ccd71d', 'http://ufcstats.com/event-details/6597b611f1c32555', 'http://ufcstats.com/event-details/c36e1f4fa755ffb4', 'http://ufcstats.com/event-details/8c90c1563972e44d', 'http://ufcstats.com/event-details/6e2b1d631832921d', 'http://ufcstats.com/event-details/81b57acd6975ac06', 'http://ufcstats.com/event-details/bfe95ec546692b13', 'http://ufcstats.com/event-details/3f7c14c7eca7195d', 'http://ufcstats.com/event-details/a1153013cb5f628f', 'http://ufcstats.com/event-details/4304992c2acc187b', 'http://ufcstats.com/event-details/56116537d71a578c', 'http://ufcstats.com/event-details/307064d3e0f036c2', 'http://ufcstats.com/event-details/e49c2db95e572dc8', 'http://ufcstats.com/event-details/d0d43cb9b14f231c', 'http://ufcstats.com/event-details/398b440e73d55b8b', 'http://ufcstats.com/event-details/992c82450d96f726', 'http://ufcstats.com/event-details/bbb15f301e4a490a', 'http://ufcstats.com/event-details/3bc27ec15facbcf3', 'http://ufcstats.com/event-details/41dca66f9dadfc86', 'http://ufcstats.com/event-details/ad044be25c94dcfd', 'http://ufcstats.com/event-details/c3c38c86f5ab9b5c', 'http://ufcstats.com/event-details/d4f364dd076bb0e2', 'http://ufcstats.com/event-details/fd4578cac86d75ca', 'http://ufcstats.com/event-details/805ad1801eb26abb', 'http://ufcstats.com/event-details/e69c5ce12f4e762b', 'http://ufcstats.com/event-details/831b937811804dad', 'http://ufcstats.com/event-details/9c37681096c6f3a9', 'http://ufcstats.com/event-details/542db012217ecb83', 'http://ufcstats.com/event-details/e29cf523ebd155c5', 'http://ufcstats.com/event-details/af1e5c64b8663aa0', 'http://ufcstats.com/event-details/bda04c573563cc2e', 'http://ufcstats.com/event-details/7a82635ffa9b59fe', 'http://ufcstats.com/event-details/3746e21bb508391a', 'http://ufcstats.com/event-details/dde70a112e053a6c', 'http://ufcstats.com/event-details/ddbd0d6259ce57cc', 'http://ufcstats.com/event-details/18f5669a92e99d92', 'http://ufcstats.com/event-details/dbd198f780286aca', 'http://ufcstats.com/event-details/c32eab6c2119e989', 'http://ufcstats.com/event-details/2eab7a6c8b0ed8cc', 'http://ufcstats.com/event-details/1e13936d708bcff7', 'http://ufcstats.com/event-details/4c12aa7ca246e7a4', 'http://ufcstats.com/event-details/14b9e0f2679a2205', 'http://ufcstats.com/event-details/dfb965c9824425db', 'http://ufcstats.com/event-details/5f8e00c27b7e7410', 'http://ufcstats.com/event-details/898337ef520fe4d3', 'http://ufcstats.com/event-details/53278852bcd91e11', 'http://ufcstats.com/event-details/0b5b6876c2a4723f', 'http://ufcstats.com/event-details/fc9a9559a05f2704', 'http://ufcstats.com/event-details/33b2f68ef95252e0', 'http://ufcstats.com/event-details/5df17b3620145578', 'http://ufcstats.com/event-details/b26d3e3746fb4024', 'http://ufcstats.com/event-details/44aa652b181bcf68', 'http://ufcstats.com/event-details/0c1773639c795466', 'http://ufcstats.com/event-details/74fefd43f073cd2f', 'http://ufcstats.com/event-details/4565d435005319c0', 'http://ufcstats.com/event-details/b09890ba7ce1d1e2', 'http://ufcstats.com/event-details/81ca2c245b19b3c5', 'http://ufcstats.com/event-details/8d5daf67983b65ba', 'http://ufcstats.com/event-details/fd87b1bbfcde9d5e', 'http://ufcstats.com/event-details/df05aa15b2d66f57', 'http://ufcstats.com/event-details/3ae10ac4df3df05c', 'http://ufcstats.com/event-details/0941df56f6ac954b', 'http://ufcstats.com/event-details/3cf68c1d17f66af7', 'http://ufcstats.com/event-details/1bf49bf829964144', 'http://ufcstats.com/event-details/94a5aaf573f780ad', 'http://ufcstats.com/event-details/4834ff149dc9542a', 'http://ufcstats.com/event-details/a79bfbc01b2264d6', 'http://ufcstats.com/event-details/2c104b7e59a72629', 'http://ufcstats.com/event-details/70167689d6a01793', 'http://ufcstats.com/event-details/e5d03e4d966126bd', 'http://ufcstats.com/event-details/03da33a102d9a45f', 'http://ufcstats.com/event-details/abcf7e55a0a9ed89', 'http://ufcstats.com/event-details/9e0f28d1f639ad73', 'http://ufcstats.com/event-details/2f8f3c69522db931', 'http://ufcstats.com/event-details/6c9383ffab2725a5', 'http://ufcstats.com/event-details/c0c1bc0766df4c00', 'http://ufcstats.com/event-details/b16a7e6a627e9789', 'http://ufcstats.com/event-details/e31502e3f79d00c5', 'http://ufcstats.com/event-details/cbc071cb20ea59c7', 'http://ufcstats.com/event-details/6b8f28da9a483049', 'http://ufcstats.com/event-details/9de7c97e1c0d7927', 'http://ufcstats.com/event-details/351264d11286d09a', 'http://ufcstats.com/event-details/c912f676692c353a', 'http://ufcstats.com/event-details/7dcf06c1967801c1', 'http://ufcstats.com/event-details/b0550072e5f0afa7', 'http://ufcstats.com/event-details/9649d75defe0dedb', 'http://ufcstats.com/event-details/487c170da059857d', 'http://ufcstats.com/event-details/80eacd4da0617c57', 'http://ufcstats.com/event-details/e96d8538d3f9d0ed', 'http://ufcstats.com/event-details/2d5fbe2103f97053', 'http://ufcstats.com/event-details/6546af7ab545b90c', 'http://ufcstats.com/event-details/a7a79b8efbceaaac', 'http://ufcstats.com/event-details/b5882371e2a3900d', 'http://ufcstats.com/event-details/84283233ec42be5f', 'http://ufcstats.com/event-details/d4da8995fc91e7ef', 'http://ufcstats.com/event-details/c046100aea0dba9a', 'http://ufcstats.com/event-details/7a703c565ccaa18f', 'http://ufcstats.com/event-details/2a74bbba57058f12', 'http://ufcstats.com/event-details/d1d20e651e6cbc02', 'http://ufcstats.com/event-details/c7ac79839e86ce33', 'http://ufcstats.com/event-details/de25520d54eab12d', 'http://ufcstats.com/event-details/aa3153a9941b4d44', 'http://ufcstats.com/event-details/42c96a9c4802e2e1', 'http://ufcstats.com/event-details/20821819c401ced8', 'http://ufcstats.com/event-details/33a331684283900f', 'http://ufcstats.com/event-details/1ef0eae31904e534', 'http://ufcstats.com/event-details/852454c572675334', 'http://ufcstats.com/event-details/8d49545dadf9b919', 'http://ufcstats.com/event-details/d5ae8074631762fc', 'http://ufcstats.com/event-details/c0342805a1948cbb', 'http://ufcstats.com/event-details/03b1e846b09f721d', 'http://ufcstats.com/event-details/322a56923b396b4d', 'http://ufcstats.com/event-details/4f732e58ed907eff', 'http://ufcstats.com/event-details/b45d6b73f4ca4467', 'http://ufcstats.com/event-details/35585d970300d45a', 'http://ufcstats.com/event-details/8215e4fe24e8e81b', 'http://ufcstats.com/event-details/ac5f67109accb482', 'http://ufcstats.com/event-details/2eae41f61776c60f', 'http://ufcstats.com/event-details/d29b5c4f22c6357d', 'http://ufcstats.com/event-details/f5990c11974d8e9c', 'http://ufcstats.com/event-details/3144121470023e9a', 'http://ufcstats.com/event-details/67ec58d7cf599835', 'http://ufcstats.com/event-details/ad99fa5325519169', 'http://ufcstats.com/event-details/620be7e0712d431b', 'http://ufcstats.com/event-details/49e7e05f902479ca', 'http://ufcstats.com/event-details/eed2b71d77d95416', 'http://ufcstats.com/event-details/7929be8290289a47', 'http://ufcstats.com/event-details/daa89f01e1c0f42a', 'http://ufcstats.com/event-details/d181689653115b6a', 'http://ufcstats.com/event-details/15515e797aedc137', 'http://ufcstats.com/event-details/7cf20446453f852b', 'http://ufcstats.com/event-details/602bb270f2bdbf02', 'http://ufcstats.com/event-details/02177caefe7c07d4', 'http://ufcstats.com/event-details/fc1868f56d3036eb', 'http://ufcstats.com/event-details/04076783ca83d6ae', 'http://ufcstats.com/event-details/eaa0a728cc91ef60', 'http://ufcstats.com/event-details/bcd124bcd3d5be46', 'http://ufcstats.com/event-details/9e30f69cc0869301', 'http://ufcstats.com/event-details/30e8b4505f5ccf92', 'http://ufcstats.com/event-details/e7bc606d269896aa', 'http://ufcstats.com/event-details/caced97768818230', 'http://ufcstats.com/event-details/d856a0080ac09ed7', 'http://ufcstats.com/event-details/a25b71fe5e31fa97', 'http://ufcstats.com/event-details/a7724f51e32e763e', 'http://ufcstats.com/event-details/d6b68eaf4b68b160', 'http://ufcstats.com/event-details/cc5834a495d1ea08', 'http://ufcstats.com/event-details/9211aae062b799d6', 'http://ufcstats.com/event-details/1979c80150f630c4', 'http://ufcstats.com/event-details/d86e913c548c07c2', 'http://ufcstats.com/event-details/a3244e3238541482', 'http://ufcstats.com/event-details/f4a031ac205ac580', 'http://ufcstats.com/event-details/ff9578cdbfabd323', 'http://ufcstats.com/event-details/9f3d6ddef3d3cccc', 'http://ufcstats.com/event-details/d7907a9a968e4d29', 'http://ufcstats.com/event-details/686cccbf1a4de453', 'http://ufcstats.com/event-details/23bd78c3f89bdb54', 'http://ufcstats.com/event-details/99bf06f20491cb54', 'http://ufcstats.com/event-details/353de740bb6c7e75', 'http://ufcstats.com/event-details/90e7447d8b7f3f35', 'http://ufcstats.com/event-details/1507214bbc7a79e2', 'http://ufcstats.com/event-details/1c7cce2f5c17160d', 'http://ufcstats.com/event-details/5df10509264586e5', 'http://ufcstats.com/event-details/bc7f7f0ba3db74d2', 'http://ufcstats.com/event-details/ed069a95aaaf4f56', 'http://ufcstats.com/event-details/e7bfdb5e0112891e', 'http://ufcstats.com/event-details/c0231720fe516994', 'http://ufcstats.com/event-details/47b7e4e60813b7b2', 'http://ufcstats.com/event-details/20e403a1acfef130', 'http://ufcstats.com/event-details/b4ad3a06ee4d660c', 'http://ufcstats.com/event-details/865aa315ea62c511', 'http://ufcstats.com/event-details/6a8a06b542e1516d', 'http://ufcstats.com/event-details/4512e46543b960ad', 'http://ufcstats.com/event-details/46effbd1135423c5', 'http://ufcstats.com/event-details/4b2390cfaceb91d8', 'http://ufcstats.com/event-details/32541eb5d12668b4', 'http://ufcstats.com/event-details/6e3282d57d2467a0', 'http://ufcstats.com/event-details/7139cd2ae4bf6a29', 'http://ufcstats.com/event-details/bd4389b71fdc0ce2', 'http://ufcstats.com/event-details/73e09f837f3b5ecc', 'http://ufcstats.com/event-details/5cde96e0a1a1fffe', 'http://ufcstats.com/event-details/6810d8d2dd557cf9', 'http://ufcstats.com/event-details/4956f60b7fa57c1a', 'http://ufcstats.com/event-details/6083f497c22cc075', 'http://ufcstats.com/event-details/154a6b3ffae264cd', 'http://ufcstats.com/event-details/a196332ee4aa8a82', 'http://ufcstats.com/event-details/e18012194473e8b0', 'http://ufcstats.com/event-details/d6455cb4bee503ce', 'http://ufcstats.com/event-details/2dc7f1762dc0a7ef', 'http://ufcstats.com/event-details/2b4faacc16d66898', 'http://ufcstats.com/event-details/cfbccfed4e4796fe', 'http://ufcstats.com/event-details/5da4e8dc02e50ac0', 'http://ufcstats.com/event-details/232c582f29f8f65e', 'http://ufcstats.com/event-details/72cbe507644a587c', 'http://ufcstats.com/event-details/8a028648f3f0761d', 'http://ufcstats.com/event-details/5e7a28f20927d64a', 'http://ufcstats.com/event-details/aa5b4eff51bdc7d1', 'http://ufcstats.com/event-details/cd42bbe8887bba90', 'http://ufcstats.com/event-details/45a2ba3ef82b9700', 'http://ufcstats.com/event-details/563d051c9e769b24', 'http://ufcstats.com/event-details/ff4c3ab594c7fac3', 'http://ufcstats.com/event-details/990060b2a68a7b82', 'http://ufcstats.com/event-details/a4bf17bd3ba3423b', 'http://ufcstats.com/event-details/a314687f372b2cec', 'http://ufcstats.com/event-details/3d481aa374c954a1', 'http://ufcstats.com/event-details/e7e970d508529bf3', 'http://ufcstats.com/event-details/4887e5bc4dbb73ff', 'http://ufcstats.com/event-details/e60201cfab7d656d', 'http://ufcstats.com/event-details/db1f2ed63b54b9a7', 'http://ufcstats.com/event-details/39c568f8c579913e', 'http://ufcstats.com/event-details/d56bb6dff2ae77eb', 'http://ufcstats.com/event-details/de99da2c0d18d34a', 'http://ufcstats.com/event-details/b3fb8d2293e17a59', 'http://ufcstats.com/event-details/c6becb722706c7d8', 'http://ufcstats.com/event-details/380e8b023290d091', 'http://ufcstats.com/event-details/80d918336163b80c', 'http://ufcstats.com/event-details/354808cf38d9d73c', 'http://ufcstats.com/event-details/20fbff570c678e1c', 'http://ufcstats.com/event-details/dd39f1ca787a3d9d', 'http://ufcstats.com/event-details/4d636c3aa1105950', 'http://ufcstats.com/event-details/243b07fc65ccbb16', 'http://ufcstats.com/event-details/8d04923f2db59b7f', 'http://ufcstats.com/event-details/5345f86680378fc1', 'http://ufcstats.com/event-details/f3155a94ca420126', 'http://ufcstats.com/event-details/119ebea97e914dcf', 'http://ufcstats.com/event-details/a4dd5c9a75763295', 'http://ufcstats.com/event-details/82f5c81f4e3c3eb5', 'http://ufcstats.com/event-details/2ce6541127b0e232', 'http://ufcstats.com/event-details/b71667c778b6d9e5', 'http://ufcstats.com/event-details/a9c45a8b21eabadc', 'http://ufcstats.com/event-details/0c3838c8f7c620c2', 'http://ufcstats.com/event-details/ef7fa30364cbe7f2', 'http://ufcstats.com/event-details/36877f0e62b25b96', 'http://ufcstats.com/event-details/a890f9a791ed615d', 'http://ufcstats.com/event-details/3be081c29bf734d9', 'http://ufcstats.com/event-details/86e388ed20761ad9', 'http://ufcstats.com/event-details/194fc025f9355db6', 'http://ufcstats.com/event-details/a58114c6dd0add64', 'http://ufcstats.com/event-details/06dc1a58663579d2', 'http://ufcstats.com/event-details/aae0897825336b1a', 'http://ufcstats.com/event-details/4f7e290e71d60f87', 'http://ufcstats.com/event-details/b1605ea39fba6af6', 'http://ufcstats.com/event-details/8a1b4330c7957961', 'http://ufcstats.com/event-details/997b4f52f76a0b53', 'http://ufcstats.com/event-details/bc7cf284c1c2f16e', 'http://ufcstats.com/event-details/5de61b03868035ff', 'http://ufcstats.com/event-details/16d09e800ad7ec79', 'http://ufcstats.com/event-details/fa534853eb195270', 'http://ufcstats.com/event-details/f54200f1dfb9b5d4', 'http://ufcstats.com/event-details/ad4e9055bf8cd04d', 'http://ufcstats.com/event-details/0577808d22dfe79c', 'http://ufcstats.com/event-details/f9c7fe2682af3802', 'http://ufcstats.com/event-details/43563a32c3f10e95', 'http://ufcstats.com/event-details/706404da0775dcbc', 'http://ufcstats.com/event-details/f9aa6376ae16bfb4', 'http://ufcstats.com/event-details/a72d260b436924c4', 'http://ufcstats.com/event-details/4e5bbc4566049cbf', 'http://ufcstats.com/event-details/d4a12dfa4067742f', 'http://ufcstats.com/event-details/222d6b547de2e035', 'http://ufcstats.com/event-details/dfdd0c5dd0d4bc23', 'http://ufcstats.com/event-details/155a02a8b4311057', 'http://ufcstats.com/event-details/59851163aaf1aed8', 'http://ufcstats.com/event-details/6ca68b636fbc1f18', 'http://ufcstats.com/event-details/371a1c91b24dec2b', 'http://ufcstats.com/event-details/53f02bbc41d99432', 'http://ufcstats.com/event-details/0313bf497de9c470', 'http://ufcstats.com/event-details/8dc4f34c1f50d00d', 'http://ufcstats.com/event-details/3bb030257966b022', 'http://ufcstats.com/event-details/2dea80c069847321', 'http://ufcstats.com/event-details/a71feb7ea7592a71', 'http://ufcstats.com/event-details/9bcfb40dbcd50568', 'http://ufcstats.com/event-details/269d103c96a4c3a5', 'http://ufcstats.com/event-details/063649e21bc9d6d5', 'http://ufcstats.com/event-details/ef7fa30364cbe7f2', 'http://ufcstats.com/event-details/fd7acf42bd6e7e95', 'http://ufcstats.com/event-details/05fbfe628658c538', 'http://ufcstats.com/event-details/073eee4e62f0d988', 'http://ufcstats.com/event-details/79ded75550efc139', 'http://ufcstats.com/event-details/1c5879330d42255f', 'http://ufcstats.com/event-details/53adf5b845d91e4a', 'http://ufcstats.com/event-details/c0ed7b208197e8de', 'http://ufcstats.com/event-details/ac9521250dc1a14c', 'http://ufcstats.com/event-details/5b5307450405abf0', 'http://ufcstats.com/event-details/1fcfc3709fe58151', 'http://ufcstats.com/event-details/59aaf2730b84698a', 'http://ufcstats.com/event-details/b757c73f443d4fca', 'http://ufcstats.com/event-details/9ca265dfe8323db3', 'http://ufcstats.com/event-details/579fcdfcabd23a7b', 'http://ufcstats.com/event-details/4f2fcbefb668689d', 'http://ufcstats.com/event-details/a421465acbe59c77', 'http://ufcstats.com/event-details/f9f07bb5a43535ed', 'http://ufcstats.com/event-details/d632d156c0549e07', 'http://ufcstats.com/event-details/d5f820c11a121050', 'http://ufcstats.com/event-details/179f1948dc234f1f', 'http://ufcstats.com/event-details/ebc1f40e00e0c481', 'http://ufcstats.com/event-details/a26198ba5093147e', 'http://ufcstats.com/event-details/3138fab619faf4d1', 'http://ufcstats.com/event-details/51b0bb73a1da34bc', 'http://ufcstats.com/event-details/fc31f896cde2bc2e', 'http://ufcstats.com/event-details/a8d521d913df4e31', 'http://ufcstats.com/event-details/30a09e43f15f1d75', 'http://ufcstats.com/event-details/e5c9de15bb58b1c6', 'http://ufcstats.com/event-details/83d0de122f2f9664', 'http://ufcstats.com/event-details/480b702debcb5433', 'http://ufcstats.com/event-details/ee457ef1e1c326c1', 'http://ufcstats.com/event-details/9a967e8e43dcef63', 'http://ufcstats.com/event-details/28f3c2258a1d8874', 'http://ufcstats.com/event-details/5d7c18191b8aa432', 'http://ufcstats.com/event-details/35dc6220b113b7ec', 'http://ufcstats.com/event-details/60884f31ead1609c', 'http://ufcstats.com/event-details/eae4aec1a5a8ff01', 'http://ufcstats.com/event-details/43612456979e5d5e', 'http://ufcstats.com/event-details/df5a77121ba84a5d', 'http://ufcstats.com/event-details/b23fca14c7b79935', 'http://ufcstats.com/event-details/980b4e712489098e', 'http://ufcstats.com/event-details/e5c38954c006f15c', 'http://ufcstats.com/event-details/cf1a88371c8cb690', 'http://ufcstats.com/event-details/ebc5af72ad5a28cb', 'http://ufcstats.com/event-details/5330fe7e4c3af81c', 'http://ufcstats.com/event-details/e0b74df14f52cd15', 'http://ufcstats.com/event-details/8fd1f27e86661ede', 'http://ufcstats.com/event-details/7865707fd684d77b', 'http://ufcstats.com/event-details/3c241737a6069b9f', 'http://ufcstats.com/event-details/030f08370fd1c2bb', 'http://ufcstats.com/event-details/ea0ad155451ed1f5', 'http://ufcstats.com/event-details/aa79d5399571068e', 'http://ufcstats.com/event-details/ce47f49e5c386a9c', 'http://ufcstats.com/event-details/6291ac0a3726732f', 'http://ufcstats.com/event-details/f1b2a4365799c48b', 'http://ufcstats.com/event-details/83c6c3e0f8bde8ee', 'http://ufcstats.com/event-details/09c44b317c98bf96', 'http://ufcstats.com/event-details/4679a38cced7c64a', 'http://ufcstats.com/event-details/601cf40c09090853', 'http://ufcstats.com/event-details/738acab0c6934dd8', 'http://ufcstats.com/event-details/56f4b81ec4db61af', 'http://ufcstats.com/event-details/c6e6926a81adcd00', 'http://ufcstats.com/event-details/c6da1c24fe473418', 'http://ufcstats.com/event-details/e8c170a64dc920ac', 'http://ufcstats.com/event-details/d1e6a6536ee62517', 'http://ufcstats.com/event-details/d41937647eae9a34', 'http://ufcstats.com/event-details/319fa1bd3176bded', 'http://ufcstats.com/event-details/96d173b7f92aa520', 'http://ufcstats.com/event-details/6a0b80a24f22e152', 'http://ufcstats.com/event-details/6cbb7661c3258617', 'http://ufcstats.com/event-details/53e533db1b8e9712', 'http://ufcstats.com/event-details/3c48019bc387b80c', 'http://ufcstats.com/event-details/f62850b3c7480db9', 'http://ufcstats.com/event-details/abbc4fc02e0d84b3', 'http://ufcstats.com/event-details/d3b5ad3b15a64a18', 'http://ufcstats.com/event-details/e8efeb9cf33b1941', 'http://ufcstats.com/event-details/3da19339ee7051d5', 'http://ufcstats.com/event-details/505934897b8b4824', 'http://ufcstats.com/event-details/49590e0508b2c19f', 'http://ufcstats.com/event-details/96087e90d900f0ef', 'http://ufcstats.com/event-details/4985113c0928aa62', 'http://ufcstats.com/event-details/8caca5857ce0e30b', 'http://ufcstats.com/event-details/5898357a45a73674', 'http://ufcstats.com/event-details/155bfc7ed36622df', 'http://ufcstats.com/event-details/21f2974fd08085e3', 'http://ufcstats.com/event-details/b5ea750025697880', 'http://ufcstats.com/event-details/8377c5572cb356f3', 'http://ufcstats.com/event-details/0a97691039c4bbfb', 'http://ufcstats.com/event-details/df2cf66d8c0123db', 'http://ufcstats.com/event-details/c3c23c99477c041b', 'http://ufcstats.com/event-details/4d74641fac830182', 'http://ufcstats.com/event-details/18524b46c570730b', 'http://ufcstats.com/event-details/91720876db0ee468', 'http://ufcstats.com/event-details/6d7886b094b471ac', 'http://ufcstats.com/event-details/1f5f75658551f2d3', 'http://ufcstats.com/event-details/0ec821423baa26bd', 'http://ufcstats.com/event-details/1c061eb6e29eaa0a', 'http://ufcstats.com/event-details/e780ccc79a209985', 'http://ufcstats.com/event-details/8788beb528894f33', 'http://ufcstats.com/event-details/7d5b12de1625984e', 'http://ufcstats.com/event-details/44f9c777fed7ca03', 'http://ufcstats.com/event-details/73ef22f25d0f70e2', 'http://ufcstats.com/event-details/1ffc38f67785797b', 'http://ufcstats.com/event-details/18968f97ad34f15c', 'http://ufcstats.com/event-details/4c8d6fde2dde07c4', 'http://ufcstats.com/event-details/f1f9e48a0d150757', 'http://ufcstats.com/event-details/83fd97284f4bb4a4', 'http://ufcstats.com/event-details/d023ae89a2a4a41e', 'http://ufcstats.com/event-details/aac5ac38148f0528', 'http://ufcstats.com/event-details/3ba3b5cc94498437', 'http://ufcstats.com/event-details/b732b326c362fb62', 'http://ufcstats.com/event-details/2db7fa8db6bc9632', 'http://ufcstats.com/event-details/8a59d346dc976a10', 'http://ufcstats.com/event-details/1411c630ba711b64', 'http://ufcstats.com/event-details/a54fc2d6fc224dc3', 'http://ufcstats.com/event-details/88a9bc81271ccd89', 'http://ufcstats.com/event-details/65ddc8a9ac4e8531', 'http://ufcstats.com/event-details/282fa667ff9c51ed', 'http://ufcstats.com/event-details/d1152823307d7e7c', 'http://ufcstats.com/event-details/132f860d02953f4c', 'http://ufcstats.com/event-details/5d7bdab5e03e3216', 'http://ufcstats.com/event-details/dd992d569aaebee6', 'http://ufcstats.com/event-details/0ff11cc094e887bc', 'http://ufcstats.com/event-details/afdb76fbd86f6d11', 'http://ufcstats.com/event-details/d512d9f204059f57', 'http://ufcstats.com/event-details/ad32471f01e7b1a5', 'http://ufcstats.com/event-details/acff437707625fc7', 'http://ufcstats.com/event-details/054defd5420a551f', 'http://ufcstats.com/event-details/2f3f12002564bb55', 'http://ufcstats.com/event-details/f12f979b657ab876', 'http://ufcstats.com/event-details/140745cbbcb023ac', 'http://ufcstats.com/event-details/9bcf8603ceb25680', 'http://ufcstats.com/event-details/cfb65863d5099327', 'http://ufcstats.com/event-details/bfc2fc38a0e20211', 'http://ufcstats.com/event-details/d0c29452d3272603', 'http://ufcstats.com/event-details/24b033b3daf1c9df', 'http://ufcstats.com/event-details/3ed134d85dfbd7b4', 'http://ufcstats.com/event-details/c80095f6092271a7', 'http://ufcstats.com/event-details/3795fca327cbcf23', 'http://ufcstats.com/event-details/49efbdc6c9f650c4', 'http://ufcstats.com/event-details/15edcf67ccf5be84', 'http://ufcstats.com/event-details/58bc81376286b3d3', 'http://ufcstats.com/event-details/a6d8bfe9e0c8153b', 'http://ufcstats.com/event-details/821cd80aab70d5f9', 'http://ufcstats.com/event-details/91d73ee59347ac16', 'http://ufcstats.com/event-details/84a067c46306a737', 'http://ufcstats.com/event-details/fa8b9e6b0c2269f8', 'http://ufcstats.com/event-details/7c0847d3854a95f2', 'http://ufcstats.com/event-details/896c322f56b8be5a', 'http://ufcstats.com/event-details/a8ea84cbe1655f0a', 'http://ufcstats.com/event-details/c6a33ff198aaaeeb', 'http://ufcstats.com/event-details/48d1f690b763934c', 'http://ufcstats.com/event-details/0ee783aa00e468f0', 'http://ufcstats.com/event-details/4908c5ee68a50ee5', 'http://ufcstats.com/event-details/cb6783c39c01d896', 'http://ufcstats.com/event-details/c4b6099f0d25f75e', 'http://ufcstats.com/event-details/1652f3213655b935', 'http://ufcstats.com/event-details/e5c38954c006f15c', 'http://ufcstats.com/event-details/29b5791e51e7e832', 'http://ufcstats.com/event-details/7d21de9c6d7c98b2', 'http://ufcstats.com/event-details/d1759b2b7be9be56', 'http://ufcstats.com/event-details/2a542ee8a8b83559', 'http://ufcstats.com/event-details/68c6cd5287b473a7', 'http://ufcstats.com/event-details/23ab42947c1990e3', 'http://ufcstats.com/event-details/ea398c802d9998ee', 'http://ufcstats.com/event-details/30cd319d39ee689b', 'http://ufcstats.com/event-details/a2b06ca02bca14c0', 'http://ufcstats.com/event-details/c670aa48827d6be6', 'http://ufcstats.com/event-details/312f47c3d2f83ffa', 'http://ufcstats.com/event-details/279093302a6f44b3', 'http://ufcstats.com/event-details/0db70ca89e1c7374', 'http://ufcstats.com/event-details/19ffeb5e3fffd6d5', 'http://ufcstats.com/event-details/46f11d15c0134fe3', 'http://ufcstats.com/event-details/bf12aca029bfcc47', 'http://ufcstats.com/event-details/2299605af59fd309', 'http://ufcstats.com/event-details/2efbc83a6b9b7f86', 'http://ufcstats.com/event-details/2549d63da9c456cb', 'http://ufcstats.com/event-details/ad047e3073a775f3', 'http://ufcstats.com/event-details/b9e871af730f826c', 'http://ufcstats.com/event-details/598a58db87b890ee', 'http://ufcstats.com/event-details/597db668b01c442c', 'http://ufcstats.com/event-details/33e33d51f289d2a1', 'http://ufcstats.com/event-details/a24e080000fa7a35', 'http://ufcstats.com/event-details/7269329bd87eb479', 'http://ufcstats.com/event-details/df85d6ec3493d120', 'http://ufcstats.com/event-details/1d147d4163a6989b', 'http://ufcstats.com/event-details/91181b29be041f1c', 'http://ufcstats.com/event-details/bad28b7b34f334de', 'http://ufcstats.com/event-details/f341f9551ba744e2', 'http://ufcstats.com/event-details/0aa92558424ced9e', 'http://ufcstats.com/event-details/a5c53b3ddb31cc7d', 'http://ufcstats.com/event-details/2a6f8136da1e52c0', 'http://ufcstats.com/event-details/e7ec11096eac0282', 'http://ufcstats.com/event-details/5ca158b1cc9cb242', 'http://ufcstats.com/event-details/304fcd812f12c589', 'http://ufcstats.com/event-details/2e04a3b4a2011b97', 'http://ufcstats.com/event-details/4604ab1de9058474', 'http://ufcstats.com/event-details/c1684f00c626f4c0', 'http://ufcstats.com/event-details/a6c2f5381d575920', 'http://ufcstats.com/event-details/de3ed2e152520c8d', 'http://ufcstats.com/event-details/63b65af1c5cb02cb', 'http://ufcstats.com/event-details/13c4313ed0f744f3', 'http://ufcstats.com/event-details/ee5df903f80c6816', 'http://ufcstats.com/event-details/21b8a0f5c231096f', 'http://ufcstats.com/event-details/3fed746acfd026dd', 'http://ufcstats.com/event-details/baf942f4bcb09894', 'http://ufcstats.com/event-details/13b2f59210dda9cc', 'http://ufcstats.com/event-details/577ec7e108b94be3', 'http://ufcstats.com/event-details/13e62d766b709aa6', 'http://ufcstats.com/event-details/f717b6002486f73f', 'http://ufcstats.com/event-details/46c8ec317aff28ac', 'http://ufcstats.com/event-details/f70144caea5c4c80', 'http://ufcstats.com/event-details/6ca68b636fbc1f18', 'http://ufcstats.com/event-details/1dab0d1d81dd06db', 'http://ufcstats.com/event-details/a54a35a670d8e852', 'http://ufcstats.com/event-details/03688dc3c3af3ac1', 'http://ufcstats.com/event-details/b361180739bed4b0', 'http://ufcstats.com/event-details/0e9869d712e81f8f', 'http://ufcstats.com/event-details/977081bc01197656', 'http://ufcstats.com/event-details/2ee09ec2a0695eb9', 'http://ufcstats.com/event-details/c7e9d15cfce52f1d', 'http://ufcstats.com/event-details/31ceaf0e670c1578', 'http://ufcstats.com/event-details/271fe91f4ba9d2c5', 'http://ufcstats.com/event-details/efaf544314bb5c2e', 'http://ufcstats.com/event-details/669a3cb6e394f515', 'http://ufcstats.com/event-details/3f24c96753dbd9f9', 'http://ufcstats.com/event-details/d3711d3784b76255', 'http://ufcstats.com/event-details/c933d423ebdbbbdb', 'http://ufcstats.com/event-details/fbbde91f7bc2d3c5', 'http://ufcstats.com/event-details/85d905f7c4f5a1af', 'http://ufcstats.com/event-details/ce783bf73b5131f9', 'http://ufcstats.com/event-details/b4bc2e3353a770b5', 'http://ufcstats.com/event-details/429e7d3725852ce9', 'http://ufcstats.com/event-details/e8fb8e53bc2e29d6', 'http://ufcstats.com/event-details/94609dd91731d428', 'http://ufcstats.com/event-details/e670f8cc2969a789', 'http://ufcstats.com/event-details/c61f66d8c3fd5f07', 'http://ufcstats.com/event-details/108afe61a26bcbf4', 'http://ufcstats.com/event-details/ae58685caf8e4a0d', 'http://ufcstats.com/event-details/bba678d312590087', 'http://ufcstats.com/event-details/e06fd1260ac865a7', 'http://ufcstats.com/event-details/0cf935519d439ba6', 'http://ufcstats.com/event-details/1dc56b59cb28425d', 'http://ufcstats.com/event-details/9ccdd2ce45903f34', 'http://ufcstats.com/event-details/9fd1f08dd4aec14a', 'http://ufcstats.com/event-details/02fc8f50f56eb307', 'http://ufcstats.com/event-details/946f341df6472ee0', 'http://ufcstats.com/event-details/4dc496aa0cfc0d95', 'http://ufcstats.com/event-details/c75b99887c8c3f5a', 'http://ufcstats.com/event-details/7b9aa973e5c04624', 'http://ufcstats.com/event-details/20bd6c3e03c46ee6', 'http://ufcstats.com/event-details/2b1587a3376ab743', 'http://ufcstats.com/event-details/08ae5cd9aef7ddd3', 'http://ufcstats.com/event-details/da6dfd09cca1d705', 'http://ufcstats.com/event-details/31652c9267606d54', 'http://ufcstats.com/event-details/cedfdf8d423d500c', 'http://ufcstats.com/event-details/d2b1c1317a39f6c6', 'http://ufcstats.com/event-details/20ec0061400178ca', 'http://ufcstats.com/event-details/a8fa0c4e95512806', 'http://ufcstats.com/event-details/afaad7d6a581e307', 'http://ufcstats.com/event-details/1a1a4d7a29041d77', 'http://ufcstats.com/event-details/a7b48e18ca27795d', 'http://ufcstats.com/event-details/a220be6d41d6f97d', 'http://ufcstats.com/event-details/c9bbf1a0285a8076', 'http://ufcstats.com/event-details/32a3025d5db456ae', 'http://ufcstats.com/event-details/4a01dc8376736ef5', 'http://ufcstats.com/event-details/749685d24e2cac50', 'http://ufcstats.com/event-details/29f935654825331b', 'http://ufcstats.com/event-details/07a18ae55dfc3cd9', 'http://ufcstats.com/event-details/dc950d59dc590aca', 'http://ufcstats.com/event-details/5bd533d50c8e7b8a', 'http://ufcstats.com/event-details/96eff1a628adcc7f', 'http://ufcstats.com/event-details/9b5b5a75523728f3', 'http://ufcstats.com/event-details/6ceff86fae4f6b3b', 'http://ufcstats.com/event-details/aee8eecfc4bfb1e7', 'http://ufcstats.com/event-details/a390eb8a9b2df298', 'http://ufcstats.com/event-details/b63e800c18e011b5', 'http://ufcstats.com/event-details/31bbd46d57dfbcb7', 'http://ufcstats.com/event-details/5af480a3b2e1726b', 'http://ufcstats.com/event-details/1c3f5e85b59ec710', 'http://ufcstats.com/event-details/dedc3bb440d09554', 'http://ufcstats.com/event-details/b60391da771deefe', 'http://ufcstats.com/event-details/1a49e0670dfaca31', 'http://ufcstats.com/event-details/a6a9ab5a824e8f66']\n"
          ],
          "name": "stdout"
        }
      ]
    },
    {
      "cell_type": "markdown",
      "metadata": {
        "id": "QoU8LAPK_dbQ"
      },
      "source": [
        "## Get a list of UFC fights"
      ]
    },
    {
      "cell_type": "code",
      "metadata": {
        "id": "2nDi4mo6CLn_"
      },
      "source": [
        "def get_all_fights_in_event(past_event_url, get_results=False):\n",
        "    '''Takes in a single URL to a past event. Returns list, with each element representing a UFC fight.\n",
        "       If get_results=True, each element is a tuple of a fight url and winner.\n",
        "       If get_results=False, each element is a fight url'''\n",
        "    past_event_html = urlopen(past_event_url).read().decode(\"utf-8\")\n",
        "    past_event_tables = pd.read_html(past_event_url)[0]  # Will be length 1 list\n",
        "\n",
        "    # Read through the raw event html. Find the URL, winner, and method (dec or KO or sub) of each fight.\n",
        "    body = past_event_html[past_event_html.index(\"<body \"):]\n",
        "    fight_urls, winners, methods = [], [], []\n",
        "    for i, row in past_event_tables.iterrows():\n",
        "        result = row[\"W/L\"].split(' ')[0]\n",
        "        before_result = body[:body.index(result)]\n",
        "        begin = before_result[before_result.rfind(\"http://ufcstats.com/fight-details/\"):]\n",
        "        url = begin[:begin.find(\"\\\"\")]\n",
        "        if result == \"win\":\n",
        "            winner, loser = get_fighters(row[\"Fighter\"], ALL_FIGHTERS)\n",
        "        else:\n",
        "            winner = None\n",
        "\n",
        "        # Store url and winner\n",
        "        fight_urls.append(url)\n",
        "        winners.append(winner)\n",
        "        methods.append(row[\"Method\"])\n",
        "\n",
        "        # Move text forward\n",
        "        body = body[body.index(result)+len(result):]\n",
        "\n",
        "    if get_results:\n",
        "        return fight_urls, winners, methods\n",
        "    else:\n",
        "        return fight_urls"
      ],
      "execution_count": null,
      "outputs": []
    },
    {
      "cell_type": "code",
      "metadata": {
        "id": "7_pNUnyMPxkM"
      },
      "source": [
        "def get_all_fights(all_event_urls, num_events=None):\n",
        "    '''Takes in list of URLs to past events. Returns 3 lists: urls, winners, methods, each representing a UFC fight.\n",
        "       Set num_events to be the number of events to get fights from. Set to None if want all.'''\n",
        "    if num_events is None:\n",
        "        num_events = len(all_event_urls)\n",
        "    \n",
        "    all_fight_urls, all_winners, all_methods = [], [], []\n",
        "    for i, event_url in enumerate(tqdm(all_event_urls[:num_events])):\n",
        "        # Cap the number of events\n",
        "        if i == num_events:\n",
        "            break\n",
        "\n",
        "        # For each event, get the fight urls and winners\n",
        "        fight_urls, winners, methods = get_all_fights_in_event(event_url, get_results=True)\n",
        "        all_fight_urls.extend(fight_urls)\n",
        "        all_winners.extend(winners)\n",
        "        all_methods.extend(methods)\n",
        "    return all_fight_urls, all_winners, all_methods"
      ],
      "execution_count": null,
      "outputs": []
    },
    {
      "cell_type": "code",
      "metadata": {
        "id": "Q66lyNtAF-Vo",
        "colab": {
          "base_uri": "https://localhost:8080/"
        },
        "outputId": "4fda888d-76b3-4b29-c561-4de497fdda09"
      },
      "source": [
        "NUM_EVENTS = 50\n",
        "FIGHT_URLS, WINNERS, METHODS = get_all_fights(ALL_EVENT_URLS, num_events=NUM_EVENTS)\n",
        "print(f\"Got {len(FIGHT_URLS)} fights\")\n",
        "print(FIGHT_URLS)\n",
        "print(WINNERS)\n",
        "print(METHODS)"
      ],
      "execution_count": null,
      "outputs": [
        {
          "output_type": "stream",
          "text": [
            "\n",
            "  0%|          | 0/50 [00:00<?, ?it/s]\u001b[A\n",
            "  2%|▏         | 1/50 [00:01<01:25,  1.74s/it]\u001b[A\n",
            "  4%|▍         | 2/50 [00:04<01:31,  1.91s/it]\u001b[A\n",
            "  6%|▌         | 3/50 [00:06<01:32,  1.96s/it]\u001b[A\n",
            "  8%|▊         | 4/50 [00:07<01:27,  1.90s/it]\u001b[A\n",
            " 10%|█         | 5/50 [00:09<01:28,  1.96s/it]\u001b[A\n",
            " 12%|█▏        | 6/50 [00:13<01:42,  2.33s/it]\u001b[A\n",
            " 14%|█▍        | 7/50 [00:14<01:26,  2.00s/it]\u001b[A\n",
            " 16%|█▌        | 8/50 [00:16<01:23,  2.00s/it]\u001b[A\n",
            " 18%|█▊        | 9/50 [00:18<01:22,  2.02s/it]\u001b[A\n",
            " 20%|██        | 10/50 [00:21<01:29,  2.24s/it]\u001b[A\n",
            " 22%|██▏       | 11/50 [00:23<01:26,  2.21s/it]\u001b[A\n",
            " 24%|██▍       | 12/50 [00:25<01:25,  2.24s/it]\u001b[A\n",
            " 26%|██▌       | 13/50 [00:27<01:15,  2.03s/it]\u001b[A\n",
            " 28%|██▊       | 14/50 [00:29<01:20,  2.23s/it]\u001b[A\n",
            " 30%|███       | 15/50 [00:31<01:14,  2.13s/it]\u001b[A\n",
            " 32%|███▏      | 16/50 [00:33<01:06,  1.97s/it]\u001b[A\n",
            " 34%|███▍      | 17/50 [00:35<01:02,  1.90s/it]\u001b[A\n",
            " 36%|███▌      | 18/50 [00:37<01:01,  1.91s/it]\u001b[A\n",
            " 38%|███▊      | 19/50 [00:39<01:02,  2.02s/it]\u001b[A\n",
            " 40%|████      | 20/50 [00:41<00:57,  1.92s/it]\u001b[A\n",
            " 42%|████▏     | 21/50 [00:43<00:58,  2.02s/it]\u001b[A\n",
            " 44%|████▍     | 22/50 [00:45<00:59,  2.12s/it]\u001b[A\n",
            " 46%|████▌     | 23/50 [00:47<00:57,  2.12s/it]\u001b[A\n",
            " 48%|████▊     | 24/50 [00:49<00:55,  2.12s/it]\u001b[A\n",
            " 50%|█████     | 25/50 [00:51<00:51,  2.06s/it]\u001b[A\n",
            " 52%|█████▏    | 26/50 [00:53<00:49,  2.06s/it]\u001b[A\n",
            " 54%|█████▍    | 27/50 [00:55<00:45,  1.96s/it]\u001b[A\n",
            " 56%|█████▌    | 28/50 [00:57<00:44,  2.02s/it]\u001b[A\n",
            " 58%|█████▊    | 29/50 [00:59<00:40,  1.93s/it]\u001b[A\n",
            " 60%|██████    | 30/50 [01:01<00:37,  1.88s/it]\u001b[A\n",
            " 62%|██████▏   | 31/50 [01:03<00:35,  1.89s/it]\u001b[A\n",
            " 64%|██████▍   | 32/50 [01:05<00:35,  1.98s/it]\u001b[A\n",
            " 66%|██████▌   | 33/50 [01:08<00:37,  2.22s/it]\u001b[A\n",
            " 68%|██████▊   | 34/50 [01:09<00:30,  1.93s/it]\u001b[A\n",
            " 70%|███████   | 35/50 [01:11<00:31,  2.12s/it]\u001b[A\n",
            " 72%|███████▏  | 36/50 [01:13<00:27,  2.00s/it]\u001b[A\n",
            " 74%|███████▍  | 37/50 [01:15<00:25,  1.99s/it]\u001b[A\n",
            " 76%|███████▌  | 38/50 [01:18<00:27,  2.31s/it]\u001b[A\n",
            " 78%|███████▊  | 39/50 [01:20<00:24,  2.20s/it]\u001b[A\n",
            " 80%|████████  | 40/50 [01:22<00:21,  2.18s/it]\u001b[A\n",
            " 82%|████████▏ | 41/50 [01:24<00:17,  1.93s/it]\u001b[A\n",
            " 84%|████████▍ | 42/50 [01:26<00:16,  2.02s/it]\u001b[A\n",
            " 86%|████████▌ | 43/50 [01:28<00:13,  1.97s/it]\u001b[A\n",
            " 88%|████████▊ | 44/50 [01:29<00:11,  1.92s/it]\u001b[A\n",
            " 90%|█████████ | 45/50 [01:32<00:09,  1.95s/it]\u001b[A\n",
            " 92%|█████████▏| 46/50 [01:34<00:08,  2.00s/it]\u001b[A\n",
            " 94%|█████████▍| 47/50 [01:36<00:06,  2.12s/it]\u001b[A\n",
            " 96%|█████████▌| 48/50 [01:38<00:04,  2.08s/it]\u001b[A\n",
            " 98%|█████████▊| 49/50 [01:40<00:01,  1.97s/it]\u001b[A\n",
            "100%|██████████| 50/50 [01:42<00:00,  2.06s/it]"
          ],
          "name": "stderr"
        },
        {
          "output_type": "stream",
          "text": [
            "Got 557 fights\n",
            "['http://ufcstats.com/fight-details/f67aa0b16e16a9ea', 'http://ufcstats.com/fight-details/f2c82f027201ba21', 'http://ufcstats.com/fight-details/a850ba762f3c5334', 'http://ufcstats.com/fight-details/0b2c3c4306620d6d', 'http://ufcstats.com/fight-details/a33ecd2c88154890', 'http://ufcstats.com/fight-details/fdfe4e7cb2d0b665', 'http://ufcstats.com/fight-details/25d4376e00b16510', 'http://ufcstats.com/fight-details/627c0a50cff30405', 'http://ufcstats.com/fight-details/8d634c9240f161dd', 'http://ufcstats.com/fight-details/24ff385ca78c80d3', 'http://ufcstats.com/fight-details/ddd63237f1b857a6', 'http://ufcstats.com/fight-details/71b81d8199a0fa19', 'http://ufcstats.com/fight-details/646eeca9447c6965', 'http://ufcstats.com/fight-details/0992795fd0fa06d0', 'http://ufcstats.com/fight-details/ac9a8b73e58f3d71', 'http://ufcstats.com/fight-details/e27c28928ed4390f', 'http://ufcstats.com/fight-details/998296216e7171ed', 'http://ufcstats.com/fight-details/7aebf01b5afc0109', 'http://ufcstats.com/fight-details/444f0a732695dc81', 'http://ufcstats.com/fight-details/1fee9eca658d9808', 'http://ufcstats.com/fight-details/93a1cd50374397c0', 'http://ufcstats.com/fight-details/cd5d9828b278181a', 'http://ufcstats.com/fight-details/3209bcfaf95de90b', 'http://ufcstats.com/fight-details/b1eff235241e719b', 'http://ufcstats.com/fight-details/39d188fa9b95d550', 'http://ufcstats.com/fight-details/0aa335dbc4cb3473', 'http://ufcstats.com/fight-details/8317208cfb030ed3', 'http://ufcstats.com/fight-details/390694c179f05c7f', 'http://ufcstats.com/fight-details/48292a027df02443', 'http://ufcstats.com/fight-details/4b3af85b0df51d09', 'http://ufcstats.com/fight-details/6002c24f0b7f8cc7', 'http://ufcstats.com/fight-details/2220b73ece1730c3', 'http://ufcstats.com/fight-details/41622791b276ad9e', 'http://ufcstats.com/fight-details/2efbcd870f1f7bc7', 'http://ufcstats.com/fight-details/edac9fd482177a64', 'http://ufcstats.com/fight-details/dd7f3f91ea6067d4', 'http://ufcstats.com/fight-details/afc86d1076c4c3a9', 'http://ufcstats.com/fight-details/9e45cc594a5a2506', 'http://ufcstats.com/fight-details/dcfbbebc0aee6ded', 'http://ufcstats.com/fight-details/a043e279434d5c8c', 'http://ufcstats.com/fight-details/68cf99b6551dc3b3', 'http://ufcstats.com/fight-details/b8a0047c927faa75', 'http://ufcstats.com/fight-details/55bf7f19a132e0fc', '', 'http://ufcstats.com/fight-details/4944437e73071671', 'http://ufcstats.com/fight-details/d15a87087b6f1452', 'http://ufcstats.com/fight-details/70aa6b8f863e6861', 'http://ufcstats.com/fight-details/01f262b68a6a2223', '', 'http://ufcstats.com/fight-details/18c67631b76c18e5', 'http://ufcstats.com/fight-details/bb7ce8a6ba7f7cc5', 'http://ufcstats.com/fight-details/03bdbf2d18f3025d', 'http://ufcstats.com/fight-details/a6828a6dfb21d33c', 'http://ufcstats.com/fight-details/e8adfbbe0053c321', 'http://ufcstats.com/fight-details/8a7b0cd5ad9ca4fe', 'http://ufcstats.com/fight-details/d0ebb0551377a1c1', 'http://ufcstats.com/fight-details/7de9867b7cc2b1b1', 'http://ufcstats.com/fight-details/fd92fe0c494d0959', 'http://ufcstats.com/fight-details/15c9cb5f9320c555', 'http://ufcstats.com/fight-details/c06d7bb29bc24d00', 'http://ufcstats.com/fight-details/04a788abbbd1f256', 'http://ufcstats.com/fight-details/f4363f1317b47213', 'http://ufcstats.com/fight-details/5980ab31e4718a83', 'http://ufcstats.com/fight-details/ae5d14a9fc1ad19c', 'http://ufcstats.com/fight-details/873306ad79b62f5e', 'http://ufcstats.com/fight-details/2704d31de2c2f43b', 'http://ufcstats.com/fight-details/d170f6580e1c244f', 'http://ufcstats.com/fight-details/7ad09f889d2cdb6f', 'http://ufcstats.com/fight-details/50ef636148fa6fac', 'http://ufcstats.com/fight-details/e2abba69c3371618', 'http://ufcstats.com/fight-details/c096342c57a6f2c4', 'http://ufcstats.com/fight-details/4a704dae3091adaf', 'http://ufcstats.com/fight-details/3a4e2dffcdd1c838', 'http://ufcstats.com/fight-details/f3ad8ad8d242678e', 'http://ufcstats.com/fight-details/c2ee423d1f0b4f6f', 'http://ufcstats.com/fight-details/6a0341234ecc4e87', 'http://ufcstats.com/fight-details/3eac2d47ac252f4b', 'http://ufcstats.com/fight-details/a7315147a7022a93', 'http://ufcstats.com/fight-details/11a83369d49ad138', 'http://ufcstats.com/fight-details/bc86601cf781a89c', 'http://ufcstats.com/fight-details/b12bc15f384ecc42', 'http://ufcstats.com/fight-details/a4814d682954e8ab', 'http://ufcstats.com/fight-details/82243207b4dfce87', 'http://ufcstats.com/fight-details/8f7328fe18806fb0', 'http://ufcstats.com/fight-details/05ceb8b2f93993a6', 'http://ufcstats.com/fight-details/15b1c7ddc4415fdd', 'http://ufcstats.com/fight-details/931fd51ab69fb443', 'http://ufcstats.com/fight-details/990c2378caec68d4', 'http://ufcstats.com/fight-details/e175c1a0bff30187', 'http://ufcstats.com/fight-details/1d892fec31dc7ad7', 'http://ufcstats.com/fight-details/b9cd4910f0ecff45', 'http://ufcstats.com/fight-details/c3b6aa47e7532a7b', 'http://ufcstats.com/fight-details/be94e5b7a35ce5f2', 'http://ufcstats.com/fight-details/25b8c932da5e91f4', 'http://ufcstats.com/fight-details/26fbf026beb8e9f8', 'http://ufcstats.com/fight-details/54e2490959f66dc2', 'http://ufcstats.com/fight-details/9201312dd860fa5a', 'http://ufcstats.com/fight-details/96b1430379c0694a', 'http://ufcstats.com/fight-details/8cf076524cad5a55', 'http://ufcstats.com/fight-details/17616514e8fdacb9', 'http://ufcstats.com/fight-details/f98e954823bd6e02', 'http://ufcstats.com/fight-details/357c5b86ec83b826', 'http://ufcstats.com/fight-details/8b9bdacca749ec90', 'http://ufcstats.com/fight-details/9ef858837dfc65eb', 'http://ufcstats.com/fight-details/f4fbb11055301e75', 'http://ufcstats.com/fight-details/2c81668d1459991f', 'http://ufcstats.com/fight-details/bbade63ca780668f', 'http://ufcstats.com/fight-details/af8ea6db042674ef', 'http://ufcstats.com/fight-details/464cc19d42446da9', 'http://ufcstats.com/fight-details/8c34e1e0d842618d', 'http://ufcstats.com/fight-details/d65da3a3bc675449', 'http://ufcstats.com/fight-details/86d6e09932c5b551', 'http://ufcstats.com/fight-details/eb4e9ec015533ab4', 'http://ufcstats.com/fight-details/3ac61bcb406e1a0c', 'http://ufcstats.com/fight-details/3d3e7dc7b4bf2bc4', 'http://ufcstats.com/fight-details/a5075f4eaee6036f', 'http://ufcstats.com/fight-details/c4ea3f6fae702459', 'http://ufcstats.com/fight-details/65352221c0bfe52d', 'http://ufcstats.com/fight-details/cd08b68f0bafafbf', 'http://ufcstats.com/fight-details/99dbe9669f31ed91', 'http://ufcstats.com/fight-details/92f569a6d9374b86', 'http://ufcstats.com/fight-details/83da743f6dda7dcc', 'http://ufcstats.com/fight-details/c597fd8bb66d54d8', 'http://ufcstats.com/fight-details/f3ccbfd7036f3cf3', 'http://ufcstats.com/fight-details/aaf45b095452be23', 'http://ufcstats.com/fight-details/61bedad39b15db7a', 'http://ufcstats.com/fight-details/dd34dd337e637767', 'http://ufcstats.com/fight-details/4f6d3cdf2c77fb57', 'http://ufcstats.com/fight-details/a003e8305d4dbdc8', 'http://ufcstats.com/fight-details/57e784028ef2c17d', 'http://ufcstats.com/fight-details/d27ac1bc677b89cf', 'http://ufcstats.com/fight-details/ac475de5a3d0d7e2', 'http://ufcstats.com/fight-details/4abcf14faa7f92f2', 'http://ufcstats.com/fight-details/ddbe6fd66d7f9e35', 'http://ufcstats.com/fight-details/76b61ff4c9760f79', 'http://ufcstats.com/fight-details/4e451881e0e47b05', 'http://ufcstats.com/fight-details/031e6624f96aceb8', 'http://ufcstats.com/fight-details/11558384f80f6506', 'http://ufcstats.com/fight-details/ae38fb2a6b6a0cc1', 'http://ufcstats.com/fight-details/a4817b7e46028b4a', 'http://ufcstats.com/fight-details/6b0da0b1cda7799f', 'http://ufcstats.com/fight-details/aeb7ff8ce6e1beac', 'http://ufcstats.com/fight-details/775c1f401815bbd8', 'http://ufcstats.com/fight-details/358f816aff469270', 'http://ufcstats.com/fight-details/97ad63e644757cf4', 'http://ufcstats.com/fight-details/0165bd3c26f0c076', 'http://ufcstats.com/fight-details/3fcd53eb27945231', 'http://ufcstats.com/fight-details/97c80f69ac312030', 'http://ufcstats.com/fight-details/3d903bc35023f50a', 'http://ufcstats.com/fight-details/c7375d5db21cbaae', 'http://ufcstats.com/fight-details/014f1da2083ca174', 'http://ufcstats.com/fight-details/3d35eb2d46bf74de', 'http://ufcstats.com/fight-details/8955ea3c7c332e6c', 'http://ufcstats.com/fight-details/cd150cd28738a7c5', 'http://ufcstats.com/fight-details/1c4602efe5587902', 'http://ufcstats.com/fight-details/4cb249714ff56656', 'http://ufcstats.com/fight-details/f004d3d50b78af50', 'http://ufcstats.com/fight-details/f2fb049980631302', 'http://ufcstats.com/fight-details/0fe4906754b2d0f9', 'http://ufcstats.com/fight-details/62e6eadbb2805760', 'http://ufcstats.com/fight-details/8da75fd76a9b8e1d', 'http://ufcstats.com/fight-details/c258996570faeec9', 'http://ufcstats.com/fight-details/b7b867eb3c3cf163', 'http://ufcstats.com/fight-details/27200d53ba9020b8', 'http://ufcstats.com/fight-details/4a172a5191cb8e60', 'http://ufcstats.com/fight-details/fe3ff5b1d9135add', 'http://ufcstats.com/fight-details/022bdd58cc6e571d', 'http://ufcstats.com/fight-details/cb7616f92a9a4e5b', 'http://ufcstats.com/fight-details/87d0b767742d3239', 'http://ufcstats.com/fight-details/5ddf45e816a50fac', 'http://ufcstats.com/fight-details/33d52ac2d70b8415', 'http://ufcstats.com/fight-details/2723f4d275d3f619', 'http://ufcstats.com/fight-details/8d4a475e48722fea', 'http://ufcstats.com/fight-details/46860358da8b8d82', 'http://ufcstats.com/fight-details/4478ee77a647ae9d', 'http://ufcstats.com/fight-details/856fab879c68ded7', 'http://ufcstats.com/fight-details/771d8ce136a12a13', 'http://ufcstats.com/fight-details/b1be8b41b1a4fd85', 'http://ufcstats.com/fight-details/c4d1c4b82cf34afb', 'http://ufcstats.com/fight-details/09a29fb09fe07559', 'http://ufcstats.com/fight-details/28b6ee9c3eb8b753', 'http://ufcstats.com/fight-details/32a7da2f34ae3803', 'http://ufcstats.com/fight-details/181c3312f14de5a8', 'http://ufcstats.com/fight-details/2a7909acde26a240', 'http://ufcstats.com/fight-details/4d56bcd82438e632', 'http://ufcstats.com/fight-details/0c27552ea7bc8c8a', 'http://ufcstats.com/fight-details/711f00d287344c77', 'http://ufcstats.com/fight-details/8868957c1735bcf0', 'http://ufcstats.com/fight-details/e64d80dcc6853ea0', 'http://ufcstats.com/fight-details/3c098e2946b4c824', 'http://ufcstats.com/fight-details/c93eebe24aa0299d', 'http://ufcstats.com/fight-details/2b13651b97f57b6c', 'http://ufcstats.com/fight-details/08ef2ed7393efd24', 'http://ufcstats.com/fight-details/1671723154d8e324', 'http://ufcstats.com/fight-details/8d5ea3bf3be7cb91', 'http://ufcstats.com/fight-details/6c1b38dd918793ff', 'http://ufcstats.com/fight-details/a485281be8e9d2e2', 'http://ufcstats.com/fight-details/e22d5aab3d099c7c', 'http://ufcstats.com/fight-details/a02764f92a84dd36', 'http://ufcstats.com/fight-details/90eb22b9eb6ed2a8', 'http://ufcstats.com/fight-details/91afc389191d41fb', 'http://ufcstats.com/fight-details/80cb3cf9134b677c', 'http://ufcstats.com/fight-details/30eb24f7904c2128', 'http://ufcstats.com/fight-details/34db1e0e2499e7ae', 'http://ufcstats.com/fight-details/fa6e8fa6c3f05e31', 'http://ufcstats.com/fight-details/742dc4196d329db0', 'http://ufcstats.com/fight-details/470391c4067bf49b', 'http://ufcstats.com/fight-details/9e4dcac049327529', 'http://ufcstats.com/fight-details/d80fd2ec736f7df2', 'http://ufcstats.com/fight-details/f6472ca263a863d1', 'http://ufcstats.com/fight-details/923e151bd990961b', 'http://ufcstats.com/fight-details/f0cf92b063735164', 'http://ufcstats.com/fight-details/6ac3d588f9630f0a', 'http://ufcstats.com/fight-details/0fed97329b78b887', 'http://ufcstats.com/fight-details/b76590c02f86e705', 'http://ufcstats.com/fight-details/fea7dd5904ab4c91', 'http://ufcstats.com/fight-details/2267d967d1daf08a', 'http://ufcstats.com/fight-details/69fa167ba5d0fd82', 'http://ufcstats.com/fight-details/55019da3a4bd5d54', 'http://ufcstats.com/fight-details/cb720b01fd6f9785', 'http://ufcstats.com/fight-details/039c645e8f3ac00f', 'http://ufcstats.com/fight-details/83955de599b2d874', 'http://ufcstats.com/fight-details/d763ad79532b27ff', 'http://ufcstats.com/fight-details/997dcf5fd2eb0f2f', 'http://ufcstats.com/fight-details/6915d46b49999f60', 'http://ufcstats.com/fight-details/95beb5ec32718faf', 'http://ufcstats.com/fight-details/4e566bd7094b49da', 'http://ufcstats.com/fight-details/09f5fb0bec3c948a', 'http://ufcstats.com/fight-details/696ff200d98fa878', 'http://ufcstats.com/fight-details/783761d95060ffc4', 'http://ufcstats.com/fight-details/7e6f12a95c14f9de', 'http://ufcstats.com/fight-details/59eea37af7efb06c', 'http://ufcstats.com/fight-details/51108eabae8391ca', 'http://ufcstats.com/fight-details/ccfe7b0d29c5440c', 'http://ufcstats.com/fight-details/a2620cbef573a837', 'http://ufcstats.com/fight-details/e8ef17c0babcfca5', 'http://ufcstats.com/fight-details/eedcb6c5d163e581', 'http://ufcstats.com/fight-details/6eaa4981d0335c8a', 'http://ufcstats.com/fight-details/de2069fea664c4b7', 'http://ufcstats.com/fight-details/5b062be91c65fb73', 'http://ufcstats.com/fight-details/55c257629ecea80f', 'http://ufcstats.com/fight-details/47f9c14a7dca1ad7', 'http://ufcstats.com/fight-details/2279d909f6e3e552', 'http://ufcstats.com/fight-details/5a440bdee19efaab', 'http://ufcstats.com/fight-details/e7a915f39ecf6db0', 'http://ufcstats.com/fight-details/948da1b7ebbb06b3', 'http://ufcstats.com/fight-details/4eb5f99202f5fe97', 'http://ufcstats.com/fight-details/e4d0be5ae320c4ae', 'http://ufcstats.com/fight-details/e5279358b128c2ac', 'http://ufcstats.com/fight-details/9b6135943a4c8fe7', 'http://ufcstats.com/fight-details/50e0bcba7551a25f', 'http://ufcstats.com/fight-details/2735a2ea77ddc0b5', 'http://ufcstats.com/fight-details/b3e12698e65cf8d0', 'http://ufcstats.com/fight-details/024a04f78b37b7d9', 'http://ufcstats.com/fight-details/727ecd251325b6a8', 'http://ufcstats.com/fight-details/db5802643b9fd7d4', 'http://ufcstats.com/fight-details/1720a97a2fa261f8', 'http://ufcstats.com/fight-details/e64075c104471ff0', 'http://ufcstats.com/fight-details/e4d831dc318e4e98', 'http://ufcstats.com/fight-details/22fe6779c3fa649d', 'http://ufcstats.com/fight-details/7c4eb0b4845eb0ed', 'http://ufcstats.com/fight-details/1e525f9857019a2e', 'http://ufcstats.com/fight-details/ee57cbd0b68c689d', 'http://ufcstats.com/fight-details/dfb856d4c80bbf04', 'http://ufcstats.com/fight-details/89dd4c256ca5d317', 'http://ufcstats.com/fight-details/849cc2c331e9b24f', 'http://ufcstats.com/fight-details/dbb5d682a2d7f584', 'http://ufcstats.com/fight-details/0005e00b07cee542', 'http://ufcstats.com/fight-details/ba6093c9136f99e9', 'http://ufcstats.com/fight-details/81b16b26774be5d1', 'http://ufcstats.com/fight-details/c00a8682fb5b71bd', 'http://ufcstats.com/fight-details/1e7caef3f6dfde10', 'http://ufcstats.com/fight-details/24ff0bb908095565', 'http://ufcstats.com/fight-details/f4e262b04f4e94bd', 'http://ufcstats.com/fight-details/15a422574c3b89e1', 'http://ufcstats.com/fight-details/87105c63df95f929', 'http://ufcstats.com/fight-details/ac6b2a5f24c2b8bd', 'http://ufcstats.com/fight-details/d866afa89d62a4ae', 'http://ufcstats.com/fight-details/fd76b75c28dc247a', 'http://ufcstats.com/fight-details/4c12c9085200121f', 'http://ufcstats.com/fight-details/9e674a02db6c03c8', 'http://ufcstats.com/fight-details/e842c6f63fa2e27a', 'http://ufcstats.com/fight-details/5a00c73efbcf323e', 'http://ufcstats.com/fight-details/9f4d6d192ab4a027', 'http://ufcstats.com/fight-details/73dbbdfcf7f989c0', 'http://ufcstats.com/fight-details/eed8c9955cad1e30', 'http://ufcstats.com/fight-details/5fb63c34935acce9', 'http://ufcstats.com/fight-details/8e7b2d62f834b417', 'http://ufcstats.com/fight-details/e10481ee3fda7080', 'http://ufcstats.com/fight-details/ca531425f5c042db', '', 'http://ufcstats.com/fight-details/498766b46b8b4a7f', 'http://ufcstats.com/fight-details/1a484c452623181e', 'http://ufcstats.com/fight-details/859ca56770ac7672', 'http://ufcstats.com/fight-details/78c3ca588e55bf31', 'http://ufcstats.com/fight-details/36807d8a7ebc84a5', 'http://ufcstats.com/fight-details/aa08ebe1a69c76ca', 'http://ufcstats.com/fight-details/4f3cd94861c6a876', 'http://ufcstats.com/fight-details/bf614956b28f231c', 'http://ufcstats.com/fight-details/36656dfa32341671', 'http://ufcstats.com/fight-details/42ecb9a94bebc24d', 'http://ufcstats.com/fight-details/3a38b0b566f3045d', '', 'http://ufcstats.com/fight-details/0ffbf3096a13b47e', 'http://ufcstats.com/fight-details/1ed8776f978a0155', 'http://ufcstats.com/fight-details/764012f51c7dc223', 'http://ufcstats.com/fight-details/3901d9cdbb0949bc', 'http://ufcstats.com/fight-details/06910bddb0745856', 'http://ufcstats.com/fight-details/c58aaabf2c5635d7', 'http://ufcstats.com/fight-details/cf0e0f95524f187a', '', 'http://ufcstats.com/fight-details/2461756d8acd56d2', 'http://ufcstats.com/fight-details/bcc9dca5136fc765', 'http://ufcstats.com/fight-details/463fc1fd1f17befb', 'http://ufcstats.com/fight-details/ed8fb10b596e6fa4', 'http://ufcstats.com/fight-details/24341a8cf1152c5c', 'http://ufcstats.com/fight-details/0e809b7e37681783', 'http://ufcstats.com/fight-details/0f279b25ccbecc76', 'http://ufcstats.com/fight-details/e8206c7380441fbb', 'http://ufcstats.com/fight-details/7595aabe89020780', 'http://ufcstats.com/fight-details/7930c605c6a6ec88', 'http://ufcstats.com/fight-details/7340b4cbdbac5863', 'http://ufcstats.com/fight-details/1ff4586752ee8a93', 'http://ufcstats.com/fight-details/864cddd6e165ea2d', 'http://ufcstats.com/fight-details/0a9f22de8600c762', 'http://ufcstats.com/fight-details/3a8e4b830750e9d4', 'http://ufcstats.com/fight-details/eb9097be07a3c26a', 'http://ufcstats.com/fight-details/0a7517a16d2d9db6', 'http://ufcstats.com/fight-details/d43c007dab9c51b0', 'http://ufcstats.com/fight-details/c5ba56d51f6b0171', 'http://ufcstats.com/fight-details/16358c536d739017', 'http://ufcstats.com/fight-details/e1e31a8dfa9c27f6', 'http://ufcstats.com/fight-details/dfe14e13aa727a0c', 'http://ufcstats.com/fight-details/5d9a3bfdcd28abb8', 'http://ufcstats.com/fight-details/23e548f618dd0e5f', 'http://ufcstats.com/fight-details/37a6fc5e69a7932d', 'http://ufcstats.com/fight-details/cfa0dbc7534f3545', 'http://ufcstats.com/fight-details/0a3e48cdd97267f4', 'http://ufcstats.com/fight-details/0ccc86f7d0e84c3e', 'http://ufcstats.com/fight-details/949619e1b1de9e5f', '', 'http://ufcstats.com/fight-details/3bdacc82209b33f5', 'http://ufcstats.com/fight-details/7200343d2e957cf3', 'http://ufcstats.com/fight-details/dc24c4759651c6ad', 'http://ufcstats.com/fight-details/0d9e9127c62811f9', 'http://ufcstats.com/fight-details/57939328c1214107', 'http://ufcstats.com/fight-details/054794810817c1cc', 'http://ufcstats.com/fight-details/5081319e58f9759f', 'http://ufcstats.com/fight-details/3e4b8bd71e8bceb2', 'http://ufcstats.com/fight-details/745bdd823161da89', 'http://ufcstats.com/fight-details/2e9ad55f2e2f7c56', 'http://ufcstats.com/fight-details/86deadaab9905a03', 'http://ufcstats.com/fight-details/a2e34655a41ba45c', 'http://ufcstats.com/fight-details/22e10b23784e5efc', 'http://ufcstats.com/fight-details/c2ddadfa1a1056be', 'http://ufcstats.com/fight-details/ad62675e819e92fc', 'http://ufcstats.com/fight-details/cfb189e326553f0a', 'http://ufcstats.com/fight-details/6f1892ed71d943d7', 'http://ufcstats.com/fight-details/05f6459d1f3ed13f', 'http://ufcstats.com/fight-details/26173f6491300eaa', 'http://ufcstats.com/fight-details/e8f4e8ff49678b44', 'http://ufcstats.com/fight-details/1308213458d8596b', 'http://ufcstats.com/fight-details/e255fc129f225a55', 'http://ufcstats.com/fight-details/5c8d9d893d163d51', 'http://ufcstats.com/fight-details/0b88d0c76f9cd7e4', 'http://ufcstats.com/fight-details/5885445f39dac389', 'http://ufcstats.com/fight-details/2fb1abeb337e0ccc', 'http://ufcstats.com/fight-details/0b21755eb0897396', 'http://ufcstats.com/fight-details/94b48b98d0292720', 'http://ufcstats.com/fight-details/6ba9f6a7a9361354', 'http://ufcstats.com/fight-details/76b9a338597fc604', 'http://ufcstats.com/fight-details/dcf161082c849205', 'http://ufcstats.com/fight-details/11f715fa5e825e51', 'http://ufcstats.com/fight-details/a3820f1eb82f2ba6', 'http://ufcstats.com/fight-details/f786136e55007e17', 'http://ufcstats.com/fight-details/5632f2364016e879', 'http://ufcstats.com/fight-details/74dae3d87a99cf5d', 'http://ufcstats.com/fight-details/58e07add007685f8', 'http://ufcstats.com/fight-details/573d3a6984cbcd29', 'http://ufcstats.com/fight-details/3b209a2aee014ac2', '', 'http://ufcstats.com/fight-details/6cfab1da57d260f4', 'http://ufcstats.com/fight-details/32b0e450b11b32fe', 'http://ufcstats.com/fight-details/88d3b6b833e31712', 'http://ufcstats.com/fight-details/54bbc7974df586a1', 'http://ufcstats.com/fight-details/87daaa6db4f6940c', 'http://ufcstats.com/fight-details/67db05bac9165722', 'http://ufcstats.com/fight-details/4dc5039b21013b3a', 'http://ufcstats.com/fight-details/fcfd2e6eed519cb9', 'http://ufcstats.com/fight-details/e5872dfa5b93fcbb', 'http://ufcstats.com/fight-details/c4c379b8f99fea88', 'http://ufcstats.com/fight-details/ba4485ce4e8e3fe1', 'http://ufcstats.com/fight-details/e5a9f75b1117d848', 'http://ufcstats.com/fight-details/bb881d4ee6dfbf86', 'http://ufcstats.com/fight-details/b76c0b0ed2926737', 'http://ufcstats.com/fight-details/b5f70d0c88f12645', 'http://ufcstats.com/fight-details/b9b0da84b243213f', 'http://ufcstats.com/fight-details/ecb24300bb3bef8c', 'http://ufcstats.com/fight-details/147e31abbe3927d0', 'http://ufcstats.com/fight-details/abeaae1a64934178', 'http://ufcstats.com/fight-details/7dbf23cb872edc9c', 'http://ufcstats.com/fight-details/d4c314616eac8f8b', 'http://ufcstats.com/fight-details/15def71ff1679e06', 'http://ufcstats.com/fight-details/33d2a1dbb8a7fef5', 'http://ufcstats.com/fight-details/7fd810af30144119', 'http://ufcstats.com/fight-details/f3efc6121c5323ff', 'http://ufcstats.com/fight-details/0e969ae805006d1f', 'http://ufcstats.com/fight-details/819f51ef9d945a46', 'http://ufcstats.com/fight-details/dccea04cc3567955', 'http://ufcstats.com/fight-details/f3c42ce9fad55eb7', 'http://ufcstats.com/fight-details/d292243c6499b2fe', 'http://ufcstats.com/fight-details/94b1596c6ff9a25d', 'http://ufcstats.com/fight-details/0f9be7ac405772f8', 'http://ufcstats.com/fight-details/e16f42a666e163d8', 'http://ufcstats.com/fight-details/6e0c1faaf40caf9a', 'http://ufcstats.com/fight-details/cd8cdb539deaa47f', 'http://ufcstats.com/fight-details/ce7cd2ec773bea7f', 'http://ufcstats.com/fight-details/159646a9d2ae8ea5', 'http://ufcstats.com/fight-details/7c76c752c7abf2e0', 'http://ufcstats.com/fight-details/137646de0ffd9c35', 'http://ufcstats.com/fight-details/0e8d5c16eb9cb1cf', 'http://ufcstats.com/fight-details/08e48648e3504638', 'http://ufcstats.com/fight-details/5d6fb4acfe5cc8a1', 'http://ufcstats.com/fight-details/f8dd1e75978a3957', 'http://ufcstats.com/fight-details/f2d9814936a6eb35', 'http://ufcstats.com/fight-details/9ce56acac775d386', 'http://ufcstats.com/fight-details/cfd47fddbb705f26', 'http://ufcstats.com/fight-details/67ed3ad521ef619c', 'http://ufcstats.com/fight-details/8a8fea2c10512434', 'http://ufcstats.com/fight-details/9025e3c6b6d71253', 'http://ufcstats.com/fight-details/75570ea2da94a4fb', 'http://ufcstats.com/fight-details/1b8d366ac0f110f3', 'http://ufcstats.com/fight-details/0f369d09416b9e34', 'http://ufcstats.com/fight-details/0c3622569cd8062a', 'http://ufcstats.com/fight-details/4f99b4a39925cb47', 'http://ufcstats.com/fight-details/8b9e9f283e76b429', 'http://ufcstats.com/fight-details/f00921c62315be96', 'http://ufcstats.com/fight-details/9b39e15b42422a08', 'http://ufcstats.com/fight-details/d851cbbbdfd05a49', 'http://ufcstats.com/fight-details/1adee75d6c671cc8', '', 'http://ufcstats.com/fight-details/90715135a543b6e3', 'http://ufcstats.com/fight-details/7f0175f71481b63d', 'http://ufcstats.com/fight-details/088b47d890b389e9', 'http://ufcstats.com/fight-details/d333a6c34ff16397', 'http://ufcstats.com/fight-details/b8b692aa2aae3310', 'http://ufcstats.com/fight-details/e857ca0bc3b9fdcd', 'http://ufcstats.com/fight-details/1109a8f2adc81ce0', 'http://ufcstats.com/fight-details/cab532b4544580bd', 'http://ufcstats.com/fight-details/e36b8b88646f72f8', 'http://ufcstats.com/fight-details/7606d2f8d8b0e889', 'http://ufcstats.com/fight-details/05061dd590c9eb34', 'http://ufcstats.com/fight-details/97125cd6a94b6394', 'http://ufcstats.com/fight-details/dfbb110855354039', 'http://ufcstats.com/fight-details/58e72b1a38880ba9', 'http://ufcstats.com/fight-details/dc38c78358e053c3', 'http://ufcstats.com/fight-details/0ddf834a47533d15', 'http://ufcstats.com/fight-details/c03b6b6ce5d03276', 'http://ufcstats.com/fight-details/8bede5047e97d602', 'http://ufcstats.com/fight-details/58584ccd0f63e3f3', 'http://ufcstats.com/fight-details/f2cd665eab69876a', 'http://ufcstats.com/fight-details/6fe8bce03a46350b', 'http://ufcstats.com/fight-details/c6ca435e24c5f4e4', 'http://ufcstats.com/fight-details/1c7ea3928c7d0ad8', 'http://ufcstats.com/fight-details/de4c4997f1429dd1', 'http://ufcstats.com/fight-details/5fdf6611815efdfb', 'http://ufcstats.com/fight-details/20ba608a6e717f05', 'http://ufcstats.com/fight-details/e9eab0fa03eecd9b', 'http://ufcstats.com/fight-details/a6743d41b0b95271', 'http://ufcstats.com/fight-details/1e9a2b197ebff074', 'http://ufcstats.com/fight-details/03e5127d4832750c', 'http://ufcstats.com/fight-details/3640defb8294bd37', 'http://ufcstats.com/fight-details/a41384da70013373', 'http://ufcstats.com/fight-details/767819f321431bed', '', 'http://ufcstats.com/fight-details/0170db5fad04e4d0', 'http://ufcstats.com/fight-details/57dec2b07b75dada', 'http://ufcstats.com/fight-details/2300ad7f87080ad7', 'http://ufcstats.com/fight-details/ce0748519d5ea5c6', 'http://ufcstats.com/fight-details/27bfb9205119f23b', 'http://ufcstats.com/fight-details/58540b24ed77d31b', 'http://ufcstats.com/fight-details/821a1c6f5d7fab14', 'http://ufcstats.com/fight-details/81f2f2d4b0302590', 'http://ufcstats.com/fight-details/adac148ee6fa3bf7', 'http://ufcstats.com/fight-details/51461da4ba467901', 'http://ufcstats.com/fight-details/b1e66cea3a4d4709', '', 'http://ufcstats.com/fight-details/f039c93516e48253', 'http://ufcstats.com/fight-details/906283a2adcbc3e0', 'http://ufcstats.com/fight-details/8539c4b795d33a92', 'http://ufcstats.com/fight-details/394ae51820bedd4c', 'http://ufcstats.com/fight-details/46c050a827ee83d6', 'http://ufcstats.com/fight-details/3094e82731ec55e7', 'http://ufcstats.com/fight-details/312946f6b72ebd51', 'http://ufcstats.com/fight-details/87f58feac6b50367', 'http://ufcstats.com/fight-details/fbbba3da4438cb04', 'http://ufcstats.com/fight-details/918103d82ecbed75', 'http://ufcstats.com/fight-details/3ce634d03af7e14c', 'http://ufcstats.com/fight-details/b2ca310c9d0037d3', 'http://ufcstats.com/fight-details/d395828f5cb045a5', 'http://ufcstats.com/fight-details/4e77cc2c8d604241', 'http://ufcstats.com/fight-details/fcfaa28ed6888088', 'http://ufcstats.com/fight-details/02f5621f480ad1d4', 'http://ufcstats.com/fight-details/f0d4652f8edfbe6d', 'http://ufcstats.com/fight-details/b9abcce29378e5cc', 'http://ufcstats.com/fight-details/593f3b051aa82b0f', 'http://ufcstats.com/fight-details/f2520dd5457ab293', 'http://ufcstats.com/fight-details/3f810c3433dddb80', 'http://ufcstats.com/fight-details/08244974cf39ae38', 'http://ufcstats.com/fight-details/b70dfff154b135bf', 'http://ufcstats.com/fight-details/e0b323dae5bf4c90', 'http://ufcstats.com/fight-details/5cee1d8f1e43d6f5', 'http://ufcstats.com/fight-details/c26a3f4c08333886', 'http://ufcstats.com/fight-details/5bba49d88db7430f', 'http://ufcstats.com/fight-details/dc45c8d70e256749', 'http://ufcstats.com/fight-details/b3c74554c871fbf8', 'http://ufcstats.com/fight-details/ea303a8e6e31f264', 'http://ufcstats.com/fight-details/9fc6aba53508dc48', 'http://ufcstats.com/fight-details/e2503ed6a1f9257d', 'http://ufcstats.com/fight-details/2a1826612a7d739c', 'http://ufcstats.com/fight-details/1a2d13834696c4ab', 'http://ufcstats.com/fight-details/ef526567c4dcf371', 'http://ufcstats.com/fight-details/b46f2f007b622bce', 'http://ufcstats.com/fight-details/cf0a6466b762c668', 'http://ufcstats.com/fight-details/891470d896b1de5a', 'http://ufcstats.com/fight-details/d66a8591af39ca7b', 'http://ufcstats.com/fight-details/4d607b6ddc77a34c', 'http://ufcstats.com/fight-details/cd258394e8d58d04', 'http://ufcstats.com/fight-details/60c441c5838dfac2', 'http://ufcstats.com/fight-details/a70c43cafabc73c3', 'http://ufcstats.com/fight-details/d671f436fab2a252', 'http://ufcstats.com/fight-details/daa38964824f1b9f', 'http://ufcstats.com/fight-details/467e08195b29e857', 'http://ufcstats.com/fight-details/e8219ea7da46f67f', 'http://ufcstats.com/fight-details/8a85dffa80e6c7bd', 'http://ufcstats.com/fight-details/f5b49f4c5a27e53b', 'http://ufcstats.com/fight-details/671f42536454e541', 'http://ufcstats.com/fight-details/eba6055d217d5b99', 'http://ufcstats.com/fight-details/0e3af9b5e1b3ae80', 'http://ufcstats.com/fight-details/d9a218ac3e148541', 'http://ufcstats.com/fight-details/e30b9829e42aa4ca', 'http://ufcstats.com/fight-details/9d2f7d29bb9c9034', 'http://ufcstats.com/fight-details/59861c3d19eb46ef', 'http://ufcstats.com/fight-details/0bcb04163f8d8ead', 'http://ufcstats.com/fight-details/533d0b5c0adfa15f', 'http://ufcstats.com/fight-details/5fceb95c29d929bc', 'http://ufcstats.com/fight-details/2b417eb1ffa56ac1', 'http://ufcstats.com/fight-details/060987bb3025a0a8', 'http://ufcstats.com/fight-details/9bc18b63b07bb328', 'http://ufcstats.com/fight-details/6d48f75153e4ad6b', 'http://ufcstats.com/fight-details/f882cf76a8bce308', 'http://ufcstats.com/fight-details/02bdb7a5b2986571', 'http://ufcstats.com/fight-details/3bd20b66b585d621', 'http://ufcstats.com/fight-details/03c2707563915d7d', 'http://ufcstats.com/fight-details/ecc23234e820458d', 'http://ufcstats.com/fight-details/af5b940f2c686524', 'http://ufcstats.com/fight-details/102fb91414fd24ab']\n",
            "['Robert Whittaker', 'Andrei Arlovski', 'Jacob Malkoun', 'Tracy Cortez', 'Luis Pena', 'Alexandr Romanov', 'Jessica Penne', 'Gerald Meerschaert', 'Austin Hubbard', 'Tony Gravely', 'Marvin Vettori', 'Arnold Allen', 'Julian Marquez', 'Mackenzie Dern', 'Daniel Rodriguez', 'Joe Solecki', 'Mateusz Gamrot', 'John Makdessi', 'Jarjis Danho', 'Jack Shore', 'Luis Saldana', 'Da-Un Jung', 'Impa Kasanganay', 'Francis Ngannou', 'Vicente Luque', \"Sean O'Malley\", 'Miranda Maverick', 'Jamie Mullarkey', 'Alonzo Menifield', 'Abubakar Nurmagomedov', 'Michal Oleksiejczuk', 'Omar Morales', 'Marc-Andre Barriault', 'Derek Brunson', 'Max Griffin', 'Montserrat Conejo', 'Adrian Yanez', 'Tai Tuivasa', 'Macy Chiasson', 'Grant Dawson', 'Trevin Giles', 'Montel Jackson', 'Bruno Silva', None, 'Ryan Spann', 'Dan Ige', 'Davey Grant', 'Matheus Nicolau', None, 'Angela Hill', 'Charles Jourdain', 'Rani Yahya', 'Nasrat Haqparast', 'JJ Aldrich', 'Jinh Yu Frey', 'Matthew Semelsberger', 'Jan Blachowicz', 'Amanda Nunes', 'Aljamain Sterling', 'Islam Makhachev', 'Aleksandar Rakic', 'Dominick Cruz', 'Kyler Phillips', 'Askar Askar', 'Kai Kara-France', 'Tim Elliott', 'Kennedy Nzechukwu', 'Sean Brady', 'Amanda Lemos', 'Uros Medic', 'Trevin Jones', 'Ciryl Gane', 'Magomed Ankalaev', None, 'Pedro Munhoz', 'Alex Caceres', 'Thiago Moises', 'Alexis Davis', 'Ronnie Lawrence', 'Dustin Jacoby', 'Derrick Lewis', 'Yana Kunitskaya', 'Darrick Minner', 'Chris Daukaus', 'Phil Hawes', 'Tom Aspinall', 'Jared Gordon', 'John Castaneda', 'Julian Erosa', \"Casey O'Neill\", 'Aiemann Zahabi', 'Serghei Spivac', 'Kamaru Usman', 'Alexa Grasso', 'Kelvin Gastelum', 'Ricky Simon', 'Julian Marquez', 'Anthony Hernandez', 'Belal Muhammad', 'Polyana Viana', 'Chris Gutierrez', 'Gabe Green', 'Alexander Volkov', 'Cory Sandhagen', 'Clay Guida', 'Alexandre Pantoja', 'Beneil Dariush', 'Danilo Marques', 'Devonte Smith', 'Karol Rosa', 'Lara Procopio', 'SeungWoo Choi', 'Timur Valiev', 'Ode Osbourne', 'Dustin Poirier', 'Michael Chandler', 'Joanne Calderwood', 'Makhmud Muradov', 'Marina Rodriguez', 'Arman Tsarukyan', 'Brad Tavares', 'Julianna Pena', 'Marcin Prachnio', 'Movsar Evloev', 'Amir Albazi', 'Michael Chiesa', 'Warlley Alves', 'Ike Villanueva', 'Viviane Araujo', 'Matt Schnell', 'Lerone Murphy', 'Omari Akhmedov', 'Ricky Simon', 'Su Mudaerji', 'Dalcha Lungiambula', 'Francisco Figueiredo', 'Mike Davis', 'Umar Nurmagomedov', 'Manon Fiorot', 'Max Holloway', 'Carlos Condit', 'Li Jingliang', 'Alessio Di Chirico', 'Punahele Soriano', 'Joselyne Edwards', 'Carlos Felipe', 'Ramazan Emeev', 'Vanessa Melo', 'Austin Lingo', 'Stephen Thompson', 'Jose Aldo', 'Michel Pereira', 'Rob Font', 'Marcin Tybura', 'Anthony Pettis', 'Pannie Kianzad', 'Deron Winn', 'Taila Santos', 'Tafon Nchukwi', 'Jimmy Flick', 'Christos Giagos', None, 'Charles Oliveira', 'Mackenzie Dern', 'Kevin Holland', 'Ciryl Gane', 'Cub Swanson', 'Rafael Fiziev', 'Gavin Tucker', 'Tecia Torres', 'Chase Hooper', 'Marvin Vettori', 'Jamahal Hill', 'Gabriel Benitez', 'Roman Dolidze', 'Jordan Leavitt', 'Louis Smolka', 'Ilia Topuria', 'Jake Collier', 'Anthony Smith', 'Miguel Baeza', 'Parker Porter', 'Bill Algeo', 'Norma Dumont', 'Jonathan Pearce', 'Anderson Dos Santos', 'Gina Mazany', 'Su Mudaerji', 'Nate Maness', 'Deiveson Figueiredo', 'Valentina Shevchenko', 'Tim Means', 'Katlyn Chookagian', 'Paul Craig', 'Brandon Moreno', 'Joaquin Buckley', 'Antonina Shevchenko', 'Nicolas Dalby', 'Alan Jouban', 'Kyle Daukaus', 'Sasha Palatnikov', 'Rafael Dos Anjos', 'Khaos Williams', 'Ashley Yoder', 'Sean Strickland', 'Cory McKenna', 'Kanako Murata', 'Tony Gravely', 'Alex Morono', \"Don'Tale Mayes\", 'Glover Teixeira', 'Andrei Arlovski', 'Raoni Barcelos', 'Giga Chikadze', 'Yan Xiaonan', 'Trevin Giles', 'Alexandr Romanov', 'Darren Elkins', 'Max Griffin', 'Gustavo Lopez', 'Uriah Hall', 'Bryce Mitchell', 'Greg Hardy', 'Kevin Holland', 'Thiago Moises', 'Alexander Hernandez', 'Adrian Yanez', 'Sean Strickland', 'Jason Witt', 'Dustin Jacoby', 'Miles Johns', 'Khabib Nurmagomedov', 'Robert Whittaker', 'Alexander Volkov', 'Phil Hawes', 'Lauren Murphy', 'Magomed Ankalaev', 'Tai Tuivasa', 'Casey Kenney', 'Shavkat Rakhmonov', None, 'Miranda Maverick', 'Joel Alvarez', 'Brian Ortega', 'Jessica Andrade', 'Jimmy Crute', 'James Krause', 'Jonathan Martinez', 'Guram Kutateladze', 'Gillian Robertson', 'Junyong Park', 'Fares Ziam', 'Maxim Grishin', 'Said Nurmagomedov', 'Cory Sandhagen', 'Edson Barboza', 'Marcin Tybura', 'Dricus Du Plessis', 'Tom Aspinall', 'Ilia Topuria', 'Tom Breese', 'Chris Daukaus', 'Joaquin Buckley', 'Tony Kelley', 'Giga Chikadze', 'Tracy Cortez', 'Tagir Ulanbekov', 'Holly Holm', 'Carlos Felipe', 'Germaine de Randamie', 'Kyler Phillips', 'Dusko Todorovic', 'Carlos Condit', None, 'Nassourdine Imavov', 'Loma Lookboonmee', 'Casey Kenney', 'Luigi Vendramini', 'Israel Adesanya', 'Jan Blachowicz', 'Brandon Royval', 'Ketlen Vieira', 'Hakeem Dawodu', 'Brad Riddell', 'Jake Matthews', 'Ludovit Klein', 'William Knight', 'Juan Espino', 'Danilo Marques', 'Colby Covington', None, 'Khamzat Chimaev', 'Johnny Walker', 'Mackenzie Dern', 'Kevin Holland', 'David Dvorak', 'Damon Jackson', 'Mayra Bueno Silva', 'Jessica-Rose Clark', 'Darrick Minner', 'Randy Costa', 'Andre Ewell', 'Tyson Nam', 'Michelle Waterson', 'Ottman Azaitar', 'Roxanne Modafferi', 'Ed Herman', 'Bobby Green', 'Billy Quarantillo', 'Sijara Eubanks', None, 'Alexandr Romanov', 'Jalin Turner', 'Bryan Barberena', 'Sabina Mazo', 'Alistair Overeem', 'Ovince Saint Preux', 'Michel Pereira', 'Andre Muniz', 'Brian Kelleher', 'Viviane Araujo', 'Hunter Azure', 'Aleksandar Rakic', 'Neil Magny', 'Alexa Grasso', 'Ricardo Lamas', 'Impa Kasanganay', 'Zak Cummings', 'Alex Caceres', 'Sean Brady', 'Polyana Viana', 'Mallory Martin', 'Frankie Edgar', 'Mike Rodriguez', 'Joe Solecki', 'Shana Dobson', 'Daniel Rodriguez', 'Amanda Lemos', 'Jordan Wright', 'Matthew Semelsberger', None, 'Stipe Miocic', 'Marlon Vera', 'Jairzinho Rozenstruik', 'Daniel Pineda', 'Merab Dvalishvili', 'Vinc Pichel', 'Virna Jandiroba', 'Danny Chavez', 'Livinha Souza', 'Chris Daukaus', 'Kai Kamaka', 'Derrick Lewis', 'Chris Weidman', 'Darren Stewart', 'Yana Kunitskaya', 'Beneil Dariush', 'Tim Means', 'Kevin Holland', 'Nasrat Haqparast', 'Andrew Sanchez', 'Gavin Tucker', 'Youssef Zalal', 'Irwin Rivera', 'Derek Brunson', 'Jennifer Maia', 'Vicente Luque', 'Bobby Green', 'Jonathan Martinez', 'Nate Maness', 'Jamall Emmers', None, 'Robert Whittaker', 'Mauricio Rua', 'Fabricio Werdum', 'Carla Esparza', 'Paul Craig', 'Alex Oliveira', 'Khamzat Chimaev', 'Francisco Trinaldo', None, 'Tom Aspinall', 'Movsar Evloev', 'Tanner Boser', 'Pannie Kianzad', 'Ramazan Emeev', 'Nathaniel Wood', 'Deiveson Figueiredo', 'Jack Hermansson', 'Rafael Fiziev', 'Ariane Lipski', 'Askar Askar', 'Roman Dolidze', 'Grant Dawson', 'Joel Alvarez', 'Brett Johns', 'Amir Albazi', 'Arman Tsarukyan', 'Serghei Spivac', 'Calvin Kattar', 'Tim Elliott', 'Jimmie Rivera', 'Taila Santos', 'Mounir Lazzez', 'Khamzat Chimaev', 'Lerone Murphy', 'Modestas Bukauskas', 'Jared Gordon', 'Liana Jojua', 'Jack Shore', 'Kamaru Usman', 'Alexander Volkanovski', 'Petr Yan', 'Rose Namajunas', 'Amanda Ribas', 'Jiri Prochazka', 'Muslim Salikhov', 'Makwan Amirkhani', 'Leonardo Santos', 'Marcin Tybura', 'Raulian Paiva', 'Karol Rosa', 'Davey Grant', 'Dustin Poirier', 'Mike Perry', 'Maurice Greene', 'Brendan Allen', 'Takashi Sato', 'Julian Erosa', 'Khama Worthy', 'Tanner Boser', 'Kay Hansen', 'Youssef Zalal', 'Curtis Blaydes', 'Josh Emmett', 'Raquel Pennington', 'Belal Muhammad', 'Jim Miller', 'Bobby Green', 'Tecia Torres', None, 'Gillian Robertson', 'Justin Jaynes', 'Lauren Murphy', 'Austin Hubbard', 'Cynthia Calvillo', 'Marvin Vettori', 'Charles Rosa', 'Andre Fili', 'Jordan Espinosa', 'Mariya Agapova', 'Merab Dvalishvili', 'Julia Avila', 'Tyson Nam', 'Christian Aguilera', 'Amanda Nunes', 'Cody Garbrandt', 'Aljamain Sterling', 'Neil Magny', \"Sean O'Malley\", 'Alex Caceres', 'Ian Heinisch', 'Cody Stamann', 'Maki Pitolo', 'Alex Perez', 'Devin Clark', 'Herbert Burns', 'Gilbert Burns', 'Augusto Sakai', 'Billy Quarantillo', 'Roosevelt Roberts', 'Mackenzie Dern', 'Katlyn Chookagian', 'Daniel Rodriguez', None, 'Brandon Royval', 'Casey Kenney', 'Chris Gutierrez', 'Alistair Overeem', 'Claudia Gadelha', 'Dan Ige', 'Krzysztof Jotko', 'Song Yadong', 'Miguel Baeza', 'Kevin Holland', 'Giga Chikadze', 'Nate Landwehr', 'Cortney Casey', 'Rodrigo Nascimento', 'Glover Teixeira', 'Ben Rothwell', 'Drew Dober', 'Ricky Simon', 'Andrei Arlovski', 'Thiago Moises', 'Sijara Eubanks', 'Omar Morales', 'Brian Kelleher', 'Chase Sherman', 'Justin Gaethje', 'Henry Cejudo', 'Francis Ngannou', 'Calvin Kattar', 'Greg Hardy', 'Anthony Pettis', 'Aleksei Oleinik', 'Carla Esparza', 'Vicente Luque', 'Bryce Mitchell', 'Ryan Spann', 'Charles Oliveira', 'Gilbert Burns', 'Renato Moicano', 'Nikita Krylov', 'Francisco Trinaldo', 'Brandon Moreno', 'Amanda Ribas', 'Elizeu Zaleski dos Santos', None, 'Maryna Moroz', 'David Dvorak', 'Bea Malecki', 'Israel Adesanya', 'Zhang Weili', 'Beneil Dariush', 'Neil Magny', 'Alex Oliveira', \"Sean O'Malley\", 'Mark Madsen', 'Rodolfo Vieira', 'Gerald Meerschaert', 'Giga Chikadze', 'Danaa Batgerel', 'Deiveson Figueiredo', 'Felicia Spencer', 'Magomed Ankalaev', 'Megan Anderson', 'Grant Dawson', 'Kyler Phillips', 'Brendan Allen', 'Marcin Tybura', 'Luis Pena', 'Jordan Griffin', 'Spike Carlyle', 'Sean Brady', 'Dan Hooker', 'Jimmy Crute', 'Yan Xiaonan', 'Marcos Rogerio de Lima', 'Brad Riddell', 'Zubaira Tukhugov', 'Jalin Turner', 'Jake Matthews', 'Song Kenan', 'Kai Kara-France', 'Angela Hill', 'Priscila Cachoeira']\n",
            "['U-DEC', 'U-DEC', 'U-DEC', 'S-DEC', 'S-DEC', 'S-DEC', 'S-DEC', 'SUB  Guillotine Choke', 'U-DEC', 'KO/TKO  Punch', 'U-DEC', 'U-DEC', 'SUB  Rear Naked Choke', 'SUB  Armbar', 'U-DEC', 'U-DEC', 'KO/TKO  Punches', 'S-DEC', 'KO/TKO  Punch', 'S-DEC', 'U-DEC', 'U-DEC', 'SUB  Rear Naked Choke', 'KO/TKO  Punch', \"SUB  D'Arce Choke\", 'KO/TKO  Punch', 'U-DEC', 'KO/TKO  Punch', 'SUB  Other - Choke', 'U-DEC', 'S-DEC', 'U-DEC', 'KO/TKO  Punches', 'U-DEC', 'KO/TKO  Punch', 'U-DEC', 'KO/TKO  Punch', 'KO/TKO  Punches', 'U-DEC', 'KO/TKO  Punches', 'U-DEC', 'KO/TKO  Punch', 'KO/TKO  Punch', 'CNC', 'KO/TKO  Punches', 'KO/TKO  Punch', 'KO/TKO  Punch', 'S-DEC', 'CNC', 'U-DEC', 'KO/TKO  Punch', 'SUB  Arm Triangle', 'U-DEC', 'S-DEC', 'U-DEC', 'KO/TKO  Punch', 'U-DEC', 'SUB  Armbar', 'DQ', 'SUB  Arm Triangle', 'U-DEC', 'S-DEC', 'U-DEC', 'U-DEC', 'KO/TKO  Punch', 'U-DEC', 'KO/TKO  Punch', 'SUB  Arm Triangle', 'KO/TKO  Punch', 'KO/TKO  Punches', 'KO/TKO  Punch', 'U-DEC', 'U-DEC', 'M-DEC', 'U-DEC', 'U-DEC', 'U-DEC', 'U-DEC', 'KO/TKO  Punches', 'U-DEC', 'KO/TKO  Punch', 'U-DEC', 'U-DEC', 'KO/TKO  Punches', 'M-DEC', 'SUB  Rear Naked Choke', 'U-DEC', 'KO/TKO  Punches', 'KO/TKO  Flying Knee', 'KO/TKO  Punches', 'KO/TKO  Punch', 'KO/TKO  Punches', 'KO/TKO  Punches', 'U-DEC', 'U-DEC', 'U-DEC', 'SUB  Anaconda Choke', 'SUB  Guillotine Choke', 'U-DEC', 'SUB  Armbar', 'U-DEC', 'U-DEC', 'KO/TKO  Punch', 'KO/TKO  Flying Knee', 'U-DEC', 'U-DEC', 'S-DEC', 'SUB  Rear Naked Choke', 'KO/TKO', 'U-DEC', 'U-DEC', 'U-DEC', 'U-DEC', 'KO/TKO  Punch', 'KO/TKO  Punches', 'KO/TKO  Punch', 'U-DEC', 'KO/TKO  Punches', 'KO/TKO  Punch', 'U-DEC', 'U-DEC', 'SUB  Rear Naked Choke', 'U-DEC', 'S-DEC', 'U-DEC', 'U-DEC', 'KO/TKO  Kick', 'KO/TKO  Punch', 'U-DEC', 'S-DEC', 'U-DEC', 'SUB  Arm Triangle', 'SUB  Arm Triangle', 'U-DEC', 'U-DEC', 'U-DEC', 'U-DEC', 'SUB  Rear Naked Choke', 'KO/TKO  Punches', 'U-DEC', 'U-DEC', 'KO/TKO  Punch', 'KO/TKO  Kick', 'KO/TKO  Punch', 'U-DEC', 'S-DEC', 'S-DEC', 'U-DEC', 'U-DEC', 'U-DEC', 'U-DEC', 'U-DEC', 'KO/TKO  Punches', 'KO/TKO  Punches', 'U-DEC', 'U-DEC', 'U-DEC', 'U-DEC', 'U-DEC', 'SUB  Triangle Choke', 'U-DEC', 'M-DEC', 'U-DEC', 'U-DEC', 'KO/TKO  Punch', 'KO/TKO  Elbow', 'KO/TKO  Punch', 'KO/TKO  Punch', 'U-DEC', 'KO/TKO', 'SUB  Heel Hook', 'U-DEC', 'KO/TKO  Punches', 'KO/TKO  Knee', 'S-DEC', 'KO/TKO  Slam', 'KO/TKO  Punches', 'KO/TKO  Punch', 'U-DEC', 'SUB  Triangle Choke', 'SUB  Arm Triangle', 'U-DEC', 'U-DEC', 'U-DEC', 'KO/TKO  Punches', 'SUB  Guillotine Choke', 'KO/TKO  Kick', 'KO/TKO  Punches', 'SUB  Rear Naked Choke', 'SUB  Guillotine Choke', 'U-DEC', 'U-DEC', 'U-DEC', 'KO/TKO  Punches', 'KO/TKO  Punches', 'KO/TKO  Punches', 'KO/TKO  Punches', 'U-DEC', 'U-DEC', 'U-DEC', 'KO/TKO  Punches', 'S-DEC', 'KO/TKO  Punch', 'U-DEC', 'KO/TKO  Punches', 'U-DEC', 'U-DEC', 'S-DEC', 'U-DEC', 'U-DEC', 'SUB  Rear Naked Choke', 'U-DEC', 'U-DEC', 'KO/TKO  Kick', 'U-DEC', 'KO/TKO  Punches', 'SUB  Forearm Choke', 'SUB  Rear Naked Choke', 'KO/TKO  Elbow', 'SUB  Rear Naked Choke', 'KO/TKO  Punches', 'U-DEC', 'KO/TKO  Punches', 'SUB  Injury', 'U-DEC', 'KO/TKO  Punches', 'KO/TKO  Kick', 'U-DEC', 'SUB  Arm Triangle', 'KO/TKO  Punch', 'KO/TKO  Punch', 'SUB  Triangle Choke', 'U-DEC', 'KO/TKO  Kick', 'KO/TKO  Punches', 'SUB  Rear Naked Choke', 'KO/TKO  Punch', 'KO/TKO  Punches', 'U-DEC', 'SUB  Guillotine Choke', 'S-DEC', 'KO/TKO', 'SUB  Armbar', 'U-DEC', 'KO/TKO  Punch', 'KO/TKO  Punches', 'U-DEC', 'U-DEC', 'S-DEC', 'U-DEC', 'U-DEC', 'U-DEC', 'KO/TKO  Punches', 'KO/TKO  Punches', 'KO/TKO  Kick', 'U-DEC', 'U-DEC', 'KO/TKO  Punch', 'KO/TKO  Punches', 'U-DEC', 'KO/TKO  Punch', 'KO/TKO  Punches', 'KO/TKO  Spinning Back Kick', 'U-DEC', 'U-DEC', 'U-DEC', 'U-DEC', 'U-DEC', 'U-DEC', 'SUB  Guillotine Choke', 'KO/TKO  Elbows', 'KO/TKO  Punches', 'U-DEC', 'S-DEC', 'U-DEC', 'U-DEC', 'U-DEC', 'KO/TKO  Kick', 'KO/TKO  Punch', 'KO/TKO  Punch', 'SUB  Guillotine Choke', 'U-DEC', 'S-DEC', 'U-DEC', 'U-DEC', 'KO/TKO  Kick', 'U-DEC', 'SUB  Neck Crank', 'U-DEC', 'KO/TKO', 'Overturned', 'KO/TKO  Punch', 'KO/TKO  Punches', 'SUB  Armbar', 'S-DEC', 'U-DEC', 'SUB  Guillotine Choke', 'SUB  Armbar', 'KO/TKO  Knee', 'SUB  Guillotine Choke', 'KO/TKO  Kick', 'S-DEC', 'KO/TKO  Punches', 'S-DEC', 'KO/TKO  Punches', 'U-DEC', 'SUB  Kimura', 'U-DEC', 'KO/TKO  Punch', 'U-DEC', 'Overturned  Guillotine Choke', 'SUB  Arm Triangle', 'SUB  Rear Naked Choke', 'U-DEC', 'SUB  Rear Naked Choke', 'KO/TKO  Elbows', 'KO/TKO  Punch', 'SUB  Rear Naked Choke', 'SUB  Armbar', 'SUB  Guillotine Choke', 'U-DEC', 'U-DEC', 'U-DEC', 'U-DEC', 'U-DEC', 'U-DEC', 'U-DEC', 'U-DEC', 'SUB  Rear Naked Choke', 'SUB  Guillotine Choke', 'SUB  Armbar', 'SUB  Rear Naked Choke', 'S-DEC', 'KO/TKO  Elbow', 'SUB  Rear Naked Choke', 'KO/TKO  Punches', 'KO/TKO  Punches', 'U-DEC', 'KO/TKO', 'U-DEC', 'Overturned  Punch', 'U-DEC', 'KO/TKO  Elbows', 'KO/TKO  Punch', 'KO/TKO  Elbows', 'U-DEC', 'U-DEC', 'SUB  Armbar', 'U-DEC', 'U-DEC', 'KO/TKO  Knee', 'U-DEC', 'KO/TKO  Punches', 'U-DEC', 'SUB  Guillotine Choke', 'U-DEC', 'KO/TKO  Spinning Back Fist', 'U-DEC', 'KO/TKO  Punch', 'U-DEC', 'KO/TKO  Punch', 'SUB  Rear Naked Choke', 'U-DEC', 'S-DEC', 'KO/TKO  Punches', 'SUB  Armbar', 'KO/TKO  Knee', 'U-DEC', 'KO/TKO  Knee', 'U-DEC', 'U-DEC', 'U-DEC', 'U-DEC', 'S-DEC', 'SUB  Armbar', 'S-DEC', 'SUB  Triangle Choke', 'U-DEC', 'KO/TKO  Punches', 'KO/TKO  Punch', 'Overturned  Rear Naked Choke', 'KO/TKO  Punches', 'U-DEC', 'KO/TKO  Punch', 'U-DEC', 'U-DEC', 'U-DEC', 'SUB  Rear Naked Choke', 'SUB  Heel Hook', 'U-DEC', 'SUB  Kneebar', 'U-DEC', 'KO/TKO  Knee', 'U-DEC', 'SUB  Guillotine Choke', 'U-DEC', 'SUB  Triangle Choke', 'U-DEC', 'M-DEC', 'U-DEC', 'U-DEC', 'U-DEC', 'U-DEC', 'U-DEC', \"SUB  D'Arce Choke\", 'KO/TKO  Punches', 'KO/TKO', 'U-DEC', 'SUB  Armbar', 'SUB  Rear Naked Choke', 'U-DEC', 'S-DEC', 'KO/TKO  Punches', 'S-DEC', 'SUB  Armbar', 'KO/TKO  Punch', 'S-DEC', 'SUB  Anaconda Choke', 'U-DEC', 'U-DEC', 'U-DEC', 'U-DEC', 'KO/TKO  Punch', 'U-DEC', 'U-DEC', 'SUB  Arm Triangle', 'U-DEC', 'KO/TKO  Punches', \"SUB  D'Arce Choke\", 'SUB  Guillotine Choke', 'KO/TKO  Punches', 'SUB  Armbar', 'U-DEC', 'U-DEC', 'U-DEC', 'U-DEC', 'U-DEC', 'SUB  Armbar', 'U-DEC', 'U-DEC', 'Overturned  Punches', 'SUB  Rear Naked Choke', 'KO/TKO  Punches', 'U-DEC', 'KO/TKO', 'U-DEC', 'SUB  Rear Naked Choke', 'S-DEC', 'S-DEC', 'U-DEC', 'SUB  Rear Naked Choke', 'U-DEC', 'KO/TKO  Punches', 'KO/TKO  Punch', 'KO/TKO  Punches', 'U-DEC', 'KO/TKO  Punch', 'SUB  Rear Naked Choke', 'U-DEC', 'KO/TKO  Punch', 'U-DEC', 'KO/TKO  Punch', 'U-DEC', 'KO/TKO  Punches', 'KO/TKO  Kick', 'U-DEC', 'SUB  Rear Naked Choke', 'U-DEC', 'S-DEC', 'U-DEC', 'SUB  Rear Naked Choke', 'SUB  Kneebar', 'U-DEC', 'U-DEC', 'Overturned  Knee', 'SUB  Arm Triangle', 'SUB  Guillotine Choke', 'KO/TKO  Kick', 'KO/TKO  Punches', 'S-DEC', 'S-DEC', 'U-DEC', 'U-DEC', 'KO/TKO  Punch', 'KO/TKO  Knees', 'U-DEC', 'U-DEC', 'SUB  Armbar', 'SUB  Rear Naked Choke', 'KO/TKO  Punches', 'S-DEC', 'KO/TKO  Punches', 'S-DEC', 'U-DEC', 'SUB  Ankle Lock', 'U-DEC', 'U-DEC', 'KO/TKO  Punch', 'KO/TKO  Elbow', 'KO/TKO  Punch', 'KO/TKO  Knee', 'KO/TKO  Punch', 'KO/TKO  Elbow', 'U-DEC', 'U-DEC', 'S-DEC', 'S-DEC', 'KO/TKO  Punches', 'U-DEC', 'S-DEC', 'SUB  Guillotine Choke', 'KO/TKO  Punch', 'SUB  Rear Naked Choke', 'U-DEC', 'U-DEC', 'U-DEC', 'U-DEC', 'U-DEC', 'M-DEC', 'U-DEC', 'U-DEC', 'U-DEC', 'U-DEC', 'S-DEC', 'KO/TKO  Punch', 'U-DEC', 'S-DEC', 'KO/TKO  Punches', 'U-DEC', 'SUB  Arm Triangle', 'SUB  Rear Naked Choke', 'S-DEC', 'KO/TKO  Punch', 'KO/TKO  Punch', 'KO/TKO  Punches', 'KO/TKO  Punches', 'KO/TKO  Punch', 'SUB  Rear Naked Choke', 'U-DEC', 'KO/TKO  Punches', 'U-DEC', 'U-DEC', 'SUB  Guillotine Choke', 'KO/TKO  Punches', 'U-DEC', 'S-DEC', 'SUB  Kimura', 'U-DEC', 'KO/TKO  Punch', 'S-DEC', 'KO/TKO  Punches', 'KO/TKO  Punches', 'U-DEC', 'KO/TKO  Punch', 'U-DEC', 'U-DEC', 'KO/TKO  Punch']\n"
          ],
          "name": "stdout"
        },
        {
          "output_type": "stream",
          "text": [
            "\n"
          ],
          "name": "stderr"
        }
      ]
    },
    {
      "cell_type": "markdown",
      "metadata": {
        "id": "CzlsyBU6DdRE"
      },
      "source": [
        "## Get fight tables\n",
        "\n",
        "TODO: Add exception handling. Sometimes gets weird Document Empty errors. Investigate why."
      ]
    },
    {
      "cell_type": "code",
      "metadata": {
        "id": "zJjLUhEyDcSs"
      },
      "source": [
        "def get_labeled_fight_tables(fight_url):\n",
        "    '''Convert fight url to dictionary of pandas tables of information.\n",
        "       Before gave a list of tables that was hard to understand.\n",
        "       Now have Totals, Per Round Totals, Significant Strikes, Per Round Significant Strikes\n",
        "       May return None if has issues'''\n",
        "    try:\n",
        "        fight_tables = pd.read_html(fight_url)\n",
        "    except Exception:\n",
        "        print(f\"Failure on fight_url = {fight_url}\")\n",
        "        return None\n",
        "    \n",
        "    labeled_fight_tables = {}\n",
        "    labeled_fight_tables['Totals'] = fight_tables[0]\n",
        "    labeled_fight_tables['Per Round Totals'] = fight_tables[1]\n",
        "    labeled_fight_tables['Significant Strikes'] = fight_tables[2]\n",
        "    labeled_fight_tables['Per Round Significant Strikes'] = fight_tables[3]\n",
        "    return labeled_fight_tables"
      ],
      "execution_count": null,
      "outputs": []
    },
    {
      "cell_type": "code",
      "metadata": {
        "colab": {
          "base_uri": "https://localhost:8080/",
          "height": 1000
        },
        "id": "08jcNbZaDlBE",
        "outputId": "a788343c-4ccc-4a35-af94-793ccc07a09e"
      },
      "source": [
        "RAW_FIGHT_TABLES_LIST = []\n",
        "for url in tqdm(FIGHT_URLS):\n",
        "    RAW_FIGHT_TABLES_LIST.append(get_labeled_fight_tables(url))\n",
        "RAW_FIGHT_TABLES_LIST[0]['Totals'].head()"
      ],
      "execution_count": null,
      "outputs": [
        {
          "output_type": "stream",
          "text": [
            "\n",
            "  0%|          | 0/557 [00:00<?, ?it/s]\u001b[A\n",
            "  0%|          | 1/557 [00:00<01:09,  7.94it/s]\u001b[A\n",
            "  0%|          | 2/557 [00:00<01:09,  8.01it/s]\u001b[A\n",
            "  1%|          | 3/557 [00:00<01:10,  7.82it/s]\u001b[A\n",
            "  1%|          | 4/557 [00:00<01:10,  7.89it/s]\u001b[A\n",
            "  1%|          | 5/557 [00:00<01:09,  7.98it/s]\u001b[A\n",
            "  1%|          | 6/557 [00:00<01:09,  7.89it/s]\u001b[A\n",
            "  1%|▏         | 7/557 [00:00<01:07,  8.10it/s]\u001b[A\n",
            "  2%|▏         | 9/557 [00:01<01:03,  8.58it/s]\u001b[A\n",
            "  2%|▏         | 11/557 [00:01<01:02,  8.72it/s]\u001b[A\n",
            "  2%|▏         | 12/557 [00:01<01:02,  8.71it/s]\u001b[A\n",
            "  2%|▏         | 13/557 [00:01<01:01,  8.78it/s]\u001b[A\n",
            "  3%|▎         | 14/557 [00:01<01:00,  8.92it/s]\u001b[A\n",
            "  3%|▎         | 15/557 [00:01<01:01,  8.78it/s]\u001b[A\n",
            "  3%|▎         | 16/557 [00:01<01:06,  8.16it/s]\u001b[A\n",
            "  3%|▎         | 18/557 [00:02<01:03,  8.53it/s]\u001b[A\n",
            "  4%|▎         | 20/557 [00:02<01:06,  8.05it/s]\u001b[A\n",
            "  4%|▍         | 21/557 [00:02<01:06,  8.11it/s]\u001b[A\n",
            "  4%|▍         | 22/557 [00:02<01:06,  8.10it/s]\u001b[A\n",
            "  4%|▍         | 24/557 [00:03<01:43,  5.15it/s]\u001b[A\n",
            "  4%|▍         | 25/557 [00:04<02:57,  3.00it/s]\u001b[A\n",
            "  5%|▍         | 26/557 [00:04<03:45,  2.36it/s]\u001b[A\n",
            "  5%|▍         | 27/557 [00:05<04:15,  2.08it/s]\u001b[A\n",
            "  5%|▌         | 28/557 [00:05<04:23,  2.01it/s]\u001b[A\n",
            "  5%|▌         | 29/557 [00:06<04:42,  1.87it/s]\u001b[A\n",
            "  5%|▌         | 30/557 [00:07<05:26,  1.62it/s]\u001b[A\n",
            "  6%|▌         | 31/557 [00:07<05:30,  1.59it/s]\u001b[A\n",
            "  6%|▌         | 32/557 [00:08<05:31,  1.58it/s]\u001b[A\n",
            "  6%|▌         | 33/557 [00:09<05:31,  1.58it/s]\u001b[A\n",
            "  6%|▌         | 34/557 [00:09<05:07,  1.70it/s]\u001b[A\n",
            "  6%|▋         | 35/557 [00:10<05:12,  1.67it/s]\u001b[A\n",
            "  6%|▋         | 36/557 [00:11<05:38,  1.54it/s]\u001b[A\n",
            "  7%|▋         | 37/557 [00:11<05:26,  1.59it/s]\u001b[A\n",
            "  7%|▋         | 38/557 [00:12<05:25,  1.59it/s]\u001b[A\n",
            "  7%|▋         | 39/557 [00:12<05:27,  1.58it/s]\u001b[A\n",
            "  7%|▋         | 40/557 [00:13<05:29,  1.57it/s]\u001b[A\n",
            "  7%|▋         | 41/557 [00:14<05:38,  1.53it/s]\u001b[A\n",
            "  8%|▊         | 42/557 [00:14<05:33,  1.54it/s]\u001b[A\n",
            "  8%|▊         | 43/557 [00:15<05:26,  1.58it/s]\u001b[A"
          ],
          "name": "stderr"
        },
        {
          "output_type": "stream",
          "text": [
            "Failure on fight_url = \n"
          ],
          "name": "stdout"
        },
        {
          "output_type": "stream",
          "text": [
            "\n",
            "  8%|▊         | 45/557 [00:16<04:30,  1.89it/s]\u001b[A\n",
            "  8%|▊         | 46/557 [00:16<04:40,  1.82it/s]\u001b[A\n",
            "  8%|▊         | 47/557 [00:17<04:41,  1.81it/s]\u001b[A\n",
            "  9%|▊         | 48/557 [00:17<04:55,  1.72it/s]\u001b[A"
          ],
          "name": "stderr"
        },
        {
          "output_type": "stream",
          "text": [
            "Failure on fight_url = \n"
          ],
          "name": "stdout"
        },
        {
          "output_type": "stream",
          "text": [
            "\n",
            "  9%|▉         | 50/557 [00:18<04:08,  2.04it/s]\u001b[A\n",
            "  9%|▉         | 51/557 [00:18<04:19,  1.95it/s]\u001b[A\n",
            "  9%|▉         | 52/557 [00:19<04:40,  1.80it/s]\u001b[A\n",
            " 10%|▉         | 53/557 [00:20<04:52,  1.72it/s]\u001b[A\n",
            " 10%|▉         | 54/557 [00:20<05:08,  1.63it/s]\u001b[A\n",
            " 10%|▉         | 55/557 [00:21<05:06,  1.64it/s]\u001b[A\n",
            " 10%|█         | 56/557 [00:22<05:02,  1.66it/s]\u001b[A\n",
            " 10%|█         | 57/557 [00:22<05:31,  1.51it/s]\u001b[A\n",
            " 10%|█         | 58/557 [00:23<04:54,  1.69it/s]\u001b[A\n",
            " 11%|█         | 59/557 [00:23<05:00,  1.66it/s]\u001b[A\n",
            " 11%|█         | 60/557 [00:24<04:35,  1.80it/s]\u001b[A\n",
            " 11%|█         | 61/557 [00:25<04:49,  1.71it/s]\u001b[A\n",
            " 11%|█         | 62/557 [00:25<04:55,  1.68it/s]\u001b[A\n",
            " 11%|█▏        | 63/557 [00:26<05:05,  1.62it/s]\u001b[A\n",
            " 11%|█▏        | 64/557 [00:27<06:34,  1.25it/s]\u001b[A\n",
            " 12%|█▏        | 65/557 [00:28<06:22,  1.29it/s]\u001b[A\n",
            " 12%|█▏        | 66/557 [00:29<06:25,  1.27it/s]\u001b[A\n",
            " 12%|█▏        | 67/557 [00:30<07:03,  1.16it/s]\u001b[A\n",
            " 12%|█▏        | 68/557 [00:31<08:18,  1.02s/it]\u001b[A\n",
            " 12%|█▏        | 69/557 [00:32<07:41,  1.06it/s]\u001b[A\n",
            " 13%|█▎        | 70/557 [00:33<07:27,  1.09it/s]\u001b[A\n",
            " 13%|█▎        | 71/557 [00:33<06:48,  1.19it/s]\u001b[A\n",
            " 13%|█▎        | 72/557 [00:34<06:16,  1.29it/s]\u001b[A\n",
            " 13%|█▎        | 73/557 [00:35<06:01,  1.34it/s]\u001b[A\n",
            " 13%|█▎        | 74/557 [00:35<05:48,  1.39it/s]\u001b[A\n",
            " 13%|█▎        | 75/557 [00:36<05:31,  1.46it/s]\u001b[A\n",
            " 14%|█▎        | 76/557 [00:37<05:45,  1.39it/s]\u001b[A\n",
            " 14%|█▍        | 77/557 [00:37<05:38,  1.42it/s]\u001b[A\n",
            " 14%|█▍        | 78/557 [00:38<05:35,  1.43it/s]\u001b[A\n",
            " 14%|█▍        | 79/557 [00:39<05:17,  1.51it/s]\u001b[A\n",
            " 14%|█▍        | 80/557 [00:39<05:01,  1.58it/s]\u001b[A\n",
            " 15%|█▍        | 81/557 [00:40<05:27,  1.46it/s]\u001b[A\n",
            " 15%|█▍        | 82/557 [00:41<05:32,  1.43it/s]\u001b[A\n",
            " 15%|█▍        | 83/557 [00:41<05:19,  1.48it/s]\u001b[A\n",
            " 15%|█▌        | 84/557 [00:42<05:25,  1.45it/s]\u001b[A\n",
            " 15%|█▌        | 85/557 [00:43<05:16,  1.49it/s]\u001b[A\n",
            " 15%|█▌        | 86/557 [00:43<04:45,  1.65it/s]\u001b[A\n",
            " 16%|█▌        | 87/557 [00:44<04:57,  1.58it/s]\u001b[A\n",
            " 16%|█▌        | 88/557 [00:45<05:01,  1.56it/s]\u001b[A\n",
            " 16%|█▌        | 89/557 [00:45<04:54,  1.59it/s]\u001b[A\n",
            " 16%|█▌        | 90/557 [00:46<04:43,  1.65it/s]\u001b[A\n",
            " 16%|█▋        | 91/557 [00:46<04:41,  1.65it/s]\u001b[A\n",
            " 17%|█▋        | 92/557 [00:47<04:47,  1.62it/s]\u001b[A\n",
            " 17%|█▋        | 93/557 [00:48<04:55,  1.57it/s]\u001b[A\n",
            " 17%|█▋        | 94/557 [00:48<04:57,  1.55it/s]\u001b[A\n",
            " 17%|█▋        | 95/557 [00:49<05:04,  1.52it/s]\u001b[A\n",
            " 17%|█▋        | 96/557 [00:50<05:13,  1.47it/s]\u001b[A\n",
            " 17%|█▋        | 97/557 [00:50<04:37,  1.65it/s]\u001b[A\n",
            " 18%|█▊        | 98/557 [00:51<04:41,  1.63it/s]\u001b[A\n",
            " 18%|█▊        | 99/557 [00:51<04:48,  1.59it/s]\u001b[A\n",
            " 18%|█▊        | 100/557 [00:52<04:35,  1.66it/s]\u001b[A\n",
            " 18%|█▊        | 101/557 [00:53<04:46,  1.59it/s]\u001b[A\n",
            " 18%|█▊        | 102/557 [00:53<04:46,  1.59it/s]\u001b[A\n",
            " 18%|█▊        | 103/557 [00:54<04:35,  1.65it/s]\u001b[A\n",
            " 19%|█▊        | 104/557 [00:54<04:29,  1.68it/s]\u001b[A\n",
            " 19%|█▉        | 105/557 [00:55<04:48,  1.57it/s]\u001b[A\n",
            " 19%|█▉        | 106/557 [00:56<04:19,  1.74it/s]\u001b[A\n",
            " 19%|█▉        | 107/557 [00:56<03:58,  1.89it/s]\u001b[A\n",
            " 19%|█▉        | 108/557 [00:57<04:00,  1.86it/s]\u001b[A\n",
            " 20%|█▉        | 109/557 [00:57<04:18,  1.73it/s]\u001b[A\n",
            " 20%|█▉        | 110/557 [00:58<04:25,  1.68it/s]\u001b[A\n",
            " 20%|█▉        | 111/557 [00:58<04:23,  1.69it/s]\u001b[A\n",
            " 20%|██        | 112/557 [00:59<04:27,  1.66it/s]\u001b[A\n",
            " 20%|██        | 113/557 [01:00<04:37,  1.60it/s]\u001b[A\n",
            " 20%|██        | 114/557 [01:00<04:27,  1.65it/s]\u001b[A\n",
            " 21%|██        | 115/557 [01:01<03:39,  2.02it/s]\u001b[A\n",
            " 21%|██        | 116/557 [01:01<03:22,  2.18it/s]\u001b[A\n",
            " 21%|██        | 117/557 [01:01<03:39,  2.01it/s]\u001b[A\n",
            " 21%|██        | 118/557 [01:02<03:51,  1.90it/s]\u001b[A\n",
            " 21%|██▏       | 119/557 [01:03<04:02,  1.81it/s]\u001b[A\n",
            " 22%|██▏       | 120/557 [01:03<04:12,  1.73it/s]\u001b[A\n",
            " 22%|██▏       | 121/557 [01:04<04:27,  1.63it/s]\u001b[A\n",
            " 22%|██▏       | 122/557 [01:05<04:30,  1.61it/s]\u001b[A\n",
            " 22%|██▏       | 123/557 [01:05<04:23,  1.65it/s]\u001b[A\n",
            " 22%|██▏       | 124/557 [01:06<04:33,  1.58it/s]\u001b[A\n",
            " 22%|██▏       | 125/557 [01:07<04:30,  1.60it/s]\u001b[A\n",
            " 23%|██▎       | 126/557 [01:07<04:51,  1.48it/s]\u001b[A\n",
            " 23%|██▎       | 127/557 [01:08<04:40,  1.53it/s]\u001b[A\n",
            " 23%|██▎       | 128/557 [01:09<04:37,  1.54it/s]\u001b[A\n",
            " 23%|██▎       | 129/557 [01:09<04:13,  1.69it/s]\u001b[A\n",
            " 23%|██▎       | 130/557 [01:10<04:07,  1.72it/s]\u001b[A\n",
            " 24%|██▎       | 131/557 [01:10<04:24,  1.61it/s]\u001b[A\n",
            " 24%|██▎       | 132/557 [01:11<04:15,  1.66it/s]\u001b[A\n",
            " 24%|██▍       | 133/557 [01:11<03:58,  1.78it/s]\u001b[A\n",
            " 24%|██▍       | 134/557 [01:12<04:16,  1.65it/s]\u001b[A\n",
            " 24%|██▍       | 135/557 [01:13<04:27,  1.58it/s]\u001b[A\n",
            " 24%|██▍       | 136/557 [01:13<04:09,  1.69it/s]\u001b[A\n",
            " 25%|██▍       | 137/557 [01:14<04:13,  1.65it/s]\u001b[A\n",
            " 25%|██▍       | 138/557 [01:14<04:09,  1.68it/s]\u001b[A\n",
            " 25%|██▍       | 139/557 [01:15<04:05,  1.71it/s]\u001b[A\n",
            " 25%|██▌       | 140/557 [01:16<04:21,  1.60it/s]\u001b[A\n",
            " 25%|██▌       | 141/557 [01:16<04:34,  1.52it/s]\u001b[A\n",
            " 25%|██▌       | 142/557 [01:17<04:29,  1.54it/s]\u001b[A\n",
            " 26%|██▌       | 143/557 [01:18<04:15,  1.62it/s]\u001b[A\n",
            " 26%|██▌       | 144/557 [01:18<04:08,  1.66it/s]\u001b[A\n",
            " 26%|██▌       | 145/557 [01:19<04:03,  1.69it/s]\u001b[A\n",
            " 26%|██▌       | 146/557 [01:19<04:01,  1.70it/s]\u001b[A\n",
            " 26%|██▋       | 147/557 [01:20<04:11,  1.63it/s]\u001b[A\n",
            " 27%|██▋       | 148/557 [01:21<04:11,  1.63it/s]\u001b[A\n",
            " 27%|██▋       | 149/557 [01:21<04:13,  1.61it/s]\u001b[A\n",
            " 27%|██▋       | 150/557 [01:22<04:34,  1.48it/s]\u001b[A\n",
            " 27%|██▋       | 151/557 [01:23<04:33,  1.49it/s]\u001b[A\n",
            " 27%|██▋       | 152/557 [01:23<04:31,  1.49it/s]\u001b[A\n",
            " 27%|██▋       | 153/557 [01:24<04:01,  1.67it/s]\u001b[A\n",
            " 28%|██▊       | 154/557 [01:24<04:08,  1.62it/s]\u001b[A\n",
            " 28%|██▊       | 155/557 [01:25<04:10,  1.61it/s]\u001b[A\n",
            " 28%|██▊       | 156/557 [01:26<04:11,  1.59it/s]\u001b[A\n",
            " 28%|██▊       | 157/557 [01:27<04:28,  1.49it/s]\u001b[A\n",
            " 28%|██▊       | 158/557 [01:27<04:55,  1.35it/s]\u001b[A\n",
            " 29%|██▊       | 159/557 [01:28<04:10,  1.59it/s]\u001b[A\n",
            " 29%|██▊       | 160/557 [01:29<04:29,  1.47it/s]\u001b[A\n",
            " 29%|██▉       | 161/557 [01:29<04:13,  1.56it/s]\u001b[A\n",
            " 29%|██▉       | 162/557 [01:30<04:12,  1.56it/s]\u001b[A\n",
            " 29%|██▉       | 163/557 [01:30<03:36,  1.82it/s]\u001b[A\n",
            " 29%|██▉       | 164/557 [01:31<03:38,  1.79it/s]\u001b[A\n",
            " 30%|██▉       | 165/557 [01:31<03:02,  2.14it/s]\u001b[A\n",
            " 30%|██▉       | 166/557 [01:32<03:42,  1.76it/s]\u001b[A\n",
            " 30%|██▉       | 167/557 [01:32<03:35,  1.81it/s]\u001b[A\n",
            " 30%|███       | 168/557 [01:33<03:45,  1.72it/s]\u001b[A\n",
            " 30%|███       | 169/557 [01:34<04:13,  1.53it/s]\u001b[A\n",
            " 31%|███       | 170/557 [01:34<03:47,  1.70it/s]\u001b[A\n",
            " 31%|███       | 171/557 [01:35<03:57,  1.63it/s]\u001b[A\n",
            " 31%|███       | 172/557 [01:35<03:29,  1.84it/s]\u001b[A\n",
            " 31%|███       | 173/557 [01:36<03:31,  1.81it/s]\u001b[A\n",
            " 31%|███       | 174/557 [01:36<02:56,  2.16it/s]\u001b[A\n",
            " 31%|███▏      | 175/557 [01:37<03:23,  1.88it/s]\u001b[A\n",
            " 32%|███▏      | 176/557 [01:37<03:35,  1.77it/s]\u001b[A\n",
            " 32%|███▏      | 177/557 [01:38<03:44,  1.69it/s]\u001b[A\n",
            " 32%|███▏      | 178/557 [01:38<03:19,  1.90it/s]\u001b[A\n",
            " 32%|███▏      | 179/557 [01:39<03:45,  1.67it/s]\u001b[A\n",
            " 32%|███▏      | 180/557 [01:40<03:29,  1.80it/s]\u001b[A\n",
            " 32%|███▏      | 181/557 [01:40<03:28,  1.80it/s]\u001b[A\n",
            " 33%|███▎      | 182/557 [01:41<03:51,  1.62it/s]\u001b[A\n",
            " 33%|███▎      | 183/557 [01:42<03:54,  1.60it/s]\u001b[A\n",
            " 33%|███▎      | 184/557 [01:42<03:59,  1.56it/s]\u001b[A\n",
            " 33%|███▎      | 185/557 [01:43<03:20,  1.85it/s]\u001b[A\n",
            " 33%|███▎      | 186/557 [01:43<03:05,  2.00it/s]\u001b[A\n",
            " 34%|███▎      | 187/557 [01:44<03:21,  1.84it/s]\u001b[A\n",
            " 34%|███▍      | 188/557 [01:44<03:10,  1.93it/s]\u001b[A\n",
            " 34%|███▍      | 189/557 [01:45<03:13,  1.90it/s]\u001b[A\n",
            " 34%|███▍      | 190/557 [01:45<03:03,  2.00it/s]\u001b[A\n",
            " 34%|███▍      | 191/557 [01:46<03:00,  2.02it/s]\u001b[A\n",
            " 34%|███▍      | 192/557 [01:46<03:16,  1.85it/s]\u001b[A\n",
            " 35%|███▍      | 193/557 [01:47<03:44,  1.62it/s]\u001b[A\n",
            " 35%|███▍      | 194/557 [01:48<03:51,  1.57it/s]\u001b[A\n",
            " 35%|███▌      | 195/557 [01:48<03:30,  1.72it/s]\u001b[A\n",
            " 35%|███▌      | 196/557 [01:49<03:17,  1.83it/s]\u001b[A\n",
            " 35%|███▌      | 197/557 [01:49<03:21,  1.79it/s]\u001b[A\n",
            " 36%|███▌      | 198/557 [01:50<03:17,  1.82it/s]\u001b[A\n",
            " 36%|███▌      | 199/557 [01:50<03:30,  1.70it/s]\u001b[A\n",
            " 36%|███▌      | 200/557 [01:51<03:40,  1.62it/s]\u001b[A\n",
            " 36%|███▌      | 201/557 [01:52<03:35,  1.65it/s]\u001b[A\n",
            " 36%|███▋      | 202/557 [01:52<03:57,  1.49it/s]\u001b[A\n",
            " 36%|███▋      | 203/557 [01:53<03:11,  1.85it/s]\u001b[A\n",
            " 37%|███▋      | 204/557 [01:53<03:18,  1.77it/s]\u001b[A\n",
            " 37%|███▋      | 205/557 [01:54<03:31,  1.67it/s]\u001b[A\n",
            " 37%|███▋      | 206/557 [01:55<03:34,  1.64it/s]\u001b[A\n",
            " 37%|███▋      | 207/557 [01:55<03:43,  1.57it/s]\u001b[A\n",
            " 37%|███▋      | 208/557 [01:56<03:25,  1.70it/s]\u001b[A\n",
            " 38%|███▊      | 209/557 [01:56<03:06,  1.86it/s]\u001b[A\n",
            " 38%|███▊      | 210/557 [01:57<03:13,  1.80it/s]\u001b[A\n",
            " 38%|███▊      | 211/557 [01:58<03:23,  1.70it/s]\u001b[A\n",
            " 38%|███▊      | 212/557 [01:58<03:09,  1.82it/s]\u001b[A\n",
            " 38%|███▊      | 213/557 [01:59<03:21,  1.70it/s]\u001b[A\n",
            " 38%|███▊      | 214/557 [01:59<03:25,  1.67it/s]\u001b[A\n",
            " 39%|███▊      | 215/557 [02:00<03:13,  1.77it/s]\u001b[A\n",
            " 39%|███▉      | 216/557 [02:00<03:24,  1.67it/s]\u001b[A\n",
            " 39%|███▉      | 217/557 [02:01<02:58,  1.91it/s]\u001b[A\n",
            " 39%|███▉      | 218/557 [02:02<03:14,  1.74it/s]\u001b[A\n",
            " 39%|███▉      | 219/557 [02:02<03:19,  1.69it/s]\u001b[A\n",
            " 39%|███▉      | 220/557 [02:03<02:59,  1.87it/s]\u001b[A\n",
            " 40%|███▉      | 221/557 [02:03<03:12,  1.75it/s]\u001b[A\n",
            " 40%|███▉      | 222/557 [02:04<03:31,  1.59it/s]\u001b[A\n",
            " 40%|████      | 223/557 [02:04<03:10,  1.75it/s]\u001b[A\n",
            " 40%|████      | 224/557 [02:05<02:54,  1.91it/s]\u001b[A\n",
            " 40%|████      | 225/557 [02:06<03:15,  1.70it/s]\u001b[A\n",
            " 41%|████      | 226/557 [02:06<03:21,  1.64it/s]\u001b[A\n",
            " 41%|████      | 227/557 [02:07<03:20,  1.65it/s]\u001b[A\n",
            " 41%|████      | 228/557 [02:07<03:04,  1.79it/s]\u001b[A\n",
            " 41%|████      | 229/557 [02:08<03:06,  1.75it/s]\u001b[A\n",
            " 41%|████▏     | 230/557 [02:09<03:19,  1.64it/s]\u001b[A\n",
            " 41%|████▏     | 231/557 [02:09<03:21,  1.62it/s]\u001b[A\n",
            " 42%|████▏     | 233/557 [02:10<02:46,  1.95it/s]\u001b[A\n",
            " 42%|████▏     | 234/557 [02:10<02:57,  1.82it/s]\u001b[A\n",
            " 42%|████▏     | 235/557 [02:11<02:47,  1.93it/s]\u001b[A\n",
            " 42%|████▏     | 236/557 [02:11<02:55,  1.83it/s]\u001b[A\n",
            " 43%|████▎     | 237/557 [02:12<02:56,  1.81it/s]\u001b[A\n",
            " 43%|████▎     | 238/557 [02:13<03:04,  1.73it/s]\u001b[A\n",
            " 43%|████▎     | 239/557 [02:13<03:05,  1.71it/s]\u001b[A\n",
            " 43%|████▎     | 240/557 [02:14<03:02,  1.74it/s]\u001b[A\n",
            " 43%|████▎     | 241/557 [02:14<02:35,  2.03it/s]\u001b[A\n",
            " 43%|████▎     | 242/557 [02:15<02:53,  1.82it/s]\u001b[A\n",
            " 44%|████▎     | 243/557 [02:15<02:57,  1.77it/s]\u001b[A\n",
            " 44%|████▍     | 244/557 [02:16<03:12,  1.62it/s]\u001b[A\n",
            " 44%|████▍     | 245/557 [02:17<02:58,  1.74it/s]\u001b[A\n",
            " 44%|████▍     | 246/557 [02:17<03:12,  1.61it/s]\u001b[A\n",
            " 44%|████▍     | 247/557 [02:18<03:14,  1.59it/s]\u001b[A\n",
            " 45%|████▍     | 248/557 [02:19<03:15,  1.58it/s]\u001b[A\n",
            " 45%|████▍     | 249/557 [02:19<02:57,  1.74it/s]\u001b[A\n",
            " 45%|████▍     | 250/557 [02:20<02:51,  1.79it/s]\u001b[A\n",
            " 45%|████▌     | 251/557 [02:20<03:00,  1.69it/s]\u001b[A\n",
            " 45%|████▌     | 252/557 [02:21<03:08,  1.62it/s]\u001b[A\n",
            " 45%|████▌     | 253/557 [02:21<03:03,  1.66it/s]\u001b[A\n",
            " 46%|████▌     | 254/557 [02:22<03:01,  1.67it/s]\u001b[A\n",
            " 46%|████▌     | 255/557 [02:22<02:45,  1.83it/s]\u001b[A\n",
            " 46%|████▌     | 256/557 [02:23<02:54,  1.72it/s]\u001b[A\n",
            " 46%|████▌     | 257/557 [02:24<02:41,  1.86it/s]\u001b[A\n",
            " 46%|████▋     | 258/557 [02:24<02:53,  1.73it/s]\u001b[A\n",
            " 46%|████▋     | 259/557 [02:25<03:02,  1.63it/s]\u001b[A\n",
            " 47%|████▋     | 260/557 [02:25<02:53,  1.71it/s]\u001b[A\n",
            " 47%|████▋     | 261/557 [02:26<02:54,  1.69it/s]\u001b[A\n",
            " 47%|████▋     | 262/557 [02:27<03:01,  1.62it/s]\u001b[A\n",
            " 47%|████▋     | 263/557 [02:28<03:24,  1.44it/s]\u001b[A\n",
            " 47%|████▋     | 264/557 [02:28<03:21,  1.45it/s]\u001b[A\n",
            " 48%|████▊     | 265/557 [02:29<03:07,  1.56it/s]\u001b[A\n",
            " 48%|████▊     | 266/557 [02:29<02:59,  1.62it/s]\u001b[A\n",
            " 48%|████▊     | 267/557 [02:30<03:06,  1.55it/s]\u001b[A\n",
            " 48%|████▊     | 268/557 [02:31<03:02,  1.58it/s]\u001b[A\n",
            " 48%|████▊     | 269/557 [02:31<02:52,  1.67it/s]\u001b[A\n",
            " 48%|████▊     | 270/557 [02:32<03:06,  1.53it/s]\u001b[A\n",
            " 49%|████▊     | 271/557 [02:33<03:00,  1.58it/s]\u001b[A\n",
            " 49%|████▉     | 272/557 [02:33<02:56,  1.61it/s]\u001b[A\n",
            " 49%|████▉     | 273/557 [02:34<03:04,  1.54it/s]\u001b[A\n",
            " 49%|████▉     | 274/557 [02:35<03:15,  1.45it/s]\u001b[A\n",
            " 49%|████▉     | 275/557 [02:35<03:06,  1.51it/s]\u001b[A\n",
            " 50%|████▉     | 276/557 [02:36<03:02,  1.54it/s]\u001b[A\n",
            " 50%|████▉     | 277/557 [02:36<02:43,  1.72it/s]\u001b[A\n",
            " 50%|████▉     | 278/557 [02:37<02:45,  1.68it/s]\u001b[A\n",
            " 50%|█████     | 279/557 [02:37<02:35,  1.79it/s]\u001b[A\n",
            " 50%|█████     | 280/557 [02:38<02:44,  1.69it/s]\u001b[A\n",
            " 50%|█████     | 281/557 [02:38<02:27,  1.87it/s]\u001b[A\n",
            " 51%|█████     | 282/557 [02:39<02:41,  1.70it/s]\u001b[A\n",
            " 51%|█████     | 283/557 [02:40<02:52,  1.59it/s]\u001b[A\n",
            " 51%|█████     | 284/557 [02:41<02:55,  1.56it/s]\u001b[A\n",
            " 51%|█████     | 285/557 [02:41<03:10,  1.43it/s]\u001b[A\n",
            " 51%|█████▏    | 286/557 [02:42<03:00,  1.50it/s]\u001b[A\n",
            " 52%|█████▏    | 287/557 [02:42<02:43,  1.65it/s]\u001b[A\n",
            " 52%|█████▏    | 288/557 [02:43<02:41,  1.66it/s]\u001b[A\n",
            " 52%|█████▏    | 289/557 [02:44<02:43,  1.64it/s]\u001b[A\n",
            " 52%|█████▏    | 290/557 [02:44<02:52,  1.54it/s]\u001b[A"
          ],
          "name": "stderr"
        },
        {
          "output_type": "stream",
          "text": [
            "Failure on fight_url = \n"
          ],
          "name": "stdout"
        },
        {
          "output_type": "stream",
          "text": [
            "\n",
            " 52%|█████▏    | 292/557 [02:45<02:28,  1.79it/s]\u001b[A\n",
            " 53%|█████▎    | 293/557 [02:46<02:26,  1.80it/s]\u001b[A\n",
            " 53%|█████▎    | 294/557 [02:46<02:16,  1.93it/s]\u001b[A\n",
            " 53%|█████▎    | 295/557 [02:47<02:21,  1.86it/s]\u001b[A\n",
            " 53%|█████▎    | 296/557 [02:47<02:37,  1.65it/s]\u001b[A\n",
            " 53%|█████▎    | 297/557 [02:48<02:42,  1.60it/s]\u001b[A\n",
            " 54%|█████▎    | 298/557 [02:49<02:41,  1.60it/s]\u001b[A\n",
            " 54%|█████▎    | 299/557 [02:50<02:49,  1.52it/s]\u001b[A\n",
            " 54%|█████▍    | 300/557 [02:50<02:49,  1.51it/s]\u001b[A\n",
            " 54%|█████▍    | 301/557 [02:51<02:49,  1.51it/s]\u001b[A\n",
            " 54%|█████▍    | 302/557 [02:51<02:47,  1.52it/s]\u001b[A"
          ],
          "name": "stderr"
        },
        {
          "output_type": "stream",
          "text": [
            "Failure on fight_url = \n"
          ],
          "name": "stdout"
        },
        {
          "output_type": "stream",
          "text": [
            "\n",
            " 55%|█████▍    | 304/557 [02:52<02:24,  1.75it/s]\u001b[A\n",
            " 55%|█████▍    | 305/557 [02:53<02:31,  1.67it/s]\u001b[A\n",
            " 55%|█████▍    | 306/557 [02:54<02:32,  1.65it/s]\u001b[A\n",
            " 55%|█████▌    | 307/557 [02:54<02:46,  1.50it/s]\u001b[A\n",
            " 55%|█████▌    | 308/557 [02:55<02:37,  1.58it/s]\u001b[A\n",
            " 55%|█████▌    | 309/557 [02:56<02:45,  1.50it/s]\u001b[A\n",
            " 56%|█████▌    | 310/557 [02:56<02:28,  1.67it/s]\u001b[A"
          ],
          "name": "stderr"
        },
        {
          "output_type": "stream",
          "text": [
            "Failure on fight_url = \n"
          ],
          "name": "stdout"
        },
        {
          "output_type": "stream",
          "text": [
            "\n",
            " 56%|█████▌    | 312/557 [02:57<01:59,  2.05it/s]\u001b[A\n",
            " 56%|█████▌    | 313/557 [02:57<02:07,  1.92it/s]\u001b[A\n",
            " 56%|█████▋    | 314/557 [02:58<02:17,  1.77it/s]\u001b[A\n",
            " 57%|█████▋    | 315/557 [02:58<02:24,  1.67it/s]\u001b[A\n",
            " 57%|█████▋    | 316/557 [02:59<02:33,  1.57it/s]\u001b[A\n",
            " 57%|█████▋    | 317/557 [03:00<02:37,  1.52it/s]\u001b[A\n",
            " 57%|█████▋    | 318/557 [03:01<02:47,  1.43it/s]\u001b[A\n",
            " 57%|█████▋    | 319/557 [03:01<02:43,  1.46it/s]\u001b[A\n",
            " 57%|█████▋    | 320/557 [03:02<02:36,  1.51it/s]\u001b[A\n",
            " 58%|█████▊    | 321/557 [03:03<02:39,  1.48it/s]\u001b[A\n",
            " 58%|█████▊    | 322/557 [03:03<02:34,  1.52it/s]\u001b[A\n",
            " 58%|█████▊    | 323/557 [03:04<02:38,  1.48it/s]\u001b[A\n",
            " 58%|█████▊    | 324/557 [03:05<02:40,  1.45it/s]\u001b[A\n",
            " 58%|█████▊    | 325/557 [03:05<02:32,  1.53it/s]\u001b[A\n",
            " 59%|█████▊    | 326/557 [03:06<02:40,  1.44it/s]\u001b[A\n",
            " 59%|█████▊    | 327/557 [03:07<02:34,  1.49it/s]\u001b[A\n",
            " 59%|█████▉    | 328/557 [03:07<02:37,  1.46it/s]\u001b[A\n",
            " 59%|█████▉    | 329/557 [03:08<02:36,  1.46it/s]\u001b[A\n",
            " 59%|█████▉    | 330/557 [03:09<02:28,  1.53it/s]\u001b[A\n",
            " 59%|█████▉    | 331/557 [03:09<02:32,  1.48it/s]\u001b[A\n",
            " 60%|█████▉    | 332/557 [03:10<02:29,  1.51it/s]\u001b[A\n",
            " 60%|█████▉    | 333/557 [03:11<02:35,  1.44it/s]\u001b[A\n",
            " 60%|█████▉    | 334/557 [03:11<02:18,  1.61it/s]\u001b[A\n",
            " 60%|██████    | 335/557 [03:12<02:10,  1.71it/s]\u001b[A\n",
            " 60%|██████    | 336/557 [03:13<02:21,  1.56it/s]\u001b[A\n",
            " 61%|██████    | 337/557 [03:13<02:26,  1.50it/s]\u001b[A\n",
            " 61%|██████    | 338/557 [03:14<02:19,  1.58it/s]\u001b[A\n",
            " 61%|██████    | 339/557 [03:14<02:11,  1.65it/s]\u001b[A\n",
            " 61%|██████    | 340/557 [03:15<02:08,  1.69it/s]\u001b[A"
          ],
          "name": "stderr"
        },
        {
          "output_type": "stream",
          "text": [
            "Failure on fight_url = \n"
          ],
          "name": "stdout"
        },
        {
          "output_type": "stream",
          "text": [
            "\n",
            " 61%|██████▏   | 342/557 [03:16<01:49,  1.97it/s]\u001b[A\n",
            " 62%|██████▏   | 343/557 [03:16<01:56,  1.84it/s]\u001b[A\n",
            " 62%|██████▏   | 344/557 [03:17<01:56,  1.82it/s]\u001b[A\n",
            " 62%|██████▏   | 345/557 [03:17<02:00,  1.77it/s]\u001b[A\n",
            " 62%|██████▏   | 346/557 [03:18<02:07,  1.66it/s]\u001b[A\n",
            " 62%|██████▏   | 347/557 [03:19<02:16,  1.53it/s]\u001b[A\n",
            " 62%|██████▏   | 348/557 [03:19<02:10,  1.60it/s]\u001b[A\n",
            " 63%|██████▎   | 349/557 [03:20<02:09,  1.61it/s]\u001b[A\n",
            " 63%|██████▎   | 350/557 [03:21<02:09,  1.60it/s]\u001b[A\n",
            " 63%|██████▎   | 351/557 [03:21<01:51,  1.84it/s]\u001b[A\n",
            " 63%|██████▎   | 352/557 [03:21<01:50,  1.85it/s]\u001b[A\n",
            " 63%|██████▎   | 353/557 [03:22<01:54,  1.78it/s]\u001b[A\n",
            " 64%|██████▎   | 354/557 [03:23<01:56,  1.74it/s]\u001b[A\n",
            " 64%|██████▎   | 355/557 [03:23<01:36,  2.10it/s]\u001b[A\n",
            " 64%|██████▍   | 356/557 [03:24<01:41,  1.97it/s]\u001b[A\n",
            " 64%|██████▍   | 357/557 [03:24<01:51,  1.79it/s]\u001b[A\n",
            " 64%|██████▍   | 358/557 [03:25<01:55,  1.72it/s]\u001b[A\n",
            " 64%|██████▍   | 359/557 [03:25<01:39,  1.98it/s]\u001b[A\n",
            " 65%|██████▍   | 360/557 [03:26<01:47,  1.83it/s]\u001b[A\n",
            " 65%|██████▍   | 361/557 [03:27<01:57,  1.66it/s]\u001b[A\n",
            " 65%|██████▍   | 362/557 [03:27<02:16,  1.42it/s]\u001b[A\n",
            " 65%|██████▌   | 363/557 [03:28<02:16,  1.42it/s]\u001b[A\n",
            " 65%|██████▌   | 364/557 [03:29<02:04,  1.55it/s]\u001b[A\n",
            " 66%|██████▌   | 365/557 [03:29<02:03,  1.55it/s]\u001b[A\n",
            " 66%|██████▌   | 366/557 [03:30<02:04,  1.53it/s]\u001b[A\n",
            " 66%|██████▌   | 367/557 [03:31<02:06,  1.50it/s]\u001b[A\n",
            " 66%|██████▌   | 368/557 [03:32<02:22,  1.33it/s]\u001b[A\n",
            " 66%|██████▌   | 369/557 [03:32<02:14,  1.40it/s]\u001b[A\n",
            " 66%|██████▋   | 370/557 [03:33<02:06,  1.48it/s]\u001b[A\n",
            " 67%|██████▋   | 371/557 [03:34<02:09,  1.44it/s]\u001b[A\n",
            " 67%|██████▋   | 372/557 [03:34<02:04,  1.49it/s]\u001b[A\n",
            " 67%|██████▋   | 373/557 [03:35<01:51,  1.65it/s]\u001b[A\n",
            " 67%|██████▋   | 374/557 [03:36<02:05,  1.46it/s]\u001b[A\n",
            " 67%|██████▋   | 375/557 [03:36<02:00,  1.51it/s]\u001b[A\n",
            " 68%|██████▊   | 376/557 [03:37<01:59,  1.52it/s]\u001b[A\n",
            " 68%|██████▊   | 377/557 [03:37<01:54,  1.57it/s]\u001b[A\n",
            " 68%|██████▊   | 378/557 [03:38<01:56,  1.53it/s]\u001b[A\n",
            " 68%|██████▊   | 379/557 [03:39<01:43,  1.72it/s]\u001b[A\n",
            " 68%|██████▊   | 380/557 [03:39<01:47,  1.64it/s]\u001b[A"
          ],
          "name": "stderr"
        },
        {
          "output_type": "stream",
          "text": [
            "Failure on fight_url = \n"
          ],
          "name": "stdout"
        },
        {
          "output_type": "stream",
          "text": [
            "\n",
            " 69%|██████▊   | 382/557 [03:40<01:31,  1.91it/s]\u001b[A\n",
            " 69%|██████▉   | 383/557 [03:40<01:34,  1.83it/s]\u001b[A\n",
            " 69%|██████▉   | 384/557 [03:41<01:28,  1.95it/s]\u001b[A\n",
            " 69%|██████▉   | 385/557 [03:41<01:33,  1.85it/s]\u001b[A\n",
            " 69%|██████▉   | 386/557 [03:42<01:34,  1.81it/s]\u001b[A\n",
            " 69%|██████▉   | 387/557 [03:43<01:37,  1.75it/s]\u001b[A\n",
            " 70%|██████▉   | 388/557 [03:43<01:40,  1.68it/s]\u001b[A\n",
            " 70%|██████▉   | 389/557 [03:44<01:33,  1.80it/s]\u001b[A\n",
            " 70%|███████   | 390/557 [03:44<01:37,  1.71it/s]\u001b[A\n",
            " 70%|███████   | 391/557 [03:45<01:34,  1.76it/s]\u001b[A\n",
            " 70%|███████   | 392/557 [03:46<01:40,  1.65it/s]\u001b[A\n",
            " 71%|███████   | 393/557 [03:46<01:38,  1.67it/s]\u001b[A\n",
            " 71%|███████   | 394/557 [03:47<01:38,  1.65it/s]\u001b[A\n",
            " 71%|███████   | 395/557 [03:47<01:34,  1.71it/s]\u001b[A\n",
            " 71%|███████   | 396/557 [03:48<01:37,  1.65it/s]\u001b[A\n",
            " 71%|███████▏  | 397/557 [03:49<01:33,  1.71it/s]\u001b[A\n",
            " 71%|███████▏  | 398/557 [03:49<01:40,  1.58it/s]\u001b[A\n",
            " 72%|███████▏  | 399/557 [03:50<01:39,  1.58it/s]\u001b[A\n",
            " 72%|███████▏  | 400/557 [03:51<01:42,  1.53it/s]\u001b[A\n",
            " 72%|███████▏  | 401/557 [03:51<01:42,  1.52it/s]\u001b[A\n",
            " 72%|███████▏  | 402/557 [03:52<01:40,  1.54it/s]\u001b[A\n",
            " 72%|███████▏  | 403/557 [03:52<01:32,  1.66it/s]\u001b[A\n",
            " 73%|███████▎  | 404/557 [03:53<01:28,  1.73it/s]\u001b[A\n",
            " 73%|███████▎  | 405/557 [03:54<01:30,  1.69it/s]\u001b[A\n",
            " 73%|███████▎  | 406/557 [03:54<01:41,  1.49it/s]\u001b[A\n",
            " 73%|███████▎  | 407/557 [03:55<01:34,  1.58it/s]\u001b[A\n",
            " 73%|███████▎  | 408/557 [03:56<01:33,  1.59it/s]\u001b[A\n",
            " 73%|███████▎  | 409/557 [03:56<01:32,  1.61it/s]\u001b[A\n",
            " 74%|███████▎  | 410/557 [03:57<01:22,  1.78it/s]\u001b[A\n",
            " 74%|███████▍  | 411/557 [03:57<01:27,  1.67it/s]\u001b[A\n",
            " 74%|███████▍  | 412/557 [03:58<01:33,  1.55it/s]\u001b[A\n",
            " 74%|███████▍  | 413/557 [03:59<01:28,  1.62it/s]\u001b[A\n",
            " 74%|███████▍  | 414/557 [03:59<01:28,  1.62it/s]\u001b[A\n",
            " 75%|███████▍  | 415/557 [04:00<01:20,  1.76it/s]\u001b[A\n",
            " 75%|███████▍  | 416/557 [04:00<01:21,  1.73it/s]\u001b[A\n",
            " 75%|███████▍  | 417/557 [04:01<01:23,  1.68it/s]\u001b[A\n",
            " 75%|███████▌  | 418/557 [04:02<01:21,  1.70it/s]\u001b[A\n",
            " 75%|███████▌  | 419/557 [04:02<01:23,  1.66it/s]\u001b[A\n",
            " 75%|███████▌  | 420/557 [04:03<01:24,  1.61it/s]\u001b[A\n",
            " 76%|███████▌  | 421/557 [04:03<01:23,  1.62it/s]\u001b[A\n",
            " 76%|███████▌  | 422/557 [04:04<01:18,  1.73it/s]\u001b[A\n",
            " 76%|███████▌  | 423/557 [04:05<01:24,  1.59it/s]\u001b[A\n",
            " 76%|███████▌  | 424/557 [04:06<01:32,  1.43it/s]\u001b[A\n",
            " 76%|███████▋  | 425/557 [04:06<01:28,  1.50it/s]\u001b[A\n",
            " 76%|███████▋  | 426/557 [04:07<01:28,  1.49it/s]\u001b[A\n",
            " 77%|███████▋  | 427/557 [04:07<01:23,  1.55it/s]\u001b[A\n",
            " 77%|███████▋  | 428/557 [04:08<01:17,  1.66it/s]\u001b[A\n",
            " 77%|███████▋  | 429/557 [04:09<01:18,  1.64it/s]\u001b[A\n",
            " 77%|███████▋  | 430/557 [04:09<01:13,  1.73it/s]\u001b[A\n",
            " 77%|███████▋  | 431/557 [04:09<01:08,  1.83it/s]\u001b[A\n",
            " 78%|███████▊  | 432/557 [04:10<01:12,  1.73it/s]\u001b[A\n",
            " 78%|███████▊  | 433/557 [04:10<01:03,  1.97it/s]\u001b[A\n",
            " 78%|███████▊  | 434/557 [04:11<01:09,  1.76it/s]\u001b[A\n",
            " 78%|███████▊  | 435/557 [04:12<01:12,  1.69it/s]\u001b[A\n",
            " 78%|███████▊  | 436/557 [04:13<01:15,  1.59it/s]\u001b[A\n",
            " 78%|███████▊  | 437/557 [04:13<01:19,  1.51it/s]\u001b[A\n",
            " 79%|███████▊  | 438/557 [04:14<01:14,  1.60it/s]\u001b[A\n",
            " 79%|███████▉  | 439/557 [04:14<01:08,  1.71it/s]\u001b[A\n",
            " 79%|███████▉  | 440/557 [04:15<01:10,  1.67it/s]\u001b[A"
          ],
          "name": "stderr"
        },
        {
          "output_type": "stream",
          "text": [
            "Failure on fight_url = \n"
          ],
          "name": "stdout"
        },
        {
          "output_type": "stream",
          "text": [
            "\n",
            " 79%|███████▉  | 442/557 [04:16<01:00,  1.91it/s]\u001b[A\n",
            " 80%|███████▉  | 443/557 [04:16<00:56,  2.02it/s]\u001b[A\n",
            " 80%|███████▉  | 444/557 [04:17<01:02,  1.81it/s]\u001b[A\n",
            " 80%|███████▉  | 445/557 [04:17<01:02,  1.79it/s]\u001b[A\n",
            " 80%|████████  | 446/557 [04:18<01:05,  1.69it/s]\u001b[A\n",
            " 80%|████████  | 447/557 [04:18<00:58,  1.89it/s]\u001b[A\n",
            " 80%|████████  | 448/557 [04:19<01:01,  1.78it/s]\u001b[A\n",
            " 81%|████████  | 449/557 [04:20<01:04,  1.67it/s]\u001b[A\n",
            " 81%|████████  | 450/557 [04:20<01:06,  1.60it/s]\u001b[A\n",
            " 81%|████████  | 451/557 [04:21<01:04,  1.65it/s]\u001b[A\n",
            " 81%|████████  | 452/557 [04:22<01:03,  1.67it/s]\u001b[A\n",
            " 81%|████████▏ | 453/557 [04:22<01:00,  1.73it/s]\u001b[A\n",
            " 82%|████████▏ | 454/557 [04:23<00:57,  1.80it/s]\u001b[A\n",
            " 82%|████████▏ | 455/557 [04:23<00:58,  1.74it/s]\u001b[A\n",
            " 82%|████████▏ | 456/557 [04:24<01:02,  1.62it/s]\u001b[A\n",
            " 82%|████████▏ | 457/557 [04:25<01:03,  1.57it/s]\u001b[A\n",
            " 82%|████████▏ | 458/557 [04:25<01:03,  1.56it/s]\u001b[A\n",
            " 82%|████████▏ | 459/557 [04:26<01:11,  1.37it/s]\u001b[A\n",
            " 83%|████████▎ | 460/557 [04:27<01:22,  1.17it/s]\u001b[A\n",
            " 83%|████████▎ | 461/557 [04:28<01:20,  1.19it/s]\u001b[A\n",
            " 83%|████████▎ | 462/557 [04:29<01:06,  1.43it/s]\u001b[A\n",
            " 83%|████████▎ | 463/557 [04:29<01:02,  1.49it/s]\u001b[A\n",
            " 83%|████████▎ | 464/557 [04:30<00:58,  1.58it/s]\u001b[A\n",
            " 83%|████████▎ | 465/557 [04:30<01:00,  1.53it/s]\u001b[A\n",
            " 84%|████████▎ | 466/557 [04:31<01:04,  1.41it/s]\u001b[A\n",
            " 84%|████████▍ | 467/557 [04:32<01:00,  1.49it/s]\u001b[A\n",
            " 84%|████████▍ | 468/557 [04:33<01:04,  1.39it/s]\u001b[A\n",
            " 84%|████████▍ | 469/557 [04:33<00:59,  1.48it/s]\u001b[A\n",
            " 84%|████████▍ | 470/557 [04:34<00:56,  1.54it/s]\u001b[A\n",
            " 85%|████████▍ | 471/557 [04:34<00:49,  1.72it/s]\u001b[A\n",
            " 85%|████████▍ | 472/557 [04:34<00:41,  2.05it/s]\u001b[A\n",
            " 85%|████████▍ | 473/557 [04:35<00:46,  1.79it/s]\u001b[A\n",
            " 85%|████████▌ | 474/557 [04:36<00:44,  1.86it/s]\u001b[A"
          ],
          "name": "stderr"
        },
        {
          "output_type": "stream",
          "text": [
            "Failure on fight_url = \n"
          ],
          "name": "stdout"
        },
        {
          "output_type": "stream",
          "text": [
            "\n",
            " 85%|████████▌ | 476/557 [04:36<00:35,  2.25it/s]\u001b[A\n",
            " 86%|████████▌ | 477/557 [04:37<00:40,  1.97it/s]\u001b[A\n",
            " 86%|████████▌ | 478/557 [04:38<00:45,  1.73it/s]\u001b[A\n",
            " 86%|████████▌ | 479/557 [04:38<00:49,  1.57it/s]\u001b[A\n",
            " 86%|████████▌ | 480/557 [04:39<00:49,  1.57it/s]\u001b[A\n",
            " 86%|████████▋ | 481/557 [04:39<00:44,  1.70it/s]\u001b[A\n",
            " 87%|████████▋ | 482/557 [04:40<00:45,  1.63it/s]\u001b[A\n",
            " 87%|████████▋ | 483/557 [04:41<00:45,  1.63it/s]\u001b[A\n",
            " 87%|████████▋ | 484/557 [04:41<00:46,  1.58it/s]\u001b[A\n",
            " 87%|████████▋ | 485/557 [04:42<00:41,  1.73it/s]\u001b[A\n",
            " 87%|████████▋ | 486/557 [04:43<00:43,  1.65it/s]\u001b[A"
          ],
          "name": "stderr"
        },
        {
          "output_type": "stream",
          "text": [
            "Failure on fight_url = \n"
          ],
          "name": "stdout"
        },
        {
          "output_type": "stream",
          "text": [
            "\n",
            " 88%|████████▊ | 488/557 [04:43<00:36,  1.91it/s]\u001b[A\n",
            " 88%|████████▊ | 489/557 [04:44<00:33,  2.04it/s]\u001b[A\n",
            " 88%|████████▊ | 490/557 [04:44<00:37,  1.79it/s]\u001b[A\n",
            " 88%|████████▊ | 491/557 [04:45<00:39,  1.69it/s]\u001b[A\n",
            " 88%|████████▊ | 492/557 [04:46<00:40,  1.61it/s]\u001b[A\n",
            " 89%|████████▊ | 493/557 [04:46<00:39,  1.64it/s]\u001b[A\n",
            " 89%|████████▊ | 494/557 [04:47<00:33,  1.86it/s]\u001b[A\n",
            " 89%|████████▉ | 495/557 [04:47<00:34,  1.78it/s]\u001b[A\n",
            " 89%|████████▉ | 496/557 [04:48<00:37,  1.64it/s]\u001b[A\n",
            " 89%|████████▉ | 497/557 [04:49<00:39,  1.53it/s]\u001b[A\n",
            " 89%|████████▉ | 498/557 [04:49<00:31,  1.86it/s]\u001b[A\n",
            " 90%|████████▉ | 499/557 [04:49<00:30,  1.88it/s]\u001b[A\n",
            " 90%|████████▉ | 500/557 [04:50<00:34,  1.65it/s]\u001b[A\n",
            " 90%|████████▉ | 501/557 [04:51<00:34,  1.62it/s]\u001b[A\n",
            " 90%|█████████ | 502/557 [04:51<00:33,  1.65it/s]\u001b[A\n",
            " 90%|█████████ | 503/557 [04:52<00:33,  1.61it/s]\u001b[A\n",
            " 90%|█████████ | 504/557 [04:53<00:30,  1.73it/s]\u001b[A\n",
            " 91%|█████████ | 505/557 [04:53<00:31,  1.64it/s]\u001b[A\n",
            " 91%|█████████ | 506/557 [04:54<00:37,  1.35it/s]\u001b[A\n",
            " 91%|█████████ | 507/557 [04:55<00:34,  1.43it/s]\u001b[A\n",
            " 91%|█████████ | 508/557 [04:56<00:33,  1.46it/s]\u001b[A\n",
            " 91%|█████████▏| 509/557 [04:56<00:30,  1.59it/s]\u001b[A\n",
            " 92%|█████████▏| 510/557 [04:57<00:29,  1.61it/s]\u001b[A\n",
            " 92%|█████████▏| 511/557 [04:57<00:28,  1.60it/s]\u001b[A\n",
            " 92%|█████████▏| 512/557 [04:58<00:23,  1.94it/s]\u001b[A\n",
            " 92%|█████████▏| 513/557 [04:58<00:23,  1.91it/s]\u001b[A\n",
            " 92%|█████████▏| 514/557 [04:59<00:25,  1.72it/s]\u001b[A\n",
            " 92%|█████████▏| 515/557 [04:59<00:23,  1.77it/s]\u001b[A\n",
            " 93%|█████████▎| 516/557 [05:00<00:23,  1.78it/s]\u001b[A\n",
            " 93%|█████████▎| 517/557 [05:01<00:23,  1.71it/s]\u001b[A\n",
            " 93%|█████████▎| 518/557 [05:01<00:23,  1.63it/s]\u001b[A\n",
            " 93%|█████████▎| 519/557 [05:02<00:23,  1.59it/s]\u001b[A\n",
            " 93%|█████████▎| 520/557 [05:03<00:22,  1.64it/s]\u001b[A\n",
            " 94%|█████████▎| 521/557 [05:03<00:21,  1.66it/s]\u001b[A\n",
            " 94%|█████████▎| 522/557 [05:04<00:21,  1.62it/s]\u001b[A\n",
            " 94%|█████████▍| 523/557 [05:04<00:21,  1.59it/s]\u001b[A\n",
            " 94%|█████████▍| 524/557 [05:05<00:20,  1.59it/s]\u001b[A\n",
            " 94%|█████████▍| 525/557 [05:06<00:20,  1.58it/s]\u001b[A\n",
            " 94%|█████████▍| 526/557 [05:06<00:17,  1.74it/s]\u001b[A\n",
            " 95%|█████████▍| 527/557 [05:07<00:17,  1.73it/s]\u001b[A\n",
            " 95%|█████████▍| 528/557 [05:07<00:15,  1.86it/s]\u001b[A\n",
            " 95%|█████████▍| 529/557 [05:08<00:14,  1.90it/s]\u001b[A\n",
            " 95%|█████████▌| 530/557 [05:08<00:14,  1.81it/s]\u001b[A\n",
            " 95%|█████████▌| 531/557 [05:09<00:14,  1.75it/s]\u001b[A\n",
            " 96%|█████████▌| 532/557 [05:09<00:13,  1.85it/s]\u001b[A\n",
            " 96%|█████████▌| 533/557 [05:10<00:13,  1.75it/s]\u001b[A\n",
            " 96%|█████████▌| 534/557 [05:11<00:13,  1.70it/s]\u001b[A\n",
            " 96%|█████████▌| 535/557 [05:11<00:12,  1.81it/s]\u001b[A\n",
            " 96%|█████████▌| 536/557 [05:12<00:11,  1.81it/s]\u001b[A\n",
            " 96%|█████████▋| 537/557 [05:12<00:11,  1.70it/s]\u001b[A\n",
            " 97%|█████████▋| 538/557 [05:13<00:11,  1.72it/s]\u001b[A\n",
            " 97%|█████████▋| 539/557 [05:13<00:10,  1.75it/s]\u001b[A\n",
            " 97%|█████████▋| 540/557 [05:14<00:09,  1.79it/s]\u001b[A\n",
            " 97%|█████████▋| 541/557 [05:15<00:09,  1.70it/s]\u001b[A\n",
            " 97%|█████████▋| 542/557 [05:15<00:08,  1.72it/s]\u001b[A\n",
            " 97%|█████████▋| 543/557 [05:16<00:07,  1.85it/s]\u001b[A\n",
            " 98%|█████████▊| 544/557 [05:16<00:06,  2.00it/s]\u001b[A\n",
            " 98%|█████████▊| 545/557 [05:17<00:06,  1.94it/s]\u001b[A\n",
            " 98%|█████████▊| 546/557 [05:17<00:06,  1.61it/s]\u001b[A\n",
            " 98%|█████████▊| 547/557 [05:18<00:06,  1.65it/s]\u001b[A\n",
            " 98%|█████████▊| 548/557 [05:19<00:05,  1.69it/s]\u001b[A\n",
            " 99%|█████████▊| 549/557 [05:19<00:04,  1.63it/s]\u001b[A\n",
            " 99%|█████████▊| 550/557 [05:20<00:04,  1.60it/s]\u001b[A\n",
            " 99%|█████████▉| 551/557 [05:20<00:03,  1.77it/s]\u001b[A\n",
            " 99%|█████████▉| 552/557 [05:21<00:02,  1.73it/s]\u001b[A\n",
            " 99%|█████████▉| 553/557 [05:22<00:02,  1.69it/s]\u001b[A\n",
            " 99%|█████████▉| 554/557 [05:22<00:01,  1.69it/s]\u001b[A\n",
            "100%|█████████▉| 555/557 [05:23<00:01,  1.62it/s]\u001b[A\n",
            "100%|█████████▉| 556/557 [05:23<00:00,  1.76it/s]\u001b[A\n",
            "100%|██████████| 557/557 [05:24<00:00,  1.72it/s]\n"
          ],
          "name": "stderr"
        },
        {
          "output_type": "execute_result",
          "data": {
            "text/html": [
              "<div>\n",
              "<style scoped>\n",
              "    .dataframe tbody tr th:only-of-type {\n",
              "        vertical-align: middle;\n",
              "    }\n",
              "\n",
              "    .dataframe tbody tr th {\n",
              "        vertical-align: top;\n",
              "    }\n",
              "\n",
              "    .dataframe thead th {\n",
              "        text-align: right;\n",
              "    }\n",
              "</style>\n",
              "<table border=\"1\" class=\"dataframe\">\n",
              "  <thead>\n",
              "    <tr style=\"text-align: right;\">\n",
              "      <th></th>\n",
              "      <th>Fighter</th>\n",
              "      <th>KD</th>\n",
              "      <th>Sig. str.</th>\n",
              "      <th>Sig. str. %</th>\n",
              "      <th>Total str.</th>\n",
              "      <th>Td</th>\n",
              "      <th>Td %</th>\n",
              "      <th>Sub. att</th>\n",
              "      <th>Rev.</th>\n",
              "      <th>Ctrl</th>\n",
              "    </tr>\n",
              "  </thead>\n",
              "  <tbody>\n",
              "    <tr>\n",
              "      <th>0</th>\n",
              "      <td>Robert Whittaker Kelvin Gastelum</td>\n",
              "      <td>0  0</td>\n",
              "      <td>150 of 284  62 of 209</td>\n",
              "      <td>52%  29%</td>\n",
              "      <td>169 of 303  70 of 218</td>\n",
              "      <td>4 of 7  1 of 5</td>\n",
              "      <td>57%  20%</td>\n",
              "      <td>0  0</td>\n",
              "      <td>0  0</td>\n",
              "      <td>4:19  0:26</td>\n",
              "    </tr>\n",
              "  </tbody>\n",
              "</table>\n",
              "</div>"
            ],
            "text/plain": [
              "                            Fighter    KD  ...  Rev.        Ctrl\n",
              "0  Robert Whittaker Kelvin Gastelum  0  0  ...  0  0  4:19  0:26\n",
              "\n",
              "[1 rows x 10 columns]"
            ]
          },
          "metadata": {
            "tags": []
          },
          "execution_count": 90
        }
      ]
    },
    {
      "cell_type": "markdown",
      "metadata": {
        "id": "r6YwJd-fAOwd"
      },
      "source": [
        "## Clean fight information\n",
        "\n",
        "Separate each fighter's information into a different column\n",
        "\n",
        "TODO: Lots of stuff to improve. Don't just use Totals table. Use round by round and significant strikes. Can also use non integer information, total attempted strikes (not just landed), control time, etc. All of those being ignored right now."
      ]
    },
    {
      "cell_type": "code",
      "metadata": {
        "id": "-PfTg13LB3ck"
      },
      "source": [
        "def parse_string(row_string):\n",
        "    '''Break string into two parts: one for fighter 1 and one for fighter 2\n",
        "       Eg. 150 of 284  62 of 209 => (150 of 284, 62 of 209)'''\n",
        "    string_split = row_string.split(\" \")\n",
        "    first_fighter_stat = \" \".join(string_split[:len(string_split)//2])\n",
        "    second_fighter_stat = \" \".join(string_split[len(string_split)//2+1:])\n",
        "    return first_fighter_stat, second_fighter_stat"
      ],
      "execution_count": null,
      "outputs": []
    },
    {
      "cell_type": "code",
      "metadata": {
        "id": "dqnRE1IfMY9k"
      },
      "source": [
        "def convert_to_int_or_double_if_possible(string):\n",
        "    '''Convert string to int or double if possible\n",
        "       If has a percent sign, tries to remove it and continue.'''\n",
        "    def isfloat(value):\n",
        "        try:\n",
        "            float(value)\n",
        "            return True\n",
        "        except ValueError:\n",
        "            return False\n",
        "\n",
        "    if \"%\" in string:\n",
        "        string = string.strip(\"%\")\n",
        "\n",
        "    if isfloat(string) and float(string).is_integer():\n",
        "        return int(string)\n",
        "    if isfloat(string):\n",
        "        return float(string)\n",
        "    return string"
      ],
      "execution_count": null,
      "outputs": []
    },
    {
      "cell_type": "code",
      "metadata": {
        "id": "ORlZYocyRO4M"
      },
      "source": [
        "def process_fight(raw_fight_tables):\n",
        "    '''Takes in a raw pandas fight table. Returns a pandas dataframe representing the fight statistics'''\n",
        "    # Focus on totals table\n",
        "    totals_table = raw_fight_tables['Totals']\n",
        "\n",
        "    # Change column from \"Fighter\" to \"Name\" to make things cleaner later\n",
        "    totals_table = totals_table.rename(columns={'Fighter': 'Name'})\n",
        "    \n",
        "    # Break up columns.\n",
        "    # Eg. \"Name\" => \"Fighter 1 Name\", \"Fighter 2 Name\"\n",
        "    # \"KD\" => \"Fighter 1 KD\", \"Fighter 2 KD\"\n",
        "    new_columns = []\n",
        "    for column in totals_table.columns:\n",
        "        new_columns.append(f\"Fighter 1 {column}\")\n",
        "        new_columns.append(f\"Fighter 2 {column}\")\n",
        "\n",
        "    # Go through each row and break up the data into the columns\n",
        "    new_rows = []\n",
        "    for i, row in totals_table.iterrows():\n",
        "        new_row = []\n",
        "        for column in totals_table.columns:\n",
        "            # Split string at the center space\n",
        "            stat1, stat2 = parse_string(row[column])\n",
        "            # print(stat1)\n",
        "            # Remove things after the first space\n",
        "            # TODO: Update this to capture more information\n",
        "            # Like sig strikes 17 of 37, the 37 is lost\n",
        "            stat1Space = stat1.index(' ') if ' ' in stat1 else -1\n",
        "            stat2Space = stat2.index(' ') if ' ' in stat2 else -1\n",
        "            if stat1Space != -1:\n",
        "                stat1 = stat1[:stat1Space]\n",
        "            if stat2Space != -1:\n",
        "                stat2 = stat2[:stat2Space]\n",
        "            \n",
        "            # Convert string to float or int if possible\n",
        "            stat1 = convert_to_int_or_double_if_possible(stat1)\n",
        "            stat2 = convert_to_int_or_double_if_possible(stat2)\n",
        "\n",
        "            # Add to row\n",
        "            new_row.append(stat1)\n",
        "            new_row.append(stat2)\n",
        "\n",
        "        new_rows.append(new_row)\n",
        "\n",
        "    # Bring together into new dataframe, then only store the numerical values\n",
        "    # TODO: Process better to keep more info, not throw so much away\n",
        "    df = pd.DataFrame(new_rows, columns=new_columns)\n",
        "    df = df.select_dtypes([np.number])\n",
        "\n",
        "    # Add in names, using smarter parsing\n",
        "    fighters_string = totals_table[\"Name\"][0]  # Only 1 row table\n",
        "    fighter1, fighter2 = get_fighters(fighters_string, ALL_FIGHTERS)\n",
        "    df['Fighter 1 Name'] = fighter1\n",
        "    df['Fighter 2 Name'] = fighter2\n",
        "    return df"
      ],
      "execution_count": null,
      "outputs": []
    },
    {
      "cell_type": "code",
      "metadata": {
        "id": "5oIdF2niZpag"
      },
      "source": [
        "def process_raw_fight_tables(raw_fight_tables, winner, method):\n",
        "    '''Takes in a raw fight table, the name of the fight winner, and the method of winning. Returns a cleaned pandas table.'''\n",
        "    fight_table = process_fight(raw_fight_tables)\n",
        "\n",
        "    if fight_table[\"Fighter 1 Name\"][0] == winner:\n",
        "        label = 1\n",
        "    elif fight_table[\"Fighter 2 Name\"][0] == winner:\n",
        "        label = 2\n",
        "    else:\n",
        "        print(f'ERROR: fight_table[\"Fighter 1 Name\"]={fight_table[\"Fighter 1 Name\"]}, fight_table[\"Fighter 2 Name\"]={fight_table[\"Fighter 2 Name\"]}, winner={winner}')\n",
        "        label = 0\n",
        "    fight_table['Winner'] = label\n",
        "\n",
        "    fight_table['Method'] = method\n",
        "    return fight_table"
      ],
      "execution_count": null,
      "outputs": []
    },
    {
      "cell_type": "code",
      "metadata": {
        "id": "BUyy5MUhNTkJ",
        "colab": {
          "base_uri": "https://localhost:8080/"
        },
        "outputId": "af35a630-0eb4-4e4a-d2e8-1ef5914fa25d"
      },
      "source": [
        "FIGHT_TABLE = []\n",
        "for i in tqdm(range(len(RAW_FIGHT_TABLES_LIST))):\n",
        "    # Handle invalid readings\n",
        "    if RAW_FIGHT_TABLES_LIST[i] is not None:\n",
        "        FIGHT_TABLE.append(process_raw_fight_tables(RAW_FIGHT_TABLES_LIST[i], WINNERS[i], METHODS[i])) \n",
        "FIGHT_TABLE = pd.concat(FIGHT_TABLE, ignore_index=True)"
      ],
      "execution_count": null,
      "outputs": [
        {
          "output_type": "stream",
          "text": [
            "\n",
            "  0%|          | 0/557 [00:00<?, ?it/s]\u001b[A\n",
            "  0%|          | 1/557 [00:00<03:07,  2.97it/s]\u001b[A\n",
            "  1%|          | 3/557 [00:00<02:33,  3.62it/s]\u001b[A\n",
            "  1%|          | 5/557 [00:00<02:11,  4.20it/s]\u001b[A\n",
            "  1%|          | 6/557 [00:01<02:15,  4.05it/s]\u001b[A\n",
            "  1%|▏         | 7/557 [00:01<02:11,  4.17it/s]\u001b[A\n",
            "  2%|▏         | 9/557 [00:01<01:50,  4.97it/s]\u001b[A\n",
            "  2%|▏         | 10/557 [00:01<01:37,  5.62it/s]\u001b[A\n",
            "  2%|▏         | 11/557 [00:02<02:00,  4.53it/s]\u001b[A\n",
            "  3%|▎         | 14/557 [00:02<01:37,  5.55it/s]\u001b[A\n",
            "  3%|▎         | 15/557 [00:02<01:47,  5.03it/s]\u001b[A\n",
            "  3%|▎         | 16/557 [00:02<01:48,  4.97it/s]\u001b[A\n",
            "  3%|▎         | 17/557 [00:02<01:37,  5.53it/s]\u001b[A\n",
            "  3%|▎         | 18/557 [00:03<01:39,  5.40it/s]\u001b[A\n",
            "  4%|▎         | 20/557 [00:03<01:18,  6.86it/s]\u001b[A\n",
            "  4%|▍         | 21/557 [00:03<01:35,  5.60it/s]\u001b[A\n",
            "  4%|▍         | 22/557 [00:03<01:31,  5.88it/s]\u001b[A\n",
            "  4%|▍         | 23/557 [00:03<01:28,  6.07it/s]\u001b[A\n",
            "  4%|▍         | 24/557 [00:03<01:35,  5.59it/s]\u001b[A\n",
            "  4%|▍         | 25/557 [00:04<01:57,  4.51it/s]\u001b[A\n",
            "  5%|▍         | 26/557 [00:04<01:57,  4.53it/s]\u001b[A\n",
            "  5%|▍         | 27/557 [00:04<02:00,  4.41it/s]\u001b[A\n",
            "  5%|▌         | 28/557 [00:04<01:57,  4.49it/s]\u001b[A\n",
            "  5%|▌         | 29/557 [00:05<01:56,  4.53it/s]\u001b[A\n",
            "  5%|▌         | 30/557 [00:05<01:40,  5.23it/s]\u001b[A\n",
            "  6%|▌         | 32/557 [00:05<01:38,  5.34it/s]\u001b[A\n",
            "  6%|▋         | 35/557 [00:06<01:26,  6.00it/s]\u001b[A\n",
            "  7%|▋         | 37/557 [00:06<01:30,  5.74it/s]\u001b[A\n",
            "  7%|▋         | 38/557 [00:06<01:49,  4.73it/s]\u001b[A\n",
            "  7%|▋         | 39/557 [00:06<01:54,  4.54it/s]\u001b[A\n",
            "  7%|▋         | 40/557 [00:07<02:01,  4.27it/s]\u001b[A\n",
            "  7%|▋         | 41/557 [00:07<01:42,  5.02it/s]\u001b[A\n",
            "  8%|▊         | 42/557 [00:07<01:34,  5.46it/s]\u001b[A\n",
            "  8%|▊         | 43/557 [00:07<01:49,  4.71it/s]\u001b[A\n",
            "  8%|▊         | 46/557 [00:07<01:26,  5.93it/s]\u001b[A\n",
            "  8%|▊         | 47/557 [00:08<01:28,  5.75it/s]\u001b[A\n",
            "  9%|▊         | 48/557 [00:08<01:25,  5.92it/s]\u001b[A\n",
            "  9%|▉         | 50/557 [00:08<01:10,  7.19it/s]\u001b[A\n",
            "  9%|▉         | 51/557 [00:08<01:13,  6.86it/s]\u001b[A\n",
            "  9%|▉         | 52/557 [00:08<01:41,  4.98it/s]\u001b[A\n",
            " 10%|▉         | 53/557 [00:09<01:29,  5.61it/s]\u001b[A\n",
            " 10%|▉         | 55/557 [00:09<01:13,  6.85it/s]\u001b[A\n",
            " 10%|█         | 56/557 [00:09<01:36,  5.21it/s]\u001b[A\n",
            " 10%|█         | 58/557 [00:09<01:25,  5.82it/s]\u001b[A\n",
            " 11%|█         | 59/557 [00:10<01:50,  4.52it/s]\u001b[A\n",
            " 11%|█         | 60/557 [00:10<01:44,  4.74it/s]\u001b[A\n",
            " 11%|█         | 61/557 [00:10<01:52,  4.39it/s]\u001b[A\n",
            " 11%|█▏        | 63/557 [00:10<01:45,  4.69it/s]\u001b[A\n",
            " 12%|█▏        | 66/557 [00:11<01:21,  6.02it/s]\u001b[A"
          ],
          "name": "stderr"
        },
        {
          "output_type": "stream",
          "text": [
            "ERROR: fight_table[\"Fighter 1 Name\"]=0    Joseph Benavidez\n",
            "Name: Fighter 1 Name, dtype: object, fight_table[\"Fighter 2 Name\"]=0    Askar Askarov\n",
            "Name: Fighter 2 Name, dtype: object, winner=Askar Askar\n"
          ],
          "name": "stdout"
        },
        {
          "output_type": "stream",
          "text": [
            "\n",
            " 12%|█▏        | 67/557 [00:11<01:30,  5.40it/s]\u001b[A\n",
            " 12%|█▏        | 69/557 [00:11<01:26,  5.62it/s]\u001b[A\n",
            " 13%|█▎        | 70/557 [00:11<01:29,  5.42it/s]\u001b[A\n",
            " 13%|█▎        | 72/557 [00:12<01:23,  5.80it/s]\u001b[A\n",
            " 13%|█▎        | 73/557 [00:12<01:22,  5.84it/s]\u001b[A\n",
            " 13%|█▎        | 75/557 [00:12<01:17,  6.22it/s]\u001b[A"
          ],
          "name": "stderr"
        },
        {
          "output_type": "stream",
          "text": [
            "ERROR: fight_table[\"Fighter 1 Name\"]=0    Montana De La Rosa\n",
            "Name: Fighter 1 Name, dtype: object, fight_table[\"Fighter 2 Name\"]=0    Mayra Bueno Silva\n",
            "Name: Fighter 2 Name, dtype: object, winner=None\n"
          ],
          "name": "stdout"
        },
        {
          "output_type": "stream",
          "text": [
            "\n",
            " 14%|█▍        | 77/557 [00:12<01:06,  7.23it/s]\u001b[A\n",
            " 14%|█▍        | 79/557 [00:12<00:54,  8.69it/s]\u001b[A\n",
            " 15%|█▍        | 81/557 [00:13<00:50,  9.34it/s]\u001b[A\n",
            " 15%|█▍        | 83/557 [00:13<01:15,  6.32it/s]\u001b[A\n",
            " 15%|█▌        | 84/557 [00:13<01:23,  5.65it/s]\u001b[A\n",
            " 15%|█▌        | 85/557 [00:13<01:17,  6.09it/s]\u001b[A\n",
            " 16%|█▌        | 87/557 [00:14<01:04,  7.33it/s]\u001b[A\n",
            " 16%|█▌        | 88/557 [00:14<01:33,  5.01it/s]\u001b[A\n",
            " 16%|█▌        | 89/557 [00:14<01:31,  5.13it/s]\u001b[A\n",
            " 16%|█▋        | 91/557 [00:15<01:32,  5.05it/s]\u001b[A\n",
            " 17%|█▋        | 92/557 [00:15<01:45,  4.40it/s]\u001b[A\n",
            " 17%|█▋        | 93/557 [00:15<01:57,  3.94it/s]\u001b[A\n",
            " 17%|█▋        | 95/557 [00:15<01:31,  5.04it/s]\u001b[A\n",
            " 17%|█▋        | 96/557 [00:16<01:43,  4.47it/s]\u001b[A\n",
            " 17%|█▋        | 97/557 [00:16<01:46,  4.34it/s]\u001b[A\n",
            " 18%|█▊        | 98/557 [00:16<01:57,  3.89it/s]\u001b[A\n",
            " 18%|█▊        | 99/557 [00:16<01:51,  4.10it/s]\u001b[A\n",
            " 18%|█▊        | 100/557 [00:17<02:00,  3.81it/s]\u001b[A\n",
            " 18%|█▊        | 102/557 [00:17<01:38,  4.63it/s]\u001b[A\n",
            " 18%|█▊        | 103/557 [00:17<01:40,  4.52it/s]\u001b[A\n",
            " 19%|█▊        | 104/557 [00:17<01:48,  4.19it/s]\u001b[A\n",
            " 19%|█▉        | 105/557 [00:18<01:36,  4.68it/s]\u001b[A\n",
            " 19%|█▉        | 106/557 [00:18<01:38,  4.59it/s]\u001b[A\n",
            " 19%|█▉        | 107/557 [00:18<01:22,  5.42it/s]\u001b[A\n",
            " 19%|█▉        | 108/557 [00:18<01:31,  4.88it/s]\u001b[A\n",
            " 20%|█▉        | 109/557 [00:18<01:41,  4.40it/s]\u001b[A\n",
            " 20%|█▉        | 110/557 [00:19<01:45,  4.23it/s]\u001b[A\n",
            " 20%|█▉        | 111/557 [00:19<01:39,  4.47it/s]\u001b[A\n",
            " 20%|██        | 113/557 [00:19<01:33,  4.73it/s]\u001b[A\n",
            " 20%|██        | 114/557 [00:19<01:35,  4.63it/s]\u001b[A\n",
            " 21%|██        | 115/557 [00:20<01:37,  4.54it/s]\u001b[A\n",
            " 21%|██        | 116/557 [00:20<01:26,  5.11it/s]\u001b[A\n",
            " 21%|██        | 117/557 [00:20<01:14,  5.89it/s]\u001b[A\n",
            " 21%|██        | 118/557 [00:20<01:28,  4.97it/s]\u001b[A\n",
            " 21%|██▏       | 119/557 [00:20<01:35,  4.58it/s]\u001b[A\n",
            " 22%|██▏       | 120/557 [00:21<01:45,  4.16it/s]\u001b[A\n",
            " 22%|██▏       | 121/557 [00:21<01:53,  3.84it/s]\u001b[A\n",
            " 22%|██▏       | 122/557 [00:21<01:48,  4.00it/s]\u001b[A\n",
            " 22%|██▏       | 123/557 [00:22<01:49,  3.97it/s]\u001b[A\n",
            " 22%|██▏       | 124/557 [00:22<01:38,  4.40it/s]\u001b[A\n",
            " 23%|██▎       | 128/557 [00:22<01:20,  5.33it/s]\u001b[A\n",
            " 23%|██▎       | 129/557 [00:22<01:23,  5.15it/s]\u001b[A\n",
            " 23%|██▎       | 130/557 [00:23<01:31,  4.65it/s]\u001b[A\n",
            " 24%|██▎       | 131/557 [00:23<01:30,  4.71it/s]\u001b[A\n",
            " 24%|██▍       | 133/557 [00:23<01:21,  5.18it/s]\u001b[A\n",
            " 24%|██▍       | 134/557 [00:23<01:22,  5.10it/s]\u001b[A\n",
            " 24%|██▍       | 135/557 [00:23<01:21,  5.20it/s]\u001b[A\n",
            " 24%|██▍       | 136/557 [00:24<01:10,  5.99it/s]\u001b[A\n",
            " 25%|██▍       | 138/557 [00:24<01:07,  6.21it/s]\u001b[A\n",
            " 25%|██▍       | 139/557 [00:24<01:10,  5.91it/s]\u001b[A\n",
            " 25%|██▌       | 140/557 [00:24<01:06,  6.24it/s]\u001b[A\n",
            " 25%|██▌       | 142/557 [00:24<01:04,  6.41it/s]\u001b[A\n",
            " 26%|██▌       | 144/557 [00:25<01:05,  6.32it/s]\u001b[A\n",
            " 26%|██▌       | 145/557 [00:25<01:25,  4.81it/s]\u001b[A\n",
            " 26%|██▋       | 147/557 [00:26<01:25,  4.81it/s]\u001b[A\n",
            " 27%|██▋       | 148/557 [00:26<01:25,  4.79it/s]\u001b[A\n",
            " 27%|██▋       | 149/557 [00:26<01:19,  5.16it/s]\u001b[A\n",
            " 27%|██▋       | 150/557 [00:26<01:31,  4.46it/s]\u001b[A\n",
            " 27%|██▋       | 152/557 [00:26<01:18,  5.17it/s]\u001b[A\n",
            " 27%|██▋       | 153/557 [00:27<01:20,  5.04it/s]\u001b[A\n",
            " 28%|██▊       | 154/557 [00:27<01:34,  4.27it/s]\u001b[A\n",
            " 28%|██▊       | 155/557 [00:27<01:34,  4.27it/s]\u001b[A\n",
            " 28%|██▊       | 157/557 [00:28<01:29,  4.45it/s]\u001b[A\n",
            " 28%|██▊       | 158/557 [00:28<01:31,  4.34it/s]\u001b[A\n",
            " 29%|██▊       | 159/557 [00:28<01:30,  4.38it/s]\u001b[A\n",
            " 29%|██▊       | 160/557 [00:28<01:15,  5.25it/s]\u001b[A\n",
            " 29%|██▉       | 161/557 [00:28<01:05,  6.04it/s]\u001b[A\n",
            " 29%|██▉       | 162/557 [00:28<00:58,  6.79it/s]\u001b[A\n",
            " 29%|██▉       | 163/557 [00:28<00:52,  7.46it/s]\u001b[A"
          ],
          "name": "stderr"
        },
        {
          "output_type": "stream",
          "text": [
            "ERROR: fight_table[\"Fighter 1 Name\"]=0    Deiveson Figueiredo\n",
            "Name: Fighter 1 Name, dtype: object, fight_table[\"Fighter 2 Name\"]=0    Brandon Moreno\n",
            "Name: Fighter 2 Name, dtype: object, winner=None\n"
          ],
          "name": "stdout"
        },
        {
          "output_type": "stream",
          "text": [
            "\n",
            " 30%|██▉       | 165/557 [00:29<00:50,  7.77it/s]\u001b[A\n",
            " 30%|██▉       | 167/557 [00:29<00:56,  6.84it/s]\u001b[A\n",
            " 30%|███       | 168/557 [00:29<01:03,  6.13it/s]\u001b[A\n",
            " 30%|███       | 169/557 [00:30<01:19,  4.90it/s]\u001b[A\n",
            " 31%|███       | 170/557 [00:30<01:30,  4.29it/s]\u001b[A\n",
            " 31%|███       | 171/557 [00:30<01:19,  4.87it/s]\u001b[A\n",
            " 31%|███       | 172/557 [00:30<01:10,  5.48it/s]\u001b[A\n",
            " 31%|███       | 173/557 [00:30<01:17,  4.93it/s]\u001b[A\n",
            " 31%|███▏      | 175/557 [00:31<01:00,  6.28it/s]\u001b[A\n",
            " 32%|███▏      | 176/557 [00:31<01:18,  4.88it/s]\u001b[A\n",
            " 32%|███▏      | 177/557 [00:31<01:29,  4.26it/s]\u001b[A\n",
            " 32%|███▏      | 178/557 [00:31<01:36,  3.95it/s]\u001b[A\n",
            " 32%|███▏      | 179/557 [00:32<01:41,  3.72it/s]\u001b[A\n",
            " 32%|███▏      | 180/557 [00:32<01:42,  3.67it/s]\u001b[A\n",
            " 33%|███▎      | 182/557 [00:32<01:25,  4.39it/s]\u001b[A\n",
            " 33%|███▎      | 184/557 [00:32<01:07,  5.52it/s]\u001b[A\n",
            " 33%|███▎      | 185/557 [00:33<01:12,  5.11it/s]\u001b[A\n",
            " 34%|███▎      | 187/557 [00:33<01:05,  5.63it/s]\u001b[A\n",
            " 34%|███▍      | 188/557 [00:33<01:09,  5.30it/s]\u001b[A\n",
            " 34%|███▍      | 189/557 [00:33<01:17,  4.75it/s]\u001b[A\n",
            " 34%|███▍      | 191/557 [00:34<01:13,  4.97it/s]\u001b[A\n",
            " 34%|███▍      | 192/557 [00:34<01:17,  4.70it/s]\u001b[A\n",
            " 35%|███▍      | 194/557 [00:34<01:11,  5.10it/s]\u001b[A\n",
            " 35%|███▌      | 195/557 [00:34<01:11,  5.05it/s]\u001b[A\n",
            " 35%|███▌      | 197/557 [00:35<01:07,  5.36it/s]\u001b[A\n",
            " 36%|███▌      | 198/557 [00:35<01:16,  4.69it/s]\u001b[A\n",
            " 36%|███▌      | 199/557 [00:35<01:09,  5.16it/s]\u001b[A\n",
            " 36%|███▌      | 201/557 [00:35<00:56,  6.30it/s]\u001b[A\n",
            " 36%|███▋      | 203/557 [00:36<00:57,  6.19it/s]\u001b[A\n",
            " 37%|███▋      | 204/557 [00:36<01:13,  4.82it/s]\u001b[A\n",
            " 37%|███▋      | 206/557 [00:36<00:58,  5.99it/s]\u001b[A\n",
            " 37%|███▋      | 207/557 [00:36<00:59,  5.84it/s]\u001b[A\n",
            " 38%|███▊      | 209/557 [00:37<00:56,  6.21it/s]\u001b[A\n",
            " 38%|███▊      | 210/557 [00:37<00:59,  5.82it/s]\u001b[A\n",
            " 38%|███▊      | 211/557 [00:37<01:09,  4.95it/s]\u001b[A\n",
            " 38%|███▊      | 214/557 [00:37<00:52,  6.56it/s]\u001b[A\n",
            " 39%|███▉      | 216/557 [00:37<00:47,  7.12it/s]\u001b[A\n",
            " 39%|███▉      | 218/557 [00:38<00:51,  6.65it/s]\u001b[A\n",
            " 39%|███▉      | 219/557 [00:38<00:47,  7.07it/s]\u001b[A\n",
            " 39%|███▉      | 220/557 [00:38<00:51,  6.50it/s]\u001b[A\n",
            " 40%|███▉      | 221/557 [00:38<00:48,  6.94it/s]\u001b[A\n",
            " 40%|███▉      | 222/557 [00:38<00:54,  6.19it/s]\u001b[A\n",
            " 40%|████      | 223/557 [00:39<00:50,  6.66it/s]\u001b[A\n",
            " 40%|████      | 224/557 [00:39<00:48,  6.89it/s]\u001b[A\n",
            " 40%|████      | 225/557 [00:39<00:45,  7.26it/s]\u001b[A\n",
            " 41%|████      | 226/557 [00:39<00:44,  7.41it/s]\u001b[A\n",
            " 41%|████      | 227/557 [00:39<01:04,  5.15it/s]\u001b[A\n",
            " 41%|████      | 228/557 [00:40<01:13,  4.49it/s]\u001b[A\n",
            " 41%|████      | 229/557 [00:40<01:22,  4.00it/s]\u001b[A\n",
            " 41%|████▏     | 230/557 [00:40<01:13,  4.47it/s]\u001b[A\n",
            " 41%|████▏     | 231/557 [00:40<01:06,  4.93it/s]\u001b[A\n",
            " 42%|████▏     | 232/557 [00:40<01:07,  4.85it/s]\u001b[A\n",
            " 42%|████▏     | 233/557 [00:41<01:16,  4.22it/s]\u001b[A\n",
            " 42%|████▏     | 234/557 [00:41<01:23,  3.85it/s]\u001b[A\n",
            " 42%|████▏     | 235/557 [00:41<01:17,  4.15it/s]\u001b[A\n",
            " 42%|████▏     | 236/557 [00:41<01:15,  4.27it/s]\u001b[A\n",
            " 43%|████▎     | 238/557 [00:42<01:07,  4.73it/s]\u001b[A\n",
            " 43%|████▎     | 239/557 [00:42<01:19,  4.02it/s]\u001b[A\n",
            " 43%|████▎     | 240/557 [00:42<01:18,  4.06it/s]\u001b[A\n",
            " 43%|████▎     | 241/557 [00:42<01:10,  4.50it/s]\u001b[A\n",
            " 43%|████▎     | 242/557 [00:43<01:03,  4.93it/s]\u001b[A"
          ],
          "name": "stderr"
        },
        {
          "output_type": "stream",
          "text": [
            "ERROR: fight_table[\"Fighter 1 Name\"]=0    Da-Un Jung\n",
            "Name: Fighter 1 Name, dtype: object, fight_table[\"Fighter 2 Name\"]=0    Sam Alvey\n",
            "Name: Fighter 2 Name, dtype: object, winner=None\n"
          ],
          "name": "stdout"
        },
        {
          "output_type": "stream",
          "text": [
            "\n",
            " 44%|████▍     | 244/557 [00:43<00:56,  5.58it/s]\u001b[A\n",
            " 44%|████▍     | 246/557 [00:43<00:45,  6.86it/s]\u001b[A\n",
            " 44%|████▍     | 247/557 [00:43<00:58,  5.34it/s]\u001b[A\n",
            " 45%|████▍     | 249/557 [00:43<00:46,  6.65it/s]\u001b[A\n",
            " 45%|████▍     | 250/557 [00:44<00:56,  5.44it/s]\u001b[A\n",
            " 45%|████▌     | 251/557 [00:44<01:00,  5.02it/s]\u001b[A\n",
            " 45%|████▌     | 252/557 [00:44<01:01,  4.99it/s]\u001b[A\n",
            " 46%|████▌     | 254/557 [00:44<00:53,  5.63it/s]\u001b[A\n",
            " 46%|████▌     | 255/557 [00:45<00:55,  5.41it/s]\u001b[A\n",
            " 46%|████▌     | 257/557 [00:45<00:51,  5.80it/s]\u001b[A\n",
            " 46%|████▋     | 258/557 [00:45<00:57,  5.20it/s]\u001b[A\n",
            " 47%|████▋     | 260/557 [00:45<00:55,  5.31it/s]\u001b[A\n",
            " 47%|████▋     | 262/557 [00:46<00:44,  6.70it/s]\u001b[A\n",
            " 47%|████▋     | 263/557 [00:46<00:45,  6.47it/s]\u001b[A\n",
            " 48%|████▊     | 266/557 [00:46<00:35,  8.17it/s]\u001b[A\n",
            " 48%|████▊     | 268/557 [00:46<00:43,  6.70it/s]\u001b[A\n",
            " 48%|████▊     | 270/557 [00:46<00:36,  7.93it/s]\u001b[A\n",
            " 49%|████▉     | 272/557 [00:47<00:46,  6.08it/s]\u001b[A\n",
            " 49%|████▉     | 274/557 [00:47<00:42,  6.62it/s]\u001b[A"
          ],
          "name": "stderr"
        },
        {
          "output_type": "stream",
          "text": [
            "ERROR: fight_table[\"Fighter 1 Name\"]=0    Charles Jourdain\n",
            "Name: Fighter 1 Name, dtype: object, fight_table[\"Fighter 2 Name\"]=0    Josh Culibao\n",
            "Name: Fighter 2 Name, dtype: object, winner=None\n"
          ],
          "name": "stdout"
        },
        {
          "output_type": "stream",
          "text": [
            "\n",
            " 49%|████▉     | 275/557 [00:48<00:57,  4.89it/s]\u001b[A\n",
            " 50%|████▉     | 276/557 [00:48<00:54,  5.11it/s]\u001b[A\n",
            " 50%|████▉     | 277/557 [00:48<00:51,  5.44it/s]\u001b[A\n",
            " 50%|████▉     | 278/557 [00:48<01:01,  4.53it/s]\u001b[A\n",
            " 50%|█████     | 280/557 [00:48<00:53,  5.19it/s]\u001b[A\n",
            " 50%|█████     | 281/557 [00:49<00:50,  5.51it/s]\u001b[A\n",
            " 51%|█████     | 282/557 [00:49<01:00,  4.53it/s]\u001b[A\n",
            " 51%|█████     | 284/557 [00:49<00:54,  4.98it/s]\u001b[A\n",
            " 51%|█████     | 285/557 [00:49<01:00,  4.51it/s]\u001b[A\n",
            " 51%|█████▏    | 286/557 [00:50<01:08,  3.94it/s]\u001b[A\n",
            " 52%|█████▏    | 287/557 [00:50<01:00,  4.44it/s]\u001b[A\n",
            " 52%|█████▏    | 289/557 [00:50<00:51,  5.22it/s]\u001b[A\n",
            " 52%|█████▏    | 292/557 [00:50<00:39,  6.78it/s]\u001b[A\n",
            " 53%|█████▎    | 294/557 [00:51<00:42,  6.20it/s]\u001b[A\n",
            " 53%|█████▎    | 295/557 [00:51<00:40,  6.44it/s]\u001b[A\n",
            " 53%|█████▎    | 297/557 [00:51<00:33,  7.83it/s]\u001b[A\n",
            " 54%|█████▎    | 299/557 [00:51<00:27,  9.53it/s]\u001b[A\n",
            " 54%|█████▍    | 301/557 [00:52<00:34,  7.40it/s]\u001b[A\n",
            " 55%|█████▍    | 304/557 [00:52<00:34,  7.40it/s]\u001b[A\n",
            " 55%|█████▍    | 306/557 [00:52<00:32,  7.84it/s]\u001b[A\n",
            " 55%|█████▌    | 307/557 [00:52<00:32,  7.81it/s]\u001b[A\n",
            " 55%|█████▌    | 308/557 [00:52<00:31,  7.84it/s]\u001b[A\n",
            " 55%|█████▌    | 309/557 [00:53<00:40,  6.20it/s]\u001b[A\n",
            " 56%|█████▌    | 312/557 [00:53<00:34,  7.04it/s]\u001b[A\n",
            " 56%|█████▌    | 313/557 [00:53<00:46,  5.21it/s]\u001b[A\n",
            " 57%|█████▋    | 315/557 [00:53<00:40,  5.96it/s]\u001b[A\n",
            " 57%|█████▋    | 316/557 [00:54<00:45,  5.35it/s]\u001b[A\n",
            " 57%|█████▋    | 317/557 [00:54<00:49,  4.84it/s]\u001b[A\n",
            " 57%|█████▋    | 318/557 [00:54<00:51,  4.66it/s]\u001b[A\n",
            " 57%|█████▋    | 319/557 [00:54<00:51,  4.62it/s]\u001b[A\n",
            " 57%|█████▋    | 320/557 [00:55<00:47,  5.00it/s]\u001b[A\n",
            " 58%|█████▊    | 322/557 [00:55<00:43,  5.38it/s]\u001b[A\n",
            " 58%|█████▊    | 323/557 [00:55<00:50,  4.66it/s]\u001b[A\n",
            " 58%|█████▊    | 324/557 [00:55<00:47,  4.95it/s]\u001b[A\n",
            " 58%|█████▊    | 325/557 [00:55<00:44,  5.21it/s]\u001b[A\n",
            " 59%|█████▊    | 326/557 [00:56<00:43,  5.30it/s]\u001b[A\n",
            " 59%|█████▊    | 327/557 [00:56<00:46,  4.95it/s]\u001b[A\n",
            " 59%|█████▉    | 329/557 [00:56<00:36,  6.21it/s]\u001b[A\n",
            " 59%|█████▉    | 331/557 [00:56<00:37,  6.04it/s]\u001b[A\n",
            " 60%|█████▉    | 332/557 [00:57<00:39,  5.73it/s]\u001b[A\n",
            " 60%|█████▉    | 333/557 [00:57<00:41,  5.38it/s]\u001b[A\n",
            " 60%|█████▉    | 334/557 [00:57<00:45,  4.88it/s]\u001b[A\n",
            " 60%|██████    | 335/557 [00:57<00:41,  5.40it/s]\u001b[A\n",
            " 61%|██████    | 337/557 [00:57<00:37,  5.89it/s]\u001b[A\n",
            " 61%|██████    | 338/557 [00:58<00:37,  5.88it/s]\u001b[A\n",
            " 61%|██████    | 339/557 [00:58<00:46,  4.70it/s]\u001b[A\n",
            " 61%|██████    | 340/557 [00:58<00:45,  4.77it/s]\u001b[A\n",
            " 61%|██████▏   | 342/557 [00:58<00:38,  5.62it/s]\u001b[A\n",
            " 62%|██████▏   | 343/557 [00:59<00:40,  5.27it/s]\u001b[A\n",
            " 62%|██████▏   | 345/557 [00:59<00:32,  6.60it/s]\u001b[A\n",
            " 62%|██████▏   | 347/557 [00:59<00:30,  6.83it/s]\u001b[A\n",
            " 62%|██████▏   | 348/557 [00:59<00:30,  6.87it/s]\u001b[A\n",
            " 63%|██████▎   | 350/557 [00:59<00:32,  6.40it/s]\u001b[A\n",
            " 63%|██████▎   | 352/557 [01:00<00:29,  7.00it/s]\u001b[A\n",
            " 63%|██████▎   | 353/557 [01:00<00:31,  6.52it/s]\u001b[A\n",
            " 64%|██████▎   | 355/557 [01:00<00:29,  6.79it/s]\u001b[A\n",
            " 64%|██████▍   | 356/557 [01:00<00:30,  6.49it/s]\u001b[A\n",
            " 64%|██████▍   | 358/557 [01:01<00:29,  6.75it/s]\u001b[A\n",
            " 64%|██████▍   | 359/557 [01:01<00:28,  6.98it/s]\u001b[A\n",
            " 65%|██████▍   | 360/557 [01:01<00:26,  7.32it/s]\u001b[A\n",
            " 65%|██████▍   | 361/557 [01:01<00:34,  5.66it/s]\u001b[A\n",
            " 65%|██████▍   | 362/557 [01:01<00:42,  4.60it/s]\u001b[A\n",
            " 65%|██████▌   | 363/557 [01:02<00:49,  3.93it/s]\u001b[A\n",
            " 65%|██████▌   | 364/557 [01:02<00:48,  3.94it/s]\u001b[A\n",
            " 66%|██████▌   | 366/557 [01:02<00:36,  5.19it/s]\u001b[A\n",
            " 66%|██████▌   | 367/557 [01:02<00:36,  5.27it/s]\u001b[A\n",
            " 66%|██████▌   | 368/557 [01:03<00:43,  4.37it/s]\u001b[A\n",
            " 66%|██████▌   | 369/557 [01:03<00:44,  4.22it/s]\u001b[A\n",
            " 66%|██████▋   | 370/557 [01:03<00:42,  4.39it/s]\u001b[A\n",
            " 67%|██████▋   | 372/557 [01:03<00:35,  5.24it/s]\u001b[A"
          ],
          "name": "stderr"
        },
        {
          "output_type": "stream",
          "text": [
            "ERROR: fight_table[\"Fighter 1 Name\"]=0    Chris Gutierrez\n",
            "Name: Fighter 1 Name, dtype: object, fight_table[\"Fighter 2 Name\"]=0    Cody Durden\n",
            "Name: Fighter 2 Name, dtype: object, winner=None\n"
          ],
          "name": "stdout"
        },
        {
          "output_type": "stream",
          "text": [
            "\n",
            " 67%|██████▋   | 373/557 [01:04<00:42,  4.29it/s]\u001b[A\n",
            " 67%|██████▋   | 374/557 [01:04<00:43,  4.20it/s]\u001b[A\n",
            " 67%|██████▋   | 375/557 [01:04<00:47,  3.83it/s]\u001b[A\n",
            " 68%|██████▊   | 377/557 [01:04<00:37,  4.82it/s]\u001b[A\n",
            " 68%|██████▊   | 378/557 [01:05<00:38,  4.66it/s]\u001b[A\n",
            " 68%|██████▊   | 380/557 [01:05<00:35,  4.95it/s]\u001b[A\n",
            " 69%|██████▉   | 383/557 [01:05<00:26,  6.51it/s]\u001b[A\n",
            " 69%|██████▉   | 385/557 [01:05<00:21,  8.09it/s]\u001b[A\n",
            " 69%|██████▉   | 387/557 [01:06<00:25,  6.74it/s]\u001b[A\n",
            " 70%|██████▉   | 389/557 [01:06<00:23,  7.29it/s]\u001b[A\n",
            " 70%|███████   | 391/557 [01:06<00:22,  7.54it/s]\u001b[A\n",
            " 70%|███████   | 392/557 [01:06<00:26,  6.20it/s]\u001b[A\n",
            " 71%|███████   | 394/557 [01:06<00:22,  7.21it/s]\u001b[A"
          ],
          "name": "stderr"
        },
        {
          "output_type": "stream",
          "text": [
            "ERROR: fight_table[\"Fighter 1 Name\"]=0    Alexandre Pantoja\n",
            "Name: Fighter 1 Name, dtype: object, fight_table[\"Fighter 2 Name\"]=0    Askar Askarov\n",
            "Name: Fighter 2 Name, dtype: object, winner=Askar Askar\n"
          ],
          "name": "stdout"
        },
        {
          "output_type": "stream",
          "text": [
            "\n",
            " 71%|███████   | 395/557 [01:07<00:20,  7.82it/s]\u001b[A\n",
            " 71%|███████   | 396/557 [01:07<00:21,  7.43it/s]\u001b[A\n",
            " 71%|███████▏  | 397/557 [01:07<00:20,  7.69it/s]\u001b[A\n",
            " 71%|███████▏  | 398/557 [01:07<00:25,  6.13it/s]\u001b[A\n",
            " 72%|███████▏  | 399/557 [01:07<00:22,  6.93it/s]\u001b[A\n",
            " 72%|███████▏  | 400/557 [01:07<00:23,  6.74it/s]\u001b[A\n",
            " 72%|███████▏  | 401/557 [01:07<00:21,  7.42it/s]\u001b[A\n",
            " 72%|███████▏  | 402/557 [01:08<00:27,  5.72it/s]\u001b[A\n",
            " 72%|███████▏  | 403/557 [01:08<00:27,  5.59it/s]\u001b[A\n",
            " 73%|███████▎  | 404/557 [01:08<00:30,  4.95it/s]\u001b[A\n",
            " 73%|███████▎  | 405/557 [01:08<00:32,  4.71it/s]\u001b[A\n",
            " 73%|███████▎  | 406/557 [01:09<00:34,  4.42it/s]\u001b[A\n",
            " 73%|███████▎  | 408/557 [01:09<00:27,  5.51it/s]\u001b[A\n",
            " 74%|███████▎  | 410/557 [01:09<00:25,  5.81it/s]\u001b[A\n",
            " 74%|███████▍  | 411/557 [01:09<00:30,  4.75it/s]\u001b[A\n",
            " 74%|███████▍  | 412/557 [01:10<00:35,  4.06it/s]\u001b[A\n",
            " 74%|███████▍  | 413/557 [01:10<00:39,  3.67it/s]\u001b[A\n",
            " 75%|███████▍  | 415/557 [01:10<00:32,  4.33it/s]\u001b[A\n",
            " 75%|███████▍  | 416/557 [01:10<00:32,  4.38it/s]\u001b[A\n",
            " 75%|███████▍  | 417/557 [01:11<00:35,  3.92it/s]\u001b[A\n",
            " 75%|███████▌  | 419/557 [01:11<00:30,  4.57it/s]\u001b[A\n",
            " 75%|███████▌  | 420/557 [01:11<00:33,  4.05it/s]\u001b[A\n",
            " 76%|███████▌  | 421/557 [01:12<00:33,  4.10it/s]\u001b[A\n",
            " 76%|███████▌  | 422/557 [01:12<00:33,  4.08it/s]\u001b[A\n",
            " 76%|███████▌  | 424/557 [01:12<00:29,  4.53it/s]\u001b[A\n",
            " 76%|███████▋  | 425/557 [01:12<00:29,  4.42it/s]\u001b[A\n",
            " 76%|███████▋  | 426/557 [01:13<00:33,  3.87it/s]\u001b[A\n",
            " 77%|███████▋  | 428/557 [01:13<00:28,  4.50it/s]\u001b[A\n",
            " 77%|███████▋  | 429/557 [01:13<00:32,  3.98it/s]\u001b[A\n",
            " 77%|███████▋  | 430/557 [01:14<00:31,  4.01it/s]\u001b[A\n",
            " 77%|███████▋  | 431/557 [01:14<00:28,  4.43it/s]\u001b[A\n",
            " 78%|███████▊  | 432/557 [01:14<00:24,  5.11it/s]\u001b[A\n",
            " 78%|███████▊  | 433/557 [01:14<00:21,  5.70it/s]\u001b[A\n",
            " 78%|███████▊  | 435/557 [01:14<00:17,  7.04it/s]\u001b[A\n",
            " 78%|███████▊  | 436/557 [01:14<00:20,  5.85it/s]\u001b[A\n",
            " 78%|███████▊  | 437/557 [01:15<00:22,  5.29it/s]\u001b[A\n",
            " 79%|███████▊  | 438/557 [01:15<00:22,  5.26it/s]\u001b[A\n",
            " 79%|███████▉  | 439/557 [01:15<00:20,  5.83it/s]\u001b[A\n",
            " 79%|███████▉  | 440/557 [01:15<00:23,  4.88it/s]\u001b[A\n",
            " 80%|███████▉  | 443/557 [01:15<00:17,  6.45it/s]\u001b[A\n",
            " 80%|███████▉  | 445/557 [01:16<00:18,  6.13it/s]\u001b[A\n",
            " 80%|████████  | 447/557 [01:16<00:18,  6.07it/s]\u001b[A\n",
            " 80%|████████  | 448/557 [01:16<00:21,  5.07it/s]\u001b[A\n",
            " 81%|████████  | 449/557 [01:16<00:18,  5.83it/s]\u001b[A\n",
            " 81%|████████  | 451/557 [01:17<00:14,  7.34it/s]\u001b[A\n",
            " 81%|████████▏ | 453/557 [01:17<00:11,  8.84it/s]\u001b[A\n",
            " 82%|████████▏ | 455/557 [01:17<00:13,  7.74it/s]\u001b[A\n",
            " 82%|████████▏ | 457/557 [01:17<00:12,  7.92it/s]\u001b[A\n",
            " 82%|████████▏ | 459/557 [01:18<00:15,  6.34it/s]\u001b[A\n",
            " 83%|████████▎ | 460/557 [01:18<00:19,  4.88it/s]\u001b[A\n",
            " 83%|████████▎ | 462/557 [01:18<00:16,  5.88it/s]\u001b[A\n",
            " 83%|████████▎ | 463/557 [01:18<00:19,  4.86it/s]\u001b[A\n",
            " 83%|████████▎ | 465/557 [01:19<00:15,  5.98it/s]\u001b[A\n",
            " 84%|████████▎ | 466/557 [01:19<00:16,  5.56it/s]\u001b[A\n",
            " 84%|████████▍ | 468/557 [01:19<00:16,  5.44it/s]\u001b[A\n",
            " 84%|████████▍ | 469/557 [01:19<00:15,  5.84it/s]\u001b[A\n",
            " 84%|████████▍ | 470/557 [01:20<00:16,  5.22it/s]\u001b[A\n",
            " 85%|████████▍ | 471/557 [01:20<00:18,  4.69it/s]\u001b[A\n",
            " 85%|████████▍ | 473/557 [01:20<00:14,  5.90it/s]\u001b[A\n",
            " 85%|████████▌ | 474/557 [01:20<00:16,  5.15it/s]\u001b[A\n",
            " 86%|████████▌ | 477/557 [01:21<00:13,  5.81it/s]\u001b[A\n",
            " 86%|████████▌ | 478/557 [01:21<00:12,  6.24it/s]\u001b[A\n",
            " 86%|████████▌ | 479/557 [01:21<00:13,  5.60it/s]\u001b[A\n",
            " 86%|████████▌ | 480/557 [01:21<00:12,  6.34it/s]\u001b[A\n",
            " 86%|████████▋ | 481/557 [01:21<00:11,  6.51it/s]\u001b[A\n",
            " 87%|████████▋ | 483/557 [01:22<00:11,  6.56it/s]\u001b[A\n",
            " 87%|████████▋ | 485/557 [01:22<00:09,  7.33it/s]\u001b[A\n",
            " 88%|████████▊ | 488/557 [01:22<00:07,  9.07it/s]\u001b[A"
          ],
          "name": "stderr"
        },
        {
          "output_type": "stream",
          "text": [
            "ERROR: fight_table[\"Fighter 1 Name\"]=0    Darren Elkins\n",
            "Name: Fighter 1 Name, dtype: object, fight_table[\"Fighter 2 Name\"]=0    Nate Landwehr\n",
            "Name: Fighter 2 Name, dtype: object, winner=Cortney Casey\n",
            "ERROR: fight_table[\"Fighter 1 Name\"]=0    Cortney Casey\n",
            "Name: Fighter 1 Name, dtype: object, fight_table[\"Fighter 2 Name\"]=0    Mara Romero Borella\n",
            "Name: Fighter 2 Name, dtype: object, winner=Rodrigo Nascimento\n"
          ],
          "name": "stdout"
        },
        {
          "output_type": "stream",
          "text": [
            "\n",
            " 88%|████████▊ | 490/557 [01:22<00:08,  7.69it/s]\u001b[A\n",
            " 88%|████████▊ | 491/557 [01:22<00:11,  5.89it/s]\u001b[A\n",
            " 88%|████████▊ | 492/557 [01:23<00:10,  6.33it/s]\u001b[A\n",
            " 89%|████████▊ | 493/557 [01:23<00:12,  5.21it/s]\u001b[A\n",
            " 89%|████████▉ | 495/557 [01:23<00:09,  6.26it/s]\u001b[A\n",
            " 89%|████████▉ | 497/557 [01:23<00:07,  7.69it/s]\u001b[A\n",
            " 90%|████████▉ | 499/557 [01:23<00:07,  7.34it/s]\u001b[A\n",
            " 90%|████████▉ | 500/557 [01:24<00:07,  7.96it/s]\u001b[A\n",
            " 90%|█████████ | 502/557 [01:24<00:07,  7.77it/s]\u001b[A\n",
            " 90%|█████████ | 503/557 [01:24<00:09,  5.70it/s]\u001b[A\n",
            " 90%|█████████ | 504/557 [01:24<00:08,  6.23it/s]\u001b[A\n",
            " 91%|█████████ | 505/557 [01:25<00:09,  5.29it/s]\u001b[A\n",
            " 91%|█████████ | 506/557 [01:25<00:10,  4.98it/s]\u001b[A\n",
            " 91%|█████████ | 508/557 [01:25<00:08,  5.57it/s]\u001b[A\n",
            " 91%|█████████▏| 509/557 [01:25<00:08,  5.43it/s]\u001b[A\n",
            " 92%|█████████▏| 510/557 [01:25<00:10,  4.68it/s]\u001b[A\n",
            " 92%|█████████▏| 511/557 [01:26<00:09,  4.92it/s]\u001b[A\n",
            " 92%|█████████▏| 512/557 [01:26<00:09,  4.99it/s]\u001b[A\n",
            " 92%|█████████▏| 513/557 [01:26<00:08,  4.95it/s]\u001b[A\n",
            " 92%|█████████▏| 514/557 [01:26<00:10,  4.14it/s]\u001b[A\n",
            " 92%|█████████▏| 515/557 [01:27<00:10,  3.84it/s]\u001b[A\n",
            " 93%|█████████▎| 516/557 [01:27<00:08,  4.63it/s]\u001b[A\n",
            " 93%|█████████▎| 517/557 [01:27<00:09,  4.42it/s]\u001b[A\n",
            " 93%|█████████▎| 518/557 [01:27<00:09,  3.92it/s]\u001b[A\n",
            " 93%|█████████▎| 519/557 [01:28<00:10,  3.60it/s]\u001b[A"
          ],
          "name": "stderr"
        },
        {
          "output_type": "stream",
          "text": [
            "ERROR: fight_table[\"Fighter 1 Name\"]=0    Rani Yahya\n",
            "Name: Fighter 1 Name, dtype: object, fight_table[\"Fighter 2 Name\"]=0    Enrique Barzola\n",
            "Name: Fighter 2 Name, dtype: object, winner=None\n"
          ],
          "name": "stdout"
        },
        {
          "output_type": "stream",
          "text": [
            "\n",
            " 94%|█████████▎| 521/557 [01:28<00:08,  4.09it/s]\u001b[A\n",
            " 94%|█████████▎| 522/557 [01:28<00:07,  4.47it/s]\u001b[A\n",
            " 94%|█████████▍| 524/557 [01:29<00:06,  4.79it/s]\u001b[A\n",
            " 94%|█████████▍| 526/557 [01:29<00:05,  5.46it/s]\u001b[A\n",
            " 95%|█████████▍| 527/557 [01:29<00:05,  5.13it/s]\u001b[A\n",
            " 95%|█████████▍| 528/557 [01:29<00:05,  4.99it/s]\u001b[A\n",
            " 95%|█████████▍| 529/557 [01:29<00:05,  5.14it/s]\u001b[A\n",
            " 95%|█████████▌| 530/557 [01:30<00:06,  4.31it/s]\u001b[A\n",
            " 95%|█████████▌| 531/557 [01:30<00:05,  4.49it/s]\u001b[A\n",
            " 96%|█████████▌| 533/557 [01:30<00:04,  5.70it/s]\u001b[A\n",
            " 96%|█████████▌| 535/557 [01:30<00:03,  5.92it/s]\u001b[A\n",
            " 97%|█████████▋| 538/557 [01:31<00:02,  7.45it/s]\u001b[A\n",
            " 97%|█████████▋| 540/557 [01:31<00:02,  7.16it/s]\u001b[A\n",
            " 97%|█████████▋| 541/557 [01:31<00:02,  5.39it/s]\u001b[A\n",
            " 97%|█████████▋| 542/557 [01:31<00:02,  5.01it/s]\u001b[A\n",
            " 97%|█████████▋| 543/557 [01:32<00:02,  5.71it/s]\u001b[A\n",
            " 98%|█████████▊| 545/557 [01:32<00:01,  7.17it/s]\u001b[A\n",
            " 98%|█████████▊| 547/557 [01:32<00:01,  8.14it/s]\u001b[A\n",
            " 99%|█████████▊| 549/557 [01:32<00:01,  6.58it/s]\u001b[A\n",
            " 99%|█████████▊| 550/557 [01:32<00:01,  5.42it/s]\u001b[A\n",
            " 99%|█████████▉| 552/557 [01:33<00:00,  5.70it/s]\u001b[A\n",
            " 99%|█████████▉| 553/557 [01:33<00:00,  5.53it/s]\u001b[A\n",
            " 99%|█████████▉| 554/557 [01:33<00:00,  5.10it/s]\u001b[A\n",
            "100%|█████████▉| 555/557 [01:33<00:00,  5.37it/s]\u001b[A\n",
            "100%|██████████| 557/557 [01:34<00:00,  5.92it/s]\n"
          ],
          "name": "stderr"
        }
      ]
    },
    {
      "cell_type": "code",
      "metadata": {
        "colab": {
          "base_uri": "https://localhost:8080/",
          "height": 350
        },
        "id": "G9EhqLLcAWs-",
        "outputId": "f27e3e02-0e63-48aa-8d17-6b5144625292"
      },
      "source": [
        "FIGHT_TABLE.head()"
      ],
      "execution_count": null,
      "outputs": [
        {
          "output_type": "execute_result",
          "data": {
            "text/html": [
              "<div>\n",
              "<style scoped>\n",
              "    .dataframe tbody tr th:only-of-type {\n",
              "        vertical-align: middle;\n",
              "    }\n",
              "\n",
              "    .dataframe tbody tr th {\n",
              "        vertical-align: top;\n",
              "    }\n",
              "\n",
              "    .dataframe thead th {\n",
              "        text-align: right;\n",
              "    }\n",
              "</style>\n",
              "<table border=\"1\" class=\"dataframe\">\n",
              "  <thead>\n",
              "    <tr style=\"text-align: right;\">\n",
              "      <th></th>\n",
              "      <th>Fighter 1 KD</th>\n",
              "      <th>Fighter 2 KD</th>\n",
              "      <th>Fighter 1 Sig. str.</th>\n",
              "      <th>Fighter 2 Sig. str.</th>\n",
              "      <th>Fighter 1 Sig. str. %</th>\n",
              "      <th>Fighter 2 Sig. str. %</th>\n",
              "      <th>Fighter 1 Total str.</th>\n",
              "      <th>Fighter 2 Total str.</th>\n",
              "      <th>Fighter 1 Td</th>\n",
              "      <th>Fighter 2 Td</th>\n",
              "      <th>Fighter 1 Td %</th>\n",
              "      <th>Fighter 2 Td %</th>\n",
              "      <th>Fighter 1 Sub. att</th>\n",
              "      <th>Fighter 2 Sub. att</th>\n",
              "      <th>Fighter 1 Rev.</th>\n",
              "      <th>Fighter 2 Rev.</th>\n",
              "      <th>Fighter 1 Name</th>\n",
              "      <th>Fighter 2 Name</th>\n",
              "      <th>Winner</th>\n",
              "      <th>Method</th>\n",
              "    </tr>\n",
              "  </thead>\n",
              "  <tbody>\n",
              "    <tr>\n",
              "      <th>0</th>\n",
              "      <td>0</td>\n",
              "      <td>0</td>\n",
              "      <td>150</td>\n",
              "      <td>62</td>\n",
              "      <td>52</td>\n",
              "      <td>29.0</td>\n",
              "      <td>169</td>\n",
              "      <td>70</td>\n",
              "      <td>4</td>\n",
              "      <td>1</td>\n",
              "      <td>57.0</td>\n",
              "      <td>20.0</td>\n",
              "      <td>0</td>\n",
              "      <td>0</td>\n",
              "      <td>0</td>\n",
              "      <td>0</td>\n",
              "      <td>Robert Whittaker</td>\n",
              "      <td>Kelvin Gastelum</td>\n",
              "      <td>1</td>\n",
              "      <td>U-DEC</td>\n",
              "    </tr>\n",
              "    <tr>\n",
              "      <th>1</th>\n",
              "      <td>0</td>\n",
              "      <td>0</td>\n",
              "      <td>105</td>\n",
              "      <td>88</td>\n",
              "      <td>47</td>\n",
              "      <td>45.0</td>\n",
              "      <td>109</td>\n",
              "      <td>99</td>\n",
              "      <td>0</td>\n",
              "      <td>0</td>\n",
              "      <td>NaN</td>\n",
              "      <td>NaN</td>\n",
              "      <td>0</td>\n",
              "      <td>0</td>\n",
              "      <td>0</td>\n",
              "      <td>0</td>\n",
              "      <td>Andrei Arlovski</td>\n",
              "      <td>Chase Sherman</td>\n",
              "      <td>1</td>\n",
              "      <td>U-DEC</td>\n",
              "    </tr>\n",
              "    <tr>\n",
              "      <th>2</th>\n",
              "      <td>0</td>\n",
              "      <td>0</td>\n",
              "      <td>21</td>\n",
              "      <td>27</td>\n",
              "      <td>44</td>\n",
              "      <td>49.0</td>\n",
              "      <td>32</td>\n",
              "      <td>91</td>\n",
              "      <td>0</td>\n",
              "      <td>8</td>\n",
              "      <td>NaN</td>\n",
              "      <td>33.0</td>\n",
              "      <td>0</td>\n",
              "      <td>2</td>\n",
              "      <td>0</td>\n",
              "      <td>0</td>\n",
              "      <td>Abdul Razak Alhassan</td>\n",
              "      <td>Jacob Malkoun</td>\n",
              "      <td>2</td>\n",
              "      <td>U-DEC</td>\n",
              "    </tr>\n",
              "    <tr>\n",
              "      <th>3</th>\n",
              "      <td>0</td>\n",
              "      <td>1</td>\n",
              "      <td>66</td>\n",
              "      <td>55</td>\n",
              "      <td>58</td>\n",
              "      <td>46.0</td>\n",
              "      <td>84</td>\n",
              "      <td>72</td>\n",
              "      <td>3</td>\n",
              "      <td>0</td>\n",
              "      <td>60.0</td>\n",
              "      <td>0.0</td>\n",
              "      <td>1</td>\n",
              "      <td>0</td>\n",
              "      <td>0</td>\n",
              "      <td>0</td>\n",
              "      <td>Tracy Cortez</td>\n",
              "      <td>Justine Kish</td>\n",
              "      <td>1</td>\n",
              "      <td>S-DEC</td>\n",
              "    </tr>\n",
              "    <tr>\n",
              "      <th>4</th>\n",
              "      <td>0</td>\n",
              "      <td>0</td>\n",
              "      <td>90</td>\n",
              "      <td>80</td>\n",
              "      <td>46</td>\n",
              "      <td>47.0</td>\n",
              "      <td>90</td>\n",
              "      <td>82</td>\n",
              "      <td>0</td>\n",
              "      <td>4</td>\n",
              "      <td>NaN</td>\n",
              "      <td>44.0</td>\n",
              "      <td>0</td>\n",
              "      <td>0</td>\n",
              "      <td>0</td>\n",
              "      <td>0</td>\n",
              "      <td>Luis Pena</td>\n",
              "      <td>Alexander Munoz</td>\n",
              "      <td>1</td>\n",
              "      <td>S-DEC</td>\n",
              "    </tr>\n",
              "  </tbody>\n",
              "</table>\n",
              "</div>"
            ],
            "text/plain": [
              "   Fighter 1 KD  Fighter 2 KD  ...  Winner  Method\n",
              "0             0             0  ...       1   U-DEC\n",
              "1             0             0  ...       1   U-DEC\n",
              "2             0             0  ...       2   U-DEC\n",
              "3             0             1  ...       1   S-DEC\n",
              "4             0             0  ...       1   S-DEC\n",
              "\n",
              "[5 rows x 20 columns]"
            ]
          },
          "metadata": {
            "tags": []
          },
          "execution_count": 96
        }
      ]
    },
    {
      "cell_type": "code",
      "metadata": {
        "id": "7hQjO9B2RDoZ",
        "colab": {
          "base_uri": "https://localhost:8080/",
          "height": 333
        },
        "outputId": "bf0f184e-4b8c-4687-dffb-a1aabea0c2a5"
      },
      "source": [
        "FIGHT_TABLE.tail()"
      ],
      "execution_count": null,
      "outputs": [
        {
          "output_type": "execute_result",
          "data": {
            "text/html": [
              "<div>\n",
              "<style scoped>\n",
              "    .dataframe tbody tr th:only-of-type {\n",
              "        vertical-align: middle;\n",
              "    }\n",
              "\n",
              "    .dataframe tbody tr th {\n",
              "        vertical-align: top;\n",
              "    }\n",
              "\n",
              "    .dataframe thead th {\n",
              "        text-align: right;\n",
              "    }\n",
              "</style>\n",
              "<table border=\"1\" class=\"dataframe\">\n",
              "  <thead>\n",
              "    <tr style=\"text-align: right;\">\n",
              "      <th></th>\n",
              "      <th>Fighter 1 KD</th>\n",
              "      <th>Fighter 2 KD</th>\n",
              "      <th>Fighter 1 Sig. str.</th>\n",
              "      <th>Fighter 2 Sig. str.</th>\n",
              "      <th>Fighter 1 Sig. str. %</th>\n",
              "      <th>Fighter 2 Sig. str. %</th>\n",
              "      <th>Fighter 1 Total str.</th>\n",
              "      <th>Fighter 2 Total str.</th>\n",
              "      <th>Fighter 1 Td</th>\n",
              "      <th>Fighter 2 Td</th>\n",
              "      <th>Fighter 1 Td %</th>\n",
              "      <th>Fighter 2 Td %</th>\n",
              "      <th>Fighter 1 Sub. att</th>\n",
              "      <th>Fighter 2 Sub. att</th>\n",
              "      <th>Fighter 1 Rev.</th>\n",
              "      <th>Fighter 2 Rev.</th>\n",
              "      <th>Fighter 1 Name</th>\n",
              "      <th>Fighter 2 Name</th>\n",
              "      <th>Winner</th>\n",
              "      <th>Method</th>\n",
              "    </tr>\n",
              "  </thead>\n",
              "  <tbody>\n",
              "    <tr>\n",
              "      <th>542</th>\n",
              "      <td>1</td>\n",
              "      <td>0</td>\n",
              "      <td>33</td>\n",
              "      <td>50</td>\n",
              "      <td>45</td>\n",
              "      <td>42.0</td>\n",
              "      <td>71</td>\n",
              "      <td>85</td>\n",
              "      <td>4</td>\n",
              "      <td>0</td>\n",
              "      <td>57.0</td>\n",
              "      <td>0.0</td>\n",
              "      <td>0</td>\n",
              "      <td>0</td>\n",
              "      <td>0</td>\n",
              "      <td>0</td>\n",
              "      <td>Jake Matthews</td>\n",
              "      <td>Emil Meek</td>\n",
              "      <td>1</td>\n",
              "      <td>U-DEC</td>\n",
              "    </tr>\n",
              "    <tr>\n",
              "      <th>543</th>\n",
              "      <td>0</td>\n",
              "      <td>1</td>\n",
              "      <td>7</td>\n",
              "      <td>17</td>\n",
              "      <td>46</td>\n",
              "      <td>48.0</td>\n",
              "      <td>8</td>\n",
              "      <td>21</td>\n",
              "      <td>1</td>\n",
              "      <td>0</td>\n",
              "      <td>100.0</td>\n",
              "      <td>NaN</td>\n",
              "      <td>0</td>\n",
              "      <td>0</td>\n",
              "      <td>0</td>\n",
              "      <td>0</td>\n",
              "      <td>Callan Potter</td>\n",
              "      <td>Song Kenan</td>\n",
              "      <td>2</td>\n",
              "      <td>KO/TKO  Punch</td>\n",
              "    </tr>\n",
              "    <tr>\n",
              "      <th>544</th>\n",
              "      <td>0</td>\n",
              "      <td>0</td>\n",
              "      <td>78</td>\n",
              "      <td>50</td>\n",
              "      <td>30</td>\n",
              "      <td>32.0</td>\n",
              "      <td>78</td>\n",
              "      <td>52</td>\n",
              "      <td>0</td>\n",
              "      <td>0</td>\n",
              "      <td>0.0</td>\n",
              "      <td>0.0</td>\n",
              "      <td>0</td>\n",
              "      <td>0</td>\n",
              "      <td>0</td>\n",
              "      <td>0</td>\n",
              "      <td>Kai Kara-France</td>\n",
              "      <td>Tyson Nam</td>\n",
              "      <td>1</td>\n",
              "      <td>U-DEC</td>\n",
              "    </tr>\n",
              "    <tr>\n",
              "      <th>545</th>\n",
              "      <td>0</td>\n",
              "      <td>0</td>\n",
              "      <td>53</td>\n",
              "      <td>48</td>\n",
              "      <td>40</td>\n",
              "      <td>38.0</td>\n",
              "      <td>68</td>\n",
              "      <td>70</td>\n",
              "      <td>1</td>\n",
              "      <td>1</td>\n",
              "      <td>100.0</td>\n",
              "      <td>25.0</td>\n",
              "      <td>0</td>\n",
              "      <td>1</td>\n",
              "      <td>0</td>\n",
              "      <td>0</td>\n",
              "      <td>Loma Lookboonmee</td>\n",
              "      <td>Angela Hill</td>\n",
              "      <td>2</td>\n",
              "      <td>U-DEC</td>\n",
              "    </tr>\n",
              "    <tr>\n",
              "      <th>546</th>\n",
              "      <td>1</td>\n",
              "      <td>0</td>\n",
              "      <td>8</td>\n",
              "      <td>5</td>\n",
              "      <td>44</td>\n",
              "      <td>45.0</td>\n",
              "      <td>8</td>\n",
              "      <td>5</td>\n",
              "      <td>0</td>\n",
              "      <td>0</td>\n",
              "      <td>NaN</td>\n",
              "      <td>NaN</td>\n",
              "      <td>0</td>\n",
              "      <td>0</td>\n",
              "      <td>0</td>\n",
              "      <td>0</td>\n",
              "      <td>Priscila Cachoeira</td>\n",
              "      <td>Shana Dobson</td>\n",
              "      <td>1</td>\n",
              "      <td>KO/TKO  Punch</td>\n",
              "    </tr>\n",
              "  </tbody>\n",
              "</table>\n",
              "</div>"
            ],
            "text/plain": [
              "     Fighter 1 KD  Fighter 2 KD  ...  Winner         Method\n",
              "542             1             0  ...       1          U-DEC\n",
              "543             0             1  ...       2  KO/TKO  Punch\n",
              "544             0             0  ...       1          U-DEC\n",
              "545             0             0  ...       2          U-DEC\n",
              "546             1             0  ...       1  KO/TKO  Punch\n",
              "\n",
              "[5 rows x 20 columns]"
            ]
          },
          "metadata": {
            "tags": []
          },
          "execution_count": 97
        }
      ]
    },
    {
      "cell_type": "markdown",
      "metadata": {
        "id": "pCMOvzM0efI4"
      },
      "source": [
        "## Augment dataset by flipping around columns\n",
        "\n",
        "The system should work the same no matter what order we pass in the fighters. Let fighters be A and B. We want\n",
        "\n",
        "winner(fighter1=A, fighter2=B) = winner(fighter1=B, fighter2=A)"
      ]
    },
    {
      "cell_type": "code",
      "metadata": {
        "id": "kM2b_cAif7rM"
      },
      "source": [
        "def create_flipped_table(table):\n",
        "    '''Rearranges columns of table so that each fight has two rows. Let fighters be A and B.\n",
        "       One row has (Fighter 1 = A, Fighter 2 = B). One row has (Fighter 1 = B, Fighter 2 = A)\n",
        "       Ensure same column order, as column names not looked at when passed to ML model'''\n",
        "\n",
        "    # Get columns in flipped order, which moves the columns around, but changes column name order too\n",
        "    flipped_columns = []\n",
        "    for column in table.columns:\n",
        "        if \"1\" in column:\n",
        "          flipped_columns.append(column.replace(\"1\", \"2\"))\n",
        "        elif \"2\" in column:\n",
        "          flipped_columns.append(column.replace(\"2\", \"1\"))\n",
        "        else:\n",
        "          flipped_columns.append(column)\n",
        "    flipped_table = table[flipped_columns]\n",
        "\n",
        "    # Flips winners around\n",
        "    if 'Winner' in flipped_table.columns:\n",
        "       flipped_table['Winner'] = flipped_table['Winner'].replace([1, 2], [2, 1])\n",
        "\n",
        "    # Change column names back to normal\n",
        "    flipped_table.columns = table.columns\n",
        "    return flipped_table"
      ],
      "execution_count": null,
      "outputs": []
    },
    {
      "cell_type": "code",
      "metadata": {
        "id": "KQcGgKW6k-ba"
      },
      "source": [
        "def add_rows_of_flipped_columns(table):\n",
        "    flipped_table = create_flipped_table(table)\n",
        "    new_table = pd.concat([table, flipped_table])\n",
        "    return new_table"
      ],
      "execution_count": null,
      "outputs": []
    },
    {
      "cell_type": "code",
      "metadata": {
        "id": "HnwZdNiplLF3"
      },
      "source": [
        "FULL_FIGHT_TABLE = add_rows_of_flipped_columns(FIGHT_TABLE)"
      ],
      "execution_count": null,
      "outputs": []
    },
    {
      "cell_type": "code",
      "metadata": {
        "colab": {
          "base_uri": "https://localhost:8080/",
          "height": 350
        },
        "id": "PlnOp-fbjknE",
        "outputId": "53dbe4fb-7d35-4075-e49e-632a8b7235a1"
      },
      "source": [
        "FULL_FIGHT_TABLE.head()"
      ],
      "execution_count": null,
      "outputs": [
        {
          "output_type": "execute_result",
          "data": {
            "text/html": [
              "<div>\n",
              "<style scoped>\n",
              "    .dataframe tbody tr th:only-of-type {\n",
              "        vertical-align: middle;\n",
              "    }\n",
              "\n",
              "    .dataframe tbody tr th {\n",
              "        vertical-align: top;\n",
              "    }\n",
              "\n",
              "    .dataframe thead th {\n",
              "        text-align: right;\n",
              "    }\n",
              "</style>\n",
              "<table border=\"1\" class=\"dataframe\">\n",
              "  <thead>\n",
              "    <tr style=\"text-align: right;\">\n",
              "      <th></th>\n",
              "      <th>Fighter 1 KD</th>\n",
              "      <th>Fighter 2 KD</th>\n",
              "      <th>Fighter 1 Sig. str.</th>\n",
              "      <th>Fighter 2 Sig. str.</th>\n",
              "      <th>Fighter 1 Sig. str. %</th>\n",
              "      <th>Fighter 2 Sig. str. %</th>\n",
              "      <th>Fighter 1 Total str.</th>\n",
              "      <th>Fighter 2 Total str.</th>\n",
              "      <th>Fighter 1 Td</th>\n",
              "      <th>Fighter 2 Td</th>\n",
              "      <th>Fighter 1 Td %</th>\n",
              "      <th>Fighter 2 Td %</th>\n",
              "      <th>Fighter 1 Sub. att</th>\n",
              "      <th>Fighter 2 Sub. att</th>\n",
              "      <th>Fighter 1 Rev.</th>\n",
              "      <th>Fighter 2 Rev.</th>\n",
              "      <th>Fighter 1 Name</th>\n",
              "      <th>Fighter 2 Name</th>\n",
              "      <th>Winner</th>\n",
              "      <th>Method</th>\n",
              "    </tr>\n",
              "  </thead>\n",
              "  <tbody>\n",
              "    <tr>\n",
              "      <th>0</th>\n",
              "      <td>0</td>\n",
              "      <td>0</td>\n",
              "      <td>150</td>\n",
              "      <td>62</td>\n",
              "      <td>52.0</td>\n",
              "      <td>29.0</td>\n",
              "      <td>169</td>\n",
              "      <td>70</td>\n",
              "      <td>4</td>\n",
              "      <td>1</td>\n",
              "      <td>57.0</td>\n",
              "      <td>20.0</td>\n",
              "      <td>0</td>\n",
              "      <td>0</td>\n",
              "      <td>0</td>\n",
              "      <td>0</td>\n",
              "      <td>Robert Whittaker</td>\n",
              "      <td>Kelvin Gastelum</td>\n",
              "      <td>1</td>\n",
              "      <td>U-DEC</td>\n",
              "    </tr>\n",
              "    <tr>\n",
              "      <th>1</th>\n",
              "      <td>0</td>\n",
              "      <td>0</td>\n",
              "      <td>105</td>\n",
              "      <td>88</td>\n",
              "      <td>47.0</td>\n",
              "      <td>45.0</td>\n",
              "      <td>109</td>\n",
              "      <td>99</td>\n",
              "      <td>0</td>\n",
              "      <td>0</td>\n",
              "      <td>NaN</td>\n",
              "      <td>NaN</td>\n",
              "      <td>0</td>\n",
              "      <td>0</td>\n",
              "      <td>0</td>\n",
              "      <td>0</td>\n",
              "      <td>Andrei Arlovski</td>\n",
              "      <td>Chase Sherman</td>\n",
              "      <td>1</td>\n",
              "      <td>U-DEC</td>\n",
              "    </tr>\n",
              "    <tr>\n",
              "      <th>2</th>\n",
              "      <td>0</td>\n",
              "      <td>0</td>\n",
              "      <td>21</td>\n",
              "      <td>27</td>\n",
              "      <td>44.0</td>\n",
              "      <td>49.0</td>\n",
              "      <td>32</td>\n",
              "      <td>91</td>\n",
              "      <td>0</td>\n",
              "      <td>8</td>\n",
              "      <td>NaN</td>\n",
              "      <td>33.0</td>\n",
              "      <td>0</td>\n",
              "      <td>2</td>\n",
              "      <td>0</td>\n",
              "      <td>0</td>\n",
              "      <td>Abdul Razak Alhassan</td>\n",
              "      <td>Jacob Malkoun</td>\n",
              "      <td>2</td>\n",
              "      <td>U-DEC</td>\n",
              "    </tr>\n",
              "    <tr>\n",
              "      <th>3</th>\n",
              "      <td>0</td>\n",
              "      <td>1</td>\n",
              "      <td>66</td>\n",
              "      <td>55</td>\n",
              "      <td>58.0</td>\n",
              "      <td>46.0</td>\n",
              "      <td>84</td>\n",
              "      <td>72</td>\n",
              "      <td>3</td>\n",
              "      <td>0</td>\n",
              "      <td>60.0</td>\n",
              "      <td>0.0</td>\n",
              "      <td>1</td>\n",
              "      <td>0</td>\n",
              "      <td>0</td>\n",
              "      <td>0</td>\n",
              "      <td>Tracy Cortez</td>\n",
              "      <td>Justine Kish</td>\n",
              "      <td>1</td>\n",
              "      <td>S-DEC</td>\n",
              "    </tr>\n",
              "    <tr>\n",
              "      <th>4</th>\n",
              "      <td>0</td>\n",
              "      <td>0</td>\n",
              "      <td>90</td>\n",
              "      <td>80</td>\n",
              "      <td>46.0</td>\n",
              "      <td>47.0</td>\n",
              "      <td>90</td>\n",
              "      <td>82</td>\n",
              "      <td>0</td>\n",
              "      <td>4</td>\n",
              "      <td>NaN</td>\n",
              "      <td>44.0</td>\n",
              "      <td>0</td>\n",
              "      <td>0</td>\n",
              "      <td>0</td>\n",
              "      <td>0</td>\n",
              "      <td>Luis Pena</td>\n",
              "      <td>Alexander Munoz</td>\n",
              "      <td>1</td>\n",
              "      <td>S-DEC</td>\n",
              "    </tr>\n",
              "  </tbody>\n",
              "</table>\n",
              "</div>"
            ],
            "text/plain": [
              "   Fighter 1 KD  Fighter 2 KD  ...  Winner  Method\n",
              "0             0             0  ...       1   U-DEC\n",
              "1             0             0  ...       1   U-DEC\n",
              "2             0             0  ...       2   U-DEC\n",
              "3             0             1  ...       1   S-DEC\n",
              "4             0             0  ...       1   S-DEC\n",
              "\n",
              "[5 rows x 20 columns]"
            ]
          },
          "metadata": {
            "tags": []
          },
          "execution_count": 160
        }
      ]
    },
    {
      "cell_type": "markdown",
      "metadata": {
        "id": "gu7-RmZOkP68"
      },
      "source": [
        "## Example of augmented data"
      ]
    },
    {
      "cell_type": "code",
      "metadata": {
        "colab": {
          "base_uri": "https://localhost:8080/",
          "height": 147
        },
        "id": "PHsGqr0_joHn",
        "outputId": "38719594-42aa-4646-eb34-2368c8730c8e"
      },
      "source": [
        "FULL_FIGHT_TABLE[(FULL_FIGHT_TABLE['Fighter 1 Name'] == \"Robert Whittaker\") & (FULL_FIGHT_TABLE['Fighter 2 Name'] == \"Kelvin Gastelum\")]"
      ],
      "execution_count": null,
      "outputs": [
        {
          "output_type": "execute_result",
          "data": {
            "text/html": [
              "<div>\n",
              "<style scoped>\n",
              "    .dataframe tbody tr th:only-of-type {\n",
              "        vertical-align: middle;\n",
              "    }\n",
              "\n",
              "    .dataframe tbody tr th {\n",
              "        vertical-align: top;\n",
              "    }\n",
              "\n",
              "    .dataframe thead th {\n",
              "        text-align: right;\n",
              "    }\n",
              "</style>\n",
              "<table border=\"1\" class=\"dataframe\">\n",
              "  <thead>\n",
              "    <tr style=\"text-align: right;\">\n",
              "      <th></th>\n",
              "      <th>Fighter 1 KD</th>\n",
              "      <th>Fighter 2 KD</th>\n",
              "      <th>Fighter 1 Sig. str.</th>\n",
              "      <th>Fighter 2 Sig. str.</th>\n",
              "      <th>Fighter 1 Sig. str. %</th>\n",
              "      <th>Fighter 2 Sig. str. %</th>\n",
              "      <th>Fighter 1 Total str.</th>\n",
              "      <th>Fighter 2 Total str.</th>\n",
              "      <th>Fighter 1 Td</th>\n",
              "      <th>Fighter 2 Td</th>\n",
              "      <th>Fighter 1 Td %</th>\n",
              "      <th>Fighter 2 Td %</th>\n",
              "      <th>Fighter 1 Sub. att</th>\n",
              "      <th>Fighter 2 Sub. att</th>\n",
              "      <th>Fighter 1 Rev.</th>\n",
              "      <th>Fighter 2 Rev.</th>\n",
              "      <th>Fighter 1 Name</th>\n",
              "      <th>Fighter 2 Name</th>\n",
              "      <th>Winner</th>\n",
              "      <th>Method</th>\n",
              "    </tr>\n",
              "  </thead>\n",
              "  <tbody>\n",
              "    <tr>\n",
              "      <th>0</th>\n",
              "      <td>0</td>\n",
              "      <td>0</td>\n",
              "      <td>150</td>\n",
              "      <td>62</td>\n",
              "      <td>52.0</td>\n",
              "      <td>29.0</td>\n",
              "      <td>169</td>\n",
              "      <td>70</td>\n",
              "      <td>4</td>\n",
              "      <td>1</td>\n",
              "      <td>57.0</td>\n",
              "      <td>20.0</td>\n",
              "      <td>0</td>\n",
              "      <td>0</td>\n",
              "      <td>0</td>\n",
              "      <td>0</td>\n",
              "      <td>Robert Whittaker</td>\n",
              "      <td>Kelvin Gastelum</td>\n",
              "      <td>1</td>\n",
              "      <td>U-DEC</td>\n",
              "    </tr>\n",
              "  </tbody>\n",
              "</table>\n",
              "</div>"
            ],
            "text/plain": [
              "   Fighter 1 KD  Fighter 2 KD  ...  Winner  Method\n",
              "0             0             0  ...       1   U-DEC\n",
              "\n",
              "[1 rows x 20 columns]"
            ]
          },
          "metadata": {
            "tags": []
          },
          "execution_count": 161
        }
      ]
    },
    {
      "cell_type": "code",
      "metadata": {
        "colab": {
          "base_uri": "https://localhost:8080/",
          "height": 147
        },
        "id": "samSx7Olj3vQ",
        "outputId": "a44ba812-a422-4a5a-8846-aa8a80d98fed"
      },
      "source": [
        "FULL_FIGHT_TABLE[(FULL_FIGHT_TABLE['Fighter 2 Name'] == \"Robert Whittaker\") & (FULL_FIGHT_TABLE['Fighter 1 Name'] == \"Kelvin Gastelum\")]"
      ],
      "execution_count": null,
      "outputs": [
        {
          "output_type": "execute_result",
          "data": {
            "text/html": [
              "<div>\n",
              "<style scoped>\n",
              "    .dataframe tbody tr th:only-of-type {\n",
              "        vertical-align: middle;\n",
              "    }\n",
              "\n",
              "    .dataframe tbody tr th {\n",
              "        vertical-align: top;\n",
              "    }\n",
              "\n",
              "    .dataframe thead th {\n",
              "        text-align: right;\n",
              "    }\n",
              "</style>\n",
              "<table border=\"1\" class=\"dataframe\">\n",
              "  <thead>\n",
              "    <tr style=\"text-align: right;\">\n",
              "      <th></th>\n",
              "      <th>Fighter 1 KD</th>\n",
              "      <th>Fighter 2 KD</th>\n",
              "      <th>Fighter 1 Sig. str.</th>\n",
              "      <th>Fighter 2 Sig. str.</th>\n",
              "      <th>Fighter 1 Sig. str. %</th>\n",
              "      <th>Fighter 2 Sig. str. %</th>\n",
              "      <th>Fighter 1 Total str.</th>\n",
              "      <th>Fighter 2 Total str.</th>\n",
              "      <th>Fighter 1 Td</th>\n",
              "      <th>Fighter 2 Td</th>\n",
              "      <th>Fighter 1 Td %</th>\n",
              "      <th>Fighter 2 Td %</th>\n",
              "      <th>Fighter 1 Sub. att</th>\n",
              "      <th>Fighter 2 Sub. att</th>\n",
              "      <th>Fighter 1 Rev.</th>\n",
              "      <th>Fighter 2 Rev.</th>\n",
              "      <th>Fighter 1 Name</th>\n",
              "      <th>Fighter 2 Name</th>\n",
              "      <th>Winner</th>\n",
              "      <th>Method</th>\n",
              "    </tr>\n",
              "  </thead>\n",
              "  <tbody>\n",
              "    <tr>\n",
              "      <th>0</th>\n",
              "      <td>0</td>\n",
              "      <td>0</td>\n",
              "      <td>62</td>\n",
              "      <td>150</td>\n",
              "      <td>29.0</td>\n",
              "      <td>52.0</td>\n",
              "      <td>70</td>\n",
              "      <td>169</td>\n",
              "      <td>1</td>\n",
              "      <td>4</td>\n",
              "      <td>20.0</td>\n",
              "      <td>57.0</td>\n",
              "      <td>0</td>\n",
              "      <td>0</td>\n",
              "      <td>0</td>\n",
              "      <td>0</td>\n",
              "      <td>Kelvin Gastelum</td>\n",
              "      <td>Robert Whittaker</td>\n",
              "      <td>2</td>\n",
              "      <td>U-DEC</td>\n",
              "    </tr>\n",
              "  </tbody>\n",
              "</table>\n",
              "</div>"
            ],
            "text/plain": [
              "   Fighter 1 KD  Fighter 2 KD  ...  Winner  Method\n",
              "0             0             0  ...       2   U-DEC\n",
              "\n",
              "[1 rows x 20 columns]"
            ]
          },
          "metadata": {
            "tags": []
          },
          "execution_count": 162
        }
      ]
    },
    {
      "cell_type": "markdown",
      "metadata": {
        "id": "JwvrHfOCf1mh"
      },
      "source": [
        "## Setup train/validate/test split\n",
        "Can't blindly use full fight table train/validate/test split, because the augmented data must stay together. If in train we know winner(A, B) = A, then we don't want to have winner(B, A) in the validation/test set."
      ]
    },
    {
      "cell_type": "code",
      "metadata": {
        "id": "RIS0yarnbTmj"
      },
      "source": [
        "X = FIGHT_TABLE.drop(['Winner', 'Fighter 1 Name', 'Fighter 2 Name', 'Method'], axis=1).fillna(0)\n",
        "y = FIGHT_TABLE[['Winner']]"
      ],
      "execution_count": null,
      "outputs": []
    },
    {
      "cell_type": "code",
      "metadata": {
        "colab": {
          "base_uri": "https://localhost:8080/",
          "height": 250
        },
        "id": "QxOiDLXHfgDx",
        "outputId": "64a05baf-e4dc-42fa-bad9-21e1fcd36add"
      },
      "source": [
        "X.head()"
      ],
      "execution_count": null,
      "outputs": [
        {
          "output_type": "execute_result",
          "data": {
            "text/html": [
              "<div>\n",
              "<style scoped>\n",
              "    .dataframe tbody tr th:only-of-type {\n",
              "        vertical-align: middle;\n",
              "    }\n",
              "\n",
              "    .dataframe tbody tr th {\n",
              "        vertical-align: top;\n",
              "    }\n",
              "\n",
              "    .dataframe thead th {\n",
              "        text-align: right;\n",
              "    }\n",
              "</style>\n",
              "<table border=\"1\" class=\"dataframe\">\n",
              "  <thead>\n",
              "    <tr style=\"text-align: right;\">\n",
              "      <th></th>\n",
              "      <th>Fighter 1 KD</th>\n",
              "      <th>Fighter 2 KD</th>\n",
              "      <th>Fighter 1 Sig. str.</th>\n",
              "      <th>Fighter 2 Sig. str.</th>\n",
              "      <th>Fighter 1 Sig. str. %</th>\n",
              "      <th>Fighter 2 Sig. str. %</th>\n",
              "      <th>Fighter 1 Total str.</th>\n",
              "      <th>Fighter 2 Total str.</th>\n",
              "      <th>Fighter 1 Td</th>\n",
              "      <th>Fighter 2 Td</th>\n",
              "      <th>Fighter 1 Td %</th>\n",
              "      <th>Fighter 2 Td %</th>\n",
              "      <th>Fighter 1 Sub. att</th>\n",
              "      <th>Fighter 2 Sub. att</th>\n",
              "      <th>Fighter 1 Rev.</th>\n",
              "      <th>Fighter 2 Rev.</th>\n",
              "    </tr>\n",
              "  </thead>\n",
              "  <tbody>\n",
              "    <tr>\n",
              "      <th>0</th>\n",
              "      <td>0</td>\n",
              "      <td>0</td>\n",
              "      <td>150</td>\n",
              "      <td>62</td>\n",
              "      <td>52</td>\n",
              "      <td>29.0</td>\n",
              "      <td>169</td>\n",
              "      <td>70</td>\n",
              "      <td>4</td>\n",
              "      <td>1</td>\n",
              "      <td>57.0</td>\n",
              "      <td>20.0</td>\n",
              "      <td>0</td>\n",
              "      <td>0</td>\n",
              "      <td>0</td>\n",
              "      <td>0</td>\n",
              "    </tr>\n",
              "    <tr>\n",
              "      <th>1</th>\n",
              "      <td>0</td>\n",
              "      <td>0</td>\n",
              "      <td>105</td>\n",
              "      <td>88</td>\n",
              "      <td>47</td>\n",
              "      <td>45.0</td>\n",
              "      <td>109</td>\n",
              "      <td>99</td>\n",
              "      <td>0</td>\n",
              "      <td>0</td>\n",
              "      <td>0.0</td>\n",
              "      <td>0.0</td>\n",
              "      <td>0</td>\n",
              "      <td>0</td>\n",
              "      <td>0</td>\n",
              "      <td>0</td>\n",
              "    </tr>\n",
              "    <tr>\n",
              "      <th>2</th>\n",
              "      <td>0</td>\n",
              "      <td>0</td>\n",
              "      <td>21</td>\n",
              "      <td>27</td>\n",
              "      <td>44</td>\n",
              "      <td>49.0</td>\n",
              "      <td>32</td>\n",
              "      <td>91</td>\n",
              "      <td>0</td>\n",
              "      <td>8</td>\n",
              "      <td>0.0</td>\n",
              "      <td>33.0</td>\n",
              "      <td>0</td>\n",
              "      <td>2</td>\n",
              "      <td>0</td>\n",
              "      <td>0</td>\n",
              "    </tr>\n",
              "    <tr>\n",
              "      <th>3</th>\n",
              "      <td>0</td>\n",
              "      <td>1</td>\n",
              "      <td>66</td>\n",
              "      <td>55</td>\n",
              "      <td>58</td>\n",
              "      <td>46.0</td>\n",
              "      <td>84</td>\n",
              "      <td>72</td>\n",
              "      <td>3</td>\n",
              "      <td>0</td>\n",
              "      <td>60.0</td>\n",
              "      <td>0.0</td>\n",
              "      <td>1</td>\n",
              "      <td>0</td>\n",
              "      <td>0</td>\n",
              "      <td>0</td>\n",
              "    </tr>\n",
              "    <tr>\n",
              "      <th>4</th>\n",
              "      <td>0</td>\n",
              "      <td>0</td>\n",
              "      <td>90</td>\n",
              "      <td>80</td>\n",
              "      <td>46</td>\n",
              "      <td>47.0</td>\n",
              "      <td>90</td>\n",
              "      <td>82</td>\n",
              "      <td>0</td>\n",
              "      <td>4</td>\n",
              "      <td>0.0</td>\n",
              "      <td>44.0</td>\n",
              "      <td>0</td>\n",
              "      <td>0</td>\n",
              "      <td>0</td>\n",
              "      <td>0</td>\n",
              "    </tr>\n",
              "  </tbody>\n",
              "</table>\n",
              "</div>"
            ],
            "text/plain": [
              "   Fighter 1 KD  Fighter 2 KD  ...  Fighter 1 Rev.  Fighter 2 Rev.\n",
              "0             0             0  ...               0               0\n",
              "1             0             0  ...               0               0\n",
              "2             0             0  ...               0               0\n",
              "3             0             1  ...               0               0\n",
              "4             0             0  ...               0               0\n",
              "\n",
              "[5 rows x 16 columns]"
            ]
          },
          "metadata": {
            "tags": []
          },
          "execution_count": 164
        }
      ]
    },
    {
      "cell_type": "code",
      "metadata": {
        "colab": {
          "base_uri": "https://localhost:8080/",
          "height": 196
        },
        "id": "N5qqnw6Efh8K",
        "outputId": "302e3ddb-e28e-49d4-f505-d83da5699628"
      },
      "source": [
        "y.head()"
      ],
      "execution_count": null,
      "outputs": [
        {
          "output_type": "execute_result",
          "data": {
            "text/html": [
              "<div>\n",
              "<style scoped>\n",
              "    .dataframe tbody tr th:only-of-type {\n",
              "        vertical-align: middle;\n",
              "    }\n",
              "\n",
              "    .dataframe tbody tr th {\n",
              "        vertical-align: top;\n",
              "    }\n",
              "\n",
              "    .dataframe thead th {\n",
              "        text-align: right;\n",
              "    }\n",
              "</style>\n",
              "<table border=\"1\" class=\"dataframe\">\n",
              "  <thead>\n",
              "    <tr style=\"text-align: right;\">\n",
              "      <th></th>\n",
              "      <th>Winner</th>\n",
              "    </tr>\n",
              "  </thead>\n",
              "  <tbody>\n",
              "    <tr>\n",
              "      <th>0</th>\n",
              "      <td>1</td>\n",
              "    </tr>\n",
              "    <tr>\n",
              "      <th>1</th>\n",
              "      <td>1</td>\n",
              "    </tr>\n",
              "    <tr>\n",
              "      <th>2</th>\n",
              "      <td>2</td>\n",
              "    </tr>\n",
              "    <tr>\n",
              "      <th>3</th>\n",
              "      <td>1</td>\n",
              "    </tr>\n",
              "    <tr>\n",
              "      <th>4</th>\n",
              "      <td>1</td>\n",
              "    </tr>\n",
              "  </tbody>\n",
              "</table>\n",
              "</div>"
            ],
            "text/plain": [
              "   Winner\n",
              "0       1\n",
              "1       1\n",
              "2       2\n",
              "3       1\n",
              "4       1"
            ]
          },
          "metadata": {
            "tags": []
          },
          "execution_count": 165
        }
      ]
    },
    {
      "cell_type": "code",
      "metadata": {
        "id": "CwlwAWNRcwJ1"
      },
      "source": [
        "X_train, X_test, y_train, y_test = train_test_split(X, y, test_size=0.33, random_state=0)\n",
        "X_train, X_valid, y_train, y_valid = train_test_split(X_train, y_train, test_size=0.33, random_state=0)\n",
        "X_train, y_train = add_rows_of_flipped_columns(X_train), add_rows_of_flipped_columns(y_train)\n",
        "X_valid, y_valid = add_rows_of_flipped_columns(X_valid), add_rows_of_flipped_columns(y_valid)\n",
        "X_test, y_test = add_rows_of_flipped_columns(X_test), add_rows_of_flipped_columns(y_test)"
      ],
      "execution_count": null,
      "outputs": []
    },
    {
      "cell_type": "code",
      "metadata": {
        "id": "aFmWIOydoJXd"
      },
      "source": [
        "# Expect equal number of examples in Fighter 1 as Fighter 2\n",
        "assert(len(X_train[X_train['Fighter 1 KD'] == 1]) == len(X_train[X_train['Fighter 2 KD'] == 1]))\n",
        "assert(len(X_valid[X_valid['Fighter 1 KD'] == 1]) == len(X_valid[X_valid['Fighter 2 KD'] == 1]))\n",
        "assert(len(X_test[X_test['Fighter 1 KD'] == 1]) == len(X_test[X_test['Fighter 2 KD'] == 1]))\n",
        "\n",
        "assert(len(y_train[y_train['Winner'] == 1]) == len(y_train[y_train['Winner'] == 2]))\n",
        "assert(len(y_valid[y_valid['Winner'] == 1]) == len(y_valid[y_valid['Winner'] == 2]))\n",
        "assert(len(y_test[y_test['Winner'] == 1]) == len(y_test[y_test['Winner'] == 2]))"
      ],
      "execution_count": null,
      "outputs": []
    },
    {
      "cell_type": "code",
      "metadata": {
        "colab": {
          "base_uri": "https://localhost:8080/",
          "height": 250
        },
        "id": "jekwTdNAk3rE",
        "outputId": "e93947c2-b1e7-49a0-ac90-127b9f82a841"
      },
      "source": [
        "X_train.head()"
      ],
      "execution_count": null,
      "outputs": [
        {
          "output_type": "execute_result",
          "data": {
            "text/html": [
              "<div>\n",
              "<style scoped>\n",
              "    .dataframe tbody tr th:only-of-type {\n",
              "        vertical-align: middle;\n",
              "    }\n",
              "\n",
              "    .dataframe tbody tr th {\n",
              "        vertical-align: top;\n",
              "    }\n",
              "\n",
              "    .dataframe thead th {\n",
              "        text-align: right;\n",
              "    }\n",
              "</style>\n",
              "<table border=\"1\" class=\"dataframe\">\n",
              "  <thead>\n",
              "    <tr style=\"text-align: right;\">\n",
              "      <th></th>\n",
              "      <th>Fighter 1 KD</th>\n",
              "      <th>Fighter 2 KD</th>\n",
              "      <th>Fighter 1 Sig. str.</th>\n",
              "      <th>Fighter 2 Sig. str.</th>\n",
              "      <th>Fighter 1 Sig. str. %</th>\n",
              "      <th>Fighter 2 Sig. str. %</th>\n",
              "      <th>Fighter 1 Total str.</th>\n",
              "      <th>Fighter 2 Total str.</th>\n",
              "      <th>Fighter 1 Td</th>\n",
              "      <th>Fighter 2 Td</th>\n",
              "      <th>Fighter 1 Td %</th>\n",
              "      <th>Fighter 2 Td %</th>\n",
              "      <th>Fighter 1 Sub. att</th>\n",
              "      <th>Fighter 2 Sub. att</th>\n",
              "      <th>Fighter 1 Rev.</th>\n",
              "      <th>Fighter 2 Rev.</th>\n",
              "    </tr>\n",
              "  </thead>\n",
              "  <tbody>\n",
              "    <tr>\n",
              "      <th>215</th>\n",
              "      <td>0</td>\n",
              "      <td>0</td>\n",
              "      <td>32</td>\n",
              "      <td>36</td>\n",
              "      <td>44.0</td>\n",
              "      <td>46.0</td>\n",
              "      <td>120</td>\n",
              "      <td>48</td>\n",
              "      <td>7</td>\n",
              "      <td>0</td>\n",
              "      <td>33.0</td>\n",
              "      <td>0.0</td>\n",
              "      <td>1</td>\n",
              "      <td>0</td>\n",
              "      <td>0</td>\n",
              "      <td>0</td>\n",
              "    </tr>\n",
              "    <tr>\n",
              "      <th>206</th>\n",
              "      <td>0</td>\n",
              "      <td>0</td>\n",
              "      <td>176</td>\n",
              "      <td>124</td>\n",
              "      <td>54.0</td>\n",
              "      <td>53.0</td>\n",
              "      <td>208</td>\n",
              "      <td>133</td>\n",
              "      <td>3</td>\n",
              "      <td>0</td>\n",
              "      <td>100.0</td>\n",
              "      <td>0.0</td>\n",
              "      <td>0</td>\n",
              "      <td>0</td>\n",
              "      <td>0</td>\n",
              "      <td>0</td>\n",
              "    </tr>\n",
              "    <tr>\n",
              "      <th>201</th>\n",
              "      <td>0</td>\n",
              "      <td>0</td>\n",
              "      <td>26</td>\n",
              "      <td>33</td>\n",
              "      <td>61.0</td>\n",
              "      <td>64.0</td>\n",
              "      <td>151</td>\n",
              "      <td>87</td>\n",
              "      <td>2</td>\n",
              "      <td>0</td>\n",
              "      <td>50.0</td>\n",
              "      <td>0.0</td>\n",
              "      <td>3</td>\n",
              "      <td>0</td>\n",
              "      <td>0</td>\n",
              "      <td>1</td>\n",
              "    </tr>\n",
              "    <tr>\n",
              "      <th>476</th>\n",
              "      <td>1</td>\n",
              "      <td>0</td>\n",
              "      <td>61</td>\n",
              "      <td>34</td>\n",
              "      <td>45.0</td>\n",
              "      <td>36.0</td>\n",
              "      <td>61</td>\n",
              "      <td>35</td>\n",
              "      <td>1</td>\n",
              "      <td>0</td>\n",
              "      <td>100.0</td>\n",
              "      <td>0.0</td>\n",
              "      <td>0</td>\n",
              "      <td>0</td>\n",
              "      <td>0</td>\n",
              "      <td>0</td>\n",
              "    </tr>\n",
              "    <tr>\n",
              "      <th>189</th>\n",
              "      <td>0</td>\n",
              "      <td>0</td>\n",
              "      <td>64</td>\n",
              "      <td>128</td>\n",
              "      <td>39.0</td>\n",
              "      <td>66.0</td>\n",
              "      <td>69</td>\n",
              "      <td>143</td>\n",
              "      <td>1</td>\n",
              "      <td>0</td>\n",
              "      <td>20.0</td>\n",
              "      <td>0.0</td>\n",
              "      <td>2</td>\n",
              "      <td>0</td>\n",
              "      <td>0</td>\n",
              "      <td>1</td>\n",
              "    </tr>\n",
              "  </tbody>\n",
              "</table>\n",
              "</div>"
            ],
            "text/plain": [
              "     Fighter 1 KD  Fighter 2 KD  ...  Fighter 1 Rev.  Fighter 2 Rev.\n",
              "215             0             0  ...               0               0\n",
              "206             0             0  ...               0               0\n",
              "201             0             0  ...               0               1\n",
              "476             1             0  ...               0               0\n",
              "189             0             0  ...               0               1\n",
              "\n",
              "[5 rows x 16 columns]"
            ]
          },
          "metadata": {
            "tags": []
          },
          "execution_count": 208
        }
      ]
    },
    {
      "cell_type": "code",
      "metadata": {
        "colab": {
          "base_uri": "https://localhost:8080/",
          "height": 196
        },
        "id": "BUeeqFtHpZQw",
        "outputId": "d7891084-8a28-434c-9cd4-0920b6aa6790"
      },
      "source": [
        "y_train.head()"
      ],
      "execution_count": null,
      "outputs": [
        {
          "output_type": "execute_result",
          "data": {
            "text/html": [
              "<div>\n",
              "<style scoped>\n",
              "    .dataframe tbody tr th:only-of-type {\n",
              "        vertical-align: middle;\n",
              "    }\n",
              "\n",
              "    .dataframe tbody tr th {\n",
              "        vertical-align: top;\n",
              "    }\n",
              "\n",
              "    .dataframe thead th {\n",
              "        text-align: right;\n",
              "    }\n",
              "</style>\n",
              "<table border=\"1\" class=\"dataframe\">\n",
              "  <thead>\n",
              "    <tr style=\"text-align: right;\">\n",
              "      <th></th>\n",
              "      <th>Winner</th>\n",
              "    </tr>\n",
              "  </thead>\n",
              "  <tbody>\n",
              "    <tr>\n",
              "      <th>215</th>\n",
              "      <td>1</td>\n",
              "    </tr>\n",
              "    <tr>\n",
              "      <th>206</th>\n",
              "      <td>1</td>\n",
              "    </tr>\n",
              "    <tr>\n",
              "      <th>201</th>\n",
              "      <td>1</td>\n",
              "    </tr>\n",
              "    <tr>\n",
              "      <th>476</th>\n",
              "      <td>1</td>\n",
              "    </tr>\n",
              "    <tr>\n",
              "      <th>189</th>\n",
              "      <td>2</td>\n",
              "    </tr>\n",
              "  </tbody>\n",
              "</table>\n",
              "</div>"
            ],
            "text/plain": [
              "     Winner\n",
              "215       1\n",
              "206       1\n",
              "201       1\n",
              "476       1\n",
              "189       2"
            ]
          },
          "metadata": {
            "tags": []
          },
          "execution_count": 214
        }
      ]
    },
    {
      "cell_type": "code",
      "metadata": {
        "colab": {
          "base_uri": "https://localhost:8080/"
        },
        "id": "75PnIBkYpabr",
        "outputId": "e03c66c1-cbe8-4a28-8b0d-b3894f445a48"
      },
      "source": [
        "print(f\"X_train.shape = {X_train.shape}\")\n",
        "print(f\"X_valid.shape = {X_valid.shape}\")\n",
        "print(f\"X_test.shape = {X_test.shape}\")\n",
        "print(f\"y_train.shape = {y_train.shape}\")\n",
        "print(f\"y_valid.shape = {y_valid.shape}\")\n",
        "print(f\"y_test.shape = {y_test.shape}\")"
      ],
      "execution_count": null,
      "outputs": [
        {
          "output_type": "stream",
          "text": [
            "X_train.shape = (490, 16)\n",
            "X_valid.shape = (242, 16)\n",
            "X_test.shape = (362, 16)\n",
            "y_train.shape = (490, 1)\n",
            "y_valid.shape = (242, 1)\n",
            "y_test.shape = (362, 1)\n"
          ],
          "name": "stdout"
        }
      ]
    },
    {
      "cell_type": "markdown",
      "metadata": {
        "id": "ARUH8kxCbJpG"
      },
      "source": [
        "## ML Models"
      ]
    },
    {
      "cell_type": "code",
      "metadata": {
        "id": "0_v4cnEFbKp3"
      },
      "source": [
        "from sklearn.ensemble import RandomForestClassifier\n",
        "from sklearn.model_selection import train_test_split"
      ],
      "execution_count": null,
      "outputs": []
    },
    {
      "cell_type": "code",
      "metadata": {
        "colab": {
          "base_uri": "https://localhost:8080/"
        },
        "id": "6gOrDS8AbPqM",
        "outputId": "ccf6f947-b1fa-4bb3-e271-eb2e8fe8fb3d"
      },
      "source": [
        "# Train\n",
        "clf = RandomForestClassifier(max_depth=5, random_state=0)\n",
        "clf.fit(X_train, y_train)"
      ],
      "execution_count": null,
      "outputs": [
        {
          "output_type": "stream",
          "text": [
            "/usr/local/lib/python3.7/dist-packages/ipykernel_launcher.py:3: DataConversionWarning: A column-vector y was passed when a 1d array was expected. Please change the shape of y to (n_samples,), for example using ravel().\n",
            "  This is separate from the ipykernel package so we can avoid doing imports until\n"
          ],
          "name": "stderr"
        },
        {
          "output_type": "execute_result",
          "data": {
            "text/plain": [
              "RandomForestClassifier(bootstrap=True, ccp_alpha=0.0, class_weight=None,\n",
              "                       criterion='gini', max_depth=5, max_features='auto',\n",
              "                       max_leaf_nodes=None, max_samples=None,\n",
              "                       min_impurity_decrease=0.0, min_impurity_split=None,\n",
              "                       min_samples_leaf=1, min_samples_split=2,\n",
              "                       min_weight_fraction_leaf=0.0, n_estimators=100,\n",
              "                       n_jobs=None, oob_score=False, random_state=0, verbose=0,\n",
              "                       warm_start=False)"
            ]
          },
          "metadata": {
            "tags": []
          },
          "execution_count": 216
        }
      ]
    },
    {
      "cell_type": "code",
      "metadata": {
        "colab": {
          "base_uri": "https://localhost:8080/"
        },
        "id": "TaZedwTBcZ6S",
        "outputId": "d9f0c10f-d6df-41c9-9e12-ff615c634f31"
      },
      "source": [
        "# Validate\n",
        "accuracy_train = clf.score(X_train, y_train)\n",
        "accuracy_valid = clf.score(X_valid, y_valid)\n",
        "print(f\"accuracy_train = {accuracy_train}\")\n",
        "print(f\"accuracy_valid = {accuracy_valid}\")"
      ],
      "execution_count": null,
      "outputs": [
        {
          "output_type": "stream",
          "text": [
            "accuracy_train = 0.9408163265306122\n",
            "accuracy_valid = 0.8181818181818182\n"
          ],
          "name": "stdout"
        }
      ]
    },
    {
      "cell_type": "code",
      "metadata": {
        "id": "7mAi-E0sqUot"
      },
      "source": [
        "import matplotlib.pyplot as plt"
      ],
      "execution_count": null,
      "outputs": []
    },
    {
      "cell_type": "code",
      "metadata": {
        "colab": {
          "base_uri": "https://localhost:8080/",
          "height": 282
        },
        "id": "dn1Njq7ecfAT",
        "outputId": "e4e63105-ccd5-4b0d-a53a-1aa37e62b28a"
      },
      "source": [
        "# Visualize importances\n",
        "plt.barh(X_train.columns, clf.feature_importances_)"
      ],
      "execution_count": null,
      "outputs": [
        {
          "output_type": "execute_result",
          "data": {
            "text/plain": [
              "<BarContainer object of 16 artists>"
            ]
          },
          "metadata": {
            "tags": []
          },
          "execution_count": 221
        },
        {
          "output_type": "display_data",
          "data": {
            "image/png": "[encoded data removed]",
            "text/plain": [
              "<Figure size 432x288 with 1 Axes>"
            ]
          },
          "metadata": {
            "tags": [],
            "needs_background": "light"
          }
        }
      ]
    },
    {
      "cell_type": "code",
      "metadata": {
        "colab": {
          "base_uri": "https://localhost:8080/"
        },
        "id": "GifEEZiTq2yL",
        "outputId": "6a6f56b3-bdba-4f51-f664-df7df65dceaa"
      },
      "source": [
        "# MLP\n",
        "from sklearn.neural_network import MLPClassifier\n",
        "\n",
        "clf = MLPClassifier(random_state=1, max_iter=300).fit(X_train, y_train)\n",
        "accuracy_train = clf.score(X_train, y_train)\n",
        "accuracy_valid = clf.score(X_valid, y_valid)\n",
        "print(f\"accuracy_train = {accuracy_train}\")\n",
        "print(f\"accuracy_valid = {accuracy_valid}\")"
      ],
      "execution_count": null,
      "outputs": [
        {
          "output_type": "stream",
          "text": [
            "/usr/local/lib/python3.7/dist-packages/sklearn/neural_network/_multilayer_perceptron.py:934: DataConversionWarning: A column-vector y was passed when a 1d array was expected. Please change the shape of y to (n_samples, ), for example using ravel().\n",
            "  y = column_or_1d(y, warn=True)\n"
          ],
          "name": "stderr"
        },
        {
          "output_type": "stream",
          "text": [
            "accuracy_train = 0.9244897959183673\n",
            "accuracy_valid = 0.8223140495867769\n"
          ],
          "name": "stdout"
        }
      ]
    },
    {
      "cell_type": "code",
      "metadata": {
        "colab": {
          "base_uri": "https://localhost:8080/"
        },
        "id": "r6tiCNo3rEE0",
        "outputId": "128f8bc8-30b0-4cde-fd22-809dd1078c37"
      },
      "source": [
        "# SVM\n",
        "from sklearn.svm import SVC\n",
        "\n",
        "clf = SVC(random_state=1).fit(X_train, y_train)\n",
        "accuracy_train = clf.score(X_train, y_train)\n",
        "accuracy_valid = clf.score(X_valid, y_valid)\n",
        "print(f\"accuracy_train = {accuracy_train}\")\n",
        "print(f\"accuracy_valid = {accuracy_valid}\")"
      ],
      "execution_count": null,
      "outputs": [
        {
          "output_type": "stream",
          "text": [
            "accuracy_train = 0.8163265306122449\n",
            "accuracy_valid = 0.7768595041322314\n"
          ],
          "name": "stdout"
        },
        {
          "output_type": "stream",
          "text": [
            "/usr/local/lib/python3.7/dist-packages/sklearn/utils/validation.py:760: DataConversionWarning: A column-vector y was passed when a 1d array was expected. Please change the shape of y to (n_samples, ), for example using ravel().\n",
            "  y = column_or_1d(y, warn=True)\n"
          ],
          "name": "stderr"
        }
      ]
    },
    {
      "cell_type": "code",
      "metadata": {
        "colab": {
          "base_uri": "https://localhost:8080/",
          "height": 121
        },
        "id": "KNxPPw2DrbpW",
        "outputId": "16bf9053-5b88-4a2c-bf8f-290e8c96c42e"
      },
      "source": [
        "# FFN\n",
        "import tensorflow as tf\n",
        "\n",
        "model = tf.keras.models.Sequential()\n",
        "model.add(tf.keras.Input(shape=X_train.shape[1:]))\n",
        "model.add(tf.keras.layers.Dense(32, activation='relu'))\n",
        "model.add(tf.keras.layers.Dense(32, activation='relu'))\n",
        "model.add(tf.keras.layers.Dense(1, activation='sigmoid'))\n",
        "\n",
        "model.compile(optimizer='adam', loss='binary_crossentropy', metrics=['accuracy'])\n",
        "tf.keras.utils.plot_model(model, show_shapes=True, rankdir=\"LR\")"
      ],
      "execution_count": null,
      "outputs": [
        {
          "output_type": "execute_result",
          "data": {
            "image/png": "[encoded data removed]",
            "text/plain": [
              "<IPython.core.display.Image object>"
            ]
          },
          "metadata": {
            "tags": []
          },
          "execution_count": 242
        }
      ]
    },
    {
      "cell_type": "code",
      "metadata": {
        "id": "DwFMJwCis4L5"
      },
      "source": [
        "# Need to output 0 or 1, not 1 or 2\n",
        "y_train -= 1\n",
        "y_valid -= 1\n",
        "y_test -= 1"
      ],
      "execution_count": null,
      "outputs": []
    },
    {
      "cell_type": "code",
      "metadata": {
        "colab": {
          "base_uri": "https://localhost:8080/",
          "height": 404
        },
        "id": "EswzJOLRtHuV",
        "outputId": "4ae79d64-1232-4bd2-f982-7a955993d8c4"
      },
      "source": [
        "y_train"
      ],
      "execution_count": null,
      "outputs": [
        {
          "output_type": "execute_result",
          "data": {
            "text/html": [
              "<div>\n",
              "<style scoped>\n",
              "    .dataframe tbody tr th:only-of-type {\n",
              "        vertical-align: middle;\n",
              "    }\n",
              "\n",
              "    .dataframe tbody tr th {\n",
              "        vertical-align: top;\n",
              "    }\n",
              "\n",
              "    .dataframe thead th {\n",
              "        text-align: right;\n",
              "    }\n",
              "</style>\n",
              "<table border=\"1\" class=\"dataframe\">\n",
              "  <thead>\n",
              "    <tr style=\"text-align: right;\">\n",
              "      <th></th>\n",
              "      <th>Winner</th>\n",
              "    </tr>\n",
              "  </thead>\n",
              "  <tbody>\n",
              "    <tr>\n",
              "      <th>215</th>\n",
              "      <td>0</td>\n",
              "    </tr>\n",
              "    <tr>\n",
              "      <th>206</th>\n",
              "      <td>0</td>\n",
              "    </tr>\n",
              "    <tr>\n",
              "      <th>201</th>\n",
              "      <td>0</td>\n",
              "    </tr>\n",
              "    <tr>\n",
              "      <th>476</th>\n",
              "      <td>0</td>\n",
              "    </tr>\n",
              "    <tr>\n",
              "      <th>189</th>\n",
              "      <td>1</td>\n",
              "    </tr>\n",
              "    <tr>\n",
              "      <th>...</th>\n",
              "      <td>...</td>\n",
              "    </tr>\n",
              "    <tr>\n",
              "      <th>57</th>\n",
              "      <td>1</td>\n",
              "    </tr>\n",
              "    <tr>\n",
              "      <th>16</th>\n",
              "      <td>0</td>\n",
              "    </tr>\n",
              "    <tr>\n",
              "      <th>33</th>\n",
              "      <td>1</td>\n",
              "    </tr>\n",
              "    <tr>\n",
              "      <th>516</th>\n",
              "      <td>1</td>\n",
              "    </tr>\n",
              "    <tr>\n",
              "      <th>274</th>\n",
              "      <td>1</td>\n",
              "    </tr>\n",
              "  </tbody>\n",
              "</table>\n",
              "<p>490 rows × 1 columns</p>\n",
              "</div>"
            ],
            "text/plain": [
              "     Winner\n",
              "215       0\n",
              "206       0\n",
              "201       0\n",
              "476       0\n",
              "189       1\n",
              "..      ...\n",
              "57        1\n",
              "16        0\n",
              "33        1\n",
              "516       1\n",
              "274       1\n",
              "\n",
              "[490 rows x 1 columns]"
            ]
          },
          "metadata": {
            "tags": []
          },
          "execution_count": 243
        }
      ]
    },
    {
      "cell_type": "code",
      "metadata": {
        "colab": {
          "base_uri": "https://localhost:8080/"
        },
        "id": "Wo9gE7_HtQhl",
        "outputId": "60cd0514-fef4-41ad-ccd5-6450990dff57"
      },
      "source": [
        "model.fit(X_train, y_train, epochs=100, validation_data=(X_valid, y_valid))"
      ],
      "execution_count": null,
      "outputs": [
        {
          "output_type": "stream",
          "text": [
            "Epoch 1/100\n",
            "16/16 [==============================] - 1s 16ms/step - loss: 4.7754 - accuracy: 0.3104 - val_loss: 1.5486 - val_accuracy: 0.5372\n",
            "Epoch 2/100\n",
            "16/16 [==============================] - 0s 5ms/step - loss: 1.4525 - accuracy: 0.5995 - val_loss: 0.7687 - val_accuracy: 0.7397\n",
            "Epoch 3/100\n",
            "16/16 [==============================] - 0s 5ms/step - loss: 0.8487 - accuracy: 0.6886 - val_loss: 0.6083 - val_accuracy: 0.7397\n",
            "Epoch 4/100\n",
            "16/16 [==============================] - 0s 5ms/step - loss: 0.7073 - accuracy: 0.6884 - val_loss: 0.5950 - val_accuracy: 0.7521\n",
            "Epoch 5/100\n",
            "16/16 [==============================] - 0s 5ms/step - loss: 0.5982 - accuracy: 0.7342 - val_loss: 0.5522 - val_accuracy: 0.7479\n",
            "Epoch 6/100\n",
            "16/16 [==============================] - 0s 5ms/step - loss: 0.6030 - accuracy: 0.7168 - val_loss: 0.5063 - val_accuracy: 0.7810\n",
            "Epoch 7/100\n",
            "16/16 [==============================] - 0s 5ms/step - loss: 0.4748 - accuracy: 0.7632 - val_loss: 0.4650 - val_accuracy: 0.8388\n",
            "Epoch 8/100\n",
            "16/16 [==============================] - 0s 5ms/step - loss: 0.4347 - accuracy: 0.7954 - val_loss: 0.4671 - val_accuracy: 0.8140\n",
            "Epoch 9/100\n",
            "16/16 [==============================] - 0s 5ms/step - loss: 0.5089 - accuracy: 0.7903 - val_loss: 0.4387 - val_accuracy: 0.8264\n",
            "Epoch 10/100\n",
            "16/16 [==============================] - 0s 5ms/step - loss: 0.3877 - accuracy: 0.7860 - val_loss: 0.4320 - val_accuracy: 0.8306\n",
            "Epoch 11/100\n",
            "16/16 [==============================] - 0s 4ms/step - loss: 0.4105 - accuracy: 0.8062 - val_loss: 0.4666 - val_accuracy: 0.7769\n",
            "Epoch 12/100\n",
            "16/16 [==============================] - 0s 5ms/step - loss: 0.4096 - accuracy: 0.7776 - val_loss: 0.4240 - val_accuracy: 0.8223\n",
            "Epoch 13/100\n",
            "16/16 [==============================] - 0s 4ms/step - loss: 0.3128 - accuracy: 0.8279 - val_loss: 0.4331 - val_accuracy: 0.8140\n",
            "Epoch 14/100\n",
            "16/16 [==============================] - 0s 5ms/step - loss: 0.3434 - accuracy: 0.8473 - val_loss: 0.4950 - val_accuracy: 0.7479\n",
            "Epoch 15/100\n",
            "16/16 [==============================] - 0s 5ms/step - loss: 0.3298 - accuracy: 0.8375 - val_loss: 0.4358 - val_accuracy: 0.8058\n",
            "Epoch 16/100\n",
            "16/16 [==============================] - 0s 5ms/step - loss: 0.3185 - accuracy: 0.8277 - val_loss: 0.4238 - val_accuracy: 0.8140\n",
            "Epoch 17/100\n",
            "16/16 [==============================] - 0s 5ms/step - loss: 0.3773 - accuracy: 0.8351 - val_loss: 0.4444 - val_accuracy: 0.7975\n",
            "Epoch 18/100\n",
            "16/16 [==============================] - 0s 4ms/step - loss: 0.3135 - accuracy: 0.8495 - val_loss: 0.4217 - val_accuracy: 0.8223\n",
            "Epoch 19/100\n",
            "16/16 [==============================] - 0s 5ms/step - loss: 0.3454 - accuracy: 0.8118 - val_loss: 0.5039 - val_accuracy: 0.7603\n",
            "Epoch 20/100\n",
            "16/16 [==============================] - 0s 5ms/step - loss: 0.3265 - accuracy: 0.7952 - val_loss: 0.4150 - val_accuracy: 0.8182\n",
            "Epoch 21/100\n",
            "16/16 [==============================] - 0s 5ms/step - loss: 0.2816 - accuracy: 0.8311 - val_loss: 0.4142 - val_accuracy: 0.8099\n",
            "Epoch 22/100\n",
            "16/16 [==============================] - 0s 5ms/step - loss: 0.2747 - accuracy: 0.8591 - val_loss: 0.4160 - val_accuracy: 0.8182\n",
            "Epoch 23/100\n",
            "16/16 [==============================] - 0s 5ms/step - loss: 0.3493 - accuracy: 0.8104 - val_loss: 0.4170 - val_accuracy: 0.8140\n",
            "Epoch 24/100\n",
            "16/16 [==============================] - 0s 4ms/step - loss: 0.3486 - accuracy: 0.7987 - val_loss: 0.4410 - val_accuracy: 0.8017\n",
            "Epoch 25/100\n",
            "16/16 [==============================] - 0s 4ms/step - loss: 0.3212 - accuracy: 0.8623 - val_loss: 0.4390 - val_accuracy: 0.7893\n",
            "Epoch 26/100\n",
            "16/16 [==============================] - 0s 5ms/step - loss: 0.2867 - accuracy: 0.8446 - val_loss: 0.4307 - val_accuracy: 0.7934\n",
            "Epoch 27/100\n",
            "16/16 [==============================] - 0s 5ms/step - loss: 0.2684 - accuracy: 0.8580 - val_loss: 0.4255 - val_accuracy: 0.8058\n",
            "Epoch 28/100\n",
            "16/16 [==============================] - 0s 5ms/step - loss: 0.3346 - accuracy: 0.8491 - val_loss: 0.4376 - val_accuracy: 0.7893\n",
            "Epoch 29/100\n",
            "16/16 [==============================] - 0s 5ms/step - loss: 0.2602 - accuracy: 0.8406 - val_loss: 0.4199 - val_accuracy: 0.7934\n",
            "Epoch 30/100\n",
            "16/16 [==============================] - 0s 5ms/step - loss: 0.2983 - accuracy: 0.8631 - val_loss: 0.4770 - val_accuracy: 0.7645\n",
            "Epoch 31/100\n",
            "16/16 [==============================] - 0s 5ms/step - loss: 0.2889 - accuracy: 0.8477 - val_loss: 0.4382 - val_accuracy: 0.7934\n",
            "Epoch 32/100\n",
            "16/16 [==============================] - 0s 5ms/step - loss: 0.2417 - accuracy: 0.8469 - val_loss: 0.4411 - val_accuracy: 0.7893\n",
            "Epoch 33/100\n",
            "16/16 [==============================] - 0s 5ms/step - loss: 0.3172 - accuracy: 0.8447 - val_loss: 0.4423 - val_accuracy: 0.7810\n",
            "Epoch 34/100\n",
            "16/16 [==============================] - 0s 5ms/step - loss: 0.2350 - accuracy: 0.8473 - val_loss: 0.3953 - val_accuracy: 0.8182\n",
            "Epoch 35/100\n",
            "16/16 [==============================] - 0s 5ms/step - loss: 0.2637 - accuracy: 0.8760 - val_loss: 0.4169 - val_accuracy: 0.8058\n",
            "Epoch 36/100\n",
            "16/16 [==============================] - 0s 5ms/step - loss: 0.2922 - accuracy: 0.8428 - val_loss: 0.4047 - val_accuracy: 0.7934\n",
            "Epoch 37/100\n",
            "16/16 [==============================] - 0s 5ms/step - loss: 0.2304 - accuracy: 0.8712 - val_loss: 0.3990 - val_accuracy: 0.8140\n",
            "Epoch 38/100\n",
            "16/16 [==============================] - 0s 5ms/step - loss: 0.2389 - accuracy: 0.8897 - val_loss: 0.4159 - val_accuracy: 0.8017\n",
            "Epoch 39/100\n",
            "16/16 [==============================] - 0s 5ms/step - loss: 0.1975 - accuracy: 0.8770 - val_loss: 0.4095 - val_accuracy: 0.8140\n",
            "Epoch 40/100\n",
            "16/16 [==============================] - 0s 5ms/step - loss: 0.2211 - accuracy: 0.8794 - val_loss: 0.3995 - val_accuracy: 0.8140\n",
            "Epoch 41/100\n",
            "16/16 [==============================] - 0s 5ms/step - loss: 0.2872 - accuracy: 0.8590 - val_loss: 0.4231 - val_accuracy: 0.7851\n",
            "Epoch 42/100\n",
            "16/16 [==============================] - 0s 5ms/step - loss: 0.2707 - accuracy: 0.8861 - val_loss: 0.4234 - val_accuracy: 0.7934\n",
            "Epoch 43/100\n",
            "16/16 [==============================] - 0s 5ms/step - loss: 0.2908 - accuracy: 0.8730 - val_loss: 0.4818 - val_accuracy: 0.7727\n",
            "Epoch 44/100\n",
            "16/16 [==============================] - 0s 5ms/step - loss: 0.2871 - accuracy: 0.8524 - val_loss: 0.4836 - val_accuracy: 0.7727\n",
            "Epoch 45/100\n",
            "16/16 [==============================] - 0s 5ms/step - loss: 0.3074 - accuracy: 0.8589 - val_loss: 0.4583 - val_accuracy: 0.7851\n",
            "Epoch 46/100\n",
            "16/16 [==============================] - 0s 5ms/step - loss: 0.2865 - accuracy: 0.8545 - val_loss: 0.4189 - val_accuracy: 0.7975\n",
            "Epoch 47/100\n",
            "16/16 [==============================] - 0s 5ms/step - loss: 0.2049 - accuracy: 0.8729 - val_loss: 0.3941 - val_accuracy: 0.8306\n",
            "Epoch 48/100\n",
            "16/16 [==============================] - 0s 5ms/step - loss: 0.2052 - accuracy: 0.8596 - val_loss: 0.4131 - val_accuracy: 0.7934\n",
            "Epoch 49/100\n",
            "16/16 [==============================] - 0s 5ms/step - loss: 0.0942 - accuracy: 0.8927 - val_loss: 0.4134 - val_accuracy: 0.7975\n",
            "Epoch 50/100\n",
            "16/16 [==============================] - 0s 5ms/step - loss: 0.2105 - accuracy: 0.9191 - val_loss: 0.4054 - val_accuracy: 0.8099\n",
            "Epoch 51/100\n",
            "16/16 [==============================] - 0s 5ms/step - loss: 0.1936 - accuracy: 0.8771 - val_loss: 0.4089 - val_accuracy: 0.8223\n",
            "Epoch 52/100\n",
            "16/16 [==============================] - 0s 5ms/step - loss: 0.1917 - accuracy: 0.8828 - val_loss: 0.4073 - val_accuracy: 0.8306\n",
            "Epoch 53/100\n",
            "16/16 [==============================] - 0s 5ms/step - loss: 0.1292 - accuracy: 0.8781 - val_loss: 0.4157 - val_accuracy: 0.8058\n",
            "Epoch 54/100\n",
            "16/16 [==============================] - 0s 5ms/step - loss: 0.2439 - accuracy: 0.8816 - val_loss: 0.4222 - val_accuracy: 0.7934\n",
            "Epoch 55/100\n",
            "16/16 [==============================] - 0s 5ms/step - loss: 0.1680 - accuracy: 0.9142 - val_loss: 0.4244 - val_accuracy: 0.7934\n",
            "Epoch 56/100\n",
            "16/16 [==============================] - 0s 5ms/step - loss: 0.1530 - accuracy: 0.8689 - val_loss: 0.4617 - val_accuracy: 0.7686\n",
            "Epoch 57/100\n",
            "16/16 [==============================] - 0s 5ms/step - loss: 0.2210 - accuracy: 0.8793 - val_loss: 0.5482 - val_accuracy: 0.7686\n",
            "Epoch 58/100\n",
            "16/16 [==============================] - 0s 5ms/step - loss: 0.2600 - accuracy: 0.8044 - val_loss: 0.4038 - val_accuracy: 0.8264\n",
            "Epoch 59/100\n",
            "16/16 [==============================] - 0s 5ms/step - loss: 0.1822 - accuracy: 0.8775 - val_loss: 0.4424 - val_accuracy: 0.8140\n",
            "Epoch 60/100\n",
            "16/16 [==============================] - 0s 5ms/step - loss: 0.1917 - accuracy: 0.8494 - val_loss: 0.4810 - val_accuracy: 0.8099\n",
            "Epoch 61/100\n",
            "16/16 [==============================] - 0s 5ms/step - loss: 0.2422 - accuracy: 0.8634 - val_loss: 0.4412 - val_accuracy: 0.7810\n",
            "Epoch 62/100\n",
            "16/16 [==============================] - 0s 5ms/step - loss: 0.1912 - accuracy: 0.9091 - val_loss: 0.5022 - val_accuracy: 0.7521\n",
            "Epoch 63/100\n",
            "16/16 [==============================] - 0s 6ms/step - loss: 0.2045 - accuracy: 0.8780 - val_loss: 0.4367 - val_accuracy: 0.7934\n",
            "Epoch 64/100\n",
            "16/16 [==============================] - 0s 5ms/step - loss: 0.1723 - accuracy: 0.8930 - val_loss: 0.4018 - val_accuracy: 0.8223\n",
            "Epoch 65/100\n",
            "16/16 [==============================] - 0s 5ms/step - loss: 0.1721 - accuracy: 0.8874 - val_loss: 0.4192 - val_accuracy: 0.8182\n",
            "Epoch 66/100\n",
            "16/16 [==============================] - 0s 5ms/step - loss: 0.1364 - accuracy: 0.9163 - val_loss: 0.4177 - val_accuracy: 0.7893\n",
            "Epoch 67/100\n",
            "16/16 [==============================] - 0s 5ms/step - loss: 0.1285 - accuracy: 0.9013 - val_loss: 0.4118 - val_accuracy: 0.8223\n",
            "Epoch 68/100\n",
            "16/16 [==============================] - 0s 5ms/step - loss: 0.1265 - accuracy: 0.8686 - val_loss: 0.4148 - val_accuracy: 0.8182\n",
            "Epoch 69/100\n",
            "16/16 [==============================] - 0s 5ms/step - loss: 0.1682 - accuracy: 0.9213 - val_loss: 0.4114 - val_accuracy: 0.8182\n",
            "Epoch 70/100\n",
            "16/16 [==============================] - 0s 5ms/step - loss: 0.1027 - accuracy: 0.9058 - val_loss: 0.4163 - val_accuracy: 0.8140\n",
            "Epoch 71/100\n",
            "16/16 [==============================] - 0s 5ms/step - loss: 0.1183 - accuracy: 0.9052 - val_loss: 0.4864 - val_accuracy: 0.8058\n",
            "Epoch 72/100\n",
            "16/16 [==============================] - 0s 5ms/step - loss: 0.2405 - accuracy: 0.8609 - val_loss: 0.4133 - val_accuracy: 0.8140\n",
            "Epoch 73/100\n",
            "16/16 [==============================] - 0s 5ms/step - loss: 0.0909 - accuracy: 0.8905 - val_loss: 0.4278 - val_accuracy: 0.8099\n",
            "Epoch 74/100\n",
            "16/16 [==============================] - 0s 5ms/step - loss: 0.1447 - accuracy: 0.9102 - val_loss: 0.4160 - val_accuracy: 0.8099\n",
            "Epoch 75/100\n",
            "16/16 [==============================] - 0s 5ms/step - loss: 0.1504 - accuracy: 0.9047 - val_loss: 0.4291 - val_accuracy: 0.8058\n",
            "Epoch 76/100\n",
            "16/16 [==============================] - 0s 5ms/step - loss: 0.0570 - accuracy: 0.9030 - val_loss: 0.4592 - val_accuracy: 0.8140\n",
            "Epoch 77/100\n",
            "16/16 [==============================] - 0s 5ms/step - loss: 0.0911 - accuracy: 0.8889 - val_loss: 0.4268 - val_accuracy: 0.8306\n",
            "Epoch 78/100\n",
            "16/16 [==============================] - 0s 5ms/step - loss: 0.0778 - accuracy: 0.9007 - val_loss: 0.4310 - val_accuracy: 0.8017\n",
            "Epoch 79/100\n",
            "16/16 [==============================] - 0s 5ms/step - loss: 0.1201 - accuracy: 0.9200 - val_loss: 0.4356 - val_accuracy: 0.7975\n",
            "Epoch 80/100\n",
            "16/16 [==============================] - 0s 5ms/step - loss: 0.1574 - accuracy: 0.9047 - val_loss: 0.5056 - val_accuracy: 0.7727\n",
            "Epoch 81/100\n",
            "16/16 [==============================] - 0s 5ms/step - loss: 0.1939 - accuracy: 0.8900 - val_loss: 0.4660 - val_accuracy: 0.7934\n",
            "Epoch 82/100\n",
            "16/16 [==============================] - 0s 5ms/step - loss: 0.1236 - accuracy: 0.8998 - val_loss: 0.4455 - val_accuracy: 0.8099\n",
            "Epoch 83/100\n",
            "16/16 [==============================] - 0s 5ms/step - loss: 0.1682 - accuracy: 0.9106 - val_loss: 0.4589 - val_accuracy: 0.7975\n",
            "Epoch 84/100\n",
            "16/16 [==============================] - 0s 5ms/step - loss: 0.0791 - accuracy: 0.9040 - val_loss: 0.4340 - val_accuracy: 0.8099\n",
            "Epoch 85/100\n",
            "16/16 [==============================] - 0s 5ms/step - loss: 0.1356 - accuracy: 0.9081 - val_loss: 0.4650 - val_accuracy: 0.7851\n",
            "Epoch 86/100\n",
            "16/16 [==============================] - 0s 5ms/step - loss: 0.1526 - accuracy: 0.8944 - val_loss: 0.4600 - val_accuracy: 0.8017\n",
            "Epoch 87/100\n",
            "16/16 [==============================] - 0s 5ms/step - loss: -0.0032 - accuracy: 0.8877 - val_loss: 0.4461 - val_accuracy: 0.8264\n",
            "Epoch 88/100\n",
            "16/16 [==============================] - 0s 5ms/step - loss: 0.0985 - accuracy: 0.9051 - val_loss: 0.4430 - val_accuracy: 0.8182\n",
            "Epoch 89/100\n",
            "16/16 [==============================] - 0s 5ms/step - loss: 0.1547 - accuracy: 0.9126 - val_loss: 0.5805 - val_accuracy: 0.7851\n",
            "Epoch 90/100\n",
            "16/16 [==============================] - 0s 5ms/step - loss: 0.1471 - accuracy: 0.8705 - val_loss: 0.4594 - val_accuracy: 0.8182\n",
            "Epoch 91/100\n",
            "16/16 [==============================] - 0s 5ms/step - loss: -0.0127 - accuracy: 0.8999 - val_loss: 0.4529 - val_accuracy: 0.7975\n",
            "Epoch 92/100\n",
            "16/16 [==============================] - 0s 5ms/step - loss: -0.0368 - accuracy: 0.9043 - val_loss: 0.4733 - val_accuracy: 0.8264\n",
            "Epoch 93/100\n",
            "16/16 [==============================] - 0s 5ms/step - loss: 0.0795 - accuracy: 0.8757 - val_loss: 0.4613 - val_accuracy: 0.8140\n",
            "Epoch 94/100\n",
            "16/16 [==============================] - 0s 5ms/step - loss: 0.0594 - accuracy: 0.9104 - val_loss: 0.4845 - val_accuracy: 0.7893\n",
            "Epoch 95/100\n",
            "16/16 [==============================] - 0s 5ms/step - loss: 0.1476 - accuracy: 0.8975 - val_loss: 0.4720 - val_accuracy: 0.8099\n",
            "Epoch 96/100\n",
            "16/16 [==============================] - 0s 5ms/step - loss: 0.0507 - accuracy: 0.9118 - val_loss: 0.4966 - val_accuracy: 0.7975\n",
            "Epoch 97/100\n",
            "16/16 [==============================] - 0s 5ms/step - loss: 0.0476 - accuracy: 0.8991 - val_loss: 0.4846 - val_accuracy: 0.8058\n",
            "Epoch 98/100\n",
            "16/16 [==============================] - 0s 5ms/step - loss: -0.0456 - accuracy: 0.9089 - val_loss: 0.4916 - val_accuracy: 0.8099\n",
            "Epoch 99/100\n",
            "16/16 [==============================] - 0s 5ms/step - loss: 0.0014 - accuracy: 0.9074 - val_loss: 0.4902 - val_accuracy: 0.8099\n",
            "Epoch 100/100\n",
            "16/16 [==============================] - 0s 5ms/step - loss: 0.0278 - accuracy: 0.9006 - val_loss: 0.4657 - val_accuracy: 0.8099\n"
          ],
          "name": "stdout"
        },
        {
          "output_type": "execute_result",
          "data": {
            "text/plain": [
              "<tensorflow.python.keras.callbacks.History at 0x7f576bb6b390>"
            ]
          },
          "metadata": {
            "tags": []
          },
          "execution_count": 245
        }
      ]
    },
    {
      "cell_type": "code",
      "metadata": {
        "colab": {
          "base_uri": "https://localhost:8080/"
        },
        "id": "RWTGwJUVtalk",
        "outputId": "d8ec2d24-af10-453b-a17a-c8b51b33a7d8"
      },
      "source": [
        "model.evaluate(X_train, y_train)\n",
        "model.evaluate(X_valid, y_valid)"
      ],
      "execution_count": null,
      "outputs": [
        {
          "output_type": "stream",
          "text": [
            "16/16 [==============================] - 0s 1ms/step - loss: 0.0305 - accuracy: 0.9184\n",
            "8/8 [==============================] - 0s 2ms/step - loss: 0.4657 - accuracy: 0.8099\n"
          ],
          "name": "stdout"
        },
        {
          "output_type": "execute_result",
          "data": {
            "text/plain": [
              "[0.46567708253860474, 0.8099173307418823]"
            ]
          },
          "metadata": {
            "tags": []
          },
          "execution_count": 247
        }
      ]
    },
    {
      "cell_type": "code",
      "metadata": {
        "id": "OWIypYX-uryi"
      },
      "source": [
        "idx = 5"
      ],
      "execution_count": null,
      "outputs": []
    },
    {
      "cell_type": "code",
      "metadata": {
        "colab": {
          "base_uri": "https://localhost:8080/"
        },
        "id": "ofKgNtPPuC0V",
        "outputId": "3fc3a5e8-957c-496f-f0d2-4e1f93671371"
      },
      "source": [
        "X_test.iloc[idx]"
      ],
      "execution_count": null,
      "outputs": [
        {
          "output_type": "execute_result",
          "data": {
            "text/plain": [
              "Fighter 1 KD              1.0\n",
              "Fighter 2 KD              0.0\n",
              "Fighter 1 Sig. str.      14.0\n",
              "Fighter 2 Sig. str.       2.0\n",
              "Fighter 1 Sig. str. %    77.0\n",
              "Fighter 2 Sig. str. %    33.0\n",
              "Fighter 1 Total str.     14.0\n",
              "Fighter 2 Total str.      2.0\n",
              "Fighter 1 Td              0.0\n",
              "Fighter 2 Td              0.0\n",
              "Fighter 1 Td %            0.0\n",
              "Fighter 2 Td %            0.0\n",
              "Fighter 1 Sub. att        0.0\n",
              "Fighter 2 Sub. att        0.0\n",
              "Fighter 1 Rev.            0.0\n",
              "Fighter 2 Rev.            0.0\n",
              "Name: 37, dtype: float64"
            ]
          },
          "metadata": {
            "tags": []
          },
          "execution_count": 261
        }
      ]
    },
    {
      "cell_type": "code",
      "metadata": {
        "colab": {
          "base_uri": "https://localhost:8080/"
        },
        "id": "4tEAEW59ulsz",
        "outputId": "ee237e81-ea6c-43bf-9074-4e8fc3946d22"
      },
      "source": [
        "# 0 means fighter 1 won. 1 means fighter 2 won.\n",
        "y_test.iloc[idx]"
      ],
      "execution_count": null,
      "outputs": [
        {
          "output_type": "execute_result",
          "data": {
            "text/plain": [
              "Winner    0\n",
              "Name: 37, dtype: int64"
            ]
          },
          "metadata": {
            "tags": []
          },
          "execution_count": 262
        }
      ]
    },
    {
      "cell_type": "code",
      "metadata": {
        "colab": {
          "base_uri": "https://localhost:8080/"
        },
        "id": "67EbW0E1uXGi",
        "outputId": "94e45f75-4f6a-40ac-f5b9-5bc2735dc6c9"
      },
      "source": [
        "X_test.shape"
      ],
      "execution_count": null,
      "outputs": [
        {
          "output_type": "execute_result",
          "data": {
            "text/plain": [
              "(362, 16)"
            ]
          },
          "metadata": {
            "tags": []
          },
          "execution_count": 263
        }
      ]
    },
    {
      "cell_type": "code",
      "metadata": {
        "colab": {
          "base_uri": "https://localhost:8080/"
        },
        "id": "3FWZP5LfuYYJ",
        "outputId": "93325452-df79-4caa-ae64-253041bafe4e"
      },
      "source": [
        "X_test.iloc[idx].shape"
      ],
      "execution_count": null,
      "outputs": [
        {
          "output_type": "execute_result",
          "data": {
            "text/plain": [
              "(16,)"
            ]
          },
          "metadata": {
            "tags": []
          },
          "execution_count": 265
        }
      ]
    },
    {
      "cell_type": "code",
      "metadata": {
        "colab": {
          "base_uri": "https://localhost:8080/"
        },
        "id": "W19rlXXouGfs",
        "outputId": "30dfcef4-a576-46b0-cdc4-ff20eccb6703"
      },
      "source": [
        "model.predict(np.expand_dims(X_test.iloc[idx], 0))"
      ],
      "execution_count": null,
      "outputs": [
        {
          "output_type": "execute_result",
          "data": {
            "text/plain": [
              "array([[0.00111026]], dtype=float32)"
            ]
          },
          "metadata": {
            "tags": []
          },
          "execution_count": 266
        }
      ]
    },
    {
      "cell_type": "code",
      "metadata": {
        "id": "VkKNI-x1uTe8"
      },
      "source": [
        ""
      ],
      "execution_count": null,
      "outputs": []
    }
  ]
}