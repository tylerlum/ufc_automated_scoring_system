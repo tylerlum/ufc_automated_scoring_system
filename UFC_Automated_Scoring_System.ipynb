{
  "nbformat": 4,
  "nbformat_minor": 0,
  "metadata": {
    "colab": {
      "name": "UFC_Automated_Scoring_System.ipynb",
      "provenance": [],
      "collapsed_sections": [],
      "authorship_tag": "ABX9TyN3qPbbaZhNzXPsryPCu/td",
      "include_colab_link": true
    },
    "kernelspec": {
      "name": "python3",
      "display_name": "Python 3"
    }
  },
  "cells": [
    {
      "cell_type": "markdown",
      "metadata": {
        "id": "view-in-github",
        "colab_type": "text"
      },
      "source": [
        "<a href=\"https://colab.research.google.com/github/tylerlum/ufc_automated_scoring_system/blob/main/UFC_Automated_Scoring_System.ipynb\" target=\"_parent\"><img src=\"https://colab.research.google.com/assets/colab-badge.svg\" alt=\"Open In Colab\"/></a>"
      ]
    },
    {
      "cell_type": "markdown",
      "metadata": {
        "id": "TPiJGcdUYaoU"
      },
      "source": [
        "# UFC Automated Scoring System\n",
        "\n",
        "The goal of this notebook is to:\n",
        "* Explore the FightMetrics webpage to scrape the fight and fighter information we need\n",
        "* Store the fight and fighter data into csv files\n",
        "* Preprocess the data\n",
        "* Train and evaluate a neural network to predict fight outcomes"
      ]
    },
    {
      "cell_type": "markdown",
      "metadata": {
        "id": "7897ryXiaoCv"
      },
      "source": [
        "## All bouts and all fighters"
      ]
    },
    {
      "cell_type": "code",
      "metadata": {
        "id": "1_P-WlauY2x0"
      },
      "source": [
        "all_past_events_url = \"http://ufcstats.com/statistics/events/completed\"\n",
        "all_past_events_tables = pd.read_html(all_past_events_url)[0] # Returns list of all tables on page"
      ],
      "execution_count": null,
      "outputs": []
    },
    {
      "cell_type": "code",
      "metadata": {
        "id": "mLWIWwJCaux6",
        "outputId": "037b88d9-30af-4e9a-ff37-df2f66068c44",
        "colab": {
          "base_uri": "https://localhost:8080/",
          "height": 194
        }
      },
      "source": [
        "all_past_events_tables.head()"
      ],
      "execution_count": null,
      "outputs": [
        {
          "output_type": "execute_result",
          "data": {
            "text/html": [
              "<div>\n",
              "<style scoped>\n",
              "    .dataframe tbody tr th:only-of-type {\n",
              "        vertical-align: middle;\n",
              "    }\n",
              "\n",
              "    .dataframe tbody tr th {\n",
              "        vertical-align: top;\n",
              "    }\n",
              "\n",
              "    .dataframe thead th {\n",
              "        text-align: right;\n",
              "    }\n",
              "</style>\n",
              "<table border=\"1\" class=\"dataframe\">\n",
              "  <thead>\n",
              "    <tr style=\"text-align: right;\">\n",
              "      <th></th>\n",
              "      <th>Name/date</th>\n",
              "      <th>Location</th>\n",
              "    </tr>\n",
              "  </thead>\n",
              "  <tbody>\n",
              "    <tr>\n",
              "      <th>0</th>\n",
              "      <td>NaN</td>\n",
              "      <td>NaN</td>\n",
              "    </tr>\n",
              "    <tr>\n",
              "      <th>1</th>\n",
              "      <td>UFC Fight Night: Hall vs. Silva  October 31, 2020</td>\n",
              "      <td>Las Vegas, Nevada, USA</td>\n",
              "    </tr>\n",
              "    <tr>\n",
              "      <th>2</th>\n",
              "      <td>UFC 254: Khabib vs. Gaethje  October 24, 2020</td>\n",
              "      <td>Abu Dhabi, Abu Dhabi, United Arab Emirates</td>\n",
              "    </tr>\n",
              "    <tr>\n",
              "      <th>3</th>\n",
              "      <td>UFC Fight Night: Ortega vs. The Korean Zombie ...</td>\n",
              "      <td>Abu Dhabi, Abu Dhabi, United Arab Emirates</td>\n",
              "    </tr>\n",
              "    <tr>\n",
              "      <th>4</th>\n",
              "      <td>UFC Fight Night: Moraes vs. Sandhagen  October...</td>\n",
              "      <td>Abu Dhabi, Abu Dhabi, United Arab Emirates</td>\n",
              "    </tr>\n",
              "  </tbody>\n",
              "</table>\n",
              "</div>"
            ],
            "text/plain": [
              "                                           Name/date                                    Location\n",
              "0                                                NaN                                         NaN\n",
              "1  UFC Fight Night: Hall vs. Silva  October 31, 2020                      Las Vegas, Nevada, USA\n",
              "2      UFC 254: Khabib vs. Gaethje  October 24, 2020  Abu Dhabi, Abu Dhabi, United Arab Emirates\n",
              "3  UFC Fight Night: Ortega vs. The Korean Zombie ...  Abu Dhabi, Abu Dhabi, United Arab Emirates\n",
              "4  UFC Fight Night: Moraes vs. Sandhagen  October...  Abu Dhabi, Abu Dhabi, United Arab Emirates"
            ]
          },
          "metadata": {
            "tags": []
          },
          "execution_count": 21
        }
      ]
    },
    {
      "cell_type": "code",
      "metadata": {
        "id": "k1eiSIjca2qr"
      },
      "source": [
        "from string import ascii_lowercase\n",
        "\n",
        "all_fighters_tables = []\n",
        "for c in ascii_lowercase:\n",
        "  all_fighters_url = f\"http://ufcstats.com/statistics/fighters?char={c}&page=all\"\n",
        "  all_fighters_table = pd.read_html(all_fighters_url)[0]\n",
        "  all_fighters_tables.append(all_fighters_table)\n",
        "\n",
        "all_fighters_tables = pd.concat(all_fighters_tables)"
      ],
      "execution_count": null,
      "outputs": []
    },
    {
      "cell_type": "code",
      "metadata": {
        "id": "AkCCSiuUa4lu",
        "outputId": "6f82818c-4eb2-43f1-ffb6-cab01f3598fa",
        "colab": {
          "base_uri": "https://localhost:8080/",
          "height": 194
        }
      },
      "source": [
        "all_fighters_tables.head()"
      ],
      "execution_count": null,
      "outputs": [
        {
          "output_type": "execute_result",
          "data": {
            "text/html": [
              "<div>\n",
              "<style scoped>\n",
              "    .dataframe tbody tr th:only-of-type {\n",
              "        vertical-align: middle;\n",
              "    }\n",
              "\n",
              "    .dataframe tbody tr th {\n",
              "        vertical-align: top;\n",
              "    }\n",
              "\n",
              "    .dataframe thead th {\n",
              "        text-align: right;\n",
              "    }\n",
              "</style>\n",
              "<table border=\"1\" class=\"dataframe\">\n",
              "  <thead>\n",
              "    <tr style=\"text-align: right;\">\n",
              "      <th></th>\n",
              "      <th>First</th>\n",
              "      <th>Last</th>\n",
              "      <th>Nickname</th>\n",
              "      <th>Ht.</th>\n",
              "      <th>Wt.</th>\n",
              "      <th>Reach</th>\n",
              "      <th>Stance</th>\n",
              "      <th>W</th>\n",
              "      <th>L</th>\n",
              "      <th>D</th>\n",
              "      <th>Belt</th>\n",
              "    </tr>\n",
              "  </thead>\n",
              "  <tbody>\n",
              "    <tr>\n",
              "      <th>0</th>\n",
              "      <td>NaN</td>\n",
              "      <td>NaN</td>\n",
              "      <td>NaN</td>\n",
              "      <td>NaN</td>\n",
              "      <td>NaN</td>\n",
              "      <td>NaN</td>\n",
              "      <td>NaN</td>\n",
              "      <td>NaN</td>\n",
              "      <td>NaN</td>\n",
              "      <td>NaN</td>\n",
              "      <td>NaN</td>\n",
              "    </tr>\n",
              "    <tr>\n",
              "      <th>1</th>\n",
              "      <td>Tom</td>\n",
              "      <td>Aaron</td>\n",
              "      <td>NaN</td>\n",
              "      <td>--</td>\n",
              "      <td>155 lbs.</td>\n",
              "      <td>--</td>\n",
              "      <td>NaN</td>\n",
              "      <td>5.0</td>\n",
              "      <td>3.0</td>\n",
              "      <td>0.0</td>\n",
              "      <td>NaN</td>\n",
              "    </tr>\n",
              "    <tr>\n",
              "      <th>2</th>\n",
              "      <td>Danny</td>\n",
              "      <td>Abbadi</td>\n",
              "      <td>The Assassin</td>\n",
              "      <td>5' 11\"</td>\n",
              "      <td>155 lbs.</td>\n",
              "      <td>--</td>\n",
              "      <td>Orthodox</td>\n",
              "      <td>4.0</td>\n",
              "      <td>6.0</td>\n",
              "      <td>0.0</td>\n",
              "      <td>NaN</td>\n",
              "    </tr>\n",
              "    <tr>\n",
              "      <th>3</th>\n",
              "      <td>David</td>\n",
              "      <td>Abbott</td>\n",
              "      <td>Tank</td>\n",
              "      <td>6' 0\"</td>\n",
              "      <td>265 lbs.</td>\n",
              "      <td>--</td>\n",
              "      <td>Switch</td>\n",
              "      <td>10.0</td>\n",
              "      <td>15.0</td>\n",
              "      <td>0.0</td>\n",
              "      <td>NaN</td>\n",
              "    </tr>\n",
              "    <tr>\n",
              "      <th>4</th>\n",
              "      <td>Shamil</td>\n",
              "      <td>Abdurakhimov</td>\n",
              "      <td>Abrek</td>\n",
              "      <td>6' 3\"</td>\n",
              "      <td>235 lbs.</td>\n",
              "      <td>76.0\"</td>\n",
              "      <td>Orthodox</td>\n",
              "      <td>20.0</td>\n",
              "      <td>5.0</td>\n",
              "      <td>0.0</td>\n",
              "      <td>NaN</td>\n",
              "    </tr>\n",
              "  </tbody>\n",
              "</table>\n",
              "</div>"
            ],
            "text/plain": [
              "    First          Last      Nickname     Ht.  ...     W     L    D  Belt\n",
              "0     NaN           NaN           NaN     NaN  ...   NaN   NaN  NaN   NaN\n",
              "1     Tom         Aaron           NaN      --  ...   5.0   3.0  0.0   NaN\n",
              "2   Danny        Abbadi  The Assassin  5' 11\"  ...   4.0   6.0  0.0   NaN\n",
              "3   David        Abbott          Tank   6' 0\"  ...  10.0  15.0  0.0   NaN\n",
              "4  Shamil  Abdurakhimov         Abrek   6' 3\"  ...  20.0   5.0  0.0   NaN\n",
              "\n",
              "[5 rows x 11 columns]"
            ]
          },
          "metadata": {
            "tags": []
          },
          "execution_count": 58
        }
      ]
    },
    {
      "cell_type": "markdown",
      "metadata": {
        "id": "7SkAtOIMY28U"
      },
      "source": [
        "## Getting the data for one fight\n",
        "\n",
        "This will look at Brian Ortega vs. Chan Sung Jung.\n",
        "\n",
        "UFC Fight Night: Ortega vs. The Korean Zombie\n",
        "\n",
        "http://ufcstats.com/fight-details/5a440bdee19efaab"
      ]
    },
    {
      "cell_type": "code",
      "metadata": {
        "id": "ioQESt2oZPXz"
      },
      "source": [
        "import pandas as pd"
      ],
      "execution_count": null,
      "outputs": []
    },
    {
      "cell_type": "code",
      "metadata": {
        "id": "rklpCA47YxWW",
        "outputId": "9fbcf6e3-119d-47f0-fc70-5d84e7630f5e",
        "colab": {
          "base_uri": "https://localhost:8080/",
          "height": 35
        }
      },
      "source": [
        "ortega_vs_jung_url = \"http://ufcstats.com/fight-details/5a440bdee19efaab\"\n",
        "ortega_vs_jung_tables = pd.read_html(ortega_vs_jung_url)\n",
        "print(f\"This URL has {len(ortega_vs_jung_tables)} tables\")"
      ],
      "execution_count": null,
      "outputs": [
        {
          "output_type": "stream",
          "text": [
            "This URL has 4 tables\n"
          ],
          "name": "stdout"
        }
      ]
    },
    {
      "cell_type": "code",
      "metadata": {
        "id": "VzaBkvTjZe-W",
        "outputId": "6074c9a1-f741-47d5-bb5d-f1effe2d7472",
        "colab": {
          "base_uri": "https://localhost:8080/",
          "height": 76
        }
      },
      "source": [
        "ortega_vs_jung_tables[0].head()"
      ],
      "execution_count": null,
      "outputs": [
        {
          "output_type": "execute_result",
          "data": {
            "text/html": [
              "<div>\n",
              "<style scoped>\n",
              "    .dataframe tbody tr th:only-of-type {\n",
              "        vertical-align: middle;\n",
              "    }\n",
              "\n",
              "    .dataframe tbody tr th {\n",
              "        vertical-align: top;\n",
              "    }\n",
              "\n",
              "    .dataframe thead th {\n",
              "        text-align: right;\n",
              "    }\n",
              "</style>\n",
              "<table border=\"1\" class=\"dataframe\">\n",
              "  <thead>\n",
              "    <tr style=\"text-align: right;\">\n",
              "      <th></th>\n",
              "      <th>Fighter</th>\n",
              "      <th>KD</th>\n",
              "      <th>Sig. str.</th>\n",
              "      <th>Sig. str. %</th>\n",
              "      <th>Total str.</th>\n",
              "      <th>Td</th>\n",
              "      <th>Td %</th>\n",
              "      <th>Sub. att</th>\n",
              "      <th>Rev.</th>\n",
              "      <th>Ctrl</th>\n",
              "    </tr>\n",
              "  </thead>\n",
              "  <tbody>\n",
              "    <tr>\n",
              "      <th>0</th>\n",
              "      <td>Brian Ortega Chan Sung Jung</td>\n",
              "      <td>2  0</td>\n",
              "      <td>127 of 212  62 of 163</td>\n",
              "      <td>59%  38%</td>\n",
              "      <td>129 of 214  64 of 166</td>\n",
              "      <td>3 of 10  0 of 0</td>\n",
              "      <td>30%  ---</td>\n",
              "      <td>0  0</td>\n",
              "      <td>0  0</td>\n",
              "      <td>0:57  0:00</td>\n",
              "    </tr>\n",
              "  </tbody>\n",
              "</table>\n",
              "</div>"
            ],
            "text/plain": [
              "                       Fighter    KD  ...  Rev.        Ctrl\n",
              "0  Brian Ortega Chan Sung Jung  2  0  ...  0  0  0:57  0:00\n",
              "\n",
              "[1 rows x 10 columns]"
            ]
          },
          "metadata": {
            "tags": []
          },
          "execution_count": 11
        }
      ]
    },
    {
      "cell_type": "code",
      "metadata": {
        "id": "Qfm2wkG3Yxbe",
        "outputId": "16b40b4c-8a21-4ab2-ab9b-7a5ca35cc4ea",
        "colab": {
          "base_uri": "https://localhost:8080/",
          "height": 340
        }
      },
      "source": [
        "ortega_vs_jung_tables[1].head()"
      ],
      "execution_count": null,
      "outputs": [
        {
          "output_type": "execute_result",
          "data": {
            "text/html": [
              "<div>\n",
              "<style scoped>\n",
              "    .dataframe tbody tr th:only-of-type {\n",
              "        vertical-align: middle;\n",
              "    }\n",
              "\n",
              "    .dataframe tbody tr th {\n",
              "        vertical-align: top;\n",
              "    }\n",
              "\n",
              "    .dataframe thead tr th {\n",
              "        text-align: left;\n",
              "    }\n",
              "</style>\n",
              "<table border=\"1\" class=\"dataframe\">\n",
              "  <thead>\n",
              "    <tr>\n",
              "      <th></th>\n",
              "      <th>Fighter</th>\n",
              "      <th>KD</th>\n",
              "      <th>Sig. str.</th>\n",
              "      <th>Sig. str. %</th>\n",
              "      <th>Total str.</th>\n",
              "      <th colspan=\"2\" halign=\"left\">Td %</th>\n",
              "      <th>Sub. att</th>\n",
              "      <th>Rev.</th>\n",
              "      <th>Ctrl</th>\n",
              "    </tr>\n",
              "    <tr>\n",
              "      <th></th>\n",
              "      <th>Round 1</th>\n",
              "      <th>Round 1</th>\n",
              "      <th>Round 1</th>\n",
              "      <th>Round 1</th>\n",
              "      <th>Round 1</th>\n",
              "      <th colspan=\"2\" halign=\"left\">Round 1</th>\n",
              "      <th>Round 1</th>\n",
              "      <th>Round 1</th>\n",
              "      <th>Round 1</th>\n",
              "    </tr>\n",
              "    <tr>\n",
              "      <th></th>\n",
              "      <th>Round 2</th>\n",
              "      <th>Round 2</th>\n",
              "      <th>Round 2</th>\n",
              "      <th>Round 2</th>\n",
              "      <th>Round 2</th>\n",
              "      <th colspan=\"2\" halign=\"left\">Round 2</th>\n",
              "      <th>Round 2</th>\n",
              "      <th>Round 2</th>\n",
              "      <th>Round 2</th>\n",
              "    </tr>\n",
              "    <tr>\n",
              "      <th></th>\n",
              "      <th>Round 3</th>\n",
              "      <th>Round 3</th>\n",
              "      <th>Round 3</th>\n",
              "      <th>Round 3</th>\n",
              "      <th>Round 3</th>\n",
              "      <th colspan=\"2\" halign=\"left\">Round 3</th>\n",
              "      <th>Round 3</th>\n",
              "      <th>Round 3</th>\n",
              "      <th>Round 3</th>\n",
              "    </tr>\n",
              "    <tr>\n",
              "      <th></th>\n",
              "      <th>Round 4</th>\n",
              "      <th>Round 4</th>\n",
              "      <th>Round 4</th>\n",
              "      <th>Round 4</th>\n",
              "      <th>Round 4</th>\n",
              "      <th colspan=\"2\" halign=\"left\">Round 4</th>\n",
              "      <th>Round 4</th>\n",
              "      <th>Round 4</th>\n",
              "      <th>Round 4</th>\n",
              "    </tr>\n",
              "    <tr>\n",
              "      <th></th>\n",
              "      <th>Round 5</th>\n",
              "      <th>Round 5</th>\n",
              "      <th>Round 5</th>\n",
              "      <th>Round 5</th>\n",
              "      <th>Round 5</th>\n",
              "      <th>Round 5</th>\n",
              "      <th>Round 5.1</th>\n",
              "      <th>Round 5</th>\n",
              "      <th>Round 5</th>\n",
              "      <th>Round 5</th>\n",
              "    </tr>\n",
              "  </thead>\n",
              "  <tbody>\n",
              "    <tr>\n",
              "      <th>0</th>\n",
              "      <td>Brian Ortega Chan Sung Jung</td>\n",
              "      <td>1  0</td>\n",
              "      <td>24 of 39  14 of 26</td>\n",
              "      <td>61%  53%</td>\n",
              "      <td>24 of 39  14 of 26</td>\n",
              "      <td>0 of 0  0 of 0</td>\n",
              "      <td>---  ---</td>\n",
              "      <td>0  0</td>\n",
              "      <td>0  0</td>\n",
              "      <td>0:00  0:00</td>\n",
              "    </tr>\n",
              "    <tr>\n",
              "      <th>1</th>\n",
              "      <td>Brian Ortega Chan Sung Jung</td>\n",
              "      <td>1  0</td>\n",
              "      <td>23 of 37  14 of 34</td>\n",
              "      <td>62%  41%</td>\n",
              "      <td>24 of 38  14 of 34</td>\n",
              "      <td>2 of 3  0 of 0</td>\n",
              "      <td>66%  ---</td>\n",
              "      <td>0  0</td>\n",
              "      <td>0  0</td>\n",
              "      <td>0:35  0:00</td>\n",
              "    </tr>\n",
              "    <tr>\n",
              "      <th>2</th>\n",
              "      <td>Brian Ortega Chan Sung Jung</td>\n",
              "      <td>0  0</td>\n",
              "      <td>28 of 42  7 of 32</td>\n",
              "      <td>66%  21%</td>\n",
              "      <td>28 of 42  7 of 32</td>\n",
              "      <td>0 of 1  0 of 0</td>\n",
              "      <td>0%  ---</td>\n",
              "      <td>0  0</td>\n",
              "      <td>0  0</td>\n",
              "      <td>0:00  0:00</td>\n",
              "    </tr>\n",
              "    <tr>\n",
              "      <th>3</th>\n",
              "      <td>Brian Ortega Chan Sung Jung</td>\n",
              "      <td>0  0</td>\n",
              "      <td>17 of 35  8 of 26</td>\n",
              "      <td>48%  30%</td>\n",
              "      <td>18 of 36  10 of 29</td>\n",
              "      <td>1 of 4  0 of 0</td>\n",
              "      <td>25%  ---</td>\n",
              "      <td>0  0</td>\n",
              "      <td>0  0</td>\n",
              "      <td>0:22  0:00</td>\n",
              "    </tr>\n",
              "    <tr>\n",
              "      <th>4</th>\n",
              "      <td>Brian Ortega Chan Sung Jung</td>\n",
              "      <td>0  0</td>\n",
              "      <td>35 of 59  19 of 45</td>\n",
              "      <td>59%  42%</td>\n",
              "      <td>35 of 59  19 of 45</td>\n",
              "      <td>0 of 2  0 of 0</td>\n",
              "      <td>0%  ---</td>\n",
              "      <td>0  0</td>\n",
              "      <td>0  0</td>\n",
              "      <td>0:00  0:00</td>\n",
              "    </tr>\n",
              "  </tbody>\n",
              "</table>\n",
              "</div>"
            ],
            "text/plain": [
              "                       Fighter      KD  ...    Rev.        Ctrl\n",
              "                       Round 1 Round 1  ... Round 1     Round 1\n",
              "                       Round 2 Round 2  ... Round 2     Round 2\n",
              "                       Round 3 Round 3  ... Round 3     Round 3\n",
              "                       Round 4 Round 4  ... Round 4     Round 4\n",
              "                       Round 5 Round 5  ... Round 5     Round 5\n",
              "0  Brian Ortega Chan Sung Jung    1  0  ...    0  0  0:00  0:00\n",
              "1  Brian Ortega Chan Sung Jung    1  0  ...    0  0  0:35  0:00\n",
              "2  Brian Ortega Chan Sung Jung    0  0  ...    0  0  0:00  0:00\n",
              "3  Brian Ortega Chan Sung Jung    0  0  ...    0  0  0:22  0:00\n",
              "4  Brian Ortega Chan Sung Jung    0  0  ...    0  0  0:00  0:00\n",
              "\n",
              "[5 rows x 10 columns]"
            ]
          },
          "metadata": {
            "tags": []
          },
          "execution_count": 46
        }
      ]
    },
    {
      "cell_type": "code",
      "metadata": {
        "id": "qvL0IxZuYxf8",
        "outputId": "0c233a3f-a81d-463f-ffaa-5aead738d13f",
        "colab": {
          "base_uri": "https://localhost:8080/",
          "height": 76
        }
      },
      "source": [
        "ortega_vs_jung_tables[2].head()"
      ],
      "execution_count": null,
      "outputs": [
        {
          "output_type": "execute_result",
          "data": {
            "text/html": [
              "<div>\n",
              "<style scoped>\n",
              "    .dataframe tbody tr th:only-of-type {\n",
              "        vertical-align: middle;\n",
              "    }\n",
              "\n",
              "    .dataframe tbody tr th {\n",
              "        vertical-align: top;\n",
              "    }\n",
              "\n",
              "    .dataframe thead th {\n",
              "        text-align: right;\n",
              "    }\n",
              "</style>\n",
              "<table border=\"1\" class=\"dataframe\">\n",
              "  <thead>\n",
              "    <tr style=\"text-align: right;\">\n",
              "      <th></th>\n",
              "      <th>Fighter</th>\n",
              "      <th>Sig. str</th>\n",
              "      <th>Sig. str. %</th>\n",
              "      <th>Head</th>\n",
              "      <th>Body</th>\n",
              "      <th>Leg</th>\n",
              "      <th>Distance</th>\n",
              "      <th>Clinch</th>\n",
              "      <th>Ground</th>\n",
              "    </tr>\n",
              "  </thead>\n",
              "  <tbody>\n",
              "    <tr>\n",
              "      <th>0</th>\n",
              "      <td>Brian Ortega Chan Sung Jung</td>\n",
              "      <td>127 of 212  62 of 163</td>\n",
              "      <td>59%  38%</td>\n",
              "      <td>64 of 135  35 of 127</td>\n",
              "      <td>22 of 28  14 of 21</td>\n",
              "      <td>41 of 49  13 of 15</td>\n",
              "      <td>118 of 199  62 of 162</td>\n",
              "      <td>5 of 7  0 of 1</td>\n",
              "      <td>4 of 6  0 of 0</td>\n",
              "    </tr>\n",
              "  </tbody>\n",
              "</table>\n",
              "</div>"
            ],
            "text/plain": [
              "                       Fighter  ...          Ground\n",
              "0  Brian Ortega Chan Sung Jung  ...  4 of 6  0 of 0\n",
              "\n",
              "[1 rows x 9 columns]"
            ]
          },
          "metadata": {
            "tags": []
          },
          "execution_count": 14
        }
      ]
    },
    {
      "cell_type": "code",
      "metadata": {
        "id": "Iq8cHa1bZukK",
        "outputId": "8649445b-19e9-4366-b4b1-5c8abc33c248",
        "colab": {
          "base_uri": "https://localhost:8080/",
          "height": 340
        }
      },
      "source": [
        "ortega_vs_jung_tables[3].head()"
      ],
      "execution_count": null,
      "outputs": [
        {
          "output_type": "execute_result",
          "data": {
            "text/html": [
              "<div>\n",
              "<style scoped>\n",
              "    .dataframe tbody tr th:only-of-type {\n",
              "        vertical-align: middle;\n",
              "    }\n",
              "\n",
              "    .dataframe tbody tr th {\n",
              "        vertical-align: top;\n",
              "    }\n",
              "\n",
              "    .dataframe thead tr th {\n",
              "        text-align: left;\n",
              "    }\n",
              "</style>\n",
              "<table border=\"1\" class=\"dataframe\">\n",
              "  <thead>\n",
              "    <tr>\n",
              "      <th></th>\n",
              "      <th>Fighter</th>\n",
              "      <th>Sig. str</th>\n",
              "      <th>Sig. str. %</th>\n",
              "      <th>Head</th>\n",
              "      <th>Body</th>\n",
              "      <th>Leg</th>\n",
              "      <th>Distance</th>\n",
              "      <th>Clinch</th>\n",
              "      <th>Ground</th>\n",
              "      <th>Unnamed: 9_level_0</th>\n",
              "    </tr>\n",
              "    <tr>\n",
              "      <th></th>\n",
              "      <th>Round 1</th>\n",
              "      <th>Round 1</th>\n",
              "      <th>Round 1</th>\n",
              "      <th>Round 1</th>\n",
              "      <th>Round 1</th>\n",
              "      <th>Round 1</th>\n",
              "      <th>Round 1</th>\n",
              "      <th>Round 1</th>\n",
              "      <th>Round 1</th>\n",
              "      <th>Round 1</th>\n",
              "    </tr>\n",
              "    <tr>\n",
              "      <th></th>\n",
              "      <th>Round 2</th>\n",
              "      <th>Round 2</th>\n",
              "      <th>Round 2</th>\n",
              "      <th>Round 2</th>\n",
              "      <th>Round 2</th>\n",
              "      <th>Round 2</th>\n",
              "      <th>Round 2</th>\n",
              "      <th>Round 2</th>\n",
              "      <th>Round 2</th>\n",
              "      <th>Round 2</th>\n",
              "    </tr>\n",
              "    <tr>\n",
              "      <th></th>\n",
              "      <th>Round 3</th>\n",
              "      <th>Round 3</th>\n",
              "      <th>Round 3</th>\n",
              "      <th>Round 3</th>\n",
              "      <th>Round 3</th>\n",
              "      <th>Round 3</th>\n",
              "      <th>Round 3</th>\n",
              "      <th>Round 3</th>\n",
              "      <th>Round 3</th>\n",
              "      <th>Round 3</th>\n",
              "    </tr>\n",
              "    <tr>\n",
              "      <th></th>\n",
              "      <th>Round 4</th>\n",
              "      <th>Round 4</th>\n",
              "      <th>Round 4</th>\n",
              "      <th>Round 4</th>\n",
              "      <th>Round 4</th>\n",
              "      <th>Round 4</th>\n",
              "      <th>Round 4</th>\n",
              "      <th>Round 4</th>\n",
              "      <th>Round 4</th>\n",
              "      <th>Round 4</th>\n",
              "    </tr>\n",
              "    <tr>\n",
              "      <th></th>\n",
              "      <th>Round 5</th>\n",
              "      <th>Round 5</th>\n",
              "      <th>Round 5</th>\n",
              "      <th>Round 5</th>\n",
              "      <th>Round 5</th>\n",
              "      <th>Round 5</th>\n",
              "      <th>Round 5</th>\n",
              "      <th>Round 5</th>\n",
              "      <th>Round 5</th>\n",
              "      <th>Round 5</th>\n",
              "    </tr>\n",
              "  </thead>\n",
              "  <tbody>\n",
              "    <tr>\n",
              "      <th>0</th>\n",
              "      <td>Brian Ortega Chan Sung Jung</td>\n",
              "      <td>24 of 39  14 of 26</td>\n",
              "      <td>61%  53%</td>\n",
              "      <td>11 of 24  4 of 15</td>\n",
              "      <td>5 of 6  4 of 5</td>\n",
              "      <td>8 of 9  6 of 6</td>\n",
              "      <td>24 of 39  14 of 26</td>\n",
              "      <td>0 of 0  0 of 0</td>\n",
              "      <td>0 of 0  0 of 0</td>\n",
              "      <td>NaN</td>\n",
              "    </tr>\n",
              "    <tr>\n",
              "      <th>1</th>\n",
              "      <td>Brian Ortega Chan Sung Jung</td>\n",
              "      <td>23 of 37  14 of 34</td>\n",
              "      <td>62%  41%</td>\n",
              "      <td>14 of 25  12 of 31</td>\n",
              "      <td>2 of 4  0 of 1</td>\n",
              "      <td>7 of 8  2 of 2</td>\n",
              "      <td>17 of 29  14 of 34</td>\n",
              "      <td>2 of 2  0 of 0</td>\n",
              "      <td>4 of 6  0 of 0</td>\n",
              "      <td>NaN</td>\n",
              "    </tr>\n",
              "    <tr>\n",
              "      <th>2</th>\n",
              "      <td>Brian Ortega Chan Sung Jung</td>\n",
              "      <td>28 of 42  7 of 32</td>\n",
              "      <td>66%  21%</td>\n",
              "      <td>13 of 25  2 of 23</td>\n",
              "      <td>4 of 4  1 of 3</td>\n",
              "      <td>11 of 13  4 of 6</td>\n",
              "      <td>27 of 41  7 of 32</td>\n",
              "      <td>1 of 1  0 of 0</td>\n",
              "      <td>0 of 0  0 of 0</td>\n",
              "      <td>NaN</td>\n",
              "    </tr>\n",
              "    <tr>\n",
              "      <th>3</th>\n",
              "      <td>Brian Ortega Chan Sung Jung</td>\n",
              "      <td>17 of 35  8 of 26</td>\n",
              "      <td>48%  30%</td>\n",
              "      <td>5 of 18  1 of 18</td>\n",
              "      <td>5 of 6  6 of 7</td>\n",
              "      <td>7 of 11  1 of 1</td>\n",
              "      <td>15 of 33  8 of 26</td>\n",
              "      <td>2 of 2  0 of 0</td>\n",
              "      <td>0 of 0  0 of 0</td>\n",
              "      <td>NaN</td>\n",
              "    </tr>\n",
              "    <tr>\n",
              "      <th>4</th>\n",
              "      <td>Brian Ortega Chan Sung Jung</td>\n",
              "      <td>35 of 59  19 of 45</td>\n",
              "      <td>59%  42%</td>\n",
              "      <td>21 of 43  16 of 40</td>\n",
              "      <td>6 of 8  3 of 5</td>\n",
              "      <td>8 of 8  0 of 0</td>\n",
              "      <td>35 of 57  19 of 44</td>\n",
              "      <td>0 of 2  0 of 1</td>\n",
              "      <td>0 of 0  0 of 0</td>\n",
              "      <td>NaN</td>\n",
              "    </tr>\n",
              "  </tbody>\n",
              "</table>\n",
              "</div>"
            ],
            "text/plain": [
              "                       Fighter  ... Unnamed: 9_level_0\n",
              "                       Round 1  ...            Round 1\n",
              "                       Round 2  ...            Round 2\n",
              "                       Round 3  ...            Round 3\n",
              "                       Round 4  ...            Round 4\n",
              "                       Round 5  ...            Round 5\n",
              "0  Brian Ortega Chan Sung Jung  ...                NaN\n",
              "1  Brian Ortega Chan Sung Jung  ...                NaN\n",
              "2  Brian Ortega Chan Sung Jung  ...                NaN\n",
              "3  Brian Ortega Chan Sung Jung  ...                NaN\n",
              "4  Brian Ortega Chan Sung Jung  ...                NaN\n",
              "\n",
              "[5 rows x 10 columns]"
            ]
          },
          "metadata": {
            "tags": []
          },
          "execution_count": 13
        }
      ]
    },
    {
      "cell_type": "markdown",
      "metadata": {
        "id": "-1zMottZZ0eX"
      },
      "source": [
        "Note how each cell actually has two datapoints, which is a bit frustrating. We need to break them up into different cells."
      ]
    },
    {
      "cell_type": "code",
      "metadata": {
        "id": "aHmcqvqLZzLc",
        "outputId": "e4408f03-6b25-4412-bd63-ce828ab7efe4",
        "colab": {
          "base_uri": "https://localhost:8080/",
          "height": 76
        }
      },
      "source": [
        "ortega_vs_jung_tables[0].head()"
      ],
      "execution_count": null,
      "outputs": [
        {
          "output_type": "execute_result",
          "data": {
            "text/html": [
              "<div>\n",
              "<style scoped>\n",
              "    .dataframe tbody tr th:only-of-type {\n",
              "        vertical-align: middle;\n",
              "    }\n",
              "\n",
              "    .dataframe tbody tr th {\n",
              "        vertical-align: top;\n",
              "    }\n",
              "\n",
              "    .dataframe thead th {\n",
              "        text-align: right;\n",
              "    }\n",
              "</style>\n",
              "<table border=\"1\" class=\"dataframe\">\n",
              "  <thead>\n",
              "    <tr style=\"text-align: right;\">\n",
              "      <th></th>\n",
              "      <th>Fighter</th>\n",
              "      <th>KD</th>\n",
              "      <th>Sig. str.</th>\n",
              "      <th>Sig. str. %</th>\n",
              "      <th>Total str.</th>\n",
              "      <th>Td</th>\n",
              "      <th>Td %</th>\n",
              "      <th>Sub. att</th>\n",
              "      <th>Rev.</th>\n",
              "      <th>Ctrl</th>\n",
              "    </tr>\n",
              "  </thead>\n",
              "  <tbody>\n",
              "    <tr>\n",
              "      <th>0</th>\n",
              "      <td>Brian Ortega Chan Sung Jung</td>\n",
              "      <td>2  0</td>\n",
              "      <td>127 of 212  62 of 163</td>\n",
              "      <td>59%  38%</td>\n",
              "      <td>129 of 214  64 of 166</td>\n",
              "      <td>3 of 10  0 of 0</td>\n",
              "      <td>30%  ---</td>\n",
              "      <td>0  0</td>\n",
              "      <td>0  0</td>\n",
              "      <td>0:57  0:00</td>\n",
              "    </tr>\n",
              "  </tbody>\n",
              "</table>\n",
              "</div>"
            ],
            "text/plain": [
              "                       Fighter    KD  ...  Rev.        Ctrl\n",
              "0  Brian Ortega Chan Sung Jung  2  0  ...  0  0  0:57  0:00\n",
              "\n",
              "[1 rows x 10 columns]"
            ]
          },
          "metadata": {
            "tags": []
          },
          "execution_count": 19
        }
      ]
    },
    {
      "cell_type": "code",
      "metadata": {
        "id": "cp_MiPr7eovl",
        "outputId": "79e713ca-30cc-48c8-833c-d66a7325a538",
        "colab": {
          "base_uri": "https://localhost:8080/",
          "height": 36
        }
      },
      "source": [
        "ortega_vs_jung_tables[0][\"Fighter\"][0]"
      ],
      "execution_count": null,
      "outputs": [
        {
          "output_type": "execute_result",
          "data": {
            "application/vnd.google.colaboratory.intrinsic+json": {
              "type": "string"
            },
            "text/plain": [
              "'Brian Ortega Chan Sung Jung'"
            ]
          },
          "metadata": {
            "tags": []
          },
          "execution_count": 64
        }
      ]
    },
    {
      "cell_type": "code",
      "metadata": {
        "id": "SyY3C2JNZzSq",
        "outputId": "41f64f81-56ba-465a-e24d-286346c0efdf",
        "colab": {
          "base_uri": "https://localhost:8080/",
          "height": 52
        }
      },
      "source": [
        "for i, row in all_fighters_tables.iterrows():\n",
        "    fighter_name = f'{row[\"First\"]} {row[\"Last\"]}'\n",
        "    if ortega_vs_jung_tables[0][\"Fighter\"][0].startswith(fighter_name):\n",
        "        first_fighter = fighter_name\n",
        "        second_fighter = ortega_vs_jung_tables[0][\"Fighter\"][0][len(fighter_name)+1:]\n",
        "        print(f\"First fighter is {first_fighter}\")\n",
        "        print(f'Second fighter is {second_fighter}')\n",
        "        break"
      ],
      "execution_count": null,
      "outputs": [
        {
          "output_type": "stream",
          "text": [
            "First fighter is Brian Ortega\n",
            "Second fighter is Chan Sung Jung\n"
          ],
          "name": "stdout"
        }
      ]
    },
    {
      "cell_type": "code",
      "metadata": {
        "id": "HIUaOst5ZzQw",
        "outputId": "d1054b58-29ec-4521-a2cb-4a7d4a2920e8",
        "colab": {
          "base_uri": "https://localhost:8080/",
          "height": 36
        }
      },
      "source": [
        "ortega_vs_jung_tables[0][\"KD\"][0]"
      ],
      "execution_count": null,
      "outputs": [
        {
          "output_type": "execute_result",
          "data": {
            "application/vnd.google.colaboratory.intrinsic+json": {
              "type": "string"
            },
            "text/plain": [
              "'2  0'"
            ]
          },
          "metadata": {
            "tags": []
          },
          "execution_count": 75
        }
      ]
    },
    {
      "cell_type": "code",
      "metadata": {
        "id": "CAT6g_yQgADj",
        "outputId": "13de3c50-d213-4644-b32b-2e1b909abd9a",
        "colab": {
          "base_uri": "https://localhost:8080/",
          "height": 52
        }
      },
      "source": [
        "kd_string_split = ortega_vs_jung_tables[0][\"KD\"][0].split(\" \")\n",
        "first_fighter_kd = \" \".join(kd_string_split[:len(kd_string_split)//2])\n",
        "second_fighter_kd = \" \".join(kd_string_split[len(kd_string_split)//2+1:])\n",
        "print(f\"First fighter kds: {first_fighter_kd}\")\n",
        "print(f'Second fighter kds: {second_fighter_kd}')"
      ],
      "execution_count": null,
      "outputs": [
        {
          "output_type": "stream",
          "text": [
            "First fighter kds: 2\n",
            "Second fighter kds: 0\n"
          ],
          "name": "stdout"
        }
      ]
    },
    {
      "cell_type": "code",
      "metadata": {
        "id": "x67iqVTdgiY6"
      },
      "source": [
        "def parse_two_fighter_stats(fight_table, column):\n",
        "    string_split = fight_table[column][0].split(\" \")\n",
        "    first_fighter_stat = \" \".join(string_split[:len(string_split)//2])\n",
        "    second_fighter_stat = \" \".join(string_split[len(string_split)//2+1:])\n",
        "    return first_fighter_stat, second_fighter_stat"
      ],
      "execution_count": null,
      "outputs": []
    },
    {
      "cell_type": "code",
      "metadata": {
        "id": "qs7LTJ7NhERA",
        "outputId": "a4d72ca3-7ecb-48b0-e239-8c4e47c03296",
        "colab": {
          "base_uri": "https://localhost:8080/",
          "height": 497
        }
      },
      "source": [
        "for column in ortega_vs_jung_tables[0].columns:\n",
        "    if column == \"Fighter\":\n",
        "        continue\n",
        "    fighter_1_stat, fighter_2_stat = parse_two_fighter_stats(ortega_vs_jung_tables[0], column)\n",
        "    print(f\"{column} 1: {fighter_1_stat}\")\n",
        "    print(f\"{column} 2: {fighter_2_stat}\")\n",
        "    print()"
      ],
      "execution_count": null,
      "outputs": [
        {
          "output_type": "stream",
          "text": [
            "KD 1: 2\n",
            "KD 2: 0\n",
            "\n",
            "Sig. str. 1: 127 of 212\n",
            "Sig. str. 2: 62 of 163\n",
            "\n",
            "Sig. str. % 1: 59%\n",
            "Sig. str. % 2: 38%\n",
            "\n",
            "Total str. 1: 129 of 214\n",
            "Total str. 2: 64 of 166\n",
            "\n",
            "Td 1: 3 of 10\n",
            "Td 2: 0 of 0\n",
            "\n",
            "Td % 1: 30%\n",
            "Td % 2: ---\n",
            "\n",
            "Sub. att 1: 0\n",
            "Sub. att 2: 0\n",
            "\n",
            "Rev. 1: 0\n",
            "Rev. 2: 0\n",
            "\n",
            "Ctrl 1: 0:57\n",
            "Ctrl 2: 0:00\n",
            "\n"
          ],
          "name": "stdout"
        }
      ]
    },
    {
      "cell_type": "markdown",
      "metadata": {
        "id": "gB8pfDh5iQVd"
      },
      "source": [
        "Now do the same for other tables"
      ]
    },
    {
      "cell_type": "code",
      "metadata": {
        "id": "CaSqL5xRZzON",
        "outputId": "8da4c640-5837-4f41-e160-53f4b884f591",
        "colab": {
          "base_uri": "https://localhost:8080/",
          "height": 340
        }
      },
      "source": [
        "ortega_vs_jung_tables[1]"
      ],
      "execution_count": null,
      "outputs": [
        {
          "output_type": "execute_result",
          "data": {
            "text/html": [
              "<div>\n",
              "<style scoped>\n",
              "    .dataframe tbody tr th:only-of-type {\n",
              "        vertical-align: middle;\n",
              "    }\n",
              "\n",
              "    .dataframe tbody tr th {\n",
              "        vertical-align: top;\n",
              "    }\n",
              "\n",
              "    .dataframe thead tr th {\n",
              "        text-align: left;\n",
              "    }\n",
              "</style>\n",
              "<table border=\"1\" class=\"dataframe\">\n",
              "  <thead>\n",
              "    <tr>\n",
              "      <th></th>\n",
              "      <th>Fighter</th>\n",
              "      <th>KD</th>\n",
              "      <th>Sig. str.</th>\n",
              "      <th>Sig. str. %</th>\n",
              "      <th>Total str.</th>\n",
              "      <th colspan=\"2\" halign=\"left\">Td %</th>\n",
              "      <th>Sub. att</th>\n",
              "      <th>Rev.</th>\n",
              "      <th>Ctrl</th>\n",
              "    </tr>\n",
              "    <tr>\n",
              "      <th></th>\n",
              "      <th>Round 1</th>\n",
              "      <th>Round 1</th>\n",
              "      <th>Round 1</th>\n",
              "      <th>Round 1</th>\n",
              "      <th>Round 1</th>\n",
              "      <th colspan=\"2\" halign=\"left\">Round 1</th>\n",
              "      <th>Round 1</th>\n",
              "      <th>Round 1</th>\n",
              "      <th>Round 1</th>\n",
              "    </tr>\n",
              "    <tr>\n",
              "      <th></th>\n",
              "      <th>Round 2</th>\n",
              "      <th>Round 2</th>\n",
              "      <th>Round 2</th>\n",
              "      <th>Round 2</th>\n",
              "      <th>Round 2</th>\n",
              "      <th colspan=\"2\" halign=\"left\">Round 2</th>\n",
              "      <th>Round 2</th>\n",
              "      <th>Round 2</th>\n",
              "      <th>Round 2</th>\n",
              "    </tr>\n",
              "    <tr>\n",
              "      <th></th>\n",
              "      <th>Round 3</th>\n",
              "      <th>Round 3</th>\n",
              "      <th>Round 3</th>\n",
              "      <th>Round 3</th>\n",
              "      <th>Round 3</th>\n",
              "      <th colspan=\"2\" halign=\"left\">Round 3</th>\n",
              "      <th>Round 3</th>\n",
              "      <th>Round 3</th>\n",
              "      <th>Round 3</th>\n",
              "    </tr>\n",
              "    <tr>\n",
              "      <th></th>\n",
              "      <th>Round 4</th>\n",
              "      <th>Round 4</th>\n",
              "      <th>Round 4</th>\n",
              "      <th>Round 4</th>\n",
              "      <th>Round 4</th>\n",
              "      <th colspan=\"2\" halign=\"left\">Round 4</th>\n",
              "      <th>Round 4</th>\n",
              "      <th>Round 4</th>\n",
              "      <th>Round 4</th>\n",
              "    </tr>\n",
              "    <tr>\n",
              "      <th></th>\n",
              "      <th>Round 5</th>\n",
              "      <th>Round 5</th>\n",
              "      <th>Round 5</th>\n",
              "      <th>Round 5</th>\n",
              "      <th>Round 5</th>\n",
              "      <th>Round 5</th>\n",
              "      <th>Round 5.1</th>\n",
              "      <th>Round 5</th>\n",
              "      <th>Round 5</th>\n",
              "      <th>Round 5</th>\n",
              "    </tr>\n",
              "  </thead>\n",
              "  <tbody>\n",
              "    <tr>\n",
              "      <th>0</th>\n",
              "      <td>Brian Ortega Chan Sung Jung</td>\n",
              "      <td>1  0</td>\n",
              "      <td>24 of 39  14 of 26</td>\n",
              "      <td>61%  53%</td>\n",
              "      <td>24 of 39  14 of 26</td>\n",
              "      <td>0 of 0  0 of 0</td>\n",
              "      <td>---  ---</td>\n",
              "      <td>0  0</td>\n",
              "      <td>0  0</td>\n",
              "      <td>0:00  0:00</td>\n",
              "    </tr>\n",
              "    <tr>\n",
              "      <th>1</th>\n",
              "      <td>Brian Ortega Chan Sung Jung</td>\n",
              "      <td>1  0</td>\n",
              "      <td>23 of 37  14 of 34</td>\n",
              "      <td>62%  41%</td>\n",
              "      <td>24 of 38  14 of 34</td>\n",
              "      <td>2 of 3  0 of 0</td>\n",
              "      <td>66%  ---</td>\n",
              "      <td>0  0</td>\n",
              "      <td>0  0</td>\n",
              "      <td>0:35  0:00</td>\n",
              "    </tr>\n",
              "    <tr>\n",
              "      <th>2</th>\n",
              "      <td>Brian Ortega Chan Sung Jung</td>\n",
              "      <td>0  0</td>\n",
              "      <td>28 of 42  7 of 32</td>\n",
              "      <td>66%  21%</td>\n",
              "      <td>28 of 42  7 of 32</td>\n",
              "      <td>0 of 1  0 of 0</td>\n",
              "      <td>0%  ---</td>\n",
              "      <td>0  0</td>\n",
              "      <td>0  0</td>\n",
              "      <td>0:00  0:00</td>\n",
              "    </tr>\n",
              "    <tr>\n",
              "      <th>3</th>\n",
              "      <td>Brian Ortega Chan Sung Jung</td>\n",
              "      <td>0  0</td>\n",
              "      <td>17 of 35  8 of 26</td>\n",
              "      <td>48%  30%</td>\n",
              "      <td>18 of 36  10 of 29</td>\n",
              "      <td>1 of 4  0 of 0</td>\n",
              "      <td>25%  ---</td>\n",
              "      <td>0  0</td>\n",
              "      <td>0  0</td>\n",
              "      <td>0:22  0:00</td>\n",
              "    </tr>\n",
              "    <tr>\n",
              "      <th>4</th>\n",
              "      <td>Brian Ortega Chan Sung Jung</td>\n",
              "      <td>0  0</td>\n",
              "      <td>35 of 59  19 of 45</td>\n",
              "      <td>59%  42%</td>\n",
              "      <td>35 of 59  19 of 45</td>\n",
              "      <td>0 of 2  0 of 0</td>\n",
              "      <td>0%  ---</td>\n",
              "      <td>0  0</td>\n",
              "      <td>0  0</td>\n",
              "      <td>0:00  0:00</td>\n",
              "    </tr>\n",
              "  </tbody>\n",
              "</table>\n",
              "</div>"
            ],
            "text/plain": [
              "                       Fighter      KD  ...    Rev.        Ctrl\n",
              "                       Round 1 Round 1  ... Round 1     Round 1\n",
              "                       Round 2 Round 2  ... Round 2     Round 2\n",
              "                       Round 3 Round 3  ... Round 3     Round 3\n",
              "                       Round 4 Round 4  ... Round 4     Round 4\n",
              "                       Round 5 Round 5  ... Round 5     Round 5\n",
              "0  Brian Ortega Chan Sung Jung    1  0  ...    0  0  0:00  0:00\n",
              "1  Brian Ortega Chan Sung Jung    1  0  ...    0  0  0:35  0:00\n",
              "2  Brian Ortega Chan Sung Jung    0  0  ...    0  0  0:00  0:00\n",
              "3  Brian Ortega Chan Sung Jung    0  0  ...    0  0  0:22  0:00\n",
              "4  Brian Ortega Chan Sung Jung    0  0  ...    0  0  0:00  0:00\n",
              "\n",
              "[5 rows x 10 columns]"
            ]
          },
          "metadata": {
            "tags": []
          },
          "execution_count": 97
        }
      ]
    },
    {
      "cell_type": "code",
      "metadata": {
        "id": "3dLSUQDeZzJR",
        "outputId": "fb5270a3-9365-4a06-dd00-2f2b42986d31",
        "colab": {
          "base_uri": "https://localhost:8080/",
          "height": 55
        }
      },
      "source": [
        "new_columns = [\"Fighter 1\", \"Fighter 2\"]\n",
        "for i, column in enumerate(ortega_vs_jung_tables[1]):\n",
        "    if i == 0:\n",
        "        continue\n",
        "    new_columns.append(f\"Fighter 1 {column[0]}\")\n",
        "    new_columns.append(f\"Fighter 2 {column[0]}\")\n",
        "print(new_columns)"
      ],
      "execution_count": null,
      "outputs": [
        {
          "output_type": "stream",
          "text": [
            "['Fighter 1', 'Fighter 2', 'Fighter 1 KD', 'Fighter 2 KD', 'Fighter 1 Sig. str.', 'Fighter 2 Sig. str.', 'Fighter 1 Sig. str. %', 'Fighter 2 Sig. str. %', 'Fighter 1 Total str.', 'Fighter 2 Total str.', 'Fighter 1 Td %', 'Fighter 2 Td %', 'Fighter 1 Td %', 'Fighter 2 Td %', 'Fighter 1 Sub. att', 'Fighter 2 Sub. att', 'Fighter 1 Rev.', 'Fighter 2 Rev.', 'Fighter 1 Ctrl', 'Fighter 2 Ctrl']\n"
          ],
          "name": "stdout"
        }
      ]
    },
    {
      "cell_type": "code",
      "metadata": {
        "id": "2XEqvl8l64rX"
      },
      "source": [
        "def parse_string(row_string):\n",
        "    string_split = row_string.split(\" \")\n",
        "    first_fighter_stat = \" \".join(string_split[:len(string_split)//2])\n",
        "    second_fighter_stat = \" \".join(string_split[len(string_split)//2+1:])\n",
        "    return first_fighter_stat, second_fighter_stat"
      ],
      "execution_count": null,
      "outputs": []
    },
    {
      "cell_type": "code",
      "metadata": {
        "id": "Og2LVY-0iajU"
      },
      "source": [
        "rows = [[] for _ in range(len(new_columns))]\n",
        "for i, row in ortega_vs_jung_tables[1].iterrows():\n",
        "    rows[0].append(first_fighter)\n",
        "    rows[1].append(second_fighter)\n",
        "    index = 2\n",
        "    for column in ortega_vs_jung_tables[1]:\n",
        "        if column[0] == \"Fighter\":\n",
        "            continue\n",
        "        stat1, stat2 = parse_string(row[column[0]][0])\n",
        "        rows[index].append(stat1)\n",
        "        rows[index+1].append(stat2)\n",
        "        index += 2"
      ],
      "execution_count": null,
      "outputs": []
    },
    {
      "cell_type": "code",
      "metadata": {
        "id": "gKDQ6YjF74Jp",
        "outputId": "1042c9c1-cc0c-44de-d9e3-42a24e8dabd3",
        "colab": {
          "base_uri": "https://localhost:8080/",
          "height": 55
        }
      },
      "source": [
        "print(rows)"
      ],
      "execution_count": null,
      "outputs": [
        {
          "output_type": "stream",
          "text": [
            "[['Brian Ortega', 'Brian Ortega', 'Brian Ortega', 'Brian Ortega', 'Brian Ortega'], ['Chan Sung Jung', 'Chan Sung Jung', 'Chan Sung Jung', 'Chan Sung Jung', 'Chan Sung Jung'], ['1', '1', '0', '0', '0'], ['0', '0', '0', '0', '0'], ['24 of 39', '23 of 37', '28 of 42', '17 of 35', '35 of 59'], ['14 of 26', '14 of 34', '7 of 32', '8 of 26', '19 of 45'], ['61%', '62%', '66%', '48%', '59%'], ['53%', '41%', '21%', '30%', '42%'], ['24 of 39', '24 of 38', '28 of 42', '18 of 36', '35 of 59'], ['14 of 26', '14 of 34', '7 of 32', '10 of 29', '19 of 45'], ['0 of 0', '2 of 3', '0 of 1', '1 of 4', '0 of 2'], ['0 of 0', '0 of 0', '0 of 0', '0 of 0', '0 of 0'], ['0 of 0', '2 of 3', '0 of 1', '1 of 4', '0 of 2'], ['0 of 0', '0 of 0', '0 of 0', '0 of 0', '0 of 0'], ['0', '0', '0', '0', '0'], ['0', '0', '0', '0', '0'], ['0', '0', '0', '0', '0'], ['0', '0', '0', '0', '0'], ['0:00', '0:35', '0:00', '0:22', '0:00'], ['0:00', '0:00', '0:00', '0:00', '0:00']]\n"
          ],
          "name": "stdout"
        }
      ]
    },
    {
      "cell_type": "code",
      "metadata": {
        "id": "qNgaydzJ9JPK"
      },
      "source": [
        "new_rows = []\n",
        "for i, row in ortega_vs_jung_tables[1].iterrows():\n",
        "    new_row = []\n",
        "    new_row.append(first_fighter)\n",
        "    new_row.append(second_fighter)\n",
        "    for column in ortega_vs_jung_tables[1]:\n",
        "        if column[0] == \"Fighter\":\n",
        "            continue\n",
        "        stat1, stat2 = parse_string(row[column[0]][0])\n",
        "        new_row.append(stat1)\n",
        "        new_row.append(stat2)\n",
        "    new_rows.append(new_row)"
      ],
      "execution_count": null,
      "outputs": []
    },
    {
      "cell_type": "code",
      "metadata": {
        "id": "_qh77mX79e60",
        "outputId": "c7e07f91-2a19-4578-e18e-86e360997565",
        "colab": {
          "base_uri": "https://localhost:8080/",
          "height": 55
        }
      },
      "source": [
        "print(new_rows)"
      ],
      "execution_count": null,
      "outputs": [
        {
          "output_type": "stream",
          "text": [
            "[['Brian Ortega', 'Chan Sung Jung', '1', '0', '24 of 39', '14 of 26', '61%', '53%', '24 of 39', '14 of 26', '0 of 0', '0 of 0', '0 of 0', '0 of 0', '0', '0', '0', '0', '0:00', '0:00'], ['Brian Ortega', 'Chan Sung Jung', '1', '0', '23 of 37', '14 of 34', '62%', '41%', '24 of 38', '14 of 34', '2 of 3', '0 of 0', '2 of 3', '0 of 0', '0', '0', '0', '0', '0:35', '0:00'], ['Brian Ortega', 'Chan Sung Jung', '0', '0', '28 of 42', '7 of 32', '66%', '21%', '28 of 42', '7 of 32', '0 of 1', '0 of 0', '0 of 1', '0 of 0', '0', '0', '0', '0', '0:00', '0:00'], ['Brian Ortega', 'Chan Sung Jung', '0', '0', '17 of 35', '8 of 26', '48%', '30%', '18 of 36', '10 of 29', '1 of 4', '0 of 0', '1 of 4', '0 of 0', '0', '0', '0', '0', '0:22', '0:00'], ['Brian Ortega', 'Chan Sung Jung', '0', '0', '35 of 59', '19 of 45', '59%', '42%', '35 of 59', '19 of 45', '0 of 2', '0 of 0', '0 of 2', '0 of 0', '0', '0', '0', '0', '0:00', '0:00']]\n"
          ],
          "name": "stdout"
        }
      ]
    },
    {
      "cell_type": "code",
      "metadata": {
        "id": "C4EedxAZiamS"
      },
      "source": [
        "df = pd.DataFrame(new_rows, columns=new_columns) "
      ],
      "execution_count": null,
      "outputs": []
    },
    {
      "cell_type": "code",
      "metadata": {
        "id": "2UONeYy3iag7",
        "outputId": "d04fd029-0c12-4280-975c-9908543d8202",
        "colab": {
          "base_uri": "https://localhost:8080/",
          "height": 396
        }
      },
      "source": [
        "df.head()"
      ],
      "execution_count": null,
      "outputs": [
        {
          "output_type": "execute_result",
          "data": {
            "text/html": [
              "<div>\n",
              "<style scoped>\n",
              "    .dataframe tbody tr th:only-of-type {\n",
              "        vertical-align: middle;\n",
              "    }\n",
              "\n",
              "    .dataframe tbody tr th {\n",
              "        vertical-align: top;\n",
              "    }\n",
              "\n",
              "    .dataframe thead th {\n",
              "        text-align: right;\n",
              "    }\n",
              "</style>\n",
              "<table border=\"1\" class=\"dataframe\">\n",
              "  <thead>\n",
              "    <tr style=\"text-align: right;\">\n",
              "      <th></th>\n",
              "      <th>Fighter 1</th>\n",
              "      <th>Fighter 2</th>\n",
              "      <th>Fighter 1 KD</th>\n",
              "      <th>Fighter 2 KD</th>\n",
              "      <th>Fighter 1 Sig. str.</th>\n",
              "      <th>Fighter 2 Sig. str.</th>\n",
              "      <th>Fighter 1 Sig. str. %</th>\n",
              "      <th>Fighter 2 Sig. str. %</th>\n",
              "      <th>Fighter 1 Total str.</th>\n",
              "      <th>Fighter 2 Total str.</th>\n",
              "      <th>Fighter 1 Td %</th>\n",
              "      <th>Fighter 2 Td %</th>\n",
              "      <th>Fighter 1 Td %</th>\n",
              "      <th>Fighter 2 Td %</th>\n",
              "      <th>Fighter 1 Sub. att</th>\n",
              "      <th>Fighter 2 Sub. att</th>\n",
              "      <th>Fighter 1 Rev.</th>\n",
              "      <th>Fighter 2 Rev.</th>\n",
              "      <th>Fighter 1 Ctrl</th>\n",
              "      <th>Fighter 2 Ctrl</th>\n",
              "    </tr>\n",
              "  </thead>\n",
              "  <tbody>\n",
              "    <tr>\n",
              "      <th>0</th>\n",
              "      <td>Brian Ortega</td>\n",
              "      <td>Chan Sung Jung</td>\n",
              "      <td>1</td>\n",
              "      <td>0</td>\n",
              "      <td>24 of 39</td>\n",
              "      <td>14 of 26</td>\n",
              "      <td>61%</td>\n",
              "      <td>53%</td>\n",
              "      <td>24 of 39</td>\n",
              "      <td>14 of 26</td>\n",
              "      <td>0 of 0</td>\n",
              "      <td>0 of 0</td>\n",
              "      <td>0 of 0</td>\n",
              "      <td>0 of 0</td>\n",
              "      <td>0</td>\n",
              "      <td>0</td>\n",
              "      <td>0</td>\n",
              "      <td>0</td>\n",
              "      <td>0:00</td>\n",
              "      <td>0:00</td>\n",
              "    </tr>\n",
              "    <tr>\n",
              "      <th>1</th>\n",
              "      <td>Brian Ortega</td>\n",
              "      <td>Chan Sung Jung</td>\n",
              "      <td>1</td>\n",
              "      <td>0</td>\n",
              "      <td>23 of 37</td>\n",
              "      <td>14 of 34</td>\n",
              "      <td>62%</td>\n",
              "      <td>41%</td>\n",
              "      <td>24 of 38</td>\n",
              "      <td>14 of 34</td>\n",
              "      <td>2 of 3</td>\n",
              "      <td>0 of 0</td>\n",
              "      <td>2 of 3</td>\n",
              "      <td>0 of 0</td>\n",
              "      <td>0</td>\n",
              "      <td>0</td>\n",
              "      <td>0</td>\n",
              "      <td>0</td>\n",
              "      <td>0:35</td>\n",
              "      <td>0:00</td>\n",
              "    </tr>\n",
              "    <tr>\n",
              "      <th>2</th>\n",
              "      <td>Brian Ortega</td>\n",
              "      <td>Chan Sung Jung</td>\n",
              "      <td>0</td>\n",
              "      <td>0</td>\n",
              "      <td>28 of 42</td>\n",
              "      <td>7 of 32</td>\n",
              "      <td>66%</td>\n",
              "      <td>21%</td>\n",
              "      <td>28 of 42</td>\n",
              "      <td>7 of 32</td>\n",
              "      <td>0 of 1</td>\n",
              "      <td>0 of 0</td>\n",
              "      <td>0 of 1</td>\n",
              "      <td>0 of 0</td>\n",
              "      <td>0</td>\n",
              "      <td>0</td>\n",
              "      <td>0</td>\n",
              "      <td>0</td>\n",
              "      <td>0:00</td>\n",
              "      <td>0:00</td>\n",
              "    </tr>\n",
              "    <tr>\n",
              "      <th>3</th>\n",
              "      <td>Brian Ortega</td>\n",
              "      <td>Chan Sung Jung</td>\n",
              "      <td>0</td>\n",
              "      <td>0</td>\n",
              "      <td>17 of 35</td>\n",
              "      <td>8 of 26</td>\n",
              "      <td>48%</td>\n",
              "      <td>30%</td>\n",
              "      <td>18 of 36</td>\n",
              "      <td>10 of 29</td>\n",
              "      <td>1 of 4</td>\n",
              "      <td>0 of 0</td>\n",
              "      <td>1 of 4</td>\n",
              "      <td>0 of 0</td>\n",
              "      <td>0</td>\n",
              "      <td>0</td>\n",
              "      <td>0</td>\n",
              "      <td>0</td>\n",
              "      <td>0:22</td>\n",
              "      <td>0:00</td>\n",
              "    </tr>\n",
              "    <tr>\n",
              "      <th>4</th>\n",
              "      <td>Brian Ortega</td>\n",
              "      <td>Chan Sung Jung</td>\n",
              "      <td>0</td>\n",
              "      <td>0</td>\n",
              "      <td>35 of 59</td>\n",
              "      <td>19 of 45</td>\n",
              "      <td>59%</td>\n",
              "      <td>42%</td>\n",
              "      <td>35 of 59</td>\n",
              "      <td>19 of 45</td>\n",
              "      <td>0 of 2</td>\n",
              "      <td>0 of 0</td>\n",
              "      <td>0 of 2</td>\n",
              "      <td>0 of 0</td>\n",
              "      <td>0</td>\n",
              "      <td>0</td>\n",
              "      <td>0</td>\n",
              "      <td>0</td>\n",
              "      <td>0:00</td>\n",
              "      <td>0:00</td>\n",
              "    </tr>\n",
              "  </tbody>\n",
              "</table>\n",
              "</div>"
            ],
            "text/plain": [
              "      Fighter 1       Fighter 2  ... Fighter 1 Ctrl Fighter 2 Ctrl\n",
              "0  Brian Ortega  Chan Sung Jung  ...           0:00           0:00\n",
              "1  Brian Ortega  Chan Sung Jung  ...           0:35           0:00\n",
              "2  Brian Ortega  Chan Sung Jung  ...           0:00           0:00\n",
              "3  Brian Ortega  Chan Sung Jung  ...           0:22           0:00\n",
              "4  Brian Ortega  Chan Sung Jung  ...           0:00           0:00\n",
              "\n",
              "[5 rows x 20 columns]"
            ]
          },
          "metadata": {
            "tags": []
          },
          "execution_count": 129
        }
      ]
    },
    {
      "cell_type": "code",
      "metadata": {
        "id": "QzKIOA129kZ2"
      },
      "source": [
        ""
      ],
      "execution_count": null,
      "outputs": []
    },
    {
      "cell_type": "code",
      "metadata": {
        "id": "pAUKZJHN9kW-"
      },
      "source": [
        ""
      ],
      "execution_count": null,
      "outputs": []
    },
    {
      "cell_type": "code",
      "metadata": {
        "id": "rWmFUqmr9kU0"
      },
      "source": [
        ""
      ],
      "execution_count": null,
      "outputs": []
    },
    {
      "cell_type": "code",
      "metadata": {
        "id": "4ZpFfhGo9kSY"
      },
      "source": [
        ""
      ],
      "execution_count": null,
      "outputs": []
    },
    {
      "cell_type": "code",
      "metadata": {
        "id": "YJ9tbMGa9kQS"
      },
      "source": [
        ""
      ],
      "execution_count": null,
      "outputs": []
    },
    {
      "cell_type": "markdown",
      "metadata": {
        "id": "hYGOutwI-g9H"
      },
      "source": [
        "## Going to future pages"
      ]
    },
    {
      "cell_type": "code",
      "metadata": {
        "id": "UqZSSQ8r-rMm"
      },
      "source": [
        "from urllib.request import urlopen"
      ],
      "execution_count": 130,
      "outputs": []
    },
    {
      "cell_type": "code",
      "metadata": {
        "id": "3oD77MI70hI-"
      },
      "source": [
        "all_past_events_page = urlopen(all_past_events_url)"
      ],
      "execution_count": 131,
      "outputs": []
    },
    {
      "cell_type": "code",
      "metadata": {
        "id": "cWv8IhyN0pdR"
      },
      "source": [
        "all_past_events_html_bytes = all_past_events_page.read()\n",
        "all_past_events_html = all_past_events_html_bytes.decode(\"utf-8\")"
      ],
      "execution_count": 132,
      "outputs": []
    },
    {
      "cell_type": "code",
      "metadata": {
        "id": "f29tFTZq1e2N"
      },
      "source": [
        "event1, event2 = all_past_events_tables[\"Name/date\"][1], all_past_events_tables[\"Name/date\"][2]"
      ],
      "execution_count": 133,
      "outputs": []
    },
    {
      "cell_type": "code",
      "metadata": {
        "id": "YRLQtWQg04AT"
      },
      "source": [
        "i1, i2 = all_past_events_html.find(event1[:event1.find(\"vs\")]), all_past_events_html.find(event2[:event2.find(\"vs\")])\n",
        "event_string = all_past_events_html[i1:i2]\n",
        "http_index = event_string.find('http://')\n",
        "short = event_string[http_index:]\n",
        "short = short[:short.find(\"\\\"\")]"
      ],
      "execution_count": 134,
      "outputs": []
    },
    {
      "cell_type": "code",
      "metadata": {
        "id": "xHVKm2Xw2B-1",
        "outputId": "6841be4a-528c-4316-aaa9-c1dd3c71ec71",
        "colab": {
          "base_uri": "https://localhost:8080/",
          "height": 107
        }
      },
      "source": [
        "event_string"
      ],
      "execution_count": 135,
      "outputs": [
        {
          "output_type": "execute_result",
          "data": {
            "application/vnd.google.colaboratory.intrinsic+json": {
              "type": "string"
            },
            "text/plain": [
              "'UFC Fight Night: Hall vs. Silva\\n                        </a>\\n                        <span class=\"b-statistics__date\">\\n                          October 31, 2020\\n                        </span>\\n                    </i>\\n                  </td>\\n                  <td class=\"b-statistics__table-col b-statistics__table-col_style_big-top-padding\">\\n                    Las Vegas, Nevada, USA\\n                  </td>\\n                </tr>\\n              \\n                <tr class=\"b-statistics__table-row\">\\n                  <td class=\"b-statistics__table-col\">\\n                  \\n                    <i class=\"b-statistics__table-content\">\\n                        <a href=\"http://ufcstats.com/event-details/c3c38c86f5ab9b5c\" class=\"b-link b-link_style_black\">\\n                          '"
            ]
          },
          "metadata": {
            "tags": []
          },
          "execution_count": 135
        }
      ]
    },
    {
      "cell_type": "code",
      "metadata": {
        "id": "ilRmxlvH2Nmj",
        "outputId": "61856f2d-b483-445a-a626-6ce34a62d8d3",
        "colab": {
          "base_uri": "https://localhost:8080/",
          "height": 36
        }
      },
      "source": [
        "short"
      ],
      "execution_count": 136,
      "outputs": [
        {
          "output_type": "execute_result",
          "data": {
            "application/vnd.google.colaboratory.intrinsic+json": {
              "type": "string"
            },
            "text/plain": [
              "'http://ufcstats.com/event-details/c3c38c86f5ab9b5c'"
            ]
          },
          "metadata": {
            "tags": []
          },
          "execution_count": 136
        }
      ]
    },
    {
      "cell_type": "code",
      "metadata": {
        "id": "Ef6D8u5P07OZ",
        "outputId": "83bae9ad-f5fe-4808-e202-39deddc1d811",
        "colab": {
          "base_uri": "https://localhost:8080/",
          "height": 36
        }
      },
      "source": [
        "all_past_events_tables[\"Name/date\"][2]"
      ],
      "execution_count": 137,
      "outputs": [
        {
          "output_type": "execute_result",
          "data": {
            "application/vnd.google.colaboratory.intrinsic+json": {
              "type": "string"
            },
            "text/plain": [
              "'UFC 254: Khabib vs. Gaethje  October 24, 2020'"
            ]
          },
          "metadata": {
            "tags": []
          },
          "execution_count": 137
        }
      ]
    },
    {
      "cell_type": "code",
      "metadata": {
        "id": "JOvgx_9Z1SOv"
      },
      "source": [
        ""
      ],
      "execution_count": null,
      "outputs": []
    }
  ]
}