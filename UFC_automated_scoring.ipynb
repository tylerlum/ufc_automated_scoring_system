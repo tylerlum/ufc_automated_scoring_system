{
  "nbformat": 4,
  "nbformat_minor": 0,
  "metadata": {
    "kernelspec": {
      "display_name": "Python 3",
      "language": "python",
      "name": "python3"
    },
    "language_info": {
      "codemirror_mode": {
        "name": "ipython",
        "version": 3
      },
      "file_extension": ".py",
      "mimetype": "text/x-python",
      "name": "python",
      "nbconvert_exporter": "python",
      "pygments_lexer": "ipython3",
      "version": "3.6.9"
    },
    "colab": {
      "name": "UFC_automated_scoring.ipynb",
      "provenance": [],
      "collapsed_sections": [],
      "include_colab_link": true
    }
  },
  "cells": [
    {
      "cell_type": "markdown",
      "metadata": {
        "id": "view-in-github",
        "colab_type": "text"
      },
      "source": [
        "<a href=\"https://colab.research.google.com/github/tylerlum/ufc_automated_scoring_system/blob/main/UFC_automated_scoring.ipynb\" target=\"_parent\"><img src=\"https://colab.research.google.com/assets/colab-badge.svg\" alt=\"Open In Colab\"/></a>"
      ]
    },
    {
      "cell_type": "markdown",
      "metadata": {
        "id": "q2Ink0cSOSRR"
      },
      "source": [
        "# UFC Automated Scoring\n",
        "\n",
        "The goal of this notebook is to:\n",
        "* Read in stored, scraped UFC data and convert it into a dataset ready for ML models\n",
        "* Train, test, and analyze ML models\n",
        "\n",
        "Functional as of April 2021"
      ]
    },
    {
      "cell_type": "markdown",
      "metadata": {
        "id": "XIv8RUYoOSRW"
      },
      "source": [
        "## Read in stored data"
      ]
    },
    {
      "cell_type": "code",
      "metadata": {
        "id": "Ws0PWbZMOSRX"
      },
      "source": [
        "import numpy as np\n",
        "import pandas as pd"
      ],
      "execution_count": 1,
      "outputs": []
    },
    {
      "cell_type": "code",
      "metadata": {
        "id": "3MgHHwyvOSRX"
      },
      "source": [
        "STORED_FIGHT_TABLE = pd.read_csv('FIGHT_TABLE_NUM_EVENTS_All_DATA_MODE_Summary_22-04-2021_11:08:22.csv')"
      ],
      "execution_count": 2,
      "outputs": []
    },
    {
      "cell_type": "code",
      "metadata": {
        "colab": {
          "base_uri": "https://localhost:8080/",
          "height": 657
        },
        "id": "PlBKZMo0OSRX",
        "outputId": "4d6cc487-633d-45d4-fc07-d6145ebebedf"
      },
      "source": [
        "STORED_FIGHT_TABLE"
      ],
      "execution_count": 3,
      "outputs": [
        {
          "output_type": "execute_result",
          "data": {
            "text/html": [
              "<div>\n",
              "<style scoped>\n",
              "    .dataframe tbody tr th:only-of-type {\n",
              "        vertical-align: middle;\n",
              "    }\n",
              "\n",
              "    .dataframe tbody tr th {\n",
              "        vertical-align: top;\n",
              "    }\n",
              "\n",
              "    .dataframe thead th {\n",
              "        text-align: right;\n",
              "    }\n",
              "</style>\n",
              "<table border=\"1\" class=\"dataframe\">\n",
              "  <thead>\n",
              "    <tr style=\"text-align: right;\">\n",
              "      <th></th>\n",
              "      <th>Fighter 0 KD</th>\n",
              "      <th>Fighter 1 KD</th>\n",
              "      <th>Fighter 0 Sig. str.</th>\n",
              "      <th>Fighter 1 Sig. str.</th>\n",
              "      <th>Fighter 0 Sig. str. %</th>\n",
              "      <th>Fighter 1 Sig. str. %</th>\n",
              "      <th>Fighter 0 Total str.</th>\n",
              "      <th>Fighter 1 Total str.</th>\n",
              "      <th>Fighter 0 Td</th>\n",
              "      <th>Fighter 1 Td</th>\n",
              "      <th>Fighter 0 Td %</th>\n",
              "      <th>Fighter 1 Td %</th>\n",
              "      <th>Fighter 0 Sub. att</th>\n",
              "      <th>Fighter 1 Sub. att</th>\n",
              "      <th>Fighter 0 Rev.</th>\n",
              "      <th>Fighter 1 Rev.</th>\n",
              "      <th>Fighter 0 Ctrl</th>\n",
              "      <th>Fighter 1 Ctrl</th>\n",
              "      <th>Fighter 0 Name</th>\n",
              "      <th>Fighter 1 Name</th>\n",
              "      <th>Fighter 0 Head</th>\n",
              "      <th>Fighter 1 Head</th>\n",
              "      <th>Fighter 0 Body</th>\n",
              "      <th>Fighter 1 Body</th>\n",
              "      <th>Fighter 0 Leg</th>\n",
              "      <th>Fighter 1 Leg</th>\n",
              "      <th>Fighter 0 Distance</th>\n",
              "      <th>Fighter 1 Distance</th>\n",
              "      <th>Fighter 0 Clinch</th>\n",
              "      <th>Fighter 1 Clinch</th>\n",
              "      <th>Fighter 0 Ground</th>\n",
              "      <th>Fighter 1 Ground</th>\n",
              "      <th>Winner</th>\n",
              "      <th>Method</th>\n",
              "    </tr>\n",
              "  </thead>\n",
              "  <tbody>\n",
              "    <tr>\n",
              "      <th>0</th>\n",
              "      <td>0</td>\n",
              "      <td>0</td>\n",
              "      <td>150</td>\n",
              "      <td>62</td>\n",
              "      <td>52.0</td>\n",
              "      <td>29.0</td>\n",
              "      <td>169</td>\n",
              "      <td>70</td>\n",
              "      <td>4</td>\n",
              "      <td>1</td>\n",
              "      <td>57.0</td>\n",
              "      <td>20.0</td>\n",
              "      <td>0</td>\n",
              "      <td>0</td>\n",
              "      <td>0</td>\n",
              "      <td>0</td>\n",
              "      <td>259.0</td>\n",
              "      <td>26.0</td>\n",
              "      <td>Robert Whittaker</td>\n",
              "      <td>Kelvin Gastelum</td>\n",
              "      <td>115</td>\n",
              "      <td>42</td>\n",
              "      <td>13</td>\n",
              "      <td>7</td>\n",
              "      <td>22</td>\n",
              "      <td>13</td>\n",
              "      <td>138</td>\n",
              "      <td>59</td>\n",
              "      <td>5</td>\n",
              "      <td>3</td>\n",
              "      <td>7</td>\n",
              "      <td>0</td>\n",
              "      <td>0</td>\n",
              "      <td>U-DEC</td>\n",
              "    </tr>\n",
              "    <tr>\n",
              "      <th>1</th>\n",
              "      <td>0</td>\n",
              "      <td>0</td>\n",
              "      <td>105</td>\n",
              "      <td>88</td>\n",
              "      <td>47.0</td>\n",
              "      <td>45.0</td>\n",
              "      <td>109</td>\n",
              "      <td>99</td>\n",
              "      <td>0</td>\n",
              "      <td>0</td>\n",
              "      <td>NaN</td>\n",
              "      <td>NaN</td>\n",
              "      <td>0</td>\n",
              "      <td>0</td>\n",
              "      <td>0</td>\n",
              "      <td>0</td>\n",
              "      <td>39.0</td>\n",
              "      <td>0.0</td>\n",
              "      <td>Andrei Arlovski</td>\n",
              "      <td>Chase Sherman</td>\n",
              "      <td>54</td>\n",
              "      <td>55</td>\n",
              "      <td>26</td>\n",
              "      <td>16</td>\n",
              "      <td>25</td>\n",
              "      <td>17</td>\n",
              "      <td>103</td>\n",
              "      <td>84</td>\n",
              "      <td>2</td>\n",
              "      <td>4</td>\n",
              "      <td>0</td>\n",
              "      <td>0</td>\n",
              "      <td>0</td>\n",
              "      <td>U-DEC</td>\n",
              "    </tr>\n",
              "    <tr>\n",
              "      <th>2</th>\n",
              "      <td>0</td>\n",
              "      <td>0</td>\n",
              "      <td>21</td>\n",
              "      <td>27</td>\n",
              "      <td>44.0</td>\n",
              "      <td>49.0</td>\n",
              "      <td>32</td>\n",
              "      <td>91</td>\n",
              "      <td>0</td>\n",
              "      <td>8</td>\n",
              "      <td>NaN</td>\n",
              "      <td>33.0</td>\n",
              "      <td>0</td>\n",
              "      <td>2</td>\n",
              "      <td>0</td>\n",
              "      <td>0</td>\n",
              "      <td>2.0</td>\n",
              "      <td>701.0</td>\n",
              "      <td>Abdul Razak Alhassan</td>\n",
              "      <td>Jacob Malkoun</td>\n",
              "      <td>11</td>\n",
              "      <td>24</td>\n",
              "      <td>9</td>\n",
              "      <td>2</td>\n",
              "      <td>1</td>\n",
              "      <td>1</td>\n",
              "      <td>14</td>\n",
              "      <td>18</td>\n",
              "      <td>5</td>\n",
              "      <td>3</td>\n",
              "      <td>2</td>\n",
              "      <td>6</td>\n",
              "      <td>1</td>\n",
              "      <td>U-DEC</td>\n",
              "    </tr>\n",
              "    <tr>\n",
              "      <th>3</th>\n",
              "      <td>0</td>\n",
              "      <td>1</td>\n",
              "      <td>66</td>\n",
              "      <td>55</td>\n",
              "      <td>58.0</td>\n",
              "      <td>46.0</td>\n",
              "      <td>84</td>\n",
              "      <td>72</td>\n",
              "      <td>3</td>\n",
              "      <td>0</td>\n",
              "      <td>60.0</td>\n",
              "      <td>0.0</td>\n",
              "      <td>1</td>\n",
              "      <td>0</td>\n",
              "      <td>0</td>\n",
              "      <td>0</td>\n",
              "      <td>386.0</td>\n",
              "      <td>38.0</td>\n",
              "      <td>Tracy Cortez</td>\n",
              "      <td>Justine Kish</td>\n",
              "      <td>40</td>\n",
              "      <td>30</td>\n",
              "      <td>19</td>\n",
              "      <td>8</td>\n",
              "      <td>7</td>\n",
              "      <td>17</td>\n",
              "      <td>39</td>\n",
              "      <td>50</td>\n",
              "      <td>7</td>\n",
              "      <td>4</td>\n",
              "      <td>20</td>\n",
              "      <td>1</td>\n",
              "      <td>0</td>\n",
              "      <td>S-DEC</td>\n",
              "    </tr>\n",
              "    <tr>\n",
              "      <th>4</th>\n",
              "      <td>0</td>\n",
              "      <td>0</td>\n",
              "      <td>90</td>\n",
              "      <td>80</td>\n",
              "      <td>46.0</td>\n",
              "      <td>47.0</td>\n",
              "      <td>90</td>\n",
              "      <td>82</td>\n",
              "      <td>0</td>\n",
              "      <td>4</td>\n",
              "      <td>NaN</td>\n",
              "      <td>44.0</td>\n",
              "      <td>0</td>\n",
              "      <td>0</td>\n",
              "      <td>0</td>\n",
              "      <td>0</td>\n",
              "      <td>3.0</td>\n",
              "      <td>141.0</td>\n",
              "      <td>Luis Pena</td>\n",
              "      <td>Alexander Munoz</td>\n",
              "      <td>74</td>\n",
              "      <td>40</td>\n",
              "      <td>12</td>\n",
              "      <td>20</td>\n",
              "      <td>4</td>\n",
              "      <td>20</td>\n",
              "      <td>88</td>\n",
              "      <td>77</td>\n",
              "      <td>2</td>\n",
              "      <td>3</td>\n",
              "      <td>0</td>\n",
              "      <td>0</td>\n",
              "      <td>0</td>\n",
              "      <td>S-DEC</td>\n",
              "    </tr>\n",
              "    <tr>\n",
              "      <th>...</th>\n",
              "      <td>...</td>\n",
              "      <td>...</td>\n",
              "      <td>...</td>\n",
              "      <td>...</td>\n",
              "      <td>...</td>\n",
              "      <td>...</td>\n",
              "      <td>...</td>\n",
              "      <td>...</td>\n",
              "      <td>...</td>\n",
              "      <td>...</td>\n",
              "      <td>...</td>\n",
              "      <td>...</td>\n",
              "      <td>...</td>\n",
              "      <td>...</td>\n",
              "      <td>...</td>\n",
              "      <td>...</td>\n",
              "      <td>...</td>\n",
              "      <td>...</td>\n",
              "      <td>...</td>\n",
              "      <td>...</td>\n",
              "      <td>...</td>\n",
              "      <td>...</td>\n",
              "      <td>...</td>\n",
              "      <td>...</td>\n",
              "      <td>...</td>\n",
              "      <td>...</td>\n",
              "      <td>...</td>\n",
              "      <td>...</td>\n",
              "      <td>...</td>\n",
              "      <td>...</td>\n",
              "      <td>...</td>\n",
              "      <td>...</td>\n",
              "      <td>...</td>\n",
              "      <td>...</td>\n",
              "    </tr>\n",
              "    <tr>\n",
              "      <th>5888</th>\n",
              "      <td>2</td>\n",
              "      <td>0</td>\n",
              "      <td>24</td>\n",
              "      <td>16</td>\n",
              "      <td>68.0</td>\n",
              "      <td>33.0</td>\n",
              "      <td>49</td>\n",
              "      <td>31</td>\n",
              "      <td>0</td>\n",
              "      <td>1</td>\n",
              "      <td>NaN</td>\n",
              "      <td>50.0</td>\n",
              "      <td>0</td>\n",
              "      <td>0</td>\n",
              "      <td>0</td>\n",
              "      <td>0</td>\n",
              "      <td>NaN</td>\n",
              "      <td>NaN</td>\n",
              "      <td>Pedro Rizzo</td>\n",
              "      <td>David Abbott</td>\n",
              "      <td>12</td>\n",
              "      <td>16</td>\n",
              "      <td>0</td>\n",
              "      <td>0</td>\n",
              "      <td>12</td>\n",
              "      <td>0</td>\n",
              "      <td>17</td>\n",
              "      <td>7</td>\n",
              "      <td>4</td>\n",
              "      <td>4</td>\n",
              "      <td>3</td>\n",
              "      <td>5</td>\n",
              "      <td>0</td>\n",
              "      <td>KO/TKO  Punch</td>\n",
              "    </tr>\n",
              "    <tr>\n",
              "      <th>5889</th>\n",
              "      <td>0</td>\n",
              "      <td>0</td>\n",
              "      <td>19</td>\n",
              "      <td>24</td>\n",
              "      <td>55.0</td>\n",
              "      <td>55.0</td>\n",
              "      <td>95</td>\n",
              "      <td>145</td>\n",
              "      <td>1</td>\n",
              "      <td>2</td>\n",
              "      <td>11.0</td>\n",
              "      <td>100.0</td>\n",
              "      <td>0</td>\n",
              "      <td>2</td>\n",
              "      <td>0</td>\n",
              "      <td>1</td>\n",
              "      <td>NaN</td>\n",
              "      <td>NaN</td>\n",
              "      <td>Pat Miletich</td>\n",
              "      <td>Mikey Burnett</td>\n",
              "      <td>2</td>\n",
              "      <td>2</td>\n",
              "      <td>12</td>\n",
              "      <td>20</td>\n",
              "      <td>5</td>\n",
              "      <td>2</td>\n",
              "      <td>4</td>\n",
              "      <td>1</td>\n",
              "      <td>15</td>\n",
              "      <td>23</td>\n",
              "      <td>0</td>\n",
              "      <td>0</td>\n",
              "      <td>0</td>\n",
              "      <td>S-DEC</td>\n",
              "    </tr>\n",
              "    <tr>\n",
              "      <th>5890</th>\n",
              "      <td>0</td>\n",
              "      <td>0</td>\n",
              "      <td>14</td>\n",
              "      <td>13</td>\n",
              "      <td>35.0</td>\n",
              "      <td>19.0</td>\n",
              "      <td>30</td>\n",
              "      <td>15</td>\n",
              "      <td>3</td>\n",
              "      <td>0</td>\n",
              "      <td>60.0</td>\n",
              "      <td>NaN</td>\n",
              "      <td>5</td>\n",
              "      <td>0</td>\n",
              "      <td>1</td>\n",
              "      <td>0</td>\n",
              "      <td>NaN</td>\n",
              "      <td>NaN</td>\n",
              "      <td>Tsuyoshi Kohsaka</td>\n",
              "      <td>Pete Williams</td>\n",
              "      <td>7</td>\n",
              "      <td>6</td>\n",
              "      <td>4</td>\n",
              "      <td>7</td>\n",
              "      <td>3</td>\n",
              "      <td>0</td>\n",
              "      <td>11</td>\n",
              "      <td>12</td>\n",
              "      <td>0</td>\n",
              "      <td>1</td>\n",
              "      <td>3</td>\n",
              "      <td>0</td>\n",
              "      <td>0</td>\n",
              "      <td>U-DEC</td>\n",
              "    </tr>\n",
              "    <tr>\n",
              "      <th>5891</th>\n",
              "      <td>0</td>\n",
              "      <td>0</td>\n",
              "      <td>9</td>\n",
              "      <td>3</td>\n",
              "      <td>56.0</td>\n",
              "      <td>60.0</td>\n",
              "      <td>17</td>\n",
              "      <td>11</td>\n",
              "      <td>1</td>\n",
              "      <td>0</td>\n",
              "      <td>100.0</td>\n",
              "      <td>NaN</td>\n",
              "      <td>1</td>\n",
              "      <td>0</td>\n",
              "      <td>0</td>\n",
              "      <td>0</td>\n",
              "      <td>NaN</td>\n",
              "      <td>NaN</td>\n",
              "      <td>Ebenezer Fontes Braga</td>\n",
              "      <td>Jeremy Horn</td>\n",
              "      <td>6</td>\n",
              "      <td>0</td>\n",
              "      <td>1</td>\n",
              "      <td>3</td>\n",
              "      <td>2</td>\n",
              "      <td>0</td>\n",
              "      <td>2</td>\n",
              "      <td>0</td>\n",
              "      <td>5</td>\n",
              "      <td>3</td>\n",
              "      <td>2</td>\n",
              "      <td>0</td>\n",
              "      <td>0</td>\n",
              "      <td>SUB  Guillotine Choke</td>\n",
              "    </tr>\n",
              "    <tr>\n",
              "      <th>5892</th>\n",
              "      <td>0</td>\n",
              "      <td>0</td>\n",
              "      <td>31</td>\n",
              "      <td>11</td>\n",
              "      <td>70.0</td>\n",
              "      <td>30.0</td>\n",
              "      <td>53</td>\n",
              "      <td>21</td>\n",
              "      <td>4</td>\n",
              "      <td>2</td>\n",
              "      <td>100.0</td>\n",
              "      <td>66.0</td>\n",
              "      <td>0</td>\n",
              "      <td>0</td>\n",
              "      <td>0</td>\n",
              "      <td>1</td>\n",
              "      <td>NaN</td>\n",
              "      <td>NaN</td>\n",
              "      <td>Tulio Palhares</td>\n",
              "      <td>Adriano Santos</td>\n",
              "      <td>26</td>\n",
              "      <td>8</td>\n",
              "      <td>1</td>\n",
              "      <td>2</td>\n",
              "      <td>4</td>\n",
              "      <td>1</td>\n",
              "      <td>11</td>\n",
              "      <td>4</td>\n",
              "      <td>1</td>\n",
              "      <td>0</td>\n",
              "      <td>19</td>\n",
              "      <td>7</td>\n",
              "      <td>0</td>\n",
              "      <td>KO/TKO  Punches</td>\n",
              "    </tr>\n",
              "  </tbody>\n",
              "</table>\n",
              "<p>5893 rows × 34 columns</p>\n",
              "</div>"
            ],
            "text/plain": [
              "      Fighter 0 KD  Fighter 1 KD  ...  Winner                 Method\n",
              "0                0             0  ...       0                  U-DEC\n",
              "1                0             0  ...       0                  U-DEC\n",
              "2                0             0  ...       1                  U-DEC\n",
              "3                0             1  ...       0                  S-DEC\n",
              "4                0             0  ...       0                  S-DEC\n",
              "...            ...           ...  ...     ...                    ...\n",
              "5888             2             0  ...       0          KO/TKO  Punch\n",
              "5889             0             0  ...       0                  S-DEC\n",
              "5890             0             0  ...       0                  U-DEC\n",
              "5891             0             0  ...       0  SUB  Guillotine Choke\n",
              "5892             0             0  ...       0        KO/TKO  Punches\n",
              "\n",
              "[5893 rows x 34 columns]"
            ]
          },
          "metadata": {
            "tags": []
          },
          "execution_count": 3
        }
      ]
    },
    {
      "cell_type": "code",
      "metadata": {
        "colab": {
          "base_uri": "https://localhost:8080/",
          "height": 640
        },
        "id": "uF1ya3BLOSRY",
        "outputId": "94fa6d3c-158a-4ed6-ecda-6a341ca4fa83"
      },
      "source": [
        "# Clean dataset: Only decisions with clear winners\n",
        "STORED_FIGHT_TABLE = STORED_FIGHT_TABLE[STORED_FIGHT_TABLE[\"Method\"].str.contains(\"DEC\")]\n",
        "STORED_FIGHT_TABLE = STORED_FIGHT_TABLE[(STORED_FIGHT_TABLE[\"Winner\"] == 1) | (STORED_FIGHT_TABLE[\"Winner\"] == 0)]\n",
        "STORED_FIGHT_TABLE"
      ],
      "execution_count": 4,
      "outputs": [
        {
          "output_type": "execute_result",
          "data": {
            "text/html": [
              "<div>\n",
              "<style scoped>\n",
              "    .dataframe tbody tr th:only-of-type {\n",
              "        vertical-align: middle;\n",
              "    }\n",
              "\n",
              "    .dataframe tbody tr th {\n",
              "        vertical-align: top;\n",
              "    }\n",
              "\n",
              "    .dataframe thead th {\n",
              "        text-align: right;\n",
              "    }\n",
              "</style>\n",
              "<table border=\"1\" class=\"dataframe\">\n",
              "  <thead>\n",
              "    <tr style=\"text-align: right;\">\n",
              "      <th></th>\n",
              "      <th>Fighter 0 KD</th>\n",
              "      <th>Fighter 1 KD</th>\n",
              "      <th>Fighter 0 Sig. str.</th>\n",
              "      <th>Fighter 1 Sig. str.</th>\n",
              "      <th>Fighter 0 Sig. str. %</th>\n",
              "      <th>Fighter 1 Sig. str. %</th>\n",
              "      <th>Fighter 0 Total str.</th>\n",
              "      <th>Fighter 1 Total str.</th>\n",
              "      <th>Fighter 0 Td</th>\n",
              "      <th>Fighter 1 Td</th>\n",
              "      <th>Fighter 0 Td %</th>\n",
              "      <th>Fighter 1 Td %</th>\n",
              "      <th>Fighter 0 Sub. att</th>\n",
              "      <th>Fighter 1 Sub. att</th>\n",
              "      <th>Fighter 0 Rev.</th>\n",
              "      <th>Fighter 1 Rev.</th>\n",
              "      <th>Fighter 0 Ctrl</th>\n",
              "      <th>Fighter 1 Ctrl</th>\n",
              "      <th>Fighter 0 Name</th>\n",
              "      <th>Fighter 1 Name</th>\n",
              "      <th>Fighter 0 Head</th>\n",
              "      <th>Fighter 1 Head</th>\n",
              "      <th>Fighter 0 Body</th>\n",
              "      <th>Fighter 1 Body</th>\n",
              "      <th>Fighter 0 Leg</th>\n",
              "      <th>Fighter 1 Leg</th>\n",
              "      <th>Fighter 0 Distance</th>\n",
              "      <th>Fighter 1 Distance</th>\n",
              "      <th>Fighter 0 Clinch</th>\n",
              "      <th>Fighter 1 Clinch</th>\n",
              "      <th>Fighter 0 Ground</th>\n",
              "      <th>Fighter 1 Ground</th>\n",
              "      <th>Winner</th>\n",
              "      <th>Method</th>\n",
              "    </tr>\n",
              "  </thead>\n",
              "  <tbody>\n",
              "    <tr>\n",
              "      <th>0</th>\n",
              "      <td>0</td>\n",
              "      <td>0</td>\n",
              "      <td>150</td>\n",
              "      <td>62</td>\n",
              "      <td>52.0</td>\n",
              "      <td>29.0</td>\n",
              "      <td>169</td>\n",
              "      <td>70</td>\n",
              "      <td>4</td>\n",
              "      <td>1</td>\n",
              "      <td>57.0</td>\n",
              "      <td>20.0</td>\n",
              "      <td>0</td>\n",
              "      <td>0</td>\n",
              "      <td>0</td>\n",
              "      <td>0</td>\n",
              "      <td>259.0</td>\n",
              "      <td>26.0</td>\n",
              "      <td>Robert Whittaker</td>\n",
              "      <td>Kelvin Gastelum</td>\n",
              "      <td>115</td>\n",
              "      <td>42</td>\n",
              "      <td>13</td>\n",
              "      <td>7</td>\n",
              "      <td>22</td>\n",
              "      <td>13</td>\n",
              "      <td>138</td>\n",
              "      <td>59</td>\n",
              "      <td>5</td>\n",
              "      <td>3</td>\n",
              "      <td>7</td>\n",
              "      <td>0</td>\n",
              "      <td>0</td>\n",
              "      <td>U-DEC</td>\n",
              "    </tr>\n",
              "    <tr>\n",
              "      <th>1</th>\n",
              "      <td>0</td>\n",
              "      <td>0</td>\n",
              "      <td>105</td>\n",
              "      <td>88</td>\n",
              "      <td>47.0</td>\n",
              "      <td>45.0</td>\n",
              "      <td>109</td>\n",
              "      <td>99</td>\n",
              "      <td>0</td>\n",
              "      <td>0</td>\n",
              "      <td>NaN</td>\n",
              "      <td>NaN</td>\n",
              "      <td>0</td>\n",
              "      <td>0</td>\n",
              "      <td>0</td>\n",
              "      <td>0</td>\n",
              "      <td>39.0</td>\n",
              "      <td>0.0</td>\n",
              "      <td>Andrei Arlovski</td>\n",
              "      <td>Chase Sherman</td>\n",
              "      <td>54</td>\n",
              "      <td>55</td>\n",
              "      <td>26</td>\n",
              "      <td>16</td>\n",
              "      <td>25</td>\n",
              "      <td>17</td>\n",
              "      <td>103</td>\n",
              "      <td>84</td>\n",
              "      <td>2</td>\n",
              "      <td>4</td>\n",
              "      <td>0</td>\n",
              "      <td>0</td>\n",
              "      <td>0</td>\n",
              "      <td>U-DEC</td>\n",
              "    </tr>\n",
              "    <tr>\n",
              "      <th>2</th>\n",
              "      <td>0</td>\n",
              "      <td>0</td>\n",
              "      <td>21</td>\n",
              "      <td>27</td>\n",
              "      <td>44.0</td>\n",
              "      <td>49.0</td>\n",
              "      <td>32</td>\n",
              "      <td>91</td>\n",
              "      <td>0</td>\n",
              "      <td>8</td>\n",
              "      <td>NaN</td>\n",
              "      <td>33.0</td>\n",
              "      <td>0</td>\n",
              "      <td>2</td>\n",
              "      <td>0</td>\n",
              "      <td>0</td>\n",
              "      <td>2.0</td>\n",
              "      <td>701.0</td>\n",
              "      <td>Abdul Razak Alhassan</td>\n",
              "      <td>Jacob Malkoun</td>\n",
              "      <td>11</td>\n",
              "      <td>24</td>\n",
              "      <td>9</td>\n",
              "      <td>2</td>\n",
              "      <td>1</td>\n",
              "      <td>1</td>\n",
              "      <td>14</td>\n",
              "      <td>18</td>\n",
              "      <td>5</td>\n",
              "      <td>3</td>\n",
              "      <td>2</td>\n",
              "      <td>6</td>\n",
              "      <td>1</td>\n",
              "      <td>U-DEC</td>\n",
              "    </tr>\n",
              "    <tr>\n",
              "      <th>3</th>\n",
              "      <td>0</td>\n",
              "      <td>1</td>\n",
              "      <td>66</td>\n",
              "      <td>55</td>\n",
              "      <td>58.0</td>\n",
              "      <td>46.0</td>\n",
              "      <td>84</td>\n",
              "      <td>72</td>\n",
              "      <td>3</td>\n",
              "      <td>0</td>\n",
              "      <td>60.0</td>\n",
              "      <td>0.0</td>\n",
              "      <td>1</td>\n",
              "      <td>0</td>\n",
              "      <td>0</td>\n",
              "      <td>0</td>\n",
              "      <td>386.0</td>\n",
              "      <td>38.0</td>\n",
              "      <td>Tracy Cortez</td>\n",
              "      <td>Justine Kish</td>\n",
              "      <td>40</td>\n",
              "      <td>30</td>\n",
              "      <td>19</td>\n",
              "      <td>8</td>\n",
              "      <td>7</td>\n",
              "      <td>17</td>\n",
              "      <td>39</td>\n",
              "      <td>50</td>\n",
              "      <td>7</td>\n",
              "      <td>4</td>\n",
              "      <td>20</td>\n",
              "      <td>1</td>\n",
              "      <td>0</td>\n",
              "      <td>S-DEC</td>\n",
              "    </tr>\n",
              "    <tr>\n",
              "      <th>4</th>\n",
              "      <td>0</td>\n",
              "      <td>0</td>\n",
              "      <td>90</td>\n",
              "      <td>80</td>\n",
              "      <td>46.0</td>\n",
              "      <td>47.0</td>\n",
              "      <td>90</td>\n",
              "      <td>82</td>\n",
              "      <td>0</td>\n",
              "      <td>4</td>\n",
              "      <td>NaN</td>\n",
              "      <td>44.0</td>\n",
              "      <td>0</td>\n",
              "      <td>0</td>\n",
              "      <td>0</td>\n",
              "      <td>0</td>\n",
              "      <td>3.0</td>\n",
              "      <td>141.0</td>\n",
              "      <td>Luis Pena</td>\n",
              "      <td>Alexander Munoz</td>\n",
              "      <td>74</td>\n",
              "      <td>40</td>\n",
              "      <td>12</td>\n",
              "      <td>20</td>\n",
              "      <td>4</td>\n",
              "      <td>20</td>\n",
              "      <td>88</td>\n",
              "      <td>77</td>\n",
              "      <td>2</td>\n",
              "      <td>3</td>\n",
              "      <td>0</td>\n",
              "      <td>0</td>\n",
              "      <td>0</td>\n",
              "      <td>S-DEC</td>\n",
              "    </tr>\n",
              "    <tr>\n",
              "      <th>...</th>\n",
              "      <td>...</td>\n",
              "      <td>...</td>\n",
              "      <td>...</td>\n",
              "      <td>...</td>\n",
              "      <td>...</td>\n",
              "      <td>...</td>\n",
              "      <td>...</td>\n",
              "      <td>...</td>\n",
              "      <td>...</td>\n",
              "      <td>...</td>\n",
              "      <td>...</td>\n",
              "      <td>...</td>\n",
              "      <td>...</td>\n",
              "      <td>...</td>\n",
              "      <td>...</td>\n",
              "      <td>...</td>\n",
              "      <td>...</td>\n",
              "      <td>...</td>\n",
              "      <td>...</td>\n",
              "      <td>...</td>\n",
              "      <td>...</td>\n",
              "      <td>...</td>\n",
              "      <td>...</td>\n",
              "      <td>...</td>\n",
              "      <td>...</td>\n",
              "      <td>...</td>\n",
              "      <td>...</td>\n",
              "      <td>...</td>\n",
              "      <td>...</td>\n",
              "      <td>...</td>\n",
              "      <td>...</td>\n",
              "      <td>...</td>\n",
              "      <td>...</td>\n",
              "      <td>...</td>\n",
              "    </tr>\n",
              "    <tr>\n",
              "      <th>5880</th>\n",
              "      <td>0</td>\n",
              "      <td>0</td>\n",
              "      <td>27</td>\n",
              "      <td>19</td>\n",
              "      <td>38.0</td>\n",
              "      <td>21.0</td>\n",
              "      <td>71</td>\n",
              "      <td>21</td>\n",
              "      <td>3</td>\n",
              "      <td>1</td>\n",
              "      <td>100.0</td>\n",
              "      <td>16.0</td>\n",
              "      <td>0</td>\n",
              "      <td>1</td>\n",
              "      <td>0</td>\n",
              "      <td>0</td>\n",
              "      <td>NaN</td>\n",
              "      <td>NaN</td>\n",
              "      <td>Pat Miletich</td>\n",
              "      <td>Jorge Patino</td>\n",
              "      <td>9</td>\n",
              "      <td>5</td>\n",
              "      <td>4</td>\n",
              "      <td>1</td>\n",
              "      <td>14</td>\n",
              "      <td>13</td>\n",
              "      <td>20</td>\n",
              "      <td>16</td>\n",
              "      <td>2</td>\n",
              "      <td>2</td>\n",
              "      <td>5</td>\n",
              "      <td>1</td>\n",
              "      <td>0</td>\n",
              "      <td>U-DEC</td>\n",
              "    </tr>\n",
              "    <tr>\n",
              "      <th>5881</th>\n",
              "      <td>0</td>\n",
              "      <td>0</td>\n",
              "      <td>16</td>\n",
              "      <td>25</td>\n",
              "      <td>55.0</td>\n",
              "      <td>47.0</td>\n",
              "      <td>29</td>\n",
              "      <td>58</td>\n",
              "      <td>0</td>\n",
              "      <td>2</td>\n",
              "      <td>NaN</td>\n",
              "      <td>33.0</td>\n",
              "      <td>0</td>\n",
              "      <td>0</td>\n",
              "      <td>0</td>\n",
              "      <td>0</td>\n",
              "      <td>NaN</td>\n",
              "      <td>NaN</td>\n",
              "      <td>Pedro Rizzo</td>\n",
              "      <td>Mark Coleman</td>\n",
              "      <td>9</td>\n",
              "      <td>23</td>\n",
              "      <td>0</td>\n",
              "      <td>0</td>\n",
              "      <td>7</td>\n",
              "      <td>2</td>\n",
              "      <td>15</td>\n",
              "      <td>7</td>\n",
              "      <td>1</td>\n",
              "      <td>0</td>\n",
              "      <td>0</td>\n",
              "      <td>18</td>\n",
              "      <td>0</td>\n",
              "      <td>S-DEC</td>\n",
              "    </tr>\n",
              "    <tr>\n",
              "      <th>5883</th>\n",
              "      <td>1</td>\n",
              "      <td>0</td>\n",
              "      <td>42</td>\n",
              "      <td>34</td>\n",
              "      <td>31.0</td>\n",
              "      <td>53.0</td>\n",
              "      <td>57</td>\n",
              "      <td>41</td>\n",
              "      <td>0</td>\n",
              "      <td>0</td>\n",
              "      <td>NaN</td>\n",
              "      <td>0.0</td>\n",
              "      <td>1</td>\n",
              "      <td>0</td>\n",
              "      <td>0</td>\n",
              "      <td>0</td>\n",
              "      <td>NaN</td>\n",
              "      <td>NaN</td>\n",
              "      <td>Mikey Burnett</td>\n",
              "      <td>Townsend Saunders</td>\n",
              "      <td>28</td>\n",
              "      <td>7</td>\n",
              "      <td>9</td>\n",
              "      <td>14</td>\n",
              "      <td>5</td>\n",
              "      <td>13</td>\n",
              "      <td>21</td>\n",
              "      <td>20</td>\n",
              "      <td>19</td>\n",
              "      <td>14</td>\n",
              "      <td>2</td>\n",
              "      <td>0</td>\n",
              "      <td>0</td>\n",
              "      <td>U-DEC</td>\n",
              "    </tr>\n",
              "    <tr>\n",
              "      <th>5889</th>\n",
              "      <td>0</td>\n",
              "      <td>0</td>\n",
              "      <td>19</td>\n",
              "      <td>24</td>\n",
              "      <td>55.0</td>\n",
              "      <td>55.0</td>\n",
              "      <td>95</td>\n",
              "      <td>145</td>\n",
              "      <td>1</td>\n",
              "      <td>2</td>\n",
              "      <td>11.0</td>\n",
              "      <td>100.0</td>\n",
              "      <td>0</td>\n",
              "      <td>2</td>\n",
              "      <td>0</td>\n",
              "      <td>1</td>\n",
              "      <td>NaN</td>\n",
              "      <td>NaN</td>\n",
              "      <td>Pat Miletich</td>\n",
              "      <td>Mikey Burnett</td>\n",
              "      <td>2</td>\n",
              "      <td>2</td>\n",
              "      <td>12</td>\n",
              "      <td>20</td>\n",
              "      <td>5</td>\n",
              "      <td>2</td>\n",
              "      <td>4</td>\n",
              "      <td>1</td>\n",
              "      <td>15</td>\n",
              "      <td>23</td>\n",
              "      <td>0</td>\n",
              "      <td>0</td>\n",
              "      <td>0</td>\n",
              "      <td>S-DEC</td>\n",
              "    </tr>\n",
              "    <tr>\n",
              "      <th>5890</th>\n",
              "      <td>0</td>\n",
              "      <td>0</td>\n",
              "      <td>14</td>\n",
              "      <td>13</td>\n",
              "      <td>35.0</td>\n",
              "      <td>19.0</td>\n",
              "      <td>30</td>\n",
              "      <td>15</td>\n",
              "      <td>3</td>\n",
              "      <td>0</td>\n",
              "      <td>60.0</td>\n",
              "      <td>NaN</td>\n",
              "      <td>5</td>\n",
              "      <td>0</td>\n",
              "      <td>1</td>\n",
              "      <td>0</td>\n",
              "      <td>NaN</td>\n",
              "      <td>NaN</td>\n",
              "      <td>Tsuyoshi Kohsaka</td>\n",
              "      <td>Pete Williams</td>\n",
              "      <td>7</td>\n",
              "      <td>6</td>\n",
              "      <td>4</td>\n",
              "      <td>7</td>\n",
              "      <td>3</td>\n",
              "      <td>0</td>\n",
              "      <td>11</td>\n",
              "      <td>12</td>\n",
              "      <td>0</td>\n",
              "      <td>1</td>\n",
              "      <td>3</td>\n",
              "      <td>0</td>\n",
              "      <td>0</td>\n",
              "      <td>U-DEC</td>\n",
              "    </tr>\n",
              "  </tbody>\n",
              "</table>\n",
              "<p>2685 rows × 34 columns</p>\n",
              "</div>"
            ],
            "text/plain": [
              "      Fighter 0 KD  Fighter 1 KD  ...  Winner  Method\n",
              "0                0             0  ...       0   U-DEC\n",
              "1                0             0  ...       0   U-DEC\n",
              "2                0             0  ...       1   U-DEC\n",
              "3                0             1  ...       0   S-DEC\n",
              "4                0             0  ...       0   S-DEC\n",
              "...            ...           ...  ...     ...     ...\n",
              "5880             0             0  ...       0   U-DEC\n",
              "5881             0             0  ...       0   S-DEC\n",
              "5883             1             0  ...       0   U-DEC\n",
              "5889             0             0  ...       0   S-DEC\n",
              "5890             0             0  ...       0   U-DEC\n",
              "\n",
              "[2685 rows x 34 columns]"
            ]
          },
          "metadata": {
            "tags": []
          },
          "execution_count": 4
        }
      ]
    },
    {
      "cell_type": "code",
      "metadata": {
        "id": "SivCNBMTOSRZ"
      },
      "source": [
        "X = STORED_FIGHT_TABLE.drop(['Winner', 'Fighter 0 Name', 'Fighter 1 Name', 'Method'], axis=1).fillna(0)\n",
        "y = STORED_FIGHT_TABLE[['Winner']]"
      ],
      "execution_count": 5,
      "outputs": []
    },
    {
      "cell_type": "code",
      "metadata": {
        "colab": {
          "base_uri": "https://localhost:8080/",
          "height": 455
        },
        "id": "ePWHHGDiOSRZ",
        "outputId": "22d053bd-d9e9-468a-f6c4-adab3d108253"
      },
      "source": [
        "X"
      ],
      "execution_count": 6,
      "outputs": [
        {
          "output_type": "execute_result",
          "data": {
            "text/html": [
              "<div>\n",
              "<style scoped>\n",
              "    .dataframe tbody tr th:only-of-type {\n",
              "        vertical-align: middle;\n",
              "    }\n",
              "\n",
              "    .dataframe tbody tr th {\n",
              "        vertical-align: top;\n",
              "    }\n",
              "\n",
              "    .dataframe thead th {\n",
              "        text-align: right;\n",
              "    }\n",
              "</style>\n",
              "<table border=\"1\" class=\"dataframe\">\n",
              "  <thead>\n",
              "    <tr style=\"text-align: right;\">\n",
              "      <th></th>\n",
              "      <th>Fighter 0 KD</th>\n",
              "      <th>Fighter 1 KD</th>\n",
              "      <th>Fighter 0 Sig. str.</th>\n",
              "      <th>Fighter 1 Sig. str.</th>\n",
              "      <th>Fighter 0 Sig. str. %</th>\n",
              "      <th>Fighter 1 Sig. str. %</th>\n",
              "      <th>Fighter 0 Total str.</th>\n",
              "      <th>Fighter 1 Total str.</th>\n",
              "      <th>Fighter 0 Td</th>\n",
              "      <th>Fighter 1 Td</th>\n",
              "      <th>Fighter 0 Td %</th>\n",
              "      <th>Fighter 1 Td %</th>\n",
              "      <th>Fighter 0 Sub. att</th>\n",
              "      <th>Fighter 1 Sub. att</th>\n",
              "      <th>Fighter 0 Rev.</th>\n",
              "      <th>Fighter 1 Rev.</th>\n",
              "      <th>Fighter 0 Ctrl</th>\n",
              "      <th>Fighter 1 Ctrl</th>\n",
              "      <th>Fighter 0 Head</th>\n",
              "      <th>Fighter 1 Head</th>\n",
              "      <th>Fighter 0 Body</th>\n",
              "      <th>Fighter 1 Body</th>\n",
              "      <th>Fighter 0 Leg</th>\n",
              "      <th>Fighter 1 Leg</th>\n",
              "      <th>Fighter 0 Distance</th>\n",
              "      <th>Fighter 1 Distance</th>\n",
              "      <th>Fighter 0 Clinch</th>\n",
              "      <th>Fighter 1 Clinch</th>\n",
              "      <th>Fighter 0 Ground</th>\n",
              "      <th>Fighter 1 Ground</th>\n",
              "    </tr>\n",
              "  </thead>\n",
              "  <tbody>\n",
              "    <tr>\n",
              "      <th>0</th>\n",
              "      <td>0</td>\n",
              "      <td>0</td>\n",
              "      <td>150</td>\n",
              "      <td>62</td>\n",
              "      <td>52.0</td>\n",
              "      <td>29.0</td>\n",
              "      <td>169</td>\n",
              "      <td>70</td>\n",
              "      <td>4</td>\n",
              "      <td>1</td>\n",
              "      <td>57.0</td>\n",
              "      <td>20.0</td>\n",
              "      <td>0</td>\n",
              "      <td>0</td>\n",
              "      <td>0</td>\n",
              "      <td>0</td>\n",
              "      <td>259.0</td>\n",
              "      <td>26.0</td>\n",
              "      <td>115</td>\n",
              "      <td>42</td>\n",
              "      <td>13</td>\n",
              "      <td>7</td>\n",
              "      <td>22</td>\n",
              "      <td>13</td>\n",
              "      <td>138</td>\n",
              "      <td>59</td>\n",
              "      <td>5</td>\n",
              "      <td>3</td>\n",
              "      <td>7</td>\n",
              "      <td>0</td>\n",
              "    </tr>\n",
              "    <tr>\n",
              "      <th>1</th>\n",
              "      <td>0</td>\n",
              "      <td>0</td>\n",
              "      <td>105</td>\n",
              "      <td>88</td>\n",
              "      <td>47.0</td>\n",
              "      <td>45.0</td>\n",
              "      <td>109</td>\n",
              "      <td>99</td>\n",
              "      <td>0</td>\n",
              "      <td>0</td>\n",
              "      <td>0.0</td>\n",
              "      <td>0.0</td>\n",
              "      <td>0</td>\n",
              "      <td>0</td>\n",
              "      <td>0</td>\n",
              "      <td>0</td>\n",
              "      <td>39.0</td>\n",
              "      <td>0.0</td>\n",
              "      <td>54</td>\n",
              "      <td>55</td>\n",
              "      <td>26</td>\n",
              "      <td>16</td>\n",
              "      <td>25</td>\n",
              "      <td>17</td>\n",
              "      <td>103</td>\n",
              "      <td>84</td>\n",
              "      <td>2</td>\n",
              "      <td>4</td>\n",
              "      <td>0</td>\n",
              "      <td>0</td>\n",
              "    </tr>\n",
              "    <tr>\n",
              "      <th>2</th>\n",
              "      <td>0</td>\n",
              "      <td>0</td>\n",
              "      <td>21</td>\n",
              "      <td>27</td>\n",
              "      <td>44.0</td>\n",
              "      <td>49.0</td>\n",
              "      <td>32</td>\n",
              "      <td>91</td>\n",
              "      <td>0</td>\n",
              "      <td>8</td>\n",
              "      <td>0.0</td>\n",
              "      <td>33.0</td>\n",
              "      <td>0</td>\n",
              "      <td>2</td>\n",
              "      <td>0</td>\n",
              "      <td>0</td>\n",
              "      <td>2.0</td>\n",
              "      <td>701.0</td>\n",
              "      <td>11</td>\n",
              "      <td>24</td>\n",
              "      <td>9</td>\n",
              "      <td>2</td>\n",
              "      <td>1</td>\n",
              "      <td>1</td>\n",
              "      <td>14</td>\n",
              "      <td>18</td>\n",
              "      <td>5</td>\n",
              "      <td>3</td>\n",
              "      <td>2</td>\n",
              "      <td>6</td>\n",
              "    </tr>\n",
              "    <tr>\n",
              "      <th>3</th>\n",
              "      <td>0</td>\n",
              "      <td>1</td>\n",
              "      <td>66</td>\n",
              "      <td>55</td>\n",
              "      <td>58.0</td>\n",
              "      <td>46.0</td>\n",
              "      <td>84</td>\n",
              "      <td>72</td>\n",
              "      <td>3</td>\n",
              "      <td>0</td>\n",
              "      <td>60.0</td>\n",
              "      <td>0.0</td>\n",
              "      <td>1</td>\n",
              "      <td>0</td>\n",
              "      <td>0</td>\n",
              "      <td>0</td>\n",
              "      <td>386.0</td>\n",
              "      <td>38.0</td>\n",
              "      <td>40</td>\n",
              "      <td>30</td>\n",
              "      <td>19</td>\n",
              "      <td>8</td>\n",
              "      <td>7</td>\n",
              "      <td>17</td>\n",
              "      <td>39</td>\n",
              "      <td>50</td>\n",
              "      <td>7</td>\n",
              "      <td>4</td>\n",
              "      <td>20</td>\n",
              "      <td>1</td>\n",
              "    </tr>\n",
              "    <tr>\n",
              "      <th>4</th>\n",
              "      <td>0</td>\n",
              "      <td>0</td>\n",
              "      <td>90</td>\n",
              "      <td>80</td>\n",
              "      <td>46.0</td>\n",
              "      <td>47.0</td>\n",
              "      <td>90</td>\n",
              "      <td>82</td>\n",
              "      <td>0</td>\n",
              "      <td>4</td>\n",
              "      <td>0.0</td>\n",
              "      <td>44.0</td>\n",
              "      <td>0</td>\n",
              "      <td>0</td>\n",
              "      <td>0</td>\n",
              "      <td>0</td>\n",
              "      <td>3.0</td>\n",
              "      <td>141.0</td>\n",
              "      <td>74</td>\n",
              "      <td>40</td>\n",
              "      <td>12</td>\n",
              "      <td>20</td>\n",
              "      <td>4</td>\n",
              "      <td>20</td>\n",
              "      <td>88</td>\n",
              "      <td>77</td>\n",
              "      <td>2</td>\n",
              "      <td>3</td>\n",
              "      <td>0</td>\n",
              "      <td>0</td>\n",
              "    </tr>\n",
              "    <tr>\n",
              "      <th>...</th>\n",
              "      <td>...</td>\n",
              "      <td>...</td>\n",
              "      <td>...</td>\n",
              "      <td>...</td>\n",
              "      <td>...</td>\n",
              "      <td>...</td>\n",
              "      <td>...</td>\n",
              "      <td>...</td>\n",
              "      <td>...</td>\n",
              "      <td>...</td>\n",
              "      <td>...</td>\n",
              "      <td>...</td>\n",
              "      <td>...</td>\n",
              "      <td>...</td>\n",
              "      <td>...</td>\n",
              "      <td>...</td>\n",
              "      <td>...</td>\n",
              "      <td>...</td>\n",
              "      <td>...</td>\n",
              "      <td>...</td>\n",
              "      <td>...</td>\n",
              "      <td>...</td>\n",
              "      <td>...</td>\n",
              "      <td>...</td>\n",
              "      <td>...</td>\n",
              "      <td>...</td>\n",
              "      <td>...</td>\n",
              "      <td>...</td>\n",
              "      <td>...</td>\n",
              "      <td>...</td>\n",
              "    </tr>\n",
              "    <tr>\n",
              "      <th>5880</th>\n",
              "      <td>0</td>\n",
              "      <td>0</td>\n",
              "      <td>27</td>\n",
              "      <td>19</td>\n",
              "      <td>38.0</td>\n",
              "      <td>21.0</td>\n",
              "      <td>71</td>\n",
              "      <td>21</td>\n",
              "      <td>3</td>\n",
              "      <td>1</td>\n",
              "      <td>100.0</td>\n",
              "      <td>16.0</td>\n",
              "      <td>0</td>\n",
              "      <td>1</td>\n",
              "      <td>0</td>\n",
              "      <td>0</td>\n",
              "      <td>0.0</td>\n",
              "      <td>0.0</td>\n",
              "      <td>9</td>\n",
              "      <td>5</td>\n",
              "      <td>4</td>\n",
              "      <td>1</td>\n",
              "      <td>14</td>\n",
              "      <td>13</td>\n",
              "      <td>20</td>\n",
              "      <td>16</td>\n",
              "      <td>2</td>\n",
              "      <td>2</td>\n",
              "      <td>5</td>\n",
              "      <td>1</td>\n",
              "    </tr>\n",
              "    <tr>\n",
              "      <th>5881</th>\n",
              "      <td>0</td>\n",
              "      <td>0</td>\n",
              "      <td>16</td>\n",
              "      <td>25</td>\n",
              "      <td>55.0</td>\n",
              "      <td>47.0</td>\n",
              "      <td>29</td>\n",
              "      <td>58</td>\n",
              "      <td>0</td>\n",
              "      <td>2</td>\n",
              "      <td>0.0</td>\n",
              "      <td>33.0</td>\n",
              "      <td>0</td>\n",
              "      <td>0</td>\n",
              "      <td>0</td>\n",
              "      <td>0</td>\n",
              "      <td>0.0</td>\n",
              "      <td>0.0</td>\n",
              "      <td>9</td>\n",
              "      <td>23</td>\n",
              "      <td>0</td>\n",
              "      <td>0</td>\n",
              "      <td>7</td>\n",
              "      <td>2</td>\n",
              "      <td>15</td>\n",
              "      <td>7</td>\n",
              "      <td>1</td>\n",
              "      <td>0</td>\n",
              "      <td>0</td>\n",
              "      <td>18</td>\n",
              "    </tr>\n",
              "    <tr>\n",
              "      <th>5883</th>\n",
              "      <td>1</td>\n",
              "      <td>0</td>\n",
              "      <td>42</td>\n",
              "      <td>34</td>\n",
              "      <td>31.0</td>\n",
              "      <td>53.0</td>\n",
              "      <td>57</td>\n",
              "      <td>41</td>\n",
              "      <td>0</td>\n",
              "      <td>0</td>\n",
              "      <td>0.0</td>\n",
              "      <td>0.0</td>\n",
              "      <td>1</td>\n",
              "      <td>0</td>\n",
              "      <td>0</td>\n",
              "      <td>0</td>\n",
              "      <td>0.0</td>\n",
              "      <td>0.0</td>\n",
              "      <td>28</td>\n",
              "      <td>7</td>\n",
              "      <td>9</td>\n",
              "      <td>14</td>\n",
              "      <td>5</td>\n",
              "      <td>13</td>\n",
              "      <td>21</td>\n",
              "      <td>20</td>\n",
              "      <td>19</td>\n",
              "      <td>14</td>\n",
              "      <td>2</td>\n",
              "      <td>0</td>\n",
              "    </tr>\n",
              "    <tr>\n",
              "      <th>5889</th>\n",
              "      <td>0</td>\n",
              "      <td>0</td>\n",
              "      <td>19</td>\n",
              "      <td>24</td>\n",
              "      <td>55.0</td>\n",
              "      <td>55.0</td>\n",
              "      <td>95</td>\n",
              "      <td>145</td>\n",
              "      <td>1</td>\n",
              "      <td>2</td>\n",
              "      <td>11.0</td>\n",
              "      <td>100.0</td>\n",
              "      <td>0</td>\n",
              "      <td>2</td>\n",
              "      <td>0</td>\n",
              "      <td>1</td>\n",
              "      <td>0.0</td>\n",
              "      <td>0.0</td>\n",
              "      <td>2</td>\n",
              "      <td>2</td>\n",
              "      <td>12</td>\n",
              "      <td>20</td>\n",
              "      <td>5</td>\n",
              "      <td>2</td>\n",
              "      <td>4</td>\n",
              "      <td>1</td>\n",
              "      <td>15</td>\n",
              "      <td>23</td>\n",
              "      <td>0</td>\n",
              "      <td>0</td>\n",
              "    </tr>\n",
              "    <tr>\n",
              "      <th>5890</th>\n",
              "      <td>0</td>\n",
              "      <td>0</td>\n",
              "      <td>14</td>\n",
              "      <td>13</td>\n",
              "      <td>35.0</td>\n",
              "      <td>19.0</td>\n",
              "      <td>30</td>\n",
              "      <td>15</td>\n",
              "      <td>3</td>\n",
              "      <td>0</td>\n",
              "      <td>60.0</td>\n",
              "      <td>0.0</td>\n",
              "      <td>5</td>\n",
              "      <td>0</td>\n",
              "      <td>1</td>\n",
              "      <td>0</td>\n",
              "      <td>0.0</td>\n",
              "      <td>0.0</td>\n",
              "      <td>7</td>\n",
              "      <td>6</td>\n",
              "      <td>4</td>\n",
              "      <td>7</td>\n",
              "      <td>3</td>\n",
              "      <td>0</td>\n",
              "      <td>11</td>\n",
              "      <td>12</td>\n",
              "      <td>0</td>\n",
              "      <td>1</td>\n",
              "      <td>3</td>\n",
              "      <td>0</td>\n",
              "    </tr>\n",
              "  </tbody>\n",
              "</table>\n",
              "<p>2685 rows × 30 columns</p>\n",
              "</div>"
            ],
            "text/plain": [
              "      Fighter 0 KD  Fighter 1 KD  ...  Fighter 0 Ground  Fighter 1 Ground\n",
              "0                0             0  ...                 7                 0\n",
              "1                0             0  ...                 0                 0\n",
              "2                0             0  ...                 2                 6\n",
              "3                0             1  ...                20                 1\n",
              "4                0             0  ...                 0                 0\n",
              "...            ...           ...  ...               ...               ...\n",
              "5880             0             0  ...                 5                 1\n",
              "5881             0             0  ...                 0                18\n",
              "5883             1             0  ...                 2                 0\n",
              "5889             0             0  ...                 0                 0\n",
              "5890             0             0  ...                 3                 0\n",
              "\n",
              "[2685 rows x 30 columns]"
            ]
          },
          "metadata": {
            "tags": []
          },
          "execution_count": 6
        }
      ]
    },
    {
      "cell_type": "code",
      "metadata": {
        "colab": {
          "base_uri": "https://localhost:8080/",
          "height": 402
        },
        "id": "-13NNIUoOSRZ",
        "outputId": "d22704de-df1b-4039-e432-50a0904825b9"
      },
      "source": [
        "y"
      ],
      "execution_count": 7,
      "outputs": [
        {
          "output_type": "execute_result",
          "data": {
            "text/html": [
              "<div>\n",
              "<style scoped>\n",
              "    .dataframe tbody tr th:only-of-type {\n",
              "        vertical-align: middle;\n",
              "    }\n",
              "\n",
              "    .dataframe tbody tr th {\n",
              "        vertical-align: top;\n",
              "    }\n",
              "\n",
              "    .dataframe thead th {\n",
              "        text-align: right;\n",
              "    }\n",
              "</style>\n",
              "<table border=\"1\" class=\"dataframe\">\n",
              "  <thead>\n",
              "    <tr style=\"text-align: right;\">\n",
              "      <th></th>\n",
              "      <th>Winner</th>\n",
              "    </tr>\n",
              "  </thead>\n",
              "  <tbody>\n",
              "    <tr>\n",
              "      <th>0</th>\n",
              "      <td>0</td>\n",
              "    </tr>\n",
              "    <tr>\n",
              "      <th>1</th>\n",
              "      <td>0</td>\n",
              "    </tr>\n",
              "    <tr>\n",
              "      <th>2</th>\n",
              "      <td>1</td>\n",
              "    </tr>\n",
              "    <tr>\n",
              "      <th>3</th>\n",
              "      <td>0</td>\n",
              "    </tr>\n",
              "    <tr>\n",
              "      <th>4</th>\n",
              "      <td>0</td>\n",
              "    </tr>\n",
              "    <tr>\n",
              "      <th>...</th>\n",
              "      <td>...</td>\n",
              "    </tr>\n",
              "    <tr>\n",
              "      <th>5880</th>\n",
              "      <td>0</td>\n",
              "    </tr>\n",
              "    <tr>\n",
              "      <th>5881</th>\n",
              "      <td>0</td>\n",
              "    </tr>\n",
              "    <tr>\n",
              "      <th>5883</th>\n",
              "      <td>0</td>\n",
              "    </tr>\n",
              "    <tr>\n",
              "      <th>5889</th>\n",
              "      <td>0</td>\n",
              "    </tr>\n",
              "    <tr>\n",
              "      <th>5890</th>\n",
              "      <td>0</td>\n",
              "    </tr>\n",
              "  </tbody>\n",
              "</table>\n",
              "<p>2685 rows × 1 columns</p>\n",
              "</div>"
            ],
            "text/plain": [
              "      Winner\n",
              "0          0\n",
              "1          0\n",
              "2          1\n",
              "3          0\n",
              "4          0\n",
              "...      ...\n",
              "5880       0\n",
              "5881       0\n",
              "5883       0\n",
              "5889       0\n",
              "5890       0\n",
              "\n",
              "[2685 rows x 1 columns]"
            ]
          },
          "metadata": {
            "tags": []
          },
          "execution_count": 7
        }
      ]
    },
    {
      "cell_type": "markdown",
      "metadata": {
        "id": "Jd2Ifk5uOSRa"
      },
      "source": [
        "## Setup train/validate/test split with data augmentation\n",
        "\n",
        "TODO: Add in smarter data augmentation that create new datapoints nearby."
      ]
    },
    {
      "cell_type": "code",
      "metadata": {
        "id": "I6c8hDK7OSRa"
      },
      "source": [
        "def create_flipped_table(table):\n",
        "    '''Rearranges columns of table so that each fight has two rows. Let fighters be A and B.\n",
        "       One row has (Fighter 0 = A, Fighter 1 = B). One row has (Fighter 0 = B, Fighter 1 = A)\n",
        "       Ensure same column order, as column names not looked at when passed to ML model'''\n",
        "\n",
        "    # Get columns in flipped order, which moves the columns around, but changes column name order too\n",
        "    flipped_columns = []\n",
        "    for column in table.columns:\n",
        "        if \"Fighter 0\" in column:\n",
        "            flipped_columns.append(column.replace(\"Fighter 0\", \"Fighter 1\"))\n",
        "        elif \"Fighter 1\" in column:\n",
        "            flipped_columns.append(column.replace(\"Fighter 1\", \"Fighter 0\"))\n",
        "        else:\n",
        "            flipped_columns.append(column)\n",
        "    flipped_table = table[flipped_columns]\n",
        "\n",
        "    # Flips winners around\n",
        "    if 'Winner' in flipped_table.columns:\n",
        "         flipped_table['Winner'] = flipped_table['Winner'].replace([0, 1], [1, 0])\n",
        "\n",
        "    # Change column names back to normal\n",
        "    flipped_table.columns = table.columns\n",
        "    return flipped_table\n",
        "\n",
        "\n",
        "def add_rows_of_flipped_columns(table):\n",
        "    flipped_table = create_flipped_table(table)\n",
        "    new_table = pd.concat([table, flipped_table])\n",
        "    return new_table"
      ],
      "execution_count": 72,
      "outputs": []
    },
    {
      "cell_type": "code",
      "metadata": {
        "id": "0iGtsWJVOSRa"
      },
      "source": [
        "# Train/validate/test split\n",
        "from sklearn.model_selection import train_test_split\n",
        "X_train, X_test, y_train, y_test = train_test_split(X, y, test_size=0.33, random_state=0)\n",
        "X_train, X_valid, y_train, y_valid = train_test_split(X_train, y_train, test_size=0.33, random_state=0)\n",
        "\n",
        "# Add flipped rows so fighter 0 and 1 are treated same\n",
        "X_train, y_train = add_rows_of_flipped_columns(X_train), add_rows_of_flipped_columns(y_train)\n",
        "X_valid, y_valid = add_rows_of_flipped_columns(X_valid), add_rows_of_flipped_columns(y_valid)\n",
        "X_test, y_test = add_rows_of_flipped_columns(X_test), add_rows_of_flipped_columns(y_test)"
      ],
      "execution_count": 145,
      "outputs": []
    },
    {
      "cell_type": "code",
      "metadata": {
        "id": "oRU788hJOSRb"
      },
      "source": [
        "# Expect equal number of examples in Fighter 0 as Fighter 1 from data augmentation\n",
        "assert(len(y_train[y_train['Winner'] == 0]) == len(y_train[y_train['Winner'] == 1]))\n",
        "assert(len(y_valid[y_valid['Winner'] == 0]) == len(y_valid[y_valid['Winner'] == 1]))\n",
        "assert(len(y_test[y_test['Winner'] == 0]) == len(y_test[y_test['Winner'] == 1]))"
      ],
      "execution_count": 146,
      "outputs": []
    },
    {
      "cell_type": "code",
      "metadata": {
        "colab": {
          "base_uri": "https://localhost:8080/",
          "height": 455
        },
        "id": "g208MGkGOSRb",
        "outputId": "58a69bab-35c1-451e-b09d-441732664c41"
      },
      "source": [
        "X_train"
      ],
      "execution_count": 147,
      "outputs": [
        {
          "output_type": "execute_result",
          "data": {
            "text/html": [
              "<div>\n",
              "<style scoped>\n",
              "    .dataframe tbody tr th:only-of-type {\n",
              "        vertical-align: middle;\n",
              "    }\n",
              "\n",
              "    .dataframe tbody tr th {\n",
              "        vertical-align: top;\n",
              "    }\n",
              "\n",
              "    .dataframe thead th {\n",
              "        text-align: right;\n",
              "    }\n",
              "</style>\n",
              "<table border=\"1\" class=\"dataframe\">\n",
              "  <thead>\n",
              "    <tr style=\"text-align: right;\">\n",
              "      <th></th>\n",
              "      <th>Fighter 0 KD</th>\n",
              "      <th>Fighter 1 KD</th>\n",
              "      <th>Fighter 0 Sig. str.</th>\n",
              "      <th>Fighter 1 Sig. str.</th>\n",
              "      <th>Fighter 0 Sig. str. %</th>\n",
              "      <th>Fighter 1 Sig. str. %</th>\n",
              "      <th>Fighter 0 Total str.</th>\n",
              "      <th>Fighter 1 Total str.</th>\n",
              "      <th>Fighter 0 Td</th>\n",
              "      <th>Fighter 1 Td</th>\n",
              "      <th>Fighter 0 Td %</th>\n",
              "      <th>Fighter 1 Td %</th>\n",
              "      <th>Fighter 0 Sub. att</th>\n",
              "      <th>Fighter 1 Sub. att</th>\n",
              "      <th>Fighter 0 Rev.</th>\n",
              "      <th>Fighter 1 Rev.</th>\n",
              "      <th>Fighter 0 Ctrl</th>\n",
              "      <th>Fighter 1 Ctrl</th>\n",
              "      <th>Fighter 0 Head</th>\n",
              "      <th>Fighter 1 Head</th>\n",
              "      <th>Fighter 0 Body</th>\n",
              "      <th>Fighter 1 Body</th>\n",
              "      <th>Fighter 0 Leg</th>\n",
              "      <th>Fighter 1 Leg</th>\n",
              "      <th>Fighter 0 Distance</th>\n",
              "      <th>Fighter 1 Distance</th>\n",
              "      <th>Fighter 0 Clinch</th>\n",
              "      <th>Fighter 1 Clinch</th>\n",
              "      <th>Fighter 0 Ground</th>\n",
              "      <th>Fighter 1 Ground</th>\n",
              "    </tr>\n",
              "  </thead>\n",
              "  <tbody>\n",
              "    <tr>\n",
              "      <th>1730</th>\n",
              "      <td>0</td>\n",
              "      <td>0</td>\n",
              "      <td>33</td>\n",
              "      <td>66</td>\n",
              "      <td>33.0</td>\n",
              "      <td>39.0</td>\n",
              "      <td>76</td>\n",
              "      <td>81</td>\n",
              "      <td>1</td>\n",
              "      <td>4</td>\n",
              "      <td>100.0</td>\n",
              "      <td>80.0</td>\n",
              "      <td>0</td>\n",
              "      <td>0</td>\n",
              "      <td>0</td>\n",
              "      <td>0</td>\n",
              "      <td>17.0</td>\n",
              "      <td>169.0</td>\n",
              "      <td>22</td>\n",
              "      <td>33</td>\n",
              "      <td>8</td>\n",
              "      <td>19</td>\n",
              "      <td>3</td>\n",
              "      <td>14</td>\n",
              "      <td>31</td>\n",
              "      <td>53</td>\n",
              "      <td>2</td>\n",
              "      <td>8</td>\n",
              "      <td>0</td>\n",
              "      <td>5</td>\n",
              "    </tr>\n",
              "    <tr>\n",
              "      <th>4671</th>\n",
              "      <td>0</td>\n",
              "      <td>0</td>\n",
              "      <td>28</td>\n",
              "      <td>14</td>\n",
              "      <td>31.0</td>\n",
              "      <td>25.0</td>\n",
              "      <td>83</td>\n",
              "      <td>27</td>\n",
              "      <td>1</td>\n",
              "      <td>3</td>\n",
              "      <td>100.0</td>\n",
              "      <td>60.0</td>\n",
              "      <td>1</td>\n",
              "      <td>1</td>\n",
              "      <td>0</td>\n",
              "      <td>1</td>\n",
              "      <td>27.0</td>\n",
              "      <td>404.0</td>\n",
              "      <td>17</td>\n",
              "      <td>2</td>\n",
              "      <td>8</td>\n",
              "      <td>6</td>\n",
              "      <td>3</td>\n",
              "      <td>6</td>\n",
              "      <td>9</td>\n",
              "      <td>9</td>\n",
              "      <td>15</td>\n",
              "      <td>3</td>\n",
              "      <td>4</td>\n",
              "      <td>2</td>\n",
              "    </tr>\n",
              "    <tr>\n",
              "      <th>2465</th>\n",
              "      <td>0</td>\n",
              "      <td>0</td>\n",
              "      <td>104</td>\n",
              "      <td>27</td>\n",
              "      <td>67.0</td>\n",
              "      <td>37.0</td>\n",
              "      <td>193</td>\n",
              "      <td>32</td>\n",
              "      <td>7</td>\n",
              "      <td>0</td>\n",
              "      <td>63.0</td>\n",
              "      <td>0.0</td>\n",
              "      <td>0</td>\n",
              "      <td>2</td>\n",
              "      <td>0</td>\n",
              "      <td>0</td>\n",
              "      <td>522.0</td>\n",
              "      <td>63.0</td>\n",
              "      <td>73</td>\n",
              "      <td>23</td>\n",
              "      <td>26</td>\n",
              "      <td>4</td>\n",
              "      <td>5</td>\n",
              "      <td>0</td>\n",
              "      <td>24</td>\n",
              "      <td>20</td>\n",
              "      <td>32</td>\n",
              "      <td>5</td>\n",
              "      <td>48</td>\n",
              "      <td>2</td>\n",
              "    </tr>\n",
              "    <tr>\n",
              "      <th>2417</th>\n",
              "      <td>0</td>\n",
              "      <td>0</td>\n",
              "      <td>39</td>\n",
              "      <td>94</td>\n",
              "      <td>34.0</td>\n",
              "      <td>54.0</td>\n",
              "      <td>67</td>\n",
              "      <td>140</td>\n",
              "      <td>4</td>\n",
              "      <td>0</td>\n",
              "      <td>40.0</td>\n",
              "      <td>0.0</td>\n",
              "      <td>0</td>\n",
              "      <td>0</td>\n",
              "      <td>0</td>\n",
              "      <td>0</td>\n",
              "      <td>329.0</td>\n",
              "      <td>37.0</td>\n",
              "      <td>20</td>\n",
              "      <td>82</td>\n",
              "      <td>7</td>\n",
              "      <td>9</td>\n",
              "      <td>12</td>\n",
              "      <td>3</td>\n",
              "      <td>38</td>\n",
              "      <td>94</td>\n",
              "      <td>0</td>\n",
              "      <td>0</td>\n",
              "      <td>1</td>\n",
              "      <td>0</td>\n",
              "    </tr>\n",
              "    <tr>\n",
              "      <th>5204</th>\n",
              "      <td>1</td>\n",
              "      <td>0</td>\n",
              "      <td>26</td>\n",
              "      <td>16</td>\n",
              "      <td>39.0</td>\n",
              "      <td>40.0</td>\n",
              "      <td>79</td>\n",
              "      <td>155</td>\n",
              "      <td>2</td>\n",
              "      <td>1</td>\n",
              "      <td>100.0</td>\n",
              "      <td>50.0</td>\n",
              "      <td>3</td>\n",
              "      <td>0</td>\n",
              "      <td>2</td>\n",
              "      <td>1</td>\n",
              "      <td>648.0</td>\n",
              "      <td>155.0</td>\n",
              "      <td>23</td>\n",
              "      <td>11</td>\n",
              "      <td>3</td>\n",
              "      <td>2</td>\n",
              "      <td>0</td>\n",
              "      <td>3</td>\n",
              "      <td>4</td>\n",
              "      <td>14</td>\n",
              "      <td>2</td>\n",
              "      <td>1</td>\n",
              "      <td>20</td>\n",
              "      <td>1</td>\n",
              "    </tr>\n",
              "    <tr>\n",
              "      <th>...</th>\n",
              "      <td>...</td>\n",
              "      <td>...</td>\n",
              "      <td>...</td>\n",
              "      <td>...</td>\n",
              "      <td>...</td>\n",
              "      <td>...</td>\n",
              "      <td>...</td>\n",
              "      <td>...</td>\n",
              "      <td>...</td>\n",
              "      <td>...</td>\n",
              "      <td>...</td>\n",
              "      <td>...</td>\n",
              "      <td>...</td>\n",
              "      <td>...</td>\n",
              "      <td>...</td>\n",
              "      <td>...</td>\n",
              "      <td>...</td>\n",
              "      <td>...</td>\n",
              "      <td>...</td>\n",
              "      <td>...</td>\n",
              "      <td>...</td>\n",
              "      <td>...</td>\n",
              "      <td>...</td>\n",
              "      <td>...</td>\n",
              "      <td>...</td>\n",
              "      <td>...</td>\n",
              "      <td>...</td>\n",
              "      <td>...</td>\n",
              "      <td>...</td>\n",
              "      <td>...</td>\n",
              "    </tr>\n",
              "    <tr>\n",
              "      <th>2949</th>\n",
              "      <td>0</td>\n",
              "      <td>0</td>\n",
              "      <td>87</td>\n",
              "      <td>87</td>\n",
              "      <td>34.0</td>\n",
              "      <td>41.0</td>\n",
              "      <td>87</td>\n",
              "      <td>98</td>\n",
              "      <td>0</td>\n",
              "      <td>0</td>\n",
              "      <td>0.0</td>\n",
              "      <td>0.0</td>\n",
              "      <td>0</td>\n",
              "      <td>0</td>\n",
              "      <td>0</td>\n",
              "      <td>0</td>\n",
              "      <td>24.0</td>\n",
              "      <td>102.0</td>\n",
              "      <td>60</td>\n",
              "      <td>58</td>\n",
              "      <td>16</td>\n",
              "      <td>14</td>\n",
              "      <td>11</td>\n",
              "      <td>15</td>\n",
              "      <td>80</td>\n",
              "      <td>84</td>\n",
              "      <td>7</td>\n",
              "      <td>3</td>\n",
              "      <td>0</td>\n",
              "      <td>0</td>\n",
              "    </tr>\n",
              "    <tr>\n",
              "      <th>2849</th>\n",
              "      <td>0</td>\n",
              "      <td>0</td>\n",
              "      <td>42</td>\n",
              "      <td>35</td>\n",
              "      <td>43.0</td>\n",
              "      <td>49.0</td>\n",
              "      <td>98</td>\n",
              "      <td>43</td>\n",
              "      <td>1</td>\n",
              "      <td>9</td>\n",
              "      <td>50.0</td>\n",
              "      <td>56.0</td>\n",
              "      <td>0</td>\n",
              "      <td>0</td>\n",
              "      <td>0</td>\n",
              "      <td>0</td>\n",
              "      <td>5.0</td>\n",
              "      <td>475.0</td>\n",
              "      <td>27</td>\n",
              "      <td>30</td>\n",
              "      <td>14</td>\n",
              "      <td>4</td>\n",
              "      <td>1</td>\n",
              "      <td>1</td>\n",
              "      <td>20</td>\n",
              "      <td>18</td>\n",
              "      <td>20</td>\n",
              "      <td>5</td>\n",
              "      <td>2</td>\n",
              "      <td>12</td>\n",
              "    </tr>\n",
              "    <tr>\n",
              "      <th>2057</th>\n",
              "      <td>0</td>\n",
              "      <td>0</td>\n",
              "      <td>50</td>\n",
              "      <td>18</td>\n",
              "      <td>54.0</td>\n",
              "      <td>50.0</td>\n",
              "      <td>96</td>\n",
              "      <td>52</td>\n",
              "      <td>1</td>\n",
              "      <td>6</td>\n",
              "      <td>100.0</td>\n",
              "      <td>85.0</td>\n",
              "      <td>2</td>\n",
              "      <td>0</td>\n",
              "      <td>0</td>\n",
              "      <td>0</td>\n",
              "      <td>1.0</td>\n",
              "      <td>600.0</td>\n",
              "      <td>27</td>\n",
              "      <td>10</td>\n",
              "      <td>16</td>\n",
              "      <td>1</td>\n",
              "      <td>7</td>\n",
              "      <td>7</td>\n",
              "      <td>31</td>\n",
              "      <td>9</td>\n",
              "      <td>1</td>\n",
              "      <td>1</td>\n",
              "      <td>18</td>\n",
              "      <td>8</td>\n",
              "    </tr>\n",
              "    <tr>\n",
              "      <th>26</th>\n",
              "      <td>0</td>\n",
              "      <td>0</td>\n",
              "      <td>71</td>\n",
              "      <td>27</td>\n",
              "      <td>47.0</td>\n",
              "      <td>39.0</td>\n",
              "      <td>131</td>\n",
              "      <td>32</td>\n",
              "      <td>3</td>\n",
              "      <td>2</td>\n",
              "      <td>75.0</td>\n",
              "      <td>50.0</td>\n",
              "      <td>0</td>\n",
              "      <td>1</td>\n",
              "      <td>1</td>\n",
              "      <td>1</td>\n",
              "      <td>280.0</td>\n",
              "      <td>209.0</td>\n",
              "      <td>54</td>\n",
              "      <td>16</td>\n",
              "      <td>14</td>\n",
              "      <td>10</td>\n",
              "      <td>3</td>\n",
              "      <td>1</td>\n",
              "      <td>48</td>\n",
              "      <td>26</td>\n",
              "      <td>4</td>\n",
              "      <td>1</td>\n",
              "      <td>19</td>\n",
              "      <td>0</td>\n",
              "    </tr>\n",
              "    <tr>\n",
              "      <th>974</th>\n",
              "      <td>0</td>\n",
              "      <td>0</td>\n",
              "      <td>13</td>\n",
              "      <td>14</td>\n",
              "      <td>30.0</td>\n",
              "      <td>70.0</td>\n",
              "      <td>60</td>\n",
              "      <td>47</td>\n",
              "      <td>1</td>\n",
              "      <td>4</td>\n",
              "      <td>8.0</td>\n",
              "      <td>44.0</td>\n",
              "      <td>0</td>\n",
              "      <td>0</td>\n",
              "      <td>0</td>\n",
              "      <td>0</td>\n",
              "      <td>107.0</td>\n",
              "      <td>366.0</td>\n",
              "      <td>5</td>\n",
              "      <td>7</td>\n",
              "      <td>7</td>\n",
              "      <td>6</td>\n",
              "      <td>1</td>\n",
              "      <td>1</td>\n",
              "      <td>6</td>\n",
              "      <td>4</td>\n",
              "      <td>7</td>\n",
              "      <td>8</td>\n",
              "      <td>0</td>\n",
              "      <td>2</td>\n",
              "    </tr>\n",
              "  </tbody>\n",
              "</table>\n",
              "<p>2408 rows × 30 columns</p>\n",
              "</div>"
            ],
            "text/plain": [
              "      Fighter 0 KD  Fighter 1 KD  ...  Fighter 0 Ground  Fighter 1 Ground\n",
              "1730             0             0  ...                 0                 5\n",
              "4671             0             0  ...                 4                 2\n",
              "2465             0             0  ...                48                 2\n",
              "2417             0             0  ...                 1                 0\n",
              "5204             1             0  ...                20                 1\n",
              "...            ...           ...  ...               ...               ...\n",
              "2949             0             0  ...                 0                 0\n",
              "2849             0             0  ...                 2                12\n",
              "2057             0             0  ...                18                 8\n",
              "26               0             0  ...                19                 0\n",
              "974              0             0  ...                 0                 2\n",
              "\n",
              "[2408 rows x 30 columns]"
            ]
          },
          "metadata": {
            "tags": []
          },
          "execution_count": 147
        }
      ]
    },
    {
      "cell_type": "code",
      "metadata": {
        "colab": {
          "base_uri": "https://localhost:8080/",
          "height": 402
        },
        "id": "wojL_I-7OSRb",
        "outputId": "53f5147f-3673-43aa-8d3d-afd1a3513005"
      },
      "source": [
        "y_train"
      ],
      "execution_count": 148,
      "outputs": [
        {
          "output_type": "execute_result",
          "data": {
            "text/html": [
              "<div>\n",
              "<style scoped>\n",
              "    .dataframe tbody tr th:only-of-type {\n",
              "        vertical-align: middle;\n",
              "    }\n",
              "\n",
              "    .dataframe tbody tr th {\n",
              "        vertical-align: top;\n",
              "    }\n",
              "\n",
              "    .dataframe thead th {\n",
              "        text-align: right;\n",
              "    }\n",
              "</style>\n",
              "<table border=\"1\" class=\"dataframe\">\n",
              "  <thead>\n",
              "    <tr style=\"text-align: right;\">\n",
              "      <th></th>\n",
              "      <th>Winner</th>\n",
              "    </tr>\n",
              "  </thead>\n",
              "  <tbody>\n",
              "    <tr>\n",
              "      <th>1730</th>\n",
              "      <td>1</td>\n",
              "    </tr>\n",
              "    <tr>\n",
              "      <th>4671</th>\n",
              "      <td>0</td>\n",
              "    </tr>\n",
              "    <tr>\n",
              "      <th>2465</th>\n",
              "      <td>0</td>\n",
              "    </tr>\n",
              "    <tr>\n",
              "      <th>2417</th>\n",
              "      <td>1</td>\n",
              "    </tr>\n",
              "    <tr>\n",
              "      <th>5204</th>\n",
              "      <td>0</td>\n",
              "    </tr>\n",
              "    <tr>\n",
              "      <th>...</th>\n",
              "      <td>...</td>\n",
              "    </tr>\n",
              "    <tr>\n",
              "      <th>2949</th>\n",
              "      <td>0</td>\n",
              "    </tr>\n",
              "    <tr>\n",
              "      <th>2849</th>\n",
              "      <td>1</td>\n",
              "    </tr>\n",
              "    <tr>\n",
              "      <th>2057</th>\n",
              "      <td>0</td>\n",
              "    </tr>\n",
              "    <tr>\n",
              "      <th>26</th>\n",
              "      <td>0</td>\n",
              "    </tr>\n",
              "    <tr>\n",
              "      <th>974</th>\n",
              "      <td>1</td>\n",
              "    </tr>\n",
              "  </tbody>\n",
              "</table>\n",
              "<p>2408 rows × 1 columns</p>\n",
              "</div>"
            ],
            "text/plain": [
              "      Winner\n",
              "1730       1\n",
              "4671       0\n",
              "2465       0\n",
              "2417       1\n",
              "5204       0\n",
              "...      ...\n",
              "2949       0\n",
              "2849       1\n",
              "2057       0\n",
              "26         0\n",
              "974        1\n",
              "\n",
              "[2408 rows x 1 columns]"
            ]
          },
          "metadata": {
            "tags": []
          },
          "execution_count": 148
        }
      ]
    },
    {
      "cell_type": "code",
      "metadata": {
        "colab": {
          "base_uri": "https://localhost:8080/"
        },
        "id": "DndW0X9aOSRc",
        "outputId": "d2a24fdf-01b5-43d5-be61-3356107ed00e"
      },
      "source": [
        "print(f\"X_train.shape = {X_train.shape}\")\n",
        "print(f\"X_valid.shape = {X_valid.shape}\")\n",
        "print(f\"X_test.shape = {X_test.shape}\")\n",
        "print(f\"y_train.shape = {y_train.shape}\")\n",
        "print(f\"y_valid.shape = {y_valid.shape}\")\n",
        "print(f\"y_test.shape = {y_test.shape}\")"
      ],
      "execution_count": 149,
      "outputs": [
        {
          "output_type": "stream",
          "text": [
            "X_train.shape = (2408, 30)\n",
            "X_valid.shape = (1188, 30)\n",
            "X_test.shape = (1774, 30)\n",
            "y_train.shape = (2408, 1)\n",
            "y_valid.shape = (1188, 1)\n",
            "y_test.shape = (1774, 1)\n"
          ],
          "name": "stdout"
        }
      ]
    },
    {
      "cell_type": "markdown",
      "metadata": {
        "id": "xNEsuXzFOSRf"
      },
      "source": [
        "### Standardize features and break into fighter 0 and 1"
      ]
    },
    {
      "cell_type": "code",
      "metadata": {
        "id": "sKWmgHtTdXLr"
      },
      "source": [
        "fighter0_columns = [col for col in X_train.columns if \"Fighter 0\" in col]\n",
        "fighter1_columns = [col for col in X_train.columns if \"Fighter 1\" in col]\n",
        "\n",
        "X0_train = X_train[fighter0_columns]\n",
        "X1_train = X_train[fighter1_columns]\n",
        "X0_valid = X_valid[fighter0_columns]\n",
        "X1_valid = X_valid[fighter1_columns]\n",
        "X0_test = X_test[fighter0_columns]\n",
        "X1_test = X_test[fighter1_columns]\n",
        "\n",
        "X_train_new = pd.concat([X0_train, X1_train], axis=1)\n",
        "X_valid_new = pd.concat([X0_valid, X1_valid], axis=1) \n",
        "X_test_new = pd.concat([X0_test, X1_test], axis=1)\n",
        "\n",
        "means, stds = X_train_new.mean(), X_train_new.std()\n",
        "X_train_new_normal = (X_train_new - means) / stds\n",
        "X_valid_new_normal = (X_valid_new - means) / stds\n",
        "X_test_new_normal = (X_test_new - means) / stds"
      ],
      "execution_count": 150,
      "outputs": []
    },
    {
      "cell_type": "code",
      "metadata": {
        "colab": {
          "base_uri": "https://localhost:8080/"
        },
        "id": "x3836SoTgnx8",
        "outputId": "88744a11-8859-4b2f-c846-9999e29f231e"
      },
      "source": [
        "# Add data augmentation only on training data (can try SMOTE, gaussian noise, etc)\n",
        "extra_train_copies = 10\n",
        "mu, sigma = 0, 0.1\n",
        "noisy_copies = [X_train_new_normal + np.random.normal(mu, sigma, X_train_new_normal.shape) for _ in range(extra_train_copies)]\n",
        "print(f\"X_train_new_normal.shape = {X_train_new_normal.shape}\")\n",
        "print(f\"y_train.shape = {y_train.shape}\")\n",
        "X_train_new_normal_aug = pd.concat([X_train_new_normal] + noisy_copies, axis=0)\n",
        "y_train_aug = pd.concat([y_train] + [y_train] * extra_train_copies, axis=0)\n",
        "print(f\"X_train_new_normal_aug.shape = {X_train_new_normal_aug.shape}\")\n",
        "print(f\"y_train_aug.shape = {y_train_aug.shape}\")"
      ],
      "execution_count": 155,
      "outputs": [
        {
          "output_type": "stream",
          "text": [
            "X_train_new_normal.shape = (2408, 30)\n",
            "y_train.shape = (2408, 1)\n",
            "X_train_new_normal_aug.shape = (26488, 30)\n",
            "y_train_aug.shape = (26488, 1)\n"
          ],
          "name": "stdout"
        }
      ]
    },
    {
      "cell_type": "markdown",
      "metadata": {
        "id": "f-sFWdcdiDD1"
      },
      "source": [
        "## Define inputs to future training"
      ]
    },
    {
      "cell_type": "code",
      "metadata": {
        "id": "UlvV28UhiAtC"
      },
      "source": [
        "X_train, y_train = X_train_new_normal_aug, y_train_aug"
      ],
      "execution_count": 156,
      "outputs": []
    },
    {
      "cell_type": "markdown",
      "metadata": {
        "id": "stOorO7tOSRc"
      },
      "source": [
        "## Train and test ML models\n",
        "\n",
        "TODO: Play around with PyTorch, add in data augmentation like SMOTE, see if normalizing, standardizing, extracting difference features helps."
      ]
    },
    {
      "cell_type": "code",
      "metadata": {
        "id": "RwGbAJvaOSRc"
      },
      "source": [
        "from sklearn.metrics import classification_report, confusion_matrix, ConfusionMatrixDisplay\n",
        "\n",
        "def get_predIdxs_and_trueIdxs(classifier, X, y):\n",
        "    predIdxs = np.where(classifier.predict(X) > 0.5, 1, 0)\n",
        "    trueIdxs = y\n",
        "    return predIdxs, trueIdxs\n",
        "\n",
        "def plot_confusion_matrix(classifier, X, y):\n",
        "    predIdxs, trueIdxs = get_predIdxs_and_trueIdxs(classifier, X, y)\n",
        "    cm = confusion_matrix(trueIdxs, predIdxs)\n",
        "    cmDisplay = ConfusionMatrixDisplay(confusion_matrix=cm, display_labels=[\"Fighter 0 Win\", \"Fighter 1 Win\"])\n",
        "    cmDisplay.plot()\n",
        "    \n",
        "def print_classification_report(classifier, X, y):\n",
        "    predIdxs, trueIdxs = get_predIdxs_and_trueIdxs(classifier, X, y)\n",
        "    print(classification_report(trueIdxs, predIdxs, target_names=[\"Fighter 0 Win\", \"Fighter 1 Win\"]))"
      ],
      "execution_count": 157,
      "outputs": []
    },
    {
      "cell_type": "markdown",
      "metadata": {
        "id": "5jUUa7-6OSRd"
      },
      "source": [
        "### Random forest"
      ]
    },
    {
      "cell_type": "code",
      "metadata": {
        "colab": {
          "base_uri": "https://localhost:8080/",
          "height": 372
        },
        "id": "B8ly4Z3TOSRd",
        "outputId": "1220ccfa-35df-416e-9c07-5554a6f84456"
      },
      "source": [
        "from sklearn.ensemble import RandomForestClassifier\n",
        "\n",
        "# Train\n",
        "random_forest_clf = RandomForestClassifier(max_depth=5, random_state=0)\n",
        "random_forest_clf.fit(X_train, y_train)\n",
        "\n",
        "# Validate\n",
        "accuracy_train = random_forest_clf.score(X_train, y_train)\n",
        "accuracy_valid = random_forest_clf.score(X_valid, y_valid)\n",
        "print(f\"accuracy_train = {accuracy_train}\")\n",
        "print(f\"accuracy_valid = {accuracy_valid}\")\n",
        "\n",
        "# Visualize importances\n",
        "import matplotlib.pyplot as plt\n",
        "plt.rcParams.update({'font.size': 8})\n",
        "plt.barh(X_train.columns, random_forest_clf.feature_importances_)"
      ],
      "execution_count": 158,
      "outputs": [
        {
          "output_type": "stream",
          "text": [
            "/usr/local/lib/python3.7/dist-packages/ipykernel_launcher.py:5: DataConversionWarning: A column-vector y was passed when a 1d array was expected. Please change the shape of y to (n_samples,), for example using ravel().\n",
            "  \"\"\"\n"
          ],
          "name": "stderr"
        },
        {
          "output_type": "stream",
          "text": [
            "accuracy_train = 0.8747357293868921\n",
            "accuracy_valid = 0.5303030303030303\n"
          ],
          "name": "stdout"
        },
        {
          "output_type": "execute_result",
          "data": {
            "text/plain": [
              "<BarContainer object of 30 artists>"
            ]
          },
          "metadata": {
            "tags": []
          },
          "execution_count": 158
        },
        {
          "output_type": "display_data",
          "data": {
            "image/png": "[encoded data removed]",
            "text/plain": [
              "<Figure size 432x288 with 1 Axes>"
            ]
          },
          "metadata": {
            "tags": [],
            "needs_background": "light"
          }
        }
      ]
    },
    {
      "cell_type": "code",
      "metadata": {
        "colab": {
          "base_uri": "https://localhost:8080/",
          "height": 435
        },
        "id": "Zo9BGeJoOSRd",
        "outputId": "5e45d0da-f396-462e-e099-8c3c0ff552d7"
      },
      "source": [
        "plot_confusion_matrix(random_forest_clf, X_valid, y_valid)\n",
        "print_classification_report(random_forest_clf, X_valid, y_valid)"
      ],
      "execution_count": 159,
      "outputs": [
        {
          "output_type": "stream",
          "text": [
            "               precision    recall  f1-score   support\n",
            "\n",
            "Fighter 0 Win       0.74      0.09      0.17       594\n",
            "Fighter 1 Win       0.52      0.97      0.67       594\n",
            "\n",
            "     accuracy                           0.53      1188\n",
            "    macro avg       0.63      0.53      0.42      1188\n",
            " weighted avg       0.63      0.53      0.42      1188\n",
            "\n"
          ],
          "name": "stdout"
        },
        {
          "output_type": "display_data",
          "data": {
            "image/png": "[encoded data removed]",
            "text/plain": [
              "<Figure size 432x288 with 2 Axes>"
            ]
          },
          "metadata": {
            "tags": [],
            "needs_background": "light"
          }
        }
      ]
    },
    {
      "cell_type": "markdown",
      "metadata": {
        "id": "0613aZAmbHdw"
      },
      "source": [
        "### Extra trees"
      ]
    },
    {
      "cell_type": "code",
      "metadata": {
        "colab": {
          "base_uri": "https://localhost:8080/",
          "height": 372
        },
        "id": "RTCgZ7rIbHEb",
        "outputId": "d61d5cdc-c71f-44ab-d35d-d26110e8b1dd"
      },
      "source": [
        "from sklearn.ensemble import ExtraTreesClassifier\n",
        "\n",
        "# Train\n",
        "extra_trees_clf = ExtraTreesClassifier(n_estimators=100, random_state=0)\n",
        "extra_trees_clf.fit(X_train, y_train)\n",
        "\n",
        "# Validate\n",
        "accuracy_train = extra_trees_clf.score(X_train, y_train)\n",
        "accuracy_valid = extra_trees_clf.score(X_valid, y_valid)\n",
        "print(f\"accuracy_train = {accuracy_train}\")\n",
        "print(f\"accuracy_valid = {accuracy_valid}\")\n",
        "\n",
        "# Visualize importances\n",
        "import matplotlib.pyplot as plt\n",
        "plt.rcParams.update({'font.size': 8})\n",
        "plt.barh(X_train.columns, extra_trees_clf.feature_importances_)"
      ],
      "execution_count": 160,
      "outputs": [
        {
          "output_type": "stream",
          "text": [
            "/usr/local/lib/python3.7/dist-packages/ipykernel_launcher.py:5: DataConversionWarning: A column-vector y was passed when a 1d array was expected. Please change the shape of y to (n_samples,), for example using ravel().\n",
            "  \"\"\"\n"
          ],
          "name": "stderr"
        },
        {
          "output_type": "stream",
          "text": [
            "accuracy_train = 1.0\n",
            "accuracy_valid = 0.5286195286195287\n"
          ],
          "name": "stdout"
        },
        {
          "output_type": "execute_result",
          "data": {
            "text/plain": [
              "<BarContainer object of 30 artists>"
            ]
          },
          "metadata": {
            "tags": []
          },
          "execution_count": 160
        },
        {
          "output_type": "display_data",
          "data": {
            "image/png": "[encoded data removed]",
            "text/plain": [
              "<Figure size 432x288 with 1 Axes>"
            ]
          },
          "metadata": {
            "tags": [],
            "needs_background": "light"
          }
        }
      ]
    },
    {
      "cell_type": "code",
      "metadata": {
        "colab": {
          "base_uri": "https://localhost:8080/",
          "height": 435
        },
        "id": "CRY3quOebU7n",
        "outputId": "6ba98adf-b39d-4453-9d0e-2796080c1b07"
      },
      "source": [
        "plot_confusion_matrix(extra_trees_clf, X_valid, y_valid)\n",
        "print_classification_report(extra_trees_clf, X_valid, y_valid)"
      ],
      "execution_count": 161,
      "outputs": [
        {
          "output_type": "stream",
          "text": [
            "               precision    recall  f1-score   support\n",
            "\n",
            "Fighter 0 Win       0.74      0.09      0.16       594\n",
            "Fighter 1 Win       0.52      0.97      0.67       594\n",
            "\n",
            "     accuracy                           0.53      1188\n",
            "    macro avg       0.63      0.53      0.41      1188\n",
            " weighted avg       0.63      0.53      0.41      1188\n",
            "\n"
          ],
          "name": "stdout"
        },
        {
          "output_type": "display_data",
          "data": {
            "image/png": "[encoded data removed]",
            "text/plain": [
              "<Figure size 432x288 with 2 Axes>"
            ]
          },
          "metadata": {
            "tags": [],
            "needs_background": "light"
          }
        }
      ]
    },
    {
      "cell_type": "markdown",
      "metadata": {
        "id": "CXx4w0bQOSRe"
      },
      "source": [
        "### MLP"
      ]
    },
    {
      "cell_type": "code",
      "metadata": {
        "colab": {
          "base_uri": "https://localhost:8080/"
        },
        "id": "cF3J4g8HOSRe",
        "outputId": "32c44498-8584-4820-b414-538dffa4e492"
      },
      "source": [
        "# MLP\n",
        "from sklearn.neural_network import MLPClassifier\n",
        "\n",
        "mlp_clf = MLPClassifier(random_state=1, max_iter=300).fit(X_train, y_train)\n",
        "accuracy_train = mlp_clf.score(X_train, y_train)\n",
        "accuracy_valid = mlp_clf.score(X_valid, y_valid)\n",
        "print(f\"accuracy_train = {accuracy_train}\")\n",
        "print(f\"accuracy_valid = {accuracy_valid}\")"
      ],
      "execution_count": 162,
      "outputs": [
        {
          "output_type": "stream",
          "text": [
            "/usr/local/lib/python3.7/dist-packages/sklearn/neural_network/_multilayer_perceptron.py:934: DataConversionWarning: A column-vector y was passed when a 1d array was expected. Please change the shape of y to (n_samples, ), for example using ravel().\n",
            "  y = column_or_1d(y, warn=True)\n"
          ],
          "name": "stderr"
        },
        {
          "output_type": "stream",
          "text": [
            "accuracy_train = 1.0\n",
            "accuracy_valid = 0.5723905723905723\n"
          ],
          "name": "stdout"
        },
        {
          "output_type": "stream",
          "text": [
            "/usr/local/lib/python3.7/dist-packages/sklearn/neural_network/_multilayer_perceptron.py:573: UserWarning: Training interrupted by user.\n",
            "  warnings.warn(\"Training interrupted by user.\")\n"
          ],
          "name": "stderr"
        }
      ]
    },
    {
      "cell_type": "code",
      "metadata": {
        "colab": {
          "base_uri": "https://localhost:8080/",
          "height": 435
        },
        "id": "xsBZgc7wOSRe",
        "outputId": "1b985d57-8915-4b17-92d2-d027a0209c9c"
      },
      "source": [
        "plot_confusion_matrix(mlp_clf, X_valid, y_valid)\n",
        "print_classification_report(mlp_clf, X_valid, y_valid)"
      ],
      "execution_count": 163,
      "outputs": [
        {
          "output_type": "stream",
          "text": [
            "               precision    recall  f1-score   support\n",
            "\n",
            "Fighter 0 Win       0.81      0.19      0.31       594\n",
            "Fighter 1 Win       0.54      0.95      0.69       594\n",
            "\n",
            "     accuracy                           0.57      1188\n",
            "    macro avg       0.67      0.57      0.50      1188\n",
            " weighted avg       0.67      0.57      0.50      1188\n",
            "\n"
          ],
          "name": "stdout"
        },
        {
          "output_type": "display_data",
          "data": {
            "image/png": "[encoded data removed]",
            "text/plain": [
              "<Figure size 432x288 with 2 Axes>"
            ]
          },
          "metadata": {
            "tags": [],
            "needs_background": "light"
          }
        }
      ]
    },
    {
      "cell_type": "markdown",
      "metadata": {
        "id": "YaDADd0nOSRe"
      },
      "source": [
        "### SVM"
      ]
    },
    {
      "cell_type": "code",
      "metadata": {
        "colab": {
          "base_uri": "https://localhost:8080/"
        },
        "id": "Lid4_UcGOSRe",
        "outputId": "a9007394-decf-46f8-e33f-ceb512f8a8db"
      },
      "source": [
        "# SVM\n",
        "from sklearn.svm import SVC\n",
        "\n",
        "svm_clf = SVC(random_state=1).fit(X_train, y_train)\n",
        "accuracy_train = svm_clf.score(X_train, y_train)\n",
        "accuracy_valid = svm_clf.score(X_valid, y_valid)\n",
        "print(f\"accuracy_train = {accuracy_train}\")\n",
        "print(f\"accuracy_valid = {accuracy_valid}\")"
      ],
      "execution_count": 164,
      "outputs": [
        {
          "output_type": "stream",
          "text": [
            "/usr/local/lib/python3.7/dist-packages/sklearn/utils/validation.py:760: DataConversionWarning: A column-vector y was passed when a 1d array was expected. Please change the shape of y to (n_samples, ), for example using ravel().\n",
            "  y = column_or_1d(y, warn=True)\n"
          ],
          "name": "stderr"
        },
        {
          "output_type": "stream",
          "text": [
            "accuracy_train = 0.9513742071881607\n",
            "accuracy_valid = 0.5\n"
          ],
          "name": "stdout"
        }
      ]
    },
    {
      "cell_type": "code",
      "metadata": {
        "colab": {
          "base_uri": "https://localhost:8080/",
          "height": 490
        },
        "id": "9PUOxo-MOSRf",
        "outputId": "1c9413d6-3c35-4cea-9e05-e1028971e042"
      },
      "source": [
        "plot_confusion_matrix(svm_clf, X_valid, y_valid)\n",
        "print_classification_report(svm_clf, X_valid, y_valid)"
      ],
      "execution_count": 165,
      "outputs": [
        {
          "output_type": "stream",
          "text": [
            "               precision    recall  f1-score   support\n",
            "\n",
            "Fighter 0 Win       0.50      1.00      0.67       594\n",
            "Fighter 1 Win       0.00      0.00      0.00       594\n",
            "\n",
            "     accuracy                           0.50      1188\n",
            "    macro avg       0.25      0.50      0.33      1188\n",
            " weighted avg       0.25      0.50      0.33      1188\n",
            "\n"
          ],
          "name": "stdout"
        },
        {
          "output_type": "stream",
          "text": [
            "/usr/local/lib/python3.7/dist-packages/sklearn/metrics/_classification.py:1272: UndefinedMetricWarning: Precision and F-score are ill-defined and being set to 0.0 in labels with no predicted samples. Use `zero_division` parameter to control this behavior.\n",
            "  _warn_prf(average, modifier, msg_start, len(result))\n"
          ],
          "name": "stderr"
        },
        {
          "output_type": "display_data",
          "data": {
            "image/png": "[encoded data removed]",
            "text/plain": [
              "<Figure size 432x288 with 2 Axes>"
            ]
          },
          "metadata": {
            "tags": [],
            "needs_background": "light"
          }
        }
      ]
    },
    {
      "cell_type": "code",
      "metadata": {
        "colab": {
          "base_uri": "https://localhost:8080/"
        },
        "id": "LzZIqs1OWiXt",
        "outputId": "7f61f331-a827-4c09-82c5-39528def9422"
      },
      "source": [
        "# SVM linear kernel\n",
        "svm_linear_clf = SVC(kernel='linear', random_state=1).fit(X_train, y_train)\n",
        "accuracy_train = svm_linear_clf.score(X_train, y_train)\n",
        "accuracy_valid = svm_linear_clf.score(X_valid, y_valid)\n",
        "print(f\"accuracy_train = {accuracy_train}\")\n",
        "print(f\"accuracy_valid = {accuracy_valid}\")"
      ],
      "execution_count": 23,
      "outputs": [
        {
          "output_type": "stream",
          "text": [
            "/usr/local/lib/python3.7/dist-packages/sklearn/utils/validation.py:760: DataConversionWarning: A column-vector y was passed when a 1d array was expected. Please change the shape of y to (n_samples, ), for example using ravel().\n",
            "  y = column_or_1d(y, warn=True)\n"
          ],
          "name": "stderr"
        },
        {
          "output_type": "stream",
          "text": [
            "accuracy_train = 0.8621262458471761\n",
            "accuracy_valid = 0.8585858585858586\n"
          ],
          "name": "stdout"
        }
      ]
    },
    {
      "cell_type": "code",
      "metadata": {
        "colab": {
          "base_uri": "https://localhost:8080/",
          "height": 282
        },
        "id": "ckmE9q0vXnqs",
        "outputId": "36d8cdf9-6c27-44fa-9093-598a9a0f0b55"
      },
      "source": [
        "# Visualize importances\n",
        "import matplotlib.pyplot as plt\n",
        "plt.rcParams.update({'font.size': 8})\n",
        "plt.barh(X_train.columns, svm_linear_clf.coef_[0])"
      ],
      "execution_count": 24,
      "outputs": [
        {
          "output_type": "execute_result",
          "data": {
            "text/plain": [
              "<BarContainer object of 30 artists>"
            ]
          },
          "metadata": {
            "tags": []
          },
          "execution_count": 24
        },
        {
          "output_type": "display_data",
          "data": {
            "image/png": "[encoded data removed]",
            "text/plain": [
              "<Figure size 432x288 with 1 Axes>"
            ]
          },
          "metadata": {
            "tags": [],
            "needs_background": "light"
          }
        }
      ]
    },
    {
      "cell_type": "code",
      "metadata": {
        "colab": {
          "base_uri": "https://localhost:8080/",
          "height": 435
        },
        "id": "4iMx96BTWwAY",
        "outputId": "4b4c4571-58ad-407e-aefb-638be6ba1141"
      },
      "source": [
        "plot_confusion_matrix(svm_linear_clf, X_valid, y_valid)\n",
        "print_classification_report(svm_linear_clf, X_valid, y_valid)"
      ],
      "execution_count": 25,
      "outputs": [
        {
          "output_type": "stream",
          "text": [
            "               precision    recall  f1-score   support\n",
            "\n",
            "Fighter 0 Win       0.86      0.86      0.86       594\n",
            "Fighter 1 Win       0.86      0.86      0.86       594\n",
            "\n",
            "     accuracy                           0.86      1188\n",
            "    macro avg       0.86      0.86      0.86      1188\n",
            " weighted avg       0.86      0.86      0.86      1188\n",
            "\n"
          ],
          "name": "stdout"
        },
        {
          "output_type": "display_data",
          "data": {
            "image/png": "[encoded data removed]",
            "text/plain": [
              "<Figure size 432x288 with 2 Axes>"
            ]
          },
          "metadata": {
            "tags": [],
            "needs_background": "light"
          }
        }
      ]
    },
    {
      "cell_type": "markdown",
      "metadata": {
        "id": "3itzucb_OSRf"
      },
      "source": [
        "### XGBoost"
      ]
    },
    {
      "cell_type": "code",
      "metadata": {
        "colab": {
          "base_uri": "https://localhost:8080/"
        },
        "id": "H_WSt6GkOSRf",
        "outputId": "fb93d888-6b27-49f0-c0d7-b76b60730dc2"
      },
      "source": [
        "from xgboost import XGBClassifier\n",
        "xgb_clf = XGBClassifier()\n",
        "xgb_clf.fit(X_train, y_train)\n",
        "\n",
        "accuracy_train = xgb_clf.score(X_train, y_train)\n",
        "accuracy_valid = xgb_clf.score(X_valid, y_valid)\n",
        "print(f\"accuracy_train = {accuracy_train}\")\n",
        "print(f\"accuracy_valid = {accuracy_valid}\")"
      ],
      "execution_count": 26,
      "outputs": [
        {
          "output_type": "stream",
          "text": [
            "/usr/local/lib/python3.7/dist-packages/sklearn/preprocessing/_label.py:235: DataConversionWarning: A column-vector y was passed when a 1d array was expected. Please change the shape of y to (n_samples, ), for example using ravel().\n",
            "  y = column_or_1d(y, warn=True)\n",
            "/usr/local/lib/python3.7/dist-packages/sklearn/preprocessing/_label.py:268: DataConversionWarning: A column-vector y was passed when a 1d array was expected. Please change the shape of y to (n_samples, ), for example using ravel().\n",
            "  y = column_or_1d(y, warn=True)\n"
          ],
          "name": "stderr"
        },
        {
          "output_type": "stream",
          "text": [
            "accuracy_train = 0.9090531561461794\n",
            "accuracy_valid = 0.8417508417508418\n"
          ],
          "name": "stdout"
        }
      ]
    },
    {
      "cell_type": "code",
      "metadata": {
        "colab": {
          "base_uri": "https://localhost:8080/",
          "height": 438
        },
        "id": "KVnq88q6O1Fq",
        "outputId": "afb0b0e9-977e-4bcd-86ae-0559586860b9"
      },
      "source": [
        "plot_confusion_matrix(xgb_clf, X_valid, y_valid)\n",
        "print_classification_report(xgb_clf, X_valid, y_valid)"
      ],
      "execution_count": 27,
      "outputs": [
        {
          "output_type": "stream",
          "text": [
            "               precision    recall  f1-score   support\n",
            "\n",
            "Fighter 0 Win       0.84      0.84      0.84       594\n",
            "Fighter 1 Win       0.84      0.84      0.84       594\n",
            "\n",
            "     accuracy                           0.84      1188\n",
            "    macro avg       0.84      0.84      0.84      1188\n",
            " weighted avg       0.84      0.84      0.84      1188\n",
            "\n"
          ],
          "name": "stdout"
        },
        {
          "output_type": "display_data",
          "data": {
            "image/png": "[encoded data removed]",
            "text/plain": [
              "<Figure size 432x288 with 2 Axes>"
            ]
          },
          "metadata": {
            "tags": [],
            "needs_background": "light"
          }
        }
      ]
    },
    {
      "cell_type": "markdown",
      "metadata": {
        "id": "6wP0UzhhVG4M"
      },
      "source": [
        "### Logistic regression"
      ]
    },
    {
      "cell_type": "code",
      "metadata": {
        "colab": {
          "base_uri": "https://localhost:8080/"
        },
        "id": "LbmiFpfCVGgu",
        "outputId": "0a44969e-26a4-4064-d1df-012026602fa8"
      },
      "source": [
        "from sklearn.linear_model import LogisticRegression\n",
        "logistic_regression_clf = LogisticRegression(random_state=0).fit(X_train, y_train)\n",
        "\n",
        "accuracy_train = logistic_regression_clf.score(X_train, y_train)\n",
        "accuracy_valid = logistic_regression_clf.score(X_valid, y_valid)\n",
        "print(f\"accuracy_train = {accuracy_train}\")\n",
        "print(f\"accuracy_valid = {accuracy_valid}\")"
      ],
      "execution_count": 28,
      "outputs": [
        {
          "output_type": "stream",
          "text": [
            "accuracy_train = 0.8608803986710963\n",
            "accuracy_valid = 0.8594276094276094\n"
          ],
          "name": "stdout"
        },
        {
          "output_type": "stream",
          "text": [
            "/usr/local/lib/python3.7/dist-packages/sklearn/utils/validation.py:760: DataConversionWarning: A column-vector y was passed when a 1d array was expected. Please change the shape of y to (n_samples, ), for example using ravel().\n",
            "  y = column_or_1d(y, warn=True)\n",
            "/usr/local/lib/python3.7/dist-packages/sklearn/linear_model/_logistic.py:940: ConvergenceWarning: lbfgs failed to converge (status=1):\n",
            "STOP: TOTAL NO. of ITERATIONS REACHED LIMIT.\n",
            "\n",
            "Increase the number of iterations (max_iter) or scale the data as shown in:\n",
            "    https://scikit-learn.org/stable/modules/preprocessing.html\n",
            "Please also refer to the documentation for alternative solver options:\n",
            "    https://scikit-learn.org/stable/modules/linear_model.html#logistic-regression\n",
            "  extra_warning_msg=_LOGISTIC_SOLVER_CONVERGENCE_MSG)\n"
          ],
          "name": "stderr"
        }
      ]
    },
    {
      "cell_type": "code",
      "metadata": {
        "colab": {
          "base_uri": "https://localhost:8080/",
          "height": 435
        },
        "id": "bYiaJ4WKVN0v",
        "outputId": "05b4e56e-e3af-4906-f183-d2d4a2d79948"
      },
      "source": [
        "plot_confusion_matrix(logistic_regression_clf, X_valid, y_valid)\n",
        "print_classification_report(logistic_regression_clf, X_valid, y_valid)"
      ],
      "execution_count": 29,
      "outputs": [
        {
          "output_type": "stream",
          "text": [
            "               precision    recall  f1-score   support\n",
            "\n",
            "Fighter 0 Win       0.86      0.86      0.86       594\n",
            "Fighter 1 Win       0.86      0.86      0.86       594\n",
            "\n",
            "     accuracy                           0.86      1188\n",
            "    macro avg       0.86      0.86      0.86      1188\n",
            " weighted avg       0.86      0.86      0.86      1188\n",
            "\n"
          ],
          "name": "stdout"
        },
        {
          "output_type": "display_data",
          "data": {
            "image/png": "[encoded data removed]",
            "text/plain": [
              "<Figure size 432x288 with 2 Axes>"
            ]
          },
          "metadata": {
            "tags": [],
            "needs_background": "light"
          }
        }
      ]
    },
    {
      "cell_type": "code",
      "metadata": {
        "colab": {
          "base_uri": "https://localhost:8080/",
          "height": 372
        },
        "id": "cDxUH57MV3CA",
        "outputId": "3cae64cc-a58c-404c-ad31-fb5f0d2bb75f"
      },
      "source": [
        "logistic_regression_l1_clf = LogisticRegression(penalty='l1', solver='liblinear', random_state=0).fit(X_train, y_train)\n",
        "\n",
        "accuracy_train = logistic_regression_l1_clf.score(X_train, y_train)\n",
        "accuracy_valid = logistic_regression_l1_clf.score(X_valid, y_valid)\n",
        "print(f\"accuracy_train = {accuracy_train}\")\n",
        "print(f\"accuracy_valid = {accuracy_valid}\")\n",
        "\n",
        "# Visualize importances\n",
        "import matplotlib.pyplot as plt\n",
        "plt.rcParams.update({'font.size': 8})\n",
        "plt.barh(X_train.columns, logistic_regression_l1_clf.coef_[0])"
      ],
      "execution_count": 30,
      "outputs": [
        {
          "output_type": "stream",
          "text": [
            "accuracy_train = 0.8658637873754153\n",
            "accuracy_valid = 0.8577441077441077\n"
          ],
          "name": "stdout"
        },
        {
          "output_type": "stream",
          "text": [
            "/usr/local/lib/python3.7/dist-packages/sklearn/utils/validation.py:760: DataConversionWarning: A column-vector y was passed when a 1d array was expected. Please change the shape of y to (n_samples, ), for example using ravel().\n",
            "  y = column_or_1d(y, warn=True)\n"
          ],
          "name": "stderr"
        },
        {
          "output_type": "execute_result",
          "data": {
            "text/plain": [
              "<BarContainer object of 30 artists>"
            ]
          },
          "metadata": {
            "tags": []
          },
          "execution_count": 30
        },
        {
          "output_type": "display_data",
          "data": {
            "image/png": "[encoded data removed]",
            "text/plain": [
              "<Figure size 432x288 with 1 Axes>"
            ]
          },
          "metadata": {
            "tags": [],
            "needs_background": "light"
          }
        }
      ]
    },
    {
      "cell_type": "code",
      "metadata": {
        "colab": {
          "base_uri": "https://localhost:8080/",
          "height": 435
        },
        "id": "zWOjdd_QV6We",
        "outputId": "80a4ef28-d159-4d57-e74d-60cf6ebc2278"
      },
      "source": [
        "plot_confusion_matrix(logistic_regression_l1_clf, X_valid, y_valid)\n",
        "print_classification_report(logistic_regression_l1_clf, X_valid, y_valid)"
      ],
      "execution_count": 31,
      "outputs": [
        {
          "output_type": "stream",
          "text": [
            "               precision    recall  f1-score   support\n",
            "\n",
            "Fighter 0 Win       0.86      0.86      0.86       594\n",
            "Fighter 1 Win       0.86      0.86      0.86       594\n",
            "\n",
            "     accuracy                           0.86      1188\n",
            "    macro avg       0.86      0.86      0.86      1188\n",
            " weighted avg       0.86      0.86      0.86      1188\n",
            "\n"
          ],
          "name": "stdout"
        },
        {
          "output_type": "display_data",
          "data": {
            "image/png": "[encoded data removed]",
            "text/plain": [
              "<Figure size 432x288 with 2 Axes>"
            ]
          },
          "metadata": {
            "tags": [],
            "needs_background": "light"
          }
        }
      ]
    },
    {
      "cell_type": "markdown",
      "metadata": {
        "id": "gzj5WaU_YRsQ"
      },
      "source": [
        "### KNN classifier"
      ]
    },
    {
      "cell_type": "code",
      "metadata": {
        "colab": {
          "base_uri": "https://localhost:8080/"
        },
        "id": "Y5ujO215YRFX",
        "outputId": "717e4873-4cad-4367-ba96-5344c82b338a"
      },
      "source": [
        "from sklearn.neighbors import KNeighborsClassifier\n",
        "knn_clf = KNeighborsClassifier(n_neighbors=10).fit(X_train, y_train)\n",
        "\n",
        "accuracy_train = knn_clf.score(X_train, y_train)\n",
        "accuracy_valid = knn_clf.score(X_valid, y_valid)\n",
        "print(f\"accuracy_train = {accuracy_train}\")\n",
        "print(f\"accuracy_valid = {accuracy_valid}\")"
      ],
      "execution_count": 32,
      "outputs": [
        {
          "output_type": "stream",
          "text": [
            "/usr/local/lib/python3.7/dist-packages/ipykernel_launcher.py:2: DataConversionWarning: A column-vector y was passed when a 1d array was expected. Please change the shape of y to (n_samples, ), for example using ravel().\n",
            "  \n"
          ],
          "name": "stderr"
        },
        {
          "output_type": "stream",
          "text": [
            "accuracy_train = 0.8388704318936877\n",
            "accuracy_valid = 0.8131313131313131\n"
          ],
          "name": "stdout"
        }
      ]
    },
    {
      "cell_type": "code",
      "metadata": {
        "colab": {
          "base_uri": "https://localhost:8080/",
          "height": 438
        },
        "id": "aMgQlf5rYfSU",
        "outputId": "4f1744df-d66a-40a5-bb62-4a7b1defcaf1"
      },
      "source": [
        "plot_confusion_matrix(knn_clf, X_valid, y_valid)\n",
        "print_classification_report(knn_clf, X_valid, y_valid)"
      ],
      "execution_count": 33,
      "outputs": [
        {
          "output_type": "stream",
          "text": [
            "               precision    recall  f1-score   support\n",
            "\n",
            "Fighter 0 Win       0.79      0.85      0.82       594\n",
            "Fighter 1 Win       0.84      0.78      0.81       594\n",
            "\n",
            "     accuracy                           0.81      1188\n",
            "    macro avg       0.81      0.81      0.81      1188\n",
            " weighted avg       0.81      0.81      0.81      1188\n",
            "\n"
          ],
          "name": "stdout"
        },
        {
          "output_type": "display_data",
          "data": {
            "image/png": "[encoded data removed]",
            "text/plain": [
              "<Figure size 432x288 with 2 Axes>"
            ]
          },
          "metadata": {
            "tags": [],
            "needs_background": "light"
          }
        }
      ]
    },
    {
      "cell_type": "markdown",
      "metadata": {
        "id": "nbCFcybKZgYI"
      },
      "source": [
        "### Gradient boosting"
      ]
    },
    {
      "cell_type": "code",
      "metadata": {
        "colab": {
          "base_uri": "https://localhost:8080/"
        },
        "id": "RQcxuC6PZjMw",
        "outputId": "4094a8bd-ece3-41ed-fc49-89f1d793fb3d"
      },
      "source": [
        "from sklearn.ensemble import GradientBoostingClassifier\n",
        "gradient_boosting_clf = GradientBoostingClassifier(n_estimators=100, learning_rate=1.0, max_depth=1, random_state=0).fit(X_train, y_train)\n",
        "\n",
        "accuracy_train = gradient_boosting_clf.score(X_train, y_train)\n",
        "accuracy_valid = gradient_boosting_clf.score(X_valid, y_valid)\n",
        "print(f\"accuracy_train = {accuracy_train}\")\n",
        "print(f\"accuracy_valid = {accuracy_valid}\")"
      ],
      "execution_count": 34,
      "outputs": [
        {
          "output_type": "stream",
          "text": [
            "/usr/local/lib/python3.7/dist-packages/sklearn/ensemble/_gb.py:1454: DataConversionWarning: A column-vector y was passed when a 1d array was expected. Please change the shape of y to (n_samples, ), for example using ravel().\n",
            "  y = column_or_1d(y, warn=True)\n"
          ],
          "name": "stderr"
        },
        {
          "output_type": "stream",
          "text": [
            "accuracy_train = 0.8799833887043189\n",
            "accuracy_valid = 0.8232323232323232\n"
          ],
          "name": "stdout"
        }
      ]
    },
    {
      "cell_type": "code",
      "metadata": {
        "colab": {
          "base_uri": "https://localhost:8080/",
          "height": 435
        },
        "id": "uHZNLkgUZo3I",
        "outputId": "33650e56-dbc7-4763-8520-58f98573d99b"
      },
      "source": [
        "plot_confusion_matrix(gradient_boosting_clf, X_valid, y_valid)\n",
        "print_classification_report(gradient_boosting_clf, X_valid, y_valid)"
      ],
      "execution_count": 35,
      "outputs": [
        {
          "output_type": "stream",
          "text": [
            "               precision    recall  f1-score   support\n",
            "\n",
            "Fighter 0 Win       0.82      0.82      0.82       594\n",
            "Fighter 1 Win       0.82      0.82      0.82       594\n",
            "\n",
            "     accuracy                           0.82      1188\n",
            "    macro avg       0.82      0.82      0.82      1188\n",
            " weighted avg       0.82      0.82      0.82      1188\n",
            "\n"
          ],
          "name": "stdout"
        },
        {
          "output_type": "display_data",
          "data": {
            "image/png": "[encoded data removed]",
            "text/plain": [
              "<Figure size 432x288 with 2 Axes>"
            ]
          },
          "metadata": {
            "tags": [],
            "needs_background": "light"
          }
        }
      ]
    },
    {
      "cell_type": "markdown",
      "metadata": {
        "id": "FQK1JgIgYwUN"
      },
      "source": [
        "### Adaboost"
      ]
    },
    {
      "cell_type": "code",
      "metadata": {
        "colab": {
          "base_uri": "https://localhost:8080/"
        },
        "id": "8zpZrIACYx0H",
        "outputId": "f43b3921-fe6e-463f-ad09-c8325837a359"
      },
      "source": [
        "from sklearn.ensemble import AdaBoostClassifier\n",
        "adaboost_clf = AdaBoostClassifier(n_estimators=100, random_state=0).fit(X_train, y_train)\n",
        "\n",
        "accuracy_train = adaboost_clf.score(X_train, y_train)\n",
        "accuracy_valid = adaboost_clf.score(X_valid, y_valid)\n",
        "print(f\"accuracy_train = {accuracy_train}\")\n",
        "print(f\"accuracy_valid = {accuracy_valid}\")"
      ],
      "execution_count": 36,
      "outputs": [
        {
          "output_type": "stream",
          "text": [
            "/usr/local/lib/python3.7/dist-packages/sklearn/utils/validation.py:760: DataConversionWarning: A column-vector y was passed when a 1d array was expected. Please change the shape of y to (n_samples, ), for example using ravel().\n",
            "  y = column_or_1d(y, warn=True)\n"
          ],
          "name": "stderr"
        },
        {
          "output_type": "stream",
          "text": [
            "accuracy_train = 0.8700166112956811\n",
            "accuracy_valid = 0.8181818181818182\n"
          ],
          "name": "stdout"
        }
      ]
    },
    {
      "cell_type": "code",
      "metadata": {
        "colab": {
          "base_uri": "https://localhost:8080/",
          "height": 435
        },
        "id": "S04qiBcYYzl2",
        "outputId": "1edf9188-54e7-46ae-e553-f116e6cf1eff"
      },
      "source": [
        "plot_confusion_matrix(adaboost_clf, X_valid, y_valid)\n",
        "print_classification_report(adaboost_clf, X_valid, y_valid)"
      ],
      "execution_count": 37,
      "outputs": [
        {
          "output_type": "stream",
          "text": [
            "               precision    recall  f1-score   support\n",
            "\n",
            "Fighter 0 Win       0.82      0.82      0.82       594\n",
            "Fighter 1 Win       0.82      0.82      0.82       594\n",
            "\n",
            "     accuracy                           0.82      1188\n",
            "    macro avg       0.82      0.82      0.82      1188\n",
            " weighted avg       0.82      0.82      0.82      1188\n",
            "\n"
          ],
          "name": "stdout"
        },
        {
          "output_type": "display_data",
          "data": {
            "image/png": "[encoded data removed]",
            "text/plain": [
              "<Figure size 432x288 with 2 Axes>"
            ]
          },
          "metadata": {
            "tags": [],
            "needs_background": "light"
          }
        }
      ]
    },
    {
      "cell_type": "markdown",
      "metadata": {
        "id": "ksOlSZIgOSRg"
      },
      "source": [
        "### Deep model"
      ]
    },
    {
      "cell_type": "code",
      "metadata": {
        "colab": {
          "base_uri": "https://localhost:8080/"
        },
        "id": "Ao5ESVIgOSRh",
        "outputId": "b43f9806-8516-4cef-81de-5ef454c840b0"
      },
      "source": [
        "# FFN\n",
        "import tensorflow as tf\n",
        "\n",
        "deep_model = tf.keras.models.Sequential()\n",
        "deep_model.add(tf.keras.Input(shape=X_train.shape[1:]))\n",
        "deep_model.add(tf.keras.layers.Dense(16, activation='relu'))\n",
        "deep_model.add(tf.keras.layers.Dense(16, activation='relu'))\n",
        "deep_model.add(tf.keras.layers.Dropout(0.5))\n",
        "deep_model.add(tf.keras.layers.Dense(1, activation='sigmoid'))\n",
        "\n",
        "deep_model.compile(optimizer='adam', loss='binary_crossentropy', metrics=['accuracy'])\n",
        "deep_model.summary()"
      ],
      "execution_count": 172,
      "outputs": [
        {
          "output_type": "stream",
          "text": [
            "Model: \"sequential_3\"\n",
            "_________________________________________________________________\n",
            "Layer (type)                 Output Shape              Param #   \n",
            "=================================================================\n",
            "dense_9 (Dense)              (None, 16)                496       \n",
            "_________________________________________________________________\n",
            "dense_10 (Dense)             (None, 16)                272       \n",
            "_________________________________________________________________\n",
            "dropout_3 (Dropout)          (None, 16)                0         \n",
            "_________________________________________________________________\n",
            "dense_11 (Dense)             (None, 1)                 17        \n",
            "=================================================================\n",
            "Total params: 785\n",
            "Trainable params: 785\n",
            "Non-trainable params: 0\n",
            "_________________________________________________________________\n"
          ],
          "name": "stdout"
        }
      ]
    },
    {
      "cell_type": "code",
      "metadata": {
        "colab": {
          "base_uri": "https://localhost:8080/",
          "height": 912
        },
        "id": "Pe43H-DXOSRh",
        "outputId": "f7a68428-2f65-4cc7-a84e-1a089a05bedf"
      },
      "source": [
        "H = deep_model.fit(X_train, y_train, epochs=100, validation_data=(X_valid_new_normal, y_valid))"
      ],
      "execution_count": 173,
      "outputs": [
        {
          "output_type": "stream",
          "text": [
            "Epoch 1/100\n",
            "828/828 [==============================] - 2s 2ms/step - loss: 0.5125 - accuracy: 0.7389 - val_loss: 0.3340 - val_accuracy: 0.8586\n",
            "Epoch 2/100\n",
            "828/828 [==============================] - 1s 2ms/step - loss: 0.3511 - accuracy: 0.8499 - val_loss: 0.3306 - val_accuracy: 0.8611\n",
            "Epoch 3/100\n",
            "828/828 [==============================] - 1s 2ms/step - loss: 0.3278 - accuracy: 0.8626 - val_loss: 0.3293 - val_accuracy: 0.8628\n",
            "Epoch 4/100\n",
            "828/828 [==============================] - 1s 2ms/step - loss: 0.3202 - accuracy: 0.8704 - val_loss: 0.3382 - val_accuracy: 0.8552\n",
            "Epoch 5/100\n",
            "828/828 [==============================] - 1s 1ms/step - loss: 0.3092 - accuracy: 0.8696 - val_loss: 0.3371 - val_accuracy: 0.8569\n",
            "Epoch 6/100\n",
            "828/828 [==============================] - 1s 2ms/step - loss: 0.3051 - accuracy: 0.8739 - val_loss: 0.3438 - val_accuracy: 0.8569\n",
            "Epoch 7/100\n",
            "828/828 [==============================] - 1s 1ms/step - loss: 0.2946 - accuracy: 0.8747 - val_loss: 0.3580 - val_accuracy: 0.8493\n",
            "Epoch 8/100\n",
            "828/828 [==============================] - 1s 2ms/step - loss: 0.2869 - accuracy: 0.8813 - val_loss: 0.3517 - val_accuracy: 0.8451\n",
            "Epoch 9/100\n",
            "828/828 [==============================] - 1s 1ms/step - loss: 0.2790 - accuracy: 0.8829 - val_loss: 0.3656 - val_accuracy: 0.8443\n",
            "Epoch 10/100\n",
            "828/828 [==============================] - 1s 2ms/step - loss: 0.2785 - accuracy: 0.8805 - val_loss: 0.3682 - val_accuracy: 0.8510\n",
            "Epoch 11/100\n",
            "828/828 [==============================] - 1s 2ms/step - loss: 0.2756 - accuracy: 0.8817 - val_loss: 0.3738 - val_accuracy: 0.8502\n",
            "Epoch 12/100\n",
            "828/828 [==============================] - 1s 2ms/step - loss: 0.2676 - accuracy: 0.8857 - val_loss: 0.3819 - val_accuracy: 0.8485\n",
            "Epoch 13/100\n",
            "828/828 [==============================] - 1s 2ms/step - loss: 0.2654 - accuracy: 0.8864 - val_loss: 0.3982 - val_accuracy: 0.8443\n",
            "Epoch 14/100\n",
            "828/828 [==============================] - 1s 2ms/step - loss: 0.2561 - accuracy: 0.8858 - val_loss: 0.4132 - val_accuracy: 0.8401\n",
            "Epoch 15/100\n",
            "828/828 [==============================] - 1s 2ms/step - loss: 0.2548 - accuracy: 0.8850 - val_loss: 0.4167 - val_accuracy: 0.8451\n",
            "Epoch 16/100\n",
            "828/828 [==============================] - 1s 2ms/step - loss: 0.2548 - accuracy: 0.8892 - val_loss: 0.4223 - val_accuracy: 0.8451\n",
            "Epoch 17/100\n",
            "264/828 [========>.....................] - ETA: 0s - loss: 0.2466 - accuracy: 0.8919"
          ],
          "name": "stdout"
        },
        {
          "output_type": "error",
          "ename": "KeyboardInterrupt",
          "evalue": "ignored",
          "traceback": [
            "\u001b[0;31m---------------------------------------------------------------------------\u001b[0m",
            "\u001b[0;31mKeyboardInterrupt\u001b[0m                         Traceback (most recent call last)",
            "\u001b[0;32m<ipython-input-173-42b52fdd37be>\u001b[0m in \u001b[0;36m<module>\u001b[0;34m()\u001b[0m\n\u001b[0;32m----> 1\u001b[0;31m \u001b[0mH\u001b[0m \u001b[0;34m=\u001b[0m \u001b[0mdeep_model\u001b[0m\u001b[0;34m.\u001b[0m\u001b[0mfit\u001b[0m\u001b[0;34m(\u001b[0m\u001b[0mX_train\u001b[0m\u001b[0;34m,\u001b[0m \u001b[0my_train\u001b[0m\u001b[0;34m,\u001b[0m \u001b[0mepochs\u001b[0m\u001b[0;34m=\u001b[0m\u001b[0;36m100\u001b[0m\u001b[0;34m,\u001b[0m \u001b[0mvalidation_data\u001b[0m\u001b[0;34m=\u001b[0m\u001b[0;34m(\u001b[0m\u001b[0mX_valid_new_normal\u001b[0m\u001b[0;34m,\u001b[0m \u001b[0my_valid\u001b[0m\u001b[0;34m)\u001b[0m\u001b[0;34m)\u001b[0m\u001b[0;34m\u001b[0m\u001b[0;34m\u001b[0m\u001b[0m\n\u001b[0m",
            "\u001b[0;32m/usr/local/lib/python3.7/dist-packages/tensorflow/python/keras/engine/training.py\u001b[0m in \u001b[0;36mfit\u001b[0;34m(self, x, y, batch_size, epochs, verbose, callbacks, validation_split, validation_data, shuffle, class_weight, sample_weight, initial_epoch, steps_per_epoch, validation_steps, validation_batch_size, validation_freq, max_queue_size, workers, use_multiprocessing)\u001b[0m\n\u001b[1;32m   1098\u001b[0m                 _r=1):\n\u001b[1;32m   1099\u001b[0m               \u001b[0mcallbacks\u001b[0m\u001b[0;34m.\u001b[0m\u001b[0mon_train_batch_begin\u001b[0m\u001b[0;34m(\u001b[0m\u001b[0mstep\u001b[0m\u001b[0;34m)\u001b[0m\u001b[0;34m\u001b[0m\u001b[0;34m\u001b[0m\u001b[0m\n\u001b[0;32m-> 1100\u001b[0;31m               \u001b[0mtmp_logs\u001b[0m \u001b[0;34m=\u001b[0m \u001b[0mself\u001b[0m\u001b[0;34m.\u001b[0m\u001b[0mtrain_function\u001b[0m\u001b[0;34m(\u001b[0m\u001b[0miterator\u001b[0m\u001b[0;34m)\u001b[0m\u001b[0;34m\u001b[0m\u001b[0;34m\u001b[0m\u001b[0m\n\u001b[0m\u001b[1;32m   1101\u001b[0m               \u001b[0;32mif\u001b[0m \u001b[0mdata_handler\u001b[0m\u001b[0;34m.\u001b[0m\u001b[0mshould_sync\u001b[0m\u001b[0;34m:\u001b[0m\u001b[0;34m\u001b[0m\u001b[0;34m\u001b[0m\u001b[0m\n\u001b[1;32m   1102\u001b[0m                 \u001b[0mcontext\u001b[0m\u001b[0;34m.\u001b[0m\u001b[0masync_wait\u001b[0m\u001b[0;34m(\u001b[0m\u001b[0;34m)\u001b[0m\u001b[0;34m\u001b[0m\u001b[0;34m\u001b[0m\u001b[0m\n",
            "\u001b[0;32m/usr/local/lib/python3.7/dist-packages/tensorflow/python/eager/def_function.py\u001b[0m in \u001b[0;36m__call__\u001b[0;34m(self, *args, **kwds)\u001b[0m\n\u001b[1;32m    826\u001b[0m     \u001b[0mtracing_count\u001b[0m \u001b[0;34m=\u001b[0m \u001b[0mself\u001b[0m\u001b[0;34m.\u001b[0m\u001b[0mexperimental_get_tracing_count\u001b[0m\u001b[0;34m(\u001b[0m\u001b[0;34m)\u001b[0m\u001b[0;34m\u001b[0m\u001b[0;34m\u001b[0m\u001b[0m\n\u001b[1;32m    827\u001b[0m     \u001b[0;32mwith\u001b[0m \u001b[0mtrace\u001b[0m\u001b[0;34m.\u001b[0m\u001b[0mTrace\u001b[0m\u001b[0;34m(\u001b[0m\u001b[0mself\u001b[0m\u001b[0;34m.\u001b[0m\u001b[0m_name\u001b[0m\u001b[0;34m)\u001b[0m \u001b[0;32mas\u001b[0m \u001b[0mtm\u001b[0m\u001b[0;34m:\u001b[0m\u001b[0;34m\u001b[0m\u001b[0;34m\u001b[0m\u001b[0m\n\u001b[0;32m--> 828\u001b[0;31m       \u001b[0mresult\u001b[0m \u001b[0;34m=\u001b[0m \u001b[0mself\u001b[0m\u001b[0;34m.\u001b[0m\u001b[0m_call\u001b[0m\u001b[0;34m(\u001b[0m\u001b[0;34m*\u001b[0m\u001b[0margs\u001b[0m\u001b[0;34m,\u001b[0m \u001b[0;34m**\u001b[0m\u001b[0mkwds\u001b[0m\u001b[0;34m)\u001b[0m\u001b[0;34m\u001b[0m\u001b[0;34m\u001b[0m\u001b[0m\n\u001b[0m\u001b[1;32m    829\u001b[0m       \u001b[0mcompiler\u001b[0m \u001b[0;34m=\u001b[0m \u001b[0;34m\"xla\"\u001b[0m \u001b[0;32mif\u001b[0m \u001b[0mself\u001b[0m\u001b[0;34m.\u001b[0m\u001b[0m_experimental_compile\u001b[0m \u001b[0;32melse\u001b[0m \u001b[0;34m\"nonXla\"\u001b[0m\u001b[0;34m\u001b[0m\u001b[0;34m\u001b[0m\u001b[0m\n\u001b[1;32m    830\u001b[0m       \u001b[0mnew_tracing_count\u001b[0m \u001b[0;34m=\u001b[0m \u001b[0mself\u001b[0m\u001b[0;34m.\u001b[0m\u001b[0mexperimental_get_tracing_count\u001b[0m\u001b[0;34m(\u001b[0m\u001b[0;34m)\u001b[0m\u001b[0;34m\u001b[0m\u001b[0;34m\u001b[0m\u001b[0m\n",
            "\u001b[0;32m/usr/local/lib/python3.7/dist-packages/tensorflow/python/eager/def_function.py\u001b[0m in \u001b[0;36m_call\u001b[0;34m(self, *args, **kwds)\u001b[0m\n\u001b[1;32m    853\u001b[0m       \u001b[0;31m# In this case we have created variables on the first call, so we run the\u001b[0m\u001b[0;34m\u001b[0m\u001b[0;34m\u001b[0m\u001b[0;34m\u001b[0m\u001b[0m\n\u001b[1;32m    854\u001b[0m       \u001b[0;31m# defunned version which is guaranteed to never create variables.\u001b[0m\u001b[0;34m\u001b[0m\u001b[0;34m\u001b[0m\u001b[0;34m\u001b[0m\u001b[0m\n\u001b[0;32m--> 855\u001b[0;31m       \u001b[0;32mreturn\u001b[0m \u001b[0mself\u001b[0m\u001b[0;34m.\u001b[0m\u001b[0m_stateless_fn\u001b[0m\u001b[0;34m(\u001b[0m\u001b[0;34m*\u001b[0m\u001b[0margs\u001b[0m\u001b[0;34m,\u001b[0m \u001b[0;34m**\u001b[0m\u001b[0mkwds\u001b[0m\u001b[0;34m)\u001b[0m  \u001b[0;31m# pylint: disable=not-callable\u001b[0m\u001b[0;34m\u001b[0m\u001b[0;34m\u001b[0m\u001b[0m\n\u001b[0m\u001b[1;32m    856\u001b[0m     \u001b[0;32melif\u001b[0m \u001b[0mself\u001b[0m\u001b[0;34m.\u001b[0m\u001b[0m_stateful_fn\u001b[0m \u001b[0;32mis\u001b[0m \u001b[0;32mnot\u001b[0m \u001b[0;32mNone\u001b[0m\u001b[0;34m:\u001b[0m\u001b[0;34m\u001b[0m\u001b[0;34m\u001b[0m\u001b[0m\n\u001b[1;32m    857\u001b[0m       \u001b[0;31m# Release the lock early so that multiple threads can perform the call\u001b[0m\u001b[0;34m\u001b[0m\u001b[0;34m\u001b[0m\u001b[0;34m\u001b[0m\u001b[0m\n",
            "\u001b[0;32m/usr/local/lib/python3.7/dist-packages/tensorflow/python/eager/function.py\u001b[0m in \u001b[0;36m__call__\u001b[0;34m(self, *args, **kwargs)\u001b[0m\n\u001b[1;32m   2941\u001b[0m        filtered_flat_args) = self._maybe_define_function(args, kwargs)\n\u001b[1;32m   2942\u001b[0m     return graph_function._call_flat(\n\u001b[0;32m-> 2943\u001b[0;31m         filtered_flat_args, captured_inputs=graph_function.captured_inputs)  # pylint: disable=protected-access\n\u001b[0m\u001b[1;32m   2944\u001b[0m \u001b[0;34m\u001b[0m\u001b[0m\n\u001b[1;32m   2945\u001b[0m   \u001b[0;34m@\u001b[0m\u001b[0mproperty\u001b[0m\u001b[0;34m\u001b[0m\u001b[0;34m\u001b[0m\u001b[0m\n",
            "\u001b[0;32m/usr/local/lib/python3.7/dist-packages/tensorflow/python/eager/function.py\u001b[0m in \u001b[0;36m_call_flat\u001b[0;34m(self, args, captured_inputs, cancellation_manager)\u001b[0m\n\u001b[1;32m   1917\u001b[0m       \u001b[0;31m# No tape is watching; skip to running the function.\u001b[0m\u001b[0;34m\u001b[0m\u001b[0;34m\u001b[0m\u001b[0;34m\u001b[0m\u001b[0m\n\u001b[1;32m   1918\u001b[0m       return self._build_call_outputs(self._inference_function.call(\n\u001b[0;32m-> 1919\u001b[0;31m           ctx, args, cancellation_manager=cancellation_manager))\n\u001b[0m\u001b[1;32m   1920\u001b[0m     forward_backward = self._select_forward_and_backward_functions(\n\u001b[1;32m   1921\u001b[0m         \u001b[0margs\u001b[0m\u001b[0;34m,\u001b[0m\u001b[0;34m\u001b[0m\u001b[0;34m\u001b[0m\u001b[0m\n",
            "\u001b[0;32m/usr/local/lib/python3.7/dist-packages/tensorflow/python/eager/function.py\u001b[0m in \u001b[0;36mcall\u001b[0;34m(self, ctx, args, cancellation_manager)\u001b[0m\n\u001b[1;32m    558\u001b[0m               \u001b[0minputs\u001b[0m\u001b[0;34m=\u001b[0m\u001b[0margs\u001b[0m\u001b[0;34m,\u001b[0m\u001b[0;34m\u001b[0m\u001b[0;34m\u001b[0m\u001b[0m\n\u001b[1;32m    559\u001b[0m               \u001b[0mattrs\u001b[0m\u001b[0;34m=\u001b[0m\u001b[0mattrs\u001b[0m\u001b[0;34m,\u001b[0m\u001b[0;34m\u001b[0m\u001b[0;34m\u001b[0m\u001b[0m\n\u001b[0;32m--> 560\u001b[0;31m               ctx=ctx)\n\u001b[0m\u001b[1;32m    561\u001b[0m         \u001b[0;32melse\u001b[0m\u001b[0;34m:\u001b[0m\u001b[0;34m\u001b[0m\u001b[0;34m\u001b[0m\u001b[0m\n\u001b[1;32m    562\u001b[0m           outputs = execute.execute_with_cancellation(\n",
            "\u001b[0;32m/usr/local/lib/python3.7/dist-packages/tensorflow/python/eager/execute.py\u001b[0m in \u001b[0;36mquick_execute\u001b[0;34m(op_name, num_outputs, inputs, attrs, ctx, name)\u001b[0m\n\u001b[1;32m     58\u001b[0m     \u001b[0mctx\u001b[0m\u001b[0;34m.\u001b[0m\u001b[0mensure_initialized\u001b[0m\u001b[0;34m(\u001b[0m\u001b[0;34m)\u001b[0m\u001b[0;34m\u001b[0m\u001b[0;34m\u001b[0m\u001b[0m\n\u001b[1;32m     59\u001b[0m     tensors = pywrap_tfe.TFE_Py_Execute(ctx._handle, device_name, op_name,\n\u001b[0;32m---> 60\u001b[0;31m                                         inputs, attrs, num_outputs)\n\u001b[0m\u001b[1;32m     61\u001b[0m   \u001b[0;32mexcept\u001b[0m \u001b[0mcore\u001b[0m\u001b[0;34m.\u001b[0m\u001b[0m_NotOkStatusException\u001b[0m \u001b[0;32mas\u001b[0m \u001b[0me\u001b[0m\u001b[0;34m:\u001b[0m\u001b[0;34m\u001b[0m\u001b[0;34m\u001b[0m\u001b[0m\n\u001b[1;32m     62\u001b[0m     \u001b[0;32mif\u001b[0m \u001b[0mname\u001b[0m \u001b[0;32mis\u001b[0m \u001b[0;32mnot\u001b[0m \u001b[0;32mNone\u001b[0m\u001b[0;34m:\u001b[0m\u001b[0;34m\u001b[0m\u001b[0;34m\u001b[0m\u001b[0m\n",
            "\u001b[0;31mKeyboardInterrupt\u001b[0m: "
          ]
        }
      ]
    },
    {
      "cell_type": "code",
      "metadata": {
        "colab": {
          "base_uri": "https://localhost:8080/",
          "height": 277
        },
        "id": "acYFP63oOSRh",
        "outputId": "400f12c8-4c05-4f94-f2e0-56b4a7ca9d8a"
      },
      "source": [
        "from matplotlib import pyplot as plt\n",
        "plt.plot(H.history['accuracy'])\n",
        "plt.plot(H.history['val_accuracy'])\n",
        "plt.plot(H.history['loss'])\n",
        "plt.plot(H.history['val_loss'])\n",
        "plt.xlabel('epoch')\n",
        "plt.legend(['accuracy', 'val_accuracy', 'loss', 'val_loss'], loc='upper left')\n",
        "plt.show()"
      ],
      "execution_count": 43,
      "outputs": [
        {
          "output_type": "display_data",
          "data": {
            "image/png": "[encoded data removed]",
            "text/plain": [
              "<Figure size 432x288 with 1 Axes>"
            ]
          },
          "metadata": {
            "tags": [],
            "needs_background": "light"
          }
        }
      ]
    },
    {
      "cell_type": "code",
      "metadata": {
        "colab": {
          "base_uri": "https://localhost:8080/",
          "height": 438
        },
        "id": "hrDpuSjjOSRi",
        "outputId": "62e3099e-3673-4ec2-bded-4a0da6f105e7"
      },
      "source": [
        "plot_confusion_matrix(deep_model, X_valid_new_normal, y_valid)\n",
        "print_classification_report(deep_model, X_valid_new_normal, y_valid)"
      ],
      "execution_count": 44,
      "outputs": [
        {
          "output_type": "stream",
          "text": [
            "               precision    recall  f1-score   support\n",
            "\n",
            "Fighter 0 Win       0.81      0.85      0.83       594\n",
            "Fighter 1 Win       0.84      0.80      0.82       594\n",
            "\n",
            "     accuracy                           0.82      1188\n",
            "    macro avg       0.83      0.82      0.82      1188\n",
            " weighted avg       0.83      0.82      0.82      1188\n",
            "\n"
          ],
          "name": "stdout"
        },
        {
          "output_type": "display_data",
          "data": {
            "image/png": "[encoded data removed]",
            "text/plain": [
              "<Figure size 432x288 with 2 Axes>"
            ]
          },
          "metadata": {
            "tags": [],
            "needs_background": "light"
          }
        }
      ]
    },
    {
      "cell_type": "markdown",
      "metadata": {
        "id": "0MTgv_KmOSRj"
      },
      "source": [
        "### Comparison Model"
      ]
    },
    {
      "cell_type": "code",
      "metadata": {
        "id": "CNAmHJFKOSRj"
      },
      "source": [
        "from tensorflow.keras.layers import Input, Lambda, Subtract, Activation\n",
        "from tensorflow.keras.models import Model\n",
        "def create_comparison_model(input_shape):\n",
        "    num_features_per_fighter = input_shape[0] // 2\n",
        "\n",
        "    model_ = tf.keras.models.Sequential()\n",
        "    model_.add(tf.keras.Input(shape=num_features_per_fighter))\n",
        "    model_.add(tf.keras.layers.Dense(32, activation='relu'))\n",
        "    model_.add(tf.keras.layers.Dense(32, activation='relu'))\n",
        "    model_.add(tf.keras.layers.Dropout(0.5))\n",
        "\n",
        "    model_.add(tf.keras.layers.Dense(1, activation='relu'))\n",
        "    \n",
        "    # Run cnn model on each frame\n",
        "    input_tensor = Input(shape=input_shape)\n",
        "    fighter0_state = Lambda(lambda x: x[:, :num_features_per_fighter], name='fighter0_state')(input_tensor)\n",
        "    fighter1_state = Lambda(lambda x: x[:, num_features_per_fighter:], name='fighter1_state')(input_tensor)\n",
        "\n",
        "    fighter0_score = model_(fighter0_state)\n",
        "    fighter1_score = model_(fighter1_state)\n",
        "    fighter0_score = Lambda(lambda x: x, name='fighter0_score')(fighter0_score)\n",
        "    fighter1_score = Lambda(lambda x: x, name='fighter1_score')(fighter1_score)\n",
        "    \n",
        "    difference_score = Subtract(name='subtracter')([fighter1_score, fighter0_score])\n",
        "    prediction = Activation('sigmoid')(difference_score)\n",
        "    return Model(inputs=input_tensor, outputs=prediction)"
      ],
      "execution_count": 45,
      "outputs": []
    },
    {
      "cell_type": "code",
      "metadata": {
        "colab": {
          "base_uri": "https://localhost:8080/"
        },
        "id": "JVyaVIkzOSRj",
        "outputId": "4a876b30-1dda-4132-a570-fdc1139395e8"
      },
      "source": [
        "comparison_model = create_comparison_model(X_train.shape[1:])\n",
        "optimizer = tf.keras.optimizers.Adam(lr=0.001)\n",
        "comparison_model.compile(optimizer=optimizer, loss='binary_crossentropy', metrics=['accuracy'])\n",
        "comparison_model.summary()"
      ],
      "execution_count": 174,
      "outputs": [
        {
          "output_type": "stream",
          "text": [
            "Model: \"model_4\"\n",
            "__________________________________________________________________________________________________\n",
            "Layer (type)                    Output Shape         Param #     Connected to                     \n",
            "==================================================================================================\n",
            "input_7 (InputLayer)            [(None, 30)]         0                                            \n",
            "__________________________________________________________________________________________________\n",
            "fighter1_state (Lambda)         (None, 15)           0           input_7[0][0]                    \n",
            "__________________________________________________________________________________________________\n",
            "fighter0_state (Lambda)         (None, 15)           0           input_7[0][0]                    \n",
            "__________________________________________________________________________________________________\n",
            "sequential_4 (Sequential)       (None, 1)            1601        fighter0_state[0][0]             \n",
            "                                                                 fighter1_state[0][0]             \n",
            "__________________________________________________________________________________________________\n",
            "fighter1_score (Lambda)         (None, 1)            0           sequential_4[1][0]               \n",
            "__________________________________________________________________________________________________\n",
            "fighter0_score (Lambda)         (None, 1)            0           sequential_4[0][0]               \n",
            "__________________________________________________________________________________________________\n",
            "subtracter (Subtract)           (None, 1)            0           fighter1_score[0][0]             \n",
            "                                                                 fighter0_score[0][0]             \n",
            "__________________________________________________________________________________________________\n",
            "activation_1 (Activation)       (None, 1)            0           subtracter[0][0]                 \n",
            "==================================================================================================\n",
            "Total params: 1,601\n",
            "Trainable params: 1,601\n",
            "Non-trainable params: 0\n",
            "__________________________________________________________________________________________________\n"
          ],
          "name": "stdout"
        }
      ]
    },
    {
      "cell_type": "code",
      "metadata": {
        "colab": {
          "base_uri": "https://localhost:8080/",
          "height": 771
        },
        "id": "Drp0QsEtOSRk",
        "outputId": "e3a6f89e-7736-4ef9-8afd-6bff03028bd2"
      },
      "source": [
        "H = comparison_model.fit(X_train, y_train, epochs=100, validation_data=(X_valid_new_normal, y_valid))"
      ],
      "execution_count": 175,
      "outputs": [
        {
          "output_type": "stream",
          "text": [
            "Epoch 1/100\n",
            "828/828 [==============================] - 2s 2ms/step - loss: 0.4615 - accuracy: 0.7659 - val_loss: 0.3603 - val_accuracy: 0.8426\n",
            "Epoch 2/100\n",
            "828/828 [==============================] - 2s 2ms/step - loss: 0.3450 - accuracy: 0.8487 - val_loss: 0.3599 - val_accuracy: 0.8426\n",
            "Epoch 3/100\n",
            "828/828 [==============================] - 2s 2ms/step - loss: 0.3177 - accuracy: 0.8641 - val_loss: 0.3619 - val_accuracy: 0.8510\n",
            "Epoch 4/100\n",
            "828/828 [==============================] - 2s 2ms/step - loss: 0.2955 - accuracy: 0.8777 - val_loss: 0.3731 - val_accuracy: 0.8401\n",
            "Epoch 5/100\n",
            "828/828 [==============================] - 1s 2ms/step - loss: 0.2721 - accuracy: 0.8869 - val_loss: 0.3808 - val_accuracy: 0.8443\n",
            "Epoch 6/100\n",
            "828/828 [==============================] - 1s 2ms/step - loss: 0.2568 - accuracy: 0.8933 - val_loss: 0.3986 - val_accuracy: 0.8266\n",
            "Epoch 7/100\n",
            "828/828 [==============================] - 2s 2ms/step - loss: 0.2436 - accuracy: 0.9004 - val_loss: 0.4031 - val_accuracy: 0.8291\n",
            "Epoch 8/100\n",
            "828/828 [==============================] - 2s 2ms/step - loss: 0.2282 - accuracy: 0.9063 - val_loss: 0.4186 - val_accuracy: 0.8333\n",
            "Epoch 9/100\n",
            "828/828 [==============================] - 1s 2ms/step - loss: 0.2201 - accuracy: 0.9084 - val_loss: 0.4352 - val_accuracy: 0.8157\n",
            "Epoch 10/100\n",
            "828/828 [==============================] - 2s 2ms/step - loss: 0.2126 - accuracy: 0.9121 - val_loss: 0.4505 - val_accuracy: 0.8207\n",
            "Epoch 11/100\n",
            "828/828 [==============================] - 2s 2ms/step - loss: 0.2041 - accuracy: 0.9158 - val_loss: 0.4684 - val_accuracy: 0.8173\n",
            "Epoch 12/100\n",
            "828/828 [==============================] - 2s 2ms/step - loss: 0.1945 - accuracy: 0.9196 - val_loss: 0.4752 - val_accuracy: 0.8182\n",
            "Epoch 13/100\n",
            " 26/828 [..............................] - ETA: 1s - loss: 0.1596 - accuracy: 0.9368"
          ],
          "name": "stdout"
        },
        {
          "output_type": "error",
          "ename": "KeyboardInterrupt",
          "evalue": "ignored",
          "traceback": [
            "\u001b[0;31m---------------------------------------------------------------------------\u001b[0m",
            "\u001b[0;31mKeyboardInterrupt\u001b[0m                         Traceback (most recent call last)",
            "\u001b[0;32m<ipython-input-175-fc0723697f63>\u001b[0m in \u001b[0;36m<module>\u001b[0;34m()\u001b[0m\n\u001b[0;32m----> 1\u001b[0;31m \u001b[0mH\u001b[0m \u001b[0;34m=\u001b[0m \u001b[0mcomparison_model\u001b[0m\u001b[0;34m.\u001b[0m\u001b[0mfit\u001b[0m\u001b[0;34m(\u001b[0m\u001b[0mX_train\u001b[0m\u001b[0;34m,\u001b[0m \u001b[0my_train\u001b[0m\u001b[0;34m,\u001b[0m \u001b[0mepochs\u001b[0m\u001b[0;34m=\u001b[0m\u001b[0;36m100\u001b[0m\u001b[0;34m,\u001b[0m \u001b[0mvalidation_data\u001b[0m\u001b[0;34m=\u001b[0m\u001b[0;34m(\u001b[0m\u001b[0mX_valid_new_normal\u001b[0m\u001b[0;34m,\u001b[0m \u001b[0my_valid\u001b[0m\u001b[0;34m)\u001b[0m\u001b[0;34m)\u001b[0m\u001b[0;34m\u001b[0m\u001b[0;34m\u001b[0m\u001b[0m\n\u001b[0m",
            "\u001b[0;32m/usr/local/lib/python3.7/dist-packages/tensorflow/python/keras/engine/training.py\u001b[0m in \u001b[0;36mfit\u001b[0;34m(self, x, y, batch_size, epochs, verbose, callbacks, validation_split, validation_data, shuffle, class_weight, sample_weight, initial_epoch, steps_per_epoch, validation_steps, validation_batch_size, validation_freq, max_queue_size, workers, use_multiprocessing)\u001b[0m\n\u001b[1;32m   1098\u001b[0m                 _r=1):\n\u001b[1;32m   1099\u001b[0m               \u001b[0mcallbacks\u001b[0m\u001b[0;34m.\u001b[0m\u001b[0mon_train_batch_begin\u001b[0m\u001b[0;34m(\u001b[0m\u001b[0mstep\u001b[0m\u001b[0;34m)\u001b[0m\u001b[0;34m\u001b[0m\u001b[0;34m\u001b[0m\u001b[0m\n\u001b[0;32m-> 1100\u001b[0;31m               \u001b[0mtmp_logs\u001b[0m \u001b[0;34m=\u001b[0m \u001b[0mself\u001b[0m\u001b[0;34m.\u001b[0m\u001b[0mtrain_function\u001b[0m\u001b[0;34m(\u001b[0m\u001b[0miterator\u001b[0m\u001b[0;34m)\u001b[0m\u001b[0;34m\u001b[0m\u001b[0;34m\u001b[0m\u001b[0m\n\u001b[0m\u001b[1;32m   1101\u001b[0m               \u001b[0;32mif\u001b[0m \u001b[0mdata_handler\u001b[0m\u001b[0;34m.\u001b[0m\u001b[0mshould_sync\u001b[0m\u001b[0;34m:\u001b[0m\u001b[0;34m\u001b[0m\u001b[0;34m\u001b[0m\u001b[0m\n\u001b[1;32m   1102\u001b[0m                 \u001b[0mcontext\u001b[0m\u001b[0;34m.\u001b[0m\u001b[0masync_wait\u001b[0m\u001b[0;34m(\u001b[0m\u001b[0;34m)\u001b[0m\u001b[0;34m\u001b[0m\u001b[0;34m\u001b[0m\u001b[0m\n",
            "\u001b[0;32m/usr/local/lib/python3.7/dist-packages/tensorflow/python/eager/def_function.py\u001b[0m in \u001b[0;36m__call__\u001b[0;34m(self, *args, **kwds)\u001b[0m\n\u001b[1;32m    826\u001b[0m     \u001b[0mtracing_count\u001b[0m \u001b[0;34m=\u001b[0m \u001b[0mself\u001b[0m\u001b[0;34m.\u001b[0m\u001b[0mexperimental_get_tracing_count\u001b[0m\u001b[0;34m(\u001b[0m\u001b[0;34m)\u001b[0m\u001b[0;34m\u001b[0m\u001b[0;34m\u001b[0m\u001b[0m\n\u001b[1;32m    827\u001b[0m     \u001b[0;32mwith\u001b[0m \u001b[0mtrace\u001b[0m\u001b[0;34m.\u001b[0m\u001b[0mTrace\u001b[0m\u001b[0;34m(\u001b[0m\u001b[0mself\u001b[0m\u001b[0;34m.\u001b[0m\u001b[0m_name\u001b[0m\u001b[0;34m)\u001b[0m \u001b[0;32mas\u001b[0m \u001b[0mtm\u001b[0m\u001b[0;34m:\u001b[0m\u001b[0;34m\u001b[0m\u001b[0;34m\u001b[0m\u001b[0m\n\u001b[0;32m--> 828\u001b[0;31m       \u001b[0mresult\u001b[0m \u001b[0;34m=\u001b[0m \u001b[0mself\u001b[0m\u001b[0;34m.\u001b[0m\u001b[0m_call\u001b[0m\u001b[0;34m(\u001b[0m\u001b[0;34m*\u001b[0m\u001b[0margs\u001b[0m\u001b[0;34m,\u001b[0m \u001b[0;34m**\u001b[0m\u001b[0mkwds\u001b[0m\u001b[0;34m)\u001b[0m\u001b[0;34m\u001b[0m\u001b[0;34m\u001b[0m\u001b[0m\n\u001b[0m\u001b[1;32m    829\u001b[0m       \u001b[0mcompiler\u001b[0m \u001b[0;34m=\u001b[0m \u001b[0;34m\"xla\"\u001b[0m \u001b[0;32mif\u001b[0m \u001b[0mself\u001b[0m\u001b[0;34m.\u001b[0m\u001b[0m_experimental_compile\u001b[0m \u001b[0;32melse\u001b[0m \u001b[0;34m\"nonXla\"\u001b[0m\u001b[0;34m\u001b[0m\u001b[0;34m\u001b[0m\u001b[0m\n\u001b[1;32m    830\u001b[0m       \u001b[0mnew_tracing_count\u001b[0m \u001b[0;34m=\u001b[0m \u001b[0mself\u001b[0m\u001b[0;34m.\u001b[0m\u001b[0mexperimental_get_tracing_count\u001b[0m\u001b[0;34m(\u001b[0m\u001b[0;34m)\u001b[0m\u001b[0;34m\u001b[0m\u001b[0;34m\u001b[0m\u001b[0m\n",
            "\u001b[0;32m/usr/local/lib/python3.7/dist-packages/tensorflow/python/eager/def_function.py\u001b[0m in \u001b[0;36m_call\u001b[0;34m(self, *args, **kwds)\u001b[0m\n\u001b[1;32m    853\u001b[0m       \u001b[0;31m# In this case we have created variables on the first call, so we run the\u001b[0m\u001b[0;34m\u001b[0m\u001b[0;34m\u001b[0m\u001b[0;34m\u001b[0m\u001b[0m\n\u001b[1;32m    854\u001b[0m       \u001b[0;31m# defunned version which is guaranteed to never create variables.\u001b[0m\u001b[0;34m\u001b[0m\u001b[0;34m\u001b[0m\u001b[0;34m\u001b[0m\u001b[0m\n\u001b[0;32m--> 855\u001b[0;31m       \u001b[0;32mreturn\u001b[0m \u001b[0mself\u001b[0m\u001b[0;34m.\u001b[0m\u001b[0m_stateless_fn\u001b[0m\u001b[0;34m(\u001b[0m\u001b[0;34m*\u001b[0m\u001b[0margs\u001b[0m\u001b[0;34m,\u001b[0m \u001b[0;34m**\u001b[0m\u001b[0mkwds\u001b[0m\u001b[0;34m)\u001b[0m  \u001b[0;31m# pylint: disable=not-callable\u001b[0m\u001b[0;34m\u001b[0m\u001b[0;34m\u001b[0m\u001b[0m\n\u001b[0m\u001b[1;32m    856\u001b[0m     \u001b[0;32melif\u001b[0m \u001b[0mself\u001b[0m\u001b[0;34m.\u001b[0m\u001b[0m_stateful_fn\u001b[0m \u001b[0;32mis\u001b[0m \u001b[0;32mnot\u001b[0m \u001b[0;32mNone\u001b[0m\u001b[0;34m:\u001b[0m\u001b[0;34m\u001b[0m\u001b[0;34m\u001b[0m\u001b[0m\n\u001b[1;32m    857\u001b[0m       \u001b[0;31m# Release the lock early so that multiple threads can perform the call\u001b[0m\u001b[0;34m\u001b[0m\u001b[0;34m\u001b[0m\u001b[0;34m\u001b[0m\u001b[0m\n",
            "\u001b[0;32m/usr/local/lib/python3.7/dist-packages/tensorflow/python/eager/function.py\u001b[0m in \u001b[0;36m__call__\u001b[0;34m(self, *args, **kwargs)\u001b[0m\n\u001b[1;32m   2941\u001b[0m        filtered_flat_args) = self._maybe_define_function(args, kwargs)\n\u001b[1;32m   2942\u001b[0m     return graph_function._call_flat(\n\u001b[0;32m-> 2943\u001b[0;31m         filtered_flat_args, captured_inputs=graph_function.captured_inputs)  # pylint: disable=protected-access\n\u001b[0m\u001b[1;32m   2944\u001b[0m \u001b[0;34m\u001b[0m\u001b[0m\n\u001b[1;32m   2945\u001b[0m   \u001b[0;34m@\u001b[0m\u001b[0mproperty\u001b[0m\u001b[0;34m\u001b[0m\u001b[0;34m\u001b[0m\u001b[0m\n",
            "\u001b[0;32m/usr/local/lib/python3.7/dist-packages/tensorflow/python/eager/function.py\u001b[0m in \u001b[0;36m_call_flat\u001b[0;34m(self, args, captured_inputs, cancellation_manager)\u001b[0m\n\u001b[1;32m   1917\u001b[0m       \u001b[0;31m# No tape is watching; skip to running the function.\u001b[0m\u001b[0;34m\u001b[0m\u001b[0;34m\u001b[0m\u001b[0;34m\u001b[0m\u001b[0m\n\u001b[1;32m   1918\u001b[0m       return self._build_call_outputs(self._inference_function.call(\n\u001b[0;32m-> 1919\u001b[0;31m           ctx, args, cancellation_manager=cancellation_manager))\n\u001b[0m\u001b[1;32m   1920\u001b[0m     forward_backward = self._select_forward_and_backward_functions(\n\u001b[1;32m   1921\u001b[0m         \u001b[0margs\u001b[0m\u001b[0;34m,\u001b[0m\u001b[0;34m\u001b[0m\u001b[0;34m\u001b[0m\u001b[0m\n",
            "\u001b[0;32m/usr/local/lib/python3.7/dist-packages/tensorflow/python/eager/function.py\u001b[0m in \u001b[0;36mcall\u001b[0;34m(self, ctx, args, cancellation_manager)\u001b[0m\n\u001b[1;32m    558\u001b[0m               \u001b[0minputs\u001b[0m\u001b[0;34m=\u001b[0m\u001b[0margs\u001b[0m\u001b[0;34m,\u001b[0m\u001b[0;34m\u001b[0m\u001b[0;34m\u001b[0m\u001b[0m\n\u001b[1;32m    559\u001b[0m               \u001b[0mattrs\u001b[0m\u001b[0;34m=\u001b[0m\u001b[0mattrs\u001b[0m\u001b[0;34m,\u001b[0m\u001b[0;34m\u001b[0m\u001b[0;34m\u001b[0m\u001b[0m\n\u001b[0;32m--> 560\u001b[0;31m               ctx=ctx)\n\u001b[0m\u001b[1;32m    561\u001b[0m         \u001b[0;32melse\u001b[0m\u001b[0;34m:\u001b[0m\u001b[0;34m\u001b[0m\u001b[0;34m\u001b[0m\u001b[0m\n\u001b[1;32m    562\u001b[0m           outputs = execute.execute_with_cancellation(\n",
            "\u001b[0;32m/usr/local/lib/python3.7/dist-packages/tensorflow/python/eager/execute.py\u001b[0m in \u001b[0;36mquick_execute\u001b[0;34m(op_name, num_outputs, inputs, attrs, ctx, name)\u001b[0m\n\u001b[1;32m     58\u001b[0m     \u001b[0mctx\u001b[0m\u001b[0;34m.\u001b[0m\u001b[0mensure_initialized\u001b[0m\u001b[0;34m(\u001b[0m\u001b[0;34m)\u001b[0m\u001b[0;34m\u001b[0m\u001b[0;34m\u001b[0m\u001b[0m\n\u001b[1;32m     59\u001b[0m     tensors = pywrap_tfe.TFE_Py_Execute(ctx._handle, device_name, op_name,\n\u001b[0;32m---> 60\u001b[0;31m                                         inputs, attrs, num_outputs)\n\u001b[0m\u001b[1;32m     61\u001b[0m   \u001b[0;32mexcept\u001b[0m \u001b[0mcore\u001b[0m\u001b[0;34m.\u001b[0m\u001b[0m_NotOkStatusException\u001b[0m \u001b[0;32mas\u001b[0m \u001b[0me\u001b[0m\u001b[0;34m:\u001b[0m\u001b[0;34m\u001b[0m\u001b[0;34m\u001b[0m\u001b[0m\n\u001b[1;32m     62\u001b[0m     \u001b[0;32mif\u001b[0m \u001b[0mname\u001b[0m \u001b[0;32mis\u001b[0m \u001b[0;32mnot\u001b[0m \u001b[0;32mNone\u001b[0m\u001b[0;34m:\u001b[0m\u001b[0;34m\u001b[0m\u001b[0;34m\u001b[0m\u001b[0m\n",
            "\u001b[0;31mKeyboardInterrupt\u001b[0m: "
          ]
        }
      ]
    },
    {
      "cell_type": "code",
      "metadata": {
        "colab": {
          "base_uri": "https://localhost:8080/",
          "height": 277
        },
        "id": "Pc-Uvs2yOSRk",
        "outputId": "5fe9619a-1bd2-43a3-fef0-61d1284ce291"
      },
      "source": [
        "from matplotlib import pyplot as plt\n",
        "plt.plot(H.history['accuracy'])\n",
        "plt.plot(H.history['val_accuracy'])\n",
        "plt.plot(H.history['loss'])\n",
        "plt.plot(H.history['val_loss'])\n",
        "plt.xlabel('epoch')\n",
        "plt.legend(['accuracy', 'val_accuracy', 'loss', 'val_loss'], loc='upper left')\n",
        "plt.show()"
      ],
      "execution_count": 48,
      "outputs": [
        {
          "output_type": "display_data",
          "data": {
            "image/png": "[encoded data removed]",
            "text/plain": [
              "<Figure size 432x288 with 1 Axes>"
            ]
          },
          "metadata": {
            "tags": [],
            "needs_background": "light"
          }
        }
      ]
    },
    {
      "cell_type": "code",
      "metadata": {
        "colab": {
          "base_uri": "https://localhost:8080/",
          "height": 435
        },
        "id": "AtM9mTwoOSRk",
        "outputId": "35f72673-1868-48cc-f498-bcc7c7eac277"
      },
      "source": [
        "plot_confusion_matrix(comparison_model, X_valid_new_normal, y_valid)\n",
        "print_classification_report(comparison_model, X_valid_new_normal, y_valid)"
      ],
      "execution_count": 49,
      "outputs": [
        {
          "output_type": "stream",
          "text": [
            "               precision    recall  f1-score   support\n",
            "\n",
            "Fighter 0 Win       0.80      0.83      0.82       594\n",
            "Fighter 1 Win       0.82      0.80      0.81       594\n",
            "\n",
            "     accuracy                           0.81      1188\n",
            "    macro avg       0.81      0.81      0.81      1188\n",
            " weighted avg       0.81      0.81      0.81      1188\n",
            "\n"
          ],
          "name": "stdout"
        },
        {
          "output_type": "display_data",
          "data": {
            "image/png": "[encoded data removed]",
            "text/plain": [
              "<Figure size 432x288 with 2 Axes>"
            ]
          },
          "metadata": {
            "tags": [],
            "needs_background": "light"
          }
        }
      ]
    },
    {
      "cell_type": "code",
      "metadata": {
        "id": "tmXQhcXzOSRl"
      },
      "source": [
        "lo, hi = 11, 20"
      ],
      "execution_count": 50,
      "outputs": []
    },
    {
      "cell_type": "code",
      "metadata": {
        "colab": {
          "base_uri": "https://localhost:8080/",
          "height": 367
        },
        "id": "m_W-6PQpOSRl",
        "outputId": "7118908f-5d0c-415d-aefe-7db3c6f78783"
      },
      "source": [
        "X_test_new[lo:hi]"
      ],
      "execution_count": 51,
      "outputs": [
        {
          "output_type": "execute_result",
          "data": {
            "text/html": [
              "<div>\n",
              "<style scoped>\n",
              "    .dataframe tbody tr th:only-of-type {\n",
              "        vertical-align: middle;\n",
              "    }\n",
              "\n",
              "    .dataframe tbody tr th {\n",
              "        vertical-align: top;\n",
              "    }\n",
              "\n",
              "    .dataframe thead th {\n",
              "        text-align: right;\n",
              "    }\n",
              "</style>\n",
              "<table border=\"1\" class=\"dataframe\">\n",
              "  <thead>\n",
              "    <tr style=\"text-align: right;\">\n",
              "      <th></th>\n",
              "      <th>Fighter 0 KD</th>\n",
              "      <th>Fighter 0 Sig. str.</th>\n",
              "      <th>Fighter 0 Sig. str. %</th>\n",
              "      <th>Fighter 0 Total str.</th>\n",
              "      <th>Fighter 0 Td</th>\n",
              "      <th>Fighter 0 Td %</th>\n",
              "      <th>Fighter 0 Sub. att</th>\n",
              "      <th>Fighter 0 Rev.</th>\n",
              "      <th>Fighter 0 Ctrl</th>\n",
              "      <th>Fighter 0 Head</th>\n",
              "      <th>Fighter 0 Body</th>\n",
              "      <th>Fighter 0 Leg</th>\n",
              "      <th>Fighter 0 Distance</th>\n",
              "      <th>Fighter 0 Clinch</th>\n",
              "      <th>Fighter 0 Ground</th>\n",
              "      <th>Fighter 1 KD</th>\n",
              "      <th>Fighter 1 Sig. str.</th>\n",
              "      <th>Fighter 1 Sig. str. %</th>\n",
              "      <th>Fighter 1 Total str.</th>\n",
              "      <th>Fighter 1 Td</th>\n",
              "      <th>Fighter 1 Td %</th>\n",
              "      <th>Fighter 1 Sub. att</th>\n",
              "      <th>Fighter 1 Rev.</th>\n",
              "      <th>Fighter 1 Ctrl</th>\n",
              "      <th>Fighter 1 Head</th>\n",
              "      <th>Fighter 1 Body</th>\n",
              "      <th>Fighter 1 Leg</th>\n",
              "      <th>Fighter 1 Distance</th>\n",
              "      <th>Fighter 1 Clinch</th>\n",
              "      <th>Fighter 1 Ground</th>\n",
              "    </tr>\n",
              "  </thead>\n",
              "  <tbody>\n",
              "    <tr>\n",
              "      <th>1705</th>\n",
              "      <td>0</td>\n",
              "      <td>63</td>\n",
              "      <td>45.0</td>\n",
              "      <td>84</td>\n",
              "      <td>1</td>\n",
              "      <td>100.0</td>\n",
              "      <td>0</td>\n",
              "      <td>0</td>\n",
              "      <td>280.0</td>\n",
              "      <td>40</td>\n",
              "      <td>18</td>\n",
              "      <td>5</td>\n",
              "      <td>41</td>\n",
              "      <td>9</td>\n",
              "      <td>13</td>\n",
              "      <td>0</td>\n",
              "      <td>34</td>\n",
              "      <td>42.0</td>\n",
              "      <td>61</td>\n",
              "      <td>1</td>\n",
              "      <td>20.0</td>\n",
              "      <td>0</td>\n",
              "      <td>0</td>\n",
              "      <td>146.0</td>\n",
              "      <td>18</td>\n",
              "      <td>8</td>\n",
              "      <td>8</td>\n",
              "      <td>26</td>\n",
              "      <td>3</td>\n",
              "      <td>5</td>\n",
              "    </tr>\n",
              "    <tr>\n",
              "      <th>1058</th>\n",
              "      <td>0</td>\n",
              "      <td>77</td>\n",
              "      <td>44.0</td>\n",
              "      <td>125</td>\n",
              "      <td>0</td>\n",
              "      <td>0.0</td>\n",
              "      <td>0</td>\n",
              "      <td>0</td>\n",
              "      <td>0.0</td>\n",
              "      <td>29</td>\n",
              "      <td>28</td>\n",
              "      <td>20</td>\n",
              "      <td>65</td>\n",
              "      <td>8</td>\n",
              "      <td>4</td>\n",
              "      <td>1</td>\n",
              "      <td>67</td>\n",
              "      <td>43.0</td>\n",
              "      <td>91</td>\n",
              "      <td>0</td>\n",
              "      <td>0.0</td>\n",
              "      <td>0</td>\n",
              "      <td>0</td>\n",
              "      <td>278.0</td>\n",
              "      <td>21</td>\n",
              "      <td>31</td>\n",
              "      <td>15</td>\n",
              "      <td>54</td>\n",
              "      <td>8</td>\n",
              "      <td>5</td>\n",
              "    </tr>\n",
              "    <tr>\n",
              "      <th>619</th>\n",
              "      <td>0</td>\n",
              "      <td>134</td>\n",
              "      <td>44.0</td>\n",
              "      <td>135</td>\n",
              "      <td>0</td>\n",
              "      <td>0.0</td>\n",
              "      <td>0</td>\n",
              "      <td>0</td>\n",
              "      <td>2.0</td>\n",
              "      <td>85</td>\n",
              "      <td>32</td>\n",
              "      <td>17</td>\n",
              "      <td>132</td>\n",
              "      <td>2</td>\n",
              "      <td>0</td>\n",
              "      <td>0</td>\n",
              "      <td>157</td>\n",
              "      <td>51.0</td>\n",
              "      <td>157</td>\n",
              "      <td>0</td>\n",
              "      <td>0.0</td>\n",
              "      <td>0</td>\n",
              "      <td>0</td>\n",
              "      <td>45.0</td>\n",
              "      <td>67</td>\n",
              "      <td>15</td>\n",
              "      <td>75</td>\n",
              "      <td>156</td>\n",
              "      <td>1</td>\n",
              "      <td>0</td>\n",
              "    </tr>\n",
              "    <tr>\n",
              "      <th>3465</th>\n",
              "      <td>0</td>\n",
              "      <td>16</td>\n",
              "      <td>34.0</td>\n",
              "      <td>51</td>\n",
              "      <td>2</td>\n",
              "      <td>50.0</td>\n",
              "      <td>3</td>\n",
              "      <td>0</td>\n",
              "      <td>521.0</td>\n",
              "      <td>10</td>\n",
              "      <td>4</td>\n",
              "      <td>2</td>\n",
              "      <td>7</td>\n",
              "      <td>3</td>\n",
              "      <td>6</td>\n",
              "      <td>0</td>\n",
              "      <td>19</td>\n",
              "      <td>26.0</td>\n",
              "      <td>44</td>\n",
              "      <td>0</td>\n",
              "      <td>0.0</td>\n",
              "      <td>0</td>\n",
              "      <td>1</td>\n",
              "      <td>14.0</td>\n",
              "      <td>14</td>\n",
              "      <td>2</td>\n",
              "      <td>3</td>\n",
              "      <td>19</td>\n",
              "      <td>0</td>\n",
              "      <td>0</td>\n",
              "    </tr>\n",
              "    <tr>\n",
              "      <th>5609</th>\n",
              "      <td>0</td>\n",
              "      <td>88</td>\n",
              "      <td>47.0</td>\n",
              "      <td>96</td>\n",
              "      <td>2</td>\n",
              "      <td>22.0</td>\n",
              "      <td>1</td>\n",
              "      <td>0</td>\n",
              "      <td>154.0</td>\n",
              "      <td>62</td>\n",
              "      <td>16</td>\n",
              "      <td>10</td>\n",
              "      <td>51</td>\n",
              "      <td>33</td>\n",
              "      <td>4</td>\n",
              "      <td>0</td>\n",
              "      <td>57</td>\n",
              "      <td>38.0</td>\n",
              "      <td>64</td>\n",
              "      <td>0</td>\n",
              "      <td>0.0</td>\n",
              "      <td>0</td>\n",
              "      <td>0</td>\n",
              "      <td>19.0</td>\n",
              "      <td>55</td>\n",
              "      <td>1</td>\n",
              "      <td>1</td>\n",
              "      <td>43</td>\n",
              "      <td>14</td>\n",
              "      <td>0</td>\n",
              "    </tr>\n",
              "    <tr>\n",
              "      <th>2047</th>\n",
              "      <td>0</td>\n",
              "      <td>20</td>\n",
              "      <td>50.0</td>\n",
              "      <td>83</td>\n",
              "      <td>2</td>\n",
              "      <td>33.0</td>\n",
              "      <td>0</td>\n",
              "      <td>0</td>\n",
              "      <td>744.0</td>\n",
              "      <td>12</td>\n",
              "      <td>7</td>\n",
              "      <td>1</td>\n",
              "      <td>4</td>\n",
              "      <td>6</td>\n",
              "      <td>10</td>\n",
              "      <td>0</td>\n",
              "      <td>11</td>\n",
              "      <td>36.0</td>\n",
              "      <td>28</td>\n",
              "      <td>0</td>\n",
              "      <td>0.0</td>\n",
              "      <td>0</td>\n",
              "      <td>1</td>\n",
              "      <td>40.0</td>\n",
              "      <td>5</td>\n",
              "      <td>4</td>\n",
              "      <td>2</td>\n",
              "      <td>6</td>\n",
              "      <td>5</td>\n",
              "      <td>0</td>\n",
              "    </tr>\n",
              "    <tr>\n",
              "      <th>2097</th>\n",
              "      <td>0</td>\n",
              "      <td>61</td>\n",
              "      <td>36.0</td>\n",
              "      <td>68</td>\n",
              "      <td>2</td>\n",
              "      <td>40.0</td>\n",
              "      <td>0</td>\n",
              "      <td>0</td>\n",
              "      <td>52.0</td>\n",
              "      <td>39</td>\n",
              "      <td>6</td>\n",
              "      <td>16</td>\n",
              "      <td>57</td>\n",
              "      <td>3</td>\n",
              "      <td>1</td>\n",
              "      <td>0</td>\n",
              "      <td>82</td>\n",
              "      <td>38.0</td>\n",
              "      <td>99</td>\n",
              "      <td>0</td>\n",
              "      <td>0.0</td>\n",
              "      <td>0</td>\n",
              "      <td>1</td>\n",
              "      <td>178.0</td>\n",
              "      <td>55</td>\n",
              "      <td>15</td>\n",
              "      <td>12</td>\n",
              "      <td>75</td>\n",
              "      <td>5</td>\n",
              "      <td>2</td>\n",
              "    </tr>\n",
              "    <tr>\n",
              "      <th>251</th>\n",
              "      <td>0</td>\n",
              "      <td>20</td>\n",
              "      <td>27.0</td>\n",
              "      <td>29</td>\n",
              "      <td>5</td>\n",
              "      <td>45.0</td>\n",
              "      <td>0</td>\n",
              "      <td>0</td>\n",
              "      <td>416.0</td>\n",
              "      <td>7</td>\n",
              "      <td>2</td>\n",
              "      <td>11</td>\n",
              "      <td>18</td>\n",
              "      <td>2</td>\n",
              "      <td>0</td>\n",
              "      <td>0</td>\n",
              "      <td>47</td>\n",
              "      <td>52.0</td>\n",
              "      <td>54</td>\n",
              "      <td>1</td>\n",
              "      <td>20.0</td>\n",
              "      <td>0</td>\n",
              "      <td>2</td>\n",
              "      <td>72.0</td>\n",
              "      <td>34</td>\n",
              "      <td>4</td>\n",
              "      <td>9</td>\n",
              "      <td>35</td>\n",
              "      <td>6</td>\n",
              "      <td>6</td>\n",
              "    </tr>\n",
              "    <tr>\n",
              "      <th>965</th>\n",
              "      <td>0</td>\n",
              "      <td>53</td>\n",
              "      <td>62.0</td>\n",
              "      <td>95</td>\n",
              "      <td>2</td>\n",
              "      <td>50.0</td>\n",
              "      <td>0</td>\n",
              "      <td>0</td>\n",
              "      <td>551.0</td>\n",
              "      <td>41</td>\n",
              "      <td>7</td>\n",
              "      <td>5</td>\n",
              "      <td>31</td>\n",
              "      <td>3</td>\n",
              "      <td>19</td>\n",
              "      <td>0</td>\n",
              "      <td>30</td>\n",
              "      <td>42.0</td>\n",
              "      <td>86</td>\n",
              "      <td>1</td>\n",
              "      <td>100.0</td>\n",
              "      <td>0</td>\n",
              "      <td>0</td>\n",
              "      <td>101.0</td>\n",
              "      <td>16</td>\n",
              "      <td>5</td>\n",
              "      <td>9</td>\n",
              "      <td>24</td>\n",
              "      <td>4</td>\n",
              "      <td>2</td>\n",
              "    </tr>\n",
              "  </tbody>\n",
              "</table>\n",
              "</div>"
            ],
            "text/plain": [
              "      Fighter 0 KD  Fighter 0 Sig. str.  ...  Fighter 1 Clinch  Fighter 1 Ground\n",
              "1705             0                   63  ...                 3                 5\n",
              "1058             0                   77  ...                 8                 5\n",
              "619              0                  134  ...                 1                 0\n",
              "3465             0                   16  ...                 0                 0\n",
              "5609             0                   88  ...                14                 0\n",
              "2047             0                   20  ...                 5                 0\n",
              "2097             0                   61  ...                 5                 2\n",
              "251              0                   20  ...                 6                 6\n",
              "965              0                   53  ...                 4                 2\n",
              "\n",
              "[9 rows x 30 columns]"
            ]
          },
          "metadata": {
            "tags": []
          },
          "execution_count": 51
        }
      ]
    },
    {
      "cell_type": "code",
      "metadata": {
        "colab": {
          "base_uri": "https://localhost:8080/",
          "height": 367
        },
        "id": "TjyT8mTpThMP",
        "outputId": "946696e4-0c16-4b8e-8102-ec1a51af1c68"
      },
      "source": [
        "X_test_new_normal[lo:hi]"
      ],
      "execution_count": 52,
      "outputs": [
        {
          "output_type": "execute_result",
          "data": {
            "text/html": [
              "<div>\n",
              "<style scoped>\n",
              "    .dataframe tbody tr th:only-of-type {\n",
              "        vertical-align: middle;\n",
              "    }\n",
              "\n",
              "    .dataframe tbody tr th {\n",
              "        vertical-align: top;\n",
              "    }\n",
              "\n",
              "    .dataframe thead th {\n",
              "        text-align: right;\n",
              "    }\n",
              "</style>\n",
              "<table border=\"1\" class=\"dataframe\">\n",
              "  <thead>\n",
              "    <tr style=\"text-align: right;\">\n",
              "      <th></th>\n",
              "      <th>Fighter 0 KD</th>\n",
              "      <th>Fighter 0 Sig. str.</th>\n",
              "      <th>Fighter 0 Sig. str. %</th>\n",
              "      <th>Fighter 0 Total str.</th>\n",
              "      <th>Fighter 0 Td</th>\n",
              "      <th>Fighter 0 Td %</th>\n",
              "      <th>Fighter 0 Sub. att</th>\n",
              "      <th>Fighter 0 Rev.</th>\n",
              "      <th>Fighter 0 Ctrl</th>\n",
              "      <th>Fighter 0 Head</th>\n",
              "      <th>Fighter 0 Body</th>\n",
              "      <th>Fighter 0 Leg</th>\n",
              "      <th>Fighter 0 Distance</th>\n",
              "      <th>Fighter 0 Clinch</th>\n",
              "      <th>Fighter 0 Ground</th>\n",
              "      <th>Fighter 1 KD</th>\n",
              "      <th>Fighter 1 Sig. str.</th>\n",
              "      <th>Fighter 1 Sig. str. %</th>\n",
              "      <th>Fighter 1 Total str.</th>\n",
              "      <th>Fighter 1 Td</th>\n",
              "      <th>Fighter 1 Td %</th>\n",
              "      <th>Fighter 1 Sub. att</th>\n",
              "      <th>Fighter 1 Rev.</th>\n",
              "      <th>Fighter 1 Ctrl</th>\n",
              "      <th>Fighter 1 Head</th>\n",
              "      <th>Fighter 1 Body</th>\n",
              "      <th>Fighter 1 Leg</th>\n",
              "      <th>Fighter 1 Distance</th>\n",
              "      <th>Fighter 1 Clinch</th>\n",
              "      <th>Fighter 1 Ground</th>\n",
              "    </tr>\n",
              "  </thead>\n",
              "  <tbody>\n",
              "    <tr>\n",
              "      <th>1705</th>\n",
              "      <td>-0.305299</td>\n",
              "      <td>0.451171</td>\n",
              "      <td>0.206558</td>\n",
              "      <td>0.184297</td>\n",
              "      <td>-0.278075</td>\n",
              "      <td>2.083169</td>\n",
              "      <td>-0.430413</td>\n",
              "      <td>-0.384637</td>\n",
              "      <td>0.404103</td>\n",
              "      <td>0.428024</td>\n",
              "      <td>0.877866</td>\n",
              "      <td>-0.370081</td>\n",
              "      <td>0.158757</td>\n",
              "      <td>0.195140</td>\n",
              "      <td>0.802114</td>\n",
              "      <td>-0.305299</td>\n",
              "      <td>-0.501482</td>\n",
              "      <td>-0.032764</td>\n",
              "      <td>-0.392538</td>\n",
              "      <td>-0.278075</td>\n",
              "      <td>-0.303287</td>\n",
              "      <td>-0.430413</td>\n",
              "      <td>-0.384637</td>\n",
              "      <td>-0.247173</td>\n",
              "      <td>-0.575117</td>\n",
              "      <td>-0.252079</td>\n",
              "      <td>-0.045631</td>\n",
              "      <td>-0.353874</td>\n",
              "      <td>-0.500146</td>\n",
              "      <td>-0.064462</td>\n",
              "    </tr>\n",
              "    <tr>\n",
              "      <th>1058</th>\n",
              "      <td>-0.305299</td>\n",
              "      <td>0.911072</td>\n",
              "      <td>0.126784</td>\n",
              "      <td>1.212567</td>\n",
              "      <td>-0.768267</td>\n",
              "      <td>-0.899901</td>\n",
              "      <td>-0.430413</td>\n",
              "      <td>-0.384637</td>\n",
              "      <td>-0.956773</td>\n",
              "      <td>-0.073547</td>\n",
              "      <td>2.007812</td>\n",
              "      <td>1.252169</td>\n",
              "      <td>0.978966</td>\n",
              "      <td>0.079259</td>\n",
              "      <td>-0.172784</td>\n",
              "      <td>2.329682</td>\n",
              "      <td>0.582571</td>\n",
              "      <td>0.047010</td>\n",
              "      <td>0.359855</td>\n",
              "      <td>-0.768267</td>\n",
              "      <td>-0.899901</td>\n",
              "      <td>-0.430413</td>\n",
              "      <td>-0.384637</td>\n",
              "      <td>0.394382</td>\n",
              "      <td>-0.438325</td>\n",
              "      <td>2.346795</td>\n",
              "      <td>0.711419</td>\n",
              "      <td>0.603037</td>\n",
              "      <td>0.079259</td>\n",
              "      <td>-0.064462</td>\n",
              "    </tr>\n",
              "    <tr>\n",
              "      <th>619</th>\n",
              "      <td>-0.305299</td>\n",
              "      <td>2.783528</td>\n",
              "      <td>0.126784</td>\n",
              "      <td>1.463365</td>\n",
              "      <td>-0.768267</td>\n",
              "      <td>-0.899901</td>\n",
              "      <td>-0.430413</td>\n",
              "      <td>-0.384637</td>\n",
              "      <td>-0.947052</td>\n",
              "      <td>2.479904</td>\n",
              "      <td>2.459790</td>\n",
              "      <td>0.927719</td>\n",
              "      <td>3.268719</td>\n",
              "      <td>-0.616028</td>\n",
              "      <td>-0.606073</td>\n",
              "      <td>-0.305299</td>\n",
              "      <td>3.539080</td>\n",
              "      <td>0.685204</td>\n",
              "      <td>2.015120</td>\n",
              "      <td>-0.768267</td>\n",
              "      <td>-0.899901</td>\n",
              "      <td>-0.430413</td>\n",
              "      <td>-0.384637</td>\n",
              "      <td>-0.738060</td>\n",
              "      <td>1.659152</td>\n",
              "      <td>0.538883</td>\n",
              "      <td>7.200420</td>\n",
              "      <td>4.088928</td>\n",
              "      <td>-0.731909</td>\n",
              "      <td>-0.606073</td>\n",
              "    </tr>\n",
              "    <tr>\n",
              "      <th>3465</th>\n",
              "      <td>-0.305299</td>\n",
              "      <td>-1.092784</td>\n",
              "      <td>-0.670959</td>\n",
              "      <td>-0.643336</td>\n",
              "      <td>0.212118</td>\n",
              "      <td>0.591634</td>\n",
              "      <td>2.801714</td>\n",
              "      <td>-0.384637</td>\n",
              "      <td>1.575427</td>\n",
              "      <td>-0.939896</td>\n",
              "      <td>-0.704057</td>\n",
              "      <td>-0.694532</td>\n",
              "      <td>-1.003207</td>\n",
              "      <td>-0.500146</td>\n",
              "      <td>0.043860</td>\n",
              "      <td>-0.305299</td>\n",
              "      <td>-0.994234</td>\n",
              "      <td>-1.309153</td>\n",
              "      <td>-0.818894</td>\n",
              "      <td>-0.768267</td>\n",
              "      <td>-0.899901</td>\n",
              "      <td>-0.430413</td>\n",
              "      <td>1.659969</td>\n",
              "      <td>-0.888729</td>\n",
              "      <td>-0.757506</td>\n",
              "      <td>-0.930046</td>\n",
              "      <td>-0.586382</td>\n",
              "      <td>-0.593102</td>\n",
              "      <td>-0.847790</td>\n",
              "      <td>-0.606073</td>\n",
              "    </tr>\n",
              "    <tr>\n",
              "      <th>5609</th>\n",
              "      <td>-0.305299</td>\n",
              "      <td>1.272423</td>\n",
              "      <td>0.366107</td>\n",
              "      <td>0.485254</td>\n",
              "      <td>0.212118</td>\n",
              "      <td>-0.243626</td>\n",
              "      <td>0.646962</td>\n",
              "      <td>-0.384637</td>\n",
              "      <td>-0.208291</td>\n",
              "      <td>1.431165</td>\n",
              "      <td>0.651877</td>\n",
              "      <td>0.170669</td>\n",
              "      <td>0.500511</td>\n",
              "      <td>2.976287</td>\n",
              "      <td>-0.172784</td>\n",
              "      <td>-0.305299</td>\n",
              "      <td>0.254070</td>\n",
              "      <td>-0.351862</td>\n",
              "      <td>-0.317299</td>\n",
              "      <td>-0.768267</td>\n",
              "      <td>-0.899901</td>\n",
              "      <td>-0.430413</td>\n",
              "      <td>-0.384637</td>\n",
              "      <td>-0.864427</td>\n",
              "      <td>1.111984</td>\n",
              "      <td>-1.043041</td>\n",
              "      <td>-0.802682</td>\n",
              "      <td>0.227107</td>\n",
              "      <td>0.774546</td>\n",
              "      <td>-0.606073</td>\n",
              "    </tr>\n",
              "    <tr>\n",
              "      <th>2047</th>\n",
              "      <td>-0.305299</td>\n",
              "      <td>-0.961384</td>\n",
              "      <td>0.605430</td>\n",
              "      <td>0.159217</td>\n",
              "      <td>0.212118</td>\n",
              "      <td>0.084512</td>\n",
              "      <td>-0.430413</td>\n",
              "      <td>-0.384637</td>\n",
              "      <td>2.659267</td>\n",
              "      <td>-0.848701</td>\n",
              "      <td>-0.365074</td>\n",
              "      <td>-0.802682</td>\n",
              "      <td>-1.105733</td>\n",
              "      <td>-0.152503</td>\n",
              "      <td>0.477148</td>\n",
              "      <td>-0.305299</td>\n",
              "      <td>-1.257035</td>\n",
              "      <td>-0.511410</td>\n",
              "      <td>-1.220170</td>\n",
              "      <td>-0.768267</td>\n",
              "      <td>-0.899901</td>\n",
              "      <td>-0.430413</td>\n",
              "      <td>1.659969</td>\n",
              "      <td>-0.762362</td>\n",
              "      <td>-1.167882</td>\n",
              "      <td>-0.704057</td>\n",
              "      <td>-0.694532</td>\n",
              "      <td>-1.037383</td>\n",
              "      <td>-0.268384</td>\n",
              "      <td>-0.606073</td>\n",
              "    </tr>\n",
              "    <tr>\n",
              "      <th>2097</th>\n",
              "      <td>-0.305299</td>\n",
              "      <td>0.385470</td>\n",
              "      <td>-0.511410</td>\n",
              "      <td>-0.216980</td>\n",
              "      <td>0.212118</td>\n",
              "      <td>0.293327</td>\n",
              "      <td>-0.430413</td>\n",
              "      <td>-0.384637</td>\n",
              "      <td>-0.704039</td>\n",
              "      <td>0.382427</td>\n",
              "      <td>-0.478068</td>\n",
              "      <td>0.819569</td>\n",
              "      <td>0.705563</td>\n",
              "      <td>-0.500146</td>\n",
              "      <td>-0.497751</td>\n",
              "      <td>-0.305299</td>\n",
              "      <td>1.075323</td>\n",
              "      <td>-0.351862</td>\n",
              "      <td>0.560493</td>\n",
              "      <td>-0.768267</td>\n",
              "      <td>-0.899901</td>\n",
              "      <td>-0.430413</td>\n",
              "      <td>1.659969</td>\n",
              "      <td>-0.091645</td>\n",
              "      <td>1.111984</td>\n",
              "      <td>0.538883</td>\n",
              "      <td>0.386969</td>\n",
              "      <td>1.320720</td>\n",
              "      <td>-0.268384</td>\n",
              "      <td>-0.389429</td>\n",
              "    </tr>\n",
              "    <tr>\n",
              "      <th>251</th>\n",
              "      <td>-0.305299</td>\n",
              "      <td>-0.961384</td>\n",
              "      <td>-1.229379</td>\n",
              "      <td>-1.195091</td>\n",
              "      <td>1.682697</td>\n",
              "      <td>0.442481</td>\n",
              "      <td>-0.430413</td>\n",
              "      <td>-0.384637</td>\n",
              "      <td>1.065099</td>\n",
              "      <td>-1.076688</td>\n",
              "      <td>-0.930046</td>\n",
              "      <td>0.278819</td>\n",
              "      <td>-0.627278</td>\n",
              "      <td>-0.616028</td>\n",
              "      <td>-0.606073</td>\n",
              "      <td>-0.305299</td>\n",
              "      <td>-0.074431</td>\n",
              "      <td>0.764979</td>\n",
              "      <td>-0.568096</td>\n",
              "      <td>-0.278075</td>\n",
              "      <td>-0.303287</td>\n",
              "      <td>-0.430413</td>\n",
              "      <td>3.704575</td>\n",
              "      <td>-0.606833</td>\n",
              "      <td>0.154440</td>\n",
              "      <td>-0.704057</td>\n",
              "      <td>0.062519</td>\n",
              "      <td>-0.046296</td>\n",
              "      <td>-0.152503</td>\n",
              "      <td>0.043860</td>\n",
              "    </tr>\n",
              "    <tr>\n",
              "      <th>965</th>\n",
              "      <td>-0.305299</td>\n",
              "      <td>0.122669</td>\n",
              "      <td>1.562722</td>\n",
              "      <td>0.460174</td>\n",
              "      <td>0.212118</td>\n",
              "      <td>0.591634</td>\n",
              "      <td>-0.430413</td>\n",
              "      <td>-0.384637</td>\n",
              "      <td>1.721235</td>\n",
              "      <td>0.473621</td>\n",
              "      <td>-0.365074</td>\n",
              "      <td>-0.370081</td>\n",
              "      <td>-0.182997</td>\n",
              "      <td>-0.500146</td>\n",
              "      <td>1.452046</td>\n",
              "      <td>-0.305299</td>\n",
              "      <td>-0.632883</td>\n",
              "      <td>-0.032764</td>\n",
              "      <td>0.234456</td>\n",
              "      <td>-0.278075</td>\n",
              "      <td>2.083169</td>\n",
              "      <td>-0.430413</td>\n",
              "      <td>-0.384637</td>\n",
              "      <td>-0.465885</td>\n",
              "      <td>-0.666312</td>\n",
              "      <td>-0.591063</td>\n",
              "      <td>0.062519</td>\n",
              "      <td>-0.422225</td>\n",
              "      <td>-0.384265</td>\n",
              "      <td>-0.389429</td>\n",
              "    </tr>\n",
              "  </tbody>\n",
              "</table>\n",
              "</div>"
            ],
            "text/plain": [
              "      Fighter 0 KD  Fighter 0 Sig. str.  ...  Fighter 1 Clinch  Fighter 1 Ground\n",
              "1705     -0.305299             0.451171  ...         -0.500146         -0.064462\n",
              "1058     -0.305299             0.911072  ...          0.079259         -0.064462\n",
              "619      -0.305299             2.783528  ...         -0.731909         -0.606073\n",
              "3465     -0.305299            -1.092784  ...         -0.847790         -0.606073\n",
              "5609     -0.305299             1.272423  ...          0.774546         -0.606073\n",
              "2047     -0.305299            -0.961384  ...         -0.268384         -0.606073\n",
              "2097     -0.305299             0.385470  ...         -0.268384         -0.389429\n",
              "251      -0.305299            -0.961384  ...         -0.152503          0.043860\n",
              "965      -0.305299             0.122669  ...         -0.384265         -0.389429\n",
              "\n",
              "[9 rows x 30 columns]"
            ]
          },
          "metadata": {
            "tags": []
          },
          "execution_count": 52
        }
      ]
    },
    {
      "cell_type": "code",
      "metadata": {
        "colab": {
          "base_uri": "https://localhost:8080/"
        },
        "id": "D24siDVIOSRl",
        "outputId": "552d0481-531b-48a1-e09b-28062fcef493"
      },
      "source": [
        "comparison_model.predict(X_test_new_normal[lo:hi])"
      ],
      "execution_count": 53,
      "outputs": [
        {
          "output_type": "execute_result",
          "data": {
            "text/plain": [
              "array([[1.6789138e-03],\n",
              "       [9.8863983e-01],\n",
              "       [9.5752114e-01],\n",
              "       [6.5197438e-02],\n",
              "       [2.5165081e-03],\n",
              "       [1.8355846e-03],\n",
              "       [9.5972747e-01],\n",
              "       [9.2083681e-01],\n",
              "       [1.0770145e-04]], dtype=float32)"
            ]
          },
          "metadata": {
            "tags": []
          },
          "execution_count": 53
        }
      ]
    },
    {
      "cell_type": "code",
      "metadata": {
        "colab": {
          "base_uri": "https://localhost:8080/",
          "height": 314
        },
        "id": "MK6NhCojOSRl",
        "outputId": "bad79192-3c5b-4f1b-c1e6-6f1273ca2795"
      },
      "source": [
        "y_test[lo:hi]"
      ],
      "execution_count": 54,
      "outputs": [
        {
          "output_type": "execute_result",
          "data": {
            "text/html": [
              "<div>\n",
              "<style scoped>\n",
              "    .dataframe tbody tr th:only-of-type {\n",
              "        vertical-align: middle;\n",
              "    }\n",
              "\n",
              "    .dataframe tbody tr th {\n",
              "        vertical-align: top;\n",
              "    }\n",
              "\n",
              "    .dataframe thead th {\n",
              "        text-align: right;\n",
              "    }\n",
              "</style>\n",
              "<table border=\"1\" class=\"dataframe\">\n",
              "  <thead>\n",
              "    <tr style=\"text-align: right;\">\n",
              "      <th></th>\n",
              "      <th>Winner</th>\n",
              "    </tr>\n",
              "  </thead>\n",
              "  <tbody>\n",
              "    <tr>\n",
              "      <th>1705</th>\n",
              "      <td>0</td>\n",
              "    </tr>\n",
              "    <tr>\n",
              "      <th>1058</th>\n",
              "      <td>1</td>\n",
              "    </tr>\n",
              "    <tr>\n",
              "      <th>619</th>\n",
              "      <td>1</td>\n",
              "    </tr>\n",
              "    <tr>\n",
              "      <th>3465</th>\n",
              "      <td>0</td>\n",
              "    </tr>\n",
              "    <tr>\n",
              "      <th>5609</th>\n",
              "      <td>0</td>\n",
              "    </tr>\n",
              "    <tr>\n",
              "      <th>2047</th>\n",
              "      <td>0</td>\n",
              "    </tr>\n",
              "    <tr>\n",
              "      <th>2097</th>\n",
              "      <td>1</td>\n",
              "    </tr>\n",
              "    <tr>\n",
              "      <th>251</th>\n",
              "      <td>1</td>\n",
              "    </tr>\n",
              "    <tr>\n",
              "      <th>965</th>\n",
              "      <td>0</td>\n",
              "    </tr>\n",
              "  </tbody>\n",
              "</table>\n",
              "</div>"
            ],
            "text/plain": [
              "      Winner\n",
              "1705       0\n",
              "1058       1\n",
              "619        1\n",
              "3465       0\n",
              "5609       0\n",
              "2047       0\n",
              "2097       1\n",
              "251        1\n",
              "965        0"
            ]
          },
          "metadata": {
            "tags": []
          },
          "execution_count": 54
        }
      ]
    },
    {
      "cell_type": "code",
      "metadata": {
        "colab": {
          "base_uri": "https://localhost:8080/"
        },
        "id": "icRxd_bKOSRm",
        "outputId": "b13267f3-4c97-40bd-9410-16fdcbf9e9fb"
      },
      "source": [
        "subtracter = comparison_model.get_layer('subtracter').output\n",
        "subtracter = Model(comparison_model.input, subtracter)\n",
        "subtracter.predict(X_test_new_normal[lo:hi])"
      ],
      "execution_count": 55,
      "outputs": [
        {
          "output_type": "execute_result",
          "data": {
            "text/plain": [
              "array([[-6.3879266],\n",
              "       [ 4.4662194],\n",
              "       [ 3.1153412],\n",
              "       [-2.662915 ],\n",
              "       [-5.9823666],\n",
              "       [-6.298544 ],\n",
              "       [ 3.1709793],\n",
              "       [ 2.4537714],\n",
              "       [-9.1361475]], dtype=float32)"
            ]
          },
          "metadata": {
            "tags": []
          },
          "execution_count": 55
        }
      ]
    },
    {
      "cell_type": "code",
      "metadata": {
        "colab": {
          "base_uri": "https://localhost:8080/"
        },
        "id": "pp_GHFfGOSRm",
        "outputId": "225f32d6-b705-41ba-cfaa-7625d2a513ca"
      },
      "source": [
        "fighter0_score = comparison_model.get_layer('fighter0_score').output\n",
        "fighter0_score = Model(comparison_model.input, fighter0_score)\n",
        "fighter0_score.predict(X_test_new_normal[lo:hi])"
      ],
      "execution_count": 56,
      "outputs": [
        {
          "output_type": "execute_result",
          "data": {
            "text/plain": [
              "array([[ 7.496221  ],\n",
              "       [ 3.3026195 ],\n",
              "       [ 8.64645   ],\n",
              "       [ 2.662915  ],\n",
              "       [ 8.077615  ],\n",
              "       [ 6.298544  ],\n",
              "       [ 2.829841  ],\n",
              "       [ 0.82426286],\n",
              "       [11.2429085 ]], dtype=float32)"
            ]
          },
          "metadata": {
            "tags": []
          },
          "execution_count": 56
        }
      ]
    },
    {
      "cell_type": "code",
      "metadata": {
        "colab": {
          "base_uri": "https://localhost:8080/"
        },
        "id": "sRbpamFhOSRm",
        "outputId": "94eba242-cfbe-4c05-ba5b-4803c30fb0a1"
      },
      "source": [
        "fighter1_score = comparison_model.get_layer('fighter1_score').output\n",
        "fighter1_score = Model(comparison_model.input, fighter1_score)\n",
        "fighter1_score.predict(X_test_new_normal[lo:hi])"
      ],
      "execution_count": 57,
      "outputs": [
        {
          "output_type": "execute_result",
          "data": {
            "text/plain": [
              "array([[ 1.1082946],\n",
              "       [ 7.768839 ],\n",
              "       [11.761791 ],\n",
              "       [ 0.       ],\n",
              "       [ 2.0952482],\n",
              "       [ 0.       ],\n",
              "       [ 6.00082  ],\n",
              "       [ 3.2780342],\n",
              "       [ 2.1067607]], dtype=float32)"
            ]
          },
          "metadata": {
            "tags": []
          },
          "execution_count": 57
        }
      ]
    },
    {
      "cell_type": "code",
      "metadata": {
        "colab": {
          "base_uri": "https://localhost:8080/"
        },
        "id": "zHa31HYgOSRn",
        "outputId": "70acb983-1de2-4883-875d-2902dc7aab6d"
      },
      "source": [
        "columns = list(X_test_new_normal.columns)\n",
        "new_columns = columns[len(columns)//2:] + columns[:len(columns)//2]\n",
        "switcheroo = X_test_new_normal[new_columns]\n",
        "fighter1_score.predict(switcheroo[lo:hi])"
      ],
      "execution_count": 58,
      "outputs": [
        {
          "output_type": "execute_result",
          "data": {
            "text/plain": [
              "array([[ 7.496221  ],\n",
              "       [ 3.3026195 ],\n",
              "       [ 8.64645   ],\n",
              "       [ 2.662915  ],\n",
              "       [ 8.077615  ],\n",
              "       [ 6.298544  ],\n",
              "       [ 2.829841  ],\n",
              "       [ 0.82426286],\n",
              "       [11.2429085 ]], dtype=float32)"
            ]
          },
          "metadata": {
            "tags": []
          },
          "execution_count": 58
        }
      ]
    },
    {
      "cell_type": "code",
      "metadata": {
        "colab": {
          "base_uri": "https://localhost:8080/"
        },
        "id": "_OvDdtBjOSRn",
        "outputId": "aabf93b6-168b-497b-ee64-50695bc06db2"
      },
      "source": [
        "fighter0_score.predict(switcheroo[lo:hi])"
      ],
      "execution_count": 59,
      "outputs": [
        {
          "output_type": "execute_result",
          "data": {
            "text/plain": [
              "array([[ 1.1082946],\n",
              "       [ 7.768839 ],\n",
              "       [11.761791 ],\n",
              "       [ 0.       ],\n",
              "       [ 2.0952482],\n",
              "       [ 0.       ],\n",
              "       [ 6.00082  ],\n",
              "       [ 3.2780342],\n",
              "       [ 2.1067607]], dtype=float32)"
            ]
          },
          "metadata": {
            "tags": []
          },
          "execution_count": 59
        }
      ]
    },
    {
      "cell_type": "code",
      "metadata": {
        "colab": {
          "base_uri": "https://localhost:8080/"
        },
        "id": "975q2avhOSRn",
        "outputId": "50421a35-54c9-4ced-8b06-cc3626b6b84d"
      },
      "source": [
        "subtracter.predict(switcheroo[lo:hi])"
      ],
      "execution_count": 60,
      "outputs": [
        {
          "output_type": "execute_result",
          "data": {
            "text/plain": [
              "array([[ 6.3879266],\n",
              "       [-4.4662194],\n",
              "       [-3.1153412],\n",
              "       [ 2.662915 ],\n",
              "       [ 5.9823666],\n",
              "       [ 6.298544 ],\n",
              "       [-3.1709793],\n",
              "       [-2.4537714],\n",
              "       [ 9.1361475]], dtype=float32)"
            ]
          },
          "metadata": {
            "tags": []
          },
          "execution_count": 60
        }
      ]
    },
    {
      "cell_type": "code",
      "metadata": {
        "colab": {
          "base_uri": "https://localhost:8080/"
        },
        "id": "uci1y0klSyUk",
        "outputId": "7c5a6145-b29f-4a6d-e304-dd3228cabf9c"
      },
      "source": [
        "comparison_model.predict(switcheroo[lo:hi])"
      ],
      "execution_count": 61,
      "outputs": [
        {
          "output_type": "execute_result",
          "data": {
            "text/plain": [
              "array([[0.99832106],\n",
              "       [0.01136014],\n",
              "       [0.04247886],\n",
              "       [0.93480253],\n",
              "       [0.9974835 ],\n",
              "       [0.9981644 ],\n",
              "       [0.04027253],\n",
              "       [0.07916322],\n",
              "       [0.99989235]], dtype=float32)"
            ]
          },
          "metadata": {
            "tags": []
          },
          "execution_count": 61
        }
      ]
    },
    {
      "cell_type": "code",
      "metadata": {
        "colab": {
          "base_uri": "https://localhost:8080/"
        },
        "id": "_daq4cdDS2Fw",
        "outputId": "d9fa8dd5-2509-4b03-ef34-1491ce5aff2b"
      },
      "source": [
        "deep_model.predict(X_test_new_normal[1:10])"
      ],
      "execution_count": 62,
      "outputs": [
        {
          "output_type": "execute_result",
          "data": {
            "text/plain": [
              "array([[2.7348340e-01],\n",
              "       [5.6614935e-02],\n",
              "       [4.3564734e-05],\n",
              "       [9.9049121e-01],\n",
              "       [9.9227023e-01],\n",
              "       [2.2236407e-03],\n",
              "       [8.7417048e-01],\n",
              "       [1.6659552e-08],\n",
              "       [2.0882225e-01]], dtype=float32)"
            ]
          },
          "metadata": {
            "tags": []
          },
          "execution_count": 62
        }
      ]
    },
    {
      "cell_type": "code",
      "metadata": {
        "colab": {
          "base_uri": "https://localhost:8080/"
        },
        "id": "QjNmdPPhS-TB",
        "outputId": "2f2557a7-4167-4735-91e7-545cda020ee6"
      },
      "source": [
        "deep_model.predict(switcheroo[1:10])"
      ],
      "execution_count": 63,
      "outputs": [
        {
          "output_type": "execute_result",
          "data": {
            "text/plain": [
              "array([[0.23818928],\n",
              "       [0.8915566 ],\n",
              "       [0.99470603],\n",
              "       [0.11142445],\n",
              "       [0.09841967],\n",
              "       [0.9190571 ],\n",
              "       [0.3515808 ],\n",
              "       [1.        ],\n",
              "       [0.6475867 ]], dtype=float32)"
            ]
          },
          "metadata": {
            "tags": []
          },
          "execution_count": 63
        }
      ]
    },
    {
      "cell_type": "code",
      "metadata": {
        "id": "SI88RDxQS_7I"
      },
      "source": [
        ""
      ],
      "execution_count": 63,
      "outputs": []
    }
  ]
}