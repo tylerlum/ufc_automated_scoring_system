{
  "nbformat": 4,
  "nbformat_minor": 0,
  "metadata": {
    "kernelspec": {
      "display_name": "Python 3",
      "language": "python",
      "name": "python3"
    },
    "language_info": {
      "codemirror_mode": {
        "name": "ipython",
        "version": 3
      },
      "file_extension": ".py",
      "mimetype": "text/x-python",
      "name": "python",
      "nbconvert_exporter": "python",
      "pygments_lexer": "ipython3",
      "version": "3.6.9"
    },
    "colab": {
      "name": "UFC_automated_scoring.ipynb",
      "provenance": [],
      "collapsed_sections": [],
      "toc_visible": true,
      "include_colab_link": true
    }
  },
  "cells": [
    {
      "cell_type": "markdown",
      "metadata": {
        "id": "view-in-github",
        "colab_type": "text"
      },
      "source": [
        "<a href=\"https://colab.research.google.com/github/tylerlum/ufc_automated_scoring_system/blob/main/UFC_automated_scoring.ipynb\" target=\"_parent\"><img src=\"https://colab.research.google.com/assets/colab-badge.svg\" alt=\"Open In Colab\"/></a>"
      ]
    },
    {
      "cell_type": "markdown",
      "metadata": {
        "id": "q2Ink0cSOSRR"
      },
      "source": [
        "# UFC Automated Scoring\n",
        "\n",
        "The goal of this notebook is to:\n",
        "* Read in stored, scraped UFC data and convert it into a dataset ready for ML models\n",
        "* Train, test, and analyze ML models\n",
        "\n",
        "Functional as of April 2021"
      ]
    },
    {
      "cell_type": "markdown",
      "metadata": {
        "id": "XIv8RUYoOSRW"
      },
      "source": [
        "## Read in stored data"
      ]
    },
    {
      "cell_type": "code",
      "metadata": {
        "id": "Ws0PWbZMOSRX"
      },
      "source": [
        "import numpy as np\n",
        "import pandas as pd"
      ],
      "execution_count": 1,
      "outputs": []
    },
    {
      "cell_type": "code",
      "metadata": {
        "id": "3MgHHwyvOSRX"
      },
      "source": [
        "STORED_FIGHT_TABLE = pd.read_csv('FIGHT_TABLE_NUM_EVENTS_All_DATA_MODE_Summary_22-04-2021_11:08:22.csv')"
      ],
      "execution_count": 2,
      "outputs": []
    },
    {
      "cell_type": "code",
      "metadata": {
        "colab": {
          "base_uri": "https://localhost:8080/",
          "height": 657
        },
        "id": "PlBKZMo0OSRX",
        "outputId": "c3d7efa1-5a1e-48a3-8ef8-e860e43c023e"
      },
      "source": [
        "STORED_FIGHT_TABLE"
      ],
      "execution_count": 3,
      "outputs": [
        {
          "output_type": "execute_result",
          "data": {
            "text/html": [
              "<div>\n",
              "<style scoped>\n",
              "    .dataframe tbody tr th:only-of-type {\n",
              "        vertical-align: middle;\n",
              "    }\n",
              "\n",
              "    .dataframe tbody tr th {\n",
              "        vertical-align: top;\n",
              "    }\n",
              "\n",
              "    .dataframe thead th {\n",
              "        text-align: right;\n",
              "    }\n",
              "</style>\n",
              "<table border=\"1\" class=\"dataframe\">\n",
              "  <thead>\n",
              "    <tr style=\"text-align: right;\">\n",
              "      <th></th>\n",
              "      <th>Fighter 0 KD</th>\n",
              "      <th>Fighter 1 KD</th>\n",
              "      <th>Fighter 0 Sig. str.</th>\n",
              "      <th>Fighter 1 Sig. str.</th>\n",
              "      <th>Fighter 0 Sig. str. %</th>\n",
              "      <th>Fighter 1 Sig. str. %</th>\n",
              "      <th>Fighter 0 Total str.</th>\n",
              "      <th>Fighter 1 Total str.</th>\n",
              "      <th>Fighter 0 Td</th>\n",
              "      <th>Fighter 1 Td</th>\n",
              "      <th>Fighter 0 Td %</th>\n",
              "      <th>Fighter 1 Td %</th>\n",
              "      <th>Fighter 0 Sub. att</th>\n",
              "      <th>Fighter 1 Sub. att</th>\n",
              "      <th>Fighter 0 Rev.</th>\n",
              "      <th>Fighter 1 Rev.</th>\n",
              "      <th>Fighter 0 Ctrl</th>\n",
              "      <th>Fighter 1 Ctrl</th>\n",
              "      <th>Fighter 0 Name</th>\n",
              "      <th>Fighter 1 Name</th>\n",
              "      <th>Fighter 0 Head</th>\n",
              "      <th>Fighter 1 Head</th>\n",
              "      <th>Fighter 0 Body</th>\n",
              "      <th>Fighter 1 Body</th>\n",
              "      <th>Fighter 0 Leg</th>\n",
              "      <th>Fighter 1 Leg</th>\n",
              "      <th>Fighter 0 Distance</th>\n",
              "      <th>Fighter 1 Distance</th>\n",
              "      <th>Fighter 0 Clinch</th>\n",
              "      <th>Fighter 1 Clinch</th>\n",
              "      <th>Fighter 0 Ground</th>\n",
              "      <th>Fighter 1 Ground</th>\n",
              "      <th>Winner</th>\n",
              "      <th>Method</th>\n",
              "    </tr>\n",
              "  </thead>\n",
              "  <tbody>\n",
              "    <tr>\n",
              "      <th>0</th>\n",
              "      <td>0</td>\n",
              "      <td>0</td>\n",
              "      <td>150</td>\n",
              "      <td>62</td>\n",
              "      <td>52.0</td>\n",
              "      <td>29.0</td>\n",
              "      <td>169</td>\n",
              "      <td>70</td>\n",
              "      <td>4</td>\n",
              "      <td>1</td>\n",
              "      <td>57.0</td>\n",
              "      <td>20.0</td>\n",
              "      <td>0</td>\n",
              "      <td>0</td>\n",
              "      <td>0</td>\n",
              "      <td>0</td>\n",
              "      <td>259.0</td>\n",
              "      <td>26.0</td>\n",
              "      <td>Robert Whittaker</td>\n",
              "      <td>Kelvin Gastelum</td>\n",
              "      <td>115</td>\n",
              "      <td>42</td>\n",
              "      <td>13</td>\n",
              "      <td>7</td>\n",
              "      <td>22</td>\n",
              "      <td>13</td>\n",
              "      <td>138</td>\n",
              "      <td>59</td>\n",
              "      <td>5</td>\n",
              "      <td>3</td>\n",
              "      <td>7</td>\n",
              "      <td>0</td>\n",
              "      <td>0</td>\n",
              "      <td>U-DEC</td>\n",
              "    </tr>\n",
              "    <tr>\n",
              "      <th>1</th>\n",
              "      <td>0</td>\n",
              "      <td>0</td>\n",
              "      <td>105</td>\n",
              "      <td>88</td>\n",
              "      <td>47.0</td>\n",
              "      <td>45.0</td>\n",
              "      <td>109</td>\n",
              "      <td>99</td>\n",
              "      <td>0</td>\n",
              "      <td>0</td>\n",
              "      <td>NaN</td>\n",
              "      <td>NaN</td>\n",
              "      <td>0</td>\n",
              "      <td>0</td>\n",
              "      <td>0</td>\n",
              "      <td>0</td>\n",
              "      <td>39.0</td>\n",
              "      <td>0.0</td>\n",
              "      <td>Andrei Arlovski</td>\n",
              "      <td>Chase Sherman</td>\n",
              "      <td>54</td>\n",
              "      <td>55</td>\n",
              "      <td>26</td>\n",
              "      <td>16</td>\n",
              "      <td>25</td>\n",
              "      <td>17</td>\n",
              "      <td>103</td>\n",
              "      <td>84</td>\n",
              "      <td>2</td>\n",
              "      <td>4</td>\n",
              "      <td>0</td>\n",
              "      <td>0</td>\n",
              "      <td>0</td>\n",
              "      <td>U-DEC</td>\n",
              "    </tr>\n",
              "    <tr>\n",
              "      <th>2</th>\n",
              "      <td>0</td>\n",
              "      <td>0</td>\n",
              "      <td>21</td>\n",
              "      <td>27</td>\n",
              "      <td>44.0</td>\n",
              "      <td>49.0</td>\n",
              "      <td>32</td>\n",
              "      <td>91</td>\n",
              "      <td>0</td>\n",
              "      <td>8</td>\n",
              "      <td>NaN</td>\n",
              "      <td>33.0</td>\n",
              "      <td>0</td>\n",
              "      <td>2</td>\n",
              "      <td>0</td>\n",
              "      <td>0</td>\n",
              "      <td>2.0</td>\n",
              "      <td>701.0</td>\n",
              "      <td>Abdul Razak Alhassan</td>\n",
              "      <td>Jacob Malkoun</td>\n",
              "      <td>11</td>\n",
              "      <td>24</td>\n",
              "      <td>9</td>\n",
              "      <td>2</td>\n",
              "      <td>1</td>\n",
              "      <td>1</td>\n",
              "      <td>14</td>\n",
              "      <td>18</td>\n",
              "      <td>5</td>\n",
              "      <td>3</td>\n",
              "      <td>2</td>\n",
              "      <td>6</td>\n",
              "      <td>1</td>\n",
              "      <td>U-DEC</td>\n",
              "    </tr>\n",
              "    <tr>\n",
              "      <th>3</th>\n",
              "      <td>0</td>\n",
              "      <td>1</td>\n",
              "      <td>66</td>\n",
              "      <td>55</td>\n",
              "      <td>58.0</td>\n",
              "      <td>46.0</td>\n",
              "      <td>84</td>\n",
              "      <td>72</td>\n",
              "      <td>3</td>\n",
              "      <td>0</td>\n",
              "      <td>60.0</td>\n",
              "      <td>0.0</td>\n",
              "      <td>1</td>\n",
              "      <td>0</td>\n",
              "      <td>0</td>\n",
              "      <td>0</td>\n",
              "      <td>386.0</td>\n",
              "      <td>38.0</td>\n",
              "      <td>Tracy Cortez</td>\n",
              "      <td>Justine Kish</td>\n",
              "      <td>40</td>\n",
              "      <td>30</td>\n",
              "      <td>19</td>\n",
              "      <td>8</td>\n",
              "      <td>7</td>\n",
              "      <td>17</td>\n",
              "      <td>39</td>\n",
              "      <td>50</td>\n",
              "      <td>7</td>\n",
              "      <td>4</td>\n",
              "      <td>20</td>\n",
              "      <td>1</td>\n",
              "      <td>0</td>\n",
              "      <td>S-DEC</td>\n",
              "    </tr>\n",
              "    <tr>\n",
              "      <th>4</th>\n",
              "      <td>0</td>\n",
              "      <td>0</td>\n",
              "      <td>90</td>\n",
              "      <td>80</td>\n",
              "      <td>46.0</td>\n",
              "      <td>47.0</td>\n",
              "      <td>90</td>\n",
              "      <td>82</td>\n",
              "      <td>0</td>\n",
              "      <td>4</td>\n",
              "      <td>NaN</td>\n",
              "      <td>44.0</td>\n",
              "      <td>0</td>\n",
              "      <td>0</td>\n",
              "      <td>0</td>\n",
              "      <td>0</td>\n",
              "      <td>3.0</td>\n",
              "      <td>141.0</td>\n",
              "      <td>Luis Pena</td>\n",
              "      <td>Alexander Munoz</td>\n",
              "      <td>74</td>\n",
              "      <td>40</td>\n",
              "      <td>12</td>\n",
              "      <td>20</td>\n",
              "      <td>4</td>\n",
              "      <td>20</td>\n",
              "      <td>88</td>\n",
              "      <td>77</td>\n",
              "      <td>2</td>\n",
              "      <td>3</td>\n",
              "      <td>0</td>\n",
              "      <td>0</td>\n",
              "      <td>0</td>\n",
              "      <td>S-DEC</td>\n",
              "    </tr>\n",
              "    <tr>\n",
              "      <th>...</th>\n",
              "      <td>...</td>\n",
              "      <td>...</td>\n",
              "      <td>...</td>\n",
              "      <td>...</td>\n",
              "      <td>...</td>\n",
              "      <td>...</td>\n",
              "      <td>...</td>\n",
              "      <td>...</td>\n",
              "      <td>...</td>\n",
              "      <td>...</td>\n",
              "      <td>...</td>\n",
              "      <td>...</td>\n",
              "      <td>...</td>\n",
              "      <td>...</td>\n",
              "      <td>...</td>\n",
              "      <td>...</td>\n",
              "      <td>...</td>\n",
              "      <td>...</td>\n",
              "      <td>...</td>\n",
              "      <td>...</td>\n",
              "      <td>...</td>\n",
              "      <td>...</td>\n",
              "      <td>...</td>\n",
              "      <td>...</td>\n",
              "      <td>...</td>\n",
              "      <td>...</td>\n",
              "      <td>...</td>\n",
              "      <td>...</td>\n",
              "      <td>...</td>\n",
              "      <td>...</td>\n",
              "      <td>...</td>\n",
              "      <td>...</td>\n",
              "      <td>...</td>\n",
              "      <td>...</td>\n",
              "    </tr>\n",
              "    <tr>\n",
              "      <th>5888</th>\n",
              "      <td>2</td>\n",
              "      <td>0</td>\n",
              "      <td>24</td>\n",
              "      <td>16</td>\n",
              "      <td>68.0</td>\n",
              "      <td>33.0</td>\n",
              "      <td>49</td>\n",
              "      <td>31</td>\n",
              "      <td>0</td>\n",
              "      <td>1</td>\n",
              "      <td>NaN</td>\n",
              "      <td>50.0</td>\n",
              "      <td>0</td>\n",
              "      <td>0</td>\n",
              "      <td>0</td>\n",
              "      <td>0</td>\n",
              "      <td>NaN</td>\n",
              "      <td>NaN</td>\n",
              "      <td>Pedro Rizzo</td>\n",
              "      <td>David Abbott</td>\n",
              "      <td>12</td>\n",
              "      <td>16</td>\n",
              "      <td>0</td>\n",
              "      <td>0</td>\n",
              "      <td>12</td>\n",
              "      <td>0</td>\n",
              "      <td>17</td>\n",
              "      <td>7</td>\n",
              "      <td>4</td>\n",
              "      <td>4</td>\n",
              "      <td>3</td>\n",
              "      <td>5</td>\n",
              "      <td>0</td>\n",
              "      <td>KO/TKO  Punch</td>\n",
              "    </tr>\n",
              "    <tr>\n",
              "      <th>5889</th>\n",
              "      <td>0</td>\n",
              "      <td>0</td>\n",
              "      <td>19</td>\n",
              "      <td>24</td>\n",
              "      <td>55.0</td>\n",
              "      <td>55.0</td>\n",
              "      <td>95</td>\n",
              "      <td>145</td>\n",
              "      <td>1</td>\n",
              "      <td>2</td>\n",
              "      <td>11.0</td>\n",
              "      <td>100.0</td>\n",
              "      <td>0</td>\n",
              "      <td>2</td>\n",
              "      <td>0</td>\n",
              "      <td>1</td>\n",
              "      <td>NaN</td>\n",
              "      <td>NaN</td>\n",
              "      <td>Pat Miletich</td>\n",
              "      <td>Mikey Burnett</td>\n",
              "      <td>2</td>\n",
              "      <td>2</td>\n",
              "      <td>12</td>\n",
              "      <td>20</td>\n",
              "      <td>5</td>\n",
              "      <td>2</td>\n",
              "      <td>4</td>\n",
              "      <td>1</td>\n",
              "      <td>15</td>\n",
              "      <td>23</td>\n",
              "      <td>0</td>\n",
              "      <td>0</td>\n",
              "      <td>0</td>\n",
              "      <td>S-DEC</td>\n",
              "    </tr>\n",
              "    <tr>\n",
              "      <th>5890</th>\n",
              "      <td>0</td>\n",
              "      <td>0</td>\n",
              "      <td>14</td>\n",
              "      <td>13</td>\n",
              "      <td>35.0</td>\n",
              "      <td>19.0</td>\n",
              "      <td>30</td>\n",
              "      <td>15</td>\n",
              "      <td>3</td>\n",
              "      <td>0</td>\n",
              "      <td>60.0</td>\n",
              "      <td>NaN</td>\n",
              "      <td>5</td>\n",
              "      <td>0</td>\n",
              "      <td>1</td>\n",
              "      <td>0</td>\n",
              "      <td>NaN</td>\n",
              "      <td>NaN</td>\n",
              "      <td>Tsuyoshi Kohsaka</td>\n",
              "      <td>Pete Williams</td>\n",
              "      <td>7</td>\n",
              "      <td>6</td>\n",
              "      <td>4</td>\n",
              "      <td>7</td>\n",
              "      <td>3</td>\n",
              "      <td>0</td>\n",
              "      <td>11</td>\n",
              "      <td>12</td>\n",
              "      <td>0</td>\n",
              "      <td>1</td>\n",
              "      <td>3</td>\n",
              "      <td>0</td>\n",
              "      <td>0</td>\n",
              "      <td>U-DEC</td>\n",
              "    </tr>\n",
              "    <tr>\n",
              "      <th>5891</th>\n",
              "      <td>0</td>\n",
              "      <td>0</td>\n",
              "      <td>9</td>\n",
              "      <td>3</td>\n",
              "      <td>56.0</td>\n",
              "      <td>60.0</td>\n",
              "      <td>17</td>\n",
              "      <td>11</td>\n",
              "      <td>1</td>\n",
              "      <td>0</td>\n",
              "      <td>100.0</td>\n",
              "      <td>NaN</td>\n",
              "      <td>1</td>\n",
              "      <td>0</td>\n",
              "      <td>0</td>\n",
              "      <td>0</td>\n",
              "      <td>NaN</td>\n",
              "      <td>NaN</td>\n",
              "      <td>Ebenezer Fontes Braga</td>\n",
              "      <td>Jeremy Horn</td>\n",
              "      <td>6</td>\n",
              "      <td>0</td>\n",
              "      <td>1</td>\n",
              "      <td>3</td>\n",
              "      <td>2</td>\n",
              "      <td>0</td>\n",
              "      <td>2</td>\n",
              "      <td>0</td>\n",
              "      <td>5</td>\n",
              "      <td>3</td>\n",
              "      <td>2</td>\n",
              "      <td>0</td>\n",
              "      <td>0</td>\n",
              "      <td>SUB  Guillotine Choke</td>\n",
              "    </tr>\n",
              "    <tr>\n",
              "      <th>5892</th>\n",
              "      <td>0</td>\n",
              "      <td>0</td>\n",
              "      <td>31</td>\n",
              "      <td>11</td>\n",
              "      <td>70.0</td>\n",
              "      <td>30.0</td>\n",
              "      <td>53</td>\n",
              "      <td>21</td>\n",
              "      <td>4</td>\n",
              "      <td>2</td>\n",
              "      <td>100.0</td>\n",
              "      <td>66.0</td>\n",
              "      <td>0</td>\n",
              "      <td>0</td>\n",
              "      <td>0</td>\n",
              "      <td>1</td>\n",
              "      <td>NaN</td>\n",
              "      <td>NaN</td>\n",
              "      <td>Tulio Palhares</td>\n",
              "      <td>Adriano Santos</td>\n",
              "      <td>26</td>\n",
              "      <td>8</td>\n",
              "      <td>1</td>\n",
              "      <td>2</td>\n",
              "      <td>4</td>\n",
              "      <td>1</td>\n",
              "      <td>11</td>\n",
              "      <td>4</td>\n",
              "      <td>1</td>\n",
              "      <td>0</td>\n",
              "      <td>19</td>\n",
              "      <td>7</td>\n",
              "      <td>0</td>\n",
              "      <td>KO/TKO  Punches</td>\n",
              "    </tr>\n",
              "  </tbody>\n",
              "</table>\n",
              "<p>5893 rows × 34 columns</p>\n",
              "</div>"
            ],
            "text/plain": [
              "      Fighter 0 KD  Fighter 1 KD  ...  Winner                 Method\n",
              "0                0             0  ...       0                  U-DEC\n",
              "1                0             0  ...       0                  U-DEC\n",
              "2                0             0  ...       1                  U-DEC\n",
              "3                0             1  ...       0                  S-DEC\n",
              "4                0             0  ...       0                  S-DEC\n",
              "...            ...           ...  ...     ...                    ...\n",
              "5888             2             0  ...       0          KO/TKO  Punch\n",
              "5889             0             0  ...       0                  S-DEC\n",
              "5890             0             0  ...       0                  U-DEC\n",
              "5891             0             0  ...       0  SUB  Guillotine Choke\n",
              "5892             0             0  ...       0        KO/TKO  Punches\n",
              "\n",
              "[5893 rows x 34 columns]"
            ]
          },
          "metadata": {
            "tags": []
          },
          "execution_count": 3
        }
      ]
    },
    {
      "cell_type": "code",
      "metadata": {
        "colab": {
          "base_uri": "https://localhost:8080/",
          "height": 640
        },
        "id": "uF1ya3BLOSRY",
        "outputId": "437ecbfd-a5d6-42ad-e64b-c60d930d8c23"
      },
      "source": [
        "# Clean dataset: Only decisions with clear winners\n",
        "STORED_FIGHT_TABLE = STORED_FIGHT_TABLE[STORED_FIGHT_TABLE[\"Method\"].str.contains(\"DEC\")]\n",
        "STORED_FIGHT_TABLE = STORED_FIGHT_TABLE[(STORED_FIGHT_TABLE[\"Winner\"] == 1) | (STORED_FIGHT_TABLE[\"Winner\"] == 0)]\n",
        "STORED_FIGHT_TABLE"
      ],
      "execution_count": 4,
      "outputs": [
        {
          "output_type": "execute_result",
          "data": {
            "text/html": [
              "<div>\n",
              "<style scoped>\n",
              "    .dataframe tbody tr th:only-of-type {\n",
              "        vertical-align: middle;\n",
              "    }\n",
              "\n",
              "    .dataframe tbody tr th {\n",
              "        vertical-align: top;\n",
              "    }\n",
              "\n",
              "    .dataframe thead th {\n",
              "        text-align: right;\n",
              "    }\n",
              "</style>\n",
              "<table border=\"1\" class=\"dataframe\">\n",
              "  <thead>\n",
              "    <tr style=\"text-align: right;\">\n",
              "      <th></th>\n",
              "      <th>Fighter 0 KD</th>\n",
              "      <th>Fighter 1 KD</th>\n",
              "      <th>Fighter 0 Sig. str.</th>\n",
              "      <th>Fighter 1 Sig. str.</th>\n",
              "      <th>Fighter 0 Sig. str. %</th>\n",
              "      <th>Fighter 1 Sig. str. %</th>\n",
              "      <th>Fighter 0 Total str.</th>\n",
              "      <th>Fighter 1 Total str.</th>\n",
              "      <th>Fighter 0 Td</th>\n",
              "      <th>Fighter 1 Td</th>\n",
              "      <th>Fighter 0 Td %</th>\n",
              "      <th>Fighter 1 Td %</th>\n",
              "      <th>Fighter 0 Sub. att</th>\n",
              "      <th>Fighter 1 Sub. att</th>\n",
              "      <th>Fighter 0 Rev.</th>\n",
              "      <th>Fighter 1 Rev.</th>\n",
              "      <th>Fighter 0 Ctrl</th>\n",
              "      <th>Fighter 1 Ctrl</th>\n",
              "      <th>Fighter 0 Name</th>\n",
              "      <th>Fighter 1 Name</th>\n",
              "      <th>Fighter 0 Head</th>\n",
              "      <th>Fighter 1 Head</th>\n",
              "      <th>Fighter 0 Body</th>\n",
              "      <th>Fighter 1 Body</th>\n",
              "      <th>Fighter 0 Leg</th>\n",
              "      <th>Fighter 1 Leg</th>\n",
              "      <th>Fighter 0 Distance</th>\n",
              "      <th>Fighter 1 Distance</th>\n",
              "      <th>Fighter 0 Clinch</th>\n",
              "      <th>Fighter 1 Clinch</th>\n",
              "      <th>Fighter 0 Ground</th>\n",
              "      <th>Fighter 1 Ground</th>\n",
              "      <th>Winner</th>\n",
              "      <th>Method</th>\n",
              "    </tr>\n",
              "  </thead>\n",
              "  <tbody>\n",
              "    <tr>\n",
              "      <th>0</th>\n",
              "      <td>0</td>\n",
              "      <td>0</td>\n",
              "      <td>150</td>\n",
              "      <td>62</td>\n",
              "      <td>52.0</td>\n",
              "      <td>29.0</td>\n",
              "      <td>169</td>\n",
              "      <td>70</td>\n",
              "      <td>4</td>\n",
              "      <td>1</td>\n",
              "      <td>57.0</td>\n",
              "      <td>20.0</td>\n",
              "      <td>0</td>\n",
              "      <td>0</td>\n",
              "      <td>0</td>\n",
              "      <td>0</td>\n",
              "      <td>259.0</td>\n",
              "      <td>26.0</td>\n",
              "      <td>Robert Whittaker</td>\n",
              "      <td>Kelvin Gastelum</td>\n",
              "      <td>115</td>\n",
              "      <td>42</td>\n",
              "      <td>13</td>\n",
              "      <td>7</td>\n",
              "      <td>22</td>\n",
              "      <td>13</td>\n",
              "      <td>138</td>\n",
              "      <td>59</td>\n",
              "      <td>5</td>\n",
              "      <td>3</td>\n",
              "      <td>7</td>\n",
              "      <td>0</td>\n",
              "      <td>0</td>\n",
              "      <td>U-DEC</td>\n",
              "    </tr>\n",
              "    <tr>\n",
              "      <th>1</th>\n",
              "      <td>0</td>\n",
              "      <td>0</td>\n",
              "      <td>105</td>\n",
              "      <td>88</td>\n",
              "      <td>47.0</td>\n",
              "      <td>45.0</td>\n",
              "      <td>109</td>\n",
              "      <td>99</td>\n",
              "      <td>0</td>\n",
              "      <td>0</td>\n",
              "      <td>NaN</td>\n",
              "      <td>NaN</td>\n",
              "      <td>0</td>\n",
              "      <td>0</td>\n",
              "      <td>0</td>\n",
              "      <td>0</td>\n",
              "      <td>39.0</td>\n",
              "      <td>0.0</td>\n",
              "      <td>Andrei Arlovski</td>\n",
              "      <td>Chase Sherman</td>\n",
              "      <td>54</td>\n",
              "      <td>55</td>\n",
              "      <td>26</td>\n",
              "      <td>16</td>\n",
              "      <td>25</td>\n",
              "      <td>17</td>\n",
              "      <td>103</td>\n",
              "      <td>84</td>\n",
              "      <td>2</td>\n",
              "      <td>4</td>\n",
              "      <td>0</td>\n",
              "      <td>0</td>\n",
              "      <td>0</td>\n",
              "      <td>U-DEC</td>\n",
              "    </tr>\n",
              "    <tr>\n",
              "      <th>2</th>\n",
              "      <td>0</td>\n",
              "      <td>0</td>\n",
              "      <td>21</td>\n",
              "      <td>27</td>\n",
              "      <td>44.0</td>\n",
              "      <td>49.0</td>\n",
              "      <td>32</td>\n",
              "      <td>91</td>\n",
              "      <td>0</td>\n",
              "      <td>8</td>\n",
              "      <td>NaN</td>\n",
              "      <td>33.0</td>\n",
              "      <td>0</td>\n",
              "      <td>2</td>\n",
              "      <td>0</td>\n",
              "      <td>0</td>\n",
              "      <td>2.0</td>\n",
              "      <td>701.0</td>\n",
              "      <td>Abdul Razak Alhassan</td>\n",
              "      <td>Jacob Malkoun</td>\n",
              "      <td>11</td>\n",
              "      <td>24</td>\n",
              "      <td>9</td>\n",
              "      <td>2</td>\n",
              "      <td>1</td>\n",
              "      <td>1</td>\n",
              "      <td>14</td>\n",
              "      <td>18</td>\n",
              "      <td>5</td>\n",
              "      <td>3</td>\n",
              "      <td>2</td>\n",
              "      <td>6</td>\n",
              "      <td>1</td>\n",
              "      <td>U-DEC</td>\n",
              "    </tr>\n",
              "    <tr>\n",
              "      <th>3</th>\n",
              "      <td>0</td>\n",
              "      <td>1</td>\n",
              "      <td>66</td>\n",
              "      <td>55</td>\n",
              "      <td>58.0</td>\n",
              "      <td>46.0</td>\n",
              "      <td>84</td>\n",
              "      <td>72</td>\n",
              "      <td>3</td>\n",
              "      <td>0</td>\n",
              "      <td>60.0</td>\n",
              "      <td>0.0</td>\n",
              "      <td>1</td>\n",
              "      <td>0</td>\n",
              "      <td>0</td>\n",
              "      <td>0</td>\n",
              "      <td>386.0</td>\n",
              "      <td>38.0</td>\n",
              "      <td>Tracy Cortez</td>\n",
              "      <td>Justine Kish</td>\n",
              "      <td>40</td>\n",
              "      <td>30</td>\n",
              "      <td>19</td>\n",
              "      <td>8</td>\n",
              "      <td>7</td>\n",
              "      <td>17</td>\n",
              "      <td>39</td>\n",
              "      <td>50</td>\n",
              "      <td>7</td>\n",
              "      <td>4</td>\n",
              "      <td>20</td>\n",
              "      <td>1</td>\n",
              "      <td>0</td>\n",
              "      <td>S-DEC</td>\n",
              "    </tr>\n",
              "    <tr>\n",
              "      <th>4</th>\n",
              "      <td>0</td>\n",
              "      <td>0</td>\n",
              "      <td>90</td>\n",
              "      <td>80</td>\n",
              "      <td>46.0</td>\n",
              "      <td>47.0</td>\n",
              "      <td>90</td>\n",
              "      <td>82</td>\n",
              "      <td>0</td>\n",
              "      <td>4</td>\n",
              "      <td>NaN</td>\n",
              "      <td>44.0</td>\n",
              "      <td>0</td>\n",
              "      <td>0</td>\n",
              "      <td>0</td>\n",
              "      <td>0</td>\n",
              "      <td>3.0</td>\n",
              "      <td>141.0</td>\n",
              "      <td>Luis Pena</td>\n",
              "      <td>Alexander Munoz</td>\n",
              "      <td>74</td>\n",
              "      <td>40</td>\n",
              "      <td>12</td>\n",
              "      <td>20</td>\n",
              "      <td>4</td>\n",
              "      <td>20</td>\n",
              "      <td>88</td>\n",
              "      <td>77</td>\n",
              "      <td>2</td>\n",
              "      <td>3</td>\n",
              "      <td>0</td>\n",
              "      <td>0</td>\n",
              "      <td>0</td>\n",
              "      <td>S-DEC</td>\n",
              "    </tr>\n",
              "    <tr>\n",
              "      <th>...</th>\n",
              "      <td>...</td>\n",
              "      <td>...</td>\n",
              "      <td>...</td>\n",
              "      <td>...</td>\n",
              "      <td>...</td>\n",
              "      <td>...</td>\n",
              "      <td>...</td>\n",
              "      <td>...</td>\n",
              "      <td>...</td>\n",
              "      <td>...</td>\n",
              "      <td>...</td>\n",
              "      <td>...</td>\n",
              "      <td>...</td>\n",
              "      <td>...</td>\n",
              "      <td>...</td>\n",
              "      <td>...</td>\n",
              "      <td>...</td>\n",
              "      <td>...</td>\n",
              "      <td>...</td>\n",
              "      <td>...</td>\n",
              "      <td>...</td>\n",
              "      <td>...</td>\n",
              "      <td>...</td>\n",
              "      <td>...</td>\n",
              "      <td>...</td>\n",
              "      <td>...</td>\n",
              "      <td>...</td>\n",
              "      <td>...</td>\n",
              "      <td>...</td>\n",
              "      <td>...</td>\n",
              "      <td>...</td>\n",
              "      <td>...</td>\n",
              "      <td>...</td>\n",
              "      <td>...</td>\n",
              "    </tr>\n",
              "    <tr>\n",
              "      <th>5880</th>\n",
              "      <td>0</td>\n",
              "      <td>0</td>\n",
              "      <td>27</td>\n",
              "      <td>19</td>\n",
              "      <td>38.0</td>\n",
              "      <td>21.0</td>\n",
              "      <td>71</td>\n",
              "      <td>21</td>\n",
              "      <td>3</td>\n",
              "      <td>1</td>\n",
              "      <td>100.0</td>\n",
              "      <td>16.0</td>\n",
              "      <td>0</td>\n",
              "      <td>1</td>\n",
              "      <td>0</td>\n",
              "      <td>0</td>\n",
              "      <td>NaN</td>\n",
              "      <td>NaN</td>\n",
              "      <td>Pat Miletich</td>\n",
              "      <td>Jorge Patino</td>\n",
              "      <td>9</td>\n",
              "      <td>5</td>\n",
              "      <td>4</td>\n",
              "      <td>1</td>\n",
              "      <td>14</td>\n",
              "      <td>13</td>\n",
              "      <td>20</td>\n",
              "      <td>16</td>\n",
              "      <td>2</td>\n",
              "      <td>2</td>\n",
              "      <td>5</td>\n",
              "      <td>1</td>\n",
              "      <td>0</td>\n",
              "      <td>U-DEC</td>\n",
              "    </tr>\n",
              "    <tr>\n",
              "      <th>5881</th>\n",
              "      <td>0</td>\n",
              "      <td>0</td>\n",
              "      <td>16</td>\n",
              "      <td>25</td>\n",
              "      <td>55.0</td>\n",
              "      <td>47.0</td>\n",
              "      <td>29</td>\n",
              "      <td>58</td>\n",
              "      <td>0</td>\n",
              "      <td>2</td>\n",
              "      <td>NaN</td>\n",
              "      <td>33.0</td>\n",
              "      <td>0</td>\n",
              "      <td>0</td>\n",
              "      <td>0</td>\n",
              "      <td>0</td>\n",
              "      <td>NaN</td>\n",
              "      <td>NaN</td>\n",
              "      <td>Pedro Rizzo</td>\n",
              "      <td>Mark Coleman</td>\n",
              "      <td>9</td>\n",
              "      <td>23</td>\n",
              "      <td>0</td>\n",
              "      <td>0</td>\n",
              "      <td>7</td>\n",
              "      <td>2</td>\n",
              "      <td>15</td>\n",
              "      <td>7</td>\n",
              "      <td>1</td>\n",
              "      <td>0</td>\n",
              "      <td>0</td>\n",
              "      <td>18</td>\n",
              "      <td>0</td>\n",
              "      <td>S-DEC</td>\n",
              "    </tr>\n",
              "    <tr>\n",
              "      <th>5883</th>\n",
              "      <td>1</td>\n",
              "      <td>0</td>\n",
              "      <td>42</td>\n",
              "      <td>34</td>\n",
              "      <td>31.0</td>\n",
              "      <td>53.0</td>\n",
              "      <td>57</td>\n",
              "      <td>41</td>\n",
              "      <td>0</td>\n",
              "      <td>0</td>\n",
              "      <td>NaN</td>\n",
              "      <td>0.0</td>\n",
              "      <td>1</td>\n",
              "      <td>0</td>\n",
              "      <td>0</td>\n",
              "      <td>0</td>\n",
              "      <td>NaN</td>\n",
              "      <td>NaN</td>\n",
              "      <td>Mikey Burnett</td>\n",
              "      <td>Townsend Saunders</td>\n",
              "      <td>28</td>\n",
              "      <td>7</td>\n",
              "      <td>9</td>\n",
              "      <td>14</td>\n",
              "      <td>5</td>\n",
              "      <td>13</td>\n",
              "      <td>21</td>\n",
              "      <td>20</td>\n",
              "      <td>19</td>\n",
              "      <td>14</td>\n",
              "      <td>2</td>\n",
              "      <td>0</td>\n",
              "      <td>0</td>\n",
              "      <td>U-DEC</td>\n",
              "    </tr>\n",
              "    <tr>\n",
              "      <th>5889</th>\n",
              "      <td>0</td>\n",
              "      <td>0</td>\n",
              "      <td>19</td>\n",
              "      <td>24</td>\n",
              "      <td>55.0</td>\n",
              "      <td>55.0</td>\n",
              "      <td>95</td>\n",
              "      <td>145</td>\n",
              "      <td>1</td>\n",
              "      <td>2</td>\n",
              "      <td>11.0</td>\n",
              "      <td>100.0</td>\n",
              "      <td>0</td>\n",
              "      <td>2</td>\n",
              "      <td>0</td>\n",
              "      <td>1</td>\n",
              "      <td>NaN</td>\n",
              "      <td>NaN</td>\n",
              "      <td>Pat Miletich</td>\n",
              "      <td>Mikey Burnett</td>\n",
              "      <td>2</td>\n",
              "      <td>2</td>\n",
              "      <td>12</td>\n",
              "      <td>20</td>\n",
              "      <td>5</td>\n",
              "      <td>2</td>\n",
              "      <td>4</td>\n",
              "      <td>1</td>\n",
              "      <td>15</td>\n",
              "      <td>23</td>\n",
              "      <td>0</td>\n",
              "      <td>0</td>\n",
              "      <td>0</td>\n",
              "      <td>S-DEC</td>\n",
              "    </tr>\n",
              "    <tr>\n",
              "      <th>5890</th>\n",
              "      <td>0</td>\n",
              "      <td>0</td>\n",
              "      <td>14</td>\n",
              "      <td>13</td>\n",
              "      <td>35.0</td>\n",
              "      <td>19.0</td>\n",
              "      <td>30</td>\n",
              "      <td>15</td>\n",
              "      <td>3</td>\n",
              "      <td>0</td>\n",
              "      <td>60.0</td>\n",
              "      <td>NaN</td>\n",
              "      <td>5</td>\n",
              "      <td>0</td>\n",
              "      <td>1</td>\n",
              "      <td>0</td>\n",
              "      <td>NaN</td>\n",
              "      <td>NaN</td>\n",
              "      <td>Tsuyoshi Kohsaka</td>\n",
              "      <td>Pete Williams</td>\n",
              "      <td>7</td>\n",
              "      <td>6</td>\n",
              "      <td>4</td>\n",
              "      <td>7</td>\n",
              "      <td>3</td>\n",
              "      <td>0</td>\n",
              "      <td>11</td>\n",
              "      <td>12</td>\n",
              "      <td>0</td>\n",
              "      <td>1</td>\n",
              "      <td>3</td>\n",
              "      <td>0</td>\n",
              "      <td>0</td>\n",
              "      <td>U-DEC</td>\n",
              "    </tr>\n",
              "  </tbody>\n",
              "</table>\n",
              "<p>2685 rows × 34 columns</p>\n",
              "</div>"
            ],
            "text/plain": [
              "      Fighter 0 KD  Fighter 1 KD  ...  Winner  Method\n",
              "0                0             0  ...       0   U-DEC\n",
              "1                0             0  ...       0   U-DEC\n",
              "2                0             0  ...       1   U-DEC\n",
              "3                0             1  ...       0   S-DEC\n",
              "4                0             0  ...       0   S-DEC\n",
              "...            ...           ...  ...     ...     ...\n",
              "5880             0             0  ...       0   U-DEC\n",
              "5881             0             0  ...       0   S-DEC\n",
              "5883             1             0  ...       0   U-DEC\n",
              "5889             0             0  ...       0   S-DEC\n",
              "5890             0             0  ...       0   U-DEC\n",
              "\n",
              "[2685 rows x 34 columns]"
            ]
          },
          "metadata": {
            "tags": []
          },
          "execution_count": 4
        }
      ]
    },
    {
      "cell_type": "code",
      "metadata": {
        "id": "SivCNBMTOSRZ"
      },
      "source": [
        "X = STORED_FIGHT_TABLE.drop(['Winner', 'Fighter 0 Name', 'Fighter 1 Name', 'Method'], axis=1).fillna(0)\n",
        "y = STORED_FIGHT_TABLE[['Winner']]"
      ],
      "execution_count": 5,
      "outputs": []
    },
    {
      "cell_type": "code",
      "metadata": {
        "colab": {
          "base_uri": "https://localhost:8080/",
          "height": 455
        },
        "id": "ePWHHGDiOSRZ",
        "outputId": "c211382d-fdd4-498c-eaef-449702015273"
      },
      "source": [
        "X"
      ],
      "execution_count": 6,
      "outputs": [
        {
          "output_type": "execute_result",
          "data": {
            "text/html": [
              "<div>\n",
              "<style scoped>\n",
              "    .dataframe tbody tr th:only-of-type {\n",
              "        vertical-align: middle;\n",
              "    }\n",
              "\n",
              "    .dataframe tbody tr th {\n",
              "        vertical-align: top;\n",
              "    }\n",
              "\n",
              "    .dataframe thead th {\n",
              "        text-align: right;\n",
              "    }\n",
              "</style>\n",
              "<table border=\"1\" class=\"dataframe\">\n",
              "  <thead>\n",
              "    <tr style=\"text-align: right;\">\n",
              "      <th></th>\n",
              "      <th>Fighter 0 KD</th>\n",
              "      <th>Fighter 1 KD</th>\n",
              "      <th>Fighter 0 Sig. str.</th>\n",
              "      <th>Fighter 1 Sig. str.</th>\n",
              "      <th>Fighter 0 Sig. str. %</th>\n",
              "      <th>Fighter 1 Sig. str. %</th>\n",
              "      <th>Fighter 0 Total str.</th>\n",
              "      <th>Fighter 1 Total str.</th>\n",
              "      <th>Fighter 0 Td</th>\n",
              "      <th>Fighter 1 Td</th>\n",
              "      <th>Fighter 0 Td %</th>\n",
              "      <th>Fighter 1 Td %</th>\n",
              "      <th>Fighter 0 Sub. att</th>\n",
              "      <th>Fighter 1 Sub. att</th>\n",
              "      <th>Fighter 0 Rev.</th>\n",
              "      <th>Fighter 1 Rev.</th>\n",
              "      <th>Fighter 0 Ctrl</th>\n",
              "      <th>Fighter 1 Ctrl</th>\n",
              "      <th>Fighter 0 Head</th>\n",
              "      <th>Fighter 1 Head</th>\n",
              "      <th>Fighter 0 Body</th>\n",
              "      <th>Fighter 1 Body</th>\n",
              "      <th>Fighter 0 Leg</th>\n",
              "      <th>Fighter 1 Leg</th>\n",
              "      <th>Fighter 0 Distance</th>\n",
              "      <th>Fighter 1 Distance</th>\n",
              "      <th>Fighter 0 Clinch</th>\n",
              "      <th>Fighter 1 Clinch</th>\n",
              "      <th>Fighter 0 Ground</th>\n",
              "      <th>Fighter 1 Ground</th>\n",
              "    </tr>\n",
              "  </thead>\n",
              "  <tbody>\n",
              "    <tr>\n",
              "      <th>0</th>\n",
              "      <td>0</td>\n",
              "      <td>0</td>\n",
              "      <td>150</td>\n",
              "      <td>62</td>\n",
              "      <td>52.0</td>\n",
              "      <td>29.0</td>\n",
              "      <td>169</td>\n",
              "      <td>70</td>\n",
              "      <td>4</td>\n",
              "      <td>1</td>\n",
              "      <td>57.0</td>\n",
              "      <td>20.0</td>\n",
              "      <td>0</td>\n",
              "      <td>0</td>\n",
              "      <td>0</td>\n",
              "      <td>0</td>\n",
              "      <td>259.0</td>\n",
              "      <td>26.0</td>\n",
              "      <td>115</td>\n",
              "      <td>42</td>\n",
              "      <td>13</td>\n",
              "      <td>7</td>\n",
              "      <td>22</td>\n",
              "      <td>13</td>\n",
              "      <td>138</td>\n",
              "      <td>59</td>\n",
              "      <td>5</td>\n",
              "      <td>3</td>\n",
              "      <td>7</td>\n",
              "      <td>0</td>\n",
              "    </tr>\n",
              "    <tr>\n",
              "      <th>1</th>\n",
              "      <td>0</td>\n",
              "      <td>0</td>\n",
              "      <td>105</td>\n",
              "      <td>88</td>\n",
              "      <td>47.0</td>\n",
              "      <td>45.0</td>\n",
              "      <td>109</td>\n",
              "      <td>99</td>\n",
              "      <td>0</td>\n",
              "      <td>0</td>\n",
              "      <td>0.0</td>\n",
              "      <td>0.0</td>\n",
              "      <td>0</td>\n",
              "      <td>0</td>\n",
              "      <td>0</td>\n",
              "      <td>0</td>\n",
              "      <td>39.0</td>\n",
              "      <td>0.0</td>\n",
              "      <td>54</td>\n",
              "      <td>55</td>\n",
              "      <td>26</td>\n",
              "      <td>16</td>\n",
              "      <td>25</td>\n",
              "      <td>17</td>\n",
              "      <td>103</td>\n",
              "      <td>84</td>\n",
              "      <td>2</td>\n",
              "      <td>4</td>\n",
              "      <td>0</td>\n",
              "      <td>0</td>\n",
              "    </tr>\n",
              "    <tr>\n",
              "      <th>2</th>\n",
              "      <td>0</td>\n",
              "      <td>0</td>\n",
              "      <td>21</td>\n",
              "      <td>27</td>\n",
              "      <td>44.0</td>\n",
              "      <td>49.0</td>\n",
              "      <td>32</td>\n",
              "      <td>91</td>\n",
              "      <td>0</td>\n",
              "      <td>8</td>\n",
              "      <td>0.0</td>\n",
              "      <td>33.0</td>\n",
              "      <td>0</td>\n",
              "      <td>2</td>\n",
              "      <td>0</td>\n",
              "      <td>0</td>\n",
              "      <td>2.0</td>\n",
              "      <td>701.0</td>\n",
              "      <td>11</td>\n",
              "      <td>24</td>\n",
              "      <td>9</td>\n",
              "      <td>2</td>\n",
              "      <td>1</td>\n",
              "      <td>1</td>\n",
              "      <td>14</td>\n",
              "      <td>18</td>\n",
              "      <td>5</td>\n",
              "      <td>3</td>\n",
              "      <td>2</td>\n",
              "      <td>6</td>\n",
              "    </tr>\n",
              "    <tr>\n",
              "      <th>3</th>\n",
              "      <td>0</td>\n",
              "      <td>1</td>\n",
              "      <td>66</td>\n",
              "      <td>55</td>\n",
              "      <td>58.0</td>\n",
              "      <td>46.0</td>\n",
              "      <td>84</td>\n",
              "      <td>72</td>\n",
              "      <td>3</td>\n",
              "      <td>0</td>\n",
              "      <td>60.0</td>\n",
              "      <td>0.0</td>\n",
              "      <td>1</td>\n",
              "      <td>0</td>\n",
              "      <td>0</td>\n",
              "      <td>0</td>\n",
              "      <td>386.0</td>\n",
              "      <td>38.0</td>\n",
              "      <td>40</td>\n",
              "      <td>30</td>\n",
              "      <td>19</td>\n",
              "      <td>8</td>\n",
              "      <td>7</td>\n",
              "      <td>17</td>\n",
              "      <td>39</td>\n",
              "      <td>50</td>\n",
              "      <td>7</td>\n",
              "      <td>4</td>\n",
              "      <td>20</td>\n",
              "      <td>1</td>\n",
              "    </tr>\n",
              "    <tr>\n",
              "      <th>4</th>\n",
              "      <td>0</td>\n",
              "      <td>0</td>\n",
              "      <td>90</td>\n",
              "      <td>80</td>\n",
              "      <td>46.0</td>\n",
              "      <td>47.0</td>\n",
              "      <td>90</td>\n",
              "      <td>82</td>\n",
              "      <td>0</td>\n",
              "      <td>4</td>\n",
              "      <td>0.0</td>\n",
              "      <td>44.0</td>\n",
              "      <td>0</td>\n",
              "      <td>0</td>\n",
              "      <td>0</td>\n",
              "      <td>0</td>\n",
              "      <td>3.0</td>\n",
              "      <td>141.0</td>\n",
              "      <td>74</td>\n",
              "      <td>40</td>\n",
              "      <td>12</td>\n",
              "      <td>20</td>\n",
              "      <td>4</td>\n",
              "      <td>20</td>\n",
              "      <td>88</td>\n",
              "      <td>77</td>\n",
              "      <td>2</td>\n",
              "      <td>3</td>\n",
              "      <td>0</td>\n",
              "      <td>0</td>\n",
              "    </tr>\n",
              "    <tr>\n",
              "      <th>...</th>\n",
              "      <td>...</td>\n",
              "      <td>...</td>\n",
              "      <td>...</td>\n",
              "      <td>...</td>\n",
              "      <td>...</td>\n",
              "      <td>...</td>\n",
              "      <td>...</td>\n",
              "      <td>...</td>\n",
              "      <td>...</td>\n",
              "      <td>...</td>\n",
              "      <td>...</td>\n",
              "      <td>...</td>\n",
              "      <td>...</td>\n",
              "      <td>...</td>\n",
              "      <td>...</td>\n",
              "      <td>...</td>\n",
              "      <td>...</td>\n",
              "      <td>...</td>\n",
              "      <td>...</td>\n",
              "      <td>...</td>\n",
              "      <td>...</td>\n",
              "      <td>...</td>\n",
              "      <td>...</td>\n",
              "      <td>...</td>\n",
              "      <td>...</td>\n",
              "      <td>...</td>\n",
              "      <td>...</td>\n",
              "      <td>...</td>\n",
              "      <td>...</td>\n",
              "      <td>...</td>\n",
              "    </tr>\n",
              "    <tr>\n",
              "      <th>5880</th>\n",
              "      <td>0</td>\n",
              "      <td>0</td>\n",
              "      <td>27</td>\n",
              "      <td>19</td>\n",
              "      <td>38.0</td>\n",
              "      <td>21.0</td>\n",
              "      <td>71</td>\n",
              "      <td>21</td>\n",
              "      <td>3</td>\n",
              "      <td>1</td>\n",
              "      <td>100.0</td>\n",
              "      <td>16.0</td>\n",
              "      <td>0</td>\n",
              "      <td>1</td>\n",
              "      <td>0</td>\n",
              "      <td>0</td>\n",
              "      <td>0.0</td>\n",
              "      <td>0.0</td>\n",
              "      <td>9</td>\n",
              "      <td>5</td>\n",
              "      <td>4</td>\n",
              "      <td>1</td>\n",
              "      <td>14</td>\n",
              "      <td>13</td>\n",
              "      <td>20</td>\n",
              "      <td>16</td>\n",
              "      <td>2</td>\n",
              "      <td>2</td>\n",
              "      <td>5</td>\n",
              "      <td>1</td>\n",
              "    </tr>\n",
              "    <tr>\n",
              "      <th>5881</th>\n",
              "      <td>0</td>\n",
              "      <td>0</td>\n",
              "      <td>16</td>\n",
              "      <td>25</td>\n",
              "      <td>55.0</td>\n",
              "      <td>47.0</td>\n",
              "      <td>29</td>\n",
              "      <td>58</td>\n",
              "      <td>0</td>\n",
              "      <td>2</td>\n",
              "      <td>0.0</td>\n",
              "      <td>33.0</td>\n",
              "      <td>0</td>\n",
              "      <td>0</td>\n",
              "      <td>0</td>\n",
              "      <td>0</td>\n",
              "      <td>0.0</td>\n",
              "      <td>0.0</td>\n",
              "      <td>9</td>\n",
              "      <td>23</td>\n",
              "      <td>0</td>\n",
              "      <td>0</td>\n",
              "      <td>7</td>\n",
              "      <td>2</td>\n",
              "      <td>15</td>\n",
              "      <td>7</td>\n",
              "      <td>1</td>\n",
              "      <td>0</td>\n",
              "      <td>0</td>\n",
              "      <td>18</td>\n",
              "    </tr>\n",
              "    <tr>\n",
              "      <th>5883</th>\n",
              "      <td>1</td>\n",
              "      <td>0</td>\n",
              "      <td>42</td>\n",
              "      <td>34</td>\n",
              "      <td>31.0</td>\n",
              "      <td>53.0</td>\n",
              "      <td>57</td>\n",
              "      <td>41</td>\n",
              "      <td>0</td>\n",
              "      <td>0</td>\n",
              "      <td>0.0</td>\n",
              "      <td>0.0</td>\n",
              "      <td>1</td>\n",
              "      <td>0</td>\n",
              "      <td>0</td>\n",
              "      <td>0</td>\n",
              "      <td>0.0</td>\n",
              "      <td>0.0</td>\n",
              "      <td>28</td>\n",
              "      <td>7</td>\n",
              "      <td>9</td>\n",
              "      <td>14</td>\n",
              "      <td>5</td>\n",
              "      <td>13</td>\n",
              "      <td>21</td>\n",
              "      <td>20</td>\n",
              "      <td>19</td>\n",
              "      <td>14</td>\n",
              "      <td>2</td>\n",
              "      <td>0</td>\n",
              "    </tr>\n",
              "    <tr>\n",
              "      <th>5889</th>\n",
              "      <td>0</td>\n",
              "      <td>0</td>\n",
              "      <td>19</td>\n",
              "      <td>24</td>\n",
              "      <td>55.0</td>\n",
              "      <td>55.0</td>\n",
              "      <td>95</td>\n",
              "      <td>145</td>\n",
              "      <td>1</td>\n",
              "      <td>2</td>\n",
              "      <td>11.0</td>\n",
              "      <td>100.0</td>\n",
              "      <td>0</td>\n",
              "      <td>2</td>\n",
              "      <td>0</td>\n",
              "      <td>1</td>\n",
              "      <td>0.0</td>\n",
              "      <td>0.0</td>\n",
              "      <td>2</td>\n",
              "      <td>2</td>\n",
              "      <td>12</td>\n",
              "      <td>20</td>\n",
              "      <td>5</td>\n",
              "      <td>2</td>\n",
              "      <td>4</td>\n",
              "      <td>1</td>\n",
              "      <td>15</td>\n",
              "      <td>23</td>\n",
              "      <td>0</td>\n",
              "      <td>0</td>\n",
              "    </tr>\n",
              "    <tr>\n",
              "      <th>5890</th>\n",
              "      <td>0</td>\n",
              "      <td>0</td>\n",
              "      <td>14</td>\n",
              "      <td>13</td>\n",
              "      <td>35.0</td>\n",
              "      <td>19.0</td>\n",
              "      <td>30</td>\n",
              "      <td>15</td>\n",
              "      <td>3</td>\n",
              "      <td>0</td>\n",
              "      <td>60.0</td>\n",
              "      <td>0.0</td>\n",
              "      <td>5</td>\n",
              "      <td>0</td>\n",
              "      <td>1</td>\n",
              "      <td>0</td>\n",
              "      <td>0.0</td>\n",
              "      <td>0.0</td>\n",
              "      <td>7</td>\n",
              "      <td>6</td>\n",
              "      <td>4</td>\n",
              "      <td>7</td>\n",
              "      <td>3</td>\n",
              "      <td>0</td>\n",
              "      <td>11</td>\n",
              "      <td>12</td>\n",
              "      <td>0</td>\n",
              "      <td>1</td>\n",
              "      <td>3</td>\n",
              "      <td>0</td>\n",
              "    </tr>\n",
              "  </tbody>\n",
              "</table>\n",
              "<p>2685 rows × 30 columns</p>\n",
              "</div>"
            ],
            "text/plain": [
              "      Fighter 0 KD  Fighter 1 KD  ...  Fighter 0 Ground  Fighter 1 Ground\n",
              "0                0             0  ...                 7                 0\n",
              "1                0             0  ...                 0                 0\n",
              "2                0             0  ...                 2                 6\n",
              "3                0             1  ...                20                 1\n",
              "4                0             0  ...                 0                 0\n",
              "...            ...           ...  ...               ...               ...\n",
              "5880             0             0  ...                 5                 1\n",
              "5881             0             0  ...                 0                18\n",
              "5883             1             0  ...                 2                 0\n",
              "5889             0             0  ...                 0                 0\n",
              "5890             0             0  ...                 3                 0\n",
              "\n",
              "[2685 rows x 30 columns]"
            ]
          },
          "metadata": {
            "tags": []
          },
          "execution_count": 6
        }
      ]
    },
    {
      "cell_type": "code",
      "metadata": {
        "colab": {
          "base_uri": "https://localhost:8080/",
          "height": 402
        },
        "id": "-13NNIUoOSRZ",
        "outputId": "83aeddc0-e9ef-447e-aed2-703493cf7b6c"
      },
      "source": [
        "y"
      ],
      "execution_count": 7,
      "outputs": [
        {
          "output_type": "execute_result",
          "data": {
            "text/html": [
              "<div>\n",
              "<style scoped>\n",
              "    .dataframe tbody tr th:only-of-type {\n",
              "        vertical-align: middle;\n",
              "    }\n",
              "\n",
              "    .dataframe tbody tr th {\n",
              "        vertical-align: top;\n",
              "    }\n",
              "\n",
              "    .dataframe thead th {\n",
              "        text-align: right;\n",
              "    }\n",
              "</style>\n",
              "<table border=\"1\" class=\"dataframe\">\n",
              "  <thead>\n",
              "    <tr style=\"text-align: right;\">\n",
              "      <th></th>\n",
              "      <th>Winner</th>\n",
              "    </tr>\n",
              "  </thead>\n",
              "  <tbody>\n",
              "    <tr>\n",
              "      <th>0</th>\n",
              "      <td>0</td>\n",
              "    </tr>\n",
              "    <tr>\n",
              "      <th>1</th>\n",
              "      <td>0</td>\n",
              "    </tr>\n",
              "    <tr>\n",
              "      <th>2</th>\n",
              "      <td>1</td>\n",
              "    </tr>\n",
              "    <tr>\n",
              "      <th>3</th>\n",
              "      <td>0</td>\n",
              "    </tr>\n",
              "    <tr>\n",
              "      <th>4</th>\n",
              "      <td>0</td>\n",
              "    </tr>\n",
              "    <tr>\n",
              "      <th>...</th>\n",
              "      <td>...</td>\n",
              "    </tr>\n",
              "    <tr>\n",
              "      <th>5880</th>\n",
              "      <td>0</td>\n",
              "    </tr>\n",
              "    <tr>\n",
              "      <th>5881</th>\n",
              "      <td>0</td>\n",
              "    </tr>\n",
              "    <tr>\n",
              "      <th>5883</th>\n",
              "      <td>0</td>\n",
              "    </tr>\n",
              "    <tr>\n",
              "      <th>5889</th>\n",
              "      <td>0</td>\n",
              "    </tr>\n",
              "    <tr>\n",
              "      <th>5890</th>\n",
              "      <td>0</td>\n",
              "    </tr>\n",
              "  </tbody>\n",
              "</table>\n",
              "<p>2685 rows × 1 columns</p>\n",
              "</div>"
            ],
            "text/plain": [
              "      Winner\n",
              "0          0\n",
              "1          0\n",
              "2          1\n",
              "3          0\n",
              "4          0\n",
              "...      ...\n",
              "5880       0\n",
              "5881       0\n",
              "5883       0\n",
              "5889       0\n",
              "5890       0\n",
              "\n",
              "[2685 rows x 1 columns]"
            ]
          },
          "metadata": {
            "tags": []
          },
          "execution_count": 7
        }
      ]
    },
    {
      "cell_type": "markdown",
      "metadata": {
        "id": "Jd2Ifk5uOSRa"
      },
      "source": [
        "## Setup train/validate/test split with data augmentation\n",
        "\n",
        "TODO: Add in smarter data augmentation that create new datapoints nearby."
      ]
    },
    {
      "cell_type": "code",
      "metadata": {
        "id": "I6c8hDK7OSRa"
      },
      "source": [
        "def create_flipped_table(table):\n",
        "    '''Rearranges columns of table so that each fight has two rows. Let fighters be A and B.\n",
        "       One row has (Fighter 0 = A, Fighter 1 = B). One row has (Fighter 0 = B, Fighter 1 = A)\n",
        "       Ensure same column order, as column names not looked at when passed to ML model'''\n",
        "\n",
        "    # Get columns in flipped order, which moves the columns around, but changes column name order too\n",
        "    flipped_columns = []\n",
        "    for column in table.columns:\n",
        "        if \"Fighter 0\" in column:\n",
        "            flipped_columns.append(column.replace(\"Fighter 0\", \"Fighter 1\"))\n",
        "        elif \"Fighter 1\" in column:\n",
        "            flipped_columns.append(column.replace(\"Fighter 1\", \"Fighter 0\"))\n",
        "        else:\n",
        "            flipped_columns.append(column)\n",
        "    flipped_table = table[flipped_columns]\n",
        "\n",
        "    # Flips winners around\n",
        "    if 'Winner' in flipped_table.columns:\n",
        "         flipped_table['Winner'] = flipped_table['Winner'].replace([0, 1], [1, 0])\n",
        "\n",
        "    # Change column names back to normal\n",
        "    flipped_table.columns = table.columns\n",
        "    return flipped_table\n",
        "\n",
        "\n",
        "def add_rows_of_flipped_columns(table):\n",
        "    flipped_table = create_flipped_table(table)\n",
        "    new_table = pd.concat([table, flipped_table])\n",
        "    return new_table"
      ],
      "execution_count": 8,
      "outputs": []
    },
    {
      "cell_type": "code",
      "metadata": {
        "id": "0iGtsWJVOSRa"
      },
      "source": [
        "# Train/validate/test split\n",
        "from sklearn.model_selection import train_test_split\n",
        "X_train, X_test, y_train, y_test = train_test_split(X, y, test_size=0.33, random_state=0)\n",
        "X_train, X_valid, y_train, y_valid = train_test_split(X_train, y_train, test_size=0.33, random_state=0)\n",
        "\n",
        "# Add flipped rows so fighter 0 and 1 are treated same\n",
        "X_train, y_train = add_rows_of_flipped_columns(X_train), add_rows_of_flipped_columns(y_train)\n",
        "X_valid, y_valid = add_rows_of_flipped_columns(X_valid), add_rows_of_flipped_columns(y_valid)\n",
        "X_test, y_test = add_rows_of_flipped_columns(X_test), add_rows_of_flipped_columns(y_test)"
      ],
      "execution_count": 9,
      "outputs": []
    },
    {
      "cell_type": "code",
      "metadata": {
        "id": "oRU788hJOSRb"
      },
      "source": [
        "# Expect equal number of examples in Fighter 0 as Fighter 1 from data augmentation\n",
        "assert(len(y_train[y_train['Winner'] == 0]) == len(y_train[y_train['Winner'] == 1]))\n",
        "assert(len(y_valid[y_valid['Winner'] == 0]) == len(y_valid[y_valid['Winner'] == 1]))\n",
        "assert(len(y_test[y_test['Winner'] == 0]) == len(y_test[y_test['Winner'] == 1]))"
      ],
      "execution_count": 10,
      "outputs": []
    },
    {
      "cell_type": "code",
      "metadata": {
        "colab": {
          "base_uri": "https://localhost:8080/",
          "height": 455
        },
        "id": "g208MGkGOSRb",
        "outputId": "8d7f37ae-722e-4285-f255-de544ae009fd"
      },
      "source": [
        "X_train"
      ],
      "execution_count": 11,
      "outputs": [
        {
          "output_type": "execute_result",
          "data": {
            "text/html": [
              "<div>\n",
              "<style scoped>\n",
              "    .dataframe tbody tr th:only-of-type {\n",
              "        vertical-align: middle;\n",
              "    }\n",
              "\n",
              "    .dataframe tbody tr th {\n",
              "        vertical-align: top;\n",
              "    }\n",
              "\n",
              "    .dataframe thead th {\n",
              "        text-align: right;\n",
              "    }\n",
              "</style>\n",
              "<table border=\"1\" class=\"dataframe\">\n",
              "  <thead>\n",
              "    <tr style=\"text-align: right;\">\n",
              "      <th></th>\n",
              "      <th>Fighter 0 KD</th>\n",
              "      <th>Fighter 1 KD</th>\n",
              "      <th>Fighter 0 Sig. str.</th>\n",
              "      <th>Fighter 1 Sig. str.</th>\n",
              "      <th>Fighter 0 Sig. str. %</th>\n",
              "      <th>Fighter 1 Sig. str. %</th>\n",
              "      <th>Fighter 0 Total str.</th>\n",
              "      <th>Fighter 1 Total str.</th>\n",
              "      <th>Fighter 0 Td</th>\n",
              "      <th>Fighter 1 Td</th>\n",
              "      <th>Fighter 0 Td %</th>\n",
              "      <th>Fighter 1 Td %</th>\n",
              "      <th>Fighter 0 Sub. att</th>\n",
              "      <th>Fighter 1 Sub. att</th>\n",
              "      <th>Fighter 0 Rev.</th>\n",
              "      <th>Fighter 1 Rev.</th>\n",
              "      <th>Fighter 0 Ctrl</th>\n",
              "      <th>Fighter 1 Ctrl</th>\n",
              "      <th>Fighter 0 Head</th>\n",
              "      <th>Fighter 1 Head</th>\n",
              "      <th>Fighter 0 Body</th>\n",
              "      <th>Fighter 1 Body</th>\n",
              "      <th>Fighter 0 Leg</th>\n",
              "      <th>Fighter 1 Leg</th>\n",
              "      <th>Fighter 0 Distance</th>\n",
              "      <th>Fighter 1 Distance</th>\n",
              "      <th>Fighter 0 Clinch</th>\n",
              "      <th>Fighter 1 Clinch</th>\n",
              "      <th>Fighter 0 Ground</th>\n",
              "      <th>Fighter 1 Ground</th>\n",
              "    </tr>\n",
              "  </thead>\n",
              "  <tbody>\n",
              "    <tr>\n",
              "      <th>1730</th>\n",
              "      <td>0</td>\n",
              "      <td>0</td>\n",
              "      <td>33</td>\n",
              "      <td>66</td>\n",
              "      <td>33.0</td>\n",
              "      <td>39.0</td>\n",
              "      <td>76</td>\n",
              "      <td>81</td>\n",
              "      <td>1</td>\n",
              "      <td>4</td>\n",
              "      <td>100.0</td>\n",
              "      <td>80.0</td>\n",
              "      <td>0</td>\n",
              "      <td>0</td>\n",
              "      <td>0</td>\n",
              "      <td>0</td>\n",
              "      <td>17.0</td>\n",
              "      <td>169.0</td>\n",
              "      <td>22</td>\n",
              "      <td>33</td>\n",
              "      <td>8</td>\n",
              "      <td>19</td>\n",
              "      <td>3</td>\n",
              "      <td>14</td>\n",
              "      <td>31</td>\n",
              "      <td>53</td>\n",
              "      <td>2</td>\n",
              "      <td>8</td>\n",
              "      <td>0</td>\n",
              "      <td>5</td>\n",
              "    </tr>\n",
              "    <tr>\n",
              "      <th>4671</th>\n",
              "      <td>0</td>\n",
              "      <td>0</td>\n",
              "      <td>28</td>\n",
              "      <td>14</td>\n",
              "      <td>31.0</td>\n",
              "      <td>25.0</td>\n",
              "      <td>83</td>\n",
              "      <td>27</td>\n",
              "      <td>1</td>\n",
              "      <td>3</td>\n",
              "      <td>100.0</td>\n",
              "      <td>60.0</td>\n",
              "      <td>1</td>\n",
              "      <td>1</td>\n",
              "      <td>0</td>\n",
              "      <td>1</td>\n",
              "      <td>27.0</td>\n",
              "      <td>404.0</td>\n",
              "      <td>17</td>\n",
              "      <td>2</td>\n",
              "      <td>8</td>\n",
              "      <td>6</td>\n",
              "      <td>3</td>\n",
              "      <td>6</td>\n",
              "      <td>9</td>\n",
              "      <td>9</td>\n",
              "      <td>15</td>\n",
              "      <td>3</td>\n",
              "      <td>4</td>\n",
              "      <td>2</td>\n",
              "    </tr>\n",
              "    <tr>\n",
              "      <th>2465</th>\n",
              "      <td>0</td>\n",
              "      <td>0</td>\n",
              "      <td>104</td>\n",
              "      <td>27</td>\n",
              "      <td>67.0</td>\n",
              "      <td>37.0</td>\n",
              "      <td>193</td>\n",
              "      <td>32</td>\n",
              "      <td>7</td>\n",
              "      <td>0</td>\n",
              "      <td>63.0</td>\n",
              "      <td>0.0</td>\n",
              "      <td>0</td>\n",
              "      <td>2</td>\n",
              "      <td>0</td>\n",
              "      <td>0</td>\n",
              "      <td>522.0</td>\n",
              "      <td>63.0</td>\n",
              "      <td>73</td>\n",
              "      <td>23</td>\n",
              "      <td>26</td>\n",
              "      <td>4</td>\n",
              "      <td>5</td>\n",
              "      <td>0</td>\n",
              "      <td>24</td>\n",
              "      <td>20</td>\n",
              "      <td>32</td>\n",
              "      <td>5</td>\n",
              "      <td>48</td>\n",
              "      <td>2</td>\n",
              "    </tr>\n",
              "    <tr>\n",
              "      <th>2417</th>\n",
              "      <td>0</td>\n",
              "      <td>0</td>\n",
              "      <td>39</td>\n",
              "      <td>94</td>\n",
              "      <td>34.0</td>\n",
              "      <td>54.0</td>\n",
              "      <td>67</td>\n",
              "      <td>140</td>\n",
              "      <td>4</td>\n",
              "      <td>0</td>\n",
              "      <td>40.0</td>\n",
              "      <td>0.0</td>\n",
              "      <td>0</td>\n",
              "      <td>0</td>\n",
              "      <td>0</td>\n",
              "      <td>0</td>\n",
              "      <td>329.0</td>\n",
              "      <td>37.0</td>\n",
              "      <td>20</td>\n",
              "      <td>82</td>\n",
              "      <td>7</td>\n",
              "      <td>9</td>\n",
              "      <td>12</td>\n",
              "      <td>3</td>\n",
              "      <td>38</td>\n",
              "      <td>94</td>\n",
              "      <td>0</td>\n",
              "      <td>0</td>\n",
              "      <td>1</td>\n",
              "      <td>0</td>\n",
              "    </tr>\n",
              "    <tr>\n",
              "      <th>5204</th>\n",
              "      <td>1</td>\n",
              "      <td>0</td>\n",
              "      <td>26</td>\n",
              "      <td>16</td>\n",
              "      <td>39.0</td>\n",
              "      <td>40.0</td>\n",
              "      <td>79</td>\n",
              "      <td>155</td>\n",
              "      <td>2</td>\n",
              "      <td>1</td>\n",
              "      <td>100.0</td>\n",
              "      <td>50.0</td>\n",
              "      <td>3</td>\n",
              "      <td>0</td>\n",
              "      <td>2</td>\n",
              "      <td>1</td>\n",
              "      <td>648.0</td>\n",
              "      <td>155.0</td>\n",
              "      <td>23</td>\n",
              "      <td>11</td>\n",
              "      <td>3</td>\n",
              "      <td>2</td>\n",
              "      <td>0</td>\n",
              "      <td>3</td>\n",
              "      <td>4</td>\n",
              "      <td>14</td>\n",
              "      <td>2</td>\n",
              "      <td>1</td>\n",
              "      <td>20</td>\n",
              "      <td>1</td>\n",
              "    </tr>\n",
              "    <tr>\n",
              "      <th>...</th>\n",
              "      <td>...</td>\n",
              "      <td>...</td>\n",
              "      <td>...</td>\n",
              "      <td>...</td>\n",
              "      <td>...</td>\n",
              "      <td>...</td>\n",
              "      <td>...</td>\n",
              "      <td>...</td>\n",
              "      <td>...</td>\n",
              "      <td>...</td>\n",
              "      <td>...</td>\n",
              "      <td>...</td>\n",
              "      <td>...</td>\n",
              "      <td>...</td>\n",
              "      <td>...</td>\n",
              "      <td>...</td>\n",
              "      <td>...</td>\n",
              "      <td>...</td>\n",
              "      <td>...</td>\n",
              "      <td>...</td>\n",
              "      <td>...</td>\n",
              "      <td>...</td>\n",
              "      <td>...</td>\n",
              "      <td>...</td>\n",
              "      <td>...</td>\n",
              "      <td>...</td>\n",
              "      <td>...</td>\n",
              "      <td>...</td>\n",
              "      <td>...</td>\n",
              "      <td>...</td>\n",
              "    </tr>\n",
              "    <tr>\n",
              "      <th>2949</th>\n",
              "      <td>0</td>\n",
              "      <td>0</td>\n",
              "      <td>87</td>\n",
              "      <td>87</td>\n",
              "      <td>34.0</td>\n",
              "      <td>41.0</td>\n",
              "      <td>87</td>\n",
              "      <td>98</td>\n",
              "      <td>0</td>\n",
              "      <td>0</td>\n",
              "      <td>0.0</td>\n",
              "      <td>0.0</td>\n",
              "      <td>0</td>\n",
              "      <td>0</td>\n",
              "      <td>0</td>\n",
              "      <td>0</td>\n",
              "      <td>24.0</td>\n",
              "      <td>102.0</td>\n",
              "      <td>60</td>\n",
              "      <td>58</td>\n",
              "      <td>16</td>\n",
              "      <td>14</td>\n",
              "      <td>11</td>\n",
              "      <td>15</td>\n",
              "      <td>80</td>\n",
              "      <td>84</td>\n",
              "      <td>7</td>\n",
              "      <td>3</td>\n",
              "      <td>0</td>\n",
              "      <td>0</td>\n",
              "    </tr>\n",
              "    <tr>\n",
              "      <th>2849</th>\n",
              "      <td>0</td>\n",
              "      <td>0</td>\n",
              "      <td>42</td>\n",
              "      <td>35</td>\n",
              "      <td>43.0</td>\n",
              "      <td>49.0</td>\n",
              "      <td>98</td>\n",
              "      <td>43</td>\n",
              "      <td>1</td>\n",
              "      <td>9</td>\n",
              "      <td>50.0</td>\n",
              "      <td>56.0</td>\n",
              "      <td>0</td>\n",
              "      <td>0</td>\n",
              "      <td>0</td>\n",
              "      <td>0</td>\n",
              "      <td>5.0</td>\n",
              "      <td>475.0</td>\n",
              "      <td>27</td>\n",
              "      <td>30</td>\n",
              "      <td>14</td>\n",
              "      <td>4</td>\n",
              "      <td>1</td>\n",
              "      <td>1</td>\n",
              "      <td>20</td>\n",
              "      <td>18</td>\n",
              "      <td>20</td>\n",
              "      <td>5</td>\n",
              "      <td>2</td>\n",
              "      <td>12</td>\n",
              "    </tr>\n",
              "    <tr>\n",
              "      <th>2057</th>\n",
              "      <td>0</td>\n",
              "      <td>0</td>\n",
              "      <td>50</td>\n",
              "      <td>18</td>\n",
              "      <td>54.0</td>\n",
              "      <td>50.0</td>\n",
              "      <td>96</td>\n",
              "      <td>52</td>\n",
              "      <td>1</td>\n",
              "      <td>6</td>\n",
              "      <td>100.0</td>\n",
              "      <td>85.0</td>\n",
              "      <td>2</td>\n",
              "      <td>0</td>\n",
              "      <td>0</td>\n",
              "      <td>0</td>\n",
              "      <td>1.0</td>\n",
              "      <td>600.0</td>\n",
              "      <td>27</td>\n",
              "      <td>10</td>\n",
              "      <td>16</td>\n",
              "      <td>1</td>\n",
              "      <td>7</td>\n",
              "      <td>7</td>\n",
              "      <td>31</td>\n",
              "      <td>9</td>\n",
              "      <td>1</td>\n",
              "      <td>1</td>\n",
              "      <td>18</td>\n",
              "      <td>8</td>\n",
              "    </tr>\n",
              "    <tr>\n",
              "      <th>26</th>\n",
              "      <td>0</td>\n",
              "      <td>0</td>\n",
              "      <td>71</td>\n",
              "      <td>27</td>\n",
              "      <td>47.0</td>\n",
              "      <td>39.0</td>\n",
              "      <td>131</td>\n",
              "      <td>32</td>\n",
              "      <td>3</td>\n",
              "      <td>2</td>\n",
              "      <td>75.0</td>\n",
              "      <td>50.0</td>\n",
              "      <td>0</td>\n",
              "      <td>1</td>\n",
              "      <td>1</td>\n",
              "      <td>1</td>\n",
              "      <td>280.0</td>\n",
              "      <td>209.0</td>\n",
              "      <td>54</td>\n",
              "      <td>16</td>\n",
              "      <td>14</td>\n",
              "      <td>10</td>\n",
              "      <td>3</td>\n",
              "      <td>1</td>\n",
              "      <td>48</td>\n",
              "      <td>26</td>\n",
              "      <td>4</td>\n",
              "      <td>1</td>\n",
              "      <td>19</td>\n",
              "      <td>0</td>\n",
              "    </tr>\n",
              "    <tr>\n",
              "      <th>974</th>\n",
              "      <td>0</td>\n",
              "      <td>0</td>\n",
              "      <td>13</td>\n",
              "      <td>14</td>\n",
              "      <td>30.0</td>\n",
              "      <td>70.0</td>\n",
              "      <td>60</td>\n",
              "      <td>47</td>\n",
              "      <td>1</td>\n",
              "      <td>4</td>\n",
              "      <td>8.0</td>\n",
              "      <td>44.0</td>\n",
              "      <td>0</td>\n",
              "      <td>0</td>\n",
              "      <td>0</td>\n",
              "      <td>0</td>\n",
              "      <td>107.0</td>\n",
              "      <td>366.0</td>\n",
              "      <td>5</td>\n",
              "      <td>7</td>\n",
              "      <td>7</td>\n",
              "      <td>6</td>\n",
              "      <td>1</td>\n",
              "      <td>1</td>\n",
              "      <td>6</td>\n",
              "      <td>4</td>\n",
              "      <td>7</td>\n",
              "      <td>8</td>\n",
              "      <td>0</td>\n",
              "      <td>2</td>\n",
              "    </tr>\n",
              "  </tbody>\n",
              "</table>\n",
              "<p>2408 rows × 30 columns</p>\n",
              "</div>"
            ],
            "text/plain": [
              "      Fighter 0 KD  Fighter 1 KD  ...  Fighter 0 Ground  Fighter 1 Ground\n",
              "1730             0             0  ...                 0                 5\n",
              "4671             0             0  ...                 4                 2\n",
              "2465             0             0  ...                48                 2\n",
              "2417             0             0  ...                 1                 0\n",
              "5204             1             0  ...                20                 1\n",
              "...            ...           ...  ...               ...               ...\n",
              "2949             0             0  ...                 0                 0\n",
              "2849             0             0  ...                 2                12\n",
              "2057             0             0  ...                18                 8\n",
              "26               0             0  ...                19                 0\n",
              "974              0             0  ...                 0                 2\n",
              "\n",
              "[2408 rows x 30 columns]"
            ]
          },
          "metadata": {
            "tags": []
          },
          "execution_count": 11
        }
      ]
    },
    {
      "cell_type": "code",
      "metadata": {
        "colab": {
          "base_uri": "https://localhost:8080/",
          "height": 402
        },
        "id": "wojL_I-7OSRb",
        "outputId": "ab800758-1a0d-40fc-dde0-5ed1820d6b39"
      },
      "source": [
        "y_train"
      ],
      "execution_count": 12,
      "outputs": [
        {
          "output_type": "execute_result",
          "data": {
            "text/html": [
              "<div>\n",
              "<style scoped>\n",
              "    .dataframe tbody tr th:only-of-type {\n",
              "        vertical-align: middle;\n",
              "    }\n",
              "\n",
              "    .dataframe tbody tr th {\n",
              "        vertical-align: top;\n",
              "    }\n",
              "\n",
              "    .dataframe thead th {\n",
              "        text-align: right;\n",
              "    }\n",
              "</style>\n",
              "<table border=\"1\" class=\"dataframe\">\n",
              "  <thead>\n",
              "    <tr style=\"text-align: right;\">\n",
              "      <th></th>\n",
              "      <th>Winner</th>\n",
              "    </tr>\n",
              "  </thead>\n",
              "  <tbody>\n",
              "    <tr>\n",
              "      <th>1730</th>\n",
              "      <td>1</td>\n",
              "    </tr>\n",
              "    <tr>\n",
              "      <th>4671</th>\n",
              "      <td>0</td>\n",
              "    </tr>\n",
              "    <tr>\n",
              "      <th>2465</th>\n",
              "      <td>0</td>\n",
              "    </tr>\n",
              "    <tr>\n",
              "      <th>2417</th>\n",
              "      <td>1</td>\n",
              "    </tr>\n",
              "    <tr>\n",
              "      <th>5204</th>\n",
              "      <td>0</td>\n",
              "    </tr>\n",
              "    <tr>\n",
              "      <th>...</th>\n",
              "      <td>...</td>\n",
              "    </tr>\n",
              "    <tr>\n",
              "      <th>2949</th>\n",
              "      <td>0</td>\n",
              "    </tr>\n",
              "    <tr>\n",
              "      <th>2849</th>\n",
              "      <td>1</td>\n",
              "    </tr>\n",
              "    <tr>\n",
              "      <th>2057</th>\n",
              "      <td>0</td>\n",
              "    </tr>\n",
              "    <tr>\n",
              "      <th>26</th>\n",
              "      <td>0</td>\n",
              "    </tr>\n",
              "    <tr>\n",
              "      <th>974</th>\n",
              "      <td>1</td>\n",
              "    </tr>\n",
              "  </tbody>\n",
              "</table>\n",
              "<p>2408 rows × 1 columns</p>\n",
              "</div>"
            ],
            "text/plain": [
              "      Winner\n",
              "1730       1\n",
              "4671       0\n",
              "2465       0\n",
              "2417       1\n",
              "5204       0\n",
              "...      ...\n",
              "2949       0\n",
              "2849       1\n",
              "2057       0\n",
              "26         0\n",
              "974        1\n",
              "\n",
              "[2408 rows x 1 columns]"
            ]
          },
          "metadata": {
            "tags": []
          },
          "execution_count": 12
        }
      ]
    },
    {
      "cell_type": "code",
      "metadata": {
        "colab": {
          "base_uri": "https://localhost:8080/"
        },
        "id": "DndW0X9aOSRc",
        "outputId": "2ee4f6d8-e3a0-4dfa-8b49-c81b511307ab"
      },
      "source": [
        "print(f\"X_train.shape = {X_train.shape}\")\n",
        "print(f\"X_valid.shape = {X_valid.shape}\")\n",
        "print(f\"X_test.shape = {X_test.shape}\")\n",
        "print(f\"y_train.shape = {y_train.shape}\")\n",
        "print(f\"y_valid.shape = {y_valid.shape}\")\n",
        "print(f\"y_test.shape = {y_test.shape}\")"
      ],
      "execution_count": 13,
      "outputs": [
        {
          "output_type": "stream",
          "text": [
            "X_train.shape = (2408, 30)\n",
            "X_valid.shape = (1188, 30)\n",
            "X_test.shape = (1774, 30)\n",
            "y_train.shape = (2408, 1)\n",
            "y_valid.shape = (1188, 1)\n",
            "y_test.shape = (1774, 1)\n"
          ],
          "name": "stdout"
        }
      ]
    },
    {
      "cell_type": "markdown",
      "metadata": {
        "id": "xNEsuXzFOSRf"
      },
      "source": [
        "### Standardize features and break into fighter 0 and 1"
      ]
    },
    {
      "cell_type": "code",
      "metadata": {
        "id": "sKWmgHtTdXLr"
      },
      "source": [
        "fighter0_columns = [col for col in X_train.columns if \"Fighter 0\" in col]\n",
        "fighter1_columns = [col for col in X_train.columns if \"Fighter 1\" in col]\n",
        "\n",
        "X0_train = X_train[fighter0_columns]\n",
        "X1_train = X_train[fighter1_columns]\n",
        "X0_valid = X_valid[fighter0_columns]\n",
        "X1_valid = X_valid[fighter1_columns]\n",
        "X0_test = X_test[fighter0_columns]\n",
        "X1_test = X_test[fighter1_columns]\n",
        "\n",
        "X_train_new = pd.concat([X0_train, X1_train], axis=1)\n",
        "X_valid_new = pd.concat([X0_valid, X1_valid], axis=1) \n",
        "X_test_new = pd.concat([X0_test, X1_test], axis=1)\n",
        "\n",
        "means, stds = X_train_new.mean(), X_train_new.std()\n",
        "X_train_new_normal = (X_train_new - means) / stds\n",
        "X_valid_new_normal = (X_valid_new - means) / stds\n",
        "X_test_new_normal = (X_test_new - means) / stds"
      ],
      "execution_count": 14,
      "outputs": []
    },
    {
      "cell_type": "code",
      "metadata": {
        "colab": {
          "base_uri": "https://localhost:8080/"
        },
        "id": "x3836SoTgnx8",
        "outputId": "3f2daefc-9add-4897-98c3-79640a9f101d"
      },
      "source": [
        "# Add data augmentation only on training data (can try SMOTE, gaussian noise, etc)\n",
        "extra_train_copies = 10\n",
        "mu, sigma = 0, 0.1\n",
        "noisy_copies = [X_train_new_normal + np.random.normal(mu, sigma, X_train_new_normal.shape) for _ in range(extra_train_copies)]\n",
        "print(f\"X_train_new_normal.shape = {X_train_new_normal.shape}\")\n",
        "print(f\"y_train.shape = {y_train.shape}\")\n",
        "X_train_new_normal_aug = pd.concat([X_train_new_normal] + noisy_copies, axis=0)\n",
        "y_train_aug = pd.concat([y_train] + [y_train] * extra_train_copies, axis=0)\n",
        "print(f\"X_train_new_normal_aug.shape = {X_train_new_normal_aug.shape}\")\n",
        "print(f\"y_train_aug.shape = {y_train_aug.shape}\")"
      ],
      "execution_count": 15,
      "outputs": [
        {
          "output_type": "stream",
          "text": [
            "X_train_new_normal.shape = (2408, 30)\n",
            "y_train.shape = (2408, 1)\n",
            "X_train_new_normal_aug.shape = (26488, 30)\n",
            "y_train_aug.shape = (26488, 1)\n"
          ],
          "name": "stdout"
        }
      ]
    },
    {
      "cell_type": "markdown",
      "metadata": {
        "id": "f-sFWdcdiDD1"
      },
      "source": [
        "## Define inputs to future training"
      ]
    },
    {
      "cell_type": "code",
      "metadata": {
        "id": "UlvV28UhiAtC"
      },
      "source": [
        "# X_train, y_train = X_train_new_normal_aug, y_train_aug\n",
        "X_train = X_train_new_normal\n",
        "X_valid = X_valid_new_normal"
      ],
      "execution_count": 89,
      "outputs": []
    },
    {
      "cell_type": "markdown",
      "metadata": {
        "id": "stOorO7tOSRc"
      },
      "source": [
        "## Train and test ML models\n",
        "\n",
        "TODO: Play around with PyTorch, add in data augmentation like SMOTE, see if normalizing, standardizing, extracting difference features helps. Must be done for deep models. Try out PCA or MDS to visualize."
      ]
    },
    {
      "cell_type": "markdown",
      "metadata": {
        "id": "asxsbETjkIrk"
      },
      "source": [
        "### PCA"
      ]
    },
    {
      "cell_type": "code",
      "metadata": {
        "colab": {
          "base_uri": "https://localhost:8080/",
          "height": 326
        },
        "id": "fESHfkdUkIWm",
        "outputId": "a25fb340-9203-4b34-9fa8-1ef8e5930b68"
      },
      "source": [
        "from sklearn.decomposition import PCA\n",
        "\n",
        "# Fit PCA\n",
        "pca = PCA(n_components=2)\n",
        "Z_train = pca.fit_transform(X_train)\n",
        "print(f\"pca.explained_variance_ratio_ = {pca.explained_variance_ratio_}\")\n",
        "\n",
        "# Plot\n",
        "color_dict = {0: 'red', 1: 'blue'}\n",
        "for label in np.unique(y_train):\n",
        "    ix = np.where(y_train == label)\n",
        "    plt.scatter(Z_train[ix, 0], Z_train[ix, 1], c = color_dict[label], label = label, s = 100)\n",
        "plt.legend()\n",
        "plt.title(\"PCA\")\n",
        "plt.xlabel(\"Component 0\")\n",
        "plt.ylabel(\"Component 1\")"
      ],
      "execution_count": 53,
      "outputs": [
        {
          "output_type": "stream",
          "text": [
            "pca.explained_variance_ratio_ = [0.22014401 0.1460742 ]\n"
          ],
          "name": "stdout"
        },
        {
          "output_type": "execute_result",
          "data": {
            "text/plain": [
              "Text(0, 0.5, 'Component 1')"
            ]
          },
          "metadata": {
            "tags": []
          },
          "execution_count": 53
        },
        {
          "output_type": "display_data",
          "data": {
            "image/png": "[encoded data removed]",
            "text/plain": [
              "<Figure size 432x288 with 1 Axes>"
            ]
          },
          "metadata": {
            "tags": [],
            "needs_background": "light"
          }
        }
      ]
    },
    {
      "cell_type": "code",
      "metadata": {
        "colab": {
          "base_uri": "https://localhost:8080/",
          "height": 296
        },
        "id": "Jw6qNhormm4a",
        "outputId": "83df8419-9d0a-4b6f-e39b-8cbe890c7b1f"
      },
      "source": [
        "# Understand basis\n",
        "component0 = pca.components_[0, :]\n",
        "import matplotlib.pyplot as plt\n",
        "plt.rcParams.update({'font.size': 8})\n",
        "plt.barh(X_train.columns, component0)\n",
        "plt.title(\"Component 0\")"
      ],
      "execution_count": 54,
      "outputs": [
        {
          "output_type": "execute_result",
          "data": {
            "text/plain": [
              "Text(0.5, 1.0, 'Component 0')"
            ]
          },
          "metadata": {
            "tags": []
          },
          "execution_count": 54
        },
        {
          "output_type": "display_data",
          "data": {
            "image/png": "[encoded data removed]",
            "text/plain": [
              "<Figure size 432x288 with 1 Axes>"
            ]
          },
          "metadata": {
            "tags": [],
            "needs_background": "light"
          }
        }
      ]
    },
    {
      "cell_type": "code",
      "metadata": {
        "colab": {
          "base_uri": "https://localhost:8080/",
          "height": 296
        },
        "id": "4CXfHZnzmoZw",
        "outputId": "4a5da31d-ca4a-4152-dc3e-d93eade2f87d"
      },
      "source": [
        "# Understand basis\n",
        "component1 = pca.components_[1, :]\n",
        "import matplotlib.pyplot as plt\n",
        "plt.rcParams.update({'font.size': 8})\n",
        "plt.barh(X_train.columns, component1)\n",
        "plt.title(\"Component 1\")"
      ],
      "execution_count": 55,
      "outputs": [
        {
          "output_type": "execute_result",
          "data": {
            "text/plain": [
              "Text(0.5, 1.0, 'Component 1')"
            ]
          },
          "metadata": {
            "tags": []
          },
          "execution_count": 55
        },
        {
          "output_type": "display_data",
          "data": {
            "image/png": "[encoded data removed]",
            "text/plain": [
              "<Figure size 432x288 with 1 Axes>"
            ]
          },
          "metadata": {
            "tags": [],
            "needs_background": "light"
          }
        }
      ]
    },
    {
      "cell_type": "markdown",
      "metadata": {
        "id": "nwHwpx3JnZEX"
      },
      "source": [
        "### Sparse PCA"
      ]
    },
    {
      "cell_type": "code",
      "metadata": {
        "colab": {
          "base_uri": "https://localhost:8080/",
          "height": 309
        },
        "id": "2chZbqHxndt_",
        "outputId": "65569fd2-f698-41cf-dba2-c59ffc3cb6fe"
      },
      "source": [
        "from sklearn.decomposition import SparsePCA\n",
        "\n",
        "# Fit SparsePCA\n",
        "sparse_pca = SparsePCA(n_components=2)\n",
        "Z_train = sparse_pca.fit_transform(X_train)\n",
        "\n",
        "# Plot\n",
        "color_dict = {0: 'red', 1: 'blue'}\n",
        "for label in np.unique(y_train):\n",
        "    ix = np.where(y_train == label)\n",
        "    plt.scatter(Z_train[ix, 0], Z_train[ix, 1], c = color_dict[label], label = label, s = 100)\n",
        "plt.legend()\n",
        "plt.title(\"Sparse PCA\")\n",
        "plt.xlabel(\"Component 0\")\n",
        "plt.ylabel(\"Component 1\")"
      ],
      "execution_count": 56,
      "outputs": [
        {
          "output_type": "execute_result",
          "data": {
            "text/plain": [
              "Text(0, 0.5, 'Component 1')"
            ]
          },
          "metadata": {
            "tags": []
          },
          "execution_count": 56
        },
        {
          "output_type": "display_data",
          "data": {
            "image/png": "[encoded data removed]",
            "text/plain": [
              "<Figure size 432x288 with 1 Axes>"
            ]
          },
          "metadata": {
            "tags": [],
            "needs_background": "light"
          }
        }
      ]
    },
    {
      "cell_type": "code",
      "metadata": {
        "colab": {
          "base_uri": "https://localhost:8080/",
          "height": 296
        },
        "id": "EVAhzpjqn3YJ",
        "outputId": "67c2bc8f-e0c1-485d-f2f2-12e2f45ff287"
      },
      "source": [
        "# Understand basis\n",
        "component0 = sparse_pca.components_[0, :]\n",
        "import matplotlib.pyplot as plt\n",
        "plt.rcParams.update({'font.size': 8})\n",
        "plt.barh(X_train.columns, component0)\n",
        "plt.title(\"Component 0\")"
      ],
      "execution_count": 57,
      "outputs": [
        {
          "output_type": "execute_result",
          "data": {
            "text/plain": [
              "Text(0.5, 1.0, 'Component 0')"
            ]
          },
          "metadata": {
            "tags": []
          },
          "execution_count": 57
        },
        {
          "output_type": "display_data",
          "data": {
            "image/png": "[encoded data removed]",
            "text/plain": [
              "<Figure size 432x288 with 1 Axes>"
            ]
          },
          "metadata": {
            "tags": [],
            "needs_background": "light"
          }
        }
      ]
    },
    {
      "cell_type": "code",
      "metadata": {
        "colab": {
          "base_uri": "https://localhost:8080/",
          "height": 296
        },
        "id": "4NKPlOXGn-38",
        "outputId": "3cb8d4d9-4a7d-4cd3-d37e-789b28a547d2"
      },
      "source": [
        "# Understand basis\n",
        "component1 = sparse_pca.components_[1, :]\n",
        "import matplotlib.pyplot as plt\n",
        "plt.rcParams.update({'font.size': 8})\n",
        "plt.barh(X_train.columns, component1)\n",
        "plt.title(\"Component 1\")"
      ],
      "execution_count": 58,
      "outputs": [
        {
          "output_type": "execute_result",
          "data": {
            "text/plain": [
              "Text(0.5, 1.0, 'Component 1')"
            ]
          },
          "metadata": {
            "tags": []
          },
          "execution_count": 58
        },
        {
          "output_type": "display_data",
          "data": {
            "image/png": "[encoded data removed]",
            "text/plain": [
              "<Figure size 432x288 with 1 Axes>"
            ]
          },
          "metadata": {
            "tags": [],
            "needs_background": "light"
          }
        }
      ]
    },
    {
      "cell_type": "markdown",
      "metadata": {
        "id": "9363WETbnYAz"
      },
      "source": [
        "### NMF"
      ]
    },
    {
      "cell_type": "code",
      "metadata": {
        "colab": {
          "base_uri": "https://localhost:8080/",
          "height": 309
        },
        "id": "JuNbh2L8oIuG",
        "outputId": "6b992e52-79d4-486a-dcea-05fa71eb6df8"
      },
      "source": [
        "from sklearn.decomposition import NMF\n",
        "\n",
        "# Fit NMF\n",
        "nmf = NMF(n_components=2, init='random', random_state=0)\n",
        "if (X_train < 0).values.any():  # Must be non-negative\n",
        "    Z_train = nmf.fit_transform(X_train - X_train.min())\n",
        "else:\n",
        "    Z_train = nmf.fit_transform(X_train)\n",
        "\n",
        "# Plot\n",
        "color_dict = {0: 'red', 1: 'blue'}\n",
        "for label in np.unique(y_train):\n",
        "    ix = np.where(y_train == label)\n",
        "    plt.scatter(Z_train[ix, 0], Z_train[ix, 1], c = color_dict[label], label = label, s = 100)\n",
        "plt.legend()\n",
        "plt.title(\"NMF\")\n",
        "plt.xlabel(\"Component 0\")\n",
        "plt.ylabel(\"Component 1\")"
      ],
      "execution_count": 67,
      "outputs": [
        {
          "output_type": "execute_result",
          "data": {
            "text/plain": [
              "Text(0, 0.5, 'Component 1')"
            ]
          },
          "metadata": {
            "tags": []
          },
          "execution_count": 67
        },
        {
          "output_type": "display_data",
          "data": {
            "image/png": "[encoded data removed]",
            "text/plain": [
              "<Figure size 432x288 with 1 Axes>"
            ]
          },
          "metadata": {
            "tags": [],
            "needs_background": "light"
          }
        }
      ]
    },
    {
      "cell_type": "code",
      "metadata": {
        "colab": {
          "base_uri": "https://localhost:8080/",
          "height": 296
        },
        "id": "uUAETqfcoM-9",
        "outputId": "a5c1143f-6a08-474a-9367-7848574b0818"
      },
      "source": [
        "# Understand basis\n",
        "component0 = nmf.components_[0, :]\n",
        "import matplotlib.pyplot as plt\n",
        "plt.rcParams.update({'font.size': 8})\n",
        "plt.barh(X_train.columns, component0)\n",
        "plt.title(\"Component 0\")"
      ],
      "execution_count": 68,
      "outputs": [
        {
          "output_type": "execute_result",
          "data": {
            "text/plain": [
              "Text(0.5, 1.0, 'Component 0')"
            ]
          },
          "metadata": {
            "tags": []
          },
          "execution_count": 68
        },
        {
          "output_type": "display_data",
          "data": {
            "image/png": "[encoded data removed]",
            "text/plain": [
              "<Figure size 432x288 with 1 Axes>"
            ]
          },
          "metadata": {
            "tags": [],
            "needs_background": "light"
          }
        }
      ]
    },
    {
      "cell_type": "code",
      "metadata": {
        "colab": {
          "base_uri": "https://localhost:8080/",
          "height": 296
        },
        "id": "KQPRyVvxnH8W",
        "outputId": "41517782-48cf-4885-8da4-d5a1d8ab0bbf"
      },
      "source": [
        "# Understand basis\n",
        "component1 = nmf.components_[1, :]\n",
        "import matplotlib.pyplot as plt\n",
        "plt.rcParams.update({'font.size': 8})\n",
        "plt.barh(X_train.columns, component1)\n",
        "plt.title(\"Component 1\")"
      ],
      "execution_count": 69,
      "outputs": [
        {
          "output_type": "execute_result",
          "data": {
            "text/plain": [
              "Text(0.5, 1.0, 'Component 1')"
            ]
          },
          "metadata": {
            "tags": []
          },
          "execution_count": 69
        },
        {
          "output_type": "display_data",
          "data": {
            "image/png": "[encoded data removed]",
            "text/plain": [
              "<Figure size 432x288 with 1 Axes>"
            ]
          },
          "metadata": {
            "tags": [],
            "needs_background": "light"
          }
        }
      ]
    },
    {
      "cell_type": "markdown",
      "metadata": {
        "id": "EBi_AVwWnG7B"
      },
      "source": [
        "### MDS"
      ]
    },
    {
      "cell_type": "code",
      "metadata": {
        "colab": {
          "base_uri": "https://localhost:8080/",
          "height": 309
        },
        "id": "dR3d8dHhovBU",
        "outputId": "d8d14d51-9c27-4592-d353-b44b6263a622"
      },
      "source": [
        "from sklearn.manifold import MDS\n",
        "\n",
        "# Fit MDS\n",
        "mds = MDS(n_components=2, random_state=0)\n",
        "Z_train = mds.fit_transform(X_train)\n",
        "\n",
        "# Plot\n",
        "color_dict = {0: 'red', 1: 'blue'}\n",
        "for label in np.unique(y_train):\n",
        "    ix = np.where(y_train == label)\n",
        "    plt.scatter(Z_train[ix, 0], Z_train[ix, 1], c = color_dict[label], label = label, s = 100)\n",
        "plt.legend()\n",
        "plt.title(\"MDS\")\n",
        "plt.xlabel(\"Component 0\")\n",
        "plt.ylabel(\"Component 1\")"
      ],
      "execution_count": 70,
      "outputs": [
        {
          "output_type": "execute_result",
          "data": {
            "text/plain": [
              "Text(0, 0.5, 'Component 1')"
            ]
          },
          "metadata": {
            "tags": []
          },
          "execution_count": 70
        },
        {
          "output_type": "display_data",
          "data": {
            "image/png": "[encoded data removed]",
            "text/plain": [
              "<Figure size 432x288 with 1 Axes>"
            ]
          },
          "metadata": {
            "tags": [],
            "needs_background": "light"
          }
        }
      ]
    },
    {
      "cell_type": "markdown",
      "metadata": {
        "id": "Xja9LLuWpIEm"
      },
      "source": [
        "### TSNE"
      ]
    },
    {
      "cell_type": "code",
      "metadata": {
        "colab": {
          "base_uri": "https://localhost:8080/",
          "height": 309
        },
        "id": "YozL-pVPpKC1",
        "outputId": "be10520c-9857-482d-beae-add568472669"
      },
      "source": [
        "from sklearn.manifold import TSNE\n",
        "\n",
        "tsne = TSNE(n_components=2, random_state=0)\n",
        "Z_train = tsne.fit_transform(X_train)\n",
        "\n",
        "# Plot\n",
        "color_dict = {0: 'red', 1: 'blue'}\n",
        "for label in np.unique(y_train):\n",
        "    ix = np.where(y_train == label)\n",
        "    plt.scatter(Z_train[ix, 0], Z_train[ix, 1], c = color_dict[label], label = label, s = 100)\n",
        "plt.legend()\n",
        "plt.title(\"TSNE\")\n",
        "plt.xlabel(\"Component 0\")\n",
        "plt.ylabel(\"Component 1\")"
      ],
      "execution_count": 71,
      "outputs": [
        {
          "output_type": "execute_result",
          "data": {
            "text/plain": [
              "Text(0, 0.5, 'Component 1')"
            ]
          },
          "metadata": {
            "tags": []
          },
          "execution_count": 71
        },
        {
          "output_type": "display_data",
          "data": {
            "image/png": "[encoded data removed]",
            "text/plain": [
              "<Figure size 432x288 with 1 Axes>"
            ]
          },
          "metadata": {
            "tags": [],
            "needs_background": "light"
          }
        }
      ]
    },
    {
      "cell_type": "markdown",
      "metadata": {
        "id": "unt_aWe1nEtd"
      },
      "source": [
        "### Helper functions for evaluation"
      ]
    },
    {
      "cell_type": "code",
      "metadata": {
        "id": "RwGbAJvaOSRc"
      },
      "source": [
        "from sklearn.metrics import classification_report, confusion_matrix, ConfusionMatrixDisplay\n",
        "\n",
        "def get_predIdxs_and_trueIdxs(classifier, X, y):\n",
        "    predIdxs = np.where(classifier.predict(X) > 0.5, 1, 0)\n",
        "    trueIdxs = y\n",
        "    return predIdxs, trueIdxs\n",
        "\n",
        "def plot_confusion_matrix(classifier, X, y):\n",
        "    predIdxs, trueIdxs = get_predIdxs_and_trueIdxs(classifier, X, y)\n",
        "    cm = confusion_matrix(trueIdxs, predIdxs)\n",
        "    cmDisplay = ConfusionMatrixDisplay(confusion_matrix=cm, display_labels=[\"Fighter 0 Win\", \"Fighter 1 Win\"])\n",
        "    cmDisplay.plot()\n",
        "    \n",
        "def print_classification_report(classifier, X, y):\n",
        "    predIdxs, trueIdxs = get_predIdxs_and_trueIdxs(classifier, X, y)\n",
        "    print(classification_report(trueIdxs, predIdxs, target_names=[\"Fighter 0 Win\", \"Fighter 1 Win\"]))"
      ],
      "execution_count": 72,
      "outputs": []
    },
    {
      "cell_type": "markdown",
      "metadata": {
        "id": "d3v7metxjRlr"
      },
      "source": [
        "### Decision Tree"
      ]
    },
    {
      "cell_type": "code",
      "metadata": {
        "colab": {
          "base_uri": "https://localhost:8080/",
          "height": 317
        },
        "id": "X0TNR6wajTSX",
        "outputId": "2f1a0b08-8ebc-4686-e0a0-a04c61aeb8db"
      },
      "source": [
        "from sklearn.tree import DecisionTreeClassifier\n",
        "# Train\n",
        "decision_tree_clf = DecisionTreeClassifier(random_state=0)\n",
        "decision_tree_clf.fit(X_train, y_train)\n",
        "\n",
        "# Validate\n",
        "accuracy_train = decision_tree_clf.score(X_train, y_train)\n",
        "accuracy_valid = decision_tree_clf.score(X_valid, y_valid)\n",
        "print(f\"accuracy_train = {accuracy_train}\")\n",
        "print(f\"accuracy_valid = {accuracy_valid}\")\n",
        "\n",
        "# Visualize importances\n",
        "import matplotlib.pyplot as plt\n",
        "plt.rcParams.update({'font.size': 8})\n",
        "plt.barh(X_train.columns, decision_tree_clf.feature_importances_)"
      ],
      "execution_count": 90,
      "outputs": [
        {
          "output_type": "stream",
          "text": [
            "accuracy_train = 1.0\n",
            "accuracy_valid = 0.7609427609427609\n"
          ],
          "name": "stdout"
        },
        {
          "output_type": "execute_result",
          "data": {
            "text/plain": [
              "<BarContainer object of 30 artists>"
            ]
          },
          "metadata": {
            "tags": []
          },
          "execution_count": 90
        },
        {
          "output_type": "display_data",
          "data": {
            "image/png": "[encoded data removed]",
            "text/plain": [
              "<Figure size 432x288 with 1 Axes>"
            ]
          },
          "metadata": {
            "tags": [],
            "needs_background": "light"
          }
        }
      ]
    },
    {
      "cell_type": "code",
      "metadata": {
        "colab": {
          "base_uri": "https://localhost:8080/",
          "height": 435
        },
        "id": "0NLVskN4jVqU",
        "outputId": "62547603-d819-4026-e998-651088399237"
      },
      "source": [
        "plot_confusion_matrix(decision_tree_clf, X_valid, y_valid)\n",
        "print_classification_report(decision_tree_clf, X_valid, y_valid)"
      ],
      "execution_count": 91,
      "outputs": [
        {
          "output_type": "stream",
          "text": [
            "               precision    recall  f1-score   support\n",
            "\n",
            "Fighter 0 Win       0.77      0.74      0.76       594\n",
            "Fighter 1 Win       0.75      0.78      0.76       594\n",
            "\n",
            "     accuracy                           0.76      1188\n",
            "    macro avg       0.76      0.76      0.76      1188\n",
            " weighted avg       0.76      0.76      0.76      1188\n",
            "\n"
          ],
          "name": "stdout"
        },
        {
          "output_type": "display_data",
          "data": {
            "image/png": "[encoded data removed]",
            "text/plain": [
              "<Figure size 432x288 with 2 Axes>"
            ]
          },
          "metadata": {
            "tags": [],
            "needs_background": "light"
          }
        }
      ]
    },
    {
      "cell_type": "markdown",
      "metadata": {
        "id": "5jUUa7-6OSRd"
      },
      "source": [
        "### Random forest"
      ]
    },
    {
      "cell_type": "code",
      "metadata": {
        "colab": {
          "base_uri": "https://localhost:8080/",
          "height": 372
        },
        "id": "B8ly4Z3TOSRd",
        "outputId": "e8e76404-a03c-4f0d-da26-6ff6621e70b3"
      },
      "source": [
        "from sklearn.ensemble import RandomForestClassifier\n",
        "\n",
        "# Train\n",
        "random_forest_clf = RandomForestClassifier(max_depth=5, random_state=0)\n",
        "random_forest_clf.fit(X_train, y_train)\n",
        "\n",
        "# Validate\n",
        "accuracy_train = random_forest_clf.score(X_train, y_train)\n",
        "accuracy_valid = random_forest_clf.score(X_valid, y_valid)\n",
        "print(f\"accuracy_train = {accuracy_train}\")\n",
        "print(f\"accuracy_valid = {accuracy_valid}\")\n",
        "\n",
        "# Visualize importances\n",
        "import matplotlib.pyplot as plt\n",
        "plt.rcParams.update({'font.size': 8})\n",
        "plt.barh(X_train.columns, random_forest_clf.feature_importances_)"
      ],
      "execution_count": 92,
      "outputs": [
        {
          "output_type": "stream",
          "text": [
            "/usr/local/lib/python3.7/dist-packages/ipykernel_launcher.py:5: DataConversionWarning: A column-vector y was passed when a 1d array was expected. Please change the shape of y to (n_samples,), for example using ravel().\n",
            "  \"\"\"\n"
          ],
          "name": "stderr"
        },
        {
          "output_type": "stream",
          "text": [
            "accuracy_train = 0.8924418604651163\n",
            "accuracy_valid = 0.8442760942760943\n"
          ],
          "name": "stdout"
        },
        {
          "output_type": "execute_result",
          "data": {
            "text/plain": [
              "<BarContainer object of 30 artists>"
            ]
          },
          "metadata": {
            "tags": []
          },
          "execution_count": 92
        },
        {
          "output_type": "display_data",
          "data": {
            "image/png": "[encoded data removed]",
            "text/plain": [
              "<Figure size 432x288 with 1 Axes>"
            ]
          },
          "metadata": {
            "tags": [],
            "needs_background": "light"
          }
        }
      ]
    },
    {
      "cell_type": "code",
      "metadata": {
        "colab": {
          "base_uri": "https://localhost:8080/",
          "height": 438
        },
        "id": "Zo9BGeJoOSRd",
        "outputId": "3982c4c8-ecde-40ce-df77-e4e1a39dff96"
      },
      "source": [
        "plot_confusion_matrix(random_forest_clf, X_valid, y_valid)\n",
        "print_classification_report(random_forest_clf, X_valid, y_valid)"
      ],
      "execution_count": 93,
      "outputs": [
        {
          "output_type": "stream",
          "text": [
            "               precision    recall  f1-score   support\n",
            "\n",
            "Fighter 0 Win       0.84      0.85      0.84       594\n",
            "Fighter 1 Win       0.84      0.84      0.84       594\n",
            "\n",
            "     accuracy                           0.84      1188\n",
            "    macro avg       0.84      0.84      0.84      1188\n",
            " weighted avg       0.84      0.84      0.84      1188\n",
            "\n"
          ],
          "name": "stdout"
        },
        {
          "output_type": "display_data",
          "data": {
            "image/png": "[encoded data removed]",
            "text/plain": [
              "<Figure size 432x288 with 2 Axes>"
            ]
          },
          "metadata": {
            "tags": [],
            "needs_background": "light"
          }
        }
      ]
    },
    {
      "cell_type": "markdown",
      "metadata": {
        "id": "0613aZAmbHdw"
      },
      "source": [
        "### Extra trees"
      ]
    },
    {
      "cell_type": "code",
      "metadata": {
        "colab": {
          "base_uri": "https://localhost:8080/",
          "height": 372
        },
        "id": "RTCgZ7rIbHEb",
        "outputId": "7214851f-8bb9-4c94-ab40-09bf72089dd8"
      },
      "source": [
        "from sklearn.ensemble import ExtraTreesClassifier\n",
        "\n",
        "# Train\n",
        "extra_trees_clf = ExtraTreesClassifier(n_estimators=100, random_state=0)\n",
        "extra_trees_clf.fit(X_train, y_train)\n",
        "\n",
        "# Validate\n",
        "accuracy_train = extra_trees_clf.score(X_train, y_train)\n",
        "accuracy_valid = extra_trees_clf.score(X_valid, y_valid)\n",
        "print(f\"accuracy_train = {accuracy_train}\")\n",
        "print(f\"accuracy_valid = {accuracy_valid}\")\n",
        "\n",
        "# Visualize importances\n",
        "import matplotlib.pyplot as plt\n",
        "plt.rcParams.update({'font.size': 8})\n",
        "plt.barh(X_train.columns, extra_trees_clf.feature_importances_)"
      ],
      "execution_count": 94,
      "outputs": [
        {
          "output_type": "stream",
          "text": [
            "/usr/local/lib/python3.7/dist-packages/ipykernel_launcher.py:5: DataConversionWarning: A column-vector y was passed when a 1d array was expected. Please change the shape of y to (n_samples,), for example using ravel().\n",
            "  \"\"\"\n"
          ],
          "name": "stderr"
        },
        {
          "output_type": "stream",
          "text": [
            "accuracy_train = 1.0\n",
            "accuracy_valid = 0.8417508417508418\n"
          ],
          "name": "stdout"
        },
        {
          "output_type": "execute_result",
          "data": {
            "text/plain": [
              "<BarContainer object of 30 artists>"
            ]
          },
          "metadata": {
            "tags": []
          },
          "execution_count": 94
        },
        {
          "output_type": "display_data",
          "data": {
            "image/png": "[encoded data removed]",
            "text/plain": [
              "<Figure size 432x288 with 1 Axes>"
            ]
          },
          "metadata": {
            "tags": [],
            "needs_background": "light"
          }
        }
      ]
    },
    {
      "cell_type": "code",
      "metadata": {
        "colab": {
          "base_uri": "https://localhost:8080/",
          "height": 438
        },
        "id": "CRY3quOebU7n",
        "outputId": "13743cd6-9021-470e-fdb5-0390930775fc"
      },
      "source": [
        "plot_confusion_matrix(extra_trees_clf, X_valid, y_valid)\n",
        "print_classification_report(extra_trees_clf, X_valid, y_valid)"
      ],
      "execution_count": 95,
      "outputs": [
        {
          "output_type": "stream",
          "text": [
            "               precision    recall  f1-score   support\n",
            "\n",
            "Fighter 0 Win       0.84      0.84      0.84       594\n",
            "Fighter 1 Win       0.84      0.84      0.84       594\n",
            "\n",
            "     accuracy                           0.84      1188\n",
            "    macro avg       0.84      0.84      0.84      1188\n",
            " weighted avg       0.84      0.84      0.84      1188\n",
            "\n"
          ],
          "name": "stdout"
        },
        {
          "output_type": "display_data",
          "data": {
            "image/png": "[encoded data removed]",
            "text/plain": [
              "<Figure size 432x288 with 2 Axes>"
            ]
          },
          "metadata": {
            "tags": [],
            "needs_background": "light"
          }
        }
      ]
    },
    {
      "cell_type": "markdown",
      "metadata": {
        "id": "CXx4w0bQOSRe"
      },
      "source": [
        "### MLP"
      ]
    },
    {
      "cell_type": "code",
      "metadata": {
        "colab": {
          "base_uri": "https://localhost:8080/"
        },
        "id": "cF3J4g8HOSRe",
        "outputId": "8790d309-c811-467d-d7af-2ac13510001b"
      },
      "source": [
        "# MLP\n",
        "from sklearn.neural_network import MLPClassifier\n",
        "\n",
        "mlp_clf = MLPClassifier(random_state=1, max_iter=300).fit(X_train, y_train)\n",
        "accuracy_train = mlp_clf.score(X_train, y_train)\n",
        "accuracy_valid = mlp_clf.score(X_valid, y_valid)\n",
        "print(f\"accuracy_train = {accuracy_train}\")\n",
        "print(f\"accuracy_valid = {accuracy_valid}\")"
      ],
      "execution_count": 96,
      "outputs": [
        {
          "output_type": "stream",
          "text": [
            "/usr/local/lib/python3.7/dist-packages/sklearn/neural_network/_multilayer_perceptron.py:934: DataConversionWarning: A column-vector y was passed when a 1d array was expected. Please change the shape of y to (n_samples, ), for example using ravel().\n",
            "  y = column_or_1d(y, warn=True)\n"
          ],
          "name": "stderr"
        },
        {
          "output_type": "stream",
          "text": [
            "accuracy_train = 0.9431063122923588\n",
            "accuracy_valid = 0.8367003367003367\n"
          ],
          "name": "stdout"
        },
        {
          "output_type": "stream",
          "text": [
            "/usr/local/lib/python3.7/dist-packages/sklearn/neural_network/_multilayer_perceptron.py:571: ConvergenceWarning: Stochastic Optimizer: Maximum iterations (300) reached and the optimization hasn't converged yet.\n",
            "  % self.max_iter, ConvergenceWarning)\n"
          ],
          "name": "stderr"
        }
      ]
    },
    {
      "cell_type": "code",
      "metadata": {
        "colab": {
          "base_uri": "https://localhost:8080/",
          "height": 438
        },
        "id": "xsBZgc7wOSRe",
        "outputId": "f925a930-fd35-42f4-d35a-ecdbd587c720"
      },
      "source": [
        "plot_confusion_matrix(mlp_clf, X_valid, y_valid)\n",
        "print_classification_report(mlp_clf, X_valid, y_valid)"
      ],
      "execution_count": 97,
      "outputs": [
        {
          "output_type": "stream",
          "text": [
            "               precision    recall  f1-score   support\n",
            "\n",
            "Fighter 0 Win       0.84      0.83      0.84       594\n",
            "Fighter 1 Win       0.83      0.85      0.84       594\n",
            "\n",
            "     accuracy                           0.84      1188\n",
            "    macro avg       0.84      0.84      0.84      1188\n",
            " weighted avg       0.84      0.84      0.84      1188\n",
            "\n"
          ],
          "name": "stdout"
        },
        {
          "output_type": "display_data",
          "data": {
            "image/png": "[encoded data removed]",
            "text/plain": [
              "<Figure size 432x288 with 2 Axes>"
            ]
          },
          "metadata": {
            "tags": [],
            "needs_background": "light"
          }
        }
      ]
    },
    {
      "cell_type": "markdown",
      "metadata": {
        "id": "YaDADd0nOSRe"
      },
      "source": [
        "### SVM"
      ]
    },
    {
      "cell_type": "code",
      "metadata": {
        "colab": {
          "base_uri": "https://localhost:8080/"
        },
        "id": "Lid4_UcGOSRe",
        "outputId": "7b0ef01b-01ae-4e6f-e838-64bc7aba7baa"
      },
      "source": [
        "# SVM\n",
        "from sklearn.svm import SVC\n",
        "\n",
        "svm_clf = SVC(random_state=1).fit(X_train, y_train)\n",
        "accuracy_train = svm_clf.score(X_train, y_train)\n",
        "accuracy_valid = svm_clf.score(X_valid, y_valid)\n",
        "print(f\"accuracy_train = {accuracy_train}\")\n",
        "print(f\"accuracy_valid = {accuracy_valid}\")"
      ],
      "execution_count": 98,
      "outputs": [
        {
          "output_type": "stream",
          "text": [
            "/usr/local/lib/python3.7/dist-packages/sklearn/utils/validation.py:760: DataConversionWarning: A column-vector y was passed when a 1d array was expected. Please change the shape of y to (n_samples, ), for example using ravel().\n",
            "  y = column_or_1d(y, warn=True)\n"
          ],
          "name": "stderr"
        },
        {
          "output_type": "stream",
          "text": [
            "accuracy_train = 0.8870431893687708\n",
            "accuracy_valid = 0.867003367003367\n"
          ],
          "name": "stdout"
        }
      ]
    },
    {
      "cell_type": "code",
      "metadata": {
        "colab": {
          "base_uri": "https://localhost:8080/",
          "height": 435
        },
        "id": "9PUOxo-MOSRf",
        "outputId": "e3a25d07-a08c-4f3f-d045-c51775bddbda"
      },
      "source": [
        "plot_confusion_matrix(svm_clf, X_valid, y_valid)\n",
        "print_classification_report(svm_clf, X_valid, y_valid)"
      ],
      "execution_count": 99,
      "outputs": [
        {
          "output_type": "stream",
          "text": [
            "               precision    recall  f1-score   support\n",
            "\n",
            "Fighter 0 Win       0.87      0.87      0.87       594\n",
            "Fighter 1 Win       0.87      0.87      0.87       594\n",
            "\n",
            "     accuracy                           0.87      1188\n",
            "    macro avg       0.87      0.87      0.87      1188\n",
            " weighted avg       0.87      0.87      0.87      1188\n",
            "\n"
          ],
          "name": "stdout"
        },
        {
          "output_type": "display_data",
          "data": {
            "image/png": "[encoded data removed]",
            "text/plain": [
              "<Figure size 432x288 with 2 Axes>"
            ]
          },
          "metadata": {
            "tags": [],
            "needs_background": "light"
          }
        }
      ]
    },
    {
      "cell_type": "code",
      "metadata": {
        "colab": {
          "base_uri": "https://localhost:8080/"
        },
        "id": "LzZIqs1OWiXt",
        "outputId": "95631fec-67ed-4083-9fe5-d1dcf8dc2721"
      },
      "source": [
        "# SVM linear kernel\n",
        "svm_linear_clf = SVC(kernel='linear', random_state=1).fit(X_train, y_train)\n",
        "accuracy_train = svm_linear_clf.score(X_train, y_train)\n",
        "accuracy_valid = svm_linear_clf.score(X_valid, y_valid)\n",
        "print(f\"accuracy_train = {accuracy_train}\")\n",
        "print(f\"accuracy_valid = {accuracy_valid}\")"
      ],
      "execution_count": 100,
      "outputs": [
        {
          "output_type": "stream",
          "text": [
            "/usr/local/lib/python3.7/dist-packages/sklearn/utils/validation.py:760: DataConversionWarning: A column-vector y was passed when a 1d array was expected. Please change the shape of y to (n_samples, ), for example using ravel().\n",
            "  y = column_or_1d(y, warn=True)\n"
          ],
          "name": "stderr"
        },
        {
          "output_type": "stream",
          "text": [
            "accuracy_train = 0.8621262458471761\n",
            "accuracy_valid = 0.8585858585858586\n"
          ],
          "name": "stdout"
        }
      ]
    },
    {
      "cell_type": "code",
      "metadata": {
        "colab": {
          "base_uri": "https://localhost:8080/",
          "height": 282
        },
        "id": "ckmE9q0vXnqs",
        "outputId": "56b6236d-2561-4244-b14f-e8b789b19ed7"
      },
      "source": [
        "# Visualize importances\n",
        "import matplotlib.pyplot as plt\n",
        "plt.rcParams.update({'font.size': 8})\n",
        "plt.barh(X_train.columns, svm_linear_clf.coef_[0])"
      ],
      "execution_count": 101,
      "outputs": [
        {
          "output_type": "execute_result",
          "data": {
            "text/plain": [
              "<BarContainer object of 30 artists>"
            ]
          },
          "metadata": {
            "tags": []
          },
          "execution_count": 101
        },
        {
          "output_type": "display_data",
          "data": {
            "image/png": "[encoded data removed]",
            "text/plain": [
              "<Figure size 432x288 with 1 Axes>"
            ]
          },
          "metadata": {
            "tags": [],
            "needs_background": "light"
          }
        }
      ]
    },
    {
      "cell_type": "code",
      "metadata": {
        "colab": {
          "base_uri": "https://localhost:8080/",
          "height": 435
        },
        "id": "4iMx96BTWwAY",
        "outputId": "89411ed0-69c5-49d0-f79e-770cfe9b9676"
      },
      "source": [
        "plot_confusion_matrix(svm_linear_clf, X_valid, y_valid)\n",
        "print_classification_report(svm_linear_clf, X_valid, y_valid)"
      ],
      "execution_count": 102,
      "outputs": [
        {
          "output_type": "stream",
          "text": [
            "               precision    recall  f1-score   support\n",
            "\n",
            "Fighter 0 Win       0.86      0.86      0.86       594\n",
            "Fighter 1 Win       0.86      0.86      0.86       594\n",
            "\n",
            "     accuracy                           0.86      1188\n",
            "    macro avg       0.86      0.86      0.86      1188\n",
            " weighted avg       0.86      0.86      0.86      1188\n",
            "\n"
          ],
          "name": "stdout"
        },
        {
          "output_type": "display_data",
          "data": {
            "image/png": "[encoded data removed]",
            "text/plain": [
              "<Figure size 432x288 with 2 Axes>"
            ]
          },
          "metadata": {
            "tags": [],
            "needs_background": "light"
          }
        }
      ]
    },
    {
      "cell_type": "markdown",
      "metadata": {
        "id": "3itzucb_OSRf"
      },
      "source": [
        "### XGBoost"
      ]
    },
    {
      "cell_type": "code",
      "metadata": {
        "colab": {
          "base_uri": "https://localhost:8080/"
        },
        "id": "H_WSt6GkOSRf",
        "outputId": "ca5a2c2a-3dc5-4803-bde4-657f1e07d591"
      },
      "source": [
        "from xgboost import XGBClassifier\n",
        "xgb_clf = XGBClassifier()\n",
        "xgb_clf.fit(X_train, y_train)\n",
        "\n",
        "accuracy_train = xgb_clf.score(X_train, y_train)\n",
        "accuracy_valid = xgb_clf.score(X_valid, y_valid)\n",
        "print(f\"accuracy_train = {accuracy_train}\")\n",
        "print(f\"accuracy_valid = {accuracy_valid}\")"
      ],
      "execution_count": 103,
      "outputs": [
        {
          "output_type": "stream",
          "text": [
            "/usr/local/lib/python3.7/dist-packages/sklearn/preprocessing/_label.py:235: DataConversionWarning: A column-vector y was passed when a 1d array was expected. Please change the shape of y to (n_samples, ), for example using ravel().\n",
            "  y = column_or_1d(y, warn=True)\n",
            "/usr/local/lib/python3.7/dist-packages/sklearn/preprocessing/_label.py:268: DataConversionWarning: A column-vector y was passed when a 1d array was expected. Please change the shape of y to (n_samples, ), for example using ravel().\n",
            "  y = column_or_1d(y, warn=True)\n"
          ],
          "name": "stderr"
        },
        {
          "output_type": "stream",
          "text": [
            "accuracy_train = 0.9090531561461794\n",
            "accuracy_valid = 0.8417508417508418\n"
          ],
          "name": "stdout"
        }
      ]
    },
    {
      "cell_type": "code",
      "metadata": {
        "colab": {
          "base_uri": "https://localhost:8080/",
          "height": 438
        },
        "id": "KVnq88q6O1Fq",
        "outputId": "07ca8b46-69c2-4d8a-9e4e-b7e29776c4a2"
      },
      "source": [
        "plot_confusion_matrix(xgb_clf, X_valid, y_valid)\n",
        "print_classification_report(xgb_clf, X_valid, y_valid)"
      ],
      "execution_count": 104,
      "outputs": [
        {
          "output_type": "stream",
          "text": [
            "               precision    recall  f1-score   support\n",
            "\n",
            "Fighter 0 Win       0.84      0.84      0.84       594\n",
            "Fighter 1 Win       0.84      0.84      0.84       594\n",
            "\n",
            "     accuracy                           0.84      1188\n",
            "    macro avg       0.84      0.84      0.84      1188\n",
            " weighted avg       0.84      0.84      0.84      1188\n",
            "\n"
          ],
          "name": "stdout"
        },
        {
          "output_type": "display_data",
          "data": {
            "image/png": "[encoded data removed]",
            "text/plain": [
              "<Figure size 432x288 with 2 Axes>"
            ]
          },
          "metadata": {
            "tags": [],
            "needs_background": "light"
          }
        }
      ]
    },
    {
      "cell_type": "markdown",
      "metadata": {
        "id": "6wP0UzhhVG4M"
      },
      "source": [
        "### Logistic regression"
      ]
    },
    {
      "cell_type": "code",
      "metadata": {
        "colab": {
          "base_uri": "https://localhost:8080/"
        },
        "id": "LbmiFpfCVGgu",
        "outputId": "70381cd7-3a4a-4960-a9f1-16192e62c29b"
      },
      "source": [
        "from sklearn.linear_model import LogisticRegression\n",
        "logistic_regression_clf = LogisticRegression(random_state=0).fit(X_train, y_train)\n",
        "\n",
        "accuracy_train = logistic_regression_clf.score(X_train, y_train)\n",
        "accuracy_valid = logistic_regression_clf.score(X_valid, y_valid)\n",
        "print(f\"accuracy_train = {accuracy_train}\")\n",
        "print(f\"accuracy_valid = {accuracy_valid}\")"
      ],
      "execution_count": 105,
      "outputs": [
        {
          "output_type": "stream",
          "text": [
            "accuracy_train = 0.8662790697674418\n",
            "accuracy_valid = 0.8569023569023569\n"
          ],
          "name": "stdout"
        },
        {
          "output_type": "stream",
          "text": [
            "/usr/local/lib/python3.7/dist-packages/sklearn/utils/validation.py:760: DataConversionWarning: A column-vector y was passed when a 1d array was expected. Please change the shape of y to (n_samples, ), for example using ravel().\n",
            "  y = column_or_1d(y, warn=True)\n"
          ],
          "name": "stderr"
        }
      ]
    },
    {
      "cell_type": "code",
      "metadata": {
        "colab": {
          "base_uri": "https://localhost:8080/",
          "height": 435
        },
        "id": "bYiaJ4WKVN0v",
        "outputId": "e2dc2ba1-5e80-4e36-cd47-fb20c1810201"
      },
      "source": [
        "plot_confusion_matrix(logistic_regression_clf, X_valid, y_valid)\n",
        "print_classification_report(logistic_regression_clf, X_valid, y_valid)"
      ],
      "execution_count": 106,
      "outputs": [
        {
          "output_type": "stream",
          "text": [
            "               precision    recall  f1-score   support\n",
            "\n",
            "Fighter 0 Win       0.86      0.86      0.86       594\n",
            "Fighter 1 Win       0.86      0.86      0.86       594\n",
            "\n",
            "     accuracy                           0.86      1188\n",
            "    macro avg       0.86      0.86      0.86      1188\n",
            " weighted avg       0.86      0.86      0.86      1188\n",
            "\n"
          ],
          "name": "stdout"
        },
        {
          "output_type": "display_data",
          "data": {
            "image/png": "[encoded data removed]",
            "text/plain": [
              "<Figure size 432x288 with 2 Axes>"
            ]
          },
          "metadata": {
            "tags": [],
            "needs_background": "light"
          }
        }
      ]
    },
    {
      "cell_type": "code",
      "metadata": {
        "colab": {
          "base_uri": "https://localhost:8080/",
          "height": 372
        },
        "id": "cDxUH57MV3CA",
        "outputId": "7fe6b233-e0d5-4396-eb57-f7b7ed5824e0"
      },
      "source": [
        "logistic_regression_l1_clf = LogisticRegression(penalty='l1', solver='liblinear', random_state=0).fit(X_train, y_train)\n",
        "\n",
        "accuracy_train = logistic_regression_l1_clf.score(X_train, y_train)\n",
        "accuracy_valid = logistic_regression_l1_clf.score(X_valid, y_valid)\n",
        "print(f\"accuracy_train = {accuracy_train}\")\n",
        "print(f\"accuracy_valid = {accuracy_valid}\")\n",
        "\n",
        "# Visualize importances\n",
        "import matplotlib.pyplot as plt\n",
        "plt.rcParams.update({'font.size': 8})\n",
        "plt.barh(X_train.columns, logistic_regression_l1_clf.coef_[0])"
      ],
      "execution_count": 107,
      "outputs": [
        {
          "output_type": "stream",
          "text": [
            "accuracy_train = 0.8662790697674418\n",
            "accuracy_valid = 0.8569023569023569\n"
          ],
          "name": "stdout"
        },
        {
          "output_type": "stream",
          "text": [
            "/usr/local/lib/python3.7/dist-packages/sklearn/utils/validation.py:760: DataConversionWarning: A column-vector y was passed when a 1d array was expected. Please change the shape of y to (n_samples, ), for example using ravel().\n",
            "  y = column_or_1d(y, warn=True)\n"
          ],
          "name": "stderr"
        },
        {
          "output_type": "execute_result",
          "data": {
            "text/plain": [
              "<BarContainer object of 30 artists>"
            ]
          },
          "metadata": {
            "tags": []
          },
          "execution_count": 107
        },
        {
          "output_type": "display_data",
          "data": {
            "image/png": "[encoded data removed]",
            "text/plain": [
              "<Figure size 432x288 with 1 Axes>"
            ]
          },
          "metadata": {
            "tags": [],
            "needs_background": "light"
          }
        }
      ]
    },
    {
      "cell_type": "code",
      "metadata": {
        "colab": {
          "base_uri": "https://localhost:8080/",
          "height": 435
        },
        "id": "zWOjdd_QV6We",
        "outputId": "4b19e7b6-3d7e-4a07-f79b-ce35338c74d9"
      },
      "source": [
        "plot_confusion_matrix(logistic_regression_l1_clf, X_valid, y_valid)\n",
        "print_classification_report(logistic_regression_l1_clf, X_valid, y_valid)"
      ],
      "execution_count": 108,
      "outputs": [
        {
          "output_type": "stream",
          "text": [
            "               precision    recall  f1-score   support\n",
            "\n",
            "Fighter 0 Win       0.86      0.86      0.86       594\n",
            "Fighter 1 Win       0.86      0.86      0.86       594\n",
            "\n",
            "     accuracy                           0.86      1188\n",
            "    macro avg       0.86      0.86      0.86      1188\n",
            " weighted avg       0.86      0.86      0.86      1188\n",
            "\n"
          ],
          "name": "stdout"
        },
        {
          "output_type": "display_data",
          "data": {
            "image/png": "[encoded data removed]",
            "text/plain": [
              "<Figure size 432x288 with 2 Axes>"
            ]
          },
          "metadata": {
            "tags": [],
            "needs_background": "light"
          }
        }
      ]
    },
    {
      "cell_type": "markdown",
      "metadata": {
        "id": "gzj5WaU_YRsQ"
      },
      "source": [
        "### KNN classifier"
      ]
    },
    {
      "cell_type": "code",
      "metadata": {
        "colab": {
          "base_uri": "https://localhost:8080/"
        },
        "id": "Y5ujO215YRFX",
        "outputId": "377dcfa7-84f4-4163-ec34-cf37f80078b2"
      },
      "source": [
        "from sklearn.neighbors import KNeighborsClassifier\n",
        "knn_clf = KNeighborsClassifier(n_neighbors=10).fit(X_train, y_train)\n",
        "\n",
        "accuracy_train = knn_clf.score(X_train, y_train)\n",
        "accuracy_valid = knn_clf.score(X_valid, y_valid)\n",
        "print(f\"accuracy_train = {accuracy_train}\")\n",
        "print(f\"accuracy_valid = {accuracy_valid}\")"
      ],
      "execution_count": 109,
      "outputs": [
        {
          "output_type": "stream",
          "text": [
            "/usr/local/lib/python3.7/dist-packages/ipykernel_launcher.py:2: DataConversionWarning: A column-vector y was passed when a 1d array was expected. Please change the shape of y to (n_samples, ), for example using ravel().\n",
            "  \n"
          ],
          "name": "stderr"
        },
        {
          "output_type": "stream",
          "text": [
            "accuracy_train = 0.8392857142857143\n",
            "accuracy_valid = 0.8476430976430976\n"
          ],
          "name": "stdout"
        }
      ]
    },
    {
      "cell_type": "code",
      "metadata": {
        "colab": {
          "base_uri": "https://localhost:8080/",
          "height": 435
        },
        "id": "aMgQlf5rYfSU",
        "outputId": "43a54041-83c0-42ac-d5e8-5bcb9fa1b41b"
      },
      "source": [
        "plot_confusion_matrix(knn_clf, X_valid, y_valid)\n",
        "print_classification_report(knn_clf, X_valid, y_valid)"
      ],
      "execution_count": 110,
      "outputs": [
        {
          "output_type": "stream",
          "text": [
            "               precision    recall  f1-score   support\n",
            "\n",
            "Fighter 0 Win       0.83      0.88      0.85       594\n",
            "Fighter 1 Win       0.87      0.81      0.84       594\n",
            "\n",
            "     accuracy                           0.85      1188\n",
            "    macro avg       0.85      0.85      0.85      1188\n",
            " weighted avg       0.85      0.85      0.85      1188\n",
            "\n"
          ],
          "name": "stdout"
        },
        {
          "output_type": "display_data",
          "data": {
            "image/png": "[encoded data removed]",
            "text/plain": [
              "<Figure size 432x288 with 2 Axes>"
            ]
          },
          "metadata": {
            "tags": [],
            "needs_background": "light"
          }
        }
      ]
    },
    {
      "cell_type": "markdown",
      "metadata": {
        "id": "nbCFcybKZgYI"
      },
      "source": [
        "### Gradient boosting"
      ]
    },
    {
      "cell_type": "code",
      "metadata": {
        "colab": {
          "base_uri": "https://localhost:8080/"
        },
        "id": "RQcxuC6PZjMw",
        "outputId": "ab0371d2-e017-4544-c795-c2852e56f5b9"
      },
      "source": [
        "from sklearn.ensemble import GradientBoostingClassifier\n",
        "gradient_boosting_clf = GradientBoostingClassifier(n_estimators=100, learning_rate=1.0, max_depth=1, random_state=0).fit(X_train, y_train)\n",
        "\n",
        "accuracy_train = gradient_boosting_clf.score(X_train, y_train)\n",
        "accuracy_valid = gradient_boosting_clf.score(X_valid, y_valid)\n",
        "print(f\"accuracy_train = {accuracy_train}\")\n",
        "print(f\"accuracy_valid = {accuracy_valid}\")"
      ],
      "execution_count": 111,
      "outputs": [
        {
          "output_type": "stream",
          "text": [
            "/usr/local/lib/python3.7/dist-packages/sklearn/ensemble/_gb.py:1454: DataConversionWarning: A column-vector y was passed when a 1d array was expected. Please change the shape of y to (n_samples, ), for example using ravel().\n",
            "  y = column_or_1d(y, warn=True)\n"
          ],
          "name": "stderr"
        },
        {
          "output_type": "stream",
          "text": [
            "accuracy_train = 0.8799833887043189\n",
            "accuracy_valid = 0.8232323232323232\n"
          ],
          "name": "stdout"
        }
      ]
    },
    {
      "cell_type": "code",
      "metadata": {
        "colab": {
          "base_uri": "https://localhost:8080/",
          "height": 435
        },
        "id": "uHZNLkgUZo3I",
        "outputId": "9255ab4c-b70a-45b1-9cd7-f4abccc1ed9b"
      },
      "source": [
        "plot_confusion_matrix(gradient_boosting_clf, X_valid, y_valid)\n",
        "print_classification_report(gradient_boosting_clf, X_valid, y_valid)"
      ],
      "execution_count": 112,
      "outputs": [
        {
          "output_type": "stream",
          "text": [
            "               precision    recall  f1-score   support\n",
            "\n",
            "Fighter 0 Win       0.82      0.82      0.82       594\n",
            "Fighter 1 Win       0.82      0.82      0.82       594\n",
            "\n",
            "     accuracy                           0.82      1188\n",
            "    macro avg       0.82      0.82      0.82      1188\n",
            " weighted avg       0.82      0.82      0.82      1188\n",
            "\n"
          ],
          "name": "stdout"
        },
        {
          "output_type": "display_data",
          "data": {
            "image/png": "[encoded data removed]",
            "text/plain": [
              "<Figure size 432x288 with 2 Axes>"
            ]
          },
          "metadata": {
            "tags": [],
            "needs_background": "light"
          }
        }
      ]
    },
    {
      "cell_type": "markdown",
      "metadata": {
        "id": "FQK1JgIgYwUN"
      },
      "source": [
        "### Adaboost"
      ]
    },
    {
      "cell_type": "code",
      "metadata": {
        "colab": {
          "base_uri": "https://localhost:8080/"
        },
        "id": "8zpZrIACYx0H",
        "outputId": "6ccc27e5-b065-4bb4-a773-4cd92a69c9f4"
      },
      "source": [
        "from sklearn.ensemble import AdaBoostClassifier\n",
        "adaboost_clf = AdaBoostClassifier(n_estimators=100, random_state=0).fit(X_train, y_train)\n",
        "\n",
        "accuracy_train = adaboost_clf.score(X_train, y_train)\n",
        "accuracy_valid = adaboost_clf.score(X_valid, y_valid)\n",
        "print(f\"accuracy_train = {accuracy_train}\")\n",
        "print(f\"accuracy_valid = {accuracy_valid}\")"
      ],
      "execution_count": 113,
      "outputs": [
        {
          "output_type": "stream",
          "text": [
            "/usr/local/lib/python3.7/dist-packages/sklearn/utils/validation.py:760: DataConversionWarning: A column-vector y was passed when a 1d array was expected. Please change the shape of y to (n_samples, ), for example using ravel().\n",
            "  y = column_or_1d(y, warn=True)\n"
          ],
          "name": "stderr"
        },
        {
          "output_type": "stream",
          "text": [
            "accuracy_train = 0.8700166112956811\n",
            "accuracy_valid = 0.8181818181818182\n"
          ],
          "name": "stdout"
        }
      ]
    },
    {
      "cell_type": "code",
      "metadata": {
        "colab": {
          "base_uri": "https://localhost:8080/",
          "height": 435
        },
        "id": "S04qiBcYYzl2",
        "outputId": "4f06571d-8c0e-4d04-c575-132b06e5fa86"
      },
      "source": [
        "plot_confusion_matrix(adaboost_clf, X_valid, y_valid)\n",
        "print_classification_report(adaboost_clf, X_valid, y_valid)"
      ],
      "execution_count": 114,
      "outputs": [
        {
          "output_type": "stream",
          "text": [
            "               precision    recall  f1-score   support\n",
            "\n",
            "Fighter 0 Win       0.82      0.82      0.82       594\n",
            "Fighter 1 Win       0.82      0.82      0.82       594\n",
            "\n",
            "     accuracy                           0.82      1188\n",
            "    macro avg       0.82      0.82      0.82      1188\n",
            " weighted avg       0.82      0.82      0.82      1188\n",
            "\n"
          ],
          "name": "stdout"
        },
        {
          "output_type": "display_data",
          "data": {
            "image/png": "[encoded data removed]",
            "text/plain": [
              "<Figure size 432x288 with 2 Axes>"
            ]
          },
          "metadata": {
            "tags": [],
            "needs_background": "light"
          }
        }
      ]
    },
    {
      "cell_type": "markdown",
      "metadata": {
        "id": "ksOlSZIgOSRg"
      },
      "source": [
        "### Deep model"
      ]
    },
    {
      "cell_type": "code",
      "metadata": {
        "colab": {
          "base_uri": "https://localhost:8080/"
        },
        "id": "Ao5ESVIgOSRh",
        "outputId": "88f0960d-6a1a-4bed-f635-61fb90649ff0"
      },
      "source": [
        "# FFN\n",
        "import tensorflow as tf\n",
        "\n",
        "deep_model = tf.keras.models.Sequential()\n",
        "deep_model.add(tf.keras.Input(shape=X_train.shape[1:]))\n",
        "deep_model.add(tf.keras.layers.Dense(16, activation='relu'))\n",
        "deep_model.add(tf.keras.layers.Dense(16, activation='relu'))\n",
        "deep_model.add(tf.keras.layers.Dropout(0.5))\n",
        "deep_model.add(tf.keras.layers.Dense(1, activation='sigmoid'))\n",
        "\n",
        "deep_model.compile(optimizer='adam', loss='binary_crossentropy', metrics=['accuracy'])\n",
        "deep_model.summary()"
      ],
      "execution_count": 115,
      "outputs": [
        {
          "output_type": "stream",
          "text": [
            "Model: \"sequential\"\n",
            "_________________________________________________________________\n",
            "Layer (type)                 Output Shape              Param #   \n",
            "=================================================================\n",
            "dense (Dense)                (None, 16)                496       \n",
            "_________________________________________________________________\n",
            "dense_1 (Dense)              (None, 16)                272       \n",
            "_________________________________________________________________\n",
            "dropout (Dropout)            (None, 16)                0         \n",
            "_________________________________________________________________\n",
            "dense_2 (Dense)              (None, 1)                 17        \n",
            "=================================================================\n",
            "Total params: 785\n",
            "Trainable params: 785\n",
            "Non-trainable params: 0\n",
            "_________________________________________________________________\n"
          ],
          "name": "stdout"
        }
      ]
    },
    {
      "cell_type": "code",
      "metadata": {
        "colab": {
          "base_uri": "https://localhost:8080/"
        },
        "id": "Pe43H-DXOSRh",
        "outputId": "7937fe16-131c-4be2-f2e2-2a6440ad6d0f"
      },
      "source": [
        "H = deep_model.fit(X_train, y_train, epochs=100, validation_data=(X_valid_new_normal, y_valid))"
      ],
      "execution_count": 116,
      "outputs": [
        {
          "output_type": "stream",
          "text": [
            "Epoch 1/100\n",
            "76/76 [==============================] - 2s 9ms/step - loss: 0.6702 - accuracy: 0.5877 - val_loss: 0.5245 - val_accuracy: 0.8199\n",
            "Epoch 2/100\n",
            "76/76 [==============================] - 0s 3ms/step - loss: 0.5344 - accuracy: 0.7398 - val_loss: 0.4121 - val_accuracy: 0.8300\n",
            "Epoch 3/100\n",
            "76/76 [==============================] - 0s 2ms/step - loss: 0.4407 - accuracy: 0.8036 - val_loss: 0.3671 - val_accuracy: 0.8384\n",
            "Epoch 4/100\n",
            "76/76 [==============================] - 0s 3ms/step - loss: 0.4048 - accuracy: 0.8059 - val_loss: 0.3529 - val_accuracy: 0.8409\n",
            "Epoch 5/100\n",
            "76/76 [==============================] - 0s 2ms/step - loss: 0.3897 - accuracy: 0.8336 - val_loss: 0.3462 - val_accuracy: 0.8460\n",
            "Epoch 6/100\n",
            "76/76 [==============================] - 0s 3ms/step - loss: 0.3773 - accuracy: 0.8335 - val_loss: 0.3435 - val_accuracy: 0.8476\n",
            "Epoch 7/100\n",
            "76/76 [==============================] - 0s 3ms/step - loss: 0.3672 - accuracy: 0.8498 - val_loss: 0.3422 - val_accuracy: 0.8527\n",
            "Epoch 8/100\n",
            "76/76 [==============================] - 0s 3ms/step - loss: 0.3394 - accuracy: 0.8556 - val_loss: 0.3422 - val_accuracy: 0.8527\n",
            "Epoch 9/100\n",
            "76/76 [==============================] - 0s 3ms/step - loss: 0.3578 - accuracy: 0.8455 - val_loss: 0.3421 - val_accuracy: 0.8493\n",
            "Epoch 10/100\n",
            "76/76 [==============================] - 0s 3ms/step - loss: 0.3413 - accuracy: 0.8589 - val_loss: 0.3393 - val_accuracy: 0.8527\n",
            "Epoch 11/100\n",
            "76/76 [==============================] - 0s 3ms/step - loss: 0.3449 - accuracy: 0.8467 - val_loss: 0.3407 - val_accuracy: 0.8544\n",
            "Epoch 12/100\n",
            "76/76 [==============================] - 0s 2ms/step - loss: 0.3297 - accuracy: 0.8684 - val_loss: 0.3399 - val_accuracy: 0.8535\n",
            "Epoch 13/100\n",
            "76/76 [==============================] - 0s 3ms/step - loss: 0.3379 - accuracy: 0.8508 - val_loss: 0.3390 - val_accuracy: 0.8544\n",
            "Epoch 14/100\n",
            "76/76 [==============================] - 0s 3ms/step - loss: 0.3498 - accuracy: 0.8547 - val_loss: 0.3394 - val_accuracy: 0.8544\n",
            "Epoch 15/100\n",
            "76/76 [==============================] - 0s 2ms/step - loss: 0.3632 - accuracy: 0.8414 - val_loss: 0.3392 - val_accuracy: 0.8552\n",
            "Epoch 16/100\n",
            "76/76 [==============================] - 0s 3ms/step - loss: 0.3247 - accuracy: 0.8753 - val_loss: 0.3397 - val_accuracy: 0.8527\n",
            "Epoch 17/100\n",
            "76/76 [==============================] - 0s 2ms/step - loss: 0.3651 - accuracy: 0.8408 - val_loss: 0.3411 - val_accuracy: 0.8502\n",
            "Epoch 18/100\n",
            "76/76 [==============================] - 0s 3ms/step - loss: 0.3443 - accuracy: 0.8548 - val_loss: 0.3394 - val_accuracy: 0.8535\n",
            "Epoch 19/100\n",
            "76/76 [==============================] - 0s 3ms/step - loss: 0.3390 - accuracy: 0.8605 - val_loss: 0.3392 - val_accuracy: 0.8510\n",
            "Epoch 20/100\n",
            "76/76 [==============================] - 0s 3ms/step - loss: 0.3310 - accuracy: 0.8660 - val_loss: 0.3397 - val_accuracy: 0.8476\n",
            "Epoch 21/100\n",
            "76/76 [==============================] - 0s 3ms/step - loss: 0.3406 - accuracy: 0.8486 - val_loss: 0.3383 - val_accuracy: 0.8502\n",
            "Epoch 22/100\n",
            "76/76 [==============================] - 0s 3ms/step - loss: 0.3459 - accuracy: 0.8540 - val_loss: 0.3391 - val_accuracy: 0.8493\n",
            "Epoch 23/100\n",
            "76/76 [==============================] - 0s 2ms/step - loss: 0.3319 - accuracy: 0.8702 - val_loss: 0.3379 - val_accuracy: 0.8510\n",
            "Epoch 24/100\n",
            "76/76 [==============================] - 0s 2ms/step - loss: 0.3291 - accuracy: 0.8620 - val_loss: 0.3386 - val_accuracy: 0.8527\n",
            "Epoch 25/100\n",
            "76/76 [==============================] - 0s 3ms/step - loss: 0.3342 - accuracy: 0.8584 - val_loss: 0.3384 - val_accuracy: 0.8535\n",
            "Epoch 26/100\n",
            "76/76 [==============================] - 0s 3ms/step - loss: 0.3283 - accuracy: 0.8662 - val_loss: 0.3391 - val_accuracy: 0.8519\n",
            "Epoch 27/100\n",
            "76/76 [==============================] - 0s 3ms/step - loss: 0.3078 - accuracy: 0.8761 - val_loss: 0.3412 - val_accuracy: 0.8519\n",
            "Epoch 28/100\n",
            "76/76 [==============================] - 0s 3ms/step - loss: 0.3247 - accuracy: 0.8692 - val_loss: 0.3388 - val_accuracy: 0.8535\n",
            "Epoch 29/100\n",
            "76/76 [==============================] - 0s 2ms/step - loss: 0.3162 - accuracy: 0.8579 - val_loss: 0.3382 - val_accuracy: 0.8519\n",
            "Epoch 30/100\n",
            "76/76 [==============================] - 0s 3ms/step - loss: 0.3289 - accuracy: 0.8712 - val_loss: 0.3395 - val_accuracy: 0.8485\n",
            "Epoch 31/100\n",
            "76/76 [==============================] - 0s 2ms/step - loss: 0.3403 - accuracy: 0.8652 - val_loss: 0.3409 - val_accuracy: 0.8502\n",
            "Epoch 32/100\n",
            "76/76 [==============================] - 0s 3ms/step - loss: 0.2802 - accuracy: 0.8814 - val_loss: 0.3390 - val_accuracy: 0.8519\n",
            "Epoch 33/100\n",
            "76/76 [==============================] - 0s 2ms/step - loss: 0.3192 - accuracy: 0.8706 - val_loss: 0.3418 - val_accuracy: 0.8544\n",
            "Epoch 34/100\n",
            "76/76 [==============================] - 0s 3ms/step - loss: 0.3069 - accuracy: 0.8676 - val_loss: 0.3421 - val_accuracy: 0.8535\n",
            "Epoch 35/100\n",
            "76/76 [==============================] - 0s 3ms/step - loss: 0.3033 - accuracy: 0.8703 - val_loss: 0.3417 - val_accuracy: 0.8493\n",
            "Epoch 36/100\n",
            "76/76 [==============================] - 0s 3ms/step - loss: 0.3203 - accuracy: 0.8701 - val_loss: 0.3424 - val_accuracy: 0.8519\n",
            "Epoch 37/100\n",
            "76/76 [==============================] - 0s 3ms/step - loss: 0.3090 - accuracy: 0.8726 - val_loss: 0.3449 - val_accuracy: 0.8510\n",
            "Epoch 38/100\n",
            "76/76 [==============================] - 0s 3ms/step - loss: 0.3266 - accuracy: 0.8616 - val_loss: 0.3441 - val_accuracy: 0.8502\n",
            "Epoch 39/100\n",
            "76/76 [==============================] - 0s 3ms/step - loss: 0.2979 - accuracy: 0.8768 - val_loss: 0.3440 - val_accuracy: 0.8493\n",
            "Epoch 40/100\n",
            "76/76 [==============================] - 0s 2ms/step - loss: 0.3057 - accuracy: 0.8801 - val_loss: 0.3413 - val_accuracy: 0.8493\n",
            "Epoch 41/100\n",
            "76/76 [==============================] - 0s 3ms/step - loss: 0.3282 - accuracy: 0.8652 - val_loss: 0.3430 - val_accuracy: 0.8485\n",
            "Epoch 42/100\n",
            "76/76 [==============================] - 0s 2ms/step - loss: 0.3019 - accuracy: 0.8777 - val_loss: 0.3440 - val_accuracy: 0.8502\n",
            "Epoch 43/100\n",
            "76/76 [==============================] - 0s 3ms/step - loss: 0.3097 - accuracy: 0.8729 - val_loss: 0.3447 - val_accuracy: 0.8485\n",
            "Epoch 44/100\n",
            "76/76 [==============================] - 0s 3ms/step - loss: 0.3393 - accuracy: 0.8684 - val_loss: 0.3441 - val_accuracy: 0.8510\n",
            "Epoch 45/100\n",
            "76/76 [==============================] - 0s 3ms/step - loss: 0.3057 - accuracy: 0.8751 - val_loss: 0.3429 - val_accuracy: 0.8493\n",
            "Epoch 46/100\n",
            "76/76 [==============================] - 0s 3ms/step - loss: 0.3058 - accuracy: 0.8780 - val_loss: 0.3454 - val_accuracy: 0.8493\n",
            "Epoch 47/100\n",
            "76/76 [==============================] - 0s 3ms/step - loss: 0.3078 - accuracy: 0.8810 - val_loss: 0.3446 - val_accuracy: 0.8476\n",
            "Epoch 48/100\n",
            "76/76 [==============================] - 0s 3ms/step - loss: 0.3006 - accuracy: 0.8784 - val_loss: 0.3475 - val_accuracy: 0.8443\n",
            "Epoch 49/100\n",
            "76/76 [==============================] - 0s 3ms/step - loss: 0.3072 - accuracy: 0.8841 - val_loss: 0.3480 - val_accuracy: 0.8485\n",
            "Epoch 50/100\n",
            "76/76 [==============================] - 0s 3ms/step - loss: 0.2929 - accuracy: 0.8776 - val_loss: 0.3480 - val_accuracy: 0.8519\n",
            "Epoch 51/100\n",
            "76/76 [==============================] - 0s 3ms/step - loss: 0.3196 - accuracy: 0.8780 - val_loss: 0.3493 - val_accuracy: 0.8485\n",
            "Epoch 52/100\n",
            "76/76 [==============================] - 0s 3ms/step - loss: 0.3154 - accuracy: 0.8657 - val_loss: 0.3469 - val_accuracy: 0.8485\n",
            "Epoch 53/100\n",
            "76/76 [==============================] - 0s 2ms/step - loss: 0.3062 - accuracy: 0.8827 - val_loss: 0.3481 - val_accuracy: 0.8493\n",
            "Epoch 54/100\n",
            "76/76 [==============================] - 0s 3ms/step - loss: 0.3130 - accuracy: 0.8609 - val_loss: 0.3454 - val_accuracy: 0.8493\n",
            "Epoch 55/100\n",
            "76/76 [==============================] - 0s 3ms/step - loss: 0.3051 - accuracy: 0.8734 - val_loss: 0.3464 - val_accuracy: 0.8451\n",
            "Epoch 56/100\n",
            "76/76 [==============================] - 0s 3ms/step - loss: 0.2920 - accuracy: 0.8798 - val_loss: 0.3475 - val_accuracy: 0.8502\n",
            "Epoch 57/100\n",
            "76/76 [==============================] - 0s 3ms/step - loss: 0.3243 - accuracy: 0.8679 - val_loss: 0.3466 - val_accuracy: 0.8460\n",
            "Epoch 58/100\n",
            "76/76 [==============================] - 0s 3ms/step - loss: 0.2904 - accuracy: 0.8845 - val_loss: 0.3476 - val_accuracy: 0.8468\n",
            "Epoch 59/100\n",
            "76/76 [==============================] - 0s 3ms/step - loss: 0.3061 - accuracy: 0.8904 - val_loss: 0.3449 - val_accuracy: 0.8468\n",
            "Epoch 60/100\n",
            "76/76 [==============================] - 0s 3ms/step - loss: 0.2926 - accuracy: 0.8825 - val_loss: 0.3483 - val_accuracy: 0.8451\n",
            "Epoch 61/100\n",
            "76/76 [==============================] - 0s 2ms/step - loss: 0.2860 - accuracy: 0.8809 - val_loss: 0.3478 - val_accuracy: 0.8451\n",
            "Epoch 62/100\n",
            "76/76 [==============================] - 0s 2ms/step - loss: 0.2806 - accuracy: 0.8840 - val_loss: 0.3497 - val_accuracy: 0.8468\n",
            "Epoch 63/100\n",
            "76/76 [==============================] - 0s 3ms/step - loss: 0.2768 - accuracy: 0.8747 - val_loss: 0.3522 - val_accuracy: 0.8460\n",
            "Epoch 64/100\n",
            "76/76 [==============================] - 0s 3ms/step - loss: 0.2759 - accuracy: 0.8900 - val_loss: 0.3513 - val_accuracy: 0.8476\n",
            "Epoch 65/100\n",
            "76/76 [==============================] - 0s 3ms/step - loss: 0.3018 - accuracy: 0.8734 - val_loss: 0.3520 - val_accuracy: 0.8502\n",
            "Epoch 66/100\n",
            "76/76 [==============================] - 0s 3ms/step - loss: 0.3076 - accuracy: 0.8802 - val_loss: 0.3546 - val_accuracy: 0.8476\n",
            "Epoch 67/100\n",
            "76/76 [==============================] - 0s 3ms/step - loss: 0.2861 - accuracy: 0.8905 - val_loss: 0.3583 - val_accuracy: 0.8485\n",
            "Epoch 68/100\n",
            "76/76 [==============================] - 0s 2ms/step - loss: 0.3145 - accuracy: 0.8659 - val_loss: 0.3515 - val_accuracy: 0.8485\n",
            "Epoch 69/100\n",
            "76/76 [==============================] - 0s 3ms/step - loss: 0.2820 - accuracy: 0.8745 - val_loss: 0.3547 - val_accuracy: 0.8527\n",
            "Epoch 70/100\n",
            "76/76 [==============================] - 0s 3ms/step - loss: 0.2679 - accuracy: 0.8852 - val_loss: 0.3570 - val_accuracy: 0.8460\n",
            "Epoch 71/100\n",
            "76/76 [==============================] - 0s 3ms/step - loss: 0.2946 - accuracy: 0.8778 - val_loss: 0.3588 - val_accuracy: 0.8468\n",
            "Epoch 72/100\n",
            "76/76 [==============================] - 0s 3ms/step - loss: 0.2735 - accuracy: 0.8862 - val_loss: 0.3602 - val_accuracy: 0.8476\n",
            "Epoch 73/100\n",
            "76/76 [==============================] - 0s 3ms/step - loss: 0.2811 - accuracy: 0.8878 - val_loss: 0.3607 - val_accuracy: 0.8493\n",
            "Epoch 74/100\n",
            "76/76 [==============================] - 0s 3ms/step - loss: 0.2911 - accuracy: 0.8819 - val_loss: 0.3592 - val_accuracy: 0.8468\n",
            "Epoch 75/100\n",
            "76/76 [==============================] - 0s 3ms/step - loss: 0.2818 - accuracy: 0.8878 - val_loss: 0.3617 - val_accuracy: 0.8434\n",
            "Epoch 76/100\n",
            "76/76 [==============================] - 0s 3ms/step - loss: 0.2957 - accuracy: 0.8852 - val_loss: 0.3608 - val_accuracy: 0.8476\n",
            "Epoch 77/100\n",
            "76/76 [==============================] - 0s 3ms/step - loss: 0.2740 - accuracy: 0.8833 - val_loss: 0.3621 - val_accuracy: 0.8460\n",
            "Epoch 78/100\n",
            "76/76 [==============================] - 0s 2ms/step - loss: 0.2951 - accuracy: 0.8848 - val_loss: 0.3613 - val_accuracy: 0.8434\n",
            "Epoch 79/100\n",
            "76/76 [==============================] - 0s 3ms/step - loss: 0.2732 - accuracy: 0.8783 - val_loss: 0.3635 - val_accuracy: 0.8409\n",
            "Epoch 80/100\n",
            "76/76 [==============================] - 0s 3ms/step - loss: 0.2825 - accuracy: 0.8850 - val_loss: 0.3690 - val_accuracy: 0.8460\n",
            "Epoch 81/100\n",
            "76/76 [==============================] - 0s 3ms/step - loss: 0.2743 - accuracy: 0.8939 - val_loss: 0.3670 - val_accuracy: 0.8443\n",
            "Epoch 82/100\n",
            "76/76 [==============================] - 0s 3ms/step - loss: 0.2729 - accuracy: 0.8869 - val_loss: 0.3667 - val_accuracy: 0.8451\n",
            "Epoch 83/100\n",
            "76/76 [==============================] - 0s 3ms/step - loss: 0.2944 - accuracy: 0.8823 - val_loss: 0.3611 - val_accuracy: 0.8426\n",
            "Epoch 84/100\n",
            "76/76 [==============================] - 0s 2ms/step - loss: 0.2865 - accuracy: 0.8915 - val_loss: 0.3649 - val_accuracy: 0.8468\n",
            "Epoch 85/100\n",
            "76/76 [==============================] - 0s 3ms/step - loss: 0.2779 - accuracy: 0.8944 - val_loss: 0.3670 - val_accuracy: 0.8418\n",
            "Epoch 86/100\n",
            "76/76 [==============================] - 0s 3ms/step - loss: 0.2716 - accuracy: 0.8834 - val_loss: 0.3689 - val_accuracy: 0.8434\n",
            "Epoch 87/100\n",
            "76/76 [==============================] - 0s 3ms/step - loss: 0.2967 - accuracy: 0.8765 - val_loss: 0.3731 - val_accuracy: 0.8418\n",
            "Epoch 88/100\n",
            "76/76 [==============================] - 0s 3ms/step - loss: 0.2683 - accuracy: 0.8869 - val_loss: 0.3753 - val_accuracy: 0.8434\n",
            "Epoch 89/100\n",
            "76/76 [==============================] - 0s 3ms/step - loss: 0.2716 - accuracy: 0.8883 - val_loss: 0.3709 - val_accuracy: 0.8401\n",
            "Epoch 90/100\n",
            "76/76 [==============================] - 0s 3ms/step - loss: 0.2626 - accuracy: 0.8939 - val_loss: 0.3757 - val_accuracy: 0.8375\n",
            "Epoch 91/100\n",
            "76/76 [==============================] - 0s 3ms/step - loss: 0.2744 - accuracy: 0.8821 - val_loss: 0.3739 - val_accuracy: 0.8401\n",
            "Epoch 92/100\n",
            "76/76 [==============================] - 0s 3ms/step - loss: 0.2817 - accuracy: 0.8907 - val_loss: 0.3748 - val_accuracy: 0.8426\n",
            "Epoch 93/100\n",
            "76/76 [==============================] - 0s 2ms/step - loss: 0.2474 - accuracy: 0.8937 - val_loss: 0.3769 - val_accuracy: 0.8434\n",
            "Epoch 94/100\n",
            "76/76 [==============================] - 0s 3ms/step - loss: 0.2706 - accuracy: 0.8852 - val_loss: 0.3769 - val_accuracy: 0.8409\n",
            "Epoch 95/100\n",
            "76/76 [==============================] - 0s 3ms/step - loss: 0.2748 - accuracy: 0.8797 - val_loss: 0.3779 - val_accuracy: 0.8401\n",
            "Epoch 96/100\n",
            "76/76 [==============================] - 0s 3ms/step - loss: 0.2672 - accuracy: 0.8895 - val_loss: 0.3792 - val_accuracy: 0.8401\n",
            "Epoch 97/100\n",
            "76/76 [==============================] - 0s 3ms/step - loss: 0.2711 - accuracy: 0.8968 - val_loss: 0.3815 - val_accuracy: 0.8392\n",
            "Epoch 98/100\n",
            "76/76 [==============================] - 0s 3ms/step - loss: 0.2545 - accuracy: 0.8910 - val_loss: 0.3821 - val_accuracy: 0.8401\n",
            "Epoch 99/100\n",
            "76/76 [==============================] - 0s 3ms/step - loss: 0.2599 - accuracy: 0.8931 - val_loss: 0.3856 - val_accuracy: 0.8401\n",
            "Epoch 100/100\n",
            "76/76 [==============================] - 0s 3ms/step - loss: 0.2593 - accuracy: 0.8816 - val_loss: 0.3847 - val_accuracy: 0.8401\n"
          ],
          "name": "stdout"
        }
      ]
    },
    {
      "cell_type": "code",
      "metadata": {
        "colab": {
          "base_uri": "https://localhost:8080/",
          "height": 277
        },
        "id": "acYFP63oOSRh",
        "outputId": "7fdb3c03-f002-4bc1-d09f-a88a857d2b44"
      },
      "source": [
        "from matplotlib import pyplot as plt\n",
        "plt.plot(H.history['accuracy'])\n",
        "plt.plot(H.history['val_accuracy'])\n",
        "plt.plot(H.history['loss'])\n",
        "plt.plot(H.history['val_loss'])\n",
        "plt.xlabel('epoch')\n",
        "plt.legend(['accuracy', 'val_accuracy', 'loss', 'val_loss'], loc='upper left')\n",
        "plt.show()"
      ],
      "execution_count": 117,
      "outputs": [
        {
          "output_type": "display_data",
          "data": {
            "image/png": "[encoded data removed]",
            "text/plain": [
              "<Figure size 432x288 with 1 Axes>"
            ]
          },
          "metadata": {
            "tags": [],
            "needs_background": "light"
          }
        }
      ]
    },
    {
      "cell_type": "code",
      "metadata": {
        "colab": {
          "base_uri": "https://localhost:8080/",
          "height": 435
        },
        "id": "hrDpuSjjOSRi",
        "outputId": "85b851f5-46cf-4284-c571-2000f2ae6b3b"
      },
      "source": [
        "plot_confusion_matrix(deep_model, X_valid_new_normal, y_valid)\n",
        "print_classification_report(deep_model, X_valid_new_normal, y_valid)"
      ],
      "execution_count": 118,
      "outputs": [
        {
          "output_type": "stream",
          "text": [
            "               precision    recall  f1-score   support\n",
            "\n",
            "Fighter 0 Win       0.83      0.86      0.84       594\n",
            "Fighter 1 Win       0.85      0.82      0.84       594\n",
            "\n",
            "     accuracy                           0.84      1188\n",
            "    macro avg       0.84      0.84      0.84      1188\n",
            " weighted avg       0.84      0.84      0.84      1188\n",
            "\n"
          ],
          "name": "stdout"
        },
        {
          "output_type": "display_data",
          "data": {
            "image/png": "[encoded data removed]",
            "text/plain": [
              "<Figure size 432x288 with 2 Axes>"
            ]
          },
          "metadata": {
            "tags": [],
            "needs_background": "light"
          }
        }
      ]
    },
    {
      "cell_type": "markdown",
      "metadata": {
        "id": "0MTgv_KmOSRj"
      },
      "source": [
        "### Comparison Model"
      ]
    },
    {
      "cell_type": "code",
      "metadata": {
        "id": "CNAmHJFKOSRj"
      },
      "source": [
        "from tensorflow.keras.layers import Input, Lambda, Subtract, Activation\n",
        "from tensorflow.keras.models import Model\n",
        "def create_comparison_model(input_shape):\n",
        "    num_features_per_fighter = input_shape[0] // 2\n",
        "\n",
        "    model_ = tf.keras.models.Sequential()\n",
        "    model_.add(tf.keras.Input(shape=num_features_per_fighter))\n",
        "    model_.add(tf.keras.layers.Dense(32, activation='relu'))\n",
        "    model_.add(tf.keras.layers.Dense(32, activation='relu'))\n",
        "    model_.add(tf.keras.layers.Dropout(0.5))\n",
        "\n",
        "    model_.add(tf.keras.layers.Dense(1, activation='relu'))\n",
        "    \n",
        "    # Run cnn model on each frame\n",
        "    input_tensor = Input(shape=input_shape)\n",
        "    fighter0_state = Lambda(lambda x: x[:, :num_features_per_fighter], name='fighter0_state')(input_tensor)\n",
        "    fighter1_state = Lambda(lambda x: x[:, num_features_per_fighter:], name='fighter1_state')(input_tensor)\n",
        "\n",
        "    fighter0_score = model_(fighter0_state)\n",
        "    fighter1_score = model_(fighter1_state)\n",
        "    fighter0_score = Lambda(lambda x: x, name='fighter0_score')(fighter0_score)\n",
        "    fighter1_score = Lambda(lambda x: x, name='fighter1_score')(fighter1_score)\n",
        "    \n",
        "    difference_score = Subtract(name='subtracter')([fighter1_score, fighter0_score])\n",
        "    prediction = Activation('sigmoid')(difference_score)\n",
        "    return Model(inputs=input_tensor, outputs=prediction)"
      ],
      "execution_count": 119,
      "outputs": []
    },
    {
      "cell_type": "code",
      "metadata": {
        "colab": {
          "base_uri": "https://localhost:8080/"
        },
        "id": "JVyaVIkzOSRj",
        "outputId": "0536e687-0170-4994-a83e-0889665f4de8"
      },
      "source": [
        "comparison_model = create_comparison_model(X_train.shape[1:])\n",
        "optimizer = tf.keras.optimizers.Adam(lr=0.001)\n",
        "comparison_model.compile(optimizer=optimizer, loss='binary_crossentropy', metrics=['accuracy'])\n",
        "comparison_model.summary()"
      ],
      "execution_count": 120,
      "outputs": [
        {
          "output_type": "stream",
          "text": [
            "Model: \"model\"\n",
            "__________________________________________________________________________________________________\n",
            "Layer (type)                    Output Shape         Param #     Connected to                     \n",
            "==================================================================================================\n",
            "input_3 (InputLayer)            [(None, 30)]         0                                            \n",
            "__________________________________________________________________________________________________\n",
            "fighter1_state (Lambda)         (None, 15)           0           input_3[0][0]                    \n",
            "__________________________________________________________________________________________________\n",
            "fighter0_state (Lambda)         (None, 15)           0           input_3[0][0]                    \n",
            "__________________________________________________________________________________________________\n",
            "sequential_1 (Sequential)       (None, 1)            1601        fighter0_state[0][0]             \n",
            "                                                                 fighter1_state[0][0]             \n",
            "__________________________________________________________________________________________________\n",
            "fighter1_score (Lambda)         (None, 1)            0           sequential_1[1][0]               \n",
            "__________________________________________________________________________________________________\n",
            "fighter0_score (Lambda)         (None, 1)            0           sequential_1[0][0]               \n",
            "__________________________________________________________________________________________________\n",
            "subtracter (Subtract)           (None, 1)            0           fighter1_score[0][0]             \n",
            "                                                                 fighter0_score[0][0]             \n",
            "__________________________________________________________________________________________________\n",
            "activation (Activation)         (None, 1)            0           subtracter[0][0]                 \n",
            "==================================================================================================\n",
            "Total params: 1,601\n",
            "Trainable params: 1,601\n",
            "Non-trainable params: 0\n",
            "__________________________________________________________________________________________________\n"
          ],
          "name": "stdout"
        }
      ]
    },
    {
      "cell_type": "code",
      "metadata": {
        "colab": {
          "base_uri": "https://localhost:8080/"
        },
        "id": "Drp0QsEtOSRk",
        "outputId": "ef976487-05cf-40de-8a48-4ee8b286aacd"
      },
      "source": [
        "H = comparison_model.fit(X_train, y_train, epochs=100, validation_data=(X_valid_new_normal, y_valid))"
      ],
      "execution_count": 121,
      "outputs": [
        {
          "output_type": "stream",
          "text": [
            "Epoch 1/100\n",
            "76/76 [==============================] - 1s 6ms/step - loss: 0.6009 - accuracy: 0.6443 - val_loss: 0.4434 - val_accuracy: 0.7946\n",
            "Epoch 2/100\n",
            "76/76 [==============================] - 0s 3ms/step - loss: 0.4587 - accuracy: 0.7730 - val_loss: 0.3934 - val_accuracy: 0.8266\n",
            "Epoch 3/100\n",
            "76/76 [==============================] - 0s 3ms/step - loss: 0.4130 - accuracy: 0.8105 - val_loss: 0.3863 - val_accuracy: 0.8375\n",
            "Epoch 4/100\n",
            "76/76 [==============================] - 0s 3ms/step - loss: 0.3891 - accuracy: 0.8130 - val_loss: 0.3784 - val_accuracy: 0.8468\n",
            "Epoch 5/100\n",
            "76/76 [==============================] - 0s 3ms/step - loss: 0.3865 - accuracy: 0.8205 - val_loss: 0.3744 - val_accuracy: 0.8485\n",
            "Epoch 6/100\n",
            "76/76 [==============================] - 0s 3ms/step - loss: 0.3839 - accuracy: 0.8297 - val_loss: 0.3723 - val_accuracy: 0.8510\n",
            "Epoch 7/100\n",
            "76/76 [==============================] - 0s 3ms/step - loss: 0.3558 - accuracy: 0.8414 - val_loss: 0.3696 - val_accuracy: 0.8519\n",
            "Epoch 8/100\n",
            "76/76 [==============================] - 0s 3ms/step - loss: 0.3839 - accuracy: 0.8455 - val_loss: 0.3724 - val_accuracy: 0.8535\n",
            "Epoch 9/100\n",
            "76/76 [==============================] - 0s 3ms/step - loss: 0.3696 - accuracy: 0.8434 - val_loss: 0.3691 - val_accuracy: 0.8502\n",
            "Epoch 10/100\n",
            "76/76 [==============================] - 0s 3ms/step - loss: 0.3530 - accuracy: 0.8441 - val_loss: 0.3693 - val_accuracy: 0.8476\n",
            "Epoch 11/100\n",
            "76/76 [==============================] - 0s 3ms/step - loss: 0.3452 - accuracy: 0.8451 - val_loss: 0.3735 - val_accuracy: 0.8443\n",
            "Epoch 12/100\n",
            "76/76 [==============================] - 0s 3ms/step - loss: 0.3579 - accuracy: 0.8417 - val_loss: 0.3710 - val_accuracy: 0.8502\n",
            "Epoch 13/100\n",
            "76/76 [==============================] - 0s 3ms/step - loss: 0.3471 - accuracy: 0.8655 - val_loss: 0.3738 - val_accuracy: 0.8409\n",
            "Epoch 14/100\n",
            "76/76 [==============================] - 0s 3ms/step - loss: 0.3565 - accuracy: 0.8535 - val_loss: 0.3748 - val_accuracy: 0.8418\n",
            "Epoch 15/100\n",
            "76/76 [==============================] - 0s 3ms/step - loss: 0.3321 - accuracy: 0.8700 - val_loss: 0.3673 - val_accuracy: 0.8552\n",
            "Epoch 16/100\n",
            "76/76 [==============================] - 0s 3ms/step - loss: 0.3510 - accuracy: 0.8469 - val_loss: 0.3677 - val_accuracy: 0.8527\n",
            "Epoch 17/100\n",
            "76/76 [==============================] - 0s 3ms/step - loss: 0.3309 - accuracy: 0.8586 - val_loss: 0.3679 - val_accuracy: 0.8544\n",
            "Epoch 18/100\n",
            "76/76 [==============================] - 0s 3ms/step - loss: 0.3071 - accuracy: 0.8839 - val_loss: 0.3683 - val_accuracy: 0.8527\n",
            "Epoch 19/100\n",
            "76/76 [==============================] - 0s 3ms/step - loss: 0.3210 - accuracy: 0.8632 - val_loss: 0.3680 - val_accuracy: 0.8561\n",
            "Epoch 20/100\n",
            "76/76 [==============================] - 0s 3ms/step - loss: 0.3451 - accuracy: 0.8472 - val_loss: 0.3701 - val_accuracy: 0.8519\n",
            "Epoch 21/100\n",
            "76/76 [==============================] - 0s 3ms/step - loss: 0.3201 - accuracy: 0.8598 - val_loss: 0.3697 - val_accuracy: 0.8561\n",
            "Epoch 22/100\n",
            "76/76 [==============================] - 0s 3ms/step - loss: 0.3257 - accuracy: 0.8547 - val_loss: 0.3694 - val_accuracy: 0.8519\n",
            "Epoch 23/100\n",
            "76/76 [==============================] - 0s 3ms/step - loss: 0.3233 - accuracy: 0.8686 - val_loss: 0.3736 - val_accuracy: 0.8476\n",
            "Epoch 24/100\n",
            "76/76 [==============================] - 0s 3ms/step - loss: 0.3281 - accuracy: 0.8610 - val_loss: 0.3699 - val_accuracy: 0.8485\n",
            "Epoch 25/100\n",
            "76/76 [==============================] - 0s 3ms/step - loss: 0.3095 - accuracy: 0.8657 - val_loss: 0.3716 - val_accuracy: 0.8485\n",
            "Epoch 26/100\n",
            "76/76 [==============================] - 0s 3ms/step - loss: 0.3177 - accuracy: 0.8566 - val_loss: 0.3671 - val_accuracy: 0.8502\n",
            "Epoch 27/100\n",
            "76/76 [==============================] - 0s 3ms/step - loss: 0.3092 - accuracy: 0.8737 - val_loss: 0.3714 - val_accuracy: 0.8485\n",
            "Epoch 28/100\n",
            "76/76 [==============================] - 0s 3ms/step - loss: 0.3037 - accuracy: 0.8707 - val_loss: 0.3736 - val_accuracy: 0.8485\n",
            "Epoch 29/100\n",
            "76/76 [==============================] - 0s 3ms/step - loss: 0.2949 - accuracy: 0.8702 - val_loss: 0.3739 - val_accuracy: 0.8460\n",
            "Epoch 30/100\n",
            "76/76 [==============================] - 0s 4ms/step - loss: 0.2762 - accuracy: 0.8805 - val_loss: 0.3763 - val_accuracy: 0.8485\n",
            "Epoch 31/100\n",
            "76/76 [==============================] - 0s 3ms/step - loss: 0.3038 - accuracy: 0.8767 - val_loss: 0.3680 - val_accuracy: 0.8519\n",
            "Epoch 32/100\n",
            "76/76 [==============================] - 0s 3ms/step - loss: 0.2996 - accuracy: 0.8695 - val_loss: 0.3760 - val_accuracy: 0.8510\n",
            "Epoch 33/100\n",
            "76/76 [==============================] - 0s 3ms/step - loss: 0.3072 - accuracy: 0.8699 - val_loss: 0.3753 - val_accuracy: 0.8485\n",
            "Epoch 34/100\n",
            "76/76 [==============================] - 0s 3ms/step - loss: 0.2891 - accuracy: 0.8864 - val_loss: 0.3691 - val_accuracy: 0.8502\n",
            "Epoch 35/100\n",
            "76/76 [==============================] - 0s 3ms/step - loss: 0.2912 - accuracy: 0.8796 - val_loss: 0.3698 - val_accuracy: 0.8552\n",
            "Epoch 36/100\n",
            "76/76 [==============================] - 0s 3ms/step - loss: 0.2943 - accuracy: 0.8700 - val_loss: 0.3728 - val_accuracy: 0.8527\n",
            "Epoch 37/100\n",
            "76/76 [==============================] - 0s 3ms/step - loss: 0.2825 - accuracy: 0.8734 - val_loss: 0.3750 - val_accuracy: 0.8460\n",
            "Epoch 38/100\n",
            "76/76 [==============================] - 0s 3ms/step - loss: 0.2982 - accuracy: 0.8732 - val_loss: 0.3768 - val_accuracy: 0.8527\n",
            "Epoch 39/100\n",
            "76/76 [==============================] - 0s 3ms/step - loss: 0.2740 - accuracy: 0.8880 - val_loss: 0.3772 - val_accuracy: 0.8401\n",
            "Epoch 40/100\n",
            "76/76 [==============================] - 0s 3ms/step - loss: 0.3007 - accuracy: 0.8658 - val_loss: 0.3735 - val_accuracy: 0.8561\n",
            "Epoch 41/100\n",
            "76/76 [==============================] - 0s 3ms/step - loss: 0.2611 - accuracy: 0.8893 - val_loss: 0.3817 - val_accuracy: 0.8426\n",
            "Epoch 42/100\n",
            "76/76 [==============================] - 0s 3ms/step - loss: 0.2814 - accuracy: 0.8739 - val_loss: 0.3781 - val_accuracy: 0.8409\n",
            "Epoch 43/100\n",
            "76/76 [==============================] - 0s 3ms/step - loss: 0.2661 - accuracy: 0.8887 - val_loss: 0.3720 - val_accuracy: 0.8468\n",
            "Epoch 44/100\n",
            "76/76 [==============================] - 0s 3ms/step - loss: 0.2571 - accuracy: 0.9030 - val_loss: 0.3813 - val_accuracy: 0.8434\n",
            "Epoch 45/100\n",
            "76/76 [==============================] - 0s 3ms/step - loss: 0.2828 - accuracy: 0.8878 - val_loss: 0.3805 - val_accuracy: 0.8476\n",
            "Epoch 46/100\n",
            "76/76 [==============================] - 0s 4ms/step - loss: 0.2585 - accuracy: 0.8969 - val_loss: 0.3851 - val_accuracy: 0.8451\n",
            "Epoch 47/100\n",
            "76/76 [==============================] - 0s 3ms/step - loss: 0.2670 - accuracy: 0.8917 - val_loss: 0.3805 - val_accuracy: 0.8476\n",
            "Epoch 48/100\n",
            "76/76 [==============================] - 0s 3ms/step - loss: 0.2756 - accuracy: 0.8910 - val_loss: 0.3870 - val_accuracy: 0.8401\n",
            "Epoch 49/100\n",
            "76/76 [==============================] - 0s 3ms/step - loss: 0.2448 - accuracy: 0.8975 - val_loss: 0.3858 - val_accuracy: 0.8384\n",
            "Epoch 50/100\n",
            "76/76 [==============================] - 0s 3ms/step - loss: 0.2437 - accuracy: 0.8999 - val_loss: 0.3883 - val_accuracy: 0.8451\n",
            "Epoch 51/100\n",
            "76/76 [==============================] - 0s 3ms/step - loss: 0.2653 - accuracy: 0.8935 - val_loss: 0.3944 - val_accuracy: 0.8409\n",
            "Epoch 52/100\n",
            "76/76 [==============================] - 0s 3ms/step - loss: 0.2619 - accuracy: 0.8863 - val_loss: 0.3830 - val_accuracy: 0.8460\n",
            "Epoch 53/100\n",
            "76/76 [==============================] - 0s 3ms/step - loss: 0.2501 - accuracy: 0.8944 - val_loss: 0.3858 - val_accuracy: 0.8485\n",
            "Epoch 54/100\n",
            "76/76 [==============================] - 0s 3ms/step - loss: 0.2506 - accuracy: 0.9026 - val_loss: 0.3856 - val_accuracy: 0.8493\n",
            "Epoch 55/100\n",
            "76/76 [==============================] - 0s 3ms/step - loss: 0.2633 - accuracy: 0.8954 - val_loss: 0.3884 - val_accuracy: 0.8401\n",
            "Epoch 56/100\n",
            "76/76 [==============================] - 0s 3ms/step - loss: 0.2540 - accuracy: 0.8964 - val_loss: 0.3856 - val_accuracy: 0.8552\n",
            "Epoch 57/100\n",
            "76/76 [==============================] - 0s 3ms/step - loss: 0.2477 - accuracy: 0.9008 - val_loss: 0.3988 - val_accuracy: 0.8384\n",
            "Epoch 58/100\n",
            "76/76 [==============================] - 0s 3ms/step - loss: 0.2559 - accuracy: 0.8960 - val_loss: 0.3938 - val_accuracy: 0.8401\n",
            "Epoch 59/100\n",
            "76/76 [==============================] - 0s 3ms/step - loss: 0.2338 - accuracy: 0.9062 - val_loss: 0.3999 - val_accuracy: 0.8451\n",
            "Epoch 60/100\n",
            "76/76 [==============================] - 0s 3ms/step - loss: 0.2278 - accuracy: 0.9094 - val_loss: 0.3957 - val_accuracy: 0.8468\n",
            "Epoch 61/100\n",
            "76/76 [==============================] - 0s 3ms/step - loss: 0.2350 - accuracy: 0.9104 - val_loss: 0.4002 - val_accuracy: 0.8384\n",
            "Epoch 62/100\n",
            "76/76 [==============================] - 0s 3ms/step - loss: 0.2299 - accuracy: 0.9074 - val_loss: 0.3991 - val_accuracy: 0.8325\n",
            "Epoch 63/100\n",
            "76/76 [==============================] - 0s 3ms/step - loss: 0.2428 - accuracy: 0.9000 - val_loss: 0.4035 - val_accuracy: 0.8375\n",
            "Epoch 64/100\n",
            "76/76 [==============================] - 0s 3ms/step - loss: 0.2271 - accuracy: 0.9004 - val_loss: 0.3962 - val_accuracy: 0.8443\n",
            "Epoch 65/100\n",
            "76/76 [==============================] - 0s 3ms/step - loss: 0.2387 - accuracy: 0.9040 - val_loss: 0.4068 - val_accuracy: 0.8283\n",
            "Epoch 66/100\n",
            "76/76 [==============================] - 0s 4ms/step - loss: 0.2318 - accuracy: 0.9018 - val_loss: 0.4020 - val_accuracy: 0.8350\n",
            "Epoch 67/100\n",
            "76/76 [==============================] - 0s 3ms/step - loss: 0.2311 - accuracy: 0.9004 - val_loss: 0.4011 - val_accuracy: 0.8409\n",
            "Epoch 68/100\n",
            "76/76 [==============================] - 0s 3ms/step - loss: 0.2362 - accuracy: 0.8994 - val_loss: 0.4135 - val_accuracy: 0.8266\n",
            "Epoch 69/100\n",
            "76/76 [==============================] - 0s 3ms/step - loss: 0.2225 - accuracy: 0.9138 - val_loss: 0.4077 - val_accuracy: 0.8316\n",
            "Epoch 70/100\n",
            "76/76 [==============================] - 0s 3ms/step - loss: 0.2385 - accuracy: 0.8948 - val_loss: 0.4000 - val_accuracy: 0.8392\n",
            "Epoch 71/100\n",
            "76/76 [==============================] - 0s 3ms/step - loss: 0.2380 - accuracy: 0.8945 - val_loss: 0.4031 - val_accuracy: 0.8451\n",
            "Epoch 72/100\n",
            "76/76 [==============================] - 0s 3ms/step - loss: 0.2269 - accuracy: 0.9047 - val_loss: 0.4127 - val_accuracy: 0.8342\n",
            "Epoch 73/100\n",
            "76/76 [==============================] - 0s 3ms/step - loss: 0.2108 - accuracy: 0.9234 - val_loss: 0.4152 - val_accuracy: 0.8342\n",
            "Epoch 74/100\n",
            "76/76 [==============================] - 0s 3ms/step - loss: 0.2255 - accuracy: 0.8998 - val_loss: 0.4138 - val_accuracy: 0.8375\n",
            "Epoch 75/100\n",
            "76/76 [==============================] - 0s 3ms/step - loss: 0.2354 - accuracy: 0.9062 - val_loss: 0.4174 - val_accuracy: 0.8283\n",
            "Epoch 76/100\n",
            "76/76 [==============================] - 0s 3ms/step - loss: 0.2112 - accuracy: 0.9235 - val_loss: 0.4088 - val_accuracy: 0.8333\n",
            "Epoch 77/100\n",
            "76/76 [==============================] - 0s 3ms/step - loss: 0.2395 - accuracy: 0.9060 - val_loss: 0.4203 - val_accuracy: 0.8359\n",
            "Epoch 78/100\n",
            "76/76 [==============================] - 0s 3ms/step - loss: 0.2103 - accuracy: 0.9099 - val_loss: 0.4248 - val_accuracy: 0.8384\n",
            "Epoch 79/100\n",
            "76/76 [==============================] - 0s 3ms/step - loss: 0.2155 - accuracy: 0.9065 - val_loss: 0.4393 - val_accuracy: 0.8224\n",
            "Epoch 80/100\n",
            "76/76 [==============================] - 0s 3ms/step - loss: 0.2053 - accuracy: 0.9082 - val_loss: 0.4407 - val_accuracy: 0.8258\n",
            "Epoch 81/100\n",
            "76/76 [==============================] - 0s 3ms/step - loss: 0.2265 - accuracy: 0.9072 - val_loss: 0.4404 - val_accuracy: 0.8375\n",
            "Epoch 82/100\n",
            "76/76 [==============================] - 0s 3ms/step - loss: 0.2277 - accuracy: 0.9010 - val_loss: 0.4377 - val_accuracy: 0.8308\n",
            "Epoch 83/100\n",
            "76/76 [==============================] - 0s 3ms/step - loss: 0.2052 - accuracy: 0.9146 - val_loss: 0.4366 - val_accuracy: 0.8316\n",
            "Epoch 84/100\n",
            "76/76 [==============================] - 0s 3ms/step - loss: 0.2107 - accuracy: 0.9152 - val_loss: 0.4334 - val_accuracy: 0.8232\n",
            "Epoch 85/100\n",
            "76/76 [==============================] - 0s 3ms/step - loss: 0.1981 - accuracy: 0.9212 - val_loss: 0.4414 - val_accuracy: 0.8325\n",
            "Epoch 86/100\n",
            "76/76 [==============================] - 0s 3ms/step - loss: 0.2020 - accuracy: 0.9169 - val_loss: 0.4307 - val_accuracy: 0.8266\n",
            "Epoch 87/100\n",
            "76/76 [==============================] - 0s 3ms/step - loss: 0.2133 - accuracy: 0.9140 - val_loss: 0.4342 - val_accuracy: 0.8182\n",
            "Epoch 88/100\n",
            "76/76 [==============================] - 0s 3ms/step - loss: 0.2126 - accuracy: 0.9117 - val_loss: 0.4268 - val_accuracy: 0.8350\n",
            "Epoch 89/100\n",
            "76/76 [==============================] - 0s 3ms/step - loss: 0.2101 - accuracy: 0.9178 - val_loss: 0.4525 - val_accuracy: 0.8157\n",
            "Epoch 90/100\n",
            "76/76 [==============================] - 0s 3ms/step - loss: 0.2058 - accuracy: 0.9149 - val_loss: 0.4498 - val_accuracy: 0.8207\n",
            "Epoch 91/100\n",
            "76/76 [==============================] - 0s 3ms/step - loss: 0.1767 - accuracy: 0.9263 - val_loss: 0.4493 - val_accuracy: 0.8199\n",
            "Epoch 92/100\n",
            "76/76 [==============================] - 0s 3ms/step - loss: 0.2105 - accuracy: 0.9127 - val_loss: 0.4519 - val_accuracy: 0.8182\n",
            "Epoch 93/100\n",
            "76/76 [==============================] - 0s 3ms/step - loss: 0.2067 - accuracy: 0.9123 - val_loss: 0.4432 - val_accuracy: 0.8274\n",
            "Epoch 94/100\n",
            "76/76 [==============================] - 0s 3ms/step - loss: 0.1935 - accuracy: 0.9229 - val_loss: 0.4443 - val_accuracy: 0.8258\n",
            "Epoch 95/100\n",
            "76/76 [==============================] - 0s 3ms/step - loss: 0.2133 - accuracy: 0.9131 - val_loss: 0.4524 - val_accuracy: 0.8232\n",
            "Epoch 96/100\n",
            "76/76 [==============================] - 0s 3ms/step - loss: 0.1917 - accuracy: 0.9240 - val_loss: 0.4533 - val_accuracy: 0.8291\n",
            "Epoch 97/100\n",
            "76/76 [==============================] - 0s 3ms/step - loss: 0.2019 - accuracy: 0.9217 - val_loss: 0.4620 - val_accuracy: 0.8148\n",
            "Epoch 98/100\n",
            "76/76 [==============================] - 0s 3ms/step - loss: 0.1973 - accuracy: 0.9109 - val_loss: 0.4483 - val_accuracy: 0.8367\n",
            "Epoch 99/100\n",
            "76/76 [==============================] - 0s 3ms/step - loss: 0.1833 - accuracy: 0.9246 - val_loss: 0.4597 - val_accuracy: 0.8266\n",
            "Epoch 100/100\n",
            "76/76 [==============================] - 0s 3ms/step - loss: 0.1854 - accuracy: 0.9293 - val_loss: 0.4690 - val_accuracy: 0.8224\n"
          ],
          "name": "stdout"
        }
      ]
    },
    {
      "cell_type": "code",
      "metadata": {
        "colab": {
          "base_uri": "https://localhost:8080/",
          "height": 277
        },
        "id": "Pc-Uvs2yOSRk",
        "outputId": "00082320-4758-48f5-a98a-70f2c312b6e4"
      },
      "source": [
        "from matplotlib import pyplot as plt\n",
        "plt.plot(H.history['accuracy'])\n",
        "plt.plot(H.history['val_accuracy'])\n",
        "plt.plot(H.history['loss'])\n",
        "plt.plot(H.history['val_loss'])\n",
        "plt.xlabel('epoch')\n",
        "plt.legend(['accuracy', 'val_accuracy', 'loss', 'val_loss'], loc='upper left')\n",
        "plt.show()"
      ],
      "execution_count": 122,
      "outputs": [
        {
          "output_type": "display_data",
          "data": {
            "image/png": "[encoded data removed]",
            "text/plain": [
              "<Figure size 432x288 with 1 Axes>"
            ]
          },
          "metadata": {
            "tags": [],
            "needs_background": "light"
          }
        }
      ]
    },
    {
      "cell_type": "code",
      "metadata": {
        "colab": {
          "base_uri": "https://localhost:8080/",
          "height": 435
        },
        "id": "AtM9mTwoOSRk",
        "outputId": "f45f7c2a-65fb-4cb4-8ec4-6327c4fc1654"
      },
      "source": [
        "plot_confusion_matrix(comparison_model, X_valid_new_normal, y_valid)\n",
        "print_classification_report(comparison_model, X_valid_new_normal, y_valid)"
      ],
      "execution_count": 123,
      "outputs": [
        {
          "output_type": "stream",
          "text": [
            "               precision    recall  f1-score   support\n",
            "\n",
            "Fighter 0 Win       0.81      0.84      0.82       594\n",
            "Fighter 1 Win       0.83      0.81      0.82       594\n",
            "\n",
            "     accuracy                           0.82      1188\n",
            "    macro avg       0.82      0.82      0.82      1188\n",
            " weighted avg       0.82      0.82      0.82      1188\n",
            "\n"
          ],
          "name": "stdout"
        },
        {
          "output_type": "display_data",
          "data": {
            "image/png": "[encoded data removed]",
            "text/plain": [
              "<Figure size 432x288 with 2 Axes>"
            ]
          },
          "metadata": {
            "tags": [],
            "needs_background": "light"
          }
        }
      ]
    },
    {
      "cell_type": "code",
      "metadata": {
        "id": "tmXQhcXzOSRl"
      },
      "source": [
        "lo, hi = 11, 20"
      ],
      "execution_count": 124,
      "outputs": []
    },
    {
      "cell_type": "code",
      "metadata": {
        "colab": {
          "base_uri": "https://localhost:8080/",
          "height": 367
        },
        "id": "m_W-6PQpOSRl",
        "outputId": "77547f5a-9400-4afa-8109-3b64e85c779f"
      },
      "source": [
        "X_test_new[lo:hi]"
      ],
      "execution_count": 125,
      "outputs": [
        {
          "output_type": "execute_result",
          "data": {
            "text/html": [
              "<div>\n",
              "<style scoped>\n",
              "    .dataframe tbody tr th:only-of-type {\n",
              "        vertical-align: middle;\n",
              "    }\n",
              "\n",
              "    .dataframe tbody tr th {\n",
              "        vertical-align: top;\n",
              "    }\n",
              "\n",
              "    .dataframe thead th {\n",
              "        text-align: right;\n",
              "    }\n",
              "</style>\n",
              "<table border=\"1\" class=\"dataframe\">\n",
              "  <thead>\n",
              "    <tr style=\"text-align: right;\">\n",
              "      <th></th>\n",
              "      <th>Fighter 0 KD</th>\n",
              "      <th>Fighter 0 Sig. str.</th>\n",
              "      <th>Fighter 0 Sig. str. %</th>\n",
              "      <th>Fighter 0 Total str.</th>\n",
              "      <th>Fighter 0 Td</th>\n",
              "      <th>Fighter 0 Td %</th>\n",
              "      <th>Fighter 0 Sub. att</th>\n",
              "      <th>Fighter 0 Rev.</th>\n",
              "      <th>Fighter 0 Ctrl</th>\n",
              "      <th>Fighter 0 Head</th>\n",
              "      <th>Fighter 0 Body</th>\n",
              "      <th>Fighter 0 Leg</th>\n",
              "      <th>Fighter 0 Distance</th>\n",
              "      <th>Fighter 0 Clinch</th>\n",
              "      <th>Fighter 0 Ground</th>\n",
              "      <th>Fighter 1 KD</th>\n",
              "      <th>Fighter 1 Sig. str.</th>\n",
              "      <th>Fighter 1 Sig. str. %</th>\n",
              "      <th>Fighter 1 Total str.</th>\n",
              "      <th>Fighter 1 Td</th>\n",
              "      <th>Fighter 1 Td %</th>\n",
              "      <th>Fighter 1 Sub. att</th>\n",
              "      <th>Fighter 1 Rev.</th>\n",
              "      <th>Fighter 1 Ctrl</th>\n",
              "      <th>Fighter 1 Head</th>\n",
              "      <th>Fighter 1 Body</th>\n",
              "      <th>Fighter 1 Leg</th>\n",
              "      <th>Fighter 1 Distance</th>\n",
              "      <th>Fighter 1 Clinch</th>\n",
              "      <th>Fighter 1 Ground</th>\n",
              "    </tr>\n",
              "  </thead>\n",
              "  <tbody>\n",
              "    <tr>\n",
              "      <th>1705</th>\n",
              "      <td>0</td>\n",
              "      <td>63</td>\n",
              "      <td>45.0</td>\n",
              "      <td>84</td>\n",
              "      <td>1</td>\n",
              "      <td>100.0</td>\n",
              "      <td>0</td>\n",
              "      <td>0</td>\n",
              "      <td>280.0</td>\n",
              "      <td>40</td>\n",
              "      <td>18</td>\n",
              "      <td>5</td>\n",
              "      <td>41</td>\n",
              "      <td>9</td>\n",
              "      <td>13</td>\n",
              "      <td>0</td>\n",
              "      <td>34</td>\n",
              "      <td>42.0</td>\n",
              "      <td>61</td>\n",
              "      <td>1</td>\n",
              "      <td>20.0</td>\n",
              "      <td>0</td>\n",
              "      <td>0</td>\n",
              "      <td>146.0</td>\n",
              "      <td>18</td>\n",
              "      <td>8</td>\n",
              "      <td>8</td>\n",
              "      <td>26</td>\n",
              "      <td>3</td>\n",
              "      <td>5</td>\n",
              "    </tr>\n",
              "    <tr>\n",
              "      <th>1058</th>\n",
              "      <td>0</td>\n",
              "      <td>77</td>\n",
              "      <td>44.0</td>\n",
              "      <td>125</td>\n",
              "      <td>0</td>\n",
              "      <td>0.0</td>\n",
              "      <td>0</td>\n",
              "      <td>0</td>\n",
              "      <td>0.0</td>\n",
              "      <td>29</td>\n",
              "      <td>28</td>\n",
              "      <td>20</td>\n",
              "      <td>65</td>\n",
              "      <td>8</td>\n",
              "      <td>4</td>\n",
              "      <td>1</td>\n",
              "      <td>67</td>\n",
              "      <td>43.0</td>\n",
              "      <td>91</td>\n",
              "      <td>0</td>\n",
              "      <td>0.0</td>\n",
              "      <td>0</td>\n",
              "      <td>0</td>\n",
              "      <td>278.0</td>\n",
              "      <td>21</td>\n",
              "      <td>31</td>\n",
              "      <td>15</td>\n",
              "      <td>54</td>\n",
              "      <td>8</td>\n",
              "      <td>5</td>\n",
              "    </tr>\n",
              "    <tr>\n",
              "      <th>619</th>\n",
              "      <td>0</td>\n",
              "      <td>134</td>\n",
              "      <td>44.0</td>\n",
              "      <td>135</td>\n",
              "      <td>0</td>\n",
              "      <td>0.0</td>\n",
              "      <td>0</td>\n",
              "      <td>0</td>\n",
              "      <td>2.0</td>\n",
              "      <td>85</td>\n",
              "      <td>32</td>\n",
              "      <td>17</td>\n",
              "      <td>132</td>\n",
              "      <td>2</td>\n",
              "      <td>0</td>\n",
              "      <td>0</td>\n",
              "      <td>157</td>\n",
              "      <td>51.0</td>\n",
              "      <td>157</td>\n",
              "      <td>0</td>\n",
              "      <td>0.0</td>\n",
              "      <td>0</td>\n",
              "      <td>0</td>\n",
              "      <td>45.0</td>\n",
              "      <td>67</td>\n",
              "      <td>15</td>\n",
              "      <td>75</td>\n",
              "      <td>156</td>\n",
              "      <td>1</td>\n",
              "      <td>0</td>\n",
              "    </tr>\n",
              "    <tr>\n",
              "      <th>3465</th>\n",
              "      <td>0</td>\n",
              "      <td>16</td>\n",
              "      <td>34.0</td>\n",
              "      <td>51</td>\n",
              "      <td>2</td>\n",
              "      <td>50.0</td>\n",
              "      <td>3</td>\n",
              "      <td>0</td>\n",
              "      <td>521.0</td>\n",
              "      <td>10</td>\n",
              "      <td>4</td>\n",
              "      <td>2</td>\n",
              "      <td>7</td>\n",
              "      <td>3</td>\n",
              "      <td>6</td>\n",
              "      <td>0</td>\n",
              "      <td>19</td>\n",
              "      <td>26.0</td>\n",
              "      <td>44</td>\n",
              "      <td>0</td>\n",
              "      <td>0.0</td>\n",
              "      <td>0</td>\n",
              "      <td>1</td>\n",
              "      <td>14.0</td>\n",
              "      <td>14</td>\n",
              "      <td>2</td>\n",
              "      <td>3</td>\n",
              "      <td>19</td>\n",
              "      <td>0</td>\n",
              "      <td>0</td>\n",
              "    </tr>\n",
              "    <tr>\n",
              "      <th>5609</th>\n",
              "      <td>0</td>\n",
              "      <td>88</td>\n",
              "      <td>47.0</td>\n",
              "      <td>96</td>\n",
              "      <td>2</td>\n",
              "      <td>22.0</td>\n",
              "      <td>1</td>\n",
              "      <td>0</td>\n",
              "      <td>154.0</td>\n",
              "      <td>62</td>\n",
              "      <td>16</td>\n",
              "      <td>10</td>\n",
              "      <td>51</td>\n",
              "      <td>33</td>\n",
              "      <td>4</td>\n",
              "      <td>0</td>\n",
              "      <td>57</td>\n",
              "      <td>38.0</td>\n",
              "      <td>64</td>\n",
              "      <td>0</td>\n",
              "      <td>0.0</td>\n",
              "      <td>0</td>\n",
              "      <td>0</td>\n",
              "      <td>19.0</td>\n",
              "      <td>55</td>\n",
              "      <td>1</td>\n",
              "      <td>1</td>\n",
              "      <td>43</td>\n",
              "      <td>14</td>\n",
              "      <td>0</td>\n",
              "    </tr>\n",
              "    <tr>\n",
              "      <th>2047</th>\n",
              "      <td>0</td>\n",
              "      <td>20</td>\n",
              "      <td>50.0</td>\n",
              "      <td>83</td>\n",
              "      <td>2</td>\n",
              "      <td>33.0</td>\n",
              "      <td>0</td>\n",
              "      <td>0</td>\n",
              "      <td>744.0</td>\n",
              "      <td>12</td>\n",
              "      <td>7</td>\n",
              "      <td>1</td>\n",
              "      <td>4</td>\n",
              "      <td>6</td>\n",
              "      <td>10</td>\n",
              "      <td>0</td>\n",
              "      <td>11</td>\n",
              "      <td>36.0</td>\n",
              "      <td>28</td>\n",
              "      <td>0</td>\n",
              "      <td>0.0</td>\n",
              "      <td>0</td>\n",
              "      <td>1</td>\n",
              "      <td>40.0</td>\n",
              "      <td>5</td>\n",
              "      <td>4</td>\n",
              "      <td>2</td>\n",
              "      <td>6</td>\n",
              "      <td>5</td>\n",
              "      <td>0</td>\n",
              "    </tr>\n",
              "    <tr>\n",
              "      <th>2097</th>\n",
              "      <td>0</td>\n",
              "      <td>61</td>\n",
              "      <td>36.0</td>\n",
              "      <td>68</td>\n",
              "      <td>2</td>\n",
              "      <td>40.0</td>\n",
              "      <td>0</td>\n",
              "      <td>0</td>\n",
              "      <td>52.0</td>\n",
              "      <td>39</td>\n",
              "      <td>6</td>\n",
              "      <td>16</td>\n",
              "      <td>57</td>\n",
              "      <td>3</td>\n",
              "      <td>1</td>\n",
              "      <td>0</td>\n",
              "      <td>82</td>\n",
              "      <td>38.0</td>\n",
              "      <td>99</td>\n",
              "      <td>0</td>\n",
              "      <td>0.0</td>\n",
              "      <td>0</td>\n",
              "      <td>1</td>\n",
              "      <td>178.0</td>\n",
              "      <td>55</td>\n",
              "      <td>15</td>\n",
              "      <td>12</td>\n",
              "      <td>75</td>\n",
              "      <td>5</td>\n",
              "      <td>2</td>\n",
              "    </tr>\n",
              "    <tr>\n",
              "      <th>251</th>\n",
              "      <td>0</td>\n",
              "      <td>20</td>\n",
              "      <td>27.0</td>\n",
              "      <td>29</td>\n",
              "      <td>5</td>\n",
              "      <td>45.0</td>\n",
              "      <td>0</td>\n",
              "      <td>0</td>\n",
              "      <td>416.0</td>\n",
              "      <td>7</td>\n",
              "      <td>2</td>\n",
              "      <td>11</td>\n",
              "      <td>18</td>\n",
              "      <td>2</td>\n",
              "      <td>0</td>\n",
              "      <td>0</td>\n",
              "      <td>47</td>\n",
              "      <td>52.0</td>\n",
              "      <td>54</td>\n",
              "      <td>1</td>\n",
              "      <td>20.0</td>\n",
              "      <td>0</td>\n",
              "      <td>2</td>\n",
              "      <td>72.0</td>\n",
              "      <td>34</td>\n",
              "      <td>4</td>\n",
              "      <td>9</td>\n",
              "      <td>35</td>\n",
              "      <td>6</td>\n",
              "      <td>6</td>\n",
              "    </tr>\n",
              "    <tr>\n",
              "      <th>965</th>\n",
              "      <td>0</td>\n",
              "      <td>53</td>\n",
              "      <td>62.0</td>\n",
              "      <td>95</td>\n",
              "      <td>2</td>\n",
              "      <td>50.0</td>\n",
              "      <td>0</td>\n",
              "      <td>0</td>\n",
              "      <td>551.0</td>\n",
              "      <td>41</td>\n",
              "      <td>7</td>\n",
              "      <td>5</td>\n",
              "      <td>31</td>\n",
              "      <td>3</td>\n",
              "      <td>19</td>\n",
              "      <td>0</td>\n",
              "      <td>30</td>\n",
              "      <td>42.0</td>\n",
              "      <td>86</td>\n",
              "      <td>1</td>\n",
              "      <td>100.0</td>\n",
              "      <td>0</td>\n",
              "      <td>0</td>\n",
              "      <td>101.0</td>\n",
              "      <td>16</td>\n",
              "      <td>5</td>\n",
              "      <td>9</td>\n",
              "      <td>24</td>\n",
              "      <td>4</td>\n",
              "      <td>2</td>\n",
              "    </tr>\n",
              "  </tbody>\n",
              "</table>\n",
              "</div>"
            ],
            "text/plain": [
              "      Fighter 0 KD  Fighter 0 Sig. str.  ...  Fighter 1 Clinch  Fighter 1 Ground\n",
              "1705             0                   63  ...                 3                 5\n",
              "1058             0                   77  ...                 8                 5\n",
              "619              0                  134  ...                 1                 0\n",
              "3465             0                   16  ...                 0                 0\n",
              "5609             0                   88  ...                14                 0\n",
              "2047             0                   20  ...                 5                 0\n",
              "2097             0                   61  ...                 5                 2\n",
              "251              0                   20  ...                 6                 6\n",
              "965              0                   53  ...                 4                 2\n",
              "\n",
              "[9 rows x 30 columns]"
            ]
          },
          "metadata": {
            "tags": []
          },
          "execution_count": 125
        }
      ]
    },
    {
      "cell_type": "code",
      "metadata": {
        "colab": {
          "base_uri": "https://localhost:8080/",
          "height": 367
        },
        "id": "TjyT8mTpThMP",
        "outputId": "069add08-8f86-4af9-83e3-5324efcb93af"
      },
      "source": [
        "X_test_new_normal[lo:hi]"
      ],
      "execution_count": 126,
      "outputs": [
        {
          "output_type": "execute_result",
          "data": {
            "text/html": [
              "<div>\n",
              "<style scoped>\n",
              "    .dataframe tbody tr th:only-of-type {\n",
              "        vertical-align: middle;\n",
              "    }\n",
              "\n",
              "    .dataframe tbody tr th {\n",
              "        vertical-align: top;\n",
              "    }\n",
              "\n",
              "    .dataframe thead th {\n",
              "        text-align: right;\n",
              "    }\n",
              "</style>\n",
              "<table border=\"1\" class=\"dataframe\">\n",
              "  <thead>\n",
              "    <tr style=\"text-align: right;\">\n",
              "      <th></th>\n",
              "      <th>Fighter 0 KD</th>\n",
              "      <th>Fighter 0 Sig. str.</th>\n",
              "      <th>Fighter 0 Sig. str. %</th>\n",
              "      <th>Fighter 0 Total str.</th>\n",
              "      <th>Fighter 0 Td</th>\n",
              "      <th>Fighter 0 Td %</th>\n",
              "      <th>Fighter 0 Sub. att</th>\n",
              "      <th>Fighter 0 Rev.</th>\n",
              "      <th>Fighter 0 Ctrl</th>\n",
              "      <th>Fighter 0 Head</th>\n",
              "      <th>Fighter 0 Body</th>\n",
              "      <th>Fighter 0 Leg</th>\n",
              "      <th>Fighter 0 Distance</th>\n",
              "      <th>Fighter 0 Clinch</th>\n",
              "      <th>Fighter 0 Ground</th>\n",
              "      <th>Fighter 1 KD</th>\n",
              "      <th>Fighter 1 Sig. str.</th>\n",
              "      <th>Fighter 1 Sig. str. %</th>\n",
              "      <th>Fighter 1 Total str.</th>\n",
              "      <th>Fighter 1 Td</th>\n",
              "      <th>Fighter 1 Td %</th>\n",
              "      <th>Fighter 1 Sub. att</th>\n",
              "      <th>Fighter 1 Rev.</th>\n",
              "      <th>Fighter 1 Ctrl</th>\n",
              "      <th>Fighter 1 Head</th>\n",
              "      <th>Fighter 1 Body</th>\n",
              "      <th>Fighter 1 Leg</th>\n",
              "      <th>Fighter 1 Distance</th>\n",
              "      <th>Fighter 1 Clinch</th>\n",
              "      <th>Fighter 1 Ground</th>\n",
              "    </tr>\n",
              "  </thead>\n",
              "  <tbody>\n",
              "    <tr>\n",
              "      <th>1705</th>\n",
              "      <td>-0.305299</td>\n",
              "      <td>0.451171</td>\n",
              "      <td>0.206558</td>\n",
              "      <td>0.184297</td>\n",
              "      <td>-0.278075</td>\n",
              "      <td>2.083169</td>\n",
              "      <td>-0.430413</td>\n",
              "      <td>-0.384637</td>\n",
              "      <td>0.404103</td>\n",
              "      <td>0.428024</td>\n",
              "      <td>0.877866</td>\n",
              "      <td>-0.370081</td>\n",
              "      <td>0.158757</td>\n",
              "      <td>0.195140</td>\n",
              "      <td>0.802114</td>\n",
              "      <td>-0.305299</td>\n",
              "      <td>-0.501482</td>\n",
              "      <td>-0.032764</td>\n",
              "      <td>-0.392538</td>\n",
              "      <td>-0.278075</td>\n",
              "      <td>-0.303287</td>\n",
              "      <td>-0.430413</td>\n",
              "      <td>-0.384637</td>\n",
              "      <td>-0.247173</td>\n",
              "      <td>-0.575117</td>\n",
              "      <td>-0.252079</td>\n",
              "      <td>-0.045631</td>\n",
              "      <td>-0.353874</td>\n",
              "      <td>-0.500146</td>\n",
              "      <td>-0.064462</td>\n",
              "    </tr>\n",
              "    <tr>\n",
              "      <th>1058</th>\n",
              "      <td>-0.305299</td>\n",
              "      <td>0.911072</td>\n",
              "      <td>0.126784</td>\n",
              "      <td>1.212567</td>\n",
              "      <td>-0.768267</td>\n",
              "      <td>-0.899901</td>\n",
              "      <td>-0.430413</td>\n",
              "      <td>-0.384637</td>\n",
              "      <td>-0.956773</td>\n",
              "      <td>-0.073547</td>\n",
              "      <td>2.007812</td>\n",
              "      <td>1.252169</td>\n",
              "      <td>0.978966</td>\n",
              "      <td>0.079259</td>\n",
              "      <td>-0.172784</td>\n",
              "      <td>2.329682</td>\n",
              "      <td>0.582571</td>\n",
              "      <td>0.047010</td>\n",
              "      <td>0.359855</td>\n",
              "      <td>-0.768267</td>\n",
              "      <td>-0.899901</td>\n",
              "      <td>-0.430413</td>\n",
              "      <td>-0.384637</td>\n",
              "      <td>0.394382</td>\n",
              "      <td>-0.438325</td>\n",
              "      <td>2.346795</td>\n",
              "      <td>0.711419</td>\n",
              "      <td>0.603037</td>\n",
              "      <td>0.079259</td>\n",
              "      <td>-0.064462</td>\n",
              "    </tr>\n",
              "    <tr>\n",
              "      <th>619</th>\n",
              "      <td>-0.305299</td>\n",
              "      <td>2.783528</td>\n",
              "      <td>0.126784</td>\n",
              "      <td>1.463365</td>\n",
              "      <td>-0.768267</td>\n",
              "      <td>-0.899901</td>\n",
              "      <td>-0.430413</td>\n",
              "      <td>-0.384637</td>\n",
              "      <td>-0.947052</td>\n",
              "      <td>2.479904</td>\n",
              "      <td>2.459790</td>\n",
              "      <td>0.927719</td>\n",
              "      <td>3.268719</td>\n",
              "      <td>-0.616028</td>\n",
              "      <td>-0.606073</td>\n",
              "      <td>-0.305299</td>\n",
              "      <td>3.539080</td>\n",
              "      <td>0.685204</td>\n",
              "      <td>2.015120</td>\n",
              "      <td>-0.768267</td>\n",
              "      <td>-0.899901</td>\n",
              "      <td>-0.430413</td>\n",
              "      <td>-0.384637</td>\n",
              "      <td>-0.738060</td>\n",
              "      <td>1.659152</td>\n",
              "      <td>0.538883</td>\n",
              "      <td>7.200420</td>\n",
              "      <td>4.088928</td>\n",
              "      <td>-0.731909</td>\n",
              "      <td>-0.606073</td>\n",
              "    </tr>\n",
              "    <tr>\n",
              "      <th>3465</th>\n",
              "      <td>-0.305299</td>\n",
              "      <td>-1.092784</td>\n",
              "      <td>-0.670959</td>\n",
              "      <td>-0.643336</td>\n",
              "      <td>0.212118</td>\n",
              "      <td>0.591634</td>\n",
              "      <td>2.801714</td>\n",
              "      <td>-0.384637</td>\n",
              "      <td>1.575427</td>\n",
              "      <td>-0.939896</td>\n",
              "      <td>-0.704057</td>\n",
              "      <td>-0.694532</td>\n",
              "      <td>-1.003207</td>\n",
              "      <td>-0.500146</td>\n",
              "      <td>0.043860</td>\n",
              "      <td>-0.305299</td>\n",
              "      <td>-0.994234</td>\n",
              "      <td>-1.309153</td>\n",
              "      <td>-0.818894</td>\n",
              "      <td>-0.768267</td>\n",
              "      <td>-0.899901</td>\n",
              "      <td>-0.430413</td>\n",
              "      <td>1.659969</td>\n",
              "      <td>-0.888729</td>\n",
              "      <td>-0.757506</td>\n",
              "      <td>-0.930046</td>\n",
              "      <td>-0.586382</td>\n",
              "      <td>-0.593102</td>\n",
              "      <td>-0.847790</td>\n",
              "      <td>-0.606073</td>\n",
              "    </tr>\n",
              "    <tr>\n",
              "      <th>5609</th>\n",
              "      <td>-0.305299</td>\n",
              "      <td>1.272423</td>\n",
              "      <td>0.366107</td>\n",
              "      <td>0.485254</td>\n",
              "      <td>0.212118</td>\n",
              "      <td>-0.243626</td>\n",
              "      <td>0.646962</td>\n",
              "      <td>-0.384637</td>\n",
              "      <td>-0.208291</td>\n",
              "      <td>1.431165</td>\n",
              "      <td>0.651877</td>\n",
              "      <td>0.170669</td>\n",
              "      <td>0.500511</td>\n",
              "      <td>2.976287</td>\n",
              "      <td>-0.172784</td>\n",
              "      <td>-0.305299</td>\n",
              "      <td>0.254070</td>\n",
              "      <td>-0.351862</td>\n",
              "      <td>-0.317299</td>\n",
              "      <td>-0.768267</td>\n",
              "      <td>-0.899901</td>\n",
              "      <td>-0.430413</td>\n",
              "      <td>-0.384637</td>\n",
              "      <td>-0.864427</td>\n",
              "      <td>1.111984</td>\n",
              "      <td>-1.043041</td>\n",
              "      <td>-0.802682</td>\n",
              "      <td>0.227107</td>\n",
              "      <td>0.774546</td>\n",
              "      <td>-0.606073</td>\n",
              "    </tr>\n",
              "    <tr>\n",
              "      <th>2047</th>\n",
              "      <td>-0.305299</td>\n",
              "      <td>-0.961384</td>\n",
              "      <td>0.605430</td>\n",
              "      <td>0.159217</td>\n",
              "      <td>0.212118</td>\n",
              "      <td>0.084512</td>\n",
              "      <td>-0.430413</td>\n",
              "      <td>-0.384637</td>\n",
              "      <td>2.659267</td>\n",
              "      <td>-0.848701</td>\n",
              "      <td>-0.365074</td>\n",
              "      <td>-0.802682</td>\n",
              "      <td>-1.105733</td>\n",
              "      <td>-0.152503</td>\n",
              "      <td>0.477148</td>\n",
              "      <td>-0.305299</td>\n",
              "      <td>-1.257035</td>\n",
              "      <td>-0.511410</td>\n",
              "      <td>-1.220170</td>\n",
              "      <td>-0.768267</td>\n",
              "      <td>-0.899901</td>\n",
              "      <td>-0.430413</td>\n",
              "      <td>1.659969</td>\n",
              "      <td>-0.762362</td>\n",
              "      <td>-1.167882</td>\n",
              "      <td>-0.704057</td>\n",
              "      <td>-0.694532</td>\n",
              "      <td>-1.037383</td>\n",
              "      <td>-0.268384</td>\n",
              "      <td>-0.606073</td>\n",
              "    </tr>\n",
              "    <tr>\n",
              "      <th>2097</th>\n",
              "      <td>-0.305299</td>\n",
              "      <td>0.385470</td>\n",
              "      <td>-0.511410</td>\n",
              "      <td>-0.216980</td>\n",
              "      <td>0.212118</td>\n",
              "      <td>0.293327</td>\n",
              "      <td>-0.430413</td>\n",
              "      <td>-0.384637</td>\n",
              "      <td>-0.704039</td>\n",
              "      <td>0.382427</td>\n",
              "      <td>-0.478068</td>\n",
              "      <td>0.819569</td>\n",
              "      <td>0.705563</td>\n",
              "      <td>-0.500146</td>\n",
              "      <td>-0.497751</td>\n",
              "      <td>-0.305299</td>\n",
              "      <td>1.075323</td>\n",
              "      <td>-0.351862</td>\n",
              "      <td>0.560493</td>\n",
              "      <td>-0.768267</td>\n",
              "      <td>-0.899901</td>\n",
              "      <td>-0.430413</td>\n",
              "      <td>1.659969</td>\n",
              "      <td>-0.091645</td>\n",
              "      <td>1.111984</td>\n",
              "      <td>0.538883</td>\n",
              "      <td>0.386969</td>\n",
              "      <td>1.320720</td>\n",
              "      <td>-0.268384</td>\n",
              "      <td>-0.389429</td>\n",
              "    </tr>\n",
              "    <tr>\n",
              "      <th>251</th>\n",
              "      <td>-0.305299</td>\n",
              "      <td>-0.961384</td>\n",
              "      <td>-1.229379</td>\n",
              "      <td>-1.195091</td>\n",
              "      <td>1.682697</td>\n",
              "      <td>0.442481</td>\n",
              "      <td>-0.430413</td>\n",
              "      <td>-0.384637</td>\n",
              "      <td>1.065099</td>\n",
              "      <td>-1.076688</td>\n",
              "      <td>-0.930046</td>\n",
              "      <td>0.278819</td>\n",
              "      <td>-0.627278</td>\n",
              "      <td>-0.616028</td>\n",
              "      <td>-0.606073</td>\n",
              "      <td>-0.305299</td>\n",
              "      <td>-0.074431</td>\n",
              "      <td>0.764979</td>\n",
              "      <td>-0.568096</td>\n",
              "      <td>-0.278075</td>\n",
              "      <td>-0.303287</td>\n",
              "      <td>-0.430413</td>\n",
              "      <td>3.704575</td>\n",
              "      <td>-0.606833</td>\n",
              "      <td>0.154440</td>\n",
              "      <td>-0.704057</td>\n",
              "      <td>0.062519</td>\n",
              "      <td>-0.046296</td>\n",
              "      <td>-0.152503</td>\n",
              "      <td>0.043860</td>\n",
              "    </tr>\n",
              "    <tr>\n",
              "      <th>965</th>\n",
              "      <td>-0.305299</td>\n",
              "      <td>0.122669</td>\n",
              "      <td>1.562722</td>\n",
              "      <td>0.460174</td>\n",
              "      <td>0.212118</td>\n",
              "      <td>0.591634</td>\n",
              "      <td>-0.430413</td>\n",
              "      <td>-0.384637</td>\n",
              "      <td>1.721235</td>\n",
              "      <td>0.473621</td>\n",
              "      <td>-0.365074</td>\n",
              "      <td>-0.370081</td>\n",
              "      <td>-0.182997</td>\n",
              "      <td>-0.500146</td>\n",
              "      <td>1.452046</td>\n",
              "      <td>-0.305299</td>\n",
              "      <td>-0.632883</td>\n",
              "      <td>-0.032764</td>\n",
              "      <td>0.234456</td>\n",
              "      <td>-0.278075</td>\n",
              "      <td>2.083169</td>\n",
              "      <td>-0.430413</td>\n",
              "      <td>-0.384637</td>\n",
              "      <td>-0.465885</td>\n",
              "      <td>-0.666312</td>\n",
              "      <td>-0.591063</td>\n",
              "      <td>0.062519</td>\n",
              "      <td>-0.422225</td>\n",
              "      <td>-0.384265</td>\n",
              "      <td>-0.389429</td>\n",
              "    </tr>\n",
              "  </tbody>\n",
              "</table>\n",
              "</div>"
            ],
            "text/plain": [
              "      Fighter 0 KD  Fighter 0 Sig. str.  ...  Fighter 1 Clinch  Fighter 1 Ground\n",
              "1705     -0.305299             0.451171  ...         -0.500146         -0.064462\n",
              "1058     -0.305299             0.911072  ...          0.079259         -0.064462\n",
              "619      -0.305299             2.783528  ...         -0.731909         -0.606073\n",
              "3465     -0.305299            -1.092784  ...         -0.847790         -0.606073\n",
              "5609     -0.305299             1.272423  ...          0.774546         -0.606073\n",
              "2047     -0.305299            -0.961384  ...         -0.268384         -0.606073\n",
              "2097     -0.305299             0.385470  ...         -0.268384         -0.389429\n",
              "251      -0.305299            -0.961384  ...         -0.152503          0.043860\n",
              "965      -0.305299             0.122669  ...         -0.384265         -0.389429\n",
              "\n",
              "[9 rows x 30 columns]"
            ]
          },
          "metadata": {
            "tags": []
          },
          "execution_count": 126
        }
      ]
    },
    {
      "cell_type": "code",
      "metadata": {
        "colab": {
          "base_uri": "https://localhost:8080/"
        },
        "id": "D24siDVIOSRl",
        "outputId": "109e761a-befe-4a5b-c2bd-c486f2b49000"
      },
      "source": [
        "comparison_model.predict(X_test_new_normal[lo:hi])"
      ],
      "execution_count": 127,
      "outputs": [
        {
          "output_type": "execute_result",
          "data": {
            "text/plain": [
              "array([[0.00329462],\n",
              "       [0.75149965],\n",
              "       [0.9184923 ],\n",
              "       [0.01329359],\n",
              "       [0.10502091],\n",
              "       [0.02410832],\n",
              "       [0.89656585],\n",
              "       [0.7500739 ],\n",
              "       [0.00354725]], dtype=float32)"
            ]
          },
          "metadata": {
            "tags": []
          },
          "execution_count": 127
        }
      ]
    },
    {
      "cell_type": "code",
      "metadata": {
        "colab": {
          "base_uri": "https://localhost:8080/",
          "height": 314
        },
        "id": "MK6NhCojOSRl",
        "outputId": "dcb6dd57-a702-4d07-8cbd-8b94d7caa46d"
      },
      "source": [
        "y_test[lo:hi]"
      ],
      "execution_count": 128,
      "outputs": [
        {
          "output_type": "execute_result",
          "data": {
            "text/html": [
              "<div>\n",
              "<style scoped>\n",
              "    .dataframe tbody tr th:only-of-type {\n",
              "        vertical-align: middle;\n",
              "    }\n",
              "\n",
              "    .dataframe tbody tr th {\n",
              "        vertical-align: top;\n",
              "    }\n",
              "\n",
              "    .dataframe thead th {\n",
              "        text-align: right;\n",
              "    }\n",
              "</style>\n",
              "<table border=\"1\" class=\"dataframe\">\n",
              "  <thead>\n",
              "    <tr style=\"text-align: right;\">\n",
              "      <th></th>\n",
              "      <th>Winner</th>\n",
              "    </tr>\n",
              "  </thead>\n",
              "  <tbody>\n",
              "    <tr>\n",
              "      <th>1705</th>\n",
              "      <td>0</td>\n",
              "    </tr>\n",
              "    <tr>\n",
              "      <th>1058</th>\n",
              "      <td>1</td>\n",
              "    </tr>\n",
              "    <tr>\n",
              "      <th>619</th>\n",
              "      <td>1</td>\n",
              "    </tr>\n",
              "    <tr>\n",
              "      <th>3465</th>\n",
              "      <td>0</td>\n",
              "    </tr>\n",
              "    <tr>\n",
              "      <th>5609</th>\n",
              "      <td>0</td>\n",
              "    </tr>\n",
              "    <tr>\n",
              "      <th>2047</th>\n",
              "      <td>0</td>\n",
              "    </tr>\n",
              "    <tr>\n",
              "      <th>2097</th>\n",
              "      <td>1</td>\n",
              "    </tr>\n",
              "    <tr>\n",
              "      <th>251</th>\n",
              "      <td>1</td>\n",
              "    </tr>\n",
              "    <tr>\n",
              "      <th>965</th>\n",
              "      <td>0</td>\n",
              "    </tr>\n",
              "  </tbody>\n",
              "</table>\n",
              "</div>"
            ],
            "text/plain": [
              "      Winner\n",
              "1705       0\n",
              "1058       1\n",
              "619        1\n",
              "3465       0\n",
              "5609       0\n",
              "2047       0\n",
              "2097       1\n",
              "251        1\n",
              "965        0"
            ]
          },
          "metadata": {
            "tags": []
          },
          "execution_count": 128
        }
      ]
    },
    {
      "cell_type": "code",
      "metadata": {
        "colab": {
          "base_uri": "https://localhost:8080/"
        },
        "id": "icRxd_bKOSRm",
        "outputId": "36b20726-937f-4bdf-81c3-3cce1dea586f"
      },
      "source": [
        "subtracter = comparison_model.get_layer('subtracter').output\n",
        "subtracter = Model(comparison_model.input, subtracter)\n",
        "subtracter.predict(X_test_new_normal[lo:hi])"
      ],
      "execution_count": 129,
      "outputs": [
        {
          "output_type": "execute_result",
          "data": {
            "text/plain": [
              "array([[-5.7121534],\n",
              "       [ 1.1066265],\n",
              "       [ 2.4220362],\n",
              "       [-4.307089 ],\n",
              "       [-2.1426406],\n",
              "       [-3.7007952],\n",
              "       [ 2.1596367],\n",
              "       [ 1.0990064],\n",
              "       [-5.6380205]], dtype=float32)"
            ]
          },
          "metadata": {
            "tags": []
          },
          "execution_count": 129
        }
      ]
    },
    {
      "cell_type": "code",
      "metadata": {
        "colab": {
          "base_uri": "https://localhost:8080/"
        },
        "id": "pp_GHFfGOSRm",
        "outputId": "be6ffcca-2b86-468f-f7d1-73601e54265f"
      },
      "source": [
        "fighter0_score = comparison_model.get_layer('fighter0_score').output\n",
        "fighter0_score = Model(comparison_model.input, fighter0_score)\n",
        "fighter0_score.predict(X_test_new_normal[lo:hi])"
      ],
      "execution_count": 130,
      "outputs": [
        {
          "output_type": "execute_result",
          "data": {
            "text/plain": [
              "array([[6.160447 ],\n",
              "       [3.1776943],\n",
              "       [9.627033 ],\n",
              "       [4.307089 ],\n",
              "       [5.838058 ],\n",
              "       [3.7007952],\n",
              "       [3.1767437],\n",
              "       [1.3666499],\n",
              "       [7.308317 ]], dtype=float32)"
            ]
          },
          "metadata": {
            "tags": []
          },
          "execution_count": 130
        }
      ]
    },
    {
      "cell_type": "code",
      "metadata": {
        "colab": {
          "base_uri": "https://localhost:8080/"
        },
        "id": "sRbpamFhOSRm",
        "outputId": "ff946bad-c414-4dbe-9cf2-e195a0bea6af"
      },
      "source": [
        "fighter1_score = comparison_model.get_layer('fighter1_score').output\n",
        "fighter1_score = Model(comparison_model.input, fighter1_score)\n",
        "fighter1_score.predict(X_test_new_normal[lo:hi])"
      ],
      "execution_count": 131,
      "outputs": [
        {
          "output_type": "execute_result",
          "data": {
            "text/plain": [
              "array([[ 0.4482937],\n",
              "       [ 4.284321 ],\n",
              "       [12.049069 ],\n",
              "       [ 0.       ],\n",
              "       [ 3.6954174],\n",
              "       [ 0.       ],\n",
              "       [ 5.3363805],\n",
              "       [ 2.4656563],\n",
              "       [ 1.6702965]], dtype=float32)"
            ]
          },
          "metadata": {
            "tags": []
          },
          "execution_count": 131
        }
      ]
    },
    {
      "cell_type": "code",
      "metadata": {
        "colab": {
          "base_uri": "https://localhost:8080/"
        },
        "id": "zHa31HYgOSRn",
        "outputId": "1ddc49e6-f1af-43f9-9297-89c36c59e646"
      },
      "source": [
        "columns = list(X_test_new_normal.columns)\n",
        "new_columns = columns[len(columns)//2:] + columns[:len(columns)//2]\n",
        "switcheroo = X_test_new_normal[new_columns]\n",
        "fighter1_score.predict(switcheroo[lo:hi])"
      ],
      "execution_count": 132,
      "outputs": [
        {
          "output_type": "execute_result",
          "data": {
            "text/plain": [
              "array([[6.160447 ],\n",
              "       [3.1776943],\n",
              "       [9.627033 ],\n",
              "       [4.307089 ],\n",
              "       [5.838058 ],\n",
              "       [3.7007952],\n",
              "       [3.1767437],\n",
              "       [1.3666499],\n",
              "       [7.308317 ]], dtype=float32)"
            ]
          },
          "metadata": {
            "tags": []
          },
          "execution_count": 132
        }
      ]
    },
    {
      "cell_type": "code",
      "metadata": {
        "colab": {
          "base_uri": "https://localhost:8080/"
        },
        "id": "_OvDdtBjOSRn",
        "outputId": "6bba6447-04c5-4667-f355-817dc9c77e5e"
      },
      "source": [
        "fighter0_score.predict(switcheroo[lo:hi])"
      ],
      "execution_count": 133,
      "outputs": [
        {
          "output_type": "execute_result",
          "data": {
            "text/plain": [
              "array([[ 0.4482937],\n",
              "       [ 4.284321 ],\n",
              "       [12.049069 ],\n",
              "       [ 0.       ],\n",
              "       [ 3.6954174],\n",
              "       [ 0.       ],\n",
              "       [ 5.3363805],\n",
              "       [ 2.4656563],\n",
              "       [ 1.6702965]], dtype=float32)"
            ]
          },
          "metadata": {
            "tags": []
          },
          "execution_count": 133
        }
      ]
    },
    {
      "cell_type": "code",
      "metadata": {
        "colab": {
          "base_uri": "https://localhost:8080/"
        },
        "id": "975q2avhOSRn",
        "outputId": "82cb0d3c-da57-4ccd-8a2a-64873d683fbd"
      },
      "source": [
        "subtracter.predict(switcheroo[lo:hi])"
      ],
      "execution_count": 134,
      "outputs": [
        {
          "output_type": "execute_result",
          "data": {
            "text/plain": [
              "array([[ 5.7121534],\n",
              "       [-1.1066265],\n",
              "       [-2.4220362],\n",
              "       [ 4.307089 ],\n",
              "       [ 2.1426406],\n",
              "       [ 3.7007952],\n",
              "       [-2.1596367],\n",
              "       [-1.0990064],\n",
              "       [ 5.6380205]], dtype=float32)"
            ]
          },
          "metadata": {
            "tags": []
          },
          "execution_count": 134
        }
      ]
    },
    {
      "cell_type": "code",
      "metadata": {
        "colab": {
          "base_uri": "https://localhost:8080/"
        },
        "id": "uci1y0klSyUk",
        "outputId": "d6742f2a-8fc0-4a72-a3bd-3f27ca6ebe2d"
      },
      "source": [
        "comparison_model.predict(switcheroo[lo:hi])"
      ],
      "execution_count": 135,
      "outputs": [
        {
          "output_type": "execute_result",
          "data": {
            "text/plain": [
              "array([[0.9967054 ],\n",
              "       [0.24850035],\n",
              "       [0.08150765],\n",
              "       [0.9867064 ],\n",
              "       [0.8949791 ],\n",
              "       [0.9758917 ],\n",
              "       [0.10343415],\n",
              "       [0.24992612],\n",
              "       [0.99645275]], dtype=float32)"
            ]
          },
          "metadata": {
            "tags": []
          },
          "execution_count": 135
        }
      ]
    },
    {
      "cell_type": "code",
      "metadata": {
        "colab": {
          "base_uri": "https://localhost:8080/"
        },
        "id": "_daq4cdDS2Fw",
        "outputId": "a4fc7a7a-4e61-4c8c-9468-27e12d03d9b2"
      },
      "source": [
        "deep_model.predict(X_test_new_normal[1:10])"
      ],
      "execution_count": 136,
      "outputs": [
        {
          "output_type": "execute_result",
          "data": {
            "text/plain": [
              "array([[4.3995985e-01],\n",
              "       [3.9455116e-02],\n",
              "       [2.6457876e-02],\n",
              "       [3.6165178e-01],\n",
              "       [9.3654847e-01],\n",
              "       [6.9301963e-02],\n",
              "       [8.1157243e-01],\n",
              "       [6.9787711e-06],\n",
              "       [1.6031101e-01]], dtype=float32)"
            ]
          },
          "metadata": {
            "tags": []
          },
          "execution_count": 136
        }
      ]
    },
    {
      "cell_type": "code",
      "metadata": {
        "colab": {
          "base_uri": "https://localhost:8080/"
        },
        "id": "QjNmdPPhS-TB",
        "outputId": "833606fc-ac00-4bb2-916f-9ab978b26828"
      },
      "source": [
        "deep_model.predict(switcheroo[1:10])"
      ],
      "execution_count": 137,
      "outputs": [
        {
          "output_type": "execute_result",
          "data": {
            "text/plain": [
              "array([[0.40210706],\n",
              "       [0.9359652 ],\n",
              "       [0.9955026 ],\n",
              "       [0.34776118],\n",
              "       [0.07849714],\n",
              "       [0.99867487],\n",
              "       [0.28339642],\n",
              "       [0.999948  ],\n",
              "       [0.80050206]], dtype=float32)"
            ]
          },
          "metadata": {
            "tags": []
          },
          "execution_count": 137
        }
      ]
    },
    {
      "cell_type": "code",
      "metadata": {
        "id": "SI88RDxQS_7I"
      },
      "source": [
        ""
      ],
      "execution_count": 137,
      "outputs": []
    }
  ]
}