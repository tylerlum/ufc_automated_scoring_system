{
  "nbformat": 4,
  "nbformat_minor": 0,
  "metadata": {
    "kernelspec": {
      "display_name": "Python 3",
      "language": "python",
      "name": "python3"
    },
    "language_info": {
      "codemirror_mode": {
        "name": "ipython",
        "version": 3
      },
      "file_extension": ".py",
      "mimetype": "text/x-python",
      "name": "python",
      "nbconvert_exporter": "python",
      "pygments_lexer": "ipython3",
      "version": "3.6.9"
    },
    "colab": {
      "name": "UFC_automated_scoring.ipynb",
      "provenance": [],
      "collapsed_sections": [],
      "toc_visible": true,
      "include_colab_link": true
    },
    "accelerator": "GPU"
  },
  "cells": [
    {
      "cell_type": "markdown",
      "metadata": {
        "id": "view-in-github",
        "colab_type": "text"
      },
      "source": [
        "<a href=\"https://colab.research.google.com/github/tylerlum/ufc_automated_scoring_system/blob/RoughWork/UFC_automated_scoring.ipynb\" target=\"_parent\"><img src=\"https://colab.research.google.com/assets/colab-badge.svg\" alt=\"Open In Colab\"/></a>"
      ]
    },
    {
      "cell_type": "markdown",
      "metadata": {
        "id": "q2Ink0cSOSRR"
      },
      "source": [
        "# UFC Automated Scoring\n",
        "\n",
        "The goal of this notebook is to:\n",
        "* Read in stored, scraped UFC data and convert it into a dataset ready for ML models\n",
        "* Train, test, and analyze ML models\n",
        "\n",
        "Functional as of April 2021"
      ]
    },
    {
      "cell_type": "markdown",
      "metadata": {
        "id": "XIv8RUYoOSRW"
      },
      "source": [
        "## Read in stored data"
      ]
    },
    {
      "cell_type": "code",
      "metadata": {
        "id": "Ws0PWbZMOSRX"
      },
      "source": [
        "import numpy as np\n",
        "import pandas as pd"
      ],
      "execution_count": 1343,
      "outputs": []
    },
    {
      "cell_type": "code",
      "metadata": {
        "id": "3MgHHwyvOSRX"
      },
      "source": [
        "STORED_FIGHT_TABLE = pd.read_csv('FIGHT_TABLE_NUM_EVENTS_All_DATA_MODE_Summary_22-04-2021_11:08:22.csv')"
      ],
      "execution_count": 1344,
      "outputs": []
    },
    {
      "cell_type": "code",
      "metadata": {
        "colab": {
          "base_uri": "https://localhost:8080/",
          "height": 657
        },
        "id": "PlBKZMo0OSRX",
        "outputId": "3354b2dd-e888-4208-f72d-9d5465a839c4"
      },
      "source": [
        "STORED_FIGHT_TABLE"
      ],
      "execution_count": 1345,
      "outputs": [
        {
          "output_type": "execute_result",
          "data": {
            "text/html": [
              "<div>\n",
              "<style scoped>\n",
              "    .dataframe tbody tr th:only-of-type {\n",
              "        vertical-align: middle;\n",
              "    }\n",
              "\n",
              "    .dataframe tbody tr th {\n",
              "        vertical-align: top;\n",
              "    }\n",
              "\n",
              "    .dataframe thead th {\n",
              "        text-align: right;\n",
              "    }\n",
              "</style>\n",
              "<table border=\"1\" class=\"dataframe\">\n",
              "  <thead>\n",
              "    <tr style=\"text-align: right;\">\n",
              "      <th></th>\n",
              "      <th>Fighter 0 KD</th>\n",
              "      <th>Fighter 1 KD</th>\n",
              "      <th>Fighter 0 Sig. str.</th>\n",
              "      <th>Fighter 1 Sig. str.</th>\n",
              "      <th>Fighter 0 Sig. str. %</th>\n",
              "      <th>Fighter 1 Sig. str. %</th>\n",
              "      <th>Fighter 0 Total str.</th>\n",
              "      <th>Fighter 1 Total str.</th>\n",
              "      <th>Fighter 0 Td</th>\n",
              "      <th>Fighter 1 Td</th>\n",
              "      <th>Fighter 0 Td %</th>\n",
              "      <th>Fighter 1 Td %</th>\n",
              "      <th>Fighter 0 Sub. att</th>\n",
              "      <th>Fighter 1 Sub. att</th>\n",
              "      <th>Fighter 0 Rev.</th>\n",
              "      <th>Fighter 1 Rev.</th>\n",
              "      <th>Fighter 0 Ctrl</th>\n",
              "      <th>Fighter 1 Ctrl</th>\n",
              "      <th>Fighter 0 Name</th>\n",
              "      <th>Fighter 1 Name</th>\n",
              "      <th>Fighter 0 Head</th>\n",
              "      <th>Fighter 1 Head</th>\n",
              "      <th>Fighter 0 Body</th>\n",
              "      <th>Fighter 1 Body</th>\n",
              "      <th>Fighter 0 Leg</th>\n",
              "      <th>Fighter 1 Leg</th>\n",
              "      <th>Fighter 0 Distance</th>\n",
              "      <th>Fighter 1 Distance</th>\n",
              "      <th>Fighter 0 Clinch</th>\n",
              "      <th>Fighter 1 Clinch</th>\n",
              "      <th>Fighter 0 Ground</th>\n",
              "      <th>Fighter 1 Ground</th>\n",
              "      <th>Winner</th>\n",
              "      <th>Method</th>\n",
              "    </tr>\n",
              "  </thead>\n",
              "  <tbody>\n",
              "    <tr>\n",
              "      <th>0</th>\n",
              "      <td>0</td>\n",
              "      <td>0</td>\n",
              "      <td>150</td>\n",
              "      <td>62</td>\n",
              "      <td>52.0</td>\n",
              "      <td>29.0</td>\n",
              "      <td>169</td>\n",
              "      <td>70</td>\n",
              "      <td>4</td>\n",
              "      <td>1</td>\n",
              "      <td>57.0</td>\n",
              "      <td>20.0</td>\n",
              "      <td>0</td>\n",
              "      <td>0</td>\n",
              "      <td>0</td>\n",
              "      <td>0</td>\n",
              "      <td>259.0</td>\n",
              "      <td>26.0</td>\n",
              "      <td>Robert Whittaker</td>\n",
              "      <td>Kelvin Gastelum</td>\n",
              "      <td>115</td>\n",
              "      <td>42</td>\n",
              "      <td>13</td>\n",
              "      <td>7</td>\n",
              "      <td>22</td>\n",
              "      <td>13</td>\n",
              "      <td>138</td>\n",
              "      <td>59</td>\n",
              "      <td>5</td>\n",
              "      <td>3</td>\n",
              "      <td>7</td>\n",
              "      <td>0</td>\n",
              "      <td>0</td>\n",
              "      <td>U-DEC</td>\n",
              "    </tr>\n",
              "    <tr>\n",
              "      <th>1</th>\n",
              "      <td>0</td>\n",
              "      <td>0</td>\n",
              "      <td>105</td>\n",
              "      <td>88</td>\n",
              "      <td>47.0</td>\n",
              "      <td>45.0</td>\n",
              "      <td>109</td>\n",
              "      <td>99</td>\n",
              "      <td>0</td>\n",
              "      <td>0</td>\n",
              "      <td>NaN</td>\n",
              "      <td>NaN</td>\n",
              "      <td>0</td>\n",
              "      <td>0</td>\n",
              "      <td>0</td>\n",
              "      <td>0</td>\n",
              "      <td>39.0</td>\n",
              "      <td>0.0</td>\n",
              "      <td>Andrei Arlovski</td>\n",
              "      <td>Chase Sherman</td>\n",
              "      <td>54</td>\n",
              "      <td>55</td>\n",
              "      <td>26</td>\n",
              "      <td>16</td>\n",
              "      <td>25</td>\n",
              "      <td>17</td>\n",
              "      <td>103</td>\n",
              "      <td>84</td>\n",
              "      <td>2</td>\n",
              "      <td>4</td>\n",
              "      <td>0</td>\n",
              "      <td>0</td>\n",
              "      <td>0</td>\n",
              "      <td>U-DEC</td>\n",
              "    </tr>\n",
              "    <tr>\n",
              "      <th>2</th>\n",
              "      <td>0</td>\n",
              "      <td>0</td>\n",
              "      <td>21</td>\n",
              "      <td>27</td>\n",
              "      <td>44.0</td>\n",
              "      <td>49.0</td>\n",
              "      <td>32</td>\n",
              "      <td>91</td>\n",
              "      <td>0</td>\n",
              "      <td>8</td>\n",
              "      <td>NaN</td>\n",
              "      <td>33.0</td>\n",
              "      <td>0</td>\n",
              "      <td>2</td>\n",
              "      <td>0</td>\n",
              "      <td>0</td>\n",
              "      <td>2.0</td>\n",
              "      <td>701.0</td>\n",
              "      <td>Abdul Razak Alhassan</td>\n",
              "      <td>Jacob Malkoun</td>\n",
              "      <td>11</td>\n",
              "      <td>24</td>\n",
              "      <td>9</td>\n",
              "      <td>2</td>\n",
              "      <td>1</td>\n",
              "      <td>1</td>\n",
              "      <td>14</td>\n",
              "      <td>18</td>\n",
              "      <td>5</td>\n",
              "      <td>3</td>\n",
              "      <td>2</td>\n",
              "      <td>6</td>\n",
              "      <td>1</td>\n",
              "      <td>U-DEC</td>\n",
              "    </tr>\n",
              "    <tr>\n",
              "      <th>3</th>\n",
              "      <td>0</td>\n",
              "      <td>1</td>\n",
              "      <td>66</td>\n",
              "      <td>55</td>\n",
              "      <td>58.0</td>\n",
              "      <td>46.0</td>\n",
              "      <td>84</td>\n",
              "      <td>72</td>\n",
              "      <td>3</td>\n",
              "      <td>0</td>\n",
              "      <td>60.0</td>\n",
              "      <td>0.0</td>\n",
              "      <td>1</td>\n",
              "      <td>0</td>\n",
              "      <td>0</td>\n",
              "      <td>0</td>\n",
              "      <td>386.0</td>\n",
              "      <td>38.0</td>\n",
              "      <td>Tracy Cortez</td>\n",
              "      <td>Justine Kish</td>\n",
              "      <td>40</td>\n",
              "      <td>30</td>\n",
              "      <td>19</td>\n",
              "      <td>8</td>\n",
              "      <td>7</td>\n",
              "      <td>17</td>\n",
              "      <td>39</td>\n",
              "      <td>50</td>\n",
              "      <td>7</td>\n",
              "      <td>4</td>\n",
              "      <td>20</td>\n",
              "      <td>1</td>\n",
              "      <td>0</td>\n",
              "      <td>S-DEC</td>\n",
              "    </tr>\n",
              "    <tr>\n",
              "      <th>4</th>\n",
              "      <td>0</td>\n",
              "      <td>0</td>\n",
              "      <td>90</td>\n",
              "      <td>80</td>\n",
              "      <td>46.0</td>\n",
              "      <td>47.0</td>\n",
              "      <td>90</td>\n",
              "      <td>82</td>\n",
              "      <td>0</td>\n",
              "      <td>4</td>\n",
              "      <td>NaN</td>\n",
              "      <td>44.0</td>\n",
              "      <td>0</td>\n",
              "      <td>0</td>\n",
              "      <td>0</td>\n",
              "      <td>0</td>\n",
              "      <td>3.0</td>\n",
              "      <td>141.0</td>\n",
              "      <td>Luis Pena</td>\n",
              "      <td>Alexander Munoz</td>\n",
              "      <td>74</td>\n",
              "      <td>40</td>\n",
              "      <td>12</td>\n",
              "      <td>20</td>\n",
              "      <td>4</td>\n",
              "      <td>20</td>\n",
              "      <td>88</td>\n",
              "      <td>77</td>\n",
              "      <td>2</td>\n",
              "      <td>3</td>\n",
              "      <td>0</td>\n",
              "      <td>0</td>\n",
              "      <td>0</td>\n",
              "      <td>S-DEC</td>\n",
              "    </tr>\n",
              "    <tr>\n",
              "      <th>...</th>\n",
              "      <td>...</td>\n",
              "      <td>...</td>\n",
              "      <td>...</td>\n",
              "      <td>...</td>\n",
              "      <td>...</td>\n",
              "      <td>...</td>\n",
              "      <td>...</td>\n",
              "      <td>...</td>\n",
              "      <td>...</td>\n",
              "      <td>...</td>\n",
              "      <td>...</td>\n",
              "      <td>...</td>\n",
              "      <td>...</td>\n",
              "      <td>...</td>\n",
              "      <td>...</td>\n",
              "      <td>...</td>\n",
              "      <td>...</td>\n",
              "      <td>...</td>\n",
              "      <td>...</td>\n",
              "      <td>...</td>\n",
              "      <td>...</td>\n",
              "      <td>...</td>\n",
              "      <td>...</td>\n",
              "      <td>...</td>\n",
              "      <td>...</td>\n",
              "      <td>...</td>\n",
              "      <td>...</td>\n",
              "      <td>...</td>\n",
              "      <td>...</td>\n",
              "      <td>...</td>\n",
              "      <td>...</td>\n",
              "      <td>...</td>\n",
              "      <td>...</td>\n",
              "      <td>...</td>\n",
              "    </tr>\n",
              "    <tr>\n",
              "      <th>5888</th>\n",
              "      <td>2</td>\n",
              "      <td>0</td>\n",
              "      <td>24</td>\n",
              "      <td>16</td>\n",
              "      <td>68.0</td>\n",
              "      <td>33.0</td>\n",
              "      <td>49</td>\n",
              "      <td>31</td>\n",
              "      <td>0</td>\n",
              "      <td>1</td>\n",
              "      <td>NaN</td>\n",
              "      <td>50.0</td>\n",
              "      <td>0</td>\n",
              "      <td>0</td>\n",
              "      <td>0</td>\n",
              "      <td>0</td>\n",
              "      <td>NaN</td>\n",
              "      <td>NaN</td>\n",
              "      <td>Pedro Rizzo</td>\n",
              "      <td>David Abbott</td>\n",
              "      <td>12</td>\n",
              "      <td>16</td>\n",
              "      <td>0</td>\n",
              "      <td>0</td>\n",
              "      <td>12</td>\n",
              "      <td>0</td>\n",
              "      <td>17</td>\n",
              "      <td>7</td>\n",
              "      <td>4</td>\n",
              "      <td>4</td>\n",
              "      <td>3</td>\n",
              "      <td>5</td>\n",
              "      <td>0</td>\n",
              "      <td>KO/TKO  Punch</td>\n",
              "    </tr>\n",
              "    <tr>\n",
              "      <th>5889</th>\n",
              "      <td>0</td>\n",
              "      <td>0</td>\n",
              "      <td>19</td>\n",
              "      <td>24</td>\n",
              "      <td>55.0</td>\n",
              "      <td>55.0</td>\n",
              "      <td>95</td>\n",
              "      <td>145</td>\n",
              "      <td>1</td>\n",
              "      <td>2</td>\n",
              "      <td>11.0</td>\n",
              "      <td>100.0</td>\n",
              "      <td>0</td>\n",
              "      <td>2</td>\n",
              "      <td>0</td>\n",
              "      <td>1</td>\n",
              "      <td>NaN</td>\n",
              "      <td>NaN</td>\n",
              "      <td>Pat Miletich</td>\n",
              "      <td>Mikey Burnett</td>\n",
              "      <td>2</td>\n",
              "      <td>2</td>\n",
              "      <td>12</td>\n",
              "      <td>20</td>\n",
              "      <td>5</td>\n",
              "      <td>2</td>\n",
              "      <td>4</td>\n",
              "      <td>1</td>\n",
              "      <td>15</td>\n",
              "      <td>23</td>\n",
              "      <td>0</td>\n",
              "      <td>0</td>\n",
              "      <td>0</td>\n",
              "      <td>S-DEC</td>\n",
              "    </tr>\n",
              "    <tr>\n",
              "      <th>5890</th>\n",
              "      <td>0</td>\n",
              "      <td>0</td>\n",
              "      <td>14</td>\n",
              "      <td>13</td>\n",
              "      <td>35.0</td>\n",
              "      <td>19.0</td>\n",
              "      <td>30</td>\n",
              "      <td>15</td>\n",
              "      <td>3</td>\n",
              "      <td>0</td>\n",
              "      <td>60.0</td>\n",
              "      <td>NaN</td>\n",
              "      <td>5</td>\n",
              "      <td>0</td>\n",
              "      <td>1</td>\n",
              "      <td>0</td>\n",
              "      <td>NaN</td>\n",
              "      <td>NaN</td>\n",
              "      <td>Tsuyoshi Kohsaka</td>\n",
              "      <td>Pete Williams</td>\n",
              "      <td>7</td>\n",
              "      <td>6</td>\n",
              "      <td>4</td>\n",
              "      <td>7</td>\n",
              "      <td>3</td>\n",
              "      <td>0</td>\n",
              "      <td>11</td>\n",
              "      <td>12</td>\n",
              "      <td>0</td>\n",
              "      <td>1</td>\n",
              "      <td>3</td>\n",
              "      <td>0</td>\n",
              "      <td>0</td>\n",
              "      <td>U-DEC</td>\n",
              "    </tr>\n",
              "    <tr>\n",
              "      <th>5891</th>\n",
              "      <td>0</td>\n",
              "      <td>0</td>\n",
              "      <td>9</td>\n",
              "      <td>3</td>\n",
              "      <td>56.0</td>\n",
              "      <td>60.0</td>\n",
              "      <td>17</td>\n",
              "      <td>11</td>\n",
              "      <td>1</td>\n",
              "      <td>0</td>\n",
              "      <td>100.0</td>\n",
              "      <td>NaN</td>\n",
              "      <td>1</td>\n",
              "      <td>0</td>\n",
              "      <td>0</td>\n",
              "      <td>0</td>\n",
              "      <td>NaN</td>\n",
              "      <td>NaN</td>\n",
              "      <td>Ebenezer Fontes Braga</td>\n",
              "      <td>Jeremy Horn</td>\n",
              "      <td>6</td>\n",
              "      <td>0</td>\n",
              "      <td>1</td>\n",
              "      <td>3</td>\n",
              "      <td>2</td>\n",
              "      <td>0</td>\n",
              "      <td>2</td>\n",
              "      <td>0</td>\n",
              "      <td>5</td>\n",
              "      <td>3</td>\n",
              "      <td>2</td>\n",
              "      <td>0</td>\n",
              "      <td>0</td>\n",
              "      <td>SUB  Guillotine Choke</td>\n",
              "    </tr>\n",
              "    <tr>\n",
              "      <th>5892</th>\n",
              "      <td>0</td>\n",
              "      <td>0</td>\n",
              "      <td>31</td>\n",
              "      <td>11</td>\n",
              "      <td>70.0</td>\n",
              "      <td>30.0</td>\n",
              "      <td>53</td>\n",
              "      <td>21</td>\n",
              "      <td>4</td>\n",
              "      <td>2</td>\n",
              "      <td>100.0</td>\n",
              "      <td>66.0</td>\n",
              "      <td>0</td>\n",
              "      <td>0</td>\n",
              "      <td>0</td>\n",
              "      <td>1</td>\n",
              "      <td>NaN</td>\n",
              "      <td>NaN</td>\n",
              "      <td>Tulio Palhares</td>\n",
              "      <td>Adriano Santos</td>\n",
              "      <td>26</td>\n",
              "      <td>8</td>\n",
              "      <td>1</td>\n",
              "      <td>2</td>\n",
              "      <td>4</td>\n",
              "      <td>1</td>\n",
              "      <td>11</td>\n",
              "      <td>4</td>\n",
              "      <td>1</td>\n",
              "      <td>0</td>\n",
              "      <td>19</td>\n",
              "      <td>7</td>\n",
              "      <td>0</td>\n",
              "      <td>KO/TKO  Punches</td>\n",
              "    </tr>\n",
              "  </tbody>\n",
              "</table>\n",
              "<p>5893 rows × 34 columns</p>\n",
              "</div>"
            ],
            "text/plain": [
              "      Fighter 0 KD  Fighter 1 KD  ...  Winner                 Method\n",
              "0                0             0  ...       0                  U-DEC\n",
              "1                0             0  ...       0                  U-DEC\n",
              "2                0             0  ...       1                  U-DEC\n",
              "3                0             1  ...       0                  S-DEC\n",
              "4                0             0  ...       0                  S-DEC\n",
              "...            ...           ...  ...     ...                    ...\n",
              "5888             2             0  ...       0          KO/TKO  Punch\n",
              "5889             0             0  ...       0                  S-DEC\n",
              "5890             0             0  ...       0                  U-DEC\n",
              "5891             0             0  ...       0  SUB  Guillotine Choke\n",
              "5892             0             0  ...       0        KO/TKO  Punches\n",
              "\n",
              "[5893 rows x 34 columns]"
            ]
          },
          "metadata": {
            "tags": []
          },
          "execution_count": 1345
        }
      ]
    },
    {
      "cell_type": "code",
      "metadata": {
        "colab": {
          "base_uri": "https://localhost:8080/",
          "height": 640
        },
        "id": "uF1ya3BLOSRY",
        "outputId": "cbea31c2-a3bd-4789-b2c7-08b570683513"
      },
      "source": [
        "# Clean dataset: Only decisions with clear winners\n",
        "STORED_FIGHT_TABLE = STORED_FIGHT_TABLE[STORED_FIGHT_TABLE[\"Method\"].str.contains(\"DEC\")]\n",
        "STORED_FIGHT_TABLE = STORED_FIGHT_TABLE[(STORED_FIGHT_TABLE[\"Winner\"] == 1) | (STORED_FIGHT_TABLE[\"Winner\"] == 0)]\n",
        "STORED_FIGHT_TABLE"
      ],
      "execution_count": 1346,
      "outputs": [
        {
          "output_type": "execute_result",
          "data": {
            "text/html": [
              "<div>\n",
              "<style scoped>\n",
              "    .dataframe tbody tr th:only-of-type {\n",
              "        vertical-align: middle;\n",
              "    }\n",
              "\n",
              "    .dataframe tbody tr th {\n",
              "        vertical-align: top;\n",
              "    }\n",
              "\n",
              "    .dataframe thead th {\n",
              "        text-align: right;\n",
              "    }\n",
              "</style>\n",
              "<table border=\"1\" class=\"dataframe\">\n",
              "  <thead>\n",
              "    <tr style=\"text-align: right;\">\n",
              "      <th></th>\n",
              "      <th>Fighter 0 KD</th>\n",
              "      <th>Fighter 1 KD</th>\n",
              "      <th>Fighter 0 Sig. str.</th>\n",
              "      <th>Fighter 1 Sig. str.</th>\n",
              "      <th>Fighter 0 Sig. str. %</th>\n",
              "      <th>Fighter 1 Sig. str. %</th>\n",
              "      <th>Fighter 0 Total str.</th>\n",
              "      <th>Fighter 1 Total str.</th>\n",
              "      <th>Fighter 0 Td</th>\n",
              "      <th>Fighter 1 Td</th>\n",
              "      <th>Fighter 0 Td %</th>\n",
              "      <th>Fighter 1 Td %</th>\n",
              "      <th>Fighter 0 Sub. att</th>\n",
              "      <th>Fighter 1 Sub. att</th>\n",
              "      <th>Fighter 0 Rev.</th>\n",
              "      <th>Fighter 1 Rev.</th>\n",
              "      <th>Fighter 0 Ctrl</th>\n",
              "      <th>Fighter 1 Ctrl</th>\n",
              "      <th>Fighter 0 Name</th>\n",
              "      <th>Fighter 1 Name</th>\n",
              "      <th>Fighter 0 Head</th>\n",
              "      <th>Fighter 1 Head</th>\n",
              "      <th>Fighter 0 Body</th>\n",
              "      <th>Fighter 1 Body</th>\n",
              "      <th>Fighter 0 Leg</th>\n",
              "      <th>Fighter 1 Leg</th>\n",
              "      <th>Fighter 0 Distance</th>\n",
              "      <th>Fighter 1 Distance</th>\n",
              "      <th>Fighter 0 Clinch</th>\n",
              "      <th>Fighter 1 Clinch</th>\n",
              "      <th>Fighter 0 Ground</th>\n",
              "      <th>Fighter 1 Ground</th>\n",
              "      <th>Winner</th>\n",
              "      <th>Method</th>\n",
              "    </tr>\n",
              "  </thead>\n",
              "  <tbody>\n",
              "    <tr>\n",
              "      <th>0</th>\n",
              "      <td>0</td>\n",
              "      <td>0</td>\n",
              "      <td>150</td>\n",
              "      <td>62</td>\n",
              "      <td>52.0</td>\n",
              "      <td>29.0</td>\n",
              "      <td>169</td>\n",
              "      <td>70</td>\n",
              "      <td>4</td>\n",
              "      <td>1</td>\n",
              "      <td>57.0</td>\n",
              "      <td>20.0</td>\n",
              "      <td>0</td>\n",
              "      <td>0</td>\n",
              "      <td>0</td>\n",
              "      <td>0</td>\n",
              "      <td>259.0</td>\n",
              "      <td>26.0</td>\n",
              "      <td>Robert Whittaker</td>\n",
              "      <td>Kelvin Gastelum</td>\n",
              "      <td>115</td>\n",
              "      <td>42</td>\n",
              "      <td>13</td>\n",
              "      <td>7</td>\n",
              "      <td>22</td>\n",
              "      <td>13</td>\n",
              "      <td>138</td>\n",
              "      <td>59</td>\n",
              "      <td>5</td>\n",
              "      <td>3</td>\n",
              "      <td>7</td>\n",
              "      <td>0</td>\n",
              "      <td>0</td>\n",
              "      <td>U-DEC</td>\n",
              "    </tr>\n",
              "    <tr>\n",
              "      <th>1</th>\n",
              "      <td>0</td>\n",
              "      <td>0</td>\n",
              "      <td>105</td>\n",
              "      <td>88</td>\n",
              "      <td>47.0</td>\n",
              "      <td>45.0</td>\n",
              "      <td>109</td>\n",
              "      <td>99</td>\n",
              "      <td>0</td>\n",
              "      <td>0</td>\n",
              "      <td>NaN</td>\n",
              "      <td>NaN</td>\n",
              "      <td>0</td>\n",
              "      <td>0</td>\n",
              "      <td>0</td>\n",
              "      <td>0</td>\n",
              "      <td>39.0</td>\n",
              "      <td>0.0</td>\n",
              "      <td>Andrei Arlovski</td>\n",
              "      <td>Chase Sherman</td>\n",
              "      <td>54</td>\n",
              "      <td>55</td>\n",
              "      <td>26</td>\n",
              "      <td>16</td>\n",
              "      <td>25</td>\n",
              "      <td>17</td>\n",
              "      <td>103</td>\n",
              "      <td>84</td>\n",
              "      <td>2</td>\n",
              "      <td>4</td>\n",
              "      <td>0</td>\n",
              "      <td>0</td>\n",
              "      <td>0</td>\n",
              "      <td>U-DEC</td>\n",
              "    </tr>\n",
              "    <tr>\n",
              "      <th>2</th>\n",
              "      <td>0</td>\n",
              "      <td>0</td>\n",
              "      <td>21</td>\n",
              "      <td>27</td>\n",
              "      <td>44.0</td>\n",
              "      <td>49.0</td>\n",
              "      <td>32</td>\n",
              "      <td>91</td>\n",
              "      <td>0</td>\n",
              "      <td>8</td>\n",
              "      <td>NaN</td>\n",
              "      <td>33.0</td>\n",
              "      <td>0</td>\n",
              "      <td>2</td>\n",
              "      <td>0</td>\n",
              "      <td>0</td>\n",
              "      <td>2.0</td>\n",
              "      <td>701.0</td>\n",
              "      <td>Abdul Razak Alhassan</td>\n",
              "      <td>Jacob Malkoun</td>\n",
              "      <td>11</td>\n",
              "      <td>24</td>\n",
              "      <td>9</td>\n",
              "      <td>2</td>\n",
              "      <td>1</td>\n",
              "      <td>1</td>\n",
              "      <td>14</td>\n",
              "      <td>18</td>\n",
              "      <td>5</td>\n",
              "      <td>3</td>\n",
              "      <td>2</td>\n",
              "      <td>6</td>\n",
              "      <td>1</td>\n",
              "      <td>U-DEC</td>\n",
              "    </tr>\n",
              "    <tr>\n",
              "      <th>3</th>\n",
              "      <td>0</td>\n",
              "      <td>1</td>\n",
              "      <td>66</td>\n",
              "      <td>55</td>\n",
              "      <td>58.0</td>\n",
              "      <td>46.0</td>\n",
              "      <td>84</td>\n",
              "      <td>72</td>\n",
              "      <td>3</td>\n",
              "      <td>0</td>\n",
              "      <td>60.0</td>\n",
              "      <td>0.0</td>\n",
              "      <td>1</td>\n",
              "      <td>0</td>\n",
              "      <td>0</td>\n",
              "      <td>0</td>\n",
              "      <td>386.0</td>\n",
              "      <td>38.0</td>\n",
              "      <td>Tracy Cortez</td>\n",
              "      <td>Justine Kish</td>\n",
              "      <td>40</td>\n",
              "      <td>30</td>\n",
              "      <td>19</td>\n",
              "      <td>8</td>\n",
              "      <td>7</td>\n",
              "      <td>17</td>\n",
              "      <td>39</td>\n",
              "      <td>50</td>\n",
              "      <td>7</td>\n",
              "      <td>4</td>\n",
              "      <td>20</td>\n",
              "      <td>1</td>\n",
              "      <td>0</td>\n",
              "      <td>S-DEC</td>\n",
              "    </tr>\n",
              "    <tr>\n",
              "      <th>4</th>\n",
              "      <td>0</td>\n",
              "      <td>0</td>\n",
              "      <td>90</td>\n",
              "      <td>80</td>\n",
              "      <td>46.0</td>\n",
              "      <td>47.0</td>\n",
              "      <td>90</td>\n",
              "      <td>82</td>\n",
              "      <td>0</td>\n",
              "      <td>4</td>\n",
              "      <td>NaN</td>\n",
              "      <td>44.0</td>\n",
              "      <td>0</td>\n",
              "      <td>0</td>\n",
              "      <td>0</td>\n",
              "      <td>0</td>\n",
              "      <td>3.0</td>\n",
              "      <td>141.0</td>\n",
              "      <td>Luis Pena</td>\n",
              "      <td>Alexander Munoz</td>\n",
              "      <td>74</td>\n",
              "      <td>40</td>\n",
              "      <td>12</td>\n",
              "      <td>20</td>\n",
              "      <td>4</td>\n",
              "      <td>20</td>\n",
              "      <td>88</td>\n",
              "      <td>77</td>\n",
              "      <td>2</td>\n",
              "      <td>3</td>\n",
              "      <td>0</td>\n",
              "      <td>0</td>\n",
              "      <td>0</td>\n",
              "      <td>S-DEC</td>\n",
              "    </tr>\n",
              "    <tr>\n",
              "      <th>...</th>\n",
              "      <td>...</td>\n",
              "      <td>...</td>\n",
              "      <td>...</td>\n",
              "      <td>...</td>\n",
              "      <td>...</td>\n",
              "      <td>...</td>\n",
              "      <td>...</td>\n",
              "      <td>...</td>\n",
              "      <td>...</td>\n",
              "      <td>...</td>\n",
              "      <td>...</td>\n",
              "      <td>...</td>\n",
              "      <td>...</td>\n",
              "      <td>...</td>\n",
              "      <td>...</td>\n",
              "      <td>...</td>\n",
              "      <td>...</td>\n",
              "      <td>...</td>\n",
              "      <td>...</td>\n",
              "      <td>...</td>\n",
              "      <td>...</td>\n",
              "      <td>...</td>\n",
              "      <td>...</td>\n",
              "      <td>...</td>\n",
              "      <td>...</td>\n",
              "      <td>...</td>\n",
              "      <td>...</td>\n",
              "      <td>...</td>\n",
              "      <td>...</td>\n",
              "      <td>...</td>\n",
              "      <td>...</td>\n",
              "      <td>...</td>\n",
              "      <td>...</td>\n",
              "      <td>...</td>\n",
              "    </tr>\n",
              "    <tr>\n",
              "      <th>5880</th>\n",
              "      <td>0</td>\n",
              "      <td>0</td>\n",
              "      <td>27</td>\n",
              "      <td>19</td>\n",
              "      <td>38.0</td>\n",
              "      <td>21.0</td>\n",
              "      <td>71</td>\n",
              "      <td>21</td>\n",
              "      <td>3</td>\n",
              "      <td>1</td>\n",
              "      <td>100.0</td>\n",
              "      <td>16.0</td>\n",
              "      <td>0</td>\n",
              "      <td>1</td>\n",
              "      <td>0</td>\n",
              "      <td>0</td>\n",
              "      <td>NaN</td>\n",
              "      <td>NaN</td>\n",
              "      <td>Pat Miletich</td>\n",
              "      <td>Jorge Patino</td>\n",
              "      <td>9</td>\n",
              "      <td>5</td>\n",
              "      <td>4</td>\n",
              "      <td>1</td>\n",
              "      <td>14</td>\n",
              "      <td>13</td>\n",
              "      <td>20</td>\n",
              "      <td>16</td>\n",
              "      <td>2</td>\n",
              "      <td>2</td>\n",
              "      <td>5</td>\n",
              "      <td>1</td>\n",
              "      <td>0</td>\n",
              "      <td>U-DEC</td>\n",
              "    </tr>\n",
              "    <tr>\n",
              "      <th>5881</th>\n",
              "      <td>0</td>\n",
              "      <td>0</td>\n",
              "      <td>16</td>\n",
              "      <td>25</td>\n",
              "      <td>55.0</td>\n",
              "      <td>47.0</td>\n",
              "      <td>29</td>\n",
              "      <td>58</td>\n",
              "      <td>0</td>\n",
              "      <td>2</td>\n",
              "      <td>NaN</td>\n",
              "      <td>33.0</td>\n",
              "      <td>0</td>\n",
              "      <td>0</td>\n",
              "      <td>0</td>\n",
              "      <td>0</td>\n",
              "      <td>NaN</td>\n",
              "      <td>NaN</td>\n",
              "      <td>Pedro Rizzo</td>\n",
              "      <td>Mark Coleman</td>\n",
              "      <td>9</td>\n",
              "      <td>23</td>\n",
              "      <td>0</td>\n",
              "      <td>0</td>\n",
              "      <td>7</td>\n",
              "      <td>2</td>\n",
              "      <td>15</td>\n",
              "      <td>7</td>\n",
              "      <td>1</td>\n",
              "      <td>0</td>\n",
              "      <td>0</td>\n",
              "      <td>18</td>\n",
              "      <td>0</td>\n",
              "      <td>S-DEC</td>\n",
              "    </tr>\n",
              "    <tr>\n",
              "      <th>5883</th>\n",
              "      <td>1</td>\n",
              "      <td>0</td>\n",
              "      <td>42</td>\n",
              "      <td>34</td>\n",
              "      <td>31.0</td>\n",
              "      <td>53.0</td>\n",
              "      <td>57</td>\n",
              "      <td>41</td>\n",
              "      <td>0</td>\n",
              "      <td>0</td>\n",
              "      <td>NaN</td>\n",
              "      <td>0.0</td>\n",
              "      <td>1</td>\n",
              "      <td>0</td>\n",
              "      <td>0</td>\n",
              "      <td>0</td>\n",
              "      <td>NaN</td>\n",
              "      <td>NaN</td>\n",
              "      <td>Mikey Burnett</td>\n",
              "      <td>Townsend Saunders</td>\n",
              "      <td>28</td>\n",
              "      <td>7</td>\n",
              "      <td>9</td>\n",
              "      <td>14</td>\n",
              "      <td>5</td>\n",
              "      <td>13</td>\n",
              "      <td>21</td>\n",
              "      <td>20</td>\n",
              "      <td>19</td>\n",
              "      <td>14</td>\n",
              "      <td>2</td>\n",
              "      <td>0</td>\n",
              "      <td>0</td>\n",
              "      <td>U-DEC</td>\n",
              "    </tr>\n",
              "    <tr>\n",
              "      <th>5889</th>\n",
              "      <td>0</td>\n",
              "      <td>0</td>\n",
              "      <td>19</td>\n",
              "      <td>24</td>\n",
              "      <td>55.0</td>\n",
              "      <td>55.0</td>\n",
              "      <td>95</td>\n",
              "      <td>145</td>\n",
              "      <td>1</td>\n",
              "      <td>2</td>\n",
              "      <td>11.0</td>\n",
              "      <td>100.0</td>\n",
              "      <td>0</td>\n",
              "      <td>2</td>\n",
              "      <td>0</td>\n",
              "      <td>1</td>\n",
              "      <td>NaN</td>\n",
              "      <td>NaN</td>\n",
              "      <td>Pat Miletich</td>\n",
              "      <td>Mikey Burnett</td>\n",
              "      <td>2</td>\n",
              "      <td>2</td>\n",
              "      <td>12</td>\n",
              "      <td>20</td>\n",
              "      <td>5</td>\n",
              "      <td>2</td>\n",
              "      <td>4</td>\n",
              "      <td>1</td>\n",
              "      <td>15</td>\n",
              "      <td>23</td>\n",
              "      <td>0</td>\n",
              "      <td>0</td>\n",
              "      <td>0</td>\n",
              "      <td>S-DEC</td>\n",
              "    </tr>\n",
              "    <tr>\n",
              "      <th>5890</th>\n",
              "      <td>0</td>\n",
              "      <td>0</td>\n",
              "      <td>14</td>\n",
              "      <td>13</td>\n",
              "      <td>35.0</td>\n",
              "      <td>19.0</td>\n",
              "      <td>30</td>\n",
              "      <td>15</td>\n",
              "      <td>3</td>\n",
              "      <td>0</td>\n",
              "      <td>60.0</td>\n",
              "      <td>NaN</td>\n",
              "      <td>5</td>\n",
              "      <td>0</td>\n",
              "      <td>1</td>\n",
              "      <td>0</td>\n",
              "      <td>NaN</td>\n",
              "      <td>NaN</td>\n",
              "      <td>Tsuyoshi Kohsaka</td>\n",
              "      <td>Pete Williams</td>\n",
              "      <td>7</td>\n",
              "      <td>6</td>\n",
              "      <td>4</td>\n",
              "      <td>7</td>\n",
              "      <td>3</td>\n",
              "      <td>0</td>\n",
              "      <td>11</td>\n",
              "      <td>12</td>\n",
              "      <td>0</td>\n",
              "      <td>1</td>\n",
              "      <td>3</td>\n",
              "      <td>0</td>\n",
              "      <td>0</td>\n",
              "      <td>U-DEC</td>\n",
              "    </tr>\n",
              "  </tbody>\n",
              "</table>\n",
              "<p>2685 rows × 34 columns</p>\n",
              "</div>"
            ],
            "text/plain": [
              "      Fighter 0 KD  Fighter 1 KD  ...  Winner  Method\n",
              "0                0             0  ...       0   U-DEC\n",
              "1                0             0  ...       0   U-DEC\n",
              "2                0             0  ...       1   U-DEC\n",
              "3                0             1  ...       0   S-DEC\n",
              "4                0             0  ...       0   S-DEC\n",
              "...            ...           ...  ...     ...     ...\n",
              "5880             0             0  ...       0   U-DEC\n",
              "5881             0             0  ...       0   S-DEC\n",
              "5883             1             0  ...       0   U-DEC\n",
              "5889             0             0  ...       0   S-DEC\n",
              "5890             0             0  ...       0   U-DEC\n",
              "\n",
              "[2685 rows x 34 columns]"
            ]
          },
          "metadata": {
            "tags": []
          },
          "execution_count": 1346
        }
      ]
    },
    {
      "cell_type": "code",
      "metadata": {
        "id": "fHjSOBfobBva"
      },
      "source": [
        "fighter0 = \"TJ Dillashaw\"\n",
        "fighter1 = \"Dominick Cruz\""
      ],
      "execution_count": 1347,
      "outputs": []
    },
    {
      "cell_type": "code",
      "metadata": {
        "id": "h2OTM47lT6tq"
      },
      "source": [
        "controversial = STORED_FIGHT_TABLE[(STORED_FIGHT_TABLE[\"Fighter 0 Name\"] == fighter0) & (STORED_FIGHT_TABLE[\"Fighter 1 Name\"] == fighter1)]\n",
        "without_controversial = STORED_FIGHT_TABLE.drop(index=controversial.index)"
      ],
      "execution_count": 1348,
      "outputs": []
    },
    {
      "cell_type": "code",
      "metadata": {
        "colab": {
          "base_uri": "https://localhost:8080/",
          "height": 147
        },
        "id": "v7UpZyY9UZ70",
        "outputId": "a5fe56f2-2dec-4e23-f80a-101e59b0d573"
      },
      "source": [
        "controversial"
      ],
      "execution_count": 1349,
      "outputs": [
        {
          "output_type": "execute_result",
          "data": {
            "text/html": [
              "<div>\n",
              "<style scoped>\n",
              "    .dataframe tbody tr th:only-of-type {\n",
              "        vertical-align: middle;\n",
              "    }\n",
              "\n",
              "    .dataframe tbody tr th {\n",
              "        vertical-align: top;\n",
              "    }\n",
              "\n",
              "    .dataframe thead th {\n",
              "        text-align: right;\n",
              "    }\n",
              "</style>\n",
              "<table border=\"1\" class=\"dataframe\">\n",
              "  <thead>\n",
              "    <tr style=\"text-align: right;\">\n",
              "      <th></th>\n",
              "      <th>Fighter 0 KD</th>\n",
              "      <th>Fighter 1 KD</th>\n",
              "      <th>Fighter 0 Sig. str.</th>\n",
              "      <th>Fighter 1 Sig. str.</th>\n",
              "      <th>Fighter 0 Sig. str. %</th>\n",
              "      <th>Fighter 1 Sig. str. %</th>\n",
              "      <th>Fighter 0 Total str.</th>\n",
              "      <th>Fighter 1 Total str.</th>\n",
              "      <th>Fighter 0 Td</th>\n",
              "      <th>Fighter 1 Td</th>\n",
              "      <th>Fighter 0 Td %</th>\n",
              "      <th>Fighter 1 Td %</th>\n",
              "      <th>Fighter 0 Sub. att</th>\n",
              "      <th>Fighter 1 Sub. att</th>\n",
              "      <th>Fighter 0 Rev.</th>\n",
              "      <th>Fighter 1 Rev.</th>\n",
              "      <th>Fighter 0 Ctrl</th>\n",
              "      <th>Fighter 1 Ctrl</th>\n",
              "      <th>Fighter 0 Name</th>\n",
              "      <th>Fighter 1 Name</th>\n",
              "      <th>Fighter 0 Head</th>\n",
              "      <th>Fighter 1 Head</th>\n",
              "      <th>Fighter 0 Body</th>\n",
              "      <th>Fighter 1 Body</th>\n",
              "      <th>Fighter 0 Leg</th>\n",
              "      <th>Fighter 1 Leg</th>\n",
              "      <th>Fighter 0 Distance</th>\n",
              "      <th>Fighter 1 Distance</th>\n",
              "      <th>Fighter 0 Clinch</th>\n",
              "      <th>Fighter 1 Clinch</th>\n",
              "      <th>Fighter 0 Ground</th>\n",
              "      <th>Fighter 1 Ground</th>\n",
              "      <th>Winner</th>\n",
              "      <th>Method</th>\n",
              "    </tr>\n",
              "  </thead>\n",
              "  <tbody>\n",
              "    <tr>\n",
              "      <th>2520</th>\n",
              "      <td>0</td>\n",
              "      <td>0</td>\n",
              "      <td>109</td>\n",
              "      <td>112</td>\n",
              "      <td>26.0</td>\n",
              "      <td>37.0</td>\n",
              "      <td>130</td>\n",
              "      <td>122</td>\n",
              "      <td>1</td>\n",
              "      <td>4</td>\n",
              "      <td>12.0</td>\n",
              "      <td>36.0</td>\n",
              "      <td>0</td>\n",
              "      <td>0</td>\n",
              "      <td>0</td>\n",
              "      <td>0</td>\n",
              "      <td>72.0</td>\n",
              "      <td>33.0</td>\n",
              "      <td>TJ Dillashaw</td>\n",
              "      <td>Dominick Cruz</td>\n",
              "      <td>64</td>\n",
              "      <td>97</td>\n",
              "      <td>22</td>\n",
              "      <td>9</td>\n",
              "      <td>23</td>\n",
              "      <td>6</td>\n",
              "      <td>102</td>\n",
              "      <td>107</td>\n",
              "      <td>6</td>\n",
              "      <td>5</td>\n",
              "      <td>1</td>\n",
              "      <td>0</td>\n",
              "      <td>1</td>\n",
              "      <td>S-DEC</td>\n",
              "    </tr>\n",
              "  </tbody>\n",
              "</table>\n",
              "</div>"
            ],
            "text/plain": [
              "      Fighter 0 KD  Fighter 1 KD  ...  Winner  Method\n",
              "2520             0             0  ...       1   S-DEC\n",
              "\n",
              "[1 rows x 34 columns]"
            ]
          },
          "metadata": {
            "tags": []
          },
          "execution_count": 1349
        }
      ]
    },
    {
      "cell_type": "code",
      "metadata": {
        "colab": {
          "base_uri": "https://localhost:8080/",
          "height": 101
        },
        "id": "KrwHq6IaUluO",
        "outputId": "eb7d6545-28b3-47ac-8144-c65e549bdaa9"
      },
      "source": [
        "without_controversial[(without_controversial[\"Fighter 0 Name\"] == fighter0) & (without_controversial[\"Fighter 1 Name\"] == fighter1)]"
      ],
      "execution_count": 1350,
      "outputs": [
        {
          "output_type": "execute_result",
          "data": {
            "text/html": [
              "<div>\n",
              "<style scoped>\n",
              "    .dataframe tbody tr th:only-of-type {\n",
              "        vertical-align: middle;\n",
              "    }\n",
              "\n",
              "    .dataframe tbody tr th {\n",
              "        vertical-align: top;\n",
              "    }\n",
              "\n",
              "    .dataframe thead th {\n",
              "        text-align: right;\n",
              "    }\n",
              "</style>\n",
              "<table border=\"1\" class=\"dataframe\">\n",
              "  <thead>\n",
              "    <tr style=\"text-align: right;\">\n",
              "      <th></th>\n",
              "      <th>Fighter 0 KD</th>\n",
              "      <th>Fighter 1 KD</th>\n",
              "      <th>Fighter 0 Sig. str.</th>\n",
              "      <th>Fighter 1 Sig. str.</th>\n",
              "      <th>Fighter 0 Sig. str. %</th>\n",
              "      <th>Fighter 1 Sig. str. %</th>\n",
              "      <th>Fighter 0 Total str.</th>\n",
              "      <th>Fighter 1 Total str.</th>\n",
              "      <th>Fighter 0 Td</th>\n",
              "      <th>Fighter 1 Td</th>\n",
              "      <th>Fighter 0 Td %</th>\n",
              "      <th>Fighter 1 Td %</th>\n",
              "      <th>Fighter 0 Sub. att</th>\n",
              "      <th>Fighter 1 Sub. att</th>\n",
              "      <th>Fighter 0 Rev.</th>\n",
              "      <th>Fighter 1 Rev.</th>\n",
              "      <th>Fighter 0 Ctrl</th>\n",
              "      <th>Fighter 1 Ctrl</th>\n",
              "      <th>Fighter 0 Name</th>\n",
              "      <th>Fighter 1 Name</th>\n",
              "      <th>Fighter 0 Head</th>\n",
              "      <th>Fighter 1 Head</th>\n",
              "      <th>Fighter 0 Body</th>\n",
              "      <th>Fighter 1 Body</th>\n",
              "      <th>Fighter 0 Leg</th>\n",
              "      <th>Fighter 1 Leg</th>\n",
              "      <th>Fighter 0 Distance</th>\n",
              "      <th>Fighter 1 Distance</th>\n",
              "      <th>Fighter 0 Clinch</th>\n",
              "      <th>Fighter 1 Clinch</th>\n",
              "      <th>Fighter 0 Ground</th>\n",
              "      <th>Fighter 1 Ground</th>\n",
              "      <th>Winner</th>\n",
              "      <th>Method</th>\n",
              "    </tr>\n",
              "  </thead>\n",
              "  <tbody>\n",
              "  </tbody>\n",
              "</table>\n",
              "</div>"
            ],
            "text/plain": [
              "Empty DataFrame\n",
              "Columns: [Fighter 0 KD, Fighter 1 KD, Fighter 0 Sig. str., Fighter 1 Sig. str., Fighter 0 Sig. str. %, Fighter 1 Sig. str. %, Fighter 0 Total str., Fighter 1 Total str., Fighter 0 Td, Fighter 1 Td, Fighter 0 Td %, Fighter 1 Td %, Fighter 0 Sub. att, Fighter 1 Sub. att, Fighter 0 Rev., Fighter 1 Rev., Fighter 0 Ctrl, Fighter 1 Ctrl, Fighter 0 Name, Fighter 1 Name, Fighter 0 Head, Fighter 1 Head, Fighter 0 Body, Fighter 1 Body, Fighter 0 Leg, Fighter 1 Leg, Fighter 0 Distance, Fighter 1 Distance, Fighter 0 Clinch, Fighter 1 Clinch, Fighter 0 Ground, Fighter 1 Ground, Winner, Method]\n",
              "Index: []"
            ]
          },
          "metadata": {
            "tags": []
          },
          "execution_count": 1350
        }
      ]
    },
    {
      "cell_type": "code",
      "metadata": {
        "id": "SivCNBMTOSRZ"
      },
      "source": [
        "X_train = without_controversial.drop(['Winner', 'Fighter 0 Name', 'Fighter 1 Name', 'Method'], axis=1).fillna(0)\n",
        "y_train = without_controversial[['Winner']]"
      ],
      "execution_count": 1351,
      "outputs": []
    },
    {
      "cell_type": "code",
      "metadata": {
        "id": "YRx9XQSrU8k_"
      },
      "source": [
        "X_valid = controversial.drop(['Winner', 'Fighter 0 Name', 'Fighter 1 Name', 'Method'], axis=1).fillna(0)\n",
        "y_valid = controversial[['Winner']]"
      ],
      "execution_count": 1352,
      "outputs": []
    },
    {
      "cell_type": "code",
      "metadata": {
        "colab": {
          "base_uri": "https://localhost:8080/",
          "height": 249
        },
        "id": "hPjeCwkvVAMU",
        "outputId": "f77a9197-05f3-4998-af42-b196d71e195b"
      },
      "source": [
        "X_train.head()"
      ],
      "execution_count": 1353,
      "outputs": [
        {
          "output_type": "execute_result",
          "data": {
            "text/html": [
              "<div>\n",
              "<style scoped>\n",
              "    .dataframe tbody tr th:only-of-type {\n",
              "        vertical-align: middle;\n",
              "    }\n",
              "\n",
              "    .dataframe tbody tr th {\n",
              "        vertical-align: top;\n",
              "    }\n",
              "\n",
              "    .dataframe thead th {\n",
              "        text-align: right;\n",
              "    }\n",
              "</style>\n",
              "<table border=\"1\" class=\"dataframe\">\n",
              "  <thead>\n",
              "    <tr style=\"text-align: right;\">\n",
              "      <th></th>\n",
              "      <th>Fighter 0 KD</th>\n",
              "      <th>Fighter 1 KD</th>\n",
              "      <th>Fighter 0 Sig. str.</th>\n",
              "      <th>Fighter 1 Sig. str.</th>\n",
              "      <th>Fighter 0 Sig. str. %</th>\n",
              "      <th>Fighter 1 Sig. str. %</th>\n",
              "      <th>Fighter 0 Total str.</th>\n",
              "      <th>Fighter 1 Total str.</th>\n",
              "      <th>Fighter 0 Td</th>\n",
              "      <th>Fighter 1 Td</th>\n",
              "      <th>Fighter 0 Td %</th>\n",
              "      <th>Fighter 1 Td %</th>\n",
              "      <th>Fighter 0 Sub. att</th>\n",
              "      <th>Fighter 1 Sub. att</th>\n",
              "      <th>Fighter 0 Rev.</th>\n",
              "      <th>Fighter 1 Rev.</th>\n",
              "      <th>Fighter 0 Ctrl</th>\n",
              "      <th>Fighter 1 Ctrl</th>\n",
              "      <th>Fighter 0 Head</th>\n",
              "      <th>Fighter 1 Head</th>\n",
              "      <th>Fighter 0 Body</th>\n",
              "      <th>Fighter 1 Body</th>\n",
              "      <th>Fighter 0 Leg</th>\n",
              "      <th>Fighter 1 Leg</th>\n",
              "      <th>Fighter 0 Distance</th>\n",
              "      <th>Fighter 1 Distance</th>\n",
              "      <th>Fighter 0 Clinch</th>\n",
              "      <th>Fighter 1 Clinch</th>\n",
              "      <th>Fighter 0 Ground</th>\n",
              "      <th>Fighter 1 Ground</th>\n",
              "    </tr>\n",
              "  </thead>\n",
              "  <tbody>\n",
              "    <tr>\n",
              "      <th>0</th>\n",
              "      <td>0</td>\n",
              "      <td>0</td>\n",
              "      <td>150</td>\n",
              "      <td>62</td>\n",
              "      <td>52.0</td>\n",
              "      <td>29.0</td>\n",
              "      <td>169</td>\n",
              "      <td>70</td>\n",
              "      <td>4</td>\n",
              "      <td>1</td>\n",
              "      <td>57.0</td>\n",
              "      <td>20.0</td>\n",
              "      <td>0</td>\n",
              "      <td>0</td>\n",
              "      <td>0</td>\n",
              "      <td>0</td>\n",
              "      <td>259.0</td>\n",
              "      <td>26.0</td>\n",
              "      <td>115</td>\n",
              "      <td>42</td>\n",
              "      <td>13</td>\n",
              "      <td>7</td>\n",
              "      <td>22</td>\n",
              "      <td>13</td>\n",
              "      <td>138</td>\n",
              "      <td>59</td>\n",
              "      <td>5</td>\n",
              "      <td>3</td>\n",
              "      <td>7</td>\n",
              "      <td>0</td>\n",
              "    </tr>\n",
              "    <tr>\n",
              "      <th>1</th>\n",
              "      <td>0</td>\n",
              "      <td>0</td>\n",
              "      <td>105</td>\n",
              "      <td>88</td>\n",
              "      <td>47.0</td>\n",
              "      <td>45.0</td>\n",
              "      <td>109</td>\n",
              "      <td>99</td>\n",
              "      <td>0</td>\n",
              "      <td>0</td>\n",
              "      <td>0.0</td>\n",
              "      <td>0.0</td>\n",
              "      <td>0</td>\n",
              "      <td>0</td>\n",
              "      <td>0</td>\n",
              "      <td>0</td>\n",
              "      <td>39.0</td>\n",
              "      <td>0.0</td>\n",
              "      <td>54</td>\n",
              "      <td>55</td>\n",
              "      <td>26</td>\n",
              "      <td>16</td>\n",
              "      <td>25</td>\n",
              "      <td>17</td>\n",
              "      <td>103</td>\n",
              "      <td>84</td>\n",
              "      <td>2</td>\n",
              "      <td>4</td>\n",
              "      <td>0</td>\n",
              "      <td>0</td>\n",
              "    </tr>\n",
              "    <tr>\n",
              "      <th>2</th>\n",
              "      <td>0</td>\n",
              "      <td>0</td>\n",
              "      <td>21</td>\n",
              "      <td>27</td>\n",
              "      <td>44.0</td>\n",
              "      <td>49.0</td>\n",
              "      <td>32</td>\n",
              "      <td>91</td>\n",
              "      <td>0</td>\n",
              "      <td>8</td>\n",
              "      <td>0.0</td>\n",
              "      <td>33.0</td>\n",
              "      <td>0</td>\n",
              "      <td>2</td>\n",
              "      <td>0</td>\n",
              "      <td>0</td>\n",
              "      <td>2.0</td>\n",
              "      <td>701.0</td>\n",
              "      <td>11</td>\n",
              "      <td>24</td>\n",
              "      <td>9</td>\n",
              "      <td>2</td>\n",
              "      <td>1</td>\n",
              "      <td>1</td>\n",
              "      <td>14</td>\n",
              "      <td>18</td>\n",
              "      <td>5</td>\n",
              "      <td>3</td>\n",
              "      <td>2</td>\n",
              "      <td>6</td>\n",
              "    </tr>\n",
              "    <tr>\n",
              "      <th>3</th>\n",
              "      <td>0</td>\n",
              "      <td>1</td>\n",
              "      <td>66</td>\n",
              "      <td>55</td>\n",
              "      <td>58.0</td>\n",
              "      <td>46.0</td>\n",
              "      <td>84</td>\n",
              "      <td>72</td>\n",
              "      <td>3</td>\n",
              "      <td>0</td>\n",
              "      <td>60.0</td>\n",
              "      <td>0.0</td>\n",
              "      <td>1</td>\n",
              "      <td>0</td>\n",
              "      <td>0</td>\n",
              "      <td>0</td>\n",
              "      <td>386.0</td>\n",
              "      <td>38.0</td>\n",
              "      <td>40</td>\n",
              "      <td>30</td>\n",
              "      <td>19</td>\n",
              "      <td>8</td>\n",
              "      <td>7</td>\n",
              "      <td>17</td>\n",
              "      <td>39</td>\n",
              "      <td>50</td>\n",
              "      <td>7</td>\n",
              "      <td>4</td>\n",
              "      <td>20</td>\n",
              "      <td>1</td>\n",
              "    </tr>\n",
              "    <tr>\n",
              "      <th>4</th>\n",
              "      <td>0</td>\n",
              "      <td>0</td>\n",
              "      <td>90</td>\n",
              "      <td>80</td>\n",
              "      <td>46.0</td>\n",
              "      <td>47.0</td>\n",
              "      <td>90</td>\n",
              "      <td>82</td>\n",
              "      <td>0</td>\n",
              "      <td>4</td>\n",
              "      <td>0.0</td>\n",
              "      <td>44.0</td>\n",
              "      <td>0</td>\n",
              "      <td>0</td>\n",
              "      <td>0</td>\n",
              "      <td>0</td>\n",
              "      <td>3.0</td>\n",
              "      <td>141.0</td>\n",
              "      <td>74</td>\n",
              "      <td>40</td>\n",
              "      <td>12</td>\n",
              "      <td>20</td>\n",
              "      <td>4</td>\n",
              "      <td>20</td>\n",
              "      <td>88</td>\n",
              "      <td>77</td>\n",
              "      <td>2</td>\n",
              "      <td>3</td>\n",
              "      <td>0</td>\n",
              "      <td>0</td>\n",
              "    </tr>\n",
              "  </tbody>\n",
              "</table>\n",
              "</div>"
            ],
            "text/plain": [
              "   Fighter 0 KD  Fighter 1 KD  ...  Fighter 0 Ground  Fighter 1 Ground\n",
              "0             0             0  ...                 7                 0\n",
              "1             0             0  ...                 0                 0\n",
              "2             0             0  ...                 2                 6\n",
              "3             0             1  ...                20                 1\n",
              "4             0             0  ...                 0                 0\n",
              "\n",
              "[5 rows x 30 columns]"
            ]
          },
          "metadata": {
            "tags": []
          },
          "execution_count": 1353
        }
      ]
    },
    {
      "cell_type": "code",
      "metadata": {
        "colab": {
          "base_uri": "https://localhost:8080/",
          "height": 195
        },
        "id": "jDjTAPh3VDV7",
        "outputId": "adb8af50-bd84-460c-cd54-816272cd248f"
      },
      "source": [
        "y_train.head()"
      ],
      "execution_count": 1354,
      "outputs": [
        {
          "output_type": "execute_result",
          "data": {
            "text/html": [
              "<div>\n",
              "<style scoped>\n",
              "    .dataframe tbody tr th:only-of-type {\n",
              "        vertical-align: middle;\n",
              "    }\n",
              "\n",
              "    .dataframe tbody tr th {\n",
              "        vertical-align: top;\n",
              "    }\n",
              "\n",
              "    .dataframe thead th {\n",
              "        text-align: right;\n",
              "    }\n",
              "</style>\n",
              "<table border=\"1\" class=\"dataframe\">\n",
              "  <thead>\n",
              "    <tr style=\"text-align: right;\">\n",
              "      <th></th>\n",
              "      <th>Winner</th>\n",
              "    </tr>\n",
              "  </thead>\n",
              "  <tbody>\n",
              "    <tr>\n",
              "      <th>0</th>\n",
              "      <td>0</td>\n",
              "    </tr>\n",
              "    <tr>\n",
              "      <th>1</th>\n",
              "      <td>0</td>\n",
              "    </tr>\n",
              "    <tr>\n",
              "      <th>2</th>\n",
              "      <td>1</td>\n",
              "    </tr>\n",
              "    <tr>\n",
              "      <th>3</th>\n",
              "      <td>0</td>\n",
              "    </tr>\n",
              "    <tr>\n",
              "      <th>4</th>\n",
              "      <td>0</td>\n",
              "    </tr>\n",
              "  </tbody>\n",
              "</table>\n",
              "</div>"
            ],
            "text/plain": [
              "   Winner\n",
              "0       0\n",
              "1       0\n",
              "2       1\n",
              "3       0\n",
              "4       0"
            ]
          },
          "metadata": {
            "tags": []
          },
          "execution_count": 1354
        }
      ]
    },
    {
      "cell_type": "code",
      "metadata": {
        "colab": {
          "base_uri": "https://localhost:8080/",
          "height": 130
        },
        "id": "ZXIKtExwVE1K",
        "outputId": "cc42318b-d4ce-48a5-f142-3e2da24b7c49"
      },
      "source": [
        "X_valid.head()"
      ],
      "execution_count": 1355,
      "outputs": [
        {
          "output_type": "execute_result",
          "data": {
            "text/html": [
              "<div>\n",
              "<style scoped>\n",
              "    .dataframe tbody tr th:only-of-type {\n",
              "        vertical-align: middle;\n",
              "    }\n",
              "\n",
              "    .dataframe tbody tr th {\n",
              "        vertical-align: top;\n",
              "    }\n",
              "\n",
              "    .dataframe thead th {\n",
              "        text-align: right;\n",
              "    }\n",
              "</style>\n",
              "<table border=\"1\" class=\"dataframe\">\n",
              "  <thead>\n",
              "    <tr style=\"text-align: right;\">\n",
              "      <th></th>\n",
              "      <th>Fighter 0 KD</th>\n",
              "      <th>Fighter 1 KD</th>\n",
              "      <th>Fighter 0 Sig. str.</th>\n",
              "      <th>Fighter 1 Sig. str.</th>\n",
              "      <th>Fighter 0 Sig. str. %</th>\n",
              "      <th>Fighter 1 Sig. str. %</th>\n",
              "      <th>Fighter 0 Total str.</th>\n",
              "      <th>Fighter 1 Total str.</th>\n",
              "      <th>Fighter 0 Td</th>\n",
              "      <th>Fighter 1 Td</th>\n",
              "      <th>Fighter 0 Td %</th>\n",
              "      <th>Fighter 1 Td %</th>\n",
              "      <th>Fighter 0 Sub. att</th>\n",
              "      <th>Fighter 1 Sub. att</th>\n",
              "      <th>Fighter 0 Rev.</th>\n",
              "      <th>Fighter 1 Rev.</th>\n",
              "      <th>Fighter 0 Ctrl</th>\n",
              "      <th>Fighter 1 Ctrl</th>\n",
              "      <th>Fighter 0 Head</th>\n",
              "      <th>Fighter 1 Head</th>\n",
              "      <th>Fighter 0 Body</th>\n",
              "      <th>Fighter 1 Body</th>\n",
              "      <th>Fighter 0 Leg</th>\n",
              "      <th>Fighter 1 Leg</th>\n",
              "      <th>Fighter 0 Distance</th>\n",
              "      <th>Fighter 1 Distance</th>\n",
              "      <th>Fighter 0 Clinch</th>\n",
              "      <th>Fighter 1 Clinch</th>\n",
              "      <th>Fighter 0 Ground</th>\n",
              "      <th>Fighter 1 Ground</th>\n",
              "    </tr>\n",
              "  </thead>\n",
              "  <tbody>\n",
              "    <tr>\n",
              "      <th>2520</th>\n",
              "      <td>0</td>\n",
              "      <td>0</td>\n",
              "      <td>109</td>\n",
              "      <td>112</td>\n",
              "      <td>26.0</td>\n",
              "      <td>37.0</td>\n",
              "      <td>130</td>\n",
              "      <td>122</td>\n",
              "      <td>1</td>\n",
              "      <td>4</td>\n",
              "      <td>12.0</td>\n",
              "      <td>36.0</td>\n",
              "      <td>0</td>\n",
              "      <td>0</td>\n",
              "      <td>0</td>\n",
              "      <td>0</td>\n",
              "      <td>72.0</td>\n",
              "      <td>33.0</td>\n",
              "      <td>64</td>\n",
              "      <td>97</td>\n",
              "      <td>22</td>\n",
              "      <td>9</td>\n",
              "      <td>23</td>\n",
              "      <td>6</td>\n",
              "      <td>102</td>\n",
              "      <td>107</td>\n",
              "      <td>6</td>\n",
              "      <td>5</td>\n",
              "      <td>1</td>\n",
              "      <td>0</td>\n",
              "    </tr>\n",
              "  </tbody>\n",
              "</table>\n",
              "</div>"
            ],
            "text/plain": [
              "      Fighter 0 KD  Fighter 1 KD  ...  Fighter 0 Ground  Fighter 1 Ground\n",
              "2520             0             0  ...                 1                 0\n",
              "\n",
              "[1 rows x 30 columns]"
            ]
          },
          "metadata": {
            "tags": []
          },
          "execution_count": 1355
        }
      ]
    },
    {
      "cell_type": "code",
      "metadata": {
        "colab": {
          "base_uri": "https://localhost:8080/",
          "height": 77
        },
        "id": "CcWxQryeVGST",
        "outputId": "f7b9e190-5366-45c8-d204-3f73ac686d76"
      },
      "source": [
        "y_valid.head()"
      ],
      "execution_count": 1356,
      "outputs": [
        {
          "output_type": "execute_result",
          "data": {
            "text/html": [
              "<div>\n",
              "<style scoped>\n",
              "    .dataframe tbody tr th:only-of-type {\n",
              "        vertical-align: middle;\n",
              "    }\n",
              "\n",
              "    .dataframe tbody tr th {\n",
              "        vertical-align: top;\n",
              "    }\n",
              "\n",
              "    .dataframe thead th {\n",
              "        text-align: right;\n",
              "    }\n",
              "</style>\n",
              "<table border=\"1\" class=\"dataframe\">\n",
              "  <thead>\n",
              "    <tr style=\"text-align: right;\">\n",
              "      <th></th>\n",
              "      <th>Winner</th>\n",
              "    </tr>\n",
              "  </thead>\n",
              "  <tbody>\n",
              "    <tr>\n",
              "      <th>2520</th>\n",
              "      <td>1</td>\n",
              "    </tr>\n",
              "  </tbody>\n",
              "</table>\n",
              "</div>"
            ],
            "text/plain": [
              "      Winner\n",
              "2520       1"
            ]
          },
          "metadata": {
            "tags": []
          },
          "execution_count": 1356
        }
      ]
    },
    {
      "cell_type": "markdown",
      "metadata": {
        "id": "Jd2Ifk5uOSRa"
      },
      "source": [
        "## Setup train/validate/test split with data augmentation\n",
        "\n",
        "TODO: Add in smarter data augmentation that create new datapoints nearby."
      ]
    },
    {
      "cell_type": "code",
      "metadata": {
        "id": "I6c8hDK7OSRa"
      },
      "source": [
        "def create_flipped_table(table):\n",
        "    '''Rearranges columns of table so that each fight has two rows. Let fighters be A and B.\n",
        "       One row has (Fighter 0 = A, Fighter 1 = B). One row has (Fighter 0 = B, Fighter 1 = A)\n",
        "       Ensure same column order, as column names not looked at when passed to ML model'''\n",
        "\n",
        "    # Get columns in flipped order, which moves the columns around, but changes column name order too\n",
        "    flipped_columns = []\n",
        "    for column in table.columns:\n",
        "        if \"Fighter 0\" in column:\n",
        "            flipped_columns.append(column.replace(\"Fighter 0\", \"Fighter 1\"))\n",
        "        elif \"Fighter 1\" in column:\n",
        "            flipped_columns.append(column.replace(\"Fighter 1\", \"Fighter 0\"))\n",
        "        else:\n",
        "            flipped_columns.append(column)\n",
        "    flipped_table = table[flipped_columns]\n",
        "\n",
        "    # Flips winners around\n",
        "    if 'Winner' in flipped_table.columns:\n",
        "         flipped_table['Winner'] = flipped_table['Winner'].replace([0, 1], [1, 0])\n",
        "\n",
        "    # Change column names back to normal\n",
        "    flipped_table.columns = table.columns\n",
        "    return flipped_table\n",
        "\n",
        "\n",
        "def add_rows_of_flipped_columns(table):\n",
        "    flipped_table = create_flipped_table(table)\n",
        "    new_table = pd.concat([table, flipped_table])\n",
        "    return new_table"
      ],
      "execution_count": 1357,
      "outputs": []
    },
    {
      "cell_type": "code",
      "metadata": {
        "id": "0iGtsWJVOSRa"
      },
      "source": [
        "# Add flipped rows so fighter 0 and 1 are treated same\n",
        "X_train, y_train = add_rows_of_flipped_columns(X_train), add_rows_of_flipped_columns(y_train)\n",
        "X_valid, y_valid = add_rows_of_flipped_columns(X_valid), add_rows_of_flipped_columns(y_valid)"
      ],
      "execution_count": 1358,
      "outputs": []
    },
    {
      "cell_type": "code",
      "metadata": {
        "id": "oRU788hJOSRb"
      },
      "source": [
        "# Expect equal number of examples in Fighter 0 as Fighter 1 from data augmentation\n",
        "assert(len(y_train[y_train['Winner'] == 0]) == len(y_train[y_train['Winner'] == 1]))\n",
        "assert(len(y_valid[y_valid['Winner'] == 0]) == len(y_valid[y_valid['Winner'] == 1]))\n"
      ],
      "execution_count": 1359,
      "outputs": []
    },
    {
      "cell_type": "code",
      "metadata": {
        "colab": {
          "base_uri": "https://localhost:8080/",
          "height": 455
        },
        "id": "g208MGkGOSRb",
        "outputId": "16d27190-8a30-4d32-ce43-98514a9390cb"
      },
      "source": [
        "X_train"
      ],
      "execution_count": 1360,
      "outputs": [
        {
          "output_type": "execute_result",
          "data": {
            "text/html": [
              "<div>\n",
              "<style scoped>\n",
              "    .dataframe tbody tr th:only-of-type {\n",
              "        vertical-align: middle;\n",
              "    }\n",
              "\n",
              "    .dataframe tbody tr th {\n",
              "        vertical-align: top;\n",
              "    }\n",
              "\n",
              "    .dataframe thead th {\n",
              "        text-align: right;\n",
              "    }\n",
              "</style>\n",
              "<table border=\"1\" class=\"dataframe\">\n",
              "  <thead>\n",
              "    <tr style=\"text-align: right;\">\n",
              "      <th></th>\n",
              "      <th>Fighter 0 KD</th>\n",
              "      <th>Fighter 1 KD</th>\n",
              "      <th>Fighter 0 Sig. str.</th>\n",
              "      <th>Fighter 1 Sig. str.</th>\n",
              "      <th>Fighter 0 Sig. str. %</th>\n",
              "      <th>Fighter 1 Sig. str. %</th>\n",
              "      <th>Fighter 0 Total str.</th>\n",
              "      <th>Fighter 1 Total str.</th>\n",
              "      <th>Fighter 0 Td</th>\n",
              "      <th>Fighter 1 Td</th>\n",
              "      <th>Fighter 0 Td %</th>\n",
              "      <th>Fighter 1 Td %</th>\n",
              "      <th>Fighter 0 Sub. att</th>\n",
              "      <th>Fighter 1 Sub. att</th>\n",
              "      <th>Fighter 0 Rev.</th>\n",
              "      <th>Fighter 1 Rev.</th>\n",
              "      <th>Fighter 0 Ctrl</th>\n",
              "      <th>Fighter 1 Ctrl</th>\n",
              "      <th>Fighter 0 Head</th>\n",
              "      <th>Fighter 1 Head</th>\n",
              "      <th>Fighter 0 Body</th>\n",
              "      <th>Fighter 1 Body</th>\n",
              "      <th>Fighter 0 Leg</th>\n",
              "      <th>Fighter 1 Leg</th>\n",
              "      <th>Fighter 0 Distance</th>\n",
              "      <th>Fighter 1 Distance</th>\n",
              "      <th>Fighter 0 Clinch</th>\n",
              "      <th>Fighter 1 Clinch</th>\n",
              "      <th>Fighter 0 Ground</th>\n",
              "      <th>Fighter 1 Ground</th>\n",
              "    </tr>\n",
              "  </thead>\n",
              "  <tbody>\n",
              "    <tr>\n",
              "      <th>0</th>\n",
              "      <td>0</td>\n",
              "      <td>0</td>\n",
              "      <td>150</td>\n",
              "      <td>62</td>\n",
              "      <td>52.0</td>\n",
              "      <td>29.0</td>\n",
              "      <td>169</td>\n",
              "      <td>70</td>\n",
              "      <td>4</td>\n",
              "      <td>1</td>\n",
              "      <td>57.0</td>\n",
              "      <td>20.0</td>\n",
              "      <td>0</td>\n",
              "      <td>0</td>\n",
              "      <td>0</td>\n",
              "      <td>0</td>\n",
              "      <td>259.0</td>\n",
              "      <td>26.0</td>\n",
              "      <td>115</td>\n",
              "      <td>42</td>\n",
              "      <td>13</td>\n",
              "      <td>7</td>\n",
              "      <td>22</td>\n",
              "      <td>13</td>\n",
              "      <td>138</td>\n",
              "      <td>59</td>\n",
              "      <td>5</td>\n",
              "      <td>3</td>\n",
              "      <td>7</td>\n",
              "      <td>0</td>\n",
              "    </tr>\n",
              "    <tr>\n",
              "      <th>1</th>\n",
              "      <td>0</td>\n",
              "      <td>0</td>\n",
              "      <td>105</td>\n",
              "      <td>88</td>\n",
              "      <td>47.0</td>\n",
              "      <td>45.0</td>\n",
              "      <td>109</td>\n",
              "      <td>99</td>\n",
              "      <td>0</td>\n",
              "      <td>0</td>\n",
              "      <td>0.0</td>\n",
              "      <td>0.0</td>\n",
              "      <td>0</td>\n",
              "      <td>0</td>\n",
              "      <td>0</td>\n",
              "      <td>0</td>\n",
              "      <td>39.0</td>\n",
              "      <td>0.0</td>\n",
              "      <td>54</td>\n",
              "      <td>55</td>\n",
              "      <td>26</td>\n",
              "      <td>16</td>\n",
              "      <td>25</td>\n",
              "      <td>17</td>\n",
              "      <td>103</td>\n",
              "      <td>84</td>\n",
              "      <td>2</td>\n",
              "      <td>4</td>\n",
              "      <td>0</td>\n",
              "      <td>0</td>\n",
              "    </tr>\n",
              "    <tr>\n",
              "      <th>2</th>\n",
              "      <td>0</td>\n",
              "      <td>0</td>\n",
              "      <td>21</td>\n",
              "      <td>27</td>\n",
              "      <td>44.0</td>\n",
              "      <td>49.0</td>\n",
              "      <td>32</td>\n",
              "      <td>91</td>\n",
              "      <td>0</td>\n",
              "      <td>8</td>\n",
              "      <td>0.0</td>\n",
              "      <td>33.0</td>\n",
              "      <td>0</td>\n",
              "      <td>2</td>\n",
              "      <td>0</td>\n",
              "      <td>0</td>\n",
              "      <td>2.0</td>\n",
              "      <td>701.0</td>\n",
              "      <td>11</td>\n",
              "      <td>24</td>\n",
              "      <td>9</td>\n",
              "      <td>2</td>\n",
              "      <td>1</td>\n",
              "      <td>1</td>\n",
              "      <td>14</td>\n",
              "      <td>18</td>\n",
              "      <td>5</td>\n",
              "      <td>3</td>\n",
              "      <td>2</td>\n",
              "      <td>6</td>\n",
              "    </tr>\n",
              "    <tr>\n",
              "      <th>3</th>\n",
              "      <td>0</td>\n",
              "      <td>1</td>\n",
              "      <td>66</td>\n",
              "      <td>55</td>\n",
              "      <td>58.0</td>\n",
              "      <td>46.0</td>\n",
              "      <td>84</td>\n",
              "      <td>72</td>\n",
              "      <td>3</td>\n",
              "      <td>0</td>\n",
              "      <td>60.0</td>\n",
              "      <td>0.0</td>\n",
              "      <td>1</td>\n",
              "      <td>0</td>\n",
              "      <td>0</td>\n",
              "      <td>0</td>\n",
              "      <td>386.0</td>\n",
              "      <td>38.0</td>\n",
              "      <td>40</td>\n",
              "      <td>30</td>\n",
              "      <td>19</td>\n",
              "      <td>8</td>\n",
              "      <td>7</td>\n",
              "      <td>17</td>\n",
              "      <td>39</td>\n",
              "      <td>50</td>\n",
              "      <td>7</td>\n",
              "      <td>4</td>\n",
              "      <td>20</td>\n",
              "      <td>1</td>\n",
              "    </tr>\n",
              "    <tr>\n",
              "      <th>4</th>\n",
              "      <td>0</td>\n",
              "      <td>0</td>\n",
              "      <td>90</td>\n",
              "      <td>80</td>\n",
              "      <td>46.0</td>\n",
              "      <td>47.0</td>\n",
              "      <td>90</td>\n",
              "      <td>82</td>\n",
              "      <td>0</td>\n",
              "      <td>4</td>\n",
              "      <td>0.0</td>\n",
              "      <td>44.0</td>\n",
              "      <td>0</td>\n",
              "      <td>0</td>\n",
              "      <td>0</td>\n",
              "      <td>0</td>\n",
              "      <td>3.0</td>\n",
              "      <td>141.0</td>\n",
              "      <td>74</td>\n",
              "      <td>40</td>\n",
              "      <td>12</td>\n",
              "      <td>20</td>\n",
              "      <td>4</td>\n",
              "      <td>20</td>\n",
              "      <td>88</td>\n",
              "      <td>77</td>\n",
              "      <td>2</td>\n",
              "      <td>3</td>\n",
              "      <td>0</td>\n",
              "      <td>0</td>\n",
              "    </tr>\n",
              "    <tr>\n",
              "      <th>...</th>\n",
              "      <td>...</td>\n",
              "      <td>...</td>\n",
              "      <td>...</td>\n",
              "      <td>...</td>\n",
              "      <td>...</td>\n",
              "      <td>...</td>\n",
              "      <td>...</td>\n",
              "      <td>...</td>\n",
              "      <td>...</td>\n",
              "      <td>...</td>\n",
              "      <td>...</td>\n",
              "      <td>...</td>\n",
              "      <td>...</td>\n",
              "      <td>...</td>\n",
              "      <td>...</td>\n",
              "      <td>...</td>\n",
              "      <td>...</td>\n",
              "      <td>...</td>\n",
              "      <td>...</td>\n",
              "      <td>...</td>\n",
              "      <td>...</td>\n",
              "      <td>...</td>\n",
              "      <td>...</td>\n",
              "      <td>...</td>\n",
              "      <td>...</td>\n",
              "      <td>...</td>\n",
              "      <td>...</td>\n",
              "      <td>...</td>\n",
              "      <td>...</td>\n",
              "      <td>...</td>\n",
              "    </tr>\n",
              "    <tr>\n",
              "      <th>5880</th>\n",
              "      <td>0</td>\n",
              "      <td>0</td>\n",
              "      <td>19</td>\n",
              "      <td>27</td>\n",
              "      <td>21.0</td>\n",
              "      <td>38.0</td>\n",
              "      <td>21</td>\n",
              "      <td>71</td>\n",
              "      <td>1</td>\n",
              "      <td>3</td>\n",
              "      <td>16.0</td>\n",
              "      <td>100.0</td>\n",
              "      <td>1</td>\n",
              "      <td>0</td>\n",
              "      <td>0</td>\n",
              "      <td>0</td>\n",
              "      <td>0.0</td>\n",
              "      <td>0.0</td>\n",
              "      <td>5</td>\n",
              "      <td>9</td>\n",
              "      <td>1</td>\n",
              "      <td>4</td>\n",
              "      <td>13</td>\n",
              "      <td>14</td>\n",
              "      <td>16</td>\n",
              "      <td>20</td>\n",
              "      <td>2</td>\n",
              "      <td>2</td>\n",
              "      <td>1</td>\n",
              "      <td>5</td>\n",
              "    </tr>\n",
              "    <tr>\n",
              "      <th>5881</th>\n",
              "      <td>0</td>\n",
              "      <td>0</td>\n",
              "      <td>25</td>\n",
              "      <td>16</td>\n",
              "      <td>47.0</td>\n",
              "      <td>55.0</td>\n",
              "      <td>58</td>\n",
              "      <td>29</td>\n",
              "      <td>2</td>\n",
              "      <td>0</td>\n",
              "      <td>33.0</td>\n",
              "      <td>0.0</td>\n",
              "      <td>0</td>\n",
              "      <td>0</td>\n",
              "      <td>0</td>\n",
              "      <td>0</td>\n",
              "      <td>0.0</td>\n",
              "      <td>0.0</td>\n",
              "      <td>23</td>\n",
              "      <td>9</td>\n",
              "      <td>0</td>\n",
              "      <td>0</td>\n",
              "      <td>2</td>\n",
              "      <td>7</td>\n",
              "      <td>7</td>\n",
              "      <td>15</td>\n",
              "      <td>0</td>\n",
              "      <td>1</td>\n",
              "      <td>18</td>\n",
              "      <td>0</td>\n",
              "    </tr>\n",
              "    <tr>\n",
              "      <th>5883</th>\n",
              "      <td>0</td>\n",
              "      <td>1</td>\n",
              "      <td>34</td>\n",
              "      <td>42</td>\n",
              "      <td>53.0</td>\n",
              "      <td>31.0</td>\n",
              "      <td>41</td>\n",
              "      <td>57</td>\n",
              "      <td>0</td>\n",
              "      <td>0</td>\n",
              "      <td>0.0</td>\n",
              "      <td>0.0</td>\n",
              "      <td>0</td>\n",
              "      <td>1</td>\n",
              "      <td>0</td>\n",
              "      <td>0</td>\n",
              "      <td>0.0</td>\n",
              "      <td>0.0</td>\n",
              "      <td>7</td>\n",
              "      <td>28</td>\n",
              "      <td>14</td>\n",
              "      <td>9</td>\n",
              "      <td>13</td>\n",
              "      <td>5</td>\n",
              "      <td>20</td>\n",
              "      <td>21</td>\n",
              "      <td>14</td>\n",
              "      <td>19</td>\n",
              "      <td>0</td>\n",
              "      <td>2</td>\n",
              "    </tr>\n",
              "    <tr>\n",
              "      <th>5889</th>\n",
              "      <td>0</td>\n",
              "      <td>0</td>\n",
              "      <td>24</td>\n",
              "      <td>19</td>\n",
              "      <td>55.0</td>\n",
              "      <td>55.0</td>\n",
              "      <td>145</td>\n",
              "      <td>95</td>\n",
              "      <td>2</td>\n",
              "      <td>1</td>\n",
              "      <td>100.0</td>\n",
              "      <td>11.0</td>\n",
              "      <td>2</td>\n",
              "      <td>0</td>\n",
              "      <td>1</td>\n",
              "      <td>0</td>\n",
              "      <td>0.0</td>\n",
              "      <td>0.0</td>\n",
              "      <td>2</td>\n",
              "      <td>2</td>\n",
              "      <td>20</td>\n",
              "      <td>12</td>\n",
              "      <td>2</td>\n",
              "      <td>5</td>\n",
              "      <td>1</td>\n",
              "      <td>4</td>\n",
              "      <td>23</td>\n",
              "      <td>15</td>\n",
              "      <td>0</td>\n",
              "      <td>0</td>\n",
              "    </tr>\n",
              "    <tr>\n",
              "      <th>5890</th>\n",
              "      <td>0</td>\n",
              "      <td>0</td>\n",
              "      <td>13</td>\n",
              "      <td>14</td>\n",
              "      <td>19.0</td>\n",
              "      <td>35.0</td>\n",
              "      <td>15</td>\n",
              "      <td>30</td>\n",
              "      <td>0</td>\n",
              "      <td>3</td>\n",
              "      <td>0.0</td>\n",
              "      <td>60.0</td>\n",
              "      <td>0</td>\n",
              "      <td>5</td>\n",
              "      <td>0</td>\n",
              "      <td>1</td>\n",
              "      <td>0.0</td>\n",
              "      <td>0.0</td>\n",
              "      <td>6</td>\n",
              "      <td>7</td>\n",
              "      <td>7</td>\n",
              "      <td>4</td>\n",
              "      <td>0</td>\n",
              "      <td>3</td>\n",
              "      <td>12</td>\n",
              "      <td>11</td>\n",
              "      <td>1</td>\n",
              "      <td>0</td>\n",
              "      <td>0</td>\n",
              "      <td>3</td>\n",
              "    </tr>\n",
              "  </tbody>\n",
              "</table>\n",
              "<p>5368 rows × 30 columns</p>\n",
              "</div>"
            ],
            "text/plain": [
              "      Fighter 0 KD  Fighter 1 KD  ...  Fighter 0 Ground  Fighter 1 Ground\n",
              "0                0             0  ...                 7                 0\n",
              "1                0             0  ...                 0                 0\n",
              "2                0             0  ...                 2                 6\n",
              "3                0             1  ...                20                 1\n",
              "4                0             0  ...                 0                 0\n",
              "...            ...           ...  ...               ...               ...\n",
              "5880             0             0  ...                 1                 5\n",
              "5881             0             0  ...                18                 0\n",
              "5883             0             1  ...                 0                 2\n",
              "5889             0             0  ...                 0                 0\n",
              "5890             0             0  ...                 0                 3\n",
              "\n",
              "[5368 rows x 30 columns]"
            ]
          },
          "metadata": {
            "tags": []
          },
          "execution_count": 1360
        }
      ]
    },
    {
      "cell_type": "code",
      "metadata": {
        "colab": {
          "base_uri": "https://localhost:8080/",
          "height": 402
        },
        "id": "wojL_I-7OSRb",
        "outputId": "86becd04-0984-4e3d-fa11-a0e18674d689"
      },
      "source": [
        "y_train"
      ],
      "execution_count": 1361,
      "outputs": [
        {
          "output_type": "execute_result",
          "data": {
            "text/html": [
              "<div>\n",
              "<style scoped>\n",
              "    .dataframe tbody tr th:only-of-type {\n",
              "        vertical-align: middle;\n",
              "    }\n",
              "\n",
              "    .dataframe tbody tr th {\n",
              "        vertical-align: top;\n",
              "    }\n",
              "\n",
              "    .dataframe thead th {\n",
              "        text-align: right;\n",
              "    }\n",
              "</style>\n",
              "<table border=\"1\" class=\"dataframe\">\n",
              "  <thead>\n",
              "    <tr style=\"text-align: right;\">\n",
              "      <th></th>\n",
              "      <th>Winner</th>\n",
              "    </tr>\n",
              "  </thead>\n",
              "  <tbody>\n",
              "    <tr>\n",
              "      <th>0</th>\n",
              "      <td>0</td>\n",
              "    </tr>\n",
              "    <tr>\n",
              "      <th>1</th>\n",
              "      <td>0</td>\n",
              "    </tr>\n",
              "    <tr>\n",
              "      <th>2</th>\n",
              "      <td>1</td>\n",
              "    </tr>\n",
              "    <tr>\n",
              "      <th>3</th>\n",
              "      <td>0</td>\n",
              "    </tr>\n",
              "    <tr>\n",
              "      <th>4</th>\n",
              "      <td>0</td>\n",
              "    </tr>\n",
              "    <tr>\n",
              "      <th>...</th>\n",
              "      <td>...</td>\n",
              "    </tr>\n",
              "    <tr>\n",
              "      <th>5880</th>\n",
              "      <td>1</td>\n",
              "    </tr>\n",
              "    <tr>\n",
              "      <th>5881</th>\n",
              "      <td>1</td>\n",
              "    </tr>\n",
              "    <tr>\n",
              "      <th>5883</th>\n",
              "      <td>1</td>\n",
              "    </tr>\n",
              "    <tr>\n",
              "      <th>5889</th>\n",
              "      <td>1</td>\n",
              "    </tr>\n",
              "    <tr>\n",
              "      <th>5890</th>\n",
              "      <td>1</td>\n",
              "    </tr>\n",
              "  </tbody>\n",
              "</table>\n",
              "<p>5368 rows × 1 columns</p>\n",
              "</div>"
            ],
            "text/plain": [
              "      Winner\n",
              "0          0\n",
              "1          0\n",
              "2          1\n",
              "3          0\n",
              "4          0\n",
              "...      ...\n",
              "5880       1\n",
              "5881       1\n",
              "5883       1\n",
              "5889       1\n",
              "5890       1\n",
              "\n",
              "[5368 rows x 1 columns]"
            ]
          },
          "metadata": {
            "tags": []
          },
          "execution_count": 1361
        }
      ]
    },
    {
      "cell_type": "code",
      "metadata": {
        "colab": {
          "base_uri": "https://localhost:8080/"
        },
        "id": "DndW0X9aOSRc",
        "outputId": "3481c691-8d37-4d0a-f03e-8c8a58cf70af"
      },
      "source": [
        "print(f\"X_train.shape = {X_train.shape}\")\n",
        "print(f\"X_valid.shape = {X_valid.shape}\")\n",
        "print(f\"y_train.shape = {y_train.shape}\")\n",
        "print(f\"y_valid.shape = {y_valid.shape}\")\n"
      ],
      "execution_count": 1362,
      "outputs": [
        {
          "output_type": "stream",
          "text": [
            "X_train.shape = (5368, 30)\n",
            "X_valid.shape = (2, 30)\n",
            "y_train.shape = (5368, 1)\n",
            "y_valid.shape = (2, 1)\n"
          ],
          "name": "stdout"
        }
      ]
    },
    {
      "cell_type": "markdown",
      "metadata": {
        "id": "xNEsuXzFOSRf"
      },
      "source": [
        "### Standardize features and break into fighter 0 and 1"
      ]
    },
    {
      "cell_type": "code",
      "metadata": {
        "id": "sKWmgHtTdXLr"
      },
      "source": [
        "fighter0_columns = [col for col in X_train.columns if \"Fighter 0\" in col]\n",
        "fighter1_columns = [col for col in X_train.columns if \"Fighter 1\" in col]\n",
        "\n",
        "X0_train = X_train[fighter0_columns]\n",
        "X1_train = X_train[fighter1_columns]\n",
        "X0_valid = X_valid[fighter0_columns]\n",
        "X1_valid = X_valid[fighter1_columns]\n",
        "\n",
        "X_train_new = pd.concat([X0_train, X1_train], axis=1)\n",
        "X_valid_new = pd.concat([X0_valid, X1_valid], axis=1) \n",
        "\n",
        "means, stds = X_train_new.mean(), X_train_new.std()\n",
        "X_train_new_normal = (X_train_new - means) / stds\n",
        "X_valid_new_normal = (X_valid_new - means) / stds"
      ],
      "execution_count": 1363,
      "outputs": []
    },
    {
      "cell_type": "markdown",
      "metadata": {
        "id": "f-sFWdcdiDD1"
      },
      "source": [
        "## Define inputs to future training"
      ]
    },
    {
      "cell_type": "code",
      "metadata": {
        "id": "UlvV28UhiAtC"
      },
      "source": [
        "# X_train, y_train = X_train_new_normal_aug, y_train_aug\n",
        "X_train = X_train_new_normal\n",
        "X_valid = X_valid_new_normal"
      ],
      "execution_count": 1364,
      "outputs": []
    },
    {
      "cell_type": "markdown",
      "metadata": {
        "id": "stOorO7tOSRc"
      },
      "source": [
        "## Train and test ML models\n",
        "\n",
        "TODO: Play around with PyTorch, add in data augmentation like SMOTE, see if normalizing, standardizing, extracting difference features helps. Must be done for deep models. Try out PCA or MDS to visualize."
      ]
    },
    {
      "cell_type": "code",
      "metadata": {
        "id": "1ZgNyaLvVV3G"
      },
      "source": [
        "import matplotlib.pyplot as plt\n"
      ],
      "execution_count": 1365,
      "outputs": []
    },
    {
      "cell_type": "code",
      "metadata": {
        "id": "RwGbAJvaOSRc"
      },
      "source": [
        "from sklearn.metrics import classification_report, confusion_matrix, ConfusionMatrixDisplay\n",
        "\n",
        "def get_predIdxs_and_trueIdxs(classifier, X, y):\n",
        "    predIdxs = np.where(classifier.predict(X) > 0.5, 1, 0)\n",
        "    trueIdxs = y\n",
        "    return predIdxs, trueIdxs\n",
        "\n",
        "def plot_confusion_matrix(classifier, X, y):\n",
        "    predIdxs, trueIdxs = get_predIdxs_and_trueIdxs(classifier, X, y)\n",
        "    cm = confusion_matrix(trueIdxs, predIdxs)\n",
        "    cmDisplay = ConfusionMatrixDisplay(confusion_matrix=cm, display_labels=[\"Fighter 0 Win\", \"Fighter 1 Win\"])\n",
        "    cmDisplay.plot()\n",
        "    \n",
        "def print_classification_report(classifier, X, y):\n",
        "    predIdxs, trueIdxs = get_predIdxs_and_trueIdxs(classifier, X, y)\n",
        "    print(classification_report(trueIdxs, predIdxs, target_names=[\"Fighter 0 Win\", \"Fighter 1 Win\"]))"
      ],
      "execution_count": 1366,
      "outputs": []
    },
    {
      "cell_type": "markdown",
      "metadata": {
        "id": "d3v7metxjRlr"
      },
      "source": [
        "### Decision Tree"
      ]
    },
    {
      "cell_type": "code",
      "metadata": {
        "colab": {
          "base_uri": "https://localhost:8080/",
          "height": 317
        },
        "id": "X0TNR6wajTSX",
        "outputId": "8646ea67-986e-4fcf-c3d6-c8fd8b46c81f"
      },
      "source": [
        "from sklearn.tree import DecisionTreeClassifier\n",
        "# Train\n",
        "decision_tree_clf = DecisionTreeClassifier(random_state=0)\n",
        "decision_tree_clf.fit(X_train, y_train)\n",
        "\n",
        "# Validate\n",
        "accuracy_train = decision_tree_clf.score(X_train, y_train)\n",
        "accuracy_valid = decision_tree_clf.score(X_valid, y_valid)\n",
        "print(f\"accuracy_train = {accuracy_train}\")\n",
        "print(f\"accuracy_valid = {accuracy_valid}\")\n",
        "\n",
        "# Visualize importances\n",
        "import matplotlib.pyplot as plt\n",
        "plt.rcParams.update({'font.size': 8})\n",
        "plt.barh(X_train.columns, decision_tree_clf.feature_importances_)"
      ],
      "execution_count": 1367,
      "outputs": [
        {
          "output_type": "stream",
          "text": [
            "accuracy_train = 1.0\n",
            "accuracy_valid = 1.0\n"
          ],
          "name": "stdout"
        },
        {
          "output_type": "execute_result",
          "data": {
            "text/plain": [
              "<BarContainer object of 30 artists>"
            ]
          },
          "metadata": {
            "tags": []
          },
          "execution_count": 1367
        },
        {
          "output_type": "display_data",
          "data": {
            "image/png": "[encoded data removed]",
            "text/plain": [
              "<Figure size 432x288 with 1 Axes>"
            ]
          },
          "metadata": {
            "tags": [],
            "needs_background": "light"
          }
        }
      ]
    },
    {
      "cell_type": "code",
      "metadata": {
        "colab": {
          "base_uri": "https://localhost:8080/",
          "height": 439
        },
        "id": "0NLVskN4jVqU",
        "outputId": "1bcdcac5-203e-4ba8-ae6e-1c64418441a5"
      },
      "source": [
        "plot_confusion_matrix(decision_tree_clf, X_valid, y_valid)\n",
        "print_classification_report(decision_tree_clf, X_valid, y_valid)"
      ],
      "execution_count": 1368,
      "outputs": [
        {
          "output_type": "stream",
          "text": [
            "               precision    recall  f1-score   support\n",
            "\n",
            "Fighter 0 Win       1.00      1.00      1.00         1\n",
            "Fighter 1 Win       1.00      1.00      1.00         1\n",
            "\n",
            "     accuracy                           1.00         2\n",
            "    macro avg       1.00      1.00      1.00         2\n",
            " weighted avg       1.00      1.00      1.00         2\n",
            "\n"
          ],
          "name": "stdout"
        },
        {
          "output_type": "display_data",
          "data": {
            "image/png": "[encoded data removed]",
            "text/plain": [
              "<Figure size 432x288 with 2 Axes>"
            ]
          },
          "metadata": {
            "tags": [],
            "needs_background": "light"
          }
        }
      ]
    },
    {
      "cell_type": "markdown",
      "metadata": {
        "id": "5jUUa7-6OSRd"
      },
      "source": [
        "### Random forest"
      ]
    },
    {
      "cell_type": "code",
      "metadata": {
        "colab": {
          "base_uri": "https://localhost:8080/",
          "height": 372
        },
        "id": "B8ly4Z3TOSRd",
        "outputId": "6005ee30-dcb1-4534-fd7c-497c5920d23b"
      },
      "source": [
        "from sklearn.ensemble import RandomForestClassifier\n",
        "\n",
        "# Train\n",
        "random_forest_clf = RandomForestClassifier(max_depth=5, random_state=0)\n",
        "random_forest_clf.fit(X_train, y_train)\n",
        "\n",
        "# Validate\n",
        "accuracy_train = random_forest_clf.score(X_train, y_train)\n",
        "accuracy_valid = random_forest_clf.score(X_valid, y_valid)\n",
        "print(f\"accuracy_train = {accuracy_train}\")\n",
        "print(f\"accuracy_valid = {accuracy_valid}\")\n",
        "\n",
        "# Visualize importances\n",
        "import matplotlib.pyplot as plt\n",
        "plt.rcParams.update({'font.size': 8})\n",
        "plt.barh(X_train.columns, random_forest_clf.feature_importances_)"
      ],
      "execution_count": 1369,
      "outputs": [
        {
          "output_type": "stream",
          "text": [
            "/usr/local/lib/python3.7/dist-packages/ipykernel_launcher.py:5: DataConversionWarning: A column-vector y was passed when a 1d array was expected. Please change the shape of y to (n_samples,), for example using ravel().\n",
            "  \"\"\"\n"
          ],
          "name": "stderr"
        },
        {
          "output_type": "stream",
          "text": [
            "accuracy_train = 0.8714605067064084\n",
            "accuracy_valid = 1.0\n"
          ],
          "name": "stdout"
        },
        {
          "output_type": "execute_result",
          "data": {
            "text/plain": [
              "<BarContainer object of 30 artists>"
            ]
          },
          "metadata": {
            "tags": []
          },
          "execution_count": 1369
        },
        {
          "output_type": "display_data",
          "data": {
            "image/png": "[encoded data removed]",
            "text/plain": [
              "<Figure size 432x288 with 1 Axes>"
            ]
          },
          "metadata": {
            "tags": [],
            "needs_background": "light"
          }
        }
      ]
    },
    {
      "cell_type": "code",
      "metadata": {
        "colab": {
          "base_uri": "https://localhost:8080/",
          "height": 439
        },
        "id": "Zo9BGeJoOSRd",
        "outputId": "9c41bad1-22b9-47fb-8264-549bfd5f878e"
      },
      "source": [
        "plot_confusion_matrix(random_forest_clf, X_valid, y_valid)\n",
        "print_classification_report(random_forest_clf, X_valid, y_valid)"
      ],
      "execution_count": 1370,
      "outputs": [
        {
          "output_type": "stream",
          "text": [
            "               precision    recall  f1-score   support\n",
            "\n",
            "Fighter 0 Win       1.00      1.00      1.00         1\n",
            "Fighter 1 Win       1.00      1.00      1.00         1\n",
            "\n",
            "     accuracy                           1.00         2\n",
            "    macro avg       1.00      1.00      1.00         2\n",
            " weighted avg       1.00      1.00      1.00         2\n",
            "\n"
          ],
          "name": "stdout"
        },
        {
          "output_type": "display_data",
          "data": {
            "image/png": "[encoded data removed]",
            "text/plain": [
              "<Figure size 432x288 with 2 Axes>"
            ]
          },
          "metadata": {
            "tags": [],
            "needs_background": "light"
          }
        }
      ]
    },
    {
      "cell_type": "markdown",
      "metadata": {
        "id": "0613aZAmbHdw"
      },
      "source": [
        "### Extra trees"
      ]
    },
    {
      "cell_type": "code",
      "metadata": {
        "colab": {
          "base_uri": "https://localhost:8080/",
          "height": 372
        },
        "id": "RTCgZ7rIbHEb",
        "outputId": "ae5798ee-7ca9-4b99-a526-2277c07aa512"
      },
      "source": [
        "from sklearn.ensemble import ExtraTreesClassifier\n",
        "\n",
        "# Train\n",
        "extra_trees_clf = ExtraTreesClassifier(n_estimators=100, random_state=0)\n",
        "extra_trees_clf.fit(X_train, y_train)\n",
        "\n",
        "# Validate\n",
        "accuracy_train = extra_trees_clf.score(X_train, y_train)\n",
        "accuracy_valid = extra_trees_clf.score(X_valid, y_valid)\n",
        "print(f\"accuracy_train = {accuracy_train}\")\n",
        "print(f\"accuracy_valid = {accuracy_valid}\")\n",
        "\n",
        "# Visualize importances\n",
        "import matplotlib.pyplot as plt\n",
        "plt.rcParams.update({'font.size': 8})\n",
        "plt.barh(X_train.columns, extra_trees_clf.feature_importances_)"
      ],
      "execution_count": 1371,
      "outputs": [
        {
          "output_type": "stream",
          "text": [
            "/usr/local/lib/python3.7/dist-packages/ipykernel_launcher.py:5: DataConversionWarning: A column-vector y was passed when a 1d array was expected. Please change the shape of y to (n_samples,), for example using ravel().\n",
            "  \"\"\"\n"
          ],
          "name": "stderr"
        },
        {
          "output_type": "stream",
          "text": [
            "accuracy_train = 1.0\n",
            "accuracy_valid = 1.0\n"
          ],
          "name": "stdout"
        },
        {
          "output_type": "execute_result",
          "data": {
            "text/plain": [
              "<BarContainer object of 30 artists>"
            ]
          },
          "metadata": {
            "tags": []
          },
          "execution_count": 1371
        },
        {
          "output_type": "display_data",
          "data": {
            "image/png": "[encoded data removed]",
            "text/plain": [
              "<Figure size 432x288 with 1 Axes>"
            ]
          },
          "metadata": {
            "tags": [],
            "needs_background": "light"
          }
        }
      ]
    },
    {
      "cell_type": "code",
      "metadata": {
        "colab": {
          "base_uri": "https://localhost:8080/",
          "height": 439
        },
        "id": "CRY3quOebU7n",
        "outputId": "247951ed-56b2-484a-9369-04638bb3833d"
      },
      "source": [
        "plot_confusion_matrix(extra_trees_clf, X_valid, y_valid)\n",
        "print_classification_report(extra_trees_clf, X_valid, y_valid)"
      ],
      "execution_count": 1372,
      "outputs": [
        {
          "output_type": "stream",
          "text": [
            "               precision    recall  f1-score   support\n",
            "\n",
            "Fighter 0 Win       1.00      1.00      1.00         1\n",
            "Fighter 1 Win       1.00      1.00      1.00         1\n",
            "\n",
            "     accuracy                           1.00         2\n",
            "    macro avg       1.00      1.00      1.00         2\n",
            " weighted avg       1.00      1.00      1.00         2\n",
            "\n"
          ],
          "name": "stdout"
        },
        {
          "output_type": "display_data",
          "data": {
            "image/png": "[encoded data removed]",
            "text/plain": [
              "<Figure size 432x288 with 2 Axes>"
            ]
          },
          "metadata": {
            "tags": [],
            "needs_background": "light"
          }
        }
      ]
    },
    {
      "cell_type": "markdown",
      "metadata": {
        "id": "CXx4w0bQOSRe"
      },
      "source": [
        "### MLP"
      ]
    },
    {
      "cell_type": "code",
      "metadata": {
        "colab": {
          "base_uri": "https://localhost:8080/"
        },
        "id": "cF3J4g8HOSRe",
        "outputId": "45a95fd1-e88c-4d48-a96b-4e820090a365"
      },
      "source": [
        "# MLP\n",
        "from sklearn.neural_network import MLPClassifier\n",
        "\n",
        "mlp_clf = MLPClassifier(random_state=1, max_iter=300).fit(X_train, y_train)\n",
        "accuracy_train = mlp_clf.score(X_train, y_train)\n",
        "accuracy_valid = mlp_clf.score(X_valid, y_valid)\n",
        "print(f\"accuracy_train = {accuracy_train}\")\n",
        "print(f\"accuracy_valid = {accuracy_valid}\")"
      ],
      "execution_count": 1373,
      "outputs": [
        {
          "output_type": "stream",
          "text": [
            "/usr/local/lib/python3.7/dist-packages/sklearn/neural_network/_multilayer_perceptron.py:934: DataConversionWarning: A column-vector y was passed when a 1d array was expected. Please change the shape of y to (n_samples, ), for example using ravel().\n",
            "  y = column_or_1d(y, warn=True)\n"
          ],
          "name": "stderr"
        },
        {
          "output_type": "stream",
          "text": [
            "accuracy_train = 0.9539865871833085\n",
            "accuracy_valid = 1.0\n"
          ],
          "name": "stdout"
        },
        {
          "output_type": "stream",
          "text": [
            "/usr/local/lib/python3.7/dist-packages/sklearn/neural_network/_multilayer_perceptron.py:571: ConvergenceWarning: Stochastic Optimizer: Maximum iterations (300) reached and the optimization hasn't converged yet.\n",
            "  % self.max_iter, ConvergenceWarning)\n"
          ],
          "name": "stderr"
        }
      ]
    },
    {
      "cell_type": "code",
      "metadata": {
        "colab": {
          "base_uri": "https://localhost:8080/",
          "height": 439
        },
        "id": "xsBZgc7wOSRe",
        "outputId": "fc273d9b-6160-481b-c08f-fe69a245ad35"
      },
      "source": [
        "plot_confusion_matrix(mlp_clf, X_valid, y_valid)\n",
        "print_classification_report(mlp_clf, X_valid, y_valid)"
      ],
      "execution_count": 1374,
      "outputs": [
        {
          "output_type": "stream",
          "text": [
            "               precision    recall  f1-score   support\n",
            "\n",
            "Fighter 0 Win       1.00      1.00      1.00         1\n",
            "Fighter 1 Win       1.00      1.00      1.00         1\n",
            "\n",
            "     accuracy                           1.00         2\n",
            "    macro avg       1.00      1.00      1.00         2\n",
            " weighted avg       1.00      1.00      1.00         2\n",
            "\n"
          ],
          "name": "stdout"
        },
        {
          "output_type": "display_data",
          "data": {
            "image/png": "[encoded data removed]",
            "text/plain": [
              "<Figure size 432x288 with 2 Axes>"
            ]
          },
          "metadata": {
            "tags": [],
            "needs_background": "light"
          }
        }
      ]
    },
    {
      "cell_type": "markdown",
      "metadata": {
        "id": "YaDADd0nOSRe"
      },
      "source": [
        "### SVM"
      ]
    },
    {
      "cell_type": "code",
      "metadata": {
        "colab": {
          "base_uri": "https://localhost:8080/"
        },
        "id": "Lid4_UcGOSRe",
        "outputId": "5e6966e2-e234-4d7f-ca1f-af3891b5ef6b"
      },
      "source": [
        "# SVM\n",
        "from sklearn.svm import SVC\n",
        "\n",
        "svm_clf = SVC(random_state=1, probability=True).fit(X_train, y_train)\n",
        "accuracy_train = svm_clf.score(X_train, y_train)\n",
        "accuracy_valid = svm_clf.score(X_valid, y_valid)\n",
        "print(f\"accuracy_train = {accuracy_train}\")\n",
        "print(f\"accuracy_valid = {accuracy_valid}\")"
      ],
      "execution_count": 1375,
      "outputs": [
        {
          "output_type": "stream",
          "text": [
            "/usr/local/lib/python3.7/dist-packages/sklearn/utils/validation.py:760: DataConversionWarning: A column-vector y was passed when a 1d array was expected. Please change the shape of y to (n_samples, ), for example using ravel().\n",
            "  y = column_or_1d(y, warn=True)\n"
          ],
          "name": "stderr"
        },
        {
          "output_type": "stream",
          "text": [
            "accuracy_train = 0.882451564828614\n",
            "accuracy_valid = 1.0\n"
          ],
          "name": "stdout"
        }
      ]
    },
    {
      "cell_type": "code",
      "metadata": {
        "colab": {
          "base_uri": "https://localhost:8080/",
          "height": 439
        },
        "id": "9PUOxo-MOSRf",
        "outputId": "13df77e8-6707-4f71-cc14-ece09c5b8dda"
      },
      "source": [
        "plot_confusion_matrix(svm_clf, X_valid, y_valid)\n",
        "print_classification_report(svm_clf, X_valid, y_valid)"
      ],
      "execution_count": 1376,
      "outputs": [
        {
          "output_type": "stream",
          "text": [
            "               precision    recall  f1-score   support\n",
            "\n",
            "Fighter 0 Win       1.00      1.00      1.00         1\n",
            "Fighter 1 Win       1.00      1.00      1.00         1\n",
            "\n",
            "     accuracy                           1.00         2\n",
            "    macro avg       1.00      1.00      1.00         2\n",
            " weighted avg       1.00      1.00      1.00         2\n",
            "\n"
          ],
          "name": "stdout"
        },
        {
          "output_type": "display_data",
          "data": {
            "image/png": "[encoded data removed]",
            "text/plain": [
              "<Figure size 432x288 with 2 Axes>"
            ]
          },
          "metadata": {
            "tags": [],
            "needs_background": "light"
          }
        }
      ]
    },
    {
      "cell_type": "code",
      "metadata": {
        "colab": {
          "base_uri": "https://localhost:8080/"
        },
        "id": "LzZIqs1OWiXt",
        "outputId": "bc10d01d-a4ea-4396-a3f7-fe82ec19ae96"
      },
      "source": [
        "# SVM linear kernel\n",
        "svm_linear_clf = SVC(kernel='linear', random_state=1, probability=True).fit(X_train, y_train)\n",
        "accuracy_train = svm_linear_clf.score(X_train, y_train)\n",
        "accuracy_valid = svm_linear_clf.score(X_valid, y_valid)\n",
        "print(f\"accuracy_train = {accuracy_train}\")\n",
        "print(f\"accuracy_valid = {accuracy_valid}\")"
      ],
      "execution_count": 1377,
      "outputs": [
        {
          "output_type": "stream",
          "text": [
            "/usr/local/lib/python3.7/dist-packages/sklearn/utils/validation.py:760: DataConversionWarning: A column-vector y was passed when a 1d array was expected. Please change the shape of y to (n_samples, ), for example using ravel().\n",
            "  y = column_or_1d(y, warn=True)\n"
          ],
          "name": "stderr"
        },
        {
          "output_type": "stream",
          "text": [
            "accuracy_train = 0.8600968703427719\n",
            "accuracy_valid = 1.0\n"
          ],
          "name": "stdout"
        }
      ]
    },
    {
      "cell_type": "code",
      "metadata": {
        "colab": {
          "base_uri": "https://localhost:8080/",
          "height": 282
        },
        "id": "ckmE9q0vXnqs",
        "outputId": "4f8dbd0d-c77b-439b-d5df-e81914d0f71c"
      },
      "source": [
        "# Visualize importances\n",
        "import matplotlib.pyplot as plt\n",
        "plt.rcParams.update({'font.size': 8})\n",
        "plt.barh(X_train.columns, svm_linear_clf.coef_[0])"
      ],
      "execution_count": 1378,
      "outputs": [
        {
          "output_type": "execute_result",
          "data": {
            "text/plain": [
              "<BarContainer object of 30 artists>"
            ]
          },
          "metadata": {
            "tags": []
          },
          "execution_count": 1378
        },
        {
          "output_type": "display_data",
          "data": {
            "image/png": "[encoded data removed]",
            "text/plain": [
              "<Figure size 432x288 with 1 Axes>"
            ]
          },
          "metadata": {
            "tags": [],
            "needs_background": "light"
          }
        }
      ]
    },
    {
      "cell_type": "code",
      "metadata": {
        "colab": {
          "base_uri": "https://localhost:8080/",
          "height": 439
        },
        "id": "4iMx96BTWwAY",
        "outputId": "59451be4-b091-4cbe-8f1f-1ee49f61b6f5"
      },
      "source": [
        "plot_confusion_matrix(svm_linear_clf, X_valid, y_valid)\n",
        "print_classification_report(svm_linear_clf, X_valid, y_valid)"
      ],
      "execution_count": 1379,
      "outputs": [
        {
          "output_type": "stream",
          "text": [
            "               precision    recall  f1-score   support\n",
            "\n",
            "Fighter 0 Win       1.00      1.00      1.00         1\n",
            "Fighter 1 Win       1.00      1.00      1.00         1\n",
            "\n",
            "     accuracy                           1.00         2\n",
            "    macro avg       1.00      1.00      1.00         2\n",
            " weighted avg       1.00      1.00      1.00         2\n",
            "\n"
          ],
          "name": "stdout"
        },
        {
          "output_type": "display_data",
          "data": {
            "image/png": "[encoded data removed]",
            "text/plain": [
              "<Figure size 432x288 with 2 Axes>"
            ]
          },
          "metadata": {
            "tags": [],
            "needs_background": "light"
          }
        }
      ]
    },
    {
      "cell_type": "code",
      "metadata": {
        "colab": {
          "base_uri": "https://localhost:8080/"
        },
        "id": "7L3PLSKsV-O_",
        "outputId": "afa2a7bd-ebc9-4b0f-f336-b6ea4dad0d1a"
      },
      "source": [
        "probability0 = svm_linear_clf.predict_proba(X_valid)[0][0]\n",
        "probability1 = svm_linear_clf.predict_proba(X_valid)[0][1]\n",
        "print(f\"Probability that {fighter0} won: {probability0}\")\n",
        "print(f\"Probability that {fighter1} won: {probability1}\")\n",
        "print(f\"Actual winner: {fighter0 if y_valid.iloc[0][0] == 0 else fighter1}\")"
      ],
      "execution_count": 1380,
      "outputs": [
        {
          "output_type": "stream",
          "text": [
            "Probability that TJ Dillashaw won: 0.1843428869915624\n",
            "Probability that Dominick Cruz won: 0.8156571130084374\n",
            "Actual winner: Dominick Cruz\n"
          ],
          "name": "stdout"
        }
      ]
    },
    {
      "cell_type": "markdown",
      "metadata": {
        "id": "3itzucb_OSRf"
      },
      "source": [
        "### XGBoost"
      ]
    },
    {
      "cell_type": "code",
      "metadata": {
        "colab": {
          "base_uri": "https://localhost:8080/"
        },
        "id": "H_WSt6GkOSRf",
        "outputId": "9d4e2ba6-c877-4ae9-bc03-e9ce5dc85395"
      },
      "source": [
        "from xgboost import XGBClassifier\n",
        "xgb_clf = XGBClassifier()\n",
        "xgb_clf.fit(X_train, y_train)\n",
        "\n",
        "accuracy_train = xgb_clf.score(X_train, y_train)\n",
        "accuracy_valid = xgb_clf.score(X_valid, y_valid)\n",
        "print(f\"accuracy_train = {accuracy_train}\")\n",
        "print(f\"accuracy_valid = {accuracy_valid}\")"
      ],
      "execution_count": 1381,
      "outputs": [
        {
          "output_type": "stream",
          "text": [
            "/usr/local/lib/python3.7/dist-packages/sklearn/preprocessing/_label.py:235: DataConversionWarning: A column-vector y was passed when a 1d array was expected. Please change the shape of y to (n_samples, ), for example using ravel().\n",
            "  y = column_or_1d(y, warn=True)\n",
            "/usr/local/lib/python3.7/dist-packages/sklearn/preprocessing/_label.py:268: DataConversionWarning: A column-vector y was passed when a 1d array was expected. Please change the shape of y to (n_samples, ), for example using ravel().\n",
            "  y = column_or_1d(y, warn=True)\n"
          ],
          "name": "stderr"
        },
        {
          "output_type": "stream",
          "text": [
            "accuracy_train = 0.8815201192250373\n",
            "accuracy_valid = 1.0\n"
          ],
          "name": "stdout"
        }
      ]
    },
    {
      "cell_type": "code",
      "metadata": {
        "colab": {
          "base_uri": "https://localhost:8080/",
          "height": 439
        },
        "id": "KVnq88q6O1Fq",
        "outputId": "8294c40a-2ccf-474d-c811-d88624452ac6"
      },
      "source": [
        "plot_confusion_matrix(xgb_clf, X_valid, y_valid)\n",
        "print_classification_report(xgb_clf, X_valid, y_valid)"
      ],
      "execution_count": 1382,
      "outputs": [
        {
          "output_type": "stream",
          "text": [
            "               precision    recall  f1-score   support\n",
            "\n",
            "Fighter 0 Win       1.00      1.00      1.00         1\n",
            "Fighter 1 Win       1.00      1.00      1.00         1\n",
            "\n",
            "     accuracy                           1.00         2\n",
            "    macro avg       1.00      1.00      1.00         2\n",
            " weighted avg       1.00      1.00      1.00         2\n",
            "\n"
          ],
          "name": "stdout"
        },
        {
          "output_type": "display_data",
          "data": {
            "image/png": "[encoded data removed]",
            "text/plain": [
              "<Figure size 432x288 with 2 Axes>"
            ]
          },
          "metadata": {
            "tags": [],
            "needs_background": "light"
          }
        }
      ]
    },
    {
      "cell_type": "markdown",
      "metadata": {
        "id": "6wP0UzhhVG4M"
      },
      "source": [
        "### Logistic regression"
      ]
    },
    {
      "cell_type": "code",
      "metadata": {
        "colab": {
          "base_uri": "https://localhost:8080/",
          "height": 372
        },
        "id": "LbmiFpfCVGgu",
        "outputId": "f1c943dc-8dac-4076-b362-c8c15299b990"
      },
      "source": [
        "from sklearn.linear_model import LogisticRegression\n",
        "logistic_regression_clf = LogisticRegression(random_state=0).fit(X_train, y_train)\n",
        "\n",
        "accuracy_train = logistic_regression_clf.score(X_train, y_train)\n",
        "accuracy_valid = logistic_regression_clf.score(X_valid, y_valid)\n",
        "print(f\"accuracy_train = {accuracy_train}\")\n",
        "print(f\"accuracy_valid = {accuracy_valid}\")\n",
        "\n",
        "# Visualize importances\n",
        "import matplotlib.pyplot as plt\n",
        "plt.rcParams.update({'font.size': 8})\n",
        "plt.barh(X_train.columns, logistic_regression_clf.coef_[0])"
      ],
      "execution_count": 1383,
      "outputs": [
        {
          "output_type": "stream",
          "text": [
            "accuracy_train = 0.8617734724292101\n",
            "accuracy_valid = 1.0\n"
          ],
          "name": "stdout"
        },
        {
          "output_type": "stream",
          "text": [
            "/usr/local/lib/python3.7/dist-packages/sklearn/utils/validation.py:760: DataConversionWarning: A column-vector y was passed when a 1d array was expected. Please change the shape of y to (n_samples, ), for example using ravel().\n",
            "  y = column_or_1d(y, warn=True)\n"
          ],
          "name": "stderr"
        },
        {
          "output_type": "execute_result",
          "data": {
            "text/plain": [
              "<BarContainer object of 30 artists>"
            ]
          },
          "metadata": {
            "tags": []
          },
          "execution_count": 1383
        },
        {
          "output_type": "display_data",
          "data": {
            "image/png": "[encoded data removed]",
            "text/plain": [
              "<Figure size 432x288 with 1 Axes>"
            ]
          },
          "metadata": {
            "tags": [],
            "needs_background": "light"
          }
        }
      ]
    },
    {
      "cell_type": "code",
      "metadata": {
        "colab": {
          "base_uri": "https://localhost:8080/",
          "height": 439
        },
        "id": "bYiaJ4WKVN0v",
        "outputId": "049c9ede-bad5-4fe8-bbfa-f188abadd5bc"
      },
      "source": [
        "plot_confusion_matrix(logistic_regression_clf, X_valid, y_valid)\n",
        "print_classification_report(logistic_regression_clf, X_valid, y_valid)"
      ],
      "execution_count": 1384,
      "outputs": [
        {
          "output_type": "stream",
          "text": [
            "               precision    recall  f1-score   support\n",
            "\n",
            "Fighter 0 Win       1.00      1.00      1.00         1\n",
            "Fighter 1 Win       1.00      1.00      1.00         1\n",
            "\n",
            "     accuracy                           1.00         2\n",
            "    macro avg       1.00      1.00      1.00         2\n",
            " weighted avg       1.00      1.00      1.00         2\n",
            "\n"
          ],
          "name": "stdout"
        },
        {
          "output_type": "display_data",
          "data": {
            "image/png": "[encoded data removed]",
            "text/plain": [
              "<Figure size 432x288 with 2 Axes>"
            ]
          },
          "metadata": {
            "tags": [],
            "needs_background": "light"
          }
        }
      ]
    },
    {
      "cell_type": "code",
      "metadata": {
        "colab": {
          "base_uri": "https://localhost:8080/",
          "height": 372
        },
        "id": "cDxUH57MV3CA",
        "outputId": "6102be57-5d9b-47b5-d9a1-85b9738ff7b9"
      },
      "source": [
        "logistic_regression_l1_clf = LogisticRegression(penalty='l1', solver='liblinear', random_state=0).fit(X_train, y_train)\n",
        "\n",
        "accuracy_train = logistic_regression_l1_clf.score(X_train, y_train)\n",
        "accuracy_valid = logistic_regression_l1_clf.score(X_valid, y_valid)\n",
        "print(f\"accuracy_train = {accuracy_train}\")\n",
        "print(f\"accuracy_valid = {accuracy_valid}\")\n",
        "\n",
        "# Visualize importances\n",
        "import matplotlib.pyplot as plt\n",
        "plt.rcParams.update({'font.size': 8})\n",
        "plt.barh(X_train.columns, logistic_regression_l1_clf.coef_[0])"
      ],
      "execution_count": 1385,
      "outputs": [
        {
          "output_type": "stream",
          "text": [
            "/usr/local/lib/python3.7/dist-packages/sklearn/utils/validation.py:760: DataConversionWarning: A column-vector y was passed when a 1d array was expected. Please change the shape of y to (n_samples, ), for example using ravel().\n",
            "  y = column_or_1d(y, warn=True)\n"
          ],
          "name": "stderr"
        },
        {
          "output_type": "stream",
          "text": [
            "accuracy_train = 0.860655737704918\n",
            "accuracy_valid = 1.0\n"
          ],
          "name": "stdout"
        },
        {
          "output_type": "execute_result",
          "data": {
            "text/plain": [
              "<BarContainer object of 30 artists>"
            ]
          },
          "metadata": {
            "tags": []
          },
          "execution_count": 1385
        },
        {
          "output_type": "display_data",
          "data": {
            "image/png": "[encoded data removed]",
            "text/plain": [
              "<Figure size 432x288 with 1 Axes>"
            ]
          },
          "metadata": {
            "tags": [],
            "needs_background": "light"
          }
        }
      ]
    },
    {
      "cell_type": "code",
      "metadata": {
        "colab": {
          "base_uri": "https://localhost:8080/",
          "height": 439
        },
        "id": "zWOjdd_QV6We",
        "outputId": "cd747bc8-cc05-4bc1-849c-e9777bd370e3"
      },
      "source": [
        "plot_confusion_matrix(logistic_regression_l1_clf, X_valid, y_valid)\n",
        "print_classification_report(logistic_regression_l1_clf, X_valid, y_valid)"
      ],
      "execution_count": 1386,
      "outputs": [
        {
          "output_type": "stream",
          "text": [
            "               precision    recall  f1-score   support\n",
            "\n",
            "Fighter 0 Win       1.00      1.00      1.00         1\n",
            "Fighter 1 Win       1.00      1.00      1.00         1\n",
            "\n",
            "     accuracy                           1.00         2\n",
            "    macro avg       1.00      1.00      1.00         2\n",
            " weighted avg       1.00      1.00      1.00         2\n",
            "\n"
          ],
          "name": "stdout"
        },
        {
          "output_type": "display_data",
          "data": {
            "image/png": "[encoded data removed]",
            "text/plain": [
              "<Figure size 432x288 with 2 Axes>"
            ]
          },
          "metadata": {
            "tags": [],
            "needs_background": "light"
          }
        }
      ]
    },
    {
      "cell_type": "markdown",
      "metadata": {
        "id": "gzj5WaU_YRsQ"
      },
      "source": [
        "### KNN classifier"
      ]
    },
    {
      "cell_type": "code",
      "metadata": {
        "colab": {
          "base_uri": "https://localhost:8080/"
        },
        "id": "Y5ujO215YRFX",
        "outputId": "c8d09135-ae59-4780-d0a8-def528eee80c"
      },
      "source": [
        "from sklearn.neighbors import KNeighborsClassifier\n",
        "knn_clf = KNeighborsClassifier(n_neighbors=10).fit(X_train, y_train)\n",
        "\n",
        "accuracy_train = knn_clf.score(X_train, y_train)\n",
        "accuracy_valid = knn_clf.score(X_valid, y_valid)\n",
        "print(f\"accuracy_train = {accuracy_train}\")\n",
        "print(f\"accuracy_valid = {accuracy_valid}\")"
      ],
      "execution_count": 1387,
      "outputs": [
        {
          "output_type": "stream",
          "text": [
            "/usr/local/lib/python3.7/dist-packages/ipykernel_launcher.py:2: DataConversionWarning: A column-vector y was passed when a 1d array was expected. Please change the shape of y to (n_samples, ), for example using ravel().\n",
            "  \n"
          ],
          "name": "stderr"
        },
        {
          "output_type": "stream",
          "text": [
            "accuracy_train = 0.8517138599105812\n",
            "accuracy_valid = 1.0\n"
          ],
          "name": "stdout"
        }
      ]
    },
    {
      "cell_type": "code",
      "metadata": {
        "colab": {
          "base_uri": "https://localhost:8080/",
          "height": 439
        },
        "id": "aMgQlf5rYfSU",
        "outputId": "431f1391-5298-4f50-84f0-b93672242d39"
      },
      "source": [
        "plot_confusion_matrix(knn_clf, X_valid, y_valid)\n",
        "print_classification_report(knn_clf, X_valid, y_valid)"
      ],
      "execution_count": 1388,
      "outputs": [
        {
          "output_type": "stream",
          "text": [
            "               precision    recall  f1-score   support\n",
            "\n",
            "Fighter 0 Win       1.00      1.00      1.00         1\n",
            "Fighter 1 Win       1.00      1.00      1.00         1\n",
            "\n",
            "     accuracy                           1.00         2\n",
            "    macro avg       1.00      1.00      1.00         2\n",
            " weighted avg       1.00      1.00      1.00         2\n",
            "\n"
          ],
          "name": "stdout"
        },
        {
          "output_type": "display_data",
          "data": {
            "image/png": "[encoded data removed]",
            "text/plain": [
              "<Figure size 432x288 with 2 Axes>"
            ]
          },
          "metadata": {
            "tags": [],
            "needs_background": "light"
          }
        }
      ]
    },
    {
      "cell_type": "markdown",
      "metadata": {
        "id": "nbCFcybKZgYI"
      },
      "source": [
        "### Gradient boosting"
      ]
    },
    {
      "cell_type": "code",
      "metadata": {
        "colab": {
          "base_uri": "https://localhost:8080/"
        },
        "id": "RQcxuC6PZjMw",
        "outputId": "5380f399-37ce-4809-e517-e7d216187311"
      },
      "source": [
        "from sklearn.ensemble import GradientBoostingClassifier\n",
        "gradient_boosting_clf = GradientBoostingClassifier(n_estimators=100, learning_rate=1.0, max_depth=1, random_state=0).fit(X_train, y_train)\n",
        "\n",
        "accuracy_train = gradient_boosting_clf.score(X_train, y_train)\n",
        "accuracy_valid = gradient_boosting_clf.score(X_valid, y_valid)\n",
        "print(f\"accuracy_train = {accuracy_train}\")\n",
        "print(f\"accuracy_valid = {accuracy_valid}\")"
      ],
      "execution_count": 1389,
      "outputs": [
        {
          "output_type": "stream",
          "text": [
            "/usr/local/lib/python3.7/dist-packages/sklearn/ensemble/_gb.py:1454: DataConversionWarning: A column-vector y was passed when a 1d array was expected. Please change the shape of y to (n_samples, ), for example using ravel().\n",
            "  y = column_or_1d(y, warn=True)\n"
          ],
          "name": "stderr"
        },
        {
          "output_type": "stream",
          "text": [
            "accuracy_train = 0.8666169895678092\n",
            "accuracy_valid = 1.0\n"
          ],
          "name": "stdout"
        }
      ]
    },
    {
      "cell_type": "code",
      "metadata": {
        "colab": {
          "base_uri": "https://localhost:8080/",
          "height": 439
        },
        "id": "uHZNLkgUZo3I",
        "outputId": "43771b74-7078-4cf6-ef87-287651f8924a"
      },
      "source": [
        "plot_confusion_matrix(gradient_boosting_clf, X_valid, y_valid)\n",
        "print_classification_report(gradient_boosting_clf, X_valid, y_valid)"
      ],
      "execution_count": 1390,
      "outputs": [
        {
          "output_type": "stream",
          "text": [
            "               precision    recall  f1-score   support\n",
            "\n",
            "Fighter 0 Win       1.00      1.00      1.00         1\n",
            "Fighter 1 Win       1.00      1.00      1.00         1\n",
            "\n",
            "     accuracy                           1.00         2\n",
            "    macro avg       1.00      1.00      1.00         2\n",
            " weighted avg       1.00      1.00      1.00         2\n",
            "\n"
          ],
          "name": "stdout"
        },
        {
          "output_type": "display_data",
          "data": {
            "image/png": "[encoded data removed]",
            "text/plain": [
              "<Figure size 432x288 with 2 Axes>"
            ]
          },
          "metadata": {
            "tags": [],
            "needs_background": "light"
          }
        }
      ]
    },
    {
      "cell_type": "markdown",
      "metadata": {
        "id": "FQK1JgIgYwUN"
      },
      "source": [
        "### Adaboost"
      ]
    },
    {
      "cell_type": "code",
      "metadata": {
        "colab": {
          "base_uri": "https://localhost:8080/"
        },
        "id": "8zpZrIACYx0H",
        "outputId": "db05fb48-170c-4c58-d0dc-1840e4e72d85"
      },
      "source": [
        "from sklearn.ensemble import AdaBoostClassifier\n",
        "adaboost_clf = AdaBoostClassifier(n_estimators=100, random_state=0).fit(X_train, y_train)\n",
        "\n",
        "accuracy_train = adaboost_clf.score(X_train, y_train)\n",
        "accuracy_valid = adaboost_clf.score(X_valid, y_valid)\n",
        "print(f\"accuracy_train = {accuracy_train}\")\n",
        "print(f\"accuracy_valid = {accuracy_valid}\")"
      ],
      "execution_count": 1391,
      "outputs": [
        {
          "output_type": "stream",
          "text": [
            "/usr/local/lib/python3.7/dist-packages/sklearn/utils/validation.py:760: DataConversionWarning: A column-vector y was passed when a 1d array was expected. Please change the shape of y to (n_samples, ), for example using ravel().\n",
            "  y = column_or_1d(y, warn=True)\n"
          ],
          "name": "stderr"
        },
        {
          "output_type": "stream",
          "text": [
            "accuracy_train = 0.8578614008941878\n",
            "accuracy_valid = 1.0\n"
          ],
          "name": "stdout"
        }
      ]
    },
    {
      "cell_type": "code",
      "metadata": {
        "colab": {
          "base_uri": "https://localhost:8080/",
          "height": 439
        },
        "id": "S04qiBcYYzl2",
        "outputId": "d720df8d-baf0-45db-8c8c-552915f08f41"
      },
      "source": [
        "plot_confusion_matrix(adaboost_clf, X_valid, y_valid)\n",
        "print_classification_report(adaboost_clf, X_valid, y_valid)"
      ],
      "execution_count": 1392,
      "outputs": [
        {
          "output_type": "stream",
          "text": [
            "               precision    recall  f1-score   support\n",
            "\n",
            "Fighter 0 Win       1.00      1.00      1.00         1\n",
            "Fighter 1 Win       1.00      1.00      1.00         1\n",
            "\n",
            "     accuracy                           1.00         2\n",
            "    macro avg       1.00      1.00      1.00         2\n",
            " weighted avg       1.00      1.00      1.00         2\n",
            "\n"
          ],
          "name": "stdout"
        },
        {
          "output_type": "display_data",
          "data": {
            "image/png": "[encoded data removed]",
            "text/plain": [
              "<Figure size 432x288 with 2 Axes>"
            ]
          },
          "metadata": {
            "tags": [],
            "needs_background": "light"
          }
        }
      ]
    },
    {
      "cell_type": "markdown",
      "metadata": {
        "id": "0MTgv_KmOSRj"
      },
      "source": [
        "### Comparison Model"
      ]
    },
    {
      "cell_type": "code",
      "metadata": {
        "id": "CNAmHJFKOSRj"
      },
      "source": [
        "from tensorflow.keras.layers import Input, Lambda, Subtract, Activation\n",
        "from tensorflow.keras.models import Model\n",
        "def create_comparison_model(input_shape):\n",
        "    num_features_per_fighter = input_shape[0] // 2\n",
        "\n",
        "    model_ = tf.keras.models.Sequential(name=\"scoring_deep_model\")\n",
        "    model_.add(tf.keras.Input(shape=num_features_per_fighter))\n",
        "    model_.add(tf.keras.layers.Dense(32, activation='relu'))\n",
        "    model_.add(tf.keras.layers.Dropout(0.5))\n",
        "    model_.add(tf.keras.layers.Dense(16, activation='relu'))\n",
        "    model_.add(tf.keras.layers.Dropout(0.5))\n",
        "\n",
        "    model_.add(tf.keras.layers.Dense(1, activation='relu'))\n",
        "    \n",
        "    # Run cnn model on each frame\n",
        "    input_tensor = Input(shape=input_shape, name=\"input\")\n",
        "    fighter0_state = Lambda(lambda x: x[:, :num_features_per_fighter], name='fighter0_state')(input_tensor)\n",
        "    fighter1_state = Lambda(lambda x: x[:, num_features_per_fighter:], name='fighter1_state')(input_tensor)\n",
        "\n",
        "    fighter0_score = model_(fighter0_state)\n",
        "    fighter1_score = model_(fighter1_state)\n",
        "    fighter0_score = Lambda(lambda x: x, name='fighter0_score')(fighter0_score)\n",
        "    fighter1_score = Lambda(lambda x: x, name='fighter1_score')(fighter1_score)\n",
        "    \n",
        "    difference_score = Subtract(name='subtracter')([fighter1_score, fighter0_score])\n",
        "    prediction = Activation('sigmoid', name='sigmoid')(difference_score)\n",
        "    return Model(inputs=input_tensor, outputs=prediction)"
      ],
      "execution_count": 1393,
      "outputs": []
    },
    {
      "cell_type": "code",
      "metadata": {
        "colab": {
          "base_uri": "https://localhost:8080/"
        },
        "id": "JVyaVIkzOSRj",
        "outputId": "c2b06759-dd6a-417f-f42c-8214ac2fddd9"
      },
      "source": [
        "comparison_model = create_comparison_model(X_train.shape[1:])\n",
        "optimizer = tf.keras.optimizers.Adam(lr=0.001)\n",
        "comparison_model.compile(optimizer=optimizer, loss='binary_crossentropy', metrics=['accuracy'])\n",
        "comparison_model.summary()"
      ],
      "execution_count": 1394,
      "outputs": [
        {
          "output_type": "stream",
          "text": [
            "Model: \"model_53\"\n",
            "__________________________________________________________________________________________________\n",
            "Layer (type)                    Output Shape         Param #     Connected to                     \n",
            "==================================================================================================\n",
            "input (InputLayer)              [(None, 30)]         0                                            \n",
            "__________________________________________________________________________________________________\n",
            "fighter1_state (Lambda)         (None, 15)           0           input[0][0]                      \n",
            "__________________________________________________________________________________________________\n",
            "fighter0_state (Lambda)         (None, 15)           0           input[0][0]                      \n",
            "__________________________________________________________________________________________________\n",
            "scoring_deep_model (Sequential) (None, 1)            1057        fighter0_state[0][0]             \n",
            "                                                                 fighter1_state[0][0]             \n",
            "__________________________________________________________________________________________________\n",
            "fighter1_score (Lambda)         (None, 1)            0           scoring_deep_model[1][0]         \n",
            "__________________________________________________________________________________________________\n",
            "fighter0_score (Lambda)         (None, 1)            0           scoring_deep_model[0][0]         \n",
            "__________________________________________________________________________________________________\n",
            "subtracter (Subtract)           (None, 1)            0           fighter1_score[0][0]             \n",
            "                                                                 fighter0_score[0][0]             \n",
            "__________________________________________________________________________________________________\n",
            "sigmoid (Activation)            (None, 1)            0           subtracter[0][0]                 \n",
            "==================================================================================================\n",
            "Total params: 1,057\n",
            "Trainable params: 1,057\n",
            "Non-trainable params: 0\n",
            "__________________________________________________________________________________________________\n"
          ],
          "name": "stdout"
        }
      ]
    },
    {
      "cell_type": "code",
      "metadata": {
        "colab": {
          "base_uri": "https://localhost:8080/",
          "height": 564
        },
        "id": "teRgJBKjy6wm",
        "outputId": "84f7f214-1d85-4cdb-b1fa-193770752c7c"
      },
      "source": [
        "tf.keras.utils.plot_model(comparison_model)"
      ],
      "execution_count": 1395,
      "outputs": [
        {
          "output_type": "execute_result",
          "data": {
            "image/png": "[encoded data removed]",
            "text/plain": [
              "<IPython.core.display.Image object>"
            ]
          },
          "metadata": {
            "tags": []
          },
          "execution_count": 1395
        }
      ]
    },
    {
      "cell_type": "code",
      "metadata": {
        "colab": {
          "base_uri": "https://localhost:8080/"
        },
        "id": "Drp0QsEtOSRk",
        "outputId": "985e9379-046c-4881-da96-8f52a5d55c5e"
      },
      "source": [
        "H = comparison_model.fit(X_train, y_train, epochs=60, validation_data=(X_valid_new_normal, y_valid))"
      ],
      "execution_count": 1396,
      "outputs": [
        {
          "output_type": "stream",
          "text": [
            "Epoch 1/60\n",
            "168/168 [==============================] - 1s 4ms/step - loss: 0.6719 - accuracy: 0.5488 - val_loss: 0.5045 - val_accuracy: 1.0000\n",
            "Epoch 2/60\n",
            "168/168 [==============================] - 0s 3ms/step - loss: 0.5633 - accuracy: 0.6904 - val_loss: 0.3270 - val_accuracy: 1.0000\n",
            "Epoch 3/60\n",
            "168/168 [==============================] - 0s 3ms/step - loss: 0.5229 - accuracy: 0.7337 - val_loss: 0.3341 - val_accuracy: 1.0000\n",
            "Epoch 4/60\n",
            "168/168 [==============================] - 0s 3ms/step - loss: 0.4851 - accuracy: 0.7805 - val_loss: 0.3457 - val_accuracy: 1.0000\n",
            "Epoch 5/60\n",
            "168/168 [==============================] - 0s 3ms/step - loss: 0.4658 - accuracy: 0.7848 - val_loss: 0.3228 - val_accuracy: 1.0000\n",
            "Epoch 6/60\n",
            "168/168 [==============================] - 0s 3ms/step - loss: 0.4423 - accuracy: 0.8080 - val_loss: 0.3087 - val_accuracy: 1.0000\n",
            "Epoch 7/60\n",
            "168/168 [==============================] - 0s 3ms/step - loss: 0.4436 - accuracy: 0.8134 - val_loss: 0.3234 - val_accuracy: 1.0000\n",
            "Epoch 8/60\n",
            "168/168 [==============================] - 0s 3ms/step - loss: 0.4312 - accuracy: 0.8067 - val_loss: 0.3585 - val_accuracy: 1.0000\n",
            "Epoch 9/60\n",
            "168/168 [==============================] - 0s 3ms/step - loss: 0.4291 - accuracy: 0.8105 - val_loss: 0.3433 - val_accuracy: 1.0000\n",
            "Epoch 10/60\n",
            "168/168 [==============================] - 0s 3ms/step - loss: 0.4190 - accuracy: 0.8083 - val_loss: 0.3769 - val_accuracy: 1.0000\n",
            "Epoch 11/60\n",
            "168/168 [==============================] - 0s 3ms/step - loss: 0.4193 - accuracy: 0.8080 - val_loss: 0.3731 - val_accuracy: 1.0000\n",
            "Epoch 12/60\n",
            "168/168 [==============================] - 0s 3ms/step - loss: 0.4296 - accuracy: 0.8065 - val_loss: 0.3855 - val_accuracy: 1.0000\n",
            "Epoch 13/60\n",
            "168/168 [==============================] - 0s 3ms/step - loss: 0.3871 - accuracy: 0.8301 - val_loss: 0.3889 - val_accuracy: 1.0000\n",
            "Epoch 14/60\n",
            "168/168 [==============================] - 0s 3ms/step - loss: 0.3919 - accuracy: 0.8316 - val_loss: 0.3681 - val_accuracy: 1.0000\n",
            "Epoch 15/60\n",
            "168/168 [==============================] - 0s 3ms/step - loss: 0.4109 - accuracy: 0.8230 - val_loss: 0.3795 - val_accuracy: 1.0000\n",
            "Epoch 16/60\n",
            "168/168 [==============================] - 0s 3ms/step - loss: 0.4027 - accuracy: 0.8172 - val_loss: 0.3854 - val_accuracy: 1.0000\n",
            "Epoch 17/60\n",
            "168/168 [==============================] - 0s 3ms/step - loss: 0.3991 - accuracy: 0.8132 - val_loss: 0.3807 - val_accuracy: 1.0000\n",
            "Epoch 18/60\n",
            "168/168 [==============================] - 0s 3ms/step - loss: 0.3878 - accuracy: 0.8250 - val_loss: 0.3916 - val_accuracy: 1.0000\n",
            "Epoch 19/60\n",
            "168/168 [==============================] - 0s 3ms/step - loss: 0.4064 - accuracy: 0.8237 - val_loss: 0.3936 - val_accuracy: 1.0000\n",
            "Epoch 20/60\n",
            "168/168 [==============================] - 0s 3ms/step - loss: 0.3929 - accuracy: 0.8273 - val_loss: 0.3957 - val_accuracy: 1.0000\n",
            "Epoch 21/60\n",
            "168/168 [==============================] - 0s 3ms/step - loss: 0.3927 - accuracy: 0.8239 - val_loss: 0.3940 - val_accuracy: 1.0000\n",
            "Epoch 22/60\n",
            "168/168 [==============================] - 0s 3ms/step - loss: 0.3805 - accuracy: 0.8260 - val_loss: 0.3741 - val_accuracy: 1.0000\n",
            "Epoch 23/60\n",
            "168/168 [==============================] - 0s 3ms/step - loss: 0.3750 - accuracy: 0.8291 - val_loss: 0.3618 - val_accuracy: 1.0000\n",
            "Epoch 24/60\n",
            "168/168 [==============================] - 0s 3ms/step - loss: 0.3799 - accuracy: 0.8228 - val_loss: 0.3646 - val_accuracy: 1.0000\n",
            "Epoch 25/60\n",
            "168/168 [==============================] - 0s 3ms/step - loss: 0.3781 - accuracy: 0.8357 - val_loss: 0.3413 - val_accuracy: 1.0000\n",
            "Epoch 26/60\n",
            "168/168 [==============================] - 0s 3ms/step - loss: 0.3697 - accuracy: 0.8298 - val_loss: 0.3779 - val_accuracy: 1.0000\n",
            "Epoch 27/60\n",
            "168/168 [==============================] - 0s 3ms/step - loss: 0.3715 - accuracy: 0.8347 - val_loss: 0.3536 - val_accuracy: 1.0000\n",
            "Epoch 28/60\n",
            "168/168 [==============================] - 0s 3ms/step - loss: 0.3743 - accuracy: 0.8358 - val_loss: 0.3469 - val_accuracy: 1.0000\n",
            "Epoch 29/60\n",
            "168/168 [==============================] - 0s 3ms/step - loss: 0.3699 - accuracy: 0.8328 - val_loss: 0.3325 - val_accuracy: 1.0000\n",
            "Epoch 30/60\n",
            "168/168 [==============================] - 0s 3ms/step - loss: 0.3700 - accuracy: 0.8389 - val_loss: 0.3551 - val_accuracy: 1.0000\n",
            "Epoch 31/60\n",
            "168/168 [==============================] - 0s 3ms/step - loss: 0.3750 - accuracy: 0.8354 - val_loss: 0.3371 - val_accuracy: 1.0000\n",
            "Epoch 32/60\n",
            "168/168 [==============================] - 0s 3ms/step - loss: 0.3776 - accuracy: 0.8239 - val_loss: 0.3377 - val_accuracy: 1.0000\n",
            "Epoch 33/60\n",
            "168/168 [==============================] - 0s 3ms/step - loss: 0.3762 - accuracy: 0.8343 - val_loss: 0.3569 - val_accuracy: 1.0000\n",
            "Epoch 34/60\n",
            "168/168 [==============================] - 0s 3ms/step - loss: 0.3563 - accuracy: 0.8478 - val_loss: 0.3696 - val_accuracy: 1.0000\n",
            "Epoch 35/60\n",
            "168/168 [==============================] - 0s 3ms/step - loss: 0.3711 - accuracy: 0.8367 - val_loss: 0.3615 - val_accuracy: 1.0000\n",
            "Epoch 36/60\n",
            "168/168 [==============================] - 0s 3ms/step - loss: 0.3682 - accuracy: 0.8385 - val_loss: 0.3561 - val_accuracy: 1.0000\n",
            "Epoch 37/60\n",
            "168/168 [==============================] - 0s 3ms/step - loss: 0.3763 - accuracy: 0.8329 - val_loss: 0.3433 - val_accuracy: 1.0000\n",
            "Epoch 38/60\n",
            "168/168 [==============================] - 0s 3ms/step - loss: 0.3680 - accuracy: 0.8373 - val_loss: 0.3825 - val_accuracy: 1.0000\n",
            "Epoch 39/60\n",
            "168/168 [==============================] - 0s 3ms/step - loss: 0.3501 - accuracy: 0.8494 - val_loss: 0.3779 - val_accuracy: 1.0000\n",
            "Epoch 40/60\n",
            "168/168 [==============================] - 0s 3ms/step - loss: 0.3534 - accuracy: 0.8459 - val_loss: 0.3737 - val_accuracy: 1.0000\n",
            "Epoch 41/60\n",
            "168/168 [==============================] - 0s 3ms/step - loss: 0.3570 - accuracy: 0.8404 - val_loss: 0.3751 - val_accuracy: 1.0000\n",
            "Epoch 42/60\n",
            "168/168 [==============================] - 0s 3ms/step - loss: 0.3712 - accuracy: 0.8386 - val_loss: 0.3755 - val_accuracy: 1.0000\n",
            "Epoch 43/60\n",
            "168/168 [==============================] - 0s 3ms/step - loss: 0.3653 - accuracy: 0.8353 - val_loss: 0.3748 - val_accuracy: 1.0000\n",
            "Epoch 44/60\n",
            "168/168 [==============================] - 0s 3ms/step - loss: 0.3499 - accuracy: 0.8531 - val_loss: 0.3405 - val_accuracy: 1.0000\n",
            "Epoch 45/60\n",
            "168/168 [==============================] - 0s 3ms/step - loss: 0.3719 - accuracy: 0.8377 - val_loss: 0.3316 - val_accuracy: 1.0000\n",
            "Epoch 46/60\n",
            "168/168 [==============================] - 0s 3ms/step - loss: 0.3544 - accuracy: 0.8432 - val_loss: 0.3350 - val_accuracy: 1.0000\n",
            "Epoch 47/60\n",
            "168/168 [==============================] - 0s 3ms/step - loss: 0.3610 - accuracy: 0.8407 - val_loss: 0.3450 - val_accuracy: 1.0000\n",
            "Epoch 48/60\n",
            "168/168 [==============================] - 0s 3ms/step - loss: 0.3560 - accuracy: 0.8452 - val_loss: 0.3344 - val_accuracy: 1.0000\n",
            "Epoch 49/60\n",
            "168/168 [==============================] - 0s 3ms/step - loss: 0.3701 - accuracy: 0.8396 - val_loss: 0.3350 - val_accuracy: 1.0000\n",
            "Epoch 50/60\n",
            "168/168 [==============================] - 0s 3ms/step - loss: 0.3594 - accuracy: 0.8341 - val_loss: 0.3114 - val_accuracy: 1.0000\n",
            "Epoch 51/60\n",
            "168/168 [==============================] - 0s 3ms/step - loss: 0.3502 - accuracy: 0.8477 - val_loss: 0.3413 - val_accuracy: 1.0000\n",
            "Epoch 52/60\n",
            "168/168 [==============================] - 0s 3ms/step - loss: 0.3423 - accuracy: 0.8479 - val_loss: 0.3384 - val_accuracy: 1.0000\n",
            "Epoch 53/60\n",
            "168/168 [==============================] - 0s 3ms/step - loss: 0.3573 - accuracy: 0.8419 - val_loss: 0.3097 - val_accuracy: 1.0000\n",
            "Epoch 54/60\n",
            "168/168 [==============================] - 0s 3ms/step - loss: 0.3582 - accuracy: 0.8458 - val_loss: 0.3130 - val_accuracy: 1.0000\n",
            "Epoch 55/60\n",
            "168/168 [==============================] - 0s 3ms/step - loss: 0.3492 - accuracy: 0.8407 - val_loss: 0.3023 - val_accuracy: 1.0000\n",
            "Epoch 56/60\n",
            "168/168 [==============================] - 0s 3ms/step - loss: 0.3509 - accuracy: 0.8456 - val_loss: 0.3171 - val_accuracy: 1.0000\n",
            "Epoch 57/60\n",
            "168/168 [==============================] - 0s 3ms/step - loss: 0.3601 - accuracy: 0.8321 - val_loss: 0.3208 - val_accuracy: 1.0000\n",
            "Epoch 58/60\n",
            "168/168 [==============================] - 0s 3ms/step - loss: 0.3452 - accuracy: 0.8462 - val_loss: 0.3394 - val_accuracy: 1.0000\n",
            "Epoch 59/60\n",
            "168/168 [==============================] - 0s 3ms/step - loss: 0.3472 - accuracy: 0.8518 - val_loss: 0.3247 - val_accuracy: 1.0000\n",
            "Epoch 60/60\n",
            "168/168 [==============================] - 0s 3ms/step - loss: 0.3603 - accuracy: 0.8401 - val_loss: 0.3161 - val_accuracy: 1.0000\n"
          ],
          "name": "stdout"
        }
      ]
    },
    {
      "cell_type": "code",
      "metadata": {
        "colab": {
          "base_uri": "https://localhost:8080/",
          "height": 277
        },
        "id": "Pc-Uvs2yOSRk",
        "outputId": "fc82437e-f0b0-4b9f-a9f8-c4e73600018d"
      },
      "source": [
        "from matplotlib import pyplot as plt\n",
        "plt.plot(H.history['accuracy'])\n",
        "plt.plot(H.history['val_accuracy'])\n",
        "plt.plot(H.history['loss'])\n",
        "plt.plot(H.history['val_loss'])\n",
        "plt.xlabel('epoch')\n",
        "plt.legend(['accuracy', 'val_accuracy', 'loss', 'val_loss'], loc='upper left')\n",
        "plt.show()"
      ],
      "execution_count": 1397,
      "outputs": [
        {
          "output_type": "display_data",
          "data": {
            "image/png": "[encoded data removed]",
            "text/plain": [
              "<Figure size 432x288 with 1 Axes>"
            ]
          },
          "metadata": {
            "tags": [],
            "needs_background": "light"
          }
        }
      ]
    },
    {
      "cell_type": "code",
      "metadata": {
        "colab": {
          "base_uri": "https://localhost:8080/",
          "height": 439
        },
        "id": "AtM9mTwoOSRk",
        "outputId": "13c327e6-4704-4398-93a7-e858e83b6c4c"
      },
      "source": [
        "plot_confusion_matrix(comparison_model, X_valid_new_normal, y_valid)\n",
        "print_classification_report(comparison_model, X_valid_new_normal, y_valid)"
      ],
      "execution_count": 1398,
      "outputs": [
        {
          "output_type": "stream",
          "text": [
            "               precision    recall  f1-score   support\n",
            "\n",
            "Fighter 0 Win       1.00      1.00      1.00         1\n",
            "Fighter 1 Win       1.00      1.00      1.00         1\n",
            "\n",
            "     accuracy                           1.00         2\n",
            "    macro avg       1.00      1.00      1.00         2\n",
            " weighted avg       1.00      1.00      1.00         2\n",
            "\n"
          ],
          "name": "stdout"
        },
        {
          "output_type": "display_data",
          "data": {
            "image/png": "[encoded data removed]",
            "text/plain": [
              "<Figure size 432x288 with 2 Axes>"
            ]
          },
          "metadata": {
            "tags": [],
            "needs_background": "light"
          }
        }
      ]
    },
    {
      "cell_type": "code",
      "metadata": {
        "id": "tmXQhcXzOSRl"
      },
      "source": [
        "lo, hi = 0, 1"
      ],
      "execution_count": 1399,
      "outputs": []
    },
    {
      "cell_type": "code",
      "metadata": {
        "id": "B8yB1b1rWAyJ"
      },
      "source": [
        "X_test_new_normal = X_valid_new_normal"
      ],
      "execution_count": 1400,
      "outputs": []
    },
    {
      "cell_type": "code",
      "metadata": {
        "id": "oZjY_QbBWL6U"
      },
      "source": [
        "y_test = y_valid"
      ],
      "execution_count": 1401,
      "outputs": []
    },
    {
      "cell_type": "code",
      "metadata": {
        "colab": {
          "base_uri": "https://localhost:8080/",
          "height": 130
        },
        "id": "TjyT8mTpThMP",
        "outputId": "c8d252b5-7e36-4757-98e5-a84427b9f1ed"
      },
      "source": [
        "X_test_new_normal[lo:hi]"
      ],
      "execution_count": 1402,
      "outputs": [
        {
          "output_type": "execute_result",
          "data": {
            "text/html": [
              "<div>\n",
              "<style scoped>\n",
              "    .dataframe tbody tr th:only-of-type {\n",
              "        vertical-align: middle;\n",
              "    }\n",
              "\n",
              "    .dataframe tbody tr th {\n",
              "        vertical-align: top;\n",
              "    }\n",
              "\n",
              "    .dataframe thead th {\n",
              "        text-align: right;\n",
              "    }\n",
              "</style>\n",
              "<table border=\"1\" class=\"dataframe\">\n",
              "  <thead>\n",
              "    <tr style=\"text-align: right;\">\n",
              "      <th></th>\n",
              "      <th>Fighter 0 KD</th>\n",
              "      <th>Fighter 0 Sig. str.</th>\n",
              "      <th>Fighter 0 Sig. str. %</th>\n",
              "      <th>Fighter 0 Total str.</th>\n",
              "      <th>Fighter 0 Td</th>\n",
              "      <th>Fighter 0 Td %</th>\n",
              "      <th>Fighter 0 Sub. att</th>\n",
              "      <th>Fighter 0 Rev.</th>\n",
              "      <th>Fighter 0 Ctrl</th>\n",
              "      <th>Fighter 0 Head</th>\n",
              "      <th>Fighter 0 Body</th>\n",
              "      <th>Fighter 0 Leg</th>\n",
              "      <th>Fighter 0 Distance</th>\n",
              "      <th>Fighter 0 Clinch</th>\n",
              "      <th>Fighter 0 Ground</th>\n",
              "      <th>Fighter 1 KD</th>\n",
              "      <th>Fighter 1 Sig. str.</th>\n",
              "      <th>Fighter 1 Sig. str. %</th>\n",
              "      <th>Fighter 1 Total str.</th>\n",
              "      <th>Fighter 1 Td</th>\n",
              "      <th>Fighter 1 Td %</th>\n",
              "      <th>Fighter 1 Sub. att</th>\n",
              "      <th>Fighter 1 Rev.</th>\n",
              "      <th>Fighter 1 Ctrl</th>\n",
              "      <th>Fighter 1 Head</th>\n",
              "      <th>Fighter 1 Body</th>\n",
              "      <th>Fighter 1 Leg</th>\n",
              "      <th>Fighter 1 Distance</th>\n",
              "      <th>Fighter 1 Clinch</th>\n",
              "      <th>Fighter 1 Ground</th>\n",
              "    </tr>\n",
              "  </thead>\n",
              "  <tbody>\n",
              "    <tr>\n",
              "      <th>2520</th>\n",
              "      <td>-0.297601</td>\n",
              "      <td>1.974291</td>\n",
              "      <td>-1.309962</td>\n",
              "      <td>1.337119</td>\n",
              "      <td>-0.270446</td>\n",
              "      <td>-0.527104</td>\n",
              "      <td>-0.446372</td>\n",
              "      <td>-0.387715</td>\n",
              "      <td>-0.607473</td>\n",
              "      <td>1.540485</td>\n",
              "      <td>1.309876</td>\n",
              "      <td>1.628677</td>\n",
              "      <td>2.282812</td>\n",
              "      <td>-0.158238</td>\n",
              "      <td>-0.506837</td>\n",
              "      <td>-0.297601</td>\n",
              "      <td>2.073129</td>\n",
              "      <td>-0.442705</td>\n",
              "      <td>1.138032</td>\n",
              "      <td>1.193507</td>\n",
              "      <td>0.194675</td>\n",
              "      <td>-0.446372</td>\n",
              "      <td>-0.387715</td>\n",
              "      <td>-0.796155</td>\n",
              "      <td>3.046853</td>\n",
              "      <td>-0.149087</td>\n",
              "      <td>-0.280022</td>\n",
              "      <td>2.455486</td>\n",
              "      <td>-0.271707</td>\n",
              "      <td>-0.612816</td>\n",
              "    </tr>\n",
              "  </tbody>\n",
              "</table>\n",
              "</div>"
            ],
            "text/plain": [
              "      Fighter 0 KD  Fighter 0 Sig. str.  ...  Fighter 1 Clinch  Fighter 1 Ground\n",
              "2520     -0.297601             1.974291  ...         -0.271707         -0.612816\n",
              "\n",
              "[1 rows x 30 columns]"
            ]
          },
          "metadata": {
            "tags": []
          },
          "execution_count": 1402
        }
      ]
    },
    {
      "cell_type": "code",
      "metadata": {
        "id": "VA9DyuVbcHGg"
      },
      "source": [
        "probability = comparison_model.predict(X_test_new_normal[lo:hi])[0]"
      ],
      "execution_count": 1403,
      "outputs": []
    },
    {
      "cell_type": "code",
      "metadata": {
        "colab": {
          "base_uri": "https://localhost:8080/"
        },
        "id": "D24siDVIOSRl",
        "outputId": "6179e87e-7306-4cb7-973f-fef357f8c4f1"
      },
      "source": [
        "comparison_model.predict(X_test_new_normal[lo:hi])"
      ],
      "execution_count": 1404,
      "outputs": [
        {
          "output_type": "execute_result",
          "data": {
            "text/plain": [
              "array([[0.72899663]], dtype=float32)"
            ]
          },
          "metadata": {
            "tags": []
          },
          "execution_count": 1404
        }
      ]
    },
    {
      "cell_type": "code",
      "metadata": {
        "colab": {
          "base_uri": "https://localhost:8080/",
          "height": 77
        },
        "id": "MK6NhCojOSRl",
        "outputId": "80c54fc0-a9bd-433f-aebe-1e73991f96dd"
      },
      "source": [
        "y_test[lo:hi]"
      ],
      "execution_count": 1405,
      "outputs": [
        {
          "output_type": "execute_result",
          "data": {
            "text/html": [
              "<div>\n",
              "<style scoped>\n",
              "    .dataframe tbody tr th:only-of-type {\n",
              "        vertical-align: middle;\n",
              "    }\n",
              "\n",
              "    .dataframe tbody tr th {\n",
              "        vertical-align: top;\n",
              "    }\n",
              "\n",
              "    .dataframe thead th {\n",
              "        text-align: right;\n",
              "    }\n",
              "</style>\n",
              "<table border=\"1\" class=\"dataframe\">\n",
              "  <thead>\n",
              "    <tr style=\"text-align: right;\">\n",
              "      <th></th>\n",
              "      <th>Winner</th>\n",
              "    </tr>\n",
              "  </thead>\n",
              "  <tbody>\n",
              "    <tr>\n",
              "      <th>2520</th>\n",
              "      <td>1</td>\n",
              "    </tr>\n",
              "  </tbody>\n",
              "</table>\n",
              "</div>"
            ],
            "text/plain": [
              "      Winner\n",
              "2520       1"
            ]
          },
          "metadata": {
            "tags": []
          },
          "execution_count": 1405
        }
      ]
    },
    {
      "cell_type": "code",
      "metadata": {
        "colab": {
          "base_uri": "https://localhost:8080/"
        },
        "id": "icRxd_bKOSRm",
        "outputId": "d12111ab-91cd-4b7c-c0c3-fc3f1804424c"
      },
      "source": [
        "subtracter = comparison_model.get_layer('subtracter').output\n",
        "subtracter = Model(comparison_model.input, subtracter)\n",
        "subtracter.predict(X_test_new_normal[lo:hi])"
      ],
      "execution_count": 1406,
      "outputs": [
        {
          "output_type": "execute_result",
          "data": {
            "text/plain": [
              "array([[0.9895377]], dtype=float32)"
            ]
          },
          "metadata": {
            "tags": []
          },
          "execution_count": 1406
        }
      ]
    },
    {
      "cell_type": "code",
      "metadata": {
        "colab": {
          "base_uri": "https://localhost:8080/"
        },
        "id": "pp_GHFfGOSRm",
        "outputId": "9d2684ad-4f75-4062-e092-8159bafbf426"
      },
      "source": [
        "fighter0_score = comparison_model.get_layer('fighter0_score').output\n",
        "fighter0_score = Model(comparison_model.input, fighter0_score)\n",
        "fighter0_score.predict(X_test_new_normal[lo:hi])"
      ],
      "execution_count": 1407,
      "outputs": [
        {
          "output_type": "execute_result",
          "data": {
            "text/plain": [
              "array([[3.5869355]], dtype=float32)"
            ]
          },
          "metadata": {
            "tags": []
          },
          "execution_count": 1407
        }
      ]
    },
    {
      "cell_type": "code",
      "metadata": {
        "colab": {
          "base_uri": "https://localhost:8080/"
        },
        "id": "sRbpamFhOSRm",
        "outputId": "e63a0b3d-99e0-4dca-99e7-d840d586723a"
      },
      "source": [
        "fighter1_score = comparison_model.get_layer('fighter1_score').output\n",
        "fighter1_score = Model(comparison_model.input, fighter1_score)\n",
        "fighter1_score.predict(X_test_new_normal[lo:hi])"
      ],
      "execution_count": 1408,
      "outputs": [
        {
          "output_type": "stream",
          "text": [
            "WARNING:tensorflow:5 out of the last 17 calls to <function Model.make_predict_function.<locals>.predict_function at 0x7ff1c1b00290> triggered tf.function retracing. Tracing is expensive and the excessive number of tracings could be due to (1) creating @tf.function repeatedly in a loop, (2) passing tensors with different shapes, (3) passing Python objects instead of tensors. For (1), please define your @tf.function outside of the loop. For (2), @tf.function has experimental_relax_shapes=True option that relaxes argument shapes that can avoid unnecessary retracing. For (3), please refer to https://www.tensorflow.org/guide/function#controlling_retracing and https://www.tensorflow.org/api_docs/python/tf/function for  more details.\n"
          ],
          "name": "stdout"
        },
        {
          "output_type": "execute_result",
          "data": {
            "text/plain": [
              "array([[4.576473]], dtype=float32)"
            ]
          },
          "metadata": {
            "tags": []
          },
          "execution_count": 1408
        }
      ]
    },
    {
      "cell_type": "code",
      "metadata": {
        "colab": {
          "base_uri": "https://localhost:8080/"
        },
        "id": "bOrJ8nxvcddj",
        "outputId": "e57023d1-452c-4d16-9616-541cb56aa1ee"
      },
      "source": [
        "score0 = fighter0_score.predict(X_test_new_normal[lo:hi])[0][0]\n",
        "score1 = fighter1_score.predict(X_test_new_normal[lo:hi])[0][0]\n",
        "prediction = comparison_model.predict(X_test_new_normal[lo:hi])[0][0]\n",
        "print(f\"{fighter0} score: {score0}\")\n",
        "print(f\"{fighter1} score: {score1}\")\n",
        "print(f\"Probability that {fighter1} won: {prediction}\")\n",
        "print(f\"Actual winner: {fighter0 if y_test.iloc[0][0] == 0 else fighter1}\")"
      ],
      "execution_count": 1409,
      "outputs": [
        {
          "output_type": "stream",
          "text": [
            "TJ Dillashaw score: 3.586935520172119\n",
            "Dominick Cruz score: 4.576473236083984\n",
            "Probability that Dominick Cruz won: 0.7289966344833374\n",
            "Actual winner: Dominick Cruz\n"
          ],
          "name": "stdout"
        }
      ]
    },
    {
      "cell_type": "code",
      "metadata": {
        "colab": {
          "base_uri": "https://localhost:8080/",
          "height": 147
        },
        "id": "75PEDBGhRpo1",
        "outputId": "785a4d7d-8e41-48d5-d6ad-cf00960b9b5a"
      },
      "source": [
        "controversial"
      ],
      "execution_count": 1410,
      "outputs": [
        {
          "output_type": "execute_result",
          "data": {
            "text/html": [
              "<div>\n",
              "<style scoped>\n",
              "    .dataframe tbody tr th:only-of-type {\n",
              "        vertical-align: middle;\n",
              "    }\n",
              "\n",
              "    .dataframe tbody tr th {\n",
              "        vertical-align: top;\n",
              "    }\n",
              "\n",
              "    .dataframe thead th {\n",
              "        text-align: right;\n",
              "    }\n",
              "</style>\n",
              "<table border=\"1\" class=\"dataframe\">\n",
              "  <thead>\n",
              "    <tr style=\"text-align: right;\">\n",
              "      <th></th>\n",
              "      <th>Fighter 0 KD</th>\n",
              "      <th>Fighter 1 KD</th>\n",
              "      <th>Fighter 0 Sig. str.</th>\n",
              "      <th>Fighter 1 Sig. str.</th>\n",
              "      <th>Fighter 0 Sig. str. %</th>\n",
              "      <th>Fighter 1 Sig. str. %</th>\n",
              "      <th>Fighter 0 Total str.</th>\n",
              "      <th>Fighter 1 Total str.</th>\n",
              "      <th>Fighter 0 Td</th>\n",
              "      <th>Fighter 1 Td</th>\n",
              "      <th>Fighter 0 Td %</th>\n",
              "      <th>Fighter 1 Td %</th>\n",
              "      <th>Fighter 0 Sub. att</th>\n",
              "      <th>Fighter 1 Sub. att</th>\n",
              "      <th>Fighter 0 Rev.</th>\n",
              "      <th>Fighter 1 Rev.</th>\n",
              "      <th>Fighter 0 Ctrl</th>\n",
              "      <th>Fighter 1 Ctrl</th>\n",
              "      <th>Fighter 0 Name</th>\n",
              "      <th>Fighter 1 Name</th>\n",
              "      <th>Fighter 0 Head</th>\n",
              "      <th>Fighter 1 Head</th>\n",
              "      <th>Fighter 0 Body</th>\n",
              "      <th>Fighter 1 Body</th>\n",
              "      <th>Fighter 0 Leg</th>\n",
              "      <th>Fighter 1 Leg</th>\n",
              "      <th>Fighter 0 Distance</th>\n",
              "      <th>Fighter 1 Distance</th>\n",
              "      <th>Fighter 0 Clinch</th>\n",
              "      <th>Fighter 1 Clinch</th>\n",
              "      <th>Fighter 0 Ground</th>\n",
              "      <th>Fighter 1 Ground</th>\n",
              "      <th>Winner</th>\n",
              "      <th>Method</th>\n",
              "    </tr>\n",
              "  </thead>\n",
              "  <tbody>\n",
              "    <tr>\n",
              "      <th>2520</th>\n",
              "      <td>0</td>\n",
              "      <td>0</td>\n",
              "      <td>109</td>\n",
              "      <td>112</td>\n",
              "      <td>26.0</td>\n",
              "      <td>37.0</td>\n",
              "      <td>130</td>\n",
              "      <td>122</td>\n",
              "      <td>1</td>\n",
              "      <td>4</td>\n",
              "      <td>12.0</td>\n",
              "      <td>36.0</td>\n",
              "      <td>0</td>\n",
              "      <td>0</td>\n",
              "      <td>0</td>\n",
              "      <td>0</td>\n",
              "      <td>72.0</td>\n",
              "      <td>33.0</td>\n",
              "      <td>TJ Dillashaw</td>\n",
              "      <td>Dominick Cruz</td>\n",
              "      <td>64</td>\n",
              "      <td>97</td>\n",
              "      <td>22</td>\n",
              "      <td>9</td>\n",
              "      <td>23</td>\n",
              "      <td>6</td>\n",
              "      <td>102</td>\n",
              "      <td>107</td>\n",
              "      <td>6</td>\n",
              "      <td>5</td>\n",
              "      <td>1</td>\n",
              "      <td>0</td>\n",
              "      <td>1</td>\n",
              "      <td>S-DEC</td>\n",
              "    </tr>\n",
              "  </tbody>\n",
              "</table>\n",
              "</div>"
            ],
            "text/plain": [
              "      Fighter 0 KD  Fighter 1 KD  ...  Winner  Method\n",
              "2520             0             0  ...       1   S-DEC\n",
              "\n",
              "[1 rows x 34 columns]"
            ]
          },
          "metadata": {
            "tags": []
          },
          "execution_count": 1410
        }
      ]
    },
    {
      "cell_type": "code",
      "metadata": {
        "colab": {
          "base_uri": "https://localhost:8080/",
          "height": 160
        },
        "id": "c4g8g3OFRxWe",
        "outputId": "08aa91f9-603b-42cb-d326-9c83959e97dc"
      },
      "source": [
        "X_test_new_normal"
      ],
      "execution_count": 1411,
      "outputs": [
        {
          "output_type": "execute_result",
          "data": {
            "text/html": [
              "<div>\n",
              "<style scoped>\n",
              "    .dataframe tbody tr th:only-of-type {\n",
              "        vertical-align: middle;\n",
              "    }\n",
              "\n",
              "    .dataframe tbody tr th {\n",
              "        vertical-align: top;\n",
              "    }\n",
              "\n",
              "    .dataframe thead th {\n",
              "        text-align: right;\n",
              "    }\n",
              "</style>\n",
              "<table border=\"1\" class=\"dataframe\">\n",
              "  <thead>\n",
              "    <tr style=\"text-align: right;\">\n",
              "      <th></th>\n",
              "      <th>Fighter 0 KD</th>\n",
              "      <th>Fighter 0 Sig. str.</th>\n",
              "      <th>Fighter 0 Sig. str. %</th>\n",
              "      <th>Fighter 0 Total str.</th>\n",
              "      <th>Fighter 0 Td</th>\n",
              "      <th>Fighter 0 Td %</th>\n",
              "      <th>Fighter 0 Sub. att</th>\n",
              "      <th>Fighter 0 Rev.</th>\n",
              "      <th>Fighter 0 Ctrl</th>\n",
              "      <th>Fighter 0 Head</th>\n",
              "      <th>Fighter 0 Body</th>\n",
              "      <th>Fighter 0 Leg</th>\n",
              "      <th>Fighter 0 Distance</th>\n",
              "      <th>Fighter 0 Clinch</th>\n",
              "      <th>Fighter 0 Ground</th>\n",
              "      <th>Fighter 1 KD</th>\n",
              "      <th>Fighter 1 Sig. str.</th>\n",
              "      <th>Fighter 1 Sig. str. %</th>\n",
              "      <th>Fighter 1 Total str.</th>\n",
              "      <th>Fighter 1 Td</th>\n",
              "      <th>Fighter 1 Td %</th>\n",
              "      <th>Fighter 1 Sub. att</th>\n",
              "      <th>Fighter 1 Rev.</th>\n",
              "      <th>Fighter 1 Ctrl</th>\n",
              "      <th>Fighter 1 Head</th>\n",
              "      <th>Fighter 1 Body</th>\n",
              "      <th>Fighter 1 Leg</th>\n",
              "      <th>Fighter 1 Distance</th>\n",
              "      <th>Fighter 1 Clinch</th>\n",
              "      <th>Fighter 1 Ground</th>\n",
              "    </tr>\n",
              "  </thead>\n",
              "  <tbody>\n",
              "    <tr>\n",
              "      <th>2520</th>\n",
              "      <td>-0.297601</td>\n",
              "      <td>1.974291</td>\n",
              "      <td>-1.309962</td>\n",
              "      <td>1.337119</td>\n",
              "      <td>-0.270446</td>\n",
              "      <td>-0.527104</td>\n",
              "      <td>-0.446372</td>\n",
              "      <td>-0.387715</td>\n",
              "      <td>-0.607473</td>\n",
              "      <td>1.540485</td>\n",
              "      <td>1.309876</td>\n",
              "      <td>1.628677</td>\n",
              "      <td>2.282812</td>\n",
              "      <td>-0.158238</td>\n",
              "      <td>-0.506837</td>\n",
              "      <td>-0.297601</td>\n",
              "      <td>2.073129</td>\n",
              "      <td>-0.442705</td>\n",
              "      <td>1.138032</td>\n",
              "      <td>1.193507</td>\n",
              "      <td>0.194675</td>\n",
              "      <td>-0.446372</td>\n",
              "      <td>-0.387715</td>\n",
              "      <td>-0.796155</td>\n",
              "      <td>3.046853</td>\n",
              "      <td>-0.149087</td>\n",
              "      <td>-0.280022</td>\n",
              "      <td>2.455486</td>\n",
              "      <td>-0.271707</td>\n",
              "      <td>-0.612816</td>\n",
              "    </tr>\n",
              "    <tr>\n",
              "      <th>2520</th>\n",
              "      <td>-0.297601</td>\n",
              "      <td>2.073129</td>\n",
              "      <td>-0.442705</td>\n",
              "      <td>1.138032</td>\n",
              "      <td>1.193507</td>\n",
              "      <td>0.194675</td>\n",
              "      <td>-0.446372</td>\n",
              "      <td>-0.387715</td>\n",
              "      <td>-0.796155</td>\n",
              "      <td>3.046853</td>\n",
              "      <td>-0.149087</td>\n",
              "      <td>-0.280022</td>\n",
              "      <td>2.455486</td>\n",
              "      <td>-0.271707</td>\n",
              "      <td>-0.612816</td>\n",
              "      <td>-0.297601</td>\n",
              "      <td>1.974291</td>\n",
              "      <td>-1.309962</td>\n",
              "      <td>1.337119</td>\n",
              "      <td>-0.270446</td>\n",
              "      <td>-0.527104</td>\n",
              "      <td>-0.446372</td>\n",
              "      <td>-0.387715</td>\n",
              "      <td>-0.607473</td>\n",
              "      <td>1.540485</td>\n",
              "      <td>1.309876</td>\n",
              "      <td>1.628677</td>\n",
              "      <td>2.282812</td>\n",
              "      <td>-0.158238</td>\n",
              "      <td>-0.506837</td>\n",
              "    </tr>\n",
              "  </tbody>\n",
              "</table>\n",
              "</div>"
            ],
            "text/plain": [
              "      Fighter 0 KD  Fighter 0 Sig. str.  ...  Fighter 1 Clinch  Fighter 1 Ground\n",
              "2520     -0.297601             1.974291  ...         -0.271707         -0.612816\n",
              "2520     -0.297601             2.073129  ...         -0.158238         -0.506837\n",
              "\n",
              "[2 rows x 30 columns]"
            ]
          },
          "metadata": {
            "tags": []
          },
          "execution_count": 1411
        }
      ]
    },
    {
      "cell_type": "code",
      "metadata": {
        "colab": {
          "base_uri": "https://localhost:8080/"
        },
        "id": "zHa31HYgOSRn",
        "outputId": "82391cd0-1dd2-4f7a-932a-316b9c4d0965"
      },
      "source": [
        "# \n",
        "columns = list(X_test_new_normal.columns)\n",
        "new_columns = columns[len(columns)//2:] + columns[:len(columns)//2]\n",
        "switcheroo = X_test_new_normal[new_columns]\n",
        "fighter1_score.predict(switcheroo[lo:hi])"
      ],
      "execution_count": 1412,
      "outputs": [
        {
          "output_type": "execute_result",
          "data": {
            "text/plain": [
              "array([[3.5869355]], dtype=float32)"
            ]
          },
          "metadata": {
            "tags": []
          },
          "execution_count": 1412
        }
      ]
    },
    {
      "cell_type": "code",
      "metadata": {
        "colab": {
          "base_uri": "https://localhost:8080/"
        },
        "id": "_OvDdtBjOSRn",
        "outputId": "0b1a9fe1-8c3d-4f11-8681-12a41dacc02d"
      },
      "source": [
        "fighter0_score.predict(switcheroo[lo:hi])"
      ],
      "execution_count": 1413,
      "outputs": [
        {
          "output_type": "execute_result",
          "data": {
            "text/plain": [
              "array([[4.576473]], dtype=float32)"
            ]
          },
          "metadata": {
            "tags": []
          },
          "execution_count": 1413
        }
      ]
    },
    {
      "cell_type": "code",
      "metadata": {
        "colab": {
          "base_uri": "https://localhost:8080/"
        },
        "id": "975q2avhOSRn",
        "outputId": "8af5f3d7-fe8d-4122-ed94-845ef081a4fa"
      },
      "source": [
        "subtracter.predict(switcheroo[lo:hi])"
      ],
      "execution_count": 1414,
      "outputs": [
        {
          "output_type": "execute_result",
          "data": {
            "text/plain": [
              "array([[-0.9895377]], dtype=float32)"
            ]
          },
          "metadata": {
            "tags": []
          },
          "execution_count": 1414
        }
      ]
    },
    {
      "cell_type": "code",
      "metadata": {
        "colab": {
          "base_uri": "https://localhost:8080/"
        },
        "id": "uci1y0klSyUk",
        "outputId": "6c8e59e6-f0d2-4e7d-dc81-6a24b85433c7"
      },
      "source": [
        "comparison_model.predict(switcheroo[lo:hi])"
      ],
      "execution_count": 1415,
      "outputs": [
        {
          "output_type": "execute_result",
          "data": {
            "text/plain": [
              "array([[0.2710034]], dtype=float32)"
            ]
          },
          "metadata": {
            "tags": []
          },
          "execution_count": 1415
        }
      ]
    },
    {
      "cell_type": "code",
      "metadata": {
        "colab": {
          "base_uri": "https://localhost:8080/"
        },
        "id": "_daq4cdDS2Fw",
        "outputId": "937ca339-8345-4834-cc7c-0b982ca8ff40"
      },
      "source": [
        "deep_model.predict(X_test_new_normal[1:10])"
      ],
      "execution_count": 1416,
      "outputs": [
        {
          "output_type": "execute_result",
          "data": {
            "text/plain": [
              "array([[0.09779119]], dtype=float32)"
            ]
          },
          "metadata": {
            "tags": []
          },
          "execution_count": 1416
        }
      ]
    },
    {
      "cell_type": "code",
      "metadata": {
        "colab": {
          "base_uri": "https://localhost:8080/"
        },
        "id": "QjNmdPPhS-TB",
        "outputId": "122c68de-57b9-446b-bd24-bd6914e7b0cb"
      },
      "source": [
        "deep_model.predict(switcheroo[1:10])"
      ],
      "execution_count": 1417,
      "outputs": [
        {
          "output_type": "execute_result",
          "data": {
            "text/plain": [
              "array([[0.07187624]], dtype=float32)"
            ]
          },
          "metadata": {
            "tags": []
          },
          "execution_count": 1417
        }
      ]
    },
    {
      "cell_type": "code",
      "metadata": {
        "id": "SI88RDxQS_7I"
      },
      "source": [
        ""
      ],
      "execution_count": 1417,
      "outputs": []
    }
  ]
}